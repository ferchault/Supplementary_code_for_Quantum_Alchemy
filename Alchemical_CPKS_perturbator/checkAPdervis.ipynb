{
 "cells": [
  {
   "cell_type": "code",
   "execution_count": 3,
   "id": "c47dd94f",
   "metadata": {},
   "outputs": [],
   "source": [
    "from pyscf import scf,gto\n",
    "import numpy as np\n",
    "import matplotlib.pyplot as plt\n",
    "from FcMole import *\n",
    "from AP_utils import DeltaV\n",
    "from numpy.linalg import norm\n",
    "from AP_class import APDFT_perturbator as AP"
   ]
  },
  {
   "cell_type": "code",
   "execution_count": 28,
   "id": "5f304a58",
   "metadata": {},
   "outputs": [
    {
     "name": "stdout",
     "output_type": "stream",
     "text": [
      "converged SCF energy = -111.621701280108\n"
     ]
    }
   ],
   "source": [
    "CO=gto.M(atom=\"C 0 0 0; O 0 0 2 \",unit=\"Bohr\")\n",
    "mf=scf.RKS(CO)\n",
    "mf.xc=\"PBE0\"\n",
    "e0=mf.scf()\n",
    "P0=mf.make_rdm1()\n",
    "C0=mf.mo_coeff"
   ]
  },
  {
   "cell_type": "code",
   "execution_count": 74,
   "id": "2c4f8384",
   "metadata": {},
   "outputs": [
    {
     "name": "stdout",
     "output_type": "stream",
     "text": [
      "converged SCF energy = -111.913485663543\n"
     ]
    }
   ],
   "source": [
    "CO1=FcM_like(CO,fcs=[.02,0])\n",
    "mf1=scf.RKS(CO1)\n",
    "mf1.xc=\"PBE0\"\n",
    "e1=mf1.scf(dm0=P0)\n",
    "P1=mf1.make_rdm1()\n",
    "C1=mf1.mo_coeff"
   ]
  },
  {
   "cell_type": "code",
   "execution_count": 75,
   "id": "2f5a58b9",
   "metadata": {},
   "outputs": [
    {
     "name": "stdout",
     "output_type": "stream",
     "text": [
      "converged SCF energy = -111.330024535233\n"
     ]
    }
   ],
   "source": [
    "CO2=FcM_like(CO,fcs=[-.02,0])\n",
    "mf2=scf.RKS(CO2)\n",
    "mf2.xc=\"PBE0\"\n",
    "e2=mf2.scf(dm0=P0)\n",
    "P2=mf2.make_rdm1()\n",
    "C2=mf2.mo_coeff"
   ]
  },
  {
   "cell_type": "code",
   "execution_count": 76,
   "id": "32f4df39",
   "metadata": {},
   "outputs": [
    {
     "name": "stdout",
     "output_type": "stream",
     "text": [
      "converged SCF energy = -111.767580044589\n",
      "converged SCF energy = -111.475849424879\n"
     ]
    }
   ],
   "source": [
    "CO3=FcM_like(CO,fcs=[.01,0])\n",
    "mf3=scf.RKS(CO3)\n",
    "mf3.xc=\"PBE0\"\n",
    "e3=mf3.scf(dm0=P0)\n",
    "P3=mf3.make_rdm1()\n",
    "C3=mf3.mo_coeff\n",
    "\n",
    "CO4=FcM_like(CO,fcs=[-.01,0])\n",
    "mf4=scf.RKS(CO4)\n",
    "mf4.xc=\"PBE0\"\n",
    "e4=mf4.scf(dm0=P0)\n",
    "P4=mf4.make_rdm1()\n",
    "C4=mf4.mo_coeff"
   ]
  },
  {
   "cell_type": "code",
   "execution_count": 72,
   "id": "7709b82b",
   "metadata": {},
   "outputs": [],
   "source": [
    "ap=AP(mf,sites=[0])\n",
    "ap.build_all()"
   ]
  },
  {
   "cell_type": "code",
   "execution_count": 78,
   "id": "390e82f8",
   "metadata": {},
   "outputs": [
    {
     "name": "stdout",
     "output_type": "stream",
     "text": [
      "1st deriv =  -14.586530985511104 -14.586531451124785\n",
      "2nd deriv =  -0.26909121970675187 -0.2690911142622099\n",
      "3rd deriv =  0.055555418043695674 0.054548717542957086\n"
     ]
    }
   ],
   "source": [
    "print(\"1st deriv = \",(e3-e4)/.02,(ap.APDFT1([.02])-ap.APDFT1([.0]))/.02)\n",
    "print(\"2nd deriv = \",(-e1-e2+16*e3+16*e4-30*e0)/.01**2/12,(ap.APDFT2([.01])-ap.APDFT1([.01]))/.01**2*2)\n",
    "\n",
    "print(\"3rd deriv = \",(e1-e2+2*e4-2*e3)/2/.01**3 ,(ap.APDFT3([.02])-ap.APDFT2([.02]))*6/.02**3)"
   ]
  },
  {
   "cell_type": "code",
   "execution_count": null,
   "id": "637a207b",
   "metadata": {},
   "outputs": [],
   "source": []
  },
  {
   "cell_type": "code",
   "execution_count": 50,
   "id": "b84e9482",
   "metadata": {},
   "outputs": [],
   "source": []
  },
  {
   "cell_type": "code",
   "execution_count": 51,
   "id": "ef669ce5",
   "metadata": {},
   "outputs": [],
   "source": []
  },
  {
   "cell_type": "code",
   "execution_count": 52,
   "id": "835dcbbe",
   "metadata": {},
   "outputs": [
    {
     "data": {
      "text/plain": [
       "0.054548717542957086"
      ]
     },
     "execution_count": 52,
     "metadata": {},
     "output_type": "execute_result"
    }
   ],
   "source": [
    "(ap.APDFT3([.02])-ap.APDFT2([.02]))*6/.02**3"
   ]
  },
  {
   "cell_type": "code",
   "execution_count": 53,
   "id": "dbfa6145",
   "metadata": {},
   "outputs": [
    {
     "data": {
      "text/plain": [
       "-14.586531451124785"
      ]
     },
     "execution_count": 53,
     "metadata": {},
     "output_type": "execute_result"
    }
   ],
   "source": [
    "(ap.APDFT1([.02])-ap.APDFT1([.0]))/.02"
   ]
  },
  {
   "cell_type": "code",
   "execution_count": null,
   "id": "5b5d1eae",
   "metadata": {},
   "outputs": [],
   "source": []
  }
 ],
 "metadata": {
  "kernelspec": {
   "display_name": "Python 3 (ipykernel)",
   "language": "python",
   "name": "python3"
  },
  "language_info": {
   "codemirror_mode": {
    "name": "ipython",
    "version": 3
   },
   "file_extension": ".py",
   "mimetype": "text/x-python",
   "name": "python",
   "nbconvert_exporter": "python",
   "pygments_lexer": "ipython3",
   "version": "3.8.13"
  }
 },
 "nbformat": 4,
 "nbformat_minor": 5
}
