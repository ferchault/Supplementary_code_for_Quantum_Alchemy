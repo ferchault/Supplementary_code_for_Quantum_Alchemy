{
 "cells": [
  {
   "cell_type": "code",
   "execution_count": 1,
   "id": "b3df2367",
   "metadata": {},
   "outputs": [],
   "source": [
    "from pyscf import gto,scf\n",
    "import numpy as np\n",
    "import matplotlib.pyplot as plt\n",
    "from FcMole import *"
   ]
  },
  {
   "cell_type": "code",
   "execution_count": 2,
   "id": "4585547d",
   "metadata": {},
   "outputs": [],
   "source": [
    "CO=gto.M(atom=\"C 0 0 0; O 0 0 2 \",unit=\"Bohr\", basis=\"sto-3g\")"
   ]
  },
  {
   "cell_type": "code",
   "execution_count": 3,
   "id": "f8e47ad0",
   "metadata": {},
   "outputs": [
    {
     "name": "stdout",
     "output_type": "stream",
     "text": [
      "converged SCF energy = -111.621701280109\n",
      "CPU times: user 7.21 s, sys: 19.7 ms, total: 7.23 s\n",
      "Wall time: 294 ms\n"
     ]
    },
    {
     "data": {
      "text/plain": [
       "-111.6217012801086"
      ]
     },
     "execution_count": 3,
     "metadata": {},
     "output_type": "execute_result"
    }
   ],
   "source": [
    "%%time\n",
    "mf=scf.RKS(CO)\n",
    "mf.xc=\"PBE0\"\n",
    "mf.scf()"
   ]
  },
  {
   "cell_type": "code",
   "execution_count": 4,
   "id": "f5cf4f1d",
   "metadata": {},
   "outputs": [],
   "source": [
    "#CO1=FcM_like(CO,fcs=[.01,0])\n",
    "#mf1=scf.RKS(CO1)\n",
    "#mf1.xc=\"PBE0\"\n",
    "#mf1.scf(dm0=P0)\n",
    "#P1=mf1.make_rdm1()"
   ]
  },
  {
   "cell_type": "code",
   "execution_count": 5,
   "id": "15760318",
   "metadata": {},
   "outputs": [
    {
     "name": "stdout",
     "output_type": "stream",
     "text": [
      "converged SCF energy = -111.199724042755\n"
     ]
    },
    {
     "data": {
      "text/plain": [
       "{'e1': -199.51023958281112, 'e2': 64.31051554005657, 'nuc': 24.0}"
      ]
     },
     "execution_count": 5,
     "metadata": {},
     "output_type": "execute_result"
    }
   ],
   "source": [
    "mf_hf=scf.RHF(CO)\n",
    "mf_hf.scf()\n",
    "mf_hf.scf_summary"
   ]
  },
  {
   "cell_type": "code",
   "execution_count": 6,
   "id": "4388e293",
   "metadata": {},
   "outputs": [
    {
     "data": {
      "text/plain": [
       "-111.6217012801086"
      ]
     },
     "execution_count": 6,
     "metadata": {},
     "output_type": "execute_result"
    }
   ],
   "source": [
    "mf.e_tot"
   ]
  },
  {
   "cell_type": "code",
   "execution_count": 7,
   "id": "dd4bccf4",
   "metadata": {},
   "outputs": [
    {
     "name": "stdout",
     "output_type": "stream",
     "text": [
      "['DIIS', '__call__', '__class__', '__delattr__', '__dict__', '__dir__', '__doc__', '__eq__', '__format__', '__ge__', '__getattribute__', '__gt__', '__hash__', '__init__', '__init_subclass__', '__le__', '__lt__', '__module__', '__ne__', '__new__', '__reduce__', '__reduce_ex__', '__repr__', '__setattr__', '__sizeof__', '__str__', '__subclasshook__', '__weakref__', '_chkfile', '_eigh', '_eri', '_finalize', '_is_mem_enough', '_keys', '_method_name', '_numint', '_t0', '_w0', 'add_keys', 'analyze', 'apply', 'as_scanner', 'build', 'callback', 'canonicalize', 'check_convergence', 'check_sanity', 'chkfile', 'conv_check', 'conv_tol', 'conv_tol_grad', 'converged', 'convert_from_', 'damp', 'damp_factor', 'define_xc_', 'density_fit', 'diis', 'diis_file', 'diis_space', 'diis_space_rollback', 'diis_start_cycle', 'dip_moment', 'direct_scf', 'direct_scf_tol', 'dump_chk', 'dump_flags', 'dump_scf_summary', 'e_tot', 'eig', 'energy_elec', 'energy_nuc', 'energy_tot', 'from_chk', 'get_fock', 'get_grad', 'get_hcore', 'get_init_guess', 'get_j', 'get_jk', 'get_k', 'get_occ', 'get_ovlp', 'get_veff', 'get_vsap', 'grids', 'hf_energy', 'init_direct_scf', 'init_guess', 'init_guess_by_1e', 'init_guess_by_atom', 'init_guess_by_chkfile', 'init_guess_by_huckel', 'init_guess_by_minao', 'init_guess_by_vsap', 'initialize_grids', 'kernel', 'level_shift', 'level_shift_factor', 'make_rdm1', 'make_rdm2', 'max_cycle', 'max_memory', 'mo_coeff', 'mo_energy', 'mo_occ', 'mol', 'mulliken_meta', 'mulliken_pop', 'mulliken_pop_meta_lowdin_ao', 'newton', 'nlc', 'nlcgrids', 'nuc_grad_method', 'omega', 'opt', 'pop', 'post_kernel', 'pre_kernel', 'remove_soscf', 'reset', 'run', 'scf', 'scf_summary', 'set', 'sfx2c1e', 'small_rho_cutoff', 'spin_square', 'stability', 'stdout', 'to_ghf', 'to_gks', 'to_hf', 'to_ks', 'to_rhf', 'to_rks', 'to_uhf', 'to_uks', 'update', 'update_', 'update_from_chk', 'update_from_chk_', 'verbose', 'view', 'x2c', 'x2c1e', 'xc']\n"
     ]
    },
    {
     "data": {
      "text/plain": [
       "(None,\n",
       " {'mol': <pyscf.gto.mole.Mole at 0x7fb7bc1168b0>,\n",
       "  'verbose': 3,\n",
       "  'max_memory': 4000,\n",
       "  'stdout': <ipykernel.iostream.OutStream at 0x7fb7f5cde580>,\n",
       "  '_chkfile': <tempfile._TemporaryFileWrapper at 0x7fb7bc1167f0>,\n",
       "  'chkfile': '/home/giorgio/Supplementary_code_for_Quantum_Alchemy/Alchemical_CPKS_perturbator/tmpvwru4mnr',\n",
       "  'mo_energy': array([-19.15794687, -10.09719678,  -1.21351233,  -0.49859649,\n",
       "          -0.45243652,  -0.45243652,  -0.27942261,   0.12969976,\n",
       "           0.12969976,   0.86796355]),\n",
       "  'mo_coeff': array([[ 3.34634493e-04,  9.92063614e-01, -1.42141926e-01,\n",
       "           1.53812336e-01,  5.80421045e-16,  9.65074128e-16,\n",
       "          -1.80129820e-01,  1.83625554e-16,  1.60880577e-17,\n",
       "          -1.12960540e-01],\n",
       "         [-1.25844621e-02,  3.31551665e-02,  2.19844148e-01,\n",
       "          -4.67854881e-01, -1.84822775e-15, -2.94934511e-15,\n",
       "           8.31622896e-01, -1.10421376e-15, -7.68432163e-17,\n",
       "           1.12054602e+00],\n",
       "         [-3.98079234e-17,  1.36296003e-18,  3.97414681e-17,\n",
       "          -1.63910561e-15,  4.57984222e-01,  5.92021918e-02,\n",
       "           4.90859521e-17, -2.52578608e-01,  9.01165211e-01,\n",
       "           1.50327549e-16],\n",
       "         [ 1.00659057e-16, -1.99786225e-18, -4.86581476e-16,\n",
       "          -3.82101942e-15, -5.92021918e-02,  4.57984222e-01,\n",
       "          -1.19965490e-16,  9.01165211e-01,  2.52578608e-01,\n",
       "           6.27904416e-16],\n",
       "         [-1.01995697e-02,  9.26870624e-03,  1.80067433e-01,\n",
       "          -8.61417390e-02,  5.91259050e-16, -1.23195686e-15,\n",
       "          -5.37643490e-01, -1.36241206e-16, -3.26764971e-16,\n",
       "           1.34463535e+00],\n",
       "         [ 9.93315630e-01, -3.27648634e-04, -2.20415217e-01,\n",
       "          -1.42047047e-01, -2.96418342e-16, -1.09862355e-15,\n",
       "           9.03848093e-03, -6.35456364e-17, -1.59559570e-17,\n",
       "           1.33657897e-01],\n",
       "         [ 3.36860029e-02, -1.01670382e-02,  7.34402366e-01,\n",
       "           6.92816184e-01,  1.40770959e-15,  5.82821336e-15,\n",
       "          -1.37824978e-02,  9.31594172e-16,  3.12112025e-16,\n",
       "          -1.27889954e+00],\n",
       "         [-2.30248351e-18, -4.59321422e-19, -6.29295949e-17,\n",
       "          -2.63565536e-15,  7.58344194e-01,  9.80287885e-02,\n",
       "           9.70826799e-16,  1.91681952e-01, -6.83894442e-01,\n",
       "          -1.03172151e-16],\n",
       "         [-1.45447442e-18, -1.22443065e-19, -2.19176062e-16,\n",
       "          -5.25179521e-15, -9.80287885e-02,  7.58344194e-01,\n",
       "          -1.23245467e-15, -6.83894442e-01, -1.91681952e-01,\n",
       "          -1.01736562e-16],\n",
       "         [-9.15831603e-03,  9.99881414e-04, -2.80076952e-01,\n",
       "           6.54224373e-01,  1.55649329e-15,  4.94982021e-15,\n",
       "           4.10296278e-01, -5.27071482e-16,  1.43121041e-16,\n",
       "           1.01863909e+00]]),\n",
       "  'mo_occ': array([2., 2., 2., 2., 2., 2., 2., 0., 0., 0.]),\n",
       "  'e_tot': -111.6217012801086,\n",
       "  'converged': True,\n",
       "  'callback': None,\n",
       "  'scf_summary': {'e1': -199.41622941625047,\n",
       "   'coul': 77.70084988123743,\n",
       "   'exc': -13.90632174509555,\n",
       "   'nuc': 24.0},\n",
       "  'opt': None,\n",
       "  '_eri': array([3.54194813, 0.57692129, 0.11188812, ..., 0.        , 0.        ,\n",
       "         0.88015909]),\n",
       "  '_keys': {'DIIS',\n",
       "   '_chkfile',\n",
       "   '_eri',\n",
       "   'callback',\n",
       "   'chkfile',\n",
       "   'conv_check',\n",
       "   'conv_tol',\n",
       "   'conv_tol_grad',\n",
       "   'converged',\n",
       "   'damp',\n",
       "   'diis',\n",
       "   'diis_file',\n",
       "   'diis_space',\n",
       "   'diis_space_rollback',\n",
       "   'diis_start_cycle',\n",
       "   'direct_scf',\n",
       "   'direct_scf_tol',\n",
       "   'e_tot',\n",
       "   'grids',\n",
       "   'init_guess',\n",
       "   'level_shift',\n",
       "   'max_cycle',\n",
       "   'max_memory',\n",
       "   'mo_coeff',\n",
       "   'mo_energy',\n",
       "   'mo_occ',\n",
       "   'mol',\n",
       "   'nlc',\n",
       "   'nlcgrids',\n",
       "   'omega',\n",
       "   'opt',\n",
       "   'scf_summary',\n",
       "   'small_rho_cutoff',\n",
       "   'stdout',\n",
       "   'verbose',\n",
       "   'xc'},\n",
       "  'xc': 'PBE0',\n",
       "  'nlc': '',\n",
       "  'grids': <pyscf.dft.gen_grid.Grids at 0x7fb7bc116fa0>,\n",
       "  'nlcgrids': <pyscf.dft.gen_grid.Grids at 0x7fb7bc0b01f0>,\n",
       "  'small_rho_cutoff': 1e-07,\n",
       "  '_numint': <pyscf.dft.numint.NumInt at 0x7fb7bc0b0220>,\n",
       "  '_t0': 8.05610062,\n",
       "  '_w0': 13042.807707855})"
      ]
     },
     "execution_count": 7,
     "metadata": {},
     "output_type": "execute_result"
    }
   ],
   "source": [
    "print(dir(mf)),vars(mf)"
   ]
  },
  {
   "cell_type": "code",
   "execution_count": 8,
   "id": "9fc8bb77",
   "metadata": {},
   "outputs": [
    {
     "data": {
      "text/plain": [
       "{'e1': -199.41622941625047,\n",
       " 'coul': 77.70084988123743,\n",
       " 'exc': -13.90632174509555,\n",
       " 'nuc': 24.0}"
      ]
     },
     "execution_count": 8,
     "metadata": {},
     "output_type": "execute_result"
    }
   ],
   "source": [
    "summary=dict(mf.scf_summary)\n",
    "summary"
   ]
  },
  {
   "cell_type": "code",
   "execution_count": 9,
   "id": "e9b9122f",
   "metadata": {},
   "outputs": [
    {
     "data": {
      "text/plain": [
       "(-111.6217012801086, -111.6217012801086)"
      ]
     },
     "execution_count": 9,
     "metadata": {},
     "output_type": "execute_result"
    }
   ],
   "source": [
    "sum(summary.values()) ,mf.e_tot"
   ]
  },
  {
   "cell_type": "code",
   "execution_count": 10,
   "id": "9c65ff9b",
   "metadata": {},
   "outputs": [
    {
     "data": {
      "text/plain": [
       "(0.0, 0.25, 0.25)"
      ]
     },
     "execution_count": 10,
     "metadata": {},
     "output_type": "execute_result"
    }
   ],
   "source": [
    "ni=mf._numint\n",
    "omega, alpha, hyb = ni.rsh_and_hybrid_coeff(mf.xc, spin=mf.mol.spin)\n",
    "omega, alpha, hyb"
   ]
  },
  {
   "cell_type": "code",
   "execution_count": 11,
   "id": "d6e10453",
   "metadata": {},
   "outputs": [],
   "source": [
    "#P=CC^T\n",
    "C=mf.mo_coeff\n",
    "Pc=2*C[:,:7].dot(C.T[:7,:])\n",
    "P0=mf.make_rdm1()\n"
   ]
  },
  {
   "cell_type": "code",
   "execution_count": 12,
   "id": "1772c2e5",
   "metadata": {},
   "outputs": [
    {
     "data": {
      "text/plain": [
       "array([[0., 0., 0., 0., 0., 0., 0., 0., 0., 0.],\n",
       "       [0., 0., 0., 0., 0., 0., 0., 0., 0., 0.],\n",
       "       [0., 0., 0., 0., 0., 0., 0., 0., 0., 0.],\n",
       "       [0., 0., 0., 0., 0., 0., 0., 0., 0., 0.],\n",
       "       [0., 0., 0., 0., 0., 0., 0., 0., 0., 0.],\n",
       "       [0., 0., 0., 0., 0., 0., 0., 0., 0., 0.],\n",
       "       [0., 0., 0., 0., 0., 0., 0., 0., 0., 0.],\n",
       "       [0., 0., 0., 0., 0., 0., 0., 0., 0., 0.],\n",
       "       [0., 0., 0., 0., 0., 0., 0., 0., 0., 0.],\n",
       "       [0., 0., 0., 0., 0., 0., 0., 0., 0., 0.]])"
      ]
     },
     "execution_count": 12,
     "metadata": {},
     "output_type": "execute_result"
    }
   ],
   "source": [
    "P0-Pc"
   ]
  },
  {
   "cell_type": "code",
   "execution_count": 13,
   "id": "602ffca8",
   "metadata": {},
   "outputs": [],
   "source": [
    "J,K=mf.get_jk()\n",
    "h1=mf.get_hcore()\n",
    "F=mf.get_fock()"
   ]
  },
  {
   "cell_type": "code",
   "execution_count": 14,
   "id": "ca41b33d",
   "metadata": {},
   "outputs": [
    {
     "data": {
      "text/plain": [
       "(-199.41622941625047, -199.41622941625047)"
      ]
     },
     "execution_count": 14,
     "metadata": {},
     "output_type": "execute_result"
    }
   ],
   "source": [
    "summary[\"e1\"],np.einsum(\"ij,ij\",h1,P0)"
   ]
  },
  {
   "cell_type": "code",
   "execution_count": 15,
   "id": "ae20bfc1",
   "metadata": {},
   "outputs": [
    {
     "data": {
      "text/plain": [
       "(77.70084988123743, 77.70084988123745)"
      ]
     },
     "execution_count": 15,
     "metadata": {},
     "output_type": "execute_result"
    }
   ],
   "source": [
    "summary[\"coul\"],np.einsum(\"ij,ij\",J,P0)/2 # it is the HF Coulomb operator "
   ]
  },
  {
   "cell_type": "code",
   "execution_count": 16,
   "id": "7bdcfdb2",
   "metadata": {},
   "outputs": [
    {
     "data": {
      "text/plain": [
       "(-13.90632174509555, -13.481304665613134)"
      ]
     },
     "execution_count": 16,
     "metadata": {},
     "output_type": "execute_result"
    }
   ],
   "source": [
    "summary[\"exc\"],-np.einsum(\"ij,ij\",K,P0)/4"
   ]
  },
  {
   "cell_type": "code",
   "execution_count": 17,
   "id": "168cf70a",
   "metadata": {},
   "outputs": [
    {
     "data": {
      "text/plain": [
       "(77.70084988123745, 77.70084988123743)"
      ]
     },
     "execution_count": 17,
     "metadata": {},
     "output_type": "execute_result"
    }
   ],
   "source": [
    "V_eff=mf.get_veff()\n",
    "np.einsum(\"ij,ij\",V_eff.vj,P0)/2,summary[\"coul\"]#+summary[\"exc\"]"
   ]
  },
  {
   "cell_type": "code",
   "execution_count": 18,
   "id": "ff6ecdb3",
   "metadata": {},
   "outputs": [
    {
     "data": {
      "text/plain": [
       "{'ecoul': 77.70084988123743,\n",
       " 'exc': -13.90632174509555,\n",
       " 'vj': array([[ 1.42929289e+01,  2.91199997e+00, -2.47775082e-17,\n",
       "          3.49966544e-17,  1.14185217e-01,  2.59041906e-04,\n",
       "          7.12136093e-01, -1.40375711e-18,  2.14110950e-18,\n",
       "         -1.17494979e+00],\n",
       "        [ 2.91199997e+00,  7.83772966e+00, -1.41115936e-16,\n",
       "          1.96803090e-16,  1.10445102e+00,  8.18071600e-01,\n",
       "          4.22002654e+00, -4.85997334e-17,  8.62636303e-17,\n",
       "         -3.51062467e+00],\n",
       "        [-2.47775082e-17, -1.41115936e-16,  7.57890600e+00,\n",
       "         -3.16688466e-17,  2.06210956e-17, -1.14974748e-18,\n",
       "         -4.26132132e-17,  2.38922158e+00,  7.23586957e-18,\n",
       "          4.68721536e-17],\n",
       "        [ 3.49966544e-17,  1.96803090e-16, -3.16688466e-17,\n",
       "          7.57890600e+00, -1.38801728e-17,  2.53147001e-18,\n",
       "          6.84166956e-17,  7.23586957e-18,  2.38922158e+00,\n",
       "         -6.68827993e-17],\n",
       "        [ 1.14185217e-01,  1.10445102e+00,  2.06210956e-17,\n",
       "         -1.38801728e-17,  8.33570358e+00,  1.40677875e+00,\n",
       "          5.07687161e+00, -5.73515156e-17,  1.08203650e-16,\n",
       "         -3.29711317e+00],\n",
       "        [ 2.59041906e-04,  8.18071600e-01, -1.14974748e-18,\n",
       "          2.53147001e-18,  1.40677875e+00,  1.90084748e+01,\n",
       "          3.66429580e+00, -1.78279849e-17,  4.98870355e-17,\n",
       "         -5.03511414e-02],\n",
       "        [ 7.12136093e-01,  4.22002654e+00, -4.26132132e-17,\n",
       "          6.84166956e-17,  5.07687161e+00,  3.66429580e+00,\n",
       "          9.85319831e+00, -9.90891004e-17,  2.26063481e-16,\n",
       "         -6.29502386e-01],\n",
       "        [-1.40375711e-18, -4.85997334e-17,  2.38922158e+00,\n",
       "          7.23586957e-18, -5.73515156e-17, -1.78279849e-17,\n",
       "         -9.90891004e-17,  9.72325328e+00,  8.33653655e-17,\n",
       "          5.48962793e-17],\n",
       "        [ 2.14110950e-18,  8.62636303e-17,  7.23586957e-18,\n",
       "          2.38922158e+00,  1.08203650e-16,  4.98870355e-17,\n",
       "          2.26063481e-16,  8.33653655e-17,  9.72325328e+00,\n",
       "         -3.83567879e-17],\n",
       "        [-1.17494979e+00, -3.51062467e+00,  4.68721536e-17,\n",
       "         -6.68827993e-17, -3.29711317e+00, -5.03511414e-02,\n",
       "         -6.29502386e-01,  5.48962793e-17, -3.83567879e-17,\n",
       "          1.00863213e+01]]),\n",
       " 'vk': array([[ 1.80179680e+00,  3.08138989e-01, -6.13601503e-20,\n",
       "          4.35015081e-19,  4.67633055e-03,  3.51762312e-04,\n",
       "          7.77347113e-02, -3.08058058e-19,  2.10312738e-18,\n",
       "         -1.25407259e-01],\n",
       "        [ 3.08138989e-01,  4.66081990e-01, -7.70876428e-17,\n",
       "          7.78659695e-17,  4.27384962e-02,  9.58346976e-02,\n",
       "          2.89671758e-01, -1.82932817e-17, -1.48024144e-17,\n",
       "         -2.16776109e-01],\n",
       "        [-6.13601503e-20, -7.70876428e-17,  2.34708382e-01,\n",
       "         -8.90852131e-17,  7.40123657e-17, -3.79902504e-18,\n",
       "         -1.99073209e-17,  1.91519707e-01,  2.93805312e-18,\n",
       "          9.26775400e-18],\n",
       "        [ 4.35015081e-19,  7.78659695e-17, -8.90852131e-17,\n",
       "          2.34708382e-01, -9.01024225e-17,  4.27514163e-17,\n",
       "         -3.66531663e-17,  7.70957880e-18,  1.91519707e-01,\n",
       "         -5.81096868e-17],\n",
       "        [ 4.67633055e-03,  4.27384962e-02,  7.40123657e-17,\n",
       "         -9.01024225e-17,  4.33656156e-01,  1.62001870e-01,\n",
       "          3.34520092e-01, -4.63350911e-17,  8.65342099e-17,\n",
       "         -1.86971875e-01],\n",
       "        [ 3.51762312e-04,  9.58346976e-02, -3.79902504e-18,\n",
       "          4.27514163e-17,  1.62001870e-01,  2.44215964e+00,\n",
       "          4.11643364e-01,  8.99063828e-18,  5.90375051e-17,\n",
       "         -3.24584673e-03],\n",
       "        [ 7.77347113e-02,  2.89671758e-01, -1.99073209e-17,\n",
       "         -3.66531663e-17,  3.34520092e-01,  4.11643364e-01,\n",
       "          6.60104957e-01, -5.07926956e-17,  1.10327379e-16,\n",
       "         -1.34189181e-02],\n",
       "        [-3.08058058e-19, -1.82932817e-17,  1.91519707e-01,\n",
       "          7.70957880e-18, -4.63350911e-17,  8.99063828e-18,\n",
       "         -5.07926956e-17,  4.65118255e-01,  1.88866381e-16,\n",
       "          1.00411824e-16],\n",
       "        [ 2.10312738e-18, -1.48024144e-17,  2.93805312e-18,\n",
       "          1.91519707e-01,  8.65342099e-17,  5.90375051e-17,\n",
       "          1.10327379e-16,  1.88866381e-16,  4.65118255e-01,\n",
       "         -6.58771354e-17],\n",
       "        [-1.25407259e-01, -2.16776109e-01,  9.26775400e-18,\n",
       "         -5.81096868e-17, -1.86971875e-01, -3.24584673e-03,\n",
       "         -1.34189181e-02,  1.00411824e-16, -6.58771354e-17,\n",
       "          5.57751651e-01]])}"
      ]
     },
     "execution_count": 18,
     "metadata": {},
     "output_type": "execute_result"
    }
   ],
   "source": [
    "vars(V_eff)"
   ]
  },
  {
   "cell_type": "code",
   "execution_count": 19,
   "id": "d7373e0f",
   "metadata": {},
   "outputs": [
    {
     "data": {
      "text/plain": [
       "(-135.11313705103993, -13.90632174509555, -13.90632174509555)"
      ]
     },
     "execution_count": 19,
     "metadata": {},
     "output_type": "execute_result"
    }
   ],
   "source": [
    "-np.einsum(\"ij,ji\",V_eff,P0),summary[\"exc\"],V_eff.exc"
   ]
  },
  {
   "cell_type": "code",
   "execution_count": 20,
   "id": "348b2acf",
   "metadata": {},
   "outputs": [
    {
     "data": {
      "text/plain": [
       "(-3.3703261664032835,\n",
       " -135.11313705103993,\n",
       " -135.6217012801086,\n",
       " -13.90632174509555)"
      ]
     },
     "execution_count": 20,
     "metadata": {},
     "output_type": "execute_result"
    }
   ],
   "source": [
    "-np.einsum(\"ij,ji\",V_eff.vk,P0)/4,-np.einsum(\"ij,ji\",V_eff,P0), summary[\"e1\"]+summary[\"coul\"]+summary[\"exc\"],summary[\"exc\"]"
   ]
  },
  {
   "cell_type": "code",
   "execution_count": 21,
   "id": "827721b7",
   "metadata": {},
   "outputs": [],
   "source": [
    "ni=mf._numint"
   ]
  },
  {
   "cell_type": "code",
   "execution_count": 22,
   "id": "f45eb146",
   "metadata": {},
   "outputs": [
    {
     "data": {
      "text/plain": [
       "(14.000000148684352,\n",
       " -10.535995578692267,\n",
       " array([[-1.71996375e+00, -2.41057629e-01,  3.90312782e-18,\n",
       "         -1.51788304e-18,  2.70071249e-04, -1.58760958e-05,\n",
       "         -5.83843075e-02,  2.32425841e-18,  2.75116301e-18,\n",
       "          9.65667079e-02],\n",
       "        [-2.41057629e-01, -4.50376033e-01,  1.11035855e-16,\n",
       "         -3.29597460e-17, -3.87927154e-02, -7.12940610e-02,\n",
       "         -2.46664657e-01,  6.69833655e-18, -6.93889390e-18,\n",
       "          1.99171887e-01],\n",
       "        [ 3.90312782e-18,  1.11035855e-16, -4.19073117e-01,\n",
       "          2.25514052e-17, -1.71303943e-17,  3.11708125e-18,\n",
       "         -2.81892565e-18, -1.31797807e-01, -2.82061971e-18,\n",
       "          1.19804340e-17],\n",
       "        [-1.51788304e-18, -3.29597460e-17,  2.25514052e-17,\n",
       "         -4.19073117e-01,  8.45677695e-18,  2.22769665e-18,\n",
       "         -4.87890978e-18, -2.14129929e-18, -1.31797807e-01,\n",
       "          1.96240593e-17],\n",
       "        [ 2.70071249e-04, -3.87927154e-02, -1.71303943e-17,\n",
       "          8.45677695e-18, -5.01561204e-01, -1.23010517e-01,\n",
       "         -3.01330458e-01, -1.66967135e-17, -1.14925430e-17,\n",
       "          1.84391856e-01],\n",
       "        [-1.58760958e-05, -7.12940610e-02,  3.11708125e-18,\n",
       "          2.22769665e-18, -1.23010517e-01, -2.31969942e+00,\n",
       "         -3.14861945e-01,  2.71050543e-18, -2.38524478e-18,\n",
       "         -8.61872183e-04],\n",
       "        [-5.83843075e-02, -2.46664657e-01, -2.81892565e-18,\n",
       "         -4.87890978e-18, -3.01330458e-01, -3.14861945e-01,\n",
       "         -6.14497750e-01,  3.14418630e-17, -3.81639165e-17,\n",
       "          1.50401717e-02],\n",
       "        [ 2.32425841e-18,  6.69833655e-18, -1.31797807e-01,\n",
       "         -2.14129929e-18, -1.66967135e-17,  2.71050543e-18,\n",
       "          3.14418630e-17, -5.99316379e-01, -8.02309608e-18,\n",
       "         -1.09504419e-17],\n",
       "        [ 2.75116301e-18, -6.93889390e-18, -2.82061971e-18,\n",
       "         -1.31797807e-01, -1.14925430e-17, -2.38524478e-18,\n",
       "         -3.81639165e-17, -8.02309608e-18, -5.99316379e-01,\n",
       "          1.32814766e-17],\n",
       "        [ 9.65667079e-02,  1.99171887e-01,  1.19804340e-17,\n",
       "          1.96240593e-17,  1.84391856e-01, -8.61872183e-04,\n",
       "          1.50401717e-02, -1.09504419e-17,  1.32814766e-17,\n",
       "         -6.30201466e-01]]))"
      ]
     },
     "execution_count": 22,
     "metadata": {},
     "output_type": "execute_result"
    }
   ],
   "source": [
    "ks=mf\n",
    "mol=CO\n",
    "dm=P0\n",
    "n, exc, vxc = ni.nr_rks(mol, ks.grids, ks.xc, dm)\n",
    "n, exc, vxc "
   ]
  },
  {
   "cell_type": "code",
   "execution_count": 23,
   "id": "1c4cf5c8",
   "metadata": {},
   "outputs": [
    {
     "data": {
      "text/plain": [
       "-10.160932783971282"
      ]
     },
     "execution_count": 23,
     "metadata": {},
     "output_type": "execute_result"
    }
   ],
   "source": [
    "np.einsum('ij,ji', dm, vxc).real *3/4"
   ]
  },
  {
   "cell_type": "code",
   "execution_count": 24,
   "id": "1f7081b6",
   "metadata": {},
   "outputs": [
    {
     "data": {
      "text/plain": [
       "(-10.535995578692267, -13.90632174509555)"
      ]
     },
     "execution_count": 24,
     "metadata": {},
     "output_type": "execute_result"
    }
   ],
   "source": [
    "exc,exc- np.einsum('ij,ji', dm, V_eff.vk).real * .5 * .5"
   ]
  },
  {
   "cell_type": "code",
   "execution_count": 25,
   "id": "7cc02719",
   "metadata": {},
   "outputs": [
    {
     "data": {
      "text/plain": [
       "(0.0, 0.25, 0.25)"
      ]
     },
     "execution_count": 25,
     "metadata": {},
     "output_type": "execute_result"
    }
   ],
   "source": [
    "omega, alpha, hyb = ni.rsh_and_hybrid_coeff(ks.xc, spin=mol.spin)\n",
    "omega, alpha,hyb"
   ]
  },
  {
   "cell_type": "code",
   "execution_count": 26,
   "id": "84f3d22b",
   "metadata": {},
   "outputs": [
    {
     "data": {
      "text/plain": [
       "True"
      ]
     },
     "execution_count": 26,
     "metadata": {},
     "output_type": "execute_result"
    }
   ],
   "source": [
    "ks.direct_scf"
   ]
  },
  {
   "cell_type": "code",
   "execution_count": 27,
   "id": "325cac74",
   "metadata": {},
   "outputs": [
    {
     "data": {
      "text/plain": [
       "(True, 'GGA')"
      ]
     },
     "execution_count": 27,
     "metadata": {},
     "output_type": "execute_result"
    }
   ],
   "source": [
    "xctype=ni._xc_type(mf.xc)\n",
    "ni.libxc.is_hybrid_xc(ks.xc),ni._xc_type(mf.xc)"
   ]
  },
  {
   "cell_type": "code",
   "execution_count": 28,
   "id": "84e13494",
   "metadata": {},
   "outputs": [
    {
     "data": {
      "text/plain": [
       "(True, True)"
      ]
     },
     "execution_count": 28,
     "metadata": {},
     "output_type": "execute_result"
    }
   ],
   "source": [
    "np.allclose(ks.get_j(CO,P0),mf_hf.get_jk(CO,P0)[0]),np.allclose(ks.get_jk(CO,P0)[1],mf_hf.get_jk(CO,P0)[1])"
   ]
  },
  {
   "cell_type": "code",
   "execution_count": 29,
   "id": "75444f24",
   "metadata": {},
   "outputs": [
    {
     "data": {
      "text/plain": [
       "(<bound method RHF.get_jk of RHF object of <class 'pyscf.scf.hf.RHF'>>,\n",
       " <bound method RHF.get_jk of RKS object of <class 'pyscf.dft.rks.RKS'>>)"
      ]
     },
     "execution_count": 29,
     "metadata": {},
     "output_type": "execute_result"
    }
   ],
   "source": [
    "mf_hf.get_jk,mf.get_jk"
   ]
  },
  {
   "cell_type": "code",
   "execution_count": 30,
   "id": "02ad1227",
   "metadata": {},
   "outputs": [
    {
     "data": {
      "text/plain": [
       "{'mol': <pyscf.gto.mole.Mole at 0x7fb7bc1168b0>,\n",
       " 'stdout': <ipykernel.iostream.OutStream at 0x7fb7f5cde580>,\n",
       " 'verbose': 3,\n",
       " 'symmetry': False,\n",
       " 'coords': array([[-4.46851140e+00, -4.46851140e+00, -2.37126186e+00],\n",
       "        [-4.78551877e+00, -4.78551877e+00, -2.53948510e+00],\n",
       "        [-4.48132694e+00, -4.48132694e+00, -2.48132694e+00],\n",
       "        ...,\n",
       "        [ 1.00000000e+04,  1.00000000e+04,  1.00000000e+04],\n",
       "        [ 1.00000000e+04,  1.00000000e+04,  1.00000000e+04],\n",
       "        [ 1.00000000e+04,  1.00000000e+04,  1.00000000e+04]]),\n",
       " 'weights': array([1.09499036, 1.38921666, 0.01994748, ..., 0.        , 0.        ,\n",
       "        0.        ]),\n",
       " 'non0tab': array([[ 0, 78, 86,  0, 64, 72],\n",
       "        [ 0, 83, 90,  0, 72, 80],\n",
       "        [ 0, 87, 93,  0, 78, 85],\n",
       "        ...,\n",
       "        [ 0, 83, 90,  0, 72, 80],\n",
       "        [ 0, 78, 86,  0, 66, 74],\n",
       "        [ 0, 70, 78,  0, 57, 65]], dtype=uint8),\n",
       " 'screen_index': array([[ 0, 78, 86,  0, 64, 72],\n",
       "        [ 0, 83, 90,  0, 72, 80],\n",
       "        [ 0, 87, 93,  0, 78, 85],\n",
       "        ...,\n",
       "        [ 0, 83, 90,  0, 72, 80],\n",
       "        [ 0, 78, 86,  0, 66, 74],\n",
       "        [ 0, 70, 78,  0, 57, 65]], dtype=uint8),\n",
       " 'atom_grid': {},\n",
       " '_keys': None,\n",
       " 'level': 3}"
      ]
     },
     "execution_count": 30,
     "metadata": {},
     "output_type": "execute_result"
    }
   ],
   "source": [
    "vars(mf.grids)"
   ]
  },
  {
   "cell_type": "code",
   "execution_count": 31,
   "id": "e31bdfa4",
   "metadata": {},
   "outputs": [
    {
     "data": {
      "text/plain": [
       "array([[-4.46851140e+00, -4.78551877e+00, -4.48132694e+00, ...,\n",
       "         1.00000000e+04,  1.00000000e+04,  1.00000000e+04],\n",
       "       [-4.46851140e+00, -4.78551877e+00, -4.48132694e+00, ...,\n",
       "         1.00000000e+04,  1.00000000e+04,  1.00000000e+04],\n",
       "       [-2.37126186e+00, -2.53948510e+00, -2.48132694e+00, ...,\n",
       "         1.00000000e+04,  1.00000000e+04,  1.00000000e+04]])"
      ]
     },
     "execution_count": 31,
     "metadata": {},
     "output_type": "execute_result"
    }
   ],
   "source": [
    "mf.grids.coords.T[:]"
   ]
  },
  {
   "cell_type": "code",
   "execution_count": 32,
   "id": "f9fe323a",
   "metadata": {},
   "outputs": [
    {
     "data": {
      "text/plain": [
       "(array([ 1910,  1911,  1917, ..., 21074, 21079, 21117]),)"
      ]
     },
     "execution_count": 32,
     "metadata": {},
     "output_type": "execute_result"
    }
   ],
   "source": [
    "gv=np.where(np.array([np.linalg.norm(x) for x in mf.grids.coords])<2)\n",
    "gv"
   ]
  },
  {
   "cell_type": "code",
   "execution_count": 33,
   "id": "7cea098e",
   "metadata": {},
   "outputs": [],
   "source": [
    "gcs=mf.grids.coords[gv][::10,:]"
   ]
  },
  {
   "cell_type": "code",
   "execution_count": 34,
   "id": "eeed5f95",
   "metadata": {},
   "outputs": [
    {
     "data": {
      "text/plain": [
       "(23136, (865, 3))"
      ]
     },
     "execution_count": 34,
     "metadata": {},
     "output_type": "execute_result"
    }
   ],
   "source": [
    "len(ks.grids.weights),gcs.shape"
   ]
  },
  {
   "cell_type": "code",
   "execution_count": 35,
   "id": "1de0a002",
   "metadata": {},
   "outputs": [
    {
     "data": {
      "text/plain": [
       "<function pyscf.dft.numint.eval_ao(mol, coords, deriv=0, shls_slice=None, non0tab=None, cutoff=None, out=None, verbose=None)>"
      ]
     },
     "execution_count": 35,
     "metadata": {},
     "output_type": "execute_result"
    }
   ],
   "source": [
    "ni.block_loop(0,ks.grids)\n",
    "ni.eval_ao"
   ]
  },
  {
   "cell_type": "code",
   "execution_count": 36,
   "id": "0226655b",
   "metadata": {},
   "outputs": [
    {
     "data": {
      "text/plain": [
       "array([[ 6.14288519e+00,  2.15554817e-01,  0.00000000e+00,\n",
       "         0.00000000e+00,  0.00000000e+00,  8.20476263e-12,\n",
       "         5.57535838e-02,  0.00000000e+00,  0.00000000e+00,\n",
       "        -9.24775489e-02]])"
      ]
     },
     "execution_count": 36,
     "metadata": {},
     "output_type": "execute_result"
    }
   ],
   "source": [
    "ni.eval_ao(CO,np.array([[0,0,0]]))#.shape"
   ]
  },
  {
   "cell_type": "code",
   "execution_count": 37,
   "id": "68e5ca13",
   "metadata": {},
   "outputs": [],
   "source": [
    "ao_ong=ni.eval_ao(CO,gcs)"
   ]
  },
  {
   "cell_type": "code",
   "execution_count": 38,
   "id": "a22db320",
   "metadata": {},
   "outputs": [
    {
     "data": {
      "text/plain": [
       "array([-4.46851140e+00, -4.78551877e+00, -4.48132694e+00, ...,\n",
       "        1.00000000e+04,  1.00000000e+04,  1.00000000e+04])"
      ]
     },
     "execution_count": 38,
     "metadata": {},
     "output_type": "execute_result"
    }
   ],
   "source": [
    "ks.grids.coords[:,0]"
   ]
  },
  {
   "cell_type": "code",
   "execution_count": 39,
   "id": "8d5d8def",
   "metadata": {},
   "outputs": [],
   "source": [
    "%matplotlib notebook"
   ]
  },
  {
   "cell_type": "code",
   "execution_count": 41,
   "id": "4036fa68",
   "metadata": {},
   "outputs": [
    {
     "data": {
      "application/javascript": [
       "/* Put everything inside the global mpl namespace */\n",
       "/* global mpl */\n",
       "window.mpl = {};\n",
       "\n",
       "mpl.get_websocket_type = function () {\n",
       "    if (typeof WebSocket !== 'undefined') {\n",
       "        return WebSocket;\n",
       "    } else if (typeof MozWebSocket !== 'undefined') {\n",
       "        return MozWebSocket;\n",
       "    } else {\n",
       "        alert(\n",
       "            'Your browser does not have WebSocket support. ' +\n",
       "                'Please try Chrome, Safari or Firefox ≥ 6. ' +\n",
       "                'Firefox 4 and 5 are also supported but you ' +\n",
       "                'have to enable WebSockets in about:config.'\n",
       "        );\n",
       "    }\n",
       "};\n",
       "\n",
       "mpl.figure = function (figure_id, websocket, ondownload, parent_element) {\n",
       "    this.id = figure_id;\n",
       "\n",
       "    this.ws = websocket;\n",
       "\n",
       "    this.supports_binary = this.ws.binaryType !== undefined;\n",
       "\n",
       "    if (!this.supports_binary) {\n",
       "        var warnings = document.getElementById('mpl-warnings');\n",
       "        if (warnings) {\n",
       "            warnings.style.display = 'block';\n",
       "            warnings.textContent =\n",
       "                'This browser does not support binary websocket messages. ' +\n",
       "                'Performance may be slow.';\n",
       "        }\n",
       "    }\n",
       "\n",
       "    this.imageObj = new Image();\n",
       "\n",
       "    this.context = undefined;\n",
       "    this.message = undefined;\n",
       "    this.canvas = undefined;\n",
       "    this.rubberband_canvas = undefined;\n",
       "    this.rubberband_context = undefined;\n",
       "    this.format_dropdown = undefined;\n",
       "\n",
       "    this.image_mode = 'full';\n",
       "\n",
       "    this.root = document.createElement('div');\n",
       "    this.root.setAttribute('style', 'display: inline-block');\n",
       "    this._root_extra_style(this.root);\n",
       "\n",
       "    parent_element.appendChild(this.root);\n",
       "\n",
       "    this._init_header(this);\n",
       "    this._init_canvas(this);\n",
       "    this._init_toolbar(this);\n",
       "\n",
       "    var fig = this;\n",
       "\n",
       "    this.waiting = false;\n",
       "\n",
       "    this.ws.onopen = function () {\n",
       "        fig.send_message('supports_binary', { value: fig.supports_binary });\n",
       "        fig.send_message('send_image_mode', {});\n",
       "        if (fig.ratio !== 1) {\n",
       "            fig.send_message('set_device_pixel_ratio', {\n",
       "                device_pixel_ratio: fig.ratio,\n",
       "            });\n",
       "        }\n",
       "        fig.send_message('refresh', {});\n",
       "    };\n",
       "\n",
       "    this.imageObj.onload = function () {\n",
       "        if (fig.image_mode === 'full') {\n",
       "            // Full images could contain transparency (where diff images\n",
       "            // almost always do), so we need to clear the canvas so that\n",
       "            // there is no ghosting.\n",
       "            fig.context.clearRect(0, 0, fig.canvas.width, fig.canvas.height);\n",
       "        }\n",
       "        fig.context.drawImage(fig.imageObj, 0, 0);\n",
       "    };\n",
       "\n",
       "    this.imageObj.onunload = function () {\n",
       "        fig.ws.close();\n",
       "    };\n",
       "\n",
       "    this.ws.onmessage = this._make_on_message_function(this);\n",
       "\n",
       "    this.ondownload = ondownload;\n",
       "};\n",
       "\n",
       "mpl.figure.prototype._init_header = function () {\n",
       "    var titlebar = document.createElement('div');\n",
       "    titlebar.classList =\n",
       "        'ui-dialog-titlebar ui-widget-header ui-corner-all ui-helper-clearfix';\n",
       "    var titletext = document.createElement('div');\n",
       "    titletext.classList = 'ui-dialog-title';\n",
       "    titletext.setAttribute(\n",
       "        'style',\n",
       "        'width: 100%; text-align: center; padding: 3px;'\n",
       "    );\n",
       "    titlebar.appendChild(titletext);\n",
       "    this.root.appendChild(titlebar);\n",
       "    this.header = titletext;\n",
       "};\n",
       "\n",
       "mpl.figure.prototype._canvas_extra_style = function (_canvas_div) {};\n",
       "\n",
       "mpl.figure.prototype._root_extra_style = function (_canvas_div) {};\n",
       "\n",
       "mpl.figure.prototype._init_canvas = function () {\n",
       "    var fig = this;\n",
       "\n",
       "    var canvas_div = (this.canvas_div = document.createElement('div'));\n",
       "    canvas_div.setAttribute('tabindex', '0');\n",
       "    canvas_div.setAttribute(\n",
       "        'style',\n",
       "        'border: 1px solid #ddd;' +\n",
       "            'box-sizing: content-box;' +\n",
       "            'clear: both;' +\n",
       "            'min-height: 1px;' +\n",
       "            'min-width: 1px;' +\n",
       "            'outline: 0;' +\n",
       "            'overflow: hidden;' +\n",
       "            'position: relative;' +\n",
       "            'resize: both;' +\n",
       "            'z-index: 2;'\n",
       "    );\n",
       "\n",
       "    function on_keyboard_event_closure(name) {\n",
       "        return function (event) {\n",
       "            return fig.key_event(event, name);\n",
       "        };\n",
       "    }\n",
       "\n",
       "    canvas_div.addEventListener(\n",
       "        'keydown',\n",
       "        on_keyboard_event_closure('key_press')\n",
       "    );\n",
       "    canvas_div.addEventListener(\n",
       "        'keyup',\n",
       "        on_keyboard_event_closure('key_release')\n",
       "    );\n",
       "\n",
       "    this._canvas_extra_style(canvas_div);\n",
       "    this.root.appendChild(canvas_div);\n",
       "\n",
       "    var canvas = (this.canvas = document.createElement('canvas'));\n",
       "    canvas.classList.add('mpl-canvas');\n",
       "    canvas.setAttribute(\n",
       "        'style',\n",
       "        'box-sizing: content-box;' +\n",
       "            'pointer-events: none;' +\n",
       "            'position: relative;' +\n",
       "            'z-index: 0;'\n",
       "    );\n",
       "\n",
       "    this.context = canvas.getContext('2d');\n",
       "\n",
       "    var backingStore =\n",
       "        this.context.backingStorePixelRatio ||\n",
       "        this.context.webkitBackingStorePixelRatio ||\n",
       "        this.context.mozBackingStorePixelRatio ||\n",
       "        this.context.msBackingStorePixelRatio ||\n",
       "        this.context.oBackingStorePixelRatio ||\n",
       "        this.context.backingStorePixelRatio ||\n",
       "        1;\n",
       "\n",
       "    this.ratio = (window.devicePixelRatio || 1) / backingStore;\n",
       "\n",
       "    var rubberband_canvas = (this.rubberband_canvas = document.createElement(\n",
       "        'canvas'\n",
       "    ));\n",
       "    rubberband_canvas.setAttribute(\n",
       "        'style',\n",
       "        'box-sizing: content-box;' +\n",
       "            'left: 0;' +\n",
       "            'pointer-events: none;' +\n",
       "            'position: absolute;' +\n",
       "            'top: 0;' +\n",
       "            'z-index: 1;'\n",
       "    );\n",
       "\n",
       "    // Apply a ponyfill if ResizeObserver is not implemented by browser.\n",
       "    if (this.ResizeObserver === undefined) {\n",
       "        if (window.ResizeObserver !== undefined) {\n",
       "            this.ResizeObserver = window.ResizeObserver;\n",
       "        } else {\n",
       "            var obs = _JSXTOOLS_RESIZE_OBSERVER({});\n",
       "            this.ResizeObserver = obs.ResizeObserver;\n",
       "        }\n",
       "    }\n",
       "\n",
       "    this.resizeObserverInstance = new this.ResizeObserver(function (entries) {\n",
       "        var nentries = entries.length;\n",
       "        for (var i = 0; i < nentries; i++) {\n",
       "            var entry = entries[i];\n",
       "            var width, height;\n",
       "            if (entry.contentBoxSize) {\n",
       "                if (entry.contentBoxSize instanceof Array) {\n",
       "                    // Chrome 84 implements new version of spec.\n",
       "                    width = entry.contentBoxSize[0].inlineSize;\n",
       "                    height = entry.contentBoxSize[0].blockSize;\n",
       "                } else {\n",
       "                    // Firefox implements old version of spec.\n",
       "                    width = entry.contentBoxSize.inlineSize;\n",
       "                    height = entry.contentBoxSize.blockSize;\n",
       "                }\n",
       "            } else {\n",
       "                // Chrome <84 implements even older version of spec.\n",
       "                width = entry.contentRect.width;\n",
       "                height = entry.contentRect.height;\n",
       "            }\n",
       "\n",
       "            // Keep the size of the canvas and rubber band canvas in sync with\n",
       "            // the canvas container.\n",
       "            if (entry.devicePixelContentBoxSize) {\n",
       "                // Chrome 84 implements new version of spec.\n",
       "                canvas.setAttribute(\n",
       "                    'width',\n",
       "                    entry.devicePixelContentBoxSize[0].inlineSize\n",
       "                );\n",
       "                canvas.setAttribute(\n",
       "                    'height',\n",
       "                    entry.devicePixelContentBoxSize[0].blockSize\n",
       "                );\n",
       "            } else {\n",
       "                canvas.setAttribute('width', width * fig.ratio);\n",
       "                canvas.setAttribute('height', height * fig.ratio);\n",
       "            }\n",
       "            /* This rescales the canvas back to display pixels, so that it\n",
       "             * appears correct on HiDPI screens. */\n",
       "            canvas.style.width = width + 'px';\n",
       "            canvas.style.height = height + 'px';\n",
       "\n",
       "            rubberband_canvas.setAttribute('width', width);\n",
       "            rubberband_canvas.setAttribute('height', height);\n",
       "\n",
       "            // And update the size in Python. We ignore the initial 0/0 size\n",
       "            // that occurs as the element is placed into the DOM, which should\n",
       "            // otherwise not happen due to the minimum size styling.\n",
       "            if (fig.ws.readyState == 1 && width != 0 && height != 0) {\n",
       "                fig.request_resize(width, height);\n",
       "            }\n",
       "        }\n",
       "    });\n",
       "    this.resizeObserverInstance.observe(canvas_div);\n",
       "\n",
       "    function on_mouse_event_closure(name) {\n",
       "        /* User Agent sniffing is bad, but WebKit is busted:\n",
       "         * https://bugs.webkit.org/show_bug.cgi?id=144526\n",
       "         * https://bugs.webkit.org/show_bug.cgi?id=181818\n",
       "         * The worst that happens here is that they get an extra browser\n",
       "         * selection when dragging, if this check fails to catch them.\n",
       "         */\n",
       "        var UA = navigator.userAgent;\n",
       "        var isWebKit = /AppleWebKit/.test(UA) && !/Chrome/.test(UA);\n",
       "        if(isWebKit) {\n",
       "            return function (event) {\n",
       "                /* This prevents the web browser from automatically changing to\n",
       "                 * the text insertion cursor when the button is pressed. We\n",
       "                 * want to control all of the cursor setting manually through\n",
       "                 * the 'cursor' event from matplotlib */\n",
       "                event.preventDefault()\n",
       "                return fig.mouse_event(event, name);\n",
       "            };\n",
       "        } else {\n",
       "            return function (event) {\n",
       "                return fig.mouse_event(event, name);\n",
       "            };\n",
       "        }\n",
       "    }\n",
       "\n",
       "    canvas_div.addEventListener(\n",
       "        'mousedown',\n",
       "        on_mouse_event_closure('button_press')\n",
       "    );\n",
       "    canvas_div.addEventListener(\n",
       "        'mouseup',\n",
       "        on_mouse_event_closure('button_release')\n",
       "    );\n",
       "    canvas_div.addEventListener(\n",
       "        'dblclick',\n",
       "        on_mouse_event_closure('dblclick')\n",
       "    );\n",
       "    // Throttle sequential mouse events to 1 every 20ms.\n",
       "    canvas_div.addEventListener(\n",
       "        'mousemove',\n",
       "        on_mouse_event_closure('motion_notify')\n",
       "    );\n",
       "\n",
       "    canvas_div.addEventListener(\n",
       "        'mouseenter',\n",
       "        on_mouse_event_closure('figure_enter')\n",
       "    );\n",
       "    canvas_div.addEventListener(\n",
       "        'mouseleave',\n",
       "        on_mouse_event_closure('figure_leave')\n",
       "    );\n",
       "\n",
       "    canvas_div.addEventListener('wheel', function (event) {\n",
       "        if (event.deltaY < 0) {\n",
       "            event.step = 1;\n",
       "        } else {\n",
       "            event.step = -1;\n",
       "        }\n",
       "        on_mouse_event_closure('scroll')(event);\n",
       "    });\n",
       "\n",
       "    canvas_div.appendChild(canvas);\n",
       "    canvas_div.appendChild(rubberband_canvas);\n",
       "\n",
       "    this.rubberband_context = rubberband_canvas.getContext('2d');\n",
       "    this.rubberband_context.strokeStyle = '#000000';\n",
       "\n",
       "    this._resize_canvas = function (width, height, forward) {\n",
       "        if (forward) {\n",
       "            canvas_div.style.width = width + 'px';\n",
       "            canvas_div.style.height = height + 'px';\n",
       "        }\n",
       "    };\n",
       "\n",
       "    // Disable right mouse context menu.\n",
       "    canvas_div.addEventListener('contextmenu', function (_e) {\n",
       "        event.preventDefault();\n",
       "        return false;\n",
       "    });\n",
       "\n",
       "    function set_focus() {\n",
       "        canvas.focus();\n",
       "        canvas_div.focus();\n",
       "    }\n",
       "\n",
       "    window.setTimeout(set_focus, 100);\n",
       "};\n",
       "\n",
       "mpl.figure.prototype._init_toolbar = function () {\n",
       "    var fig = this;\n",
       "\n",
       "    var toolbar = document.createElement('div');\n",
       "    toolbar.classList = 'mpl-toolbar';\n",
       "    this.root.appendChild(toolbar);\n",
       "\n",
       "    function on_click_closure(name) {\n",
       "        return function (_event) {\n",
       "            return fig.toolbar_button_onclick(name);\n",
       "        };\n",
       "    }\n",
       "\n",
       "    function on_mouseover_closure(tooltip) {\n",
       "        return function (event) {\n",
       "            if (!event.currentTarget.disabled) {\n",
       "                return fig.toolbar_button_onmouseover(tooltip);\n",
       "            }\n",
       "        };\n",
       "    }\n",
       "\n",
       "    fig.buttons = {};\n",
       "    var buttonGroup = document.createElement('div');\n",
       "    buttonGroup.classList = 'mpl-button-group';\n",
       "    for (var toolbar_ind in mpl.toolbar_items) {\n",
       "        var name = mpl.toolbar_items[toolbar_ind][0];\n",
       "        var tooltip = mpl.toolbar_items[toolbar_ind][1];\n",
       "        var image = mpl.toolbar_items[toolbar_ind][2];\n",
       "        var method_name = mpl.toolbar_items[toolbar_ind][3];\n",
       "\n",
       "        if (!name) {\n",
       "            /* Instead of a spacer, we start a new button group. */\n",
       "            if (buttonGroup.hasChildNodes()) {\n",
       "                toolbar.appendChild(buttonGroup);\n",
       "            }\n",
       "            buttonGroup = document.createElement('div');\n",
       "            buttonGroup.classList = 'mpl-button-group';\n",
       "            continue;\n",
       "        }\n",
       "\n",
       "        var button = (fig.buttons[name] = document.createElement('button'));\n",
       "        button.classList = 'mpl-widget';\n",
       "        button.setAttribute('role', 'button');\n",
       "        button.setAttribute('aria-disabled', 'false');\n",
       "        button.addEventListener('click', on_click_closure(method_name));\n",
       "        button.addEventListener('mouseover', on_mouseover_closure(tooltip));\n",
       "\n",
       "        var icon_img = document.createElement('img');\n",
       "        icon_img.src = '_images/' + image + '.png';\n",
       "        icon_img.srcset = '_images/' + image + '_large.png 2x';\n",
       "        icon_img.alt = tooltip;\n",
       "        button.appendChild(icon_img);\n",
       "\n",
       "        buttonGroup.appendChild(button);\n",
       "    }\n",
       "\n",
       "    if (buttonGroup.hasChildNodes()) {\n",
       "        toolbar.appendChild(buttonGroup);\n",
       "    }\n",
       "\n",
       "    var fmt_picker = document.createElement('select');\n",
       "    fmt_picker.classList = 'mpl-widget';\n",
       "    toolbar.appendChild(fmt_picker);\n",
       "    this.format_dropdown = fmt_picker;\n",
       "\n",
       "    for (var ind in mpl.extensions) {\n",
       "        var fmt = mpl.extensions[ind];\n",
       "        var option = document.createElement('option');\n",
       "        option.selected = fmt === mpl.default_extension;\n",
       "        option.innerHTML = fmt;\n",
       "        fmt_picker.appendChild(option);\n",
       "    }\n",
       "\n",
       "    var status_bar = document.createElement('span');\n",
       "    status_bar.classList = 'mpl-message';\n",
       "    toolbar.appendChild(status_bar);\n",
       "    this.message = status_bar;\n",
       "};\n",
       "\n",
       "mpl.figure.prototype.request_resize = function (x_pixels, y_pixels) {\n",
       "    // Request matplotlib to resize the figure. Matplotlib will then trigger a resize in the client,\n",
       "    // which will in turn request a refresh of the image.\n",
       "    this.send_message('resize', { width: x_pixels, height: y_pixels });\n",
       "};\n",
       "\n",
       "mpl.figure.prototype.send_message = function (type, properties) {\n",
       "    properties['type'] = type;\n",
       "    properties['figure_id'] = this.id;\n",
       "    this.ws.send(JSON.stringify(properties));\n",
       "};\n",
       "\n",
       "mpl.figure.prototype.send_draw_message = function () {\n",
       "    if (!this.waiting) {\n",
       "        this.waiting = true;\n",
       "        this.ws.send(JSON.stringify({ type: 'draw', figure_id: this.id }));\n",
       "    }\n",
       "};\n",
       "\n",
       "mpl.figure.prototype.handle_save = function (fig, _msg) {\n",
       "    var format_dropdown = fig.format_dropdown;\n",
       "    var format = format_dropdown.options[format_dropdown.selectedIndex].value;\n",
       "    fig.ondownload(fig, format);\n",
       "};\n",
       "\n",
       "mpl.figure.prototype.handle_resize = function (fig, msg) {\n",
       "    var size = msg['size'];\n",
       "    if (size[0] !== fig.canvas.width || size[1] !== fig.canvas.height) {\n",
       "        fig._resize_canvas(size[0], size[1], msg['forward']);\n",
       "        fig.send_message('refresh', {});\n",
       "    }\n",
       "};\n",
       "\n",
       "mpl.figure.prototype.handle_rubberband = function (fig, msg) {\n",
       "    var x0 = msg['x0'] / fig.ratio;\n",
       "    var y0 = (fig.canvas.height - msg['y0']) / fig.ratio;\n",
       "    var x1 = msg['x1'] / fig.ratio;\n",
       "    var y1 = (fig.canvas.height - msg['y1']) / fig.ratio;\n",
       "    x0 = Math.floor(x0) + 0.5;\n",
       "    y0 = Math.floor(y0) + 0.5;\n",
       "    x1 = Math.floor(x1) + 0.5;\n",
       "    y1 = Math.floor(y1) + 0.5;\n",
       "    var min_x = Math.min(x0, x1);\n",
       "    var min_y = Math.min(y0, y1);\n",
       "    var width = Math.abs(x1 - x0);\n",
       "    var height = Math.abs(y1 - y0);\n",
       "\n",
       "    fig.rubberband_context.clearRect(\n",
       "        0,\n",
       "        0,\n",
       "        fig.canvas.width / fig.ratio,\n",
       "        fig.canvas.height / fig.ratio\n",
       "    );\n",
       "\n",
       "    fig.rubberband_context.strokeRect(min_x, min_y, width, height);\n",
       "};\n",
       "\n",
       "mpl.figure.prototype.handle_figure_label = function (fig, msg) {\n",
       "    // Updates the figure title.\n",
       "    fig.header.textContent = msg['label'];\n",
       "};\n",
       "\n",
       "mpl.figure.prototype.handle_cursor = function (fig, msg) {\n",
       "    fig.canvas_div.style.cursor = msg['cursor'];\n",
       "};\n",
       "\n",
       "mpl.figure.prototype.handle_message = function (fig, msg) {\n",
       "    fig.message.textContent = msg['message'];\n",
       "};\n",
       "\n",
       "mpl.figure.prototype.handle_draw = function (fig, _msg) {\n",
       "    // Request the server to send over a new figure.\n",
       "    fig.send_draw_message();\n",
       "};\n",
       "\n",
       "mpl.figure.prototype.handle_image_mode = function (fig, msg) {\n",
       "    fig.image_mode = msg['mode'];\n",
       "};\n",
       "\n",
       "mpl.figure.prototype.handle_history_buttons = function (fig, msg) {\n",
       "    for (var key in msg) {\n",
       "        if (!(key in fig.buttons)) {\n",
       "            continue;\n",
       "        }\n",
       "        fig.buttons[key].disabled = !msg[key];\n",
       "        fig.buttons[key].setAttribute('aria-disabled', !msg[key]);\n",
       "    }\n",
       "};\n",
       "\n",
       "mpl.figure.prototype.handle_navigate_mode = function (fig, msg) {\n",
       "    if (msg['mode'] === 'PAN') {\n",
       "        fig.buttons['Pan'].classList.add('active');\n",
       "        fig.buttons['Zoom'].classList.remove('active');\n",
       "    } else if (msg['mode'] === 'ZOOM') {\n",
       "        fig.buttons['Pan'].classList.remove('active');\n",
       "        fig.buttons['Zoom'].classList.add('active');\n",
       "    } else {\n",
       "        fig.buttons['Pan'].classList.remove('active');\n",
       "        fig.buttons['Zoom'].classList.remove('active');\n",
       "    }\n",
       "};\n",
       "\n",
       "mpl.figure.prototype.updated_canvas_event = function () {\n",
       "    // Called whenever the canvas gets updated.\n",
       "    this.send_message('ack', {});\n",
       "};\n",
       "\n",
       "// A function to construct a web socket function for onmessage handling.\n",
       "// Called in the figure constructor.\n",
       "mpl.figure.prototype._make_on_message_function = function (fig) {\n",
       "    return function socket_on_message(evt) {\n",
       "        if (evt.data instanceof Blob) {\n",
       "            var img = evt.data;\n",
       "            if (img.type !== 'image/png') {\n",
       "                /* FIXME: We get \"Resource interpreted as Image but\n",
       "                 * transferred with MIME type text/plain:\" errors on\n",
       "                 * Chrome.  But how to set the MIME type?  It doesn't seem\n",
       "                 * to be part of the websocket stream */\n",
       "                img.type = 'image/png';\n",
       "            }\n",
       "\n",
       "            /* Free the memory for the previous frames */\n",
       "            if (fig.imageObj.src) {\n",
       "                (window.URL || window.webkitURL).revokeObjectURL(\n",
       "                    fig.imageObj.src\n",
       "                );\n",
       "            }\n",
       "\n",
       "            fig.imageObj.src = (window.URL || window.webkitURL).createObjectURL(\n",
       "                img\n",
       "            );\n",
       "            fig.updated_canvas_event();\n",
       "            fig.waiting = false;\n",
       "            return;\n",
       "        } else if (\n",
       "            typeof evt.data === 'string' &&\n",
       "            evt.data.slice(0, 21) === 'data:image/png;base64'\n",
       "        ) {\n",
       "            fig.imageObj.src = evt.data;\n",
       "            fig.updated_canvas_event();\n",
       "            fig.waiting = false;\n",
       "            return;\n",
       "        }\n",
       "\n",
       "        var msg = JSON.parse(evt.data);\n",
       "        var msg_type = msg['type'];\n",
       "\n",
       "        // Call the  \"handle_{type}\" callback, which takes\n",
       "        // the figure and JSON message as its only arguments.\n",
       "        try {\n",
       "            var callback = fig['handle_' + msg_type];\n",
       "        } catch (e) {\n",
       "            console.log(\n",
       "                \"No handler for the '\" + msg_type + \"' message type: \",\n",
       "                msg\n",
       "            );\n",
       "            return;\n",
       "        }\n",
       "\n",
       "        if (callback) {\n",
       "            try {\n",
       "                // console.log(\"Handling '\" + msg_type + \"' message: \", msg);\n",
       "                callback(fig, msg);\n",
       "            } catch (e) {\n",
       "                console.log(\n",
       "                    \"Exception inside the 'handler_\" + msg_type + \"' callback:\",\n",
       "                    e,\n",
       "                    e.stack,\n",
       "                    msg\n",
       "                );\n",
       "            }\n",
       "        }\n",
       "    };\n",
       "};\n",
       "\n",
       "\n",
       "/*\n",
       " * return a copy of an object with only non-object keys\n",
       " * we need this to avoid circular references\n",
       " * https://stackoverflow.com/a/24161582/3208463\n",
       " */\n",
       "function simpleKeys(original) {\n",
       "    return Object.keys(original).reduce(function (obj, key) {\n",
       "        if (typeof original[key] !== 'object') {\n",
       "            obj[key] = original[key];\n",
       "        }\n",
       "        return obj;\n",
       "    }, {});\n",
       "}\n",
       "\n",
       "mpl.figure.prototype.mouse_event = function (event, name) {\n",
       "    if (name === 'button_press') {\n",
       "        this.canvas.focus();\n",
       "        this.canvas_div.focus();\n",
       "    }\n",
       "\n",
       "    // from https://stackoverflow.com/q/1114465\n",
       "    var boundingRect = this.canvas.getBoundingClientRect();\n",
       "    var x = (event.clientX - boundingRect.left) * this.ratio;\n",
       "    var y = (event.clientY - boundingRect.top) * this.ratio;\n",
       "\n",
       "    this.send_message(name, {\n",
       "        x: x,\n",
       "        y: y,\n",
       "        button: event.button,\n",
       "        step: event.step,\n",
       "        guiEvent: simpleKeys(event),\n",
       "    });\n",
       "\n",
       "    return false;\n",
       "};\n",
       "\n",
       "mpl.figure.prototype._key_event_extra = function (_event, _name) {\n",
       "    // Handle any extra behaviour associated with a key event\n",
       "};\n",
       "\n",
       "mpl.figure.prototype.key_event = function (event, name) {\n",
       "    // Prevent repeat events\n",
       "    if (name === 'key_press') {\n",
       "        if (event.key === this._key) {\n",
       "            return;\n",
       "        } else {\n",
       "            this._key = event.key;\n",
       "        }\n",
       "    }\n",
       "    if (name === 'key_release') {\n",
       "        this._key = null;\n",
       "    }\n",
       "\n",
       "    var value = '';\n",
       "    if (event.ctrlKey && event.key !== 'Control') {\n",
       "        value += 'ctrl+';\n",
       "    }\n",
       "    else if (event.altKey && event.key !== 'Alt') {\n",
       "        value += 'alt+';\n",
       "    }\n",
       "    else if (event.shiftKey && event.key !== 'Shift') {\n",
       "        value += 'shift+';\n",
       "    }\n",
       "\n",
       "    value += 'k' + event.key;\n",
       "\n",
       "    this._key_event_extra(event, name);\n",
       "\n",
       "    this.send_message(name, { key: value, guiEvent: simpleKeys(event) });\n",
       "    return false;\n",
       "};\n",
       "\n",
       "mpl.figure.prototype.toolbar_button_onclick = function (name) {\n",
       "    if (name === 'download') {\n",
       "        this.handle_save(this, null);\n",
       "    } else {\n",
       "        this.send_message('toolbar_button', { name: name });\n",
       "    }\n",
       "};\n",
       "\n",
       "mpl.figure.prototype.toolbar_button_onmouseover = function (tooltip) {\n",
       "    this.message.textContent = tooltip;\n",
       "};\n",
       "\n",
       "///////////////// REMAINING CONTENT GENERATED BY embed_js.py /////////////////\n",
       "// prettier-ignore\n",
       "var _JSXTOOLS_RESIZE_OBSERVER=function(A){var t,i=new WeakMap,n=new WeakMap,a=new WeakMap,r=new WeakMap,o=new Set;function s(e){if(!(this instanceof s))throw new TypeError(\"Constructor requires 'new' operator\");i.set(this,e)}function h(){throw new TypeError(\"Function is not a constructor\")}function c(e,t,i,n){e=0 in arguments?Number(arguments[0]):0,t=1 in arguments?Number(arguments[1]):0,i=2 in arguments?Number(arguments[2]):0,n=3 in arguments?Number(arguments[3]):0,this.right=(this.x=this.left=e)+(this.width=i),this.bottom=(this.y=this.top=t)+(this.height=n),Object.freeze(this)}function d(){t=requestAnimationFrame(d);var s=new WeakMap,p=new Set;o.forEach((function(t){r.get(t).forEach((function(i){var r=t instanceof window.SVGElement,o=a.get(t),d=r?0:parseFloat(o.paddingTop),f=r?0:parseFloat(o.paddingRight),l=r?0:parseFloat(o.paddingBottom),u=r?0:parseFloat(o.paddingLeft),g=r?0:parseFloat(o.borderTopWidth),m=r?0:parseFloat(o.borderRightWidth),w=r?0:parseFloat(o.borderBottomWidth),b=u+f,F=d+l,v=(r?0:parseFloat(o.borderLeftWidth))+m,W=g+w,y=r?0:t.offsetHeight-W-t.clientHeight,E=r?0:t.offsetWidth-v-t.clientWidth,R=b+v,z=F+W,M=r?t.width:parseFloat(o.width)-R-E,O=r?t.height:parseFloat(o.height)-z-y;if(n.has(t)){var k=n.get(t);if(k[0]===M&&k[1]===O)return}n.set(t,[M,O]);var S=Object.create(h.prototype);S.target=t,S.contentRect=new c(u,d,M,O),s.has(i)||(s.set(i,[]),p.add(i)),s.get(i).push(S)}))})),p.forEach((function(e){i.get(e).call(e,s.get(e),e)}))}return s.prototype.observe=function(i){if(i instanceof window.Element){r.has(i)||(r.set(i,new Set),o.add(i),a.set(i,window.getComputedStyle(i)));var n=r.get(i);n.has(this)||n.add(this),cancelAnimationFrame(t),t=requestAnimationFrame(d)}},s.prototype.unobserve=function(i){if(i instanceof window.Element&&r.has(i)){var n=r.get(i);n.has(this)&&(n.delete(this),n.size||(r.delete(i),o.delete(i))),n.size||r.delete(i),o.size||cancelAnimationFrame(t)}},A.DOMRectReadOnly=c,A.ResizeObserver=s,A.ResizeObserverEntry=h,A}; // eslint-disable-line\n",
       "mpl.toolbar_items = [[\"Home\", \"Reset original view\", \"fa fa-home\", \"home\"], [\"Back\", \"Back to previous view\", \"fa fa-arrow-left\", \"back\"], [\"Forward\", \"Forward to next view\", \"fa fa-arrow-right\", \"forward\"], [\"\", \"\", \"\", \"\"], [\"Pan\", \"Left button pans, Right button zooms\\nx/y fixes axis, CTRL fixes aspect\", \"fa fa-arrows\", \"pan\"], [\"Zoom\", \"Zoom to rectangle\\nx/y fixes axis\", \"fa fa-square-o\", \"zoom\"], [\"\", \"\", \"\", \"\"], [\"Download\", \"Download plot\", \"fa fa-floppy-o\", \"download\"]];\n",
       "\n",
       "mpl.extensions = [\"eps\", \"jpeg\", \"pgf\", \"pdf\", \"png\", \"ps\", \"raw\", \"svg\", \"tif\", \"webp\"];\n",
       "\n",
       "mpl.default_extension = \"png\";/* global mpl */\n",
       "\n",
       "var comm_websocket_adapter = function (comm) {\n",
       "    // Create a \"websocket\"-like object which calls the given IPython comm\n",
       "    // object with the appropriate methods. Currently this is a non binary\n",
       "    // socket, so there is still some room for performance tuning.\n",
       "    var ws = {};\n",
       "\n",
       "    ws.binaryType = comm.kernel.ws.binaryType;\n",
       "    ws.readyState = comm.kernel.ws.readyState;\n",
       "    function updateReadyState(_event) {\n",
       "        if (comm.kernel.ws) {\n",
       "            ws.readyState = comm.kernel.ws.readyState;\n",
       "        } else {\n",
       "            ws.readyState = 3; // Closed state.\n",
       "        }\n",
       "    }\n",
       "    comm.kernel.ws.addEventListener('open', updateReadyState);\n",
       "    comm.kernel.ws.addEventListener('close', updateReadyState);\n",
       "    comm.kernel.ws.addEventListener('error', updateReadyState);\n",
       "\n",
       "    ws.close = function () {\n",
       "        comm.close();\n",
       "    };\n",
       "    ws.send = function (m) {\n",
       "        //console.log('sending', m);\n",
       "        comm.send(m);\n",
       "    };\n",
       "    // Register the callback with on_msg.\n",
       "    comm.on_msg(function (msg) {\n",
       "        //console.log('receiving', msg['content']['data'], msg);\n",
       "        var data = msg['content']['data'];\n",
       "        if (data['blob'] !== undefined) {\n",
       "            data = {\n",
       "                data: new Blob(msg['buffers'], { type: data['blob'] }),\n",
       "            };\n",
       "        }\n",
       "        // Pass the mpl event to the overridden (by mpl) onmessage function.\n",
       "        ws.onmessage(data);\n",
       "    });\n",
       "    return ws;\n",
       "};\n",
       "\n",
       "mpl.mpl_figure_comm = function (comm, msg) {\n",
       "    // This is the function which gets called when the mpl process\n",
       "    // starts-up an IPython Comm through the \"matplotlib\" channel.\n",
       "\n",
       "    var id = msg.content.data.id;\n",
       "    // Get hold of the div created by the display call when the Comm\n",
       "    // socket was opened in Python.\n",
       "    var element = document.getElementById(id);\n",
       "    var ws_proxy = comm_websocket_adapter(comm);\n",
       "\n",
       "    function ondownload(figure, _format) {\n",
       "        window.open(figure.canvas.toDataURL());\n",
       "    }\n",
       "\n",
       "    var fig = new mpl.figure(id, ws_proxy, ondownload, element);\n",
       "\n",
       "    // Call onopen now - mpl needs it, as it is assuming we've passed it a real\n",
       "    // web socket which is closed, not our websocket->open comm proxy.\n",
       "    ws_proxy.onopen();\n",
       "\n",
       "    fig.parent_element = element;\n",
       "    fig.cell_info = mpl.find_output_cell(\"<div id='\" + id + \"'></div>\");\n",
       "    if (!fig.cell_info) {\n",
       "        console.error('Failed to find cell for figure', id, fig);\n",
       "        return;\n",
       "    }\n",
       "    fig.cell_info[0].output_area.element.on(\n",
       "        'cleared',\n",
       "        { fig: fig },\n",
       "        fig._remove_fig_handler\n",
       "    );\n",
       "};\n",
       "\n",
       "mpl.figure.prototype.handle_close = function (fig, msg) {\n",
       "    var width = fig.canvas.width / fig.ratio;\n",
       "    fig.cell_info[0].output_area.element.off(\n",
       "        'cleared',\n",
       "        fig._remove_fig_handler\n",
       "    );\n",
       "    fig.resizeObserverInstance.unobserve(fig.canvas_div);\n",
       "\n",
       "    // Update the output cell to use the data from the current canvas.\n",
       "    fig.push_to_output();\n",
       "    var dataURL = fig.canvas.toDataURL();\n",
       "    // Re-enable the keyboard manager in IPython - without this line, in FF,\n",
       "    // the notebook keyboard shortcuts fail.\n",
       "    IPython.keyboard_manager.enable();\n",
       "    fig.parent_element.innerHTML =\n",
       "        '<img src=\"' + dataURL + '\" width=\"' + width + '\">';\n",
       "    fig.close_ws(fig, msg);\n",
       "};\n",
       "\n",
       "mpl.figure.prototype.close_ws = function (fig, msg) {\n",
       "    fig.send_message('closing', msg);\n",
       "    // fig.ws.close()\n",
       "};\n",
       "\n",
       "mpl.figure.prototype.push_to_output = function (_remove_interactive) {\n",
       "    // Turn the data on the canvas into data in the output cell.\n",
       "    var width = this.canvas.width / this.ratio;\n",
       "    var dataURL = this.canvas.toDataURL();\n",
       "    this.cell_info[1]['text/html'] =\n",
       "        '<img src=\"' + dataURL + '\" width=\"' + width + '\">';\n",
       "};\n",
       "\n",
       "mpl.figure.prototype.updated_canvas_event = function () {\n",
       "    // Tell IPython that the notebook contents must change.\n",
       "    IPython.notebook.set_dirty(true);\n",
       "    this.send_message('ack', {});\n",
       "    var fig = this;\n",
       "    // Wait a second, then push the new image to the DOM so\n",
       "    // that it is saved nicely (might be nice to debounce this).\n",
       "    setTimeout(function () {\n",
       "        fig.push_to_output();\n",
       "    }, 1000);\n",
       "};\n",
       "\n",
       "mpl.figure.prototype._init_toolbar = function () {\n",
       "    var fig = this;\n",
       "\n",
       "    var toolbar = document.createElement('div');\n",
       "    toolbar.classList = 'btn-toolbar';\n",
       "    this.root.appendChild(toolbar);\n",
       "\n",
       "    function on_click_closure(name) {\n",
       "        return function (_event) {\n",
       "            return fig.toolbar_button_onclick(name);\n",
       "        };\n",
       "    }\n",
       "\n",
       "    function on_mouseover_closure(tooltip) {\n",
       "        return function (event) {\n",
       "            if (!event.currentTarget.disabled) {\n",
       "                return fig.toolbar_button_onmouseover(tooltip);\n",
       "            }\n",
       "        };\n",
       "    }\n",
       "\n",
       "    fig.buttons = {};\n",
       "    var buttonGroup = document.createElement('div');\n",
       "    buttonGroup.classList = 'btn-group';\n",
       "    var button;\n",
       "    for (var toolbar_ind in mpl.toolbar_items) {\n",
       "        var name = mpl.toolbar_items[toolbar_ind][0];\n",
       "        var tooltip = mpl.toolbar_items[toolbar_ind][1];\n",
       "        var image = mpl.toolbar_items[toolbar_ind][2];\n",
       "        var method_name = mpl.toolbar_items[toolbar_ind][3];\n",
       "\n",
       "        if (!name) {\n",
       "            /* Instead of a spacer, we start a new button group. */\n",
       "            if (buttonGroup.hasChildNodes()) {\n",
       "                toolbar.appendChild(buttonGroup);\n",
       "            }\n",
       "            buttonGroup = document.createElement('div');\n",
       "            buttonGroup.classList = 'btn-group';\n",
       "            continue;\n",
       "        }\n",
       "\n",
       "        button = fig.buttons[name] = document.createElement('button');\n",
       "        button.classList = 'btn btn-default';\n",
       "        button.href = '#';\n",
       "        button.title = name;\n",
       "        button.innerHTML = '<i class=\"fa ' + image + ' fa-lg\"></i>';\n",
       "        button.addEventListener('click', on_click_closure(method_name));\n",
       "        button.addEventListener('mouseover', on_mouseover_closure(tooltip));\n",
       "        buttonGroup.appendChild(button);\n",
       "    }\n",
       "\n",
       "    if (buttonGroup.hasChildNodes()) {\n",
       "        toolbar.appendChild(buttonGroup);\n",
       "    }\n",
       "\n",
       "    // Add the status bar.\n",
       "    var status_bar = document.createElement('span');\n",
       "    status_bar.classList = 'mpl-message pull-right';\n",
       "    toolbar.appendChild(status_bar);\n",
       "    this.message = status_bar;\n",
       "\n",
       "    // Add the close button to the window.\n",
       "    var buttongrp = document.createElement('div');\n",
       "    buttongrp.classList = 'btn-group inline pull-right';\n",
       "    button = document.createElement('button');\n",
       "    button.classList = 'btn btn-mini btn-primary';\n",
       "    button.href = '#';\n",
       "    button.title = 'Stop Interaction';\n",
       "    button.innerHTML = '<i class=\"fa fa-power-off icon-remove icon-large\"></i>';\n",
       "    button.addEventListener('click', function (_evt) {\n",
       "        fig.handle_close(fig, {});\n",
       "    });\n",
       "    button.addEventListener(\n",
       "        'mouseover',\n",
       "        on_mouseover_closure('Stop Interaction')\n",
       "    );\n",
       "    buttongrp.appendChild(button);\n",
       "    var titlebar = this.root.querySelector('.ui-dialog-titlebar');\n",
       "    titlebar.insertBefore(buttongrp, titlebar.firstChild);\n",
       "};\n",
       "\n",
       "mpl.figure.prototype._remove_fig_handler = function (event) {\n",
       "    var fig = event.data.fig;\n",
       "    if (event.target !== this) {\n",
       "        // Ignore bubbled events from children.\n",
       "        return;\n",
       "    }\n",
       "    fig.close_ws(fig, {});\n",
       "};\n",
       "\n",
       "mpl.figure.prototype._root_extra_style = function (el) {\n",
       "    el.style.boxSizing = 'content-box'; // override notebook setting of border-box.\n",
       "};\n",
       "\n",
       "mpl.figure.prototype._canvas_extra_style = function (el) {\n",
       "    // this is important to make the div 'focusable\n",
       "    el.setAttribute('tabindex', 0);\n",
       "    // reach out to IPython and tell the keyboard manager to turn it's self\n",
       "    // off when our div gets focus\n",
       "\n",
       "    // location in version 3\n",
       "    if (IPython.notebook.keyboard_manager) {\n",
       "        IPython.notebook.keyboard_manager.register_events(el);\n",
       "    } else {\n",
       "        // location in version 2\n",
       "        IPython.keyboard_manager.register_events(el);\n",
       "    }\n",
       "};\n",
       "\n",
       "mpl.figure.prototype._key_event_extra = function (event, _name) {\n",
       "    // Check for shift+enter\n",
       "    if (event.shiftKey && event.which === 13) {\n",
       "        this.canvas_div.blur();\n",
       "        // select the cell after this one\n",
       "        var index = IPython.notebook.find_cell_index(this.cell_info[0]);\n",
       "        IPython.notebook.select(index + 1);\n",
       "    }\n",
       "};\n",
       "\n",
       "mpl.figure.prototype.handle_save = function (fig, _msg) {\n",
       "    fig.ondownload(fig, null);\n",
       "};\n",
       "\n",
       "mpl.find_output_cell = function (html_output) {\n",
       "    // Return the cell and output element which can be found *uniquely* in the notebook.\n",
       "    // Note - this is a bit hacky, but it is done because the \"notebook_saving.Notebook\"\n",
       "    // IPython event is triggered only after the cells have been serialised, which for\n",
       "    // our purposes (turning an active figure into a static one), is too late.\n",
       "    var cells = IPython.notebook.get_cells();\n",
       "    var ncells = cells.length;\n",
       "    for (var i = 0; i < ncells; i++) {\n",
       "        var cell = cells[i];\n",
       "        if (cell.cell_type === 'code') {\n",
       "            for (var j = 0; j < cell.output_area.outputs.length; j++) {\n",
       "                var data = cell.output_area.outputs[j];\n",
       "                if (data.data) {\n",
       "                    // IPython >= 3 moved mimebundle to data attribute of output\n",
       "                    data = data.data;\n",
       "                }\n",
       "                if (data['text/html'] === html_output) {\n",
       "                    return [cell, data, j];\n",
       "                }\n",
       "            }\n",
       "        }\n",
       "    }\n",
       "};\n",
       "\n",
       "// Register the function which deals with the matplotlib target/channel.\n",
       "// The kernel may be null if the page has been refreshed.\n",
       "if (IPython.notebook.kernel !== null) {\n",
       "    IPython.notebook.kernel.comm_manager.register_target(\n",
       "        'matplotlib',\n",
       "        mpl.mpl_figure_comm\n",
       "    );\n",
       "}\n"
      ],
      "text/plain": [
       "<IPython.core.display.Javascript object>"
      ]
     },
     "metadata": {},
     "output_type": "display_data"
    },
    {
     "data": {
      "text/html": [
       "<img src=\"data:image/png;base64,iVBORw0KGgoAAAANSUhEUgAAA30AAAKdCAYAAACXuQCPAAAgAElEQVR4nOzdZ3Br13kuYDgeJ/nhycS/PJ5JZuwoVrNkFTfZkZU4rrGuc20VW3KRXOIeJR7fxHKLZTsuKqfxNPL0ytPLQgcBECBAopEEOwkQYCfY0VlVyPf+kPY2OwES5AbB95n5ZuxDENzg4RH2y7XW96lAREREREREBUul9AUQERERERHR5mHoIyIiIiIiKmAMfURERERERAWMoY+IiIiIiKiAMfQREREREREVMIY+IiIiIiKiAsbQR0REREREVMAY+oiIiIiIiAoYQx8REREREVEBY+gjIiIiIiIqYAx9REREREREBYyhj4iIiIiIqIAx9BERERERERUwhj4iIiIiIqICxtBHRERERERUwBj6iIiIiIiIChhDHxERERERUQFj6CMiIiIiIipgDH1EREREREQFjKGPiIiIiIiogDH0ERERERERFTCGPiIiIiIiogLG0EdERERERFTAGPqIiIiIiIgKGEMfERERERFRAWPoIyIiIiIiKmAMfURERERERAWMoY+IiIiIiKiAMfQREREREREVMIY+IiIiIiKiAsbQR0REREREVMAY+oiIiIiIiAoYQx8REREREVEBY+gjIiIiIiIqYAx9REREREREBYyhj4iIiIiIqIAx9BERERERERUwhj4iIiIiIqICxtBHRERERERUwBj6iIiIiIiIChhDHxERERERUQFj6CMiIiIiIipgDH1EREREREQFjKGPiIiIiIiogDH0ERERERERFTCGPiIiIiIiogLG0EdERERERFTAGPqIiIiIiIgKGEMfERERERFRAWPoIyIiIiIiKmAMfURERERERAWMoY+IiIiIiKiAMfQREREREREVMIY+IiIiIiKiAsbQR0REREREVMAY+oiIiIiIiAoYQx8REREREVEBY+gjIiIiIiIqYAx9REREREREBYyhj4iIiIiIqIAx9BERERERERUwhj4iIiIiIqICxtBHRERERERUwBj6iIiIiIiIChhDHxERERERUQFj6CMiIiIiIipgDH1EREREREQFjKGPiIiIiIiogDH0ERERERERFTCGPiIiIiIiogLG0EdERERERFTAGPqIiIiIiIgKGEMfERERERFRAWPoIyIiIiIiKmAMfURERERERAWMoY+IiIiIiKiAMfQREREREREVMIY+IiIiIiKiAsbQR0REREREVMAY+oiIiIiIiAoYQx8REREREVEBY+gjIiIiIiIqYAx9REREREREBYyhj4iIiIiIqIAx9BERERERERUwhj4iIiIiIqICxtBHRERERERUwBj6iIiIiIiIChhDHxERERERUQFj6CMiIiIiIipgDH1EREREREQFjKGPiIiIiIiogDH0ERERERERFTCGPiIiIiIiogLG0EdERERERFTAGPqIiIiIiIgKGEMfERERERFRAWPoIyIiIiIiKmAMfURERERERAWMoY+IiIiIiKiAMfQREREREREVMIY+IiIiIiKiAsbQR0REREREVMAY+oiIiIiIiAoYQx8REREREVEBY+gjIiIiIiIqYAx9REREREREBYyhj4iIiIiIqIAx9BERERERERUwhj4iIiIiIqICxtBHRERERERUwBj6iIiIiIiIChhDHxERERERUQFj6CMiIiIiIipgDH1EREREREQFjKGPiIiIiIiogDH0ERERERERFTCGPiIiypm5uTnMzs7i1VdfxdzcnNKXQ0RERGDoIyKiHJmbm8PLL7+M8fFxJBIJpNNpTE5OYmZmhiGQiIhIQQx9RES0Ya+99hpmZmYwNTWFZDKJsbExRKNRxGIxxONxJJNJhkAiIiKFMPQREdG6zc3N4dVXX8X09DQmJycxOTmJdDqNRCKBVCqFZDKJRCKBWCy2agh87bXXGAKJiIg2CUMfERGty+zsLF5++WVMTU1hcnISU1NTmJ6elkNfOp1eUFIIjMfjiMVicLlcqKysRCKRWBACX375ZYZAIiKiHGLoIyKirMzNzcnbOaXVvenpaczMzGB6enrBmb7VqqKiAlarVQ6B0krg/BA4NTXFEEhERLRBDH1ERJSxubk5vPLKK/J2Tml1b2ZmJuvQ53A4YLVaV1wJZAgkIiLKDYY+IiLKyOzsrNysZf7q3vzKNvRZLJYVP84QSERElBsMfUREtCppFIPUgGWlwJdt6HM6nTCbzWs+LtMQOD4+LofA2dlZhkAiIqI3MPQREdGKpO2c0WgUQggEg8EVA1+2oa+ysjKr0LdaCIxGowtCYCqVkkPgK6+8whBIREQ7GkMfEREta/7sPSn0tbe3rxj4sg19VVVVKCsrW3foWy4EJhKJjEMgERHRTsHQR0RECyyevTc1NYV4PC6v9OUy9JlMppyFvkxCYDwel0PgxMQEpqenGQKJiKjgMfQREZFsudl7MzMzSCaTEEIgEAjkLPS5XK5NDX0MgURERK9j6CMiolVn783MzCCVSkEIgba2tpyGPqPRuGWhjyGQiIh2KoY+IqIdbq3ZezMzM0in0xBCoLW1ddXQNzk5iZaWFjQ0NKC/v18erbBcud1uGAwGxULf4gCYTQhkUxgiItpOGPqIiHawTGbvzczMYHx8HEIItLS0rBj4YrEYbDYbhBByabVaOJ1ONDc3IxKJIJVKyUHL4/HkTehjCCQiokLG0EdEtANJzVpW2s65uCYmJiCEQHNz87If7+rqglarhVarRSgUwtDQENrb2+H1emE0GuUQqNPpUFVVhdbWVjidTuh0OsUDXqYhMJlMIpFIyDMCpRAorWZOTExgZmYGr776KkMgERHlFYY+IqIdJpPtnMtt2xRCoKmpaUkYrK2thRAC5eXlGBsbw8TExIIzfalUCsPDwwgEAnC73dDr9QtWA10uF9ra2jA0NLRgJTCfK5MQODk5yRBIRER5gaGPiGgHyXQ75+KampqCEAKNjY3yn42NjcFisUAIAb/fLz/f4tC3XGAaHBxEeXk51Go1dDqdHAANBgM8Hg+CwSBGRka2dQiMxWIMgURElBcY+oiIdoDlZu9lGvikrpxCCDQ0NGB6ehrhcBgajQY6nQ49PT0LHrdW6JPK5/NBq9UilUphYGAALS0tqKyshFarlUOgyWSC1+tFe3s7RkdHFQ93DIFERLQdMfQRERW4ubm5JbP3sgl8Ukkrel6vF0II2O12xOPxJeEw09BXXV0NrVa75M+TyST6+/vR1NQEh8MBjUYjh8CysjJUV1cjHA4jGo0qHu7WGwKHhoZQUVGBUCjEEEhERJuOoY+IqICtNntvPaFPWoVrbGyUB7evd05fdXU1NBrNmo9LJpPo6+tDY2MjKioqoFar5RBosVhQW1uLzs5OxGIxxcNdpjUyMiI3xllrJfC1115jCCQiog1h6CMiKkDraday2tbOQCAAIQQ0Gg36+/tzMpy9pqYmo9C3uBKJBHp6elBfXw+bzbYgBFqtVvj9fnR1dSEejyse7laq0dFRee7h/JXAeDy+agh8+eWXGQKJiChrDH1ERAVmdnZ2wXbOjazupdNpVFVVyaHK5/OtGRDHx8czCly1tbVQq9UbDlDxeBzd3d2oq6tDeXm5fK1qtRo2mw319fXo6enJKIhu9UqfFPoW10ohMJFIyCFwamqKIZCIiDLC0EdEVCDm5uZyup1zYGBAnrHX2toKrVaLmpqanIY+IUTOA1UsFkNnZydqa2vl7qJSCLTb7WhoaEBvb68cnvIx9DEEEhFRLjH0EREVgFxu55yamkJzc7PcPXNoaAgzMzPQ6/Worq7OWejz+/2bEvoWVzQaRUdHB2pqamA2m+UQqNFo4HA40NTUhP7+/i0NgdmGPoZAIiLaCIY+IqJtbr2z95arZDIJh8MBIQTcbjfS6bT8MYPBsOb2zpmZ1we2ZxP6tnoW39jYGEKhEHw+H0wmkxwCtVotKisr0dLSgkgksqnXtdHQxxBIRETZYOgjItqmpNl7udrO2dfXB71eD7Vajfb29iXPZTQa4fV6cxb66urqIIRQdJulFMCCwSA8Hg8MBoMcAnU6HaqqqtDa2orBwcGchkAp9LW1tW3Ka1otBKZSKYyPj8shcHZ2liGQiKjAMfQREW1DuZq9J60Q1tfXQwgBs9mMkZGRZR9nMpng8XjWfL7JycmMQp/0NZUOfYvD0vDwMAKBANxuN/R6vRwC9Xo93G43AoEAhoaGNhQCh4eHNzX0Lfe6EokE4vE4otHoiiHwlVdeYQgkIipADH1ERNuM1KwlF9s54/E4bDab3JlzYmJixceWlZXB7XZnFPoy6ZQphb586qq5XFgaHBxEa2srqqqqoNPp5BBoMBjg8XgQDAYxMjKS16FvPSFwenpaDoFERLS9MfQREW0T0nbOXDRrmZmZQXd3N7RaLbRaLTo6OtZ8LrPZDJfLlbOVvoaGBggh8nqe3nJhaWBgAC0tLaisrJSH1UtNb3w+H0KhEMbGxvI69GUSAuPxuBwCJyYmGAKJiLYxhj4iom1g8ey9qampdYe9yclJeVyC1WpFNBrN6PMsFguqqqoyDn1rbX/cjqFvcSWTSfT396OpqQkOhwMajUYOgWazGdXV1QiHw4hGo3kd+hgCiYgKG0MfEVEey/XsvbGxMVitVggh4Pf7MTk5mfHnWq1WVFZW5iz0NTY2QgiBWCymeMjJZQjs7e1FQ0MDKioqoFar5RBosVhQW1uLzs5ORCIRCCEQCAQUv+ZMAiBDIBHR9sbQR0SUp3I5e296ehrhcBgajQY6nQ49PT1ZP0d5eTmcTmfGZ/rWCn1NTU0FF/oWVyKRQE9PD+rr62Gz2RaEQCEEHA4Hurq6ttVqZ7YhkE1hiIiUx9BHRJSHcjl7b3x8HF6vF0II2O12xOPxdT2PzWaDw+HIeehbvPWxkCsej6Orq0v++5BKrVbDZrOhvr4ePT09ed3cZrUQKI2HkEKg1JlVahD06quvMgQSESmAoY+IKI9IoxikwLTRwDc8PIyysjIIIdDY2Lihs4B2ux0VFRU5C33Nzc0QQqzZ9KQQa2hoCEIItLS0oLOzE7W1tbBYLAtCYEVFBRobG9Hb25tXYy0yCYHJZHLVEChtK2YIJCLaGgx9RER5QtrOKQ3uzqSj5mrbOQOBANRqNQwGA/r7+9cd9qSqqKiA3W7PWehraWnZ8aFv8Zm+aDSKcDiM6upqOawLIaDRaOBwONDU1IT+/v5tHwJjsRji8Tj6+vowMjLCEEhEtMkY+oiI8sD82XvzQ996wlk6nYbL5YIQAk6nE8lkcsOBb2ZmBg6HAzabLeehb3R0VPFgolToCwaDqz5udHQU7e3t8Pl8MJlMcgjUarWorKxES0sLBgYGNjQoXskQKIRAdXW1HAK5EkhEtDkY+oiIFLTc7L1oNAohBEKhUNbBbGBgAEajEUIItLa2bmhr6OJyOp05DX2tra0QQmQ92LwQanBwMKPQt7hGRkYQDAbh8XhgMBjkEKjT6VBVVYXW1lYMDg5uixCYSqXkLrIrrQQyBBIR5QZDHxGRQlaavRePxyGEQHt7e1bbOaUzciaTCUNDQzkLe1JVVlbCarXmLPS1tbUx9GUZ+haHpqGhIbS1tcHtdkOv18shUK/Xw+12IxAIYHh4OC9DYDKZhBAC9fX1S15XpiHwtddeYwgkIsoAQx8R0RZba/aedDMcCAQyCmPJZBIOhwNCCLjdbqTT6ZwHvpmZGVRVVW1K6BseHlY8gGzH0LdcCBwcHERrayuqqqqg0+nkEGg0GuHxeBAMBvMmZEvbOxsaGtZ8XclkEvF4fNUQ+PLLLzMEEhGtgKGPiGgLZTJ7L51OQwiBtra2NQNWX18f9Ho91Go1gsFgTrdzLi6XywWz2Zyz0BcIBBj6chj6lgtLkUgEzc3NqKyshFarlUOgyWSCz+dDKBRSrJGOtKLd2NiY9etaLgQmEgk5BE5NTTEEEhHNw9BHRLRFMp29Nz4+LrfzXylYTU1Nob6+HkIImM1mjIyMbFrYk8rtdm9K6BsaGlI8hG11SaGvvb19y75mMplEf38/mpqa4HA4oNFo5BBoNptRU1ODjo6OLZubGIvFIIRAU1PThp6HIZCIaG0MfUREm0xq1rLSds7lQpMQAs3Nzct+PB6Pw2azQQgBn88nD77e7PJ4PDCZTBmFvmQyuWboCwaDEEJgcHBQ8RC21TUwMLDloW9xJRIJ9Pb2oqGhAXa7HWq1Wg6BFosFtbW16OzsRCwW25SvLzUsam5uzunzMgQSES3F0EdEtIky2c653CqetO1t8ce6u7uh1Wqh1Wo3NMcvH0Jfe3s7Q5+CoW9xJRIJdHd3o76+Xv6lglTl5eWoq6tDd3c34vF4Tr7e2NiYvKK9ma+LIZCIiKGPiGjTZLqdc3FNT0/LDS7mB6na2loIIWC1WhGNRrcs7Enl9XphNBpzHvoGBgYUDzxbXfkY+hZXPB5HV1cX/H4/rFarHADVajVsNhvq6+vR09ODRCKxrueX5lG2trZu6etaKwSOj4/LIXB2dpYhkIgKAkMfEVGOLTd7L9sVObVajbq6OszMzGBsbEy+6fb7/XK7+q0un88Hg8GQs9AXCoV2fOgLhUKKX0umFYvF0NHRgdraWlgslgUhsKKiAo2Njejr65NXz9aq4eFhuWGRkq8rlUohkUggHo8jGo0uCIGpVEoOga+88gpDIBFtWwx9REQ5NDc3t2T23nq2YGq1WtTW1iIcDkOj0UCn06Gnp0eRsCdVdXU19Hp9zkNfJBJRPNBsdW3H0Le4xsbGEA6HUV1djbKyMjkEajQaOBwONDU1IRKJrBgCh4aG5NEkSr+W+ZVJCJyenpZDIBHRdsDQR0SUI6vN3ltP6JNupO12O+LxuKKBb2ZmBjU1NdDpdDkLfeFwGEII9Pf3K36jv9UViUS2fehbXKOjo2hvb5e3AUshUKvVorKyEi0tLRgYGJB/LrZibEUuarkQGI/H5RA4MTHBEEhEeY+hj4hog9bTrGW1ks46Sc1cpqamFA98MzMzqK2thVarzVno6+joYOgroNC3OCgNDw8jGAzC4/HAYDDIP9M6nQ4ulwt1dXXbIvQt99oYAolou2HoIyLagNnZ2QXbOTcS9qanpxEIBOTW+Q6HQ/GgN7/8fj80Gk3OQ19fX5/iN/JbXYUe+pYLSkNDQ2hra4PL5YJer1+wEuh2uxEIBDA8PLzmz00+VSqVYggkom2BoY+IaB3m5uZyup0znU7D5XJBCAGn0wmTyQSPx6N40JtfdXV1UKvVOQt9nZ2dEEKgt7dX8Zv3rS4p9IXDYcWvRYlKpVJy99by8nJotVo5BBqNRni9XrS3t2NkZETxa832dWUTAtkUhoi2CkMfEVGWcr2dc2BgQD4D1draiunpaZjNZrhcLsWD3vyqr6+HECJnoa+rq4uhb4eGvnQ6jb6+Pggh0NnZiWQyiUgkgubmZjidzgUh0GQywefzIRQKYWxsTPHrzqbmh0BpPMT8EJhOp+UQ+OqrrzIEEtGmYegjIsrCemfvLVfT09Nobm6Wb2yHhobkj1mtVlRVVSke9OZXQ0MDhBBrvuZsQ19PT4/iN+dbXf39/Ts+9PX29kIIga6uriUfSyaT6OvrQ2NjIyoqKqDRaOQQaDabUVNTg46ODkSjUcVfRzYlzQhcHAKHhoYQDocRi8XkkSwMgUSUSwx9REQZkGbvSaFmo4EvmUzC4XBACAG32410Or3g4+Xl5XA6nYoHvfnV2NgIIcSajWUmJyflFY7VboC7u7shhEB3d7fiN+NbXQx9afT09GT8959IJNDb24uGhgbY7Xb53KsQAlarFX6/H52dnYjFYoq/rmxKCoHSVtfu7m7EYjHE43F51AVDIBHlAkMfEdEacjV7T6q+vj7o9Xqo1WoEg8Fln8tut+ddI5empiYIIdYcDj81NZXRSl82N/2FVlLo6+joUPxalCop9K9npTcej6O7uxt1dXUoLy+XA6B0RrCurg7d3d2Ix+OKv85MSgp9AwMDS1YCGQKJKBcY+oiIViE1a8nFds6pqSl5i6TZbMbIyMiKj62oqIDdblc86M0vaSvqxMRETkPfctv7Cr0Y+nJ7pjMej6Orqwt+vx9Wq1UOgGq1Gna7HQ0NDejt7ZXP0eVbBQIBCCEwNDS04M+X2w7KEEhE68HQR0S0DGk7Z66atcTjcdhsNggh4PP51gxOTqcTNptN8aA3v1paWiCEwPj4eEahT7opXalWO9NV6MXQ96furZsxsiMajaKjowM1NTUwm81yCNRoNKioqEBjYyP6+vrW/BndqmptbYUQYs1updmEwNdee40hkIhkDH1ERIssnr230eHo3d3d0Gq10Gq16OjoyCg8VlZWwmq1Kh705pd0Y5pOp1d9XLahr7OzU/Gb7q0uqXPlTg590pzG/v7+Tf9aY2NjCIVC8Pl8KCsrWxACnU4nmpubEYlEFAuB0ip6tt1JpRAYj8dXDYEvv/wyQyDRDsfQR0T0hlzP3pucnERtba3cbCIajWb8uS6XC2azWfGgN7/a2toghEAqlcpJ6NvJwWcnv3apQqEQhBCIRCJb/rVHR0fR3t4Or9crj0uRBsVXVVWhpaUFAwMDWzYoXmqStNFGNCuFwEQiwRBItMMx9BERIfez98bGxuSzRX6/f83mJ4vL7XajrKxM8aA3v6RzR8lkcs3QF41G1zw/tZO3OM6fUaf0tShV85uXKHkdqVQKw8PDCAQCcLvdMBgMcgjU6/VwuVxoa2vD0NDQpoVAaQZmrs8cZhICp6amGAKJdgCGPiLa8XI9ey8cDkOj0UCn06Gnp2ddz+P1emEymRQPevMrGAzKN6YrPWZiYgIejwdCCBiNRvh8PoTD4WXnqe3ksQU7eWurVNLP0+DgoOLXMr9SqRSGhobQ1tYGl8sFnU4nh0CDwQCPx4NAIIDh4eGchUC/3y+vom/2a2MIJNqZGPqIaMfK9ey98fFxeL1eCCFgt9sRj8fX/Vw+nw8Gg0HxoDe/pJWZlV7X2NiY3DTD6/UuGaotzVPr6upCPB5HJBKBEAKhUEjxG/2tLoa+lTtW5lulUikMDAygpaUFlZWV0Gq18s+00WiE1+tFe3s7RkdH1/01ampqoFarFXltDIFEOwNDHxHtSNJ2zlzN3hsZGZEbRDQ2Nm64+UtNTQ30er3iQW9+SWewYrHYko91dHRAo9FAr9ejt7d3QZfBnp4e1NfXL5inplar5e2vDQ0NedNFcauKoS8tnxEdHh5W/FqyqWQyiUgkgubmZjidzgW/2CgrK0N1dTVCoVBWTVl8Ph+0Wq3ir22tEDg+Pi6HwNnZWYZAom2EoY+IdhypWYt0bm6j2zkDgQDUajUMBgP6+/tzErBqa2uh1WoVD3rzKxwOQwixoCHN5OQkampq5NXNRCKBqakp+eZx8U1lLBaTW+mbTKYFDTQqKyvR2tqKwcHBLWugoVQx9GU+piDfK5lMoq+vD42NjaioqIBarZZ/ri0WC2pqatDR0bFqkxaPxwO9Xq/4a1lc80NgNBpdEAJTqZQcAl955RWGQKI8x9BHRDvG4tl7Ho8HRqNx3SEonU7D5XJBCAGn07lmg5Nsqq6uDmq1WvGgN7+kFvtjY2OYmZlBNBqVV+vq6urk1c3VQt/8GhwclOcWejyeBQ00pLNTwWBwQ9vm8rV28oxCqaS5j9mOKcj3mr+6bbfbF4TAxVucpc9xu90wGo2KX/talUqlkEgkVg2B09PTcggkovzB0EdEO8Jys/eqq6vXvYVycHBQbvXe2tq6odXC5Urq5pfr591IScO0R0dHF8weXNysJtvQFwwG5RvKwcFBtLa2Ljk7VVZWltGKyXapnp6eHR/6pNl0yzX5KaSKx+Po7u5GXV3dgi3OQgjYbDbU1dXBZrPBZDIpfq3Z1nIhMB6PyyFwYmKCIZAoTzD0EVFBW2323nq2UE5PT8srFCaTCYODg5sSsKS5XRs9G5jL6urqkpu0SKsWy53vyzT0DQ0NQQiBQCCw7MeTyST6+/vR2Ni4ZMWkvLwcdXV16OnpyXmb+60ohr40mpqacjKbbrtVLBZDZ2cnamtr5ZVyqex2OxoaGtDb27stf64ZAonyF0MfERWstWbvZbuFMplMwuFwQAgBt9uNdDq9aQFLuiHOdr7fZpbUvVMIgZqamhWvLdPQNzw8vGroW1zSionf719ws6zRaOBwONDU1IRIJLItzgMy9P1pIPn8bY47saLRKMxmM/R6vdz9dv7PdWNjI/r7+7dds6NUKsUQSJRHGPqIqCBlMnuvoaEh4y2UfX190Ov1UKvVCAaDm77tUlpNnJiYUDzsSa9f2m7Z1NS06mOzDX1tbW3rvlkOh8Pw+XwLmsLodDp5oHYuZ6nlshj60vK/v+24opXrstlssNvtSKfTGBsbQygUWvJzrdVq4XQ60dzcvG1+uTG/sg2BbApDlFsMfURUULKZvZfJatrU1JR8c2o2mzEyMrIlIUvqbJhOb95qYiY1NTUlr8hIZxjX2tKaaegbGRnZUOhbfEM5PDyMQCAAt9sNvV6/ZJZatm30N7Ok0Nfd3a34tShV0rnV7baCtRlltVrhcDiW/djIyAiCwSC8Xq/8b1D65UZVVdW27Xi7WgiUgqAUAl999VWGQKINYugjooKx1nbOlVbTxsfHl/14PB6H3W6XO0xu5aqbNLg6lx1Bs63521m9Xi+6u7shhMDAwEBOQ19ra+um3FAODAwsO0vNYrGgtrZ2SQfFrSzpe7mTQ19dXR2EENsurGxGmc1mVFZWrvm41X65odfr5RXuoaGhbfd9nT/bUzrvW19fj3g8Lv+3RPpvMEMgUfYY+oioIGSynXNxScOhU6nUko91d3dDp9NBq9Wio6Njy7toBoNBeeubEoFvYGAABoMBarUa7e3tmJ6eRn9/P4QQiEQia4a+dDq9ZugbHR2FEAItLS2bfkOZTCbR29uL+vp62Gy2BUPi5zfP2KpVJ4a+NPx+v7yavdPLZDLB5XJl/XnzO966XC7odLplx56MjPltnpcAACAASURBVIxsqxAo/UKopaUFiURCHhQvrQRK/06lXRoMgURrY+gjom1t8ey9tVb31gpWk5OTqK2tlbtTzh9EvpUVCoXkzoZb+XWnp6flraUmkwnDw8PyxyKRCIQQaw6gzzT0jY2NbVnoW1zxeFzuoLi4eYbT6URLSwsGBgY27UaZoS+N2tpaqNVqxa8jH8pgMMjNoTZS0gp3S0vLkrEnJpMJXq8X7e3teT/7cvE4F+m1SSuBUgiMxWKIx+P46le/ivvvv5/Bj2gVDH1EtG3Nzc0tmb2XzYrc4mA1NjYmd4X0+/2Kds4Mh8PyDLOt+prpdBpVVVUQQsirDvM/PjAwACEE+vr6chL6otEohBBobm5W/CZzbGwM7e3t8Hq9C4bE6/V6uN1uebUkV1+PoS+NmpoaaDQaxa8jH0qn08Hr9eb8eaWxJ01NTXA4HAu2OZeVlaG6uhrhcDjvZiVKv2AKh8MrPmZ+CPzEJz6Bd7/73Qx9RKtg6COibWml2XvZVEdHhzxsPBwOQ6PRQKfTLRk2rkTNH4S+FV9vaGhI7hTY1ta27PdT+u17rkNfU1OT4jeZi28mh4aG0NbWhqqqqgVb5kwmU05ulKXQ19PTo/jrVap8Ph+0Wq3i15EPpdFoUFNTs+lfJ5lMoq+vD42NjaioqFgw+1I669rZ2an47MRsu9t++MMfxn333cfQR7QKhj4i2laybdayWknDxisrK+XByPF4XPHAN//aNrtb6PT0NILBINRqNYxG46qdOaXmCmuF4kxDXywWy8vQt9yNsrRasvhG2Wq1oq6uDt3d3VmNHpD+fndy6PN6vdDpdIpfh9KVSqUghEBtbe2Wf+1EIoGenh75rOvin22/369IwyPp30dvb29G37/3vve9ePDBB5V+eyLKawx9RLRtzM7OLtjOudHmKlKHTCEEGhsbMTU1pXjYk0r6TffQ0NCmfY3x8XF4PB4IIeB0OpdtaDO/pLl6uQ59jY2Nit94r+dGua6uDuXl5QuawlRUVGQ0TJuhLw2PxwO9Xq/4dShdyWQSQgjU1dUpfi3xeBzd3d3L/mzbbDbU19ejp6dn02crStvbI5HImo9NpVK45ZZb8OlPf1rptyiivMbQR0R5b25uLifbOeevbgUCAfm32q2trYqHvMXV19eX0Uy89dbo6KjcwKS5uTmj76fUUa+rqysnoS8ej0MIgYaGBsVvdjdSsVgMHR0dqK6uRllZ2YJh2tIctcUt9Bn60nC73TAYDIpfh9KVz/8OYrGY3PDIYrFsWddbqcnW4ODgmo9NpVJ4xzvegUceeUTptyqivMbQR0R5LZfbOWdmXm9W4nK5IISQf5O91hk1JSrT8QjZ1vT0tHx+Ua/Xr9mJc3FQzGXoSyQSeXuzu5GShmkvnqNmMBjk7onSTW0m29cKtVwuF4xGo+LXoXTl69nWla61o6MDNTU1S7reOhwONDU1rbnKnUlJHYQzaZ6USqXwV3/1V3jqqaeUfrsiymsMfUSUt9Yze2+1GhwchNFolFf3pMYk+dC4ZXFJnTKzCWVr1cTEBKqrq+Xzi9nOAJRGLHR0dOQ09NXX1yt+M7tZJc1RW66FvhACVVVVedE4Q4mqqqqCyWRS/DqUrq2cV5nrGhsbQygUgs/nkxtBSavclZWVaGlpQSQSyXr0SVNTk9y9eK3HJhIJvPnNb8b3v/99pd+yiPIaQx8R5R1p9t7MTO62c7a0tMjdF6Utk5luV1SipEDa29ubk+eLRqPyOIr6+vp1nV+UViRyFfqks0yFHPqWe819fX1wu90Lwp8QQj4z1dvbu+lnpvKhKisrYTabFb8OpUs6K9vW1qb4tWy0pFVuj8ezYPSJTqeTtzoPDg6uGQLr6+vlGaqZfP9UKhX+67/+S+m3LqK8xtBHRHllo7P3FlcymYTT6Vx29lymK1dKVKadMjOprq4uaLXaDY+jkEJfKBTKaejLhwYWW13SSI6uri50dXXB7/cvODMlbZdrbm5e10rJdiin0wmLxaL4dShdyw0iL4RKpVIYHh5GIBBYstVZmn8ZCASWnHdNp9Pw+/0QQmT0c9/V1QWVSoVf//rXSr99EeU1hj4iyhtSs5Zcbefs7++HXq+HWq1GMBhc8nxS98i1QowSlYtVyKmpKfnmqby8XB5Cv97K9PuVaeiTWtX7/X7Fb1C3uqTQt/hM3/ztctJWZGmlxOVyIRAIYHh4uCBCoMPhgNVqVfw6lC5pEHkoFFL8WjazpK3Ora2tS+ZfGgwGeDweBINBjIyMZDXDsampCSqVCrt27VL6LYworzH0EZHipO2cuWrWMjU1hYaGBgghYDabV5x1J50pCwaDioe8xSWtQnZ2dq7r8+PxOGw2mzz/a3JycsPXJHUZXOv7NT09jXQ6ndHWrJ0e+vr6+la9SR4eHkZbWxtcLteSIfE+nw+hUGhDQ+KVrIqKCpSXlyt+HUqX1Km3o6ND8WvZykqlUhgYGFj2vKtGo4FGo0EoFMLY2Niqz+N2u6FSqVBSUqL0WxlRXmPoIyJFLZ69t9FZefF4HHa7HUII+Hw+TExMrPhYaaWpra1N8ZC3uKStlOFwOOvP7evrg06ng0ajWXdoXK4yDcnZhj4lhlIrXZmEvuVukiORCJqbm+FwOKDRaOSbZIvFotgg7fWW3W6HzWZT/DqULmkmZ1dXl+LXomQlk0n09/ejqalpwVZQ6Zd31dXVCIfDS37JYbVaoVKpcO7cOcXexyKRCPbu3YtPfvKT+Nu//Vu85S1vwdvf/nY88sgj8Hq9il0X0XwMfUSkiFzP3puZmUF3dzd0Oh20Wi06OjrWfL7x8XG5a57SIW9xSatq2Ww9nb/CabFYMDY2ltNrks7gBQKBnIU+tVq9I0NfR0dH1qFvcUlD4uvr65cM0rbb7WhsbERfX1/OZ6jlqmw2G+x2u+LXoXRxZuPScjgcMJvN6O3tRUNDA+x2uzxXVfrv2759+1BcXIzz589DpVLh5s2bir2fPfvss1CpVLjlllvwzW9+Ez/96U/x6KOP4s1vfjP+7M/+DJcuXVLs2ogkDH1EtOVyPXtvcnIStbW1EELAarUiGo1mHJKk+VhKh7zFle3W02QyCYfDASEEvF7vqiuc661MV0azCX0ajQY1NTWK32RudeUi9C0uaZD24hlq89vnZ9I5cauqvLwcFRUVil+H0rWeVd9CL5vNtmQVeP4vOWw2G+644w6oVCq86U1vwl//9V/j8ccfh8FgQDqd3vL3tOvXr6OiomLJnzudTrzlLW/B2972NszMzGz5dRHNx9BHRFsq17P3xsbG5FEEfr8/q7Nr09PT8sgApUPeSgFrrVW1mZkZRCIRGAwGqNVqhEKhDX9PV6p0Oi3POMxl6Kuurlb8JnOrSwp9/f39m/Y1RkdH0d7evqR9/vymGaOjo4p9D6xWKxwOh+J/F0pXKBSCEAKRSETxa8mXslgsa/5s9PT04MSJE3j44Yfxl3/5l3jTm94ElUqFN7/5zfjwhz+Mn//850ilUkq/5eFTn/oUVCoVampqlL4U2uEY+ohoS2zG7L1wOAyNRrOhUQRqtRp1dXWKh7z1BKz58wfLyspWbFiTq8p0O2w2oU+r1TL0bcHXS6VSGBoakjsnzm+aUVZWhpqaGnR0dGzpkHiLxQKn06n434XS1d7eDiEEBgcHFb+WfCmTyYSqqqqMHrt3716oVCpUVlbi5s2beOaZZ3DXXXfhrW99K1555RWl3/rw8MMPQ6VSob6+XulLoR2OoY+INl2ut3NOTEzA6/VCCAG73Y54PL7u59LpdKipqVE85C33GlcLWOn068OthRBwu90YHx/fsmtqbm7Oaejz+XyK32RuZsWTSQyMjWEk9qcGK1sd+haX1DSjsbERFRUVC85LlZeXo66uDj09PZs6JL6srAyVlZWK//0oXYFAAEIIDA8PK34t+VLSanQmj/3d734HlUqF7u7uBe87+bDK19vbi7/4i7/AO97xDrz22mtKXw7tcAx9RLSpcj17b2RkRD6v1NjYuOFunwaDAT6fT/GQt7gmJydXPG84NDQEo9EItVqNQCCwads5s7mm9YY+nU4Hr9er+E3mZtTA2BhuNjTi9+Zy/Fxvwq8MZTju9qKuuwfhcFjR0Le4EokEuru74ff75e3S84fENzU15XxIfDarOYVcra2tEEIoutU23yqbHQA/+9nPoFKpMDY2pvTb3QKvvPIKHnroIahUKpw9e1bpyyFi6COizZHr2XvT09MIBoNQq9XQ6/Xo7+/PSZAxmUzweDyKh7zlXq8UbOf/WSAQgFqthtFoxODg4JZek9T4Zv41rXTt4+PjGYU+vV5fkKGve3gYL1jt+O7Vm3jkzHl88dwFPHL6PL5aehk/1RlxqcqVV6FvcUWjUYTDYVRXV8NkMi0ZEt/W1oahoaENhUCj0QiXy6X4a1W6mpubIYTYtvMWc13SeeZM53c+88wzUKlUmJ6eVvptTzY7O4svf/nLUKlU+M53vqP05RABYOgjok0gzd6rr6+Hz+fb8GpcOp2Gy/X6TbLT6UQymcxZkDGbzXC5XIqHvOVqfpOZ8fFxuN1uCCFQWVmJVCq15dcjBdGGhoachr5Mt3Ftl0qlUjjorMLTF6/g6YtX8Eu9Cb8ts+DXJjP+86YGj54pxY+u3sCxK1e3TfOOkZERBAIBuN3uBTPUjEYjvF5vRkO0F5fBYIDb7Vb8tSldjY2NEEJsm/mKm11S5+L6+vqMHv+tb30Lf/7nf5432ydnZ2fx9NNPQ6VS4emnn8bs7KzSl0QEgKGPiHJo8ey9qqoqmM3mDQWNwcFBGI1G+XxbrrcyWq1WVFZWKh7wliuNRoO6ujqMjIygrKxMPk+3Vds5l6tMup1mE/qyObuzXaq5rx8/0RrwxXMX8BuTGb8tsyyof78h8OTp8/j5mXPbJvTNr1QqhYGBAbS0tMDpdC4ZEl9bW5vRkPhCDPzrqfr6eggh8nae4lZXNBqVt5Fn8vgnnngCb3vb2/IiXM3OzuKpp56CSqXCV77ylby4JiIJQx8R5cRyzVo8Hg9MJtO6wsX8zpQmk2nTtjLabDY4HA7FA95KoU9qsqHX6xGJRBS/pky6nWYb+gpttUff3IJvX7mOH1y/uSTw/bbMgueMZXj46El8+9iJvN3emU0lk0l5iLbNZpObwqjVathsNjQ0NKC3t3dJqCnk85zZlN/vhxAib+YnKl0jIyNy5+JMHv+5z30Of/M3f4O5uTlF3wPnB74nnngib1YeiSQMfUS0YSvN3quuroZer886WCSTSTidTggh5DM/mxViKioqYLfbFQ9Ti2tiYkK+ea6oqMjpltaNlEajgd/vz1noK8RzXerGZnzr8jU8c0O9bOj7jcmMh4+exLeOFkboW1zxeBydnZ2ora2FxWJZ0BTG6XSipaUFAwMD0Gg0Bd+5NZOqqamBRqNR/DrypQYHByGEQDAYzOjxH//4x3HbbbcpGvrmb+l8/PHHGfgoLzH0EdG6rTV7z+/3Q6PRZBUq+vv7odfroVarEQwGN30ro9PpRHl5ueJhan5Fo1H5ZtlisWz4TGQuS6vVora2Nmehz2QybVroa+rpw8lKL36lKcPPhRF7rQ7Y29oRT2zuNrqqUAf+46YGT128smzo+y+NDo+cPIMfnTy9Lbd3ZltjY2MIhULwer3yVu35MwIDgQBGRkYUv06lyufzQafTKX4d+VKRSARCCITD4Ywe/8ADD+D+++9XNPQ999xzUKlUeOtb34pf/OIXeO6555YU5/SR0hj6iGhdMpm9J51VySS4TU1NoaGhAUIImM3mTR80LlVVVRUsFoviYUqqrq4uaLVa6HQ6ubOl0tc0vzKZa5ht6NuMtv26hmb86IoGT564iH85dAqfOXgSjxw9h+9duIEDtkqMbWLTjLF4HL83l+OxM6X4kdAsCHz/YyjDl85dxHcvXMGeC5cwMDCg+E32VpY0JL6trU3eAioFQJPJhOrqaoTD4R3VydLj8UCv1yt+HflSPT09EEKgq6trzcemUincddddeOihhxR9P5RW+VarU6dOKXqNRAx9RJS1lbZzLq6mpiYIITA5OblqSIjH47Db7RBCwOfzYWJiYstCjNvtRllZmeJhanJyErW1tRBCwGazIR6Po6ysDG63W/Frm196vR7V1dU5C325HtA9OBaFuakN3zh7FR/ZV4J/PnQcnzt2Bk+fu4Lvll7Hv5acwTfPXcU5T82m3rhWhTrwM50Rj5+9gK+UXsL3rt3Ety5fwyNnSvH9awIvGky4fvMmBgYGEBoahKerE3W9PYjvkGYeUlv+2tpaRCIRNDU1weFwLAiBVqsVdXV16O7u3tQh8UqXy+WC0WhU/Drypbq6uiCEQG9vb0Y/R+9617vwmc98Rum3RaK8x9BHRBnLdvaeNHQ4nV75TF53dzd0Oh00Gg06Ojq2vDOltOVMySAVj8dhs9nk2VRSSLZYLHk3TiKTYfaLQ18skUD30DD6R0aXNKswm805CX1tvRGcqazGr26a8FDRUdzx/D7c+WIR7t51APfuOYgPFRXjY4eO4zsXruPhw6fx39d1iIxmN2Ig2/J0dOLFcjt+rNbhe9du4t9vqPEroxkXavxoamtD8ZXL+LlJhyeuXsTnL57Do5fP4wc6gcsNdUgWeFMPKfTV1dUt+PNEIoGenh7U1dWhvLxcDoBqtRoVFRVobGxEf39/QXW6rKysRFlZmeLXkS8VDochhMho63MqlcLb3/52PPbYY0q/PRLlPYY+IsrI3NwcXn75ZXl1L5Nh64FAQG5Fvvhj81e2rFYrotGoIiFmvc1mclW9vb3Q6XTQarXo6upa8LF8HCchzWXLJPT1DA7jotuPn10z4JlSgR9dUONFgw0Vre1y+DObzXA6nRu6SawJd+HXogzfPHkF/7TvKG5/fh/+/o97cNvze3H3i/vxvr2HcO+eg7hn9wH848FjePTYefzb+WtwBEKbfgMbTybh7+6BLRCEMxRG5I1ZdrpqHz579DA+evIIPnj8MP7p9DE8ePIIPnS8GJ+/dA77XM6C7uaYTCYzmsUWi8XQ0dGBmpoaeWyJEAJarRZVVVVobW3d8JB4pcvhcMBisSh+HflSwWAQQggMDg6u+dhUKoW3vvWt+PrXv670WyRR3mPoI6I1zZ+9t9p2zsUVCoUghEAsFlvw59FoFFardcnKlhJVW1sLrVa75V93/hlGi8WybOjNx3ESJpMJHo9nzdDXMzyCX98sw9eOXcJn953C/z1wBg8XncLnD57BD87dQKmrFqlUChaLBQ6HY903iINjUfyvxoInj1zAd89ew0MHjuK2F/bi9jcC353P78M9uw7gI/tLcP+eg3j/3kP41OGT+MbZKzA3tylyUxtLJvGNqxdx/6F9+OSZ4/ja9ct46sYVPHXjCh67XIoPHi/Go5dLYQ+3L/nc/tFR2NrbYWhthSMUwtAbZ99SqRRqerpxwFOFn1mN+EW5CSdqfWgbyM9GMdIA7oaGhqw+b2RkBMFgUD4HJ4VAad5je3s7RkdHFX992ZTdbkd5ebni15EvJe0QyaS5TyKRwJve9Cb88Ic/VPptkijvMfQR0YoyadayWnV2dkIIgdHRUTkMdHR0QKPRQKfToaenR/EQIzWb2cqvmUgkUFFRseYZRrvdjoqKCsW/R/Mrk3OGU1NT2Gd24ksl5/H44XP40UU1fnJFh/++rMX3zl7Hw0Wn8MNzN1EVCMNqtW4o9Fma2vBMqcC3T1/Fd0qv44GiYtz54j7c/vw+vPelA3jPC0W468X9+ODew/jIgSO4a9d+vG/3IXz/wg1Ud6zdKGIzqrw9iM+ePYH3HdqHL1+5IAc+qf714lk8dOoofmP70+pPLJnE1fp6PGc244dC4DvXr+Pf1Wr8xmKBaGpCsdeFx6+W4oGTJbj76AHcc+wAHjpzFF+9eRma1mbFb+QXVywWgxACjY2N636OVCqFwcFBtLS0oLKyElqtVg6BZrMZNTU16OzsRCwWU/z1rvrzUF4Ou92u+HXkS0lnwTNp5jM0NASVSoWf/OQnSr9dEuU9hj4iWtbs7OyC7ZzrOWsndWEbHh7GxMQEfD4fhBCw2+2Ix+OKB5iZmRk0NjZCCLFlYxGkkRQajQbhcHjV76vD4YDNZlP8ezS/zGbzmucMw4Mj+M8LajxcdAr/dVmLn1zRLajvnLmGRw6dw94yB6xWKyoqKjK+IRwYi6K8NQhjUyt8HV046fDiqeOX8OwVPb5+9go+sO8w7t31eth7zwtFeO+L+3HnC0W4f/chfPTgUbznpSLcs+sAntOUKdY05USNF/944gg+Wnxg2dD3teuX8b6jh/CNm1eRSqWQSqVwtqYG/6HR4NHz5/Fv16/jGbUa37p2DY+cP4/HL5bigyeKcUfJPtx1pAh3lRThPSVFuOvIftxZUoQvXDkPV1dHzq5/NB5HeSiIA95KPF9pwz6PE6b2NgzFMu+4GY1GIYRAU1NTzq4rmUyir68PjY2NsNvtC5rC2Gw21NfXo6enJ++awmx0tbvQSvpFXCZ/Tx0dHVCpVPjtb3+r9FsmUd5j6COiBebm5ta9nXNx9fX1QQiBUCgEs9ks/2Y/n+bONTc3Qwix6R1Dp6en5a9VVlaW0UiKfJwhaLFYUFVVtXowbA7i6ROX8dVjF5cEPmnF71/2ncT/u6SFyWJZEvq6Bofh7+hGU3cfYm/c+I3F4zhe5cW3L1zHYydK8YVj5/Dl0xfx6LHz+NdDZ/DsVT2+evoS3r/3EO7ffRD37jqAO18owh3Pv77qd89LB3D/7oO47YW9ePDAETi34DzfSpVt6Gvs68OzBgMeLy3F/5SV4X+tVrme1evxnuIi3HJoN24v3of3nziMj5wqwQMnS3D/sUO4o3gf7j6yH/9tzs1IgO7REbxQZcP39Dfw6LXz+D+XT+ORq+fwHd11/N5pRWho7XNY6fTrs/uEEGhu3rxVyHg8jq6uLvj9/iVD4h0OB5qbmxGJRBQ/D5jrDrbbvfx+P4QQGf29NDQ0QKVSYc+ePUq/dRLlPYY+IpJtdDvn4pKG7KrVauj1evT39yseWhZXJh1GN1qpVAqVlZUQQsDtdmN8fDyjz6uqqoLValX8ezS/MmkuY2oK4InD5/DEoTP4f29s7VxcDxedwo8vamA0W+StbYHeCIotVXj2kh7PnL2JH51T43c3LRDVjfiDqRyPHj+PB/cdwWcOn8LnjpzBPx84jg/tOox7X9iPD+w6hA/vK8GdLxTh1j/uwX27D+K+N1b87nhjq+c9uw/gfXsP4Rc6k6I3teXtQXz2zMrbOz934Qw+euoofm0zI51Oo7S2Fl+/ehX/odEsCHz/a7XiB2qB2w7vxbsO7sK9xw7iwdNHF9T7jh3CrYf34hPnT6JndO0zUrFkAv1joxhdZo5hPJnESy47vnLzEr544wJ+VKbBz21G/NisxZM3L+JLNy7g987yZT93cY2OjkIIgZaWli37vkejUYRCIfh8vgVD4nU6HVwuFwKBAIaHh7c8BBqNRrhcLkV/JvOpfD4ftFptRo+tqqqCSqXCkSNHlH77JMp7DH1EBCDz2XuZVjqdls+tWa3WZTt45kOt1mE0FzU4OAij0Qi1Wo1AIJDV99XlcsFsNiv+PZpf5eXlcDqdK358cnISZwwWfOqPh/DB3xThn353AJ/842E8VnQS3z99Bf99WYt/P38Tn9t/Gv+rtqC8vBw2mw3N3X345VUjvlJ8EY8UncVTRy7hycMX8IWis3jyyAV8/MBxPFR0FE+fu4JvX7iOb1+4jm+ev4YP7TmMW/+wB+/+wx55K+etf9iDd/9xD+58oQh3v1CE+/ccxANFxXhgfwm+cfEaghFlB6LHEgl8/cqFBY1cvnbjMh65dB7/dPIY3nO4CB85XoL/MZWhsj2M/ZWV+OKFC/ilybQk9D155SJuPbwX7zq4e9nQ9w+nj+Ddh/fggyeLUdfbs+I1dQwP4ajfje8Zr+Np3WV8U38Vuzx21PZ1y4/xdHfi301qPHa9FL+wmfA/9jK5fmkz4Us3LuB7hhuwhYNrfg9GRkYghEBra6sifwepVArDw8MIBAJwuVzQ6XRyCDQajfD5fAiFQlsyJF6v18Pj8Sj6M5lP5fF4YDAYMnqs2WyGSqVCaWmp0m+hRHmPoY9oh5Nm70k37LkIfFLQkW6iOjo6FA8rK1V7ezuEEDk/Yzg9PY22tjao1WoYjUYMDQ1l/Rwejwcmk0nx79H8Wq2jaCKRwFWdET/YdwIf+/1h3PvrItz/6yJ84LkifOQ3+/Gx3x3Eo7tL8KkXi/Hlw2dxzV0Dm80Ga3k5XtTa8KVD5/Fvx6/if64a8atrJvzqmgk/uajDh18sxr3PH8DDxaflwPftC9fx8JHTuG/XQdz6h724/Y978d4X9uP9uw7hzuf34e//sAd//0b4u3vXfnzyyEl8+/J1GFtacb6mFi/Y7Nhlr4C2qRkjsbVXphZXaySCwx4XfmE24TmrGRfr/fI4hvnVNTyMs/4aPO+wYXeVA4a2VkQTCWh8XvzLGyMb7j96EPcUH8AdB/fh1gN78N7D+/GJEyfw7UvX8StDGZ65qcaXLlzAswYD/tdqxa8tZvzUaMDPTEZ8+fJFvPvQ6yt99y0T+j5ysgS3HN6N+44fxI3mRkSXOSfVFOnDD0w38dkrJ/H+swdxz+n9uPtUET547jCeUF+Asf31YHamvhpP3ryIHxjFgsAn1X+WafD49VIUV7vX/P4NDw9DCIG2NmU6qC6uVCqFSCSC5uZmOBwOaDQa+b9fFosFfr8fXV1diGewipltabVa+Hw+xb8H+VJVVVUwmTJbjb958yZUKhXUarXSb6VEeY+hj2gHW8/svbWCTktLi/zb8q6uLvlMn9JhZaWSBgHnck7g+Pg4XC4XhBDyWZ31PE8+DI5fXCt1FI1EIhAaLZ45cApf3X8eXzt8EZ/ZfQL/8IdiPPD7eTY5fgAAIABJREFUQ3jgd4fw/t/sxwd+ux+f21WCHx4+ias3bkCtVuPo5ev47tFLePzAuQWBT6qP7jmCO3+/D58+cEIOfN8qvSZv57z3pQO464UifGD3Ybxv1yHc+cd9uFUKfX/Yg/t3HcSni18PfV88fwGfOnESD5YcwUdLjuKzp07jm1euwdPZmXE4KPG68fmL5/DQyaP4wNFD+NDRw/jEmRN48upFVITa5ced8Vfjscul+PjZE/jIyRI8ePII/qX0NL4prsFQ7cPzpaX4/LmzuL/4IG7bvxfvLtqDuw/uxyePncCzGgP+aLbhe1du4JuXruLx0lI8deUKvnztEv7x7FF86FQxHjhVjAdPl+CWQ7vxzmVC3wdOHsatJXvwzsMv4Y6je/Ho9fP4ofEmLjb6kXijiU0smcCPLRo8VHoE95zZj7tPF+GOU3tx+8k9uO3kHrz7xG588vIJtA1GcLTGg8eul+LHZu2yoe8nVj0+f/Us9nnWnrs4NDQEIQQCgYDiIWO5SiQS6O3tRX19PWw224Ih8Xa7HQ0NDejr68vJkHiNRoOamhrFX3O+VDZzC8+dOweVSoXy8nKl306J8h5DH9EOJTVrydV2zmQyCafTCSGEfD5FGsAcDAYVDysr1eKxEhutkZEReYh0S0vLhr6vSg+OX64qKipgt9vl/y+taAohUHL5Jn58WuC7x67h+ZtW/HepBo8fPI9P7z6Bf37xKD78+8P4xEvH8NubZnT19aOtrQ06nQ5/OFWKzz9fjEdfLMF3D53Bfxy/hJ+cF3IA/HjRcdzx+734xz1H8G8XruHbF67jK2cu4X27D+GuF/fjvl0Hcc9LB/DQgaO4f9fB12fzvXQAd7+4H/fvPoiHS07jg3sP4b179+O9+/bjY0eP43Onz+LhU2fwYPERPHC4BF+5eAnN/f1LbirHEgloW5pxurYaN5saccTrxifOHMftB/fitoN7cfuhfbjj0D7cVVyEe4r34wsXz6G2tweXG+rwrxfO4v6jB/GPp4/h4dIz+Mz503jgRAkeOFGMz587ha8fOYavnb2Ejxcfxwf3F+PjJSfw6eKT+NihY3j8VCl+qTNhd3kFniq9gs+fPYf3HTuIu44W4fYje3Hn0X24/che3FqyB393eBfedWgXbj+8F/ceO4gPnijGPccO4pbi3Xhn8Ut4V/FLeN+pg/hY6TF85GwJHrtRigO+SqRSKdg6gnjkxjnceWovbj+1F7ee2I33nNqHu0/vwx2n9uLvjr+E20/uwQ/KXg+LXxOX8R39jWVD3w+MAk/cvIgTfu+aN+uDg4PyfxuUDhmZVCwWQ2dnJ2pqauSmVNKQ+MrKSrS0tGBwcDDr84CpVEqeV6r0a8yXstlssNlsGT22pKQEKpUKPp9P6bdUorzH0Ee0w0jbOXPVrGVm5k9jCNRqNYLBoPx86XRaPrejdFhZqbq7u+WxEht5nunpaYRCIajVahgMBkQikQ1fW01NDXQ6neLfo/l13WjGoasC9tYQgv2DcLvdEEKgqqoK5x3V+PbRa/jlJSNeEOX4ww0L/njDip9e0OM/zwp89/g1fO3QBZytqEY6nUbXwDBO3NTh2WOleOLAOXz1wFl87/BZfHPfcbm+X3wO/6foON7z+3144KXDcuj78mkp9BXhrhden733wN5i3D3vf9/zRuj74slSfGD/Yfz9S3twX9FBPFF6EU9euIQnL1zCE6UX8fFjJ/BPR47hBdufZqWNxOP4laUMHzhyCHcc3IfbD+zFXYeKcMv+XXhn0S68c//C+rv9u/Cu/btwy4Hd+PCJEvzzmeO498hBfOb8afzzmeN48NRRPHT6GD5behofPXkU95ccwD8c2I9vnL+Cx06dxyeKT+Dx06V4+OQZfPzocTx48Ai+du4S9tmd+NENDT519iTuPlqE20r24vbivbizZB/uLNmLe47ux60le3D7kb24rWQv7j6yH+8pKcLfvRH4/q54F9538iC+Ii7h33TX8BVxER85W4InxUVUdoVRUuvGA+cPyyt7953Zj/vPHpDr7tP78M5jL+GD5w/B1dWBH5u1+L9XzuKnVsOCwPfzciO+cO0c/sOkhq9n7fmHAwMDEEKgvX3pAPrtUKOjo2hvb4fX64XBYJBDoHQ+LxgMZjRcXPrFWH19veKvKV8qmxEWe/bsgUqlQktLi9JvrUR5j6GPaAdZPHtvo6MTpqam0NDQIA9DXjyGYHJyUp7FpXRYWal6e3shhMDg4OC6n2NiYgJerxdC/H/2zjM4qjNt0/r+bO3WVm3V1re1+29QzgkBIppscPYY2zjMOKdxwBOccMBkJHU453Sfzjkox25lCRBIIBACCTDBZEROQkKY4A2ea3+01EYDGGEwAn99V93VQuo+fdQSOu/Vz/M+t4/m5ua7NhSmo6ODysrKYX+NfvzxR46c7Uasa+FlycHTCgt/MuTxomDjA9lBU1s7V69exdO8hTdNxSwpbQxCX3bF6qAXFTfwmqEQubYFY+N6PvVW8oLKzlNZZmausDJ9hYXP8qv4priWz7wVzLMW8I7s5MkcA6nLJFKWS0xVG5mtsfKozkGaQktMlkBstkiyUkuKUktitsRY0chYwUBijoZMwcAcu5d0SSZWKTBSknnK5QlC30v5hczNzWeUrOeFvAJOdXdz4tw5nsx1E61RE6FREaHpB70bWXtjAIyRBaJkNYlGDfEGkVi9SJxBJNGoIcOiI1ZWk6gR+LS8kmccXkbr9WQYdKTotaTotSTKEmOMBv5a4efDsgrG2g3Em8Ug+MUaBeJNIiPtOqbnWkm2SqTYNCRaRaLNKiJMSqLNKsa7jLxQns/b1aVBzyn1MiPfRs76JnTt60h2SUTbVaS5NYOAL8MjM9IjE2FTkurWULyzE9uWNt6tLuOpYg9vV5fycb2fd6rLeLrEw5tVJeg2rQ+2jv6SByb77t+/f9gh407d19fHqVOn2LVrF+vXrx8UEt/Q0MDmzZs5cODADUPie3p67jik/vfm+vp61q9fP6T7LlmyhLCwMI4cOTLcl9eQQrrvFYK+kEL6D6C7mb034J6eHtasWYPP52PTpk03zLm7evVq8F3s4YaWm/nYsWP4fL5fXZk7d+5cMAPsbmcQdnZ24vf7h/01OnruPF8U1fC46GTiEh2zVhh4dIWBKUtknhKcfFlcS9eZc1Ru3sFHjgo+9VaR42u6Dvo+8VTylqmYN01F/FmXz1MqF8/kWHgqy8TExQbGLJCD4Pd5YTV/zfXzvrOcp0UnM5VmMrNlUpeLJC4TiV8uEJ0lEJUlEJUtEJcjEpMtEpMtkKaUSVNoSVXKzNTbmePwkipqiVdJpIkyTzjdg6DvpfxCxhtMzPHksv3IUZ7MdRPZD3u3hL6bgN+AI7QqYnQC8QaJOINItE4gVi8QIatI0Kj5rKKS8SYjcVqRWFkkUachSa8hRisQJ4tMspmZ7XSQaJaI66/oJVkkki0aEs0SiWaJJItIpFlJjFVNvE0gyqIiwqwgxqpmYq6JN6qKB0Hfm1UljHUbmFfvp3hHJ8lOiQib8jrgC1T6NMTY1aS5tZg7NnCutwdHxyY+XVnNa5XFvFRRwKv+Iv7RWIWxfQOnbwA2N/LA/7sDB+5eaPz94gsXLnDs2DG2b9/O2rVrB4XEr169ms7OzmBI/EBI/W+ZV/iguba2dsjTTL/44gvCwsLo7u4e7stsSCHd9wpBX0gh/c51t7P3fvzxR7q6uqiurqayspIDBw784vEqKyvp6OgYdnC5mQfazI4ePXrbjz148CCVlZVUV1f/qsffygNV1Dv9ed2Jf7h8mY/z/WSu0DNyqZaMJRKjl0hMzdLztq2Yufo8ntflYlq9kQMnz7C4tJFX9IUsKW0cBH1LShr5sy6fl+U85mq8vCznMz+/hvd0Ht7SOJnnrGDyEiOjF8iMXiwzbrme0Ut1jF4qMyXHzByNm5f0gSD28WoDCdki0VkB8IvJEojJFojODkBgdLZAokLDBMnE695innfmkSbJxCgFMiQdz7i9g4DvxbwCRuv0PJ+bx99qKonVCkMHviGAX7xeJNmkJdmkJcmoIVonEC6riNWoeaWggJFGHbFagSRZQ4ZBR4ZRT5JWQ7wsEqcXSTRKRBvVRBnVjLLrGOMw9FtPslVDuFnBiH7Im11kZ2KukRiriiiLikS7yPQC6yDoe6OymHFuIx83+Dly7gyjvTrCrUpSXIMrfeluLbF2gXiHyMR8E+5tgbbcvr4+9p46QfnObXi3bqZkx1Z2nTh2W/vZjh49is/n4+AQB+g8yO7t7eXw4cN0dnayatWqQSHxA0NiOjo6hj0k/n5xVVUV7e3tQ7rvvHnzCAsL48cffxzuS21IId33CkFfSCH9jnW3s/cuX77Mli1bgtl7Q5l4WVNTQ3t7+7DD3c08MEWwq6vrV70OTU1Ndz3uYcDbt2/H5/Pd1erh7fjSlSssr1nN2Cw9iQtFUhdLpC4SSV4kkrFMZrLSzDuOUh5R2fnY6+dE93lKN25jfn4Nf5Lz+cBWxmfeKj6yV/CyNo+/uXy8JOfxpMrJF3nVfFVQy3s6L29pnHxVUMsb5iLSvtWQslAifbGWMUt1ZC7TMXqpjokrDLxlK8ZQ18LjZhepKplxkpEJkonkHA2JORJx2WKg8pclkJgjMkdv4zVHPm94ikmXZKKVAmO0eh53uXjE6eQJl5sX8gp4xOFiktHMPL+fyQ5LsMo3JNi7BfCFa1VEyCoSjZog+MXqRSJkFXFaNZOtZpINWtINMik6LUmyhhSdlhitmkidigi9knDDz04wi4x26IPgF28VA9BnUpBoF3m6zM3MQhtJdolYi5ooi4pUp4ZX/UVB6PtjiYdZBXbE/imbHzVWEO8Q+oe2iCQ5JRKvGeqS4BR51udl+/Gjd21hP9BWfejQrff//d7c3d3N/v37aW9vvy4kfv369ezevZtTp079h4TA2x1s88Ybb/Cf//N/5v/9v/833JfbkEK67xWCvpBC+h3qt8je6+7uDr5L3dHRweXLl4f0uPr6etra2oYd7m7ms2fPBisOQ7n/+fPnWb16NT6fj87Ozt8UyHbs2IHP57th6+y9cP2OPTxt8JCyWCJ1oUjmUg1jl2nJXKph9HIdI5fJPCzYeVbr4W17KdsOH+OHy5ep3LyT5eUr+auzgg/t5fzN5eObglpWlK3kDWMRL2pz+aqgNgB9ei9vSU7m59cwW20nbZGGMUt1vGDM5S1nCW86ipmptDJysZZHBDufFFTykGwhRSUzVWdlmt7GWMHAJI2Z6QYbqUotMdkCCTki09R6ZqsNPKTQkaoQiVMLRIsCcRqReI1EglYiUSORKEmMNRh42GknQSfdVeAL16oIl1XE6AWSjJpgi2ekrCJJFkjXyyTqJSbbLYwxGUjVaYmR1UToVUQYVEQaVEHgG2FQEmFQEmcSGO3QM9quJ8qsYoQpAH3pTplnyj08XeZmpEsm1qom2qIiwS7yVImbt6pKeL48j0yXgadLPJR8t5UzPT3sPHGMWSV2YvuHuST0g1+KS0OKW8P0IisL1zXc1cX9wAClw4cP39XjPmgemGLa1tbGhg0bqKmpGRQS39bWxt69ezl3gwzI36N7e3tva7DN3Llz+fd//3d++umn4b7shhTSfa8Q9IUU0u9Md7ud8+rVqxw4cCDYxng7FbEff/yRxsZGWltbhx3ubuaBPTX79++/5X27urqoqqqiqqqKQ4cO/ebnNpB5+MMPP9zz1+Xq1at846tnYraB9EUiaYskJmYbGbdcJnOplodyTKQv1TIh28gjagfvOMrYceRE8PEnzp1nZecuPGs28XV+LfNs5byuK2TaYhNTFpl421TCl/k1vKf38qbk4F1bKQ9lm0hbpGFylok37MV8lFvBm44SHlHbmbTCyEPZJp435jJeMjJSrWOa3sY0vY1xopGHtBbmOHN52uElRaUlRaVlmmxlts7OU3o7U7R6EiSRSFE9yBH9t4kaDUmyROTdBr5+6AuXA5M94wwiSUaJeIPIQ0aZiVYT8TqJkXqZkQYdGQYdsYZADEOSRUOSRRNo7TSoiTaqgwAYbxZJMEvB1s4os4qJuSaeKffwTLmHhwvtJNpFIi1KIswKMlwyY90G0uwymS4DTxW6+bjGz9KmlZTv2E7Dvt28UJnPhHwjyW4NSS6JsXkGHi9z8WlTNce67y50DGR4dnV1DTtoDKcHBtrs27ePixcDla4TJ06wc+dOWlparguJ37JlCwcPHvxNQuLvBw/8Pf7uu++GdP/HH3+cP/zhD/zzn/8c7ktvSCHd9wpBX0gh/Y50t7P3Ll26xKZNm/D5fKxZs+ZXtTGuXr2alpaWYYe7m3lget7evXtvep8rV66wdevW22prvRseyL/r6+u756/L+Qt9PK9zMrq/upe+RMvEHBPjluvIXKplssJM5go9o5frmLTCyBdFtfReA6eXL1+mY+9BPvdU8aKYyxNZDp5TeZjwjZ6MLzRMX2Lmz3I+7+kC0PeyIZ+xy/SkL9LysNLGB95yPsqt4F1XKY+JDiZnGUlbrmWkUkeCUiImRyRd0DFRYyZTbWCKbOV5dz4vegrI1BiZaXKQ3dCEdd1GHBs28bDLQYpOy3iTgZE6LUkakehrwC9WEhitl4m+m7B3DfRFyipSTFomOs1k2o2km7U8ZTPyXGEuoyx6HrKbmemy85DTTKJFIsEskmHXEWsSSOjP5Uu2aIg1CUQYlMSY1KRYNESZVYSbFSTZRB4utPPHMg+T882kODXE2QTCzQrCzQri7ALJDolMh57ZuQ7eqijh1fJinin0Mq/Gj2PzJnafPI65YwMfNFbwdl0p89fUUrlnB+d67z5gDORjHjlyZNhBYzh9q72NFy5c4MiRI2zbto01a9YEh8L4/X6amprYtm0bR44cuSsh8feDz5w5E4z5Gcr9p02bRkJCQgj6QgppCApBX0gh/Q70W2TvnTlzJhhCvG3btl/dxrhmzZpBYd73mwdysr7//vsbfr23tzc4pbS9vf2etlp+//33+Hy+uxYBMVT39PRQv3IVT6qMjMvS8ZTOzbgsAyOXymQuk4PQN3q5TMpiicclJ8Vt2wYdo+/iDywsrGOO0s2rcgGfear4wlvNy5o8HvrWQMYXGmYsMfNnwcnLaiszlBaSFoqkLdbwhMbJh/3Q91FuBX+U3aRmawLxDDkiMTkiUTkCMTki8QqJNJXMLKODl7yFPG5zM05r4uPyyuCeKHVLM+MsJiZazTzhdfOE180Uu5V4jUS0KBAtqokW1aRrpFtD3+0C3zXtnTM8dtLMMtE6gTi9QIZRYoLTRKpFS6pZZm5xHtO9VmLMAlFmFZEmFVEmNel2mQy7jgSzSJpVS7RRTZpNy/PFeYx1Goi2qEi0iTxV6uahfDOJDpEoq4poq4oIi5I4m5oYm4o4u8DUPAsLVzWwpGklS5pW8vXKOp4vyuNvtZXYO9uQt6xDuWkNjm0bqd23E8vWDWi3NJO7o51DZ0/ftcX9gQMHggOUhhs0htNdXV23tbexp6eHQ4cOsWXLluDU4IGhMC0tLezcuZMTJ048sPsBB9pd9+zZM6T7Z2ZmMnr06OG+BIcU0gOhEPSFFNIDrrudvXf16lX27NmD3++npqaGY8eO3dHxWlpaWL169bDD3c188eLNA+QHQucrKyvZv3//PZ+iuXfvXnw+3282KOZGPn78ODU1Nfj9fv6RX8F00caL1nxmSw7GZRlI69/fl75ES9IiiTHLdXxTVk/fv8Bw255DvGcu4TmVm8/7ge8LbzWfuiuZo3IzcYGBjPkSIxdoSFsokbxIImGhQOIikXFZBmZLdt5zl/FRbgXTZCtxOSLR2QJJORpGCXri+sEvKkcgTiEy1WBlhsnOGI2BZ5y51O/cHVwYflTpJ82gY5bLwRNeN4973aTotINaPCNENfEakXitcFvQN0KrDFi+xv2fG2jrHHCsXiBGLxClU5NhkRln0jLRaSLeJJFo0gRC1U0qRhiVAZuURJhUxFtF0hxaMmwyCWaRSIOKZIuGqS4rj+Y5Ge3SMdKlZaRLJt4mEGlREm1VEWVRkmgXmZxvZpRbR7RNzWiPnr9Ulwehb0nTSt6vLmeMV8ekQiPTSixMLDKQliuR5BUYmadhYrGBGWUWnq3yYOxcT2/fnVeV9u/fj8/n49ixY8MOGsPpO21zPXfuHPv27aOtrW3QUJiamho2bNjA999/P6SQ+PvFt5Pf2NfXR1JSElOmTBnuy3BIIT0QCkFfSCE9oPotsvcuXrxIa2srPp+PlpaWu1Jham1tpbGxcdjh7ma+dOlSMCdr4HNXrlzhu+++C4bOnz17dljObd++ffh8Ps6fP/+bP9fVq1fZtWtXMFD67NmzNO7cw4vWfKaoLPzZXsgco5dJWXpGL5bIWCYzarmO153F9P1wffWzpHUrL0u5vG0sDgLfteD3J00ead9oSF4YmAY6doWejGUyyYslkhdLjFou87Bo401XMSPVOqJzBBJzJEYLejJFA2kqmXiFREyOQHSOQLJay0yTg+fd+RRt6Ry0OPyw0k+KTstkm5XHPC4yzUaiJCEIexHX7O2L04pDDmMPwp7uJpZ/Br84g0iySUOCUeLRfBdP5zl52Krn+eJc/ljkJdGkIcqkJsKkYoQpAHwxZjWxlkDVL84qMtqlJ8OhI9EiMc1r5cNqH4a2Vhr27ub16mLGeg1EWVVEWpTE97dzziyyMavYzkiXTKpLS5JT4vFi16BK3/QiC7FOFckekccrHGTka4hxK4hw5hDrVjK2UMfkEhPp+RKPVdgxdg4tOPuXPPC7ffz48WEHjeH0QMXzbsBvX18fp0+fZvfu3bS2tlJdXR2EwPr6etrb29m/fz/d3d3D/n3fzLdT+ezr6yM8PJzHHntsuC/HIYX0QCgEfSGF9ADqt8jeO3nyZPCd4p07d961qlZbWxv19fXDDnc385UrV4LB6j/++CN9fX20tLTg8/nYuHHjsAxRGfDAgvDcuXO/6fNcunSJDRs24PP5aG1tDX7Pl65cQVzZwlxLHpNVZmaINqYqDIxeqmGWxs5fcivYc+LUDY9Z0rqVl6Rc3rkB9H3hreY9WylpizSkLJJ4TGnkTVcJc815TMgxkr5UQ+IikfSlWsYqDMTliCQqNUzSWXjE4uRhkyNgs4OH9BbilRKZWiOGda3sO3EyuCg82d2Nbt16ptqsxEgiMZJAvEYkWroe9iJFNdGSQJSk/uVhLkMFvn8BvziDSLRBIMEsMcFtYoLTwBSLzPMlebxQVkCGQ0ekWUWiTSLVoSXGoibGIpBok0iySUSaVcRZBDIcMo8VuTC0t9JycB/nL/Ry8eJFunt7eLeujESHSJpTy4RcI0+WuXmpqoBHShyMdMlkuGTiHAJTCyxB6Hu1sohRuTKxThWTCow8WmEnySsQ41aS3H+bmifxTKWbp/wuRuZLPFvluWWrZ8+FC+w6eYytx7s4fIP7DlSxT5w4MeygMZz+LeG3r6+P48eP891339Hc3DxoKMyqVavo6Ojg8OHD9Pb2DvvrMOCByudQ9nr29fXxP//n/2Tu3LnDfUkOKaQHQiHoCymkB0w//fQTPT09HDx4kL6+vjuGs6tXrwanRNbV1XHy5Mm7ChTt7e3U1NQMO9z90vc/MCJ8AHz9fj979uwZtlD0nr4fWL1jH3LlKuabPNRu3n7DatrdcHd3d3Dv5o4dO677nn+4fJmSzdv5a2ElL9sKeVJj40m1CXVjCwdOnbnpcdfv2s+7phLmqj03hL7H1A7SFmsYt1zmGcHMW+4S3nKX8KIln+mCldHLdaQu1ZCpNJCqlhmrMTLHncuz7rzrPFLSM8VoRb+2ldLNWzl06jQnu7uZ5/Mz3WojTSNfB3o3qvLFSoFIh0hJPTTouxXw9UNfjD4QrD7CEGjbjDCqiDapiTWqGOsy8FxpHkk2DeEmJekOmVmFDlLsWuIsAlFmNdHmQAUw0qwi2aHhoQIzs0rsPFLq4NWaIuxb26j87jve8BeT4tSQ7pKZ4DUyJd/CrCI7T5S5yfQaSHZIxDsEZhTYgtD3cLGNeJeaNLeGWSU2xhbqgsCXlieR4FGT6FUzo8zC3OpcJpeYmFFmwbvjxuHZF/r6qN23kyWtjXy4qoK/NJbx96ZKdFvWsevkz9WsPXv24PP5OHny5F2BhQfV9/J16O3tpauri61btwZjZwaGwqxdu5bt27dz7NixYR0KM9D2OxQI7uvr47/+1//Km2++OdyX5ZBCeiAUgr6QQnpAdG323sC75HdaAbpw4UKwqtXa2srFixfvOlR0dHRQWVk57HD3S/b7/cFhLfX19Zw+fXrYzmXDnkN8nl/D66ZinlI6eHixjlf0+XxZUEvnwaN39bkGIiiqq6s5evSXj/3D5cvsPHaSsqa15JeV3/LYvX0X+SavhqdznLxpKBq0r+9jewXjl+pJX6Jltso8CPoG/II5j/E5Buba85hlcTJWNl4He3NcuUyQTcQpRFJVWmbLdp40unnVVcRr+cVMs9jI1Bl4yulmpF5H5C+AX6SoJkb8ueUzXLw59I3QqoZW5et3jFFNhFEVgD6DknCjkiiTigijklizQKbTQLxFJNykZJRLzxMlbmYXORjvMZJi15BoCwStR5gDmXupbi1j8wyM8upI82iZkGdkTqmXN8sCLZ7JDomxXj0ZbplMj56HC+08lG8mvj+D7/myXJY0rWTx6kbG5emJcigZn2/guUovGfkaolwKUnNF0vIC+/riPSqmlJiYW53LoxV2JhYbEDevveEi3P1dO39ZWcbjFQ7+6HfzfJWXxyocPFfl5fO11Ww9Hti7NjCk6NSpU8MOXsPpgQm9p0/fvSE5Q/X58+c5cOAAmzdvpqGhIQiBVVVVrF+/nl27dnHy5Ml7OhTmdiC4p6eHsLAwPvroo+G+PIcU0gOhEPSFFNIDoH9t5xwYd37mzM0rLbfysWPAFdsrAAAgAElEQVTHqK2t/c2rWgNRB8NVNbuVL168GByDvn59YK/ScJ1L58GjzHP5eEzh4DnJyytyLk8vN/K0yskTSid/91ay+9idV2KvXLnCtm3b8Pl8rF69+rYGxXR2duL3+295v8uXL7Nh1z7+4fLzrMrD0zlOXpbyeE7t4clsBzNyrIxZrmNGjpEnVcbroO8laz7TBCvf+ut5taCYURo9syzOQdA3sR/4YnNExopGnjZ5mC5ayciWSVBKxKlEnnC6me1wkqCVAtB3i4rftRAYJaqC0zxHaAZgr99DBL4ROiWR/aAXhD6DMljpizSpiLeIxJgFIkwqxnmMPFHiDvrxYhezixzEWgUizCrS3TJ/rPAwx+dljs/LrBI78Q6BNKeWzxuqmZhnJMqhJNKhIMapIsapItElMiZXR7xDJN2l5bF8Jy+VFPBcUR6jPDLxLjWzS+28WlfI6AIt0W4FKf3Ql+BRk+BRM73UzNzqXGaUWZhcYsTU2XrdInzjkYN8tKqCxyoczFtVwfzmGuY31/D52mperS3kab+LJa2N9Fy4EISdOxkycup8N9tPHOG7k0eCba4Pmge6LM6ePTvs53L27Fn27NnDxo0bqa2tDUJgbW0tGzduZO/evb/5eQ7sKx7K78WJEycICwtj/vz5w32JDimkB0Ih6AsppPtcP/30U3ChPjCsZSDb6cSJE3e04G9sbLwjcByKBwaiXL58edhg6mY+ffo09fX1wT0uwwmmV69eJdvfxFNqF6+bivgkt4oPbaW8rLAwz17Gn/UFzBE96OrX39HzXLtncdOmTbf9c9m6dStFpeXs7DrBriMn6em78Z7Hy5cv09vbS+e+w6j9a/jYXsG7phJekwuYq/TwrNLNuKV60hZKjF+k4QnJyWuOIt5yl/Cmq5hZkp1njB4qtmyncvsOnnR4yJD0TNCZmWl2MElvJk4hEpMjMErU86zFy8OijckKM6NWyETlqIlWqMmUDKTrdMRoBOK0IjGawQNcojWBds5I6edJnlGiQKJGQ6xGIFKjHgx7twt9+gDwRRgDsDcAfpEGJXFGNTEmNZFGFdH9Q1tS7VrGugyMcRrIdOoZ5zGS7pIJNymIsCh5vNQZBL45Pi+zix2MdMskOETG5uoZnScT6VAQ4VAQ7shhhCOHEfYcIh0KZhZbWdy8kkWrG/mioZavVtbxVm0Jk4tMzCy18lpdITNKLSR41MR7VKTmioE9fbkiT/tdPFflZVS+lif9TjYdvT5XTt+xjmcrPbzbWBoEvmv9jN/NX1aWsbHrQHBx/2sg4vC508idzbzWmM9ztS6er3PzflMJ3p2bHjj4G/j7eL8NV+nr6+PkyZPs2rWLdevWUVVVFYTAxsZGNm/ezMGDBzl//vywvR779u0jLCyMZcuWDfdlOqSQHgiFoC+kkO5T/VL23okTJ4IZV7ezYO/p6Qm2MW7atOmeZM4NLO4uXhy+CtqNAGvv3r34/X5qa2upqalh48aNw3pO+0+e4QNHOY8rHPzDW8knuVV8ZA9A30f2Uv7ureSRHDvzXD5OdP+6CIfTp09TV1dHSXkFHdt33PY+wXO9fSgLq3l5hZl3DCW8ayzhU1cVec1b6L4w+Oc7AH19fX309fWx58gJfK3b+Mzi542cfN7MKWBGloX0hRLJCwTGLtUzW2XjRUs+szV2ZghWPsir4OS5wOLPt+07Xswt4GGLg0kGCxmSngSlhgxBz7PWXGYKNsatMDAhy8h4pYFYhUCUQk2iQiJWEomU1CRoJeIHKn79gBejEYiWhODnIkU18RqJMTo90VohUOH7V+CTb6+989oK37UfR/TfhhuVJJkE0i0aok1qokxqok2BjL0RFgV/6He4Vckor44ny11B6Hu4yM4Yt54om4pou4pEl5rxeQYS3QIRDkUA+hw5hDtySM2VsG/byNFzZzlw6hRHz55l76kTvFZXxIRCAzNKLTztc5GaKxLlUhDpyiHerWJ8oY4nfM7+KZ5GPl1beV3LX19fH1+11DKrzMbna6tvCH1v1Rfzck0+pbu3Bitc586duy0oOHT2FB+tKWO230JmiYbJ5XomlekYV6rlqWoHS9vqHyjwG3gDrqenZ9jP5Zd84cIFjh49yvbt2weFxA90C2zdupWurq47Hgoz0BkylON0dnYSFhaGJEnDfbkOKaQHQiHoCymk+1D//Oc/r8veu7YKdfr0aXw+H4cPHx7ygr2rq4vq6moqKys5cODAPatqDezRuNcB4zfzpUuXaGtrw+fz0dzczIULF2hsbKS1tXVYzufq1at0nT5H/roOnpe8PC24+SS3ik9yq5hnL+NlhYUPbaV8klvFHNHDu7ay227xvHr1Kvv27cNZUEqWrRB1yUq0/hbMNa00bNnNyXO3hshzvX0sLV7JnBV2Jn+p5ZkcN3Ny3Dyy1MafpXyWl64aBH7XQl9g0diH0beOt5WFfGrwo8hfxbfuWmauMDF6kUjiEpH4ZSLJWRoeksy8YM4nd107m/ceord/sMTp8+fxbfsOw7pWXnQXME5t5EV7Pk/qXEzMNjIpx8RMwcY0tZUEpUSUQk2SUiJaEILQlyhriL6m2jdQ5Rto+4yRBMaZjGTqDcTIwo2rfHcB+iKNKmKNKmLNAlEmFfEmgXiDmoj+quAfroG9P1gU/MGqYIRVQZRdRYpLw1Pl7kB7Z7GDsR49EVYlETYl4/L0pHs1xLhURDgVRPY7vB/84j0qHiox8mpDAXJHC3tPn2BD1wHeqC/i0XI74wsDGX2xbiUxbgUx/a2eYwpkZpVb+XB1+Q0nd94u9O3YseNXVbiWtTXwsM/E1AoDf2rI5bWV+by2Mp8X6j2ML5V5utpB0e4tww5JQ3VnZ2fw7+Nwn8vtuKenh8OHD9PR0cGqVasGhcQ3NzezY8cOjh8/ftv7ATs6OvD5fEN6XEtLC2FhYVit1uG+ZIcU0gOhEPSFFNJ9pqFk7507dy4YYHurxfrly5eDF9JVq1bR3d19T6HmXmbN3RJczp0LTqrcvn17MMh+9erVtLS03PPzOX6uB++aLawoXcX7ljKmLjEzYaGBZ0UvHzoqmOco40WFmVflPF7S5jF1iZk/6QrYc+zGMQk3+/lv3rwZg6eI+YYCPrX6+chQzj/6b79212Kp28ihk7+cRehuaudPYh6PLjbz9GIDz6jcPJJtZ9YKG1MXm3hB7SW/ueOm0LfzwFG+ddTylqKQnLyVKPJXochfxZ9FF6lZEvHZEjFZAjHZIgk5EqkKLbMFO68bCpmfV83KrbsHLfiy6lYzTWPlOWsuM9RWxi7XM0NtZaZgY6ZgI10pE61QE6cUiRcClb5YjUiirCFGGmjpVBGlCUzqjNCoiNQEwHCKxcpInY4YWSD8BsAXrhsi+MmDoW9geucIY2BPX1p/VS/KpCLKGJjwOVDh+4NFQbhFQZRFQaQ5UPEbYVUQYVMSZVcxId/IHJ+XJ8vdjPHoCO//2kiPhiinknBHDlFOJdFOJTFOJRH90DfCkU2US0FKnsDUMhMv1+Wx7vA+Dp45jWXrBp6qdJJRoCE1XyQtX2R0oZZZFVY+Xl1B8e5OTvfcvJ3vdto7t2/fHvy7MFQg2HfmBC/XexlbouGVxrwg8A14bp2b8aUy89aU3ZUA+XvhLVu2DBly7md3d3ezf/9+Nm3aFGyZ9/l8VFdX09rayu7duzl9+vQtv89NmzZRVVU1pOesr68nLCyMgoKC4b5shxTSA6EQ9IUU0n2i28ne6+3txefzsWfPnl9cqHd3dwffhe3o6BiWfXUDQ2eGK+B8wAcOHKCyspKamprr2mLXrFnD2rVr7+n5nOruRVezjnnWCt7SFfMPZyWPZNnI+ErLpEVGnlK6eEWXz9QFMlMXGZnwrYFRX2l5ZIWdZYWNbNl35JbP0dPTQ1NTE3nFZSxylDPPWM6KwlWYazdgrduIqbqVhd56PrFW4mzcxA+Xbvz70X2hj384K5m9xMqjy82M+Vpi1Dda0r6SSP1SIv0ribT5Ei8IuXT3XgxC34ULF4KLvHXb9vGJwcffdRVB4PvE6WeUQiYuWyBZoSV+hUjcCpGYLIHoLIG4LJGMJTLjFut5Sc7D37YtuOCr7PyOP5q9TJOsTFWaGbfCEAS+GWoro7J1JChEktUaYlRCYL+epCaqH/5itSKRWjUR/REMEVpV4N8aFTEagUSNRLRWHYA+3c+wF6lXXwN9NwE/eQD4+vf+GX/JCiJNKhLMIiOtMul2LeHWQHUv0qokxSGRaBUI74e+8P6KX5xdzWNFNh4tsZPolIi0KQm3K4jq38sXbs8hwj54b1+4I4col4I4j4qJxXoyi2QS89SMLdLxTkMp08pMjC7SkJSnJjVfILn/dmqZiSUbG7hwiwX77Qxy+TVtjfUHdvJktZ2H/abrgG/AE8pkXqz3sP/MgxEFsXnzZiorK4f9PO6mB0Liv//+ezZs2DAoJL6uro5Nmzaxb9++G1Z5B4bIDOV5ysrKCAsLo6qqargv3yGF9EAoBH0hhXSf6J///GcQ+G7Vennx4kV8Ph+7du264devXr0ahJzq6mq6urqGDba6urqCo9mH4/kHKl0+n481a9bccFJlc3MzTU1N9/S8/G07+LvDz19tPgT/WsTKZv7q9DM7y8bob2TGf6tnwgIdo78QGf2VllFfa5m8yMQz2S7m5nj5ylPL9oPHbnr848ePU1NTQ2VlJWVNG1norWdxXgPWuo3X+QtHNdnFq/nu4PEbHmv7oeO8bShhxlIzYxfIpMwXSP9KIn1+APZS54skfSEw8isNqoomrly5eh30bfhuP58Z/czTlAWh71HZSWKORHK2yGiVnrhlIrHLBeKzRGJW9IPfcpG0hRpSF0g8orRz4HhgxP/p7vO8n1/OFNHCmGw9Y5bpmKG2MU1tYWy2nlFZOmYIVuaYvWSoZRIEiRiNSJQkEKMViNSqg5l7EVoV8bJEpObnfL4IUUWk5voK32Dgu3awyzXu/1yETkWkXnVT2BthUjDCrCDSoiTcEriNtaoDVT2LggirkkSHRJpTS4xVTaRNRaRNyR/64S/JpiLBpiLTqSHRJhBhUxBhD8BdhENB5LXDXBw5RDgDwBfjVpCUKzAyX0O0R0mMR0m8V0W0J4cYr4JxxTKP+W086rMxtcxEUp6aqeUmSr7vvOVi371906DIhrlVuTeMbLidvVsDrjuwgyeq7Mzym28KfRPLZF6o87DvAYG+trY2qqurh/08fkv39fVx4sQJduzYQUtLy6CQ+JUrV9LR0cGhQ4fo6elh/fr11NfXD+m4brebsLAwmpqahvvyHVJID4RC0BdSSPeR/vf//t9D2mt35cqVYIviv37t0qVLbNq06Rch5176TiaN3qnPnz8frHR2dnYG2zn/1evWrWPVqlX37Lx6+n5A5VvDG3IRKt8axMpmxMpmBP9a3jGX8ki2nfT5GlI+F0n7QmT8Ah0PL7fyhr6IRfn1zDNX8LIqD21ly3W/L1evXg0Oz2loaODs2bMUrO3gr6YKdJXrbgh9ipImvnRW09jx/U2h7w1dEZkLZFK/FEmbLzDySw2jv9Yy5huZMd/IpMwXSZkvMkfpZsueruug7+ipsyzzNPDqijyyvI0s8NQyRm0gLlskPVsiJVtL7DKBmOUCsSsEolcIRGUJxK4QGblUS/ICkZGLtHzorggu+joPdfFuXhkPqcykLJVIXaYhfYWWcTkGHhZs/NXu4+/GCp5Z7uRDezlLVq5kblE+aUaZSK2aSFlNgl4ixaAlVisSJQUqfcF2T0n18yCXfwG6m0HfQDtouEZFgk4k0qRihElJhElJhEn1M/CZf3Z4P+SNsPzLx1YlsXaBZIeGeJtIulsmxaUh3Kok2q5mWoGZOcUOXs1zMtMkk2hTEW4PAF4gsiHQ1jkAfVFOBXFuBeGubCLcOUR5FCR41cR4FMR4FUR6son1KEjNE5laZuIxv53H/HamlplIzRd5e2XxLdvzLvT1UbN3R384e3l/OLsfecs6dl4Tzv5r9rLtPHmUF+u9jCvV8uoN2jtfrPcwrkTL+00lD8wwlw0bNgy5svV78YULFzhy5Ahbt26lqalpUEh8VVVVsBvjVr8bRqORsLAw2tvbh/vSHVJID4RC0BdSSPeR/s//+T9DgoarV6/i9/vp7Owc9PkzZ84E96xt27btppBzL/1rJ43eqQ8fPkxVVRVVVVW3HHjT2tpKY2PjPTu3Q6fOsqSokQ8s5UHguxb8vvBWM/4rPSM/l3joay3PKZz8w+FncUEDiwsaWJRfz4vKXD53VrPv2M9B8j/88AMbNmzA5/PR2trKDz8E4hTym7Ywz1iOsXr9DaFPXbaGLxzV1G/efcPzPdfbx6u6AtK/kkj9UiT1C2EQ8I3+RkvqfJGUL0UmLTTgqt/EDz9cGgR9Fy9epGDVZv4ml/OOsoh51nIyVHoSsyXSVkjELxeDwBezItDaGZ0lEJslMmq5TPoyLTHL1SQpJF7KK0BsbmH38eMcPHkKdf1aZgk2MpfrGbfCwJQVJsZ/qyfzS5nRn2mY/qWRD6QSXLUb2XX4KA85LcTqBCY5zczw2Blp0hGrFYjViiTpNUTLAjGywDijkSSdFAhk/wXYC5cDGX5RsppESSJGLRClUROpUxFuvCayYSCrzzQY+iIsSiItKsKvAcA/9N/G2tTE20SSHRom5ZuZVGAi0SnyxwoPGw8f4Pi5s6jWrOWVgkLmFDlJdKqD1b2fgS87AIKuHEa4sn+2O5twd+A20p1NvFdJSp5AvFfFmCItj/ltPOa386jPRlKemlk+C13nhpar13PhAjtPHqPzWNcNB7/czsCOa71gQw3TKozM9JkG7ev7U4OXSWU6nqiy4dnRNuxgM1S3trYOubL1e/X58+c5ePAgW7ZsGVQFrKqqYt26dezcufOGIfEqlYqwsDB27949rNdtr9fLu+++y6hRo/hP/+k/ERYWhtPpHNZzCimkGykEfSGFdB9pqND3448/Ul1dzebNm4MQuGfPHvx+PzU1NRw7dvO2v3vtgUmj96rF9MqVK8EqwqpVq4Y0QGbjxo3U19ffs9fkyJlulhWv5D1j6XXQJ1Y2s7SokRkLzEz50sCflpv51FIaBL4Bvy0X87G5gs17A6/rtUNqdu7cOagCWNu+iy+dNWQVrboh9C3w1LEkv5FVW/eybtcBVm/fy/ZDxwcd48uCWkZ+rSH5C4G0L4Qg8I35Rib9S4mMrzSM/FrD+IV6XrEW8mp+MS/m5vNRuY+yrds419PD6bPdmP3r+czoZ262J1DdyxJIWiaQlKUhZnk/8K0Qg9AXkyWQmC0RkyMQmaMmSqEmQZAYZzDyiN1JxbbtXLx4kQ079vOKNp9JCw2kfSGR/LlA8ucCaV9IZH4lM3OhmfeFYpYVNDDJYSbRIDHDY2ea20ayXkOMRiBJryFZryFOFonTiTzhcPFuXhmjZd3PA13+peIXLgfaQwccKamJUgaiICJ0/ZW9awe5GAYDX6DSpyTaqgq0eZp/rvQN7OtLtEtkuGQm5puId4pMKjBRuDPQanniXDfZq5t4u6QMcW0zb1QWE+9SE9EPfRFB6MseDHz90HetYz1K0vMl4rxK0vJFZvusTCs3MbFUT3yukillRg7cpbbJgQEmt/u43aeO8faqIqb7jIwt0TDDZ2RahYHMEg2PVVqZv77qF4fN3G9et24djY2Nw34e94tXrlzJmjVr2Lt3L21tbYNC4geidVwuF1u2bGHRokWEhYVx7NixYb1ujxgxgrCwMP793/89+HEI+kK6HxWCvpBCuo/0f//v/x0yONTV1dHWFnhHu7W1FZ/PR0tLy30TjTDgs2fP4vP5OHjw4G/+XL29vcEcws2bNw95cM2mTZuora29Z6/JpctXMNW38pa+mOUlq66DvoUF9Uz92si0r4y8nmXhU/P10PeqWMDfrX62HzwWrGpWV1ffEPj3Hz+DWNHMx8YKZH/LdVW+D/SlvGco4R1TCS9KecwVvLyqK+Tr/Do27wtAZcO275mwSE/y/ABMpX8pkf5lYE9fxlcaxi6QSV+oIT5bJEWtIVnQkKiWSJNkJhpMvFlcSteZM5zt7qFx0y40JWuYJlmJzxZJy5YYKxqJXSESvTxQ5YvtH+YSky0QoxCIVKiJzlYTqxAYrdUzVm8kRdIyy+bAv+07FlTUM1NtI/1bLaO+1JA5X8vkbw1MW2xi7AId05eYeTbLzfuaYsaaDMTpRaa5bUxxWUnSaYjVCiT3Q1+MLBCvE3nG5eWDggrmWLwkyRKxOoFMu4F0s0ykPHjqZ4T2mr2AajXJooYEg3g99BlvDH3xdoFoq5pIiyoAfeaf9/VF29XEO0SSXBKTCkwsXPfzUJXzvReQmlt4ragEZdMapOYW/l5XSWaeTJJHTYxLwQjnDYDvBgAY7s4mNVcg3qsMDHEpEEjIUxLrzSHCk01KgZovN1Sy98yJO17cb968Gb/f/6seu/vUcZa2NfByvZenqx38scbJa4356DqbOXX+/go5v5Wbm5tZtWrVsJ/H/eL6+nrWr18f/HdfXx+nTp1i165drF+/Hr/fz3/7b/+NsLAw/tf/+l/89//+33E4HHR3dw/bdXvlypV0dXUBoFQqQ9AX0n2rEPSFFNJ9pNuBvoF3ROvq6m5Y3blffP78eXw+H/v27ftNn+fo0aPBwSUHDhy4rcdu3ryZ6urqe/q6tOw8wLcF9bylL2ZxUSOCfy2Cfy3Lilfytr6Y53I8PL7YxkvLzHxiKhkEfF96angu28PSwkY2bd4SDEi+2f7Nq1evUr95NznFq/nIWM6XzhoW5zXwub2KecZyXhLyeCLLwbRFJp7MdvKM0s2spVZmLbPyhrGI6s5dHDnXzeumYtL62zszvtIwqr/F86HFRiYsMRCXJRCToyZJpWGy0cJ0s42JehMpopYxsp73yyoG5fYVb+5ksmwiUSEyXmskLkskanlgP99AlS8mJwB8UdlqYnIEEpQS4/UmHnW4GG8wkShoyNQayMjWEb9UIDZbIFqpJkElMlKlZUqOidnLLWQu0PFEloNXsvJ4wuwizSQzyqpnmstGUn+lL1mvIVEnEalVk6LX8k5eKR8UVPC4wcUog54Uo5ZHc51kWPTEyAKxOpFoWSBKqyZcqyRCqyJWKxAlqkkQJUZp5UA2n/GXoW+EWUG0VUWMTU2UNQB9kRYlU/IszCq2M7XQwrQiK6/VFFO4s/O6KZrVO3bwj8pq/uavRGpuQWpuYcHKeuZW5DI2T0eE8waVPdc1t9eAX7Q7hyh3NtHeHKJzc4jyZBPpCfw7pVDFtEo9760t4uDZU3e0uG9vb7/jqZX7zpyk+fBe1nXt4/j52wt5v1+8Zs0ampqahv087hfX1taycePGm369p6eHyspKPvroI+Lj4wkLCyMsLIx/+7d/IyMjg88++4xVq1YN2zU8BH0h3c8KQV9IId1HGir0Xb16NQh7dXV1nDx5e2Hd99IXLlzA5/Px/fc3HhJyp75y5Uow86uxsZFz587d9jE6OjqorKy8p6/L5StXKG3dxqLCBt41lvKGXMSbuiLeMZSwIL8ORXkT/7D6mPWVjjfUXhbm1bEov56/23zMzfEyz1SOlBdoe2pvb79lVfPylSus23EAW91GsotXs6ygEWVpE9/k1vGMwsXDSy28bSzmfUsZ71vKeM1QyKRsE0lLJTKydDxmdPGivYBJS/WkzhfIXCAzdamZ6cssTFxsIGVpoAUzXiEyQTbxsNXBTIudmRY70y02kgUNk00WWvcfCC7g+vr6yKqsZpKoY5zWRLxCIiorAH0xywOTO6Ny1ETlqInNEYjNEUhWa5husfGIw8lIjRxopVQIJGZJRKoDlbYIKeBISUWMqCZNrWH8Ih0zl1l4TZnPh+YyJjssJBo0pJt1/YNcfp7qmaCTmG138EFBBW96SpgqWfijy8NUl5UMs44kvUSsLJJq1JJs1BCjFwjXB8LXY4xqIvQq4nUiY/T6QdM7I0xKokyq64AvwqIkxqYm2qoi2hrI6RuXa+DU+W7O9/ay9/RJth8/Qv7OzSjbmxC3rGXVwe+DWXTHzp5FblnP++UVvFdWzjd19Syoa+AvFWU8X5DLeK+ecHcO4e7AAJfwa+Avov9zA5W+cHdW0JHuLCLcWcR4c8goEnmxwc20Sj0PVxnRbF1zR4v728lj+z179erVrF27dtjP435xVVUV7e3tQ7rv66+/zn/5L/+Furo6PvvsMzIyMvi3f/s3Jk6cOGzX8BD0hXQ/KwR9IYV0H2kgmP1WENXS0hIMvr148eKwg90v+eLFX46XuBNfuHCB5uZmfD4fbW1tXLp06VcdZ2B8/L2ulF6+coX2vV04Vm1CUdFETvlqjHWtNO/Yzw+XLlG58TteWWHhhSwnz6xw8cwKF68I+XxsKuNbUx7lFT727t17W+fd98MldnedZOuBo+w7dpoFBfXMWmblVbkgCHx/1hcwOltH8nINsUsF4peKpGRpyFQZGJOjY9RCicxvZEZ9rSVzgczERQYSs8RA66WoY4bFPgj6ZlrtjNUZGK3Vo2wavMDdvn07Knc+H3jLeETnIDVbS8IykZTFGlKWSUQrAlAXqwhU+UaKOqabbUwymklUS0Qp1cSqBCKvgb0I4WdHSiqiJTVJCpHpS038KSeXb2w1eNs2M8vrINNmIMEgEaVVE6lRE6sVmWK28Ja3hBds+UyTrLzsKMCxvo23/WWMsuiJktXEyAIJeikAdf1VvIGBLSMMSqKMajKsOlKNGuJMAtEmNZEmFeEm5XWTO+NtAmO8eka6tcTa1Yzy6BA3NQdfo6LdHTxd5eKhUiNjimQyi2Sml5t5raGQbf0RCAdOncLcuoFv6ut5ptTNhAIdYwq1TCjWkVEgEenOIcqTQ3yumiiPoh/8sgY53J1NvFdFpCebCE8WMZ5s4jzZjMxVMrtQ4ulyA89UmhldKvDqqlxO9fz6VnhIIbIAACAASURBVMq2tjZqamqGHTKG2ytXrqSlpWXYz+N+cF9fXzBTdij3f+655/gf/+N/8NNPPwWvoefOnWPXrl3Ddg0PQV9I97NC0BdSSPeRbgV9x44do7a2Fr/fz8qVK2loaBh2qLsl2Fy+jM/n47vvvrurxz1x4kTwtbhd8PlXD1QKh2va6cUfLrFu5wFcq9rRV6/HWNtK6fptbDtwFHNuEeqCGrJKVrOsaCWqojr0niJqamt/dfbh1atX2XviNJv2HebPugKmLDTyF3Mp71vKeM9cytgcA4nLJJKWa0hZFvBk0cI0rY20LC3jsrS8YSzkRTGX51Qe3tGVMEFjJE4pMt1s42GrIwh900xWxmuNpAsySSqJ9wvL6e7pDS7ycstX8/EiG5+ry5i3oog3l+cxY6mZiUsNjFyhJVqhJvIa8EtVakhXaklQSkQp1EQq1YEKn3SNxf69dYKKKDEAflGCiskrTLy43IuqcDVnu3voOnsGa3sbH1b7eLYgl2kWK7NNDqZprEzTWHnC6OJ1TzGGta30XrjAvlMneb2iJAiJUXp1sH0z2qgm0SwSZxIJNyiJMKpIsIikWrSMMsukWDVEmgPQF2FWEmlREtG/by/KqiLZKRFnFxjj1fFmbUlwb5qxcz2jCrXEeBQk5aqZUKLnoVIDaQUSGYUanq/xsu90YI/die5z/GV1CQ+V6UkrVDOySGRMiURivpIIT6CSF+Md+DjrOuiL8GQzs8LElAodY8s0PFpl4fl6Jy/UOpjjN/NkqcxjRRpGFyh4uEiirHkVe/bs4fTp05zt7eFc79CD1m8nhPv37IaGhkF72P4ju7e3F5/Px9atW4d0/0cffZQRI0bwz3/+c7gv3UGFoC+k+1kh6AsppPtIN4O+f21hPHPmDG1tbdTV1Q071A0FMAYu5HfreAM5dPX19Zw+ffqOj7ljxw58Pt+vrhTeift+uERZ6zayS1fzd5uPv1l9fGyp4FNnFYJvLdm2PLZu3crly5dpb2/H5/PR3Nz8qwf2rPv+IJ8X1fC8PpenNW4yF+lI/0bDXMnL+5YynpdzSVuhJXGZxMgVMqn90DdVsvKUxctEtZFRWRqWVDVw6MRZtuzpomPPEV4tKCZV1DLZaOmHPjuZGj0JOSKxWYEhLNHZasYu1/F3UwU7Dhxl3eY9zFcXMfdveuYLFeTYGlhhqeOvihJmLDaRukIKQl9kf5tnTI6axJxA22dkP/QFWzpF1XUfR4vqAPiJKkZly3xm9FO1fvsNF5H7TpzE3drOwsoGvvHXIzeto/3AoUGj4nsvXOD1shJSDNpAK6dRSbxZJMmiIckSqOpFGlTEGNVEm9TEmNSBtk6LinBLoJUzwqIkuh/6oq0q0lxaJuQZeaTEgWLDGk6d7+bU+W4+WVtJnFcVyNVz5RDlVhDjUZJRoOFRn40xRTLjinUo2gN7wvRbW5hdaWFcqZY5tS5ebsjl5YZcZvnNRHlzrtnTl9Xf6vlzm2e4O5uY3BweqpCZWWVkWqWeV1blXuc/NboZWyrwWLkOp78MRWke7xdZea3UynvVHpa31NB0YNd1+w7/1Rs2bKCuru6WC/vzF3ppPLQT3ba1aLetoWr/ttuCy/vddXV1bNiwYdjP435wd3d38A3Codx/ypQpJCUlhaAvpJCGqBD0hRTSfaSffvrpukV6T09PcCLltS2MwzF85Ne6srKSjo6OOz7OxYsXWb9+fTCH7uLFu9PaOgCRd+t4t+NVW/ewrGgln9gr0VY2Y2vYiLV+A+qKNfzV6uMjwUFx3epgiPHWrVt/dUWyZusu5urzmLzCxMRlRqbnWBj5rZakr0VGfavlGcHNbMFO0nKJlOVaMrJkkpZIpK+Qma138pTFyyzZRtJykZcc+YOOXdC5lQl6E2mSzEyLnTEafWCoSpaaqKwAsEVnqUn5WmTUV1re0RSjdDXw+lcOPlxoRXQ3os1tQpv7/9k7r+iozixtM5f/WnM5ay4NyjkAImcwyRiDbTDGdjvnTJsgRFasnHMplbJUJdUplXIWKIAQGQMGk3MSCGzT0zPTz39RUoGIoh2Ee+pd611Y4juBguVzHu397beJlVaBMWk6wlOUhInugl9A36/9X/tJ5PjJ5AP28d0Pfv4KGf5yD/TNUJvJrOzg6vVfBw31Rw7zYr4Nf6PMU9Ezqwgzqwg2KQgwygkxKRmZriPYpPBk85kljDBJ8DdLCbEqCLUqvPEMMVkaSr/fS+epH7l03RM1cLO3l6+anMQUqBiRLWJEtojAHAkBNjEjskX428SE58mZ5jAQka9gkTubk1cu8VZdPqPtKpZW27zA1+9ppXr8cu6t7N2zry9HREyRksllGsY4lExxahlbpuT1OtsD0PdqTSYTnGq+bHWg3dXCh7UFzC81MqNIzdR8BTMLVCwt1LOlopjde/dy7ty5h2bx3Z9Pd7HnGqVHd6Ha04hmbxP1Jw7SfvoobzfmMsutZ4KgYrxTyQy3jmV12dSf+H7IIeW3cH8MwVDfx7Pgy5cve7cCDGZ9XFwcY8eOHerH9gD5oM+nZ1k+6PPJp2dI90PfqVOnqKio8E6kvLeFcffu3bhcrmdyYucDsFFZSVdX1686x6VLl6ipqUEQBA4dOvSb/rmPHDmCIAjcuHHjD/1cbty6jaWmk6/MToxVbaTXdg6wUmjhjRQzG4y5uFwuTpw48U9f69y1Ht4wFTIh2cBCVTZvmgp5y1zEIpWNURs1hCcoiNuoZYbUQkSyiqgUNZFJHo+TGHjJksNLllzm6TKISFbyWnregPNfv3WLNwuKGa3RE6lQEyTywF6gqK9CJ5ITlaJi9AYNEeuVRCQqmSoyMC/FxCcpFi/0qXMbma/MJDpNTUySiphEFWEpSoIkCgL7wM8Le/I+K+9r77wH/gL6qn2hGiXflrm8raWPc29vLztOnUDR3kpiSz3a7dvYf+7MgDWa9m2EmpX4G2UEGuUE9sFehEXF5BwzM/PTCTEr8DNKCbTICbEqCLbICbLKveAXaJEyMd9Iwf7uAeduOH6YSXYDQTlS/PsqfIE5EvzuC1cPzpUSmCthWqkJ99F9LKzIYHKZ7gHg63dIgQi/3FQCcj2g558jJjRfyqRSHQsqLMxzm4kuljKn3MQLlRYmOtW8WpPFXxryeKs+l8XVGYwvU7G4OoMNnZV81FjMoopMvm4pI6Gtgvit5XxYnc9su45lJSbEjjzv3uOOjg6OHDnC5cuecPe2tjZqa2u5desW7h/3sqw+k+crdUwqVzK5XMUMt5ZYh4QYh5RRpTKmuDSMcyqJdkiItIuZX2mi9dSRIQeVX2u3282OHTuG/D6eBV+4cAFBEDhy5Ml/r729vYSFhTFjxoyhfmwPkA/6fHqW5YM+n3x6htQPfT///DO7du3yBoxfu3btgZf4/fv3IwjCoLPohtI1NTV0dnb+U8feGzz/e00qPXr0KIIgDCrI/bf04dMXEJc2sS636gHgs9Z2Ii6o4PVkMytU2Rw/c+5XXaugYzfz5ZnMFFt4SZnNC7JMFsizWKyyMVuSTuwGNVHrlMRuUhOWpCQkUUFUspo4kZ75hmxesuTykiWXaSozsakqvi0WHrjGiatXea/EQaxS64E9kacdM1ikICpFxcTNOiLTVPjfC2xyOf5yORPVRpKyq9mUWckEiZGoNDWjktREb1ERm6RhrFhPjFhDhNizl+/e4/0UD4G+PkfqPGHrk9JN7Dx18okvk2evXuXLaoGxmQZCTUqCjApCTUrGZBpIaKj2thaeuXqFWQXpBJkVjMzQMipTxwSbkdmFGcwrzmJuUSYBJjl+JhlT803MLclgcr6JcbkGxucamJKjZ3yGihibmo9q7HSdOUHPTc80zoRtlcQUqIgpUBFgkzDiMfl6I2wiwvJlWPd18GJFOtOchkdCX1SxlKCCNCaWqZlXbuYFt4UXK61ez3GbiCmR8WFjIes6K1hYZWWCU824MhVjy5RMFjS8UpOJeGcd69orWOBOZ+VWF+vaKwf421YniyoySWyr4uChQ7S3t1NRUeEN2a6rq6Ompoaqqioqj+3lxRoTo8okTHQpmF2pZ1aljnB7GgFFyYQUpzKuTEG0Q0y4PY0wexohxSmEFKfyUo2Fm32f2Z/VLpeL7u7uIb+PZ8Hnzp1DEASOHTv2xLW9vb0MHz6cF198cagf2wPkgz6fnmX5oM8nn54h/eMf/+DatWs0NDQgCALd3d2PhLqhbEl8WtfV1dHe3v7Ux92+fZvOzk5v8Hxvb+/vcn8//vgjgiD8U3EPv8YHT54nzd7ApvyaAcBnrm5nc6aDlZps3ky1sNZSwoVrD8/gG6yTXA2MT9QzPcXEtGQzU5KMTEkyMiPVzBxxOrNEVmI3qpmSbGJkqpbQZCVjpQZeMN4FvvnGbGJFGiaKtZTt6H7odX7+5ReWGHIJTVQQlqQkJlnNuC06Jm3WEyFS4S+/D9jucZhCxSemEsaK9YwUaYlNVBOeqCQ8WUV0qproVDXhIuWA6Zx+8j4/BPj81TKCtApGm/V8W1X+0DbDe3395g3eK7d7hrHopfjpZfj1/TpCLyXEpOTrapf3PBuaa4jJ1BBiVRCeoSQiQ8UYm54puSZiMjQEmuUEWeTMt2eyqMw2wNPyDIRlSvDLEhOeK2dyiYEl7hyy9m3ng7oSwvLkjCvS4X9fde9++9nEhObL+LTJzpKqbEbbVbxek/sA8C2rySGySEpYoZg4u2IA7PV7QpmaiWUaVLubuXqjB/uRbr7eWsryOhvL63NY0+6i8sf9dJ09zhdNDpZV5zwAfP1+uTKLb1udHL18wfuSfvbsWfbt2+dtVy9zOlnsUBNrT2O6U8miahOv1Fl5qcZChF1EQFEyAUXJBBenEFySQmhJqhf6AoqSCbenkdr95H2Bz6qfdlrlv7pPnTqFIAicOHFiUJ/df/zHf/D6668P9WN7gHzQ59OzLB/0+eTTM6QrV67gdrupqKjg5MmTj32JH6qWxH/GjY2NbN269amOuXLlCnV1dd6N/b9nG+uJEycQBIHLly//oZ/L2SvX0bi3siJdwFrTQXptJ/ryFhKMBazUZJOcW87rKRa2ZJVy66dfV9H9JsdF3CYtEzbrmZlmYY44ndnidGakeABwZpqFCUkGvitwk9G2g7n6LEZKdIyRGZissjBeYSJWpGWq0szb+nTOnD37yGt9bHUQnaBidIKayZsNTN5sYEySlgDZg6B3PwSOVGgZJ9ETlqIkNFlJSLKC4GQFgaly/BWyB1s5lY8GvwC1nLEWA1+4BS5ce3i8QM+Nm/Tc8FSL3N8fINys6gM+KcFGBSFGJcFGBf594BdmUrHt+DF6bt7kmzoXAZYHc/eGmySMMEkJMHty92JtGl4qvQt8s0qsBGdLGZEpYniWiJAcKRG5CsJy5UwqMTCr1EJknoKoPCUB2ZLHQl9gjoTIQhkvujNY0epkmlPPDKeR5feA3+s1uUwt0zPdaWBimYbYEhkTyzS8UOGp9C2osDDVqSWqWMp8t4VDF88OeLk+f/0ql3queWF3x5njfNpk583avEdC39JqG1+3lHHo4rmHfu7Nzc2YKh3MdCqJtacxyy5nll3O8w4FM8oUhBanEliU4gW/SLuIaIfY65CSVAKLk5lbrefQpTODBotnyU87rfJf3f3/Hz59+vQT1/b29vL//t//44MPPhjqxzZWq5V33nmHd955h7i4OIYNG8akSZO833M6nUN9iz75BPigzyefnin9/e9/Z8eOHfT0PLmqM1TVqX/GLS0tNDc3D2rtnTt3OHbsGOXl5VRWVnL2MXDxW7n/J8z/bATCr7GjbS+rsytIKqpD4ahjtS6HNbocFKX1JORU8rEsE2tp1a+6xs1bP/FXWzljNmkZn6hnriRjgGemWhi7WcfUVBPW5u387W9/o2L/97xlK2a2LpNpaisztem8bM0jtaIWR5mTc+ce3W4qq2xh9HoN0WtVTNykZ/JmA5Ei1UOre/dDX5BcQXSamqBkBUHJCkJTlASlPr6F008lw18hJ1CpIFCl8AxwUcmYZ8ui+egPD0yS7Llxk9bdR9DYW9iQXsmG9EqMzm28UpiLf191L8SkJPQ+++ll+OtlfOwuRdzRRHSWGn+LJ36hH/a8NksIsEoZbhUzwiJhZJYH/BaWZhOeI2dElojhmSKCsiVMLTEyq9TC5BIDoTkyRhaoic5XEmiTEJAtfmx7Z0SenIkOLc8LJnIP7uDd+gKmlOkZY1czSzAxUzASZ1cxzWngo8ZinD/sYWFlOmMdKiKLJYy0y4kqljLarmCu20zJ4Se3Gh67fIHvWgUWujNIaKt4APjit7lZ4E4nvs3tjZ64383Nzcir7cyq0DLVrWZxjYUXK/TME9RMs8sI6QM+/6IkAoqSiShJI+pe6CtOJaQklSluBdaDf86cu+vXryMIAvv2PXya7P81Hzt2DEEQOHfu4T8ouP+zGzZsGF9//fVQP7Z55513GDZs2CO9adOmob5Fn3wCfNDnk0/PlP7xj38M+kX+5MmTCILwm0QW/N7eunUrjY2NT1z3008/eWMJmpub/7Aq5pkzZxAEgfPnz//hn82pi1cxVbXxsSqPN1LMfK60sSG3km+tAutyq9hoKaShufWpz3vnzh1++ulnfvnlDodPXyCtpIFpySZGb9IwNcXEHHE6cyUZzBGnMz3VTMx6Fc+LrBw6e3fP5O2ff2bb0eOU7TlAzcEjXL5x07vv5nEwvvfkWZ5PsxKVoGTkWhXjNugIFSsfAL4AhYIAxUDw85d7IhmCkxWEpCiISFN5KoT3T+Z8yOAWf4Xccz6FnNEGPRcfUt273nODdHc7K7RO3kzKZcnGLJZszOIvyXlE6lQM10kJ1MsfAL5Qk5JAg5wReinTbBbG5xrwt0gJS1cSZJEzwgt74ru2SBieLuY5q8fR2WricrX4ZYkZnikiIFPMyHw1s0otXo8v0hGVqyAqX0mATYL/I6BvRLaIUJuUkQVKxpSomS2YqT9+iAMXzrCmzc2r1dnMLbcwr9zCkupsNnZUcfSyJ89v17mTbOio5IUKC3PKTcx3W1i5TaDl5OAHo+h2t7Ks2sa79YVe8FuzrZwvGh0srshiSaWNzP2PnkrZ1NSErqaM2ZU6JrgUvFKX7vXLtRZiHZIB0BdWlEJ4cQoRxamEF6cSVJxClEPEJLeMpO6Kfwoyrt3soer4PtbvKOeLbUWs7Cil4PB2zl678odAztWrVxEEgQMHDgw5cD0L7u9euXDhwhPXnj17lmHDhpGQkDDUj22ffPrTyAd9Pvn0jOnPACpP6/b2durq6h675t69jL8mluCf8WBA5vdyb28vZVV1rDfksNZSwpbCWpKL69G6t+Hs2Ierspq2trZBn+9m723adx8js6wdTV4T+oIWLKVtJGbX8KW1jFkiK2M2axndV/WL26wlbrOWiVsMrMh2cf3m4/eInj9/HkEQOHPmzAO/90tfC+6dO3eQVbYwJclIVIKKmAQVQamKgRW+/spcP/gp5Pgp5ATI5UTLNMSINESLNYSKlA/P4VN5qnn+ahl+as/XwUoFIWoV0Totoubmh74sOlv38JWqlNc32/hO72RdupsPLcW8orURqJYzXCclQC97LPSNydQTlaki0CojyOLJ4euv7g03i3muz8PNYvzT74Kff7qUqBwlflliArIkRGXLmOkwD4C+mQ4zQTYpE4v0ROQo8M8SPwB7ATYxsQVKInJlxOQriSqUsaQqm7PXrtDb28v2Mz+ysbOKZbU2ltXaSGh303rqyAMVz3PXrvD9xbOcunr5qV/QD108S0JbBa9WZbO4IpOXK7KY67QwvkTD5BIdS9w5WHd2svfMg616l65fR18hsMZZwBSXmgh7GtPLtbxUY/aC3wy3lsBiD/QF9lX6wotTCS1KIbAomZCiFOJK0pjgFLO2pdg7FXSwPnPtMt91OHixxsjkcgVjBCkTXDLmVul4p9nGrvPHf3fIedqIgn919+9TH8zf5ZEjRxg2bBipqalD/cj2yac/jXzQ55NPz5j+67/+a1Av9497+X7W/KQg+RMnTnj3Mp46deoPv7/+UeGnT5/+Q6978eJFqqurcblcHDlyhB/PXab76Gl2HTvNuSueSaKNjY1s27ZtUOe72tOLzdnBZl0FXyQV8dmWQj7ZXMCXKcW8tzmPFRonyfZ6lmrymCWyMj3VzMw0C6+ocnhXU0Rew05++vln7ty5w9FTF3E27qGgeiflLfs4feHqgM+q/9/dsUuXUTRt5dXMfOaZslluK8Lctp0Tly9jrGtjsdLG5EQjUcnqe6Zt9gFfH/T590Gfv0JOqFJFnFLPdJWVhSYbY1V6/PshTykjUCV/YN9eP/SFqJREaNTMycri0ENaxK5e7yExu4alm7KJN7l401JAnEFPhF5NmF6Fv1bOcK2U4TopwYaB1b4Qo6JvsIuMMZl6T9h6X/7eiL69fPfCXv/+Pn+rhOBMOc9ZxQRkSJljTyc4W0polpSIDClj8rTe9s5+6Au2SZlUaGBOdgYhFjkBmf0TPNMIyBYRnuOp8IXkSgnLlzDdaUC2s4ne3l5sB7fzbmMBL1RYmOzUMsmpYW6Fibcb8tDuafFOCP0tfODCGURd9SyrymWGw8ikYh1zSy0sd+exur6S+LoqrF2d7D59ynvM6auXMe/q4L2iLF4ptDJbMBFlFxNmT2VMmYz5VUYW1VqY4dYQUuJp8QwsTiawOIXAIs/Uzgh7GuOdMiaUiZheJiHRmY0gCNTW1rJz506OHz9OT8+jsxh7e3uJ3+5kVqWGCS45L9YYWVqfzuJaM1PdKiaVy3mn2cbpa08Pw0/jixcvIggChw8fHnLgehbcP5H62iP2397r7u5uhg0bhlqtHupHtk8+/Wnkgz6ffHrGNFjo6/8p8a/Jbvuj3NXVRWVl5QPf/+WXX7zRFI2NjX94ZEK/L126hCAITxye81v5zp07HD161BtD8bi9hE1NTbS2Prm9886dOxRXdxOvEFghciDLrEdf0IImr4mNWjdLv0tnaXwmsqJG8hp2oinfirisCZWrFVFRA6KiBlr3HeP6jVsYS7byrayUdzbm8eY6G+9vzuc7eRk5FTs4c9ZTFT116hTbjh3nRYuN8UojUWINkWI10RINk9RmXssqYO/J05y+eAnXzn2kt2xnlF6PX39Frw/8Avq+9uuDvjidnlnadCbJTSxNz+cFcxbBagX+KhkBSjmBKjn+yrtVPv97ADBIriBGoeF9QzGF9Ts5c2HgS/ueIydZoXPyTmo+y8x5ROrVBOjkBOkUhOpUBOoUDNfKGK6TMkInI8ggJ8So8AxyMXgGufjrZMRYNB7Qu2cP33P3VPieu6fFc4SlD/rSxQxPFxOTpSY4U4pfhpggi4TwTDkxNhXjC3Te9s6IXAWzC60szLQxJd3CWIuB0TY1oTlS/HPSvA7KFTOuRMOnTSWcuHKRuuMHebshj2mCjmW1Nj5pLuaz5hLeqMthuqBjeV0O6u5m8nZ3o+7YhrajDcf+vXSfOknXmRPsOH2cE1cuPdWL+t4zp9ncWst7FSWsb6lC3bmV3F07ydvdjaGznfi6KnJ37+RqTw83e3vJ3LODr+tdLC9IZ0VpAcodrbxSncGoUhnh9lTC7KnElIqYVK5kbqWeSeVKIhyphNvTiHaIGS/ImV+tZ3aVmkkVMt5rtXH09AnvVFCXy4UgCLhcLpqbm9m3bx9nz54dMLl1x7kfWVxrZpxLymv1GbzekOn1svoMprlVzKnSkXOo43eFnP4f3P3www9DDlzPgvfs2eMdTvakta2trQwbNoyMjIyhfmT75NOfRj7o88mnZ0yDhb5r1655M42GGuqe5F27dlFeXj7gez09PTQ1NT0xmuKP8JUrVxAEgePHj//u1/r555+9+xZbW1ufGEMx2CE4p89fRZZVzxdJRWj72jrv9bdiB6+vyeT9lAIkJY2YK9rRl28jMa+WjbZq8hu7OX+lB3VBM+9vzueV79L5MLGAL9JKeH9zPov/auWT5CKMxc04nU52HT7MQmsOsVIt45VGZhszmW/O5nlDBmPkBkbLdCwyZLBn334uXbpEb28vW48eJVKr8bZy+t0HfKN0OjbV1vJ2djFxEj0LjTZeteYRrlHhr5YRoPKErfsrZYSoFURq1QR4B7nIGLNFywsbrMxZa2Z+opXXFXmYG9o5ds6zR6jr++N8rSnlTUke0XoNATo5ETo1MXqt134aWR/49cGfvs86KcO1UvxUMkJ1CvzM0sdCX79HWD2w91yfR6SLCcgS45clIihDTGSWgtAMOdE2JWMLtJ5BLnlqXivIZ7O7lpcLcxidpSU0Q05wppTAbDH+WSKCc8TEFMl5vtzAa/WZvNecx6u1GUxzaXmrPo/PW+wD/F5DAXEOJbPKTHzgcrDcXsRr9gJesttYYM/i9fICvqx3ktBShXV3J8cvXxzwkn32+mWEH7uR7q0mdXcFpoNNdJ07RvnBA2xsqMPQ2U7e7u4HnNzcgLJ9K/kHdvJJczGj7AoiiyVMKJLzhsOKckcrqh1b+a7VxfPlRiY4VbxYbSZlZzXbzx6j8dRBljdlMLNKxdhyCRPdMsaVS5hVreat5iw6zh4dcJ89PT0cP36c7u5u7/Tf/oD49vZ2Dh8+jHpXPTMq1Myt0g0Avn6/XGthnEvGN20lvyvknD17dtC5dP8X3P8DwCdFq9y6dYuqqiqGDRtGcXHxUD+yffLpTyMf9Pnk0zOmv//974OCh/5x30eOHBlyqHuS9+7diyAI3tiFM2fOUFFRQXl5+R8CWk9yP0AfPXr0d71OT08PjY2NT7VvsbW1leq6ehr3/kBp+16qdn7vbf281227jrFeXc4GTTn6ghbSrDWslJbxeaKnzfPbNDuv/TWdz9OKkZU0siWvlqT8OnTCNopbdnPm0jW6Dpzgi7QSlqzKZLVSYK2m3Ovv5E5e/quVL9OKycwtQV5dnnwxPQAAIABJREFUzyS1mbEKA/PN2QP8vNZCVJqKMWI1X0nTSU7NRqYoQHA1Ub9rNy9kZxOsUhLQV/ELUSiYYDAiamrm4rVrKGpbmK60EJOmYbLcxDiNgUD13WEu/koZoWoFIf0VQIWMyWkGlm22MWWdgZHr1EQlKIlar2JCkp63LIWoa7fy/fGzxJvKmSoyEqpTEaJTDgC+GL2GEJUSf52cEToZfjrPtM4RWikj1DJGKKWMUMrwV8kZYXh8pe85s5jnLP2wJ/JCX0CGhIAsCX5ZIvwyRQRkSQjKkuKfKSYwW8KEIh0v2218kGvnL85CpheaiMlVEZItIyhbSmi2jNAcMdGFYiY4FUxwKZjqVjNWkBNdKiLKLuLt+twHoG9ptY2RxQpGFin5tKqU5JYGljnzmJRvJDJLxeR8E0uEXBYLObxdVURye70X/LrOH2PV9hLebs3gpXotC+o0LGk08llbLl+1FrOiutxb3bvf6vatLKvIJa5UQXixmIDCVAIKUwkqTCW8UMTccgvy7S1ourYh7Wzmg2oHmXu2D6wAXTiBeHcNbzRlsrTBytIGC6u22yk91sW5649vwbx8+TJHjhyho6PDGxD/eamZsQ4Rs10qXq02s+y+at9r9RmMFiR82Jr3u0LO6dOnvT9sGmrgeha8Y8cO3G73oNba7XaGDRtGRUXFUD+yffLpTyMf9Pnk0zOmwULf7du3EQSBgwcPDjk0Pcn9ezVu377Nvn37EASB+vr6ZyZuoqen53cH6LNnz1JZWYnb7R50S+6dO3eQ5TtZlmrlNWkui9KyeFVs431tMcbqdm7e/ukuHHb9wFqlQKKhkgSVi/fX57Lsrxks/tLM4i/NvLYig4WfG/lWZKfz+xM07j5C856jfH/yPLf7MgDNjjaWr83m89SSAcDX7w+3FPDWumw2KXN411ZIrFTLLH3GXeAzZTNTbWaKTMuoVDWRKSrmbjTy0edW3v/EyKdfGliTYCW/wEFxTQ0p7grWCwJrbDnsPXaMC1euUbnrAOkNHbxhLWSC1MioNC1RqWpC5AoCVHJPxU8tJ0AtJ1AtJ0ghZ5RIw9yVRuJWqYmIVxCeoCAyXkFEvILY9WrGJetZrM1BUtmEvrSViXIDAVrFA1W+cI2KcLWKKL0Gf52cML2KYIXSMz20b4CMv8ZT+XvOJOE5s4Tn7oloeAD4rGKes94FvuHpYmJsKkbnaAjIEuOfISI0S0Z4tpyQTBlxORrE7Y1Ia5t5ITeTKYVGYvNUTC408HyxhemFJkblqwguTCG4OJkZ5Vreacrh3eZcltRlEOUQEWpPYaJLyau1Vl6utbCkNp3Xa7KZ6tATUSBlgl3Ldw3lfFZVxqxiK5MLTMwtzmBqvpnl5QVs2lbLu1UlvF1ZhGV3B8eunGPl9mIW1mtZ1mTmi/Y8vuko5P2tWSyo0/BijY7XKjPJ7u56KPR9XV9GVLGU4KI0okukRBSJiS6WElYoIrAwlYhiCUurbGi6tqHc0cq7lSVYdj28rXL3hR9J3O3kk/Ys3t1m5r1tFr7ZnkP6oSYu9lx9Iij09vZy7tw5xK0Ck8ukTLSLmOeQM88hZ4GgZnGFgaW1Fl6qMTGhXM7KjtLfFXL6JzCfPHlyyIHrWXBnZydVVVWDWpuVlcWwYcNoaWkZ6ke2Tz79aeSDPp98esY0WOj75ZdfvBlPQw1NT3L/VLbm5mYEQWD79u389NNPQ35f/b5586Z3oMJvfe47d+54//x1dXVPBbpFW3ezKMnCxDUaXkjK4FWxjYWpmUxfb2SJJAdxWRM//eypFu45dJokQyWfbinkvXW5vPK1hbfjbXy8KZ+PNxXwxqpM5n6k48MNebTvfnhLsNTWwCvfpbNK4Xwo9H0tdvDa6gxWi7J4PSOXaImGOX1tnfNMWUxXGpki0zJRrGNksoawJAVzNhnZklzG+s12Pvsqm8++yiQxpRDBVeltvRMEgdatWylsbENZ2YymeitFbd3o67fxSW4pL+qyeUGbyWvZ+SwtymdiusljrYGxGzTM+auB8V+piY5XEpGgJHatiph4FZGrFUTHK5mRamayyMTrpgIqug4w35hJgEZOsFpBpEZNhEZNqEpJqFpJiFpJiFaJn1ZGgEpOoFhOoESOn0rKcEMf6Fnusbkf/u6DvfSBHp4uJiBdypgcDSNzVAT2xTb4Z4kJyZYxOkPDx0V2Dp85h7qplXE2HVG5SmYVW5hbks7cknTmlFiJK1EQVJRMUFEy011a3m3O5d3mXN5qtDGmTEZQSRKh9mRinanEOlOJKUsh2pFKRKGIoLw0Rheq+LDczitluYzL0/OSI5vFpTlMyjPxksNGQksVm7bV8rKQQ0JLFYb9TSxvtvBGs5WV20sG+JuOQmZUyXihUkdya90DwJfT3cWUUh0hRWmMdigYV6YiqkRKVImUyEIRkX3gF1kiYWGVZ3jLFJeKVW1Ozl4fGJtw8NIp/rojj1ea1bzQIGNZi46lLVrmNUh5c6uBlD0Cl288eQDIrVu3+P7iGV6tszJGkLCo0sgit44XylTMc8iZa5cRZ09jhlOOdXvdU08FfRo/TRj5/wW3tbVRU1MzqLV6vZ5hw4bR3d091I9sn3z608gHfT759IxpsND3t7/9DZfLxe7du4ccmp7k/r0aLpeLo0ePets8nxX/XlXT27dv097ejiAItLe3c/v27UEfe+5qD+9ri5kUr2XhZhMfGexev6ctYuZGM28o8mn73tMe23v7JwyFLSz5Np1FX5p4NyGHTzYV8MmmAj7amM+Sb6y8sSqLd9fmkFHa7q3u3WtNQTNLV2fyjcTxUOj7LKWY5fFZJEiz+arQQZxcz1SthbmGTKYq9EyR6ZiptjAuVU9EopLoFDVvSGzIVZXIVZXIlBV8/V0u8euLqW/cx6VLl9ixYweCIJBd4mCdOYevdFnIC0qxuOsobOnE1bUPV9c+dDVbyWzqZPePp3Dt2scqewUTkw1EJigZuUrJ6DVqIhMURCeoGJmgZmSCmuh4BaEb5IRLPFM9w1QqXs3LY0NNDREGNYE6BeEaJREaFVE6DaEaJSEaJQEaOYE6BcFKBQFiOUFiT5SDF/juBz9vVe9B2Ou3X7qE8HQF0TZPZMPwvnD24VkiRmSJ8MsUE5Ytx3loL5qOrYzN0xFjUzGn2AN7k0u0jCyRElySRFBJIkEliUSXinmjIYt3m3N5pymX0U4JQSVJBJUkEe5IJqosmXBHImGlWwi1JxJcmExsrpKXCmxMLTAzqcDIy2U5vFyWw9R8Mwvs2axprmRLWx3vVZfwRV0Zn27LZV6dim86Ch+AvpXbS1jaaGJetYZ3q/NRtm0lp6/NM3PnDhIaqr1VvimChsmChli7nNAiEcGFKQQVJeNf6HGwPZHQ0kQiypIZXy7l5XoT2/v26/X29pK218XLTWqWt+r5dnsuK3bksWJHHl912ljUpOTtbSYcxx6dC3i/xbtqmV9tYIwgYXaljpdqTMyt1DHWKWFimYSlpRpKnGUPnQra29vLwYtnaDt9lO1nfuRiz+Bg837/+OOP3qiYoQauZ8Gtra3U19cPaq1EImHYsGEcOXJkqB/ZPvn0p5EP+nzy6RnTf//3fw8aDCorK+nq6hpyaHqU79y5w8GDB73VnKGIYxiMf/75ZwRBYP/+/b/ZOa9eveodJHHw4MGnBl1H+15eEdmYs9HAq8nmAdD3kcHOMlke8xLTEZc1eY9p7DzE2/E25nyo47UV6by1OovFK63M/tbAwlUWvkwpZpWkFGlGHT+euvTANes6DvFRUiFvJtiIV7sGAF+82sVrqzP5NLkQXUYRBVvbmKFLJ1qsYZJMy1S5jjn6DGaorIxK0hCarCAuVcs6eZkX+DbLBb5LKeYvX1rRm+q4desWx48fRxAEanbsRlJWi7TEjSzfQXJmPsmZ+aRlF6J1VGCsaCDNWcenOWW8pLcxWWoiarOK0A0KwtYrCN+gJGy9gpgEJSMT1MQmqAhOleOn6JvuqfHk+YXqlEzMMBFl0vTt2ZMTalASa9YSplMSqJF7WzvDZCoCJXKCZQpPO+e9lT3zQ6Cvb1CLf6b07uCWDI8DMiWEZcrvAl8f9PlniQnKkuCfJcY/S8yEYj0ZezqYXGQgLkfDWJuWkYUywopTBgBfUEkiIfYkxgpS3mjM4uVaCyOdor41SYTYk4iwJxNdmkq4I4nQ0s2EliQxvyidGVnpjLXpGZenZ36ZhalOJaPsIqY5VXzZ5GDztlreqSrmi7oy3m/NZn6d+qHAt3J7Ce+1ZvFyvYFVrU6SmhpYXVtJQn01a+qqWN9UzUi7nLBiEVNdWqa6tMQ4pAQVe6IYAgrvQl9QiQdOR7vExLlEjHKlsajOyPErFzh46SSfdWSxoFE+APj6/XlHFi80yEjoLqGnd3CRFNdu9iDaVcMrdRZmVmqY7FYwuVzBnCod7zfnsf/CKc6dO8f+/ftpaWnB5XLhcJaxoSyLN1xGXnYbeaMmm8+bS9jQWUnx4W6u3nh0TMTD/MMPP3izVocauJ4FNzU10dTUNKi1mzZtYtiwYZw7d26oH9k++fSnkQ/6fPLpGdPTQF9NTQ2dnZ1DDk0P861bt9i2bZs3jkEQBK5cuTLk9/Uw37lzB0EQ2Lt3729yvpMnT+J2u6msrPynA98NVW3MT0xnUZKFV5MehL4PdMVMW2/ku6y7U1FPn7/KWoXAsr9msCjeyvg1WkbGqxi5Vs2YdRqeT7LwRlouKeZqDv14/oFrXuvpZaOxkmVrsnhrXQ4rZKXEq118I3GwPD6bN9fZSLFWUVbm5NDhw3xoKyBOrCYiTcl4pYEpGgujxDpCk5XEJqt5TZyNTFnBaomDxVsymLbBwOT1esauVPHiJis1u7/3Ql/l9l2oqloobOvG1bUPR3s32bUtaB1u0rIL2ZyexwKxgQmpWsamalmgzmC2zEpkgoKwBAWhGxWEblAQuc4DfaFJCvwUMkb05fsFqxUEquSe1k2NDH+tnBHeKZ191so8Ez31al40ZxMpVRMokROglg2Evfuhz3q30uefIcEvU0JAlhT/TAn+WRL8sjzf88+UeKp799g/U0xQppSwbDnBNikRuQriWyt41Z3DxCI9k4q1XuALLU4hpCSJYLsH/oLtiYQ6koktEzHKKSbckUKYI4VQezLh9mQiHMlElaYQU5ZKhMMDgTOLDSzKz2FMtpZoewqjhERihM1EC5sYVb6FSZVpLKzRsVDIZH1rNau2lzC/Ts3XHQWs3F7Cis4iPmvL5bO2XFZ0FrGsycy7rZkUH+6i9sghbN1dZO7cQcGeXTQePcJ0l46Q4jQmCxomOFWElqQSWJRM4D1VPv/CZEIciYSVbSFWSGFOtYYx5WImumXo9zdRf2off9lqYnmr/gHg6/eLjQo+78jm1LWLg4aM3t5e9l04RVp3DX9pyGFJbSYfNBQSv82NtKuJ8h/2ca0vPqDh+AHeq89iglNCtCOFKHsyo+ypjC8RM9Oh5u2qbDTdjVy/+eS4gX4fOXIEQRC4eHHw9/yv7Pr6elpbWwe19rvvvmPYsGHcvHlzqB/ZPvn0p5EP+nzy6RnT00BffX09bW1tQw5N9/ve0PHDhw97BxY8Lo9uqP1btMr+8ssv3qypxsZGenp6/ulzWWs7WZCcwcJEM68mmR6Avnc0RczYYCI+527+Yc+NW+jyW3htUzYTN+qJSVARk6AiboOW0Rs0xKxTE7dOwxuyPE6df/jewiMnL7DBUMGHWwp4dWU6L31rYcmqDD5OLiI1vZajJ856B/EUl5bxma2A2YYMJqpMjFMYGSvTMzpJw0ubrEgUFXwjKmLaBgNxCWpGrlURt1ZN9GoloxPUvKrOwVLt2efZ2L0XU30b6Y0d3pbOfgs79qIsb2CKyEBMooo5Yj3zpQZmi/REJygJj1cQuk5ByAYFoesVhMfL8Zf1AZ9cRqBCTpBKQbBGQaBWwQiNjBEaGYEaOSE6JQG6PgDUyojSaXg7o4hvswUmKI0ESeT4aaXeoS0Pgp94APT5pUsIzpIxKl9DcLaMEZlihnstesDBWVLCbHJi81VE5ysJskl5t6aYzxtKmWTXM8ohJajYs4cvpCiFkKLku9U+u8fBdk9lL6gkieCSJKIcaYx1SJgoyJjkkjO9XMVkQU5MaSpjC5U8b8sgtiSVKOcmooSNRAubGeVKYpw7mZHlmxlVnsgMtwLNriaMBxt4o9nMkkYjrzeZmF+nYlaNnFk1cmbXKJhSJeGbjkLO9+3Bu37zJlf6Mvlu3brF5u1VxDpkRNulxNglBBenEFI8sLUzsCiZyLIkwsu2EOlMYmqlgllVKmKEVN5oyqTx9H7e2WZiWYvuocD37fZcFjTK+aIzmzPXny5n8OCFM4h2NPBRfQnv1hXydXMZnzc6eKsmn1Wt5eQc2EHDyYN8uq2AMS4JMc40xpVLmVQuY5QzjTFlIqY6JMwoUrC0WIe2wjGogPhbt25x6NAhBEH4XfcN/plcU1NDW1vboNZ+9tln/Nu//Rt///vfh/qR7ZNPfxr5oM8nn54x/c///M+gwaCpqYmWlpYhB6Z+37lzh8OHD3tDxy9cuMDf/uaJaOhvYxrqe3yU3W433d3d//Txvb29tLa2IggCXV1dvzp3sO374yyX5zF9nZ6XtxgfgL5FaVksSssip2nngOPsdbuYtEFPdIKKCZv1TE80MSPJzIwkMxM26ohaq2Rakon2Hx49QfTytZtUbj1AcmYtH2lL+NTsQFu9jcvXb3gDpQVB4Pvvv/cEzV+8TFbnTnSt7ViaO9kkFfjo8yy2SARmbjAyaq2aCet0TF9vYNIaLeNWqZm8QU/cRi0viNKx5Jdw4MhRSjp2ISlvwt6xewD0lW7fwzd5LqZKzUyRmnndks+rumymJeqIXaMgYo2csDVyQjZ4wC944922zgC5nAClB/oCNQr8NDJP/ILa0+4ZolQQoVERqlbgp5YRqVHzWVYpK2wu3jAXEC5V4aeR3jOwpS+ioQ8AR5ilDLdKeM4qYbhVQki6nIkFBiYUGgjJkjM84z7oy7oLfEGZYmLyVIwu0DC6UENMvopAm4R3aopI39vBaLsC/6Jk/IuS+uz574CiRALvAb9geyLBJUkE9kFfTFkqE8pkzHFrmV+hZ36FnunlSsYKYuY4jMwqNBJTtoVoYSOxzkRinInEuZIZW57CaFcSMeUbGeXexAsNEl5uljOzLoVxVYnEuZMY405mfEUqY9wpxLi2MKlSxGdtOY+cnnn40jnmVZiJLJEQWORp6wwuThlQ5QsvTSZaSCbSmUS4M5HxbgnzarREOpN5qc7Ij1fP82WnjfkNUr7ZnvMA9H3cnsHCRgWJu8sGlfHW75u9vRj3bOP9uiJWtrqQ72zyOm1HPe/VFRG/rZyPW/OZUaliUrmc8S4Zc6p0zKnSMbtSyziXlMluBUtrrCwUjKxy5z0yIP7mzYGtp/2t71evPnny6P8FV1VV0dk5uH2Zb7/9Nv/+7//O//7v/w71I9snn/408kGfTz49Y3oa6Nu6dSuNjY1DDkx/+5tnaElHRweCILBt27YBoeP9oHDmzJkhv89H+dfsj7y3svlbDar56eefWZnlZuZ6A9PXanlXU8RHBjvv64p5WWRj5gYTH+hKOHVpYMUup6WLCZv0xK5VEZegYXSChlFr1YxaqyYuQcP4jXomJhlIdNY/8to///ILpvbtzLdmM0FjYqzKyESNmQWWLDbm5ON0Otm5c+cjjy8VulizrpgXvtATt1rFqHg1UxP0jF+lIW6FkrEr1UzZoGfsei3j1mtZlmhi557v6Tj8I7aWHYhdjZjr28lp2YGloR2xq5H4kkpmyC08r0znjfRCXpBnMGmjjtHxKmLjVUSt8VT5QtcrCN4k87R2Kj2h7cEqTzyDv0buhb0RGs8+vzCNilClklCl0guHr1pyWGFzscLmYpEhh2CFfOAQlz7w8zdLibCq8LNKec4qwd8qJSZdxdRCE6GZCvysEvzTJR7wyxAz4p4Kn1+miMBMMZG5SkYWqBldqCE8V05ojozVrW4WVlsILEq5B/gGOqB4IPSFOZIJcyQTWeqZ3DnGKWaaoGJ+hZ55bh1jBTEz3SrWNrp53qlmpLCFUWWpRJSkEVyUQnBxClGOVEa6thBbvpHo8g2MrdzEjPpkxldvZHTVekZXbmBCZQoTK9OYWiXh+Ro5c2oVfLA1k6IfHh6zcOvWLXafP8nS2mxCi9MIKEwmqCiFwMJkAoqSCbEnES0MhL5xbgkz+yp9b7dkc+vWLTQHaljWouOVZjVfdtq8wPdJRyYLGmR80Gal+uTup4KMfedPs7G9mg/riwcAX783d1SzpDqLedV6ZlSpmFyuYKpb5YW+OVU6ZlZqiHOJeaHawEuV6azvrODKtWucOHHisQHxly9f9kbZXL9+fciB61mw2+2mq6trUGtfeeUV/vM//9MHfT759BTyQZ9PPj1jehroa29vp66ubsiB6fLly9TW1iIIAgcOHHgAei5duuTNoxrqe32Uq6ur2b59+1Mdc+fOHX744QdvZfO3bl/94ewl3lXkMCtBy/QNRmZsMDFtvZEFyRm8ry2mZf+DYfLK6q1M2GIgdq2K6DVKIlcriFylIGq1kth4FeM36hi9ScsH6fZH/pmS6hqZqDERLlETI9MyWqEnUqImVKRkjEzDd5k2Dh069Mj7bm0/zEffZDPpcxVRKxXEfKtg5DcKRn2rIO6vKqas1zMrycz0zUZi16qYFq/BkF/PybMX2fHDcRyde0hv7ERfuw1LQwclHbvJ3dbFYkMOkyRGlpnzmZ5kZEy8mqlbDEzcpGdkgoqwDQqi4pWMWinHX+5p7wxWyojRKonRqjywp/bA3giNDH+NjCiNmhithlCFkkClnCC1gglSA2/rC/nYbGeeIZ1gncyTw3fPxM4RFglhVgVBVhl+VmmfJYRlKoi1qfFPlzDCKsYvQ4J/hpSIdCWxBjXDM/rAL0PEiAwRgVkSgrOlhObI8c8WE5uv4s36HE81bECV70EHFm0h2L6F0NItRJV5WiQjyxKJKE1kZFkqk8rkTBWUTHBJmOCSsLjSzNqqamYICoKKkwksTMG/IAW/PvsXpBBQmExE2SZi3BuZVpPK8q0aptcmEVe1nvHVG3m+TsSyJhNvt6bzXWch8TtKWNygZcPOUi49Zorljd6bfLTVxkhnKmNdYsaXphBRmkhI6RainB7wC3cmEulMYpJbSpxLxKQKGdaDW7l16xanr11kQ7edN1oNzG+QsqhJycJGBS82yvmgzYr+YB03BjnEpd9NJ46wokV4oMp3rxdUmJnqVvJCrZ7J5UqmuJUDoG9OlY44QcysSg0LKi1s6Kx44D6uXLnyQEB8PwQKgsCxY8ee2Ar6r+7e3l4EQWDXrl2DWj9v3jz8/Pz4xz/+MdSPbJ98+tPIB30++fSM6X//938HDQXbt2+nurp6yEDpzp07HD16lPLyciorKzl37txD1129ehVBEDh+/PiQw92jXFtbS0dHx6DX//zzz3R1dXky5lpbB1Q2f0u3dOwgXmfjC3MZ72uL+dhgR1uxje9PX3joelllCyPXq4nug77oNUpi1iiJWaMieo1nqEv0OhUfZjgeenzniZNM1lkIl6iZrDUzw5DORJWBcTINcXIt4RIVY2UaWh7RCtu2/QfitzhY/pGZqV9riF6lYORfFcR+4wG/cas1zEm2MifFyqwkM6PXqZmRoGGDuoz69oPcunWLS9eus+/EabqOnmDv8dOcv3KVm729fFkgMEliZLY8ncmb9IxL0DAt0cjULQZGb9YwcqOaGWv0vPKpkYhEOQFKGZEaFeOMOqI0KvxUd1s7R6hlBKnlRPdBX6RaTaBKTphGyWKjjSXKHKYoTYQaFQSYZYRaFQSmyxh+D/gNt0oItsqJtKqYqjEQla4kyqbyDGzpn9qZLiUsXcE0i5mRBi1+5oHDXPyyxIzom+YZYpPxaYOdSIcI/yJPJexx0Bdk30KwYwshpVsIK030OrR0C5FliYxyphJblkJcmYhpZSreLi0kvrKSUXYp/n2QF1iYQlCf/QqS8SvwtFxGuzYxozaNJS0qptUmMaF6E2OrNzCjLplVO4rYsLPU6zdbzHzdkcf+i48PGW84tY/FjSomVScxtzyF8a5UIpxJnvsv89x3hDOJkUIacS4RSxusnLl2d7/bueuXyT2yle925PNpRyafdWSxsdtOxYnuQU/tvNctfdD33SOgT9bVyIIKC9MqVCyqMzKzUsPYe9o7+1s8R7tETK1Q8XqtDfO+bU+Em/6poNXV1V4AfFIr6L+6b9y4gSAI7NmzZ1Drp0yZQlRUlA/6fPLpKeSDPp98esb0NNDX3d2N2+0eEkj66aefvBlrLS0t3Lx585Frr1+/jiAIHD36YGXqWfHTDMXp6enxTiTds2cPv/zyy+92X/0tYLdv/8T13lveMPZHWSo0E5OgInyNgujVSqJW9Xm1kujVSiLWeLLs4gurHnr8hqo6Rip0jFUZmK63MkGhY5xMw2S1kRmGdEYp9MRIVCS7Kh449mbvbRKl5Sz/yMKKdUW8tdnG2AQNo+PVjFmpZuS3CsZ8p2LaRiNzUqxM2mxg/EYdr242sCKtiGxnO9euP3r6YfP3R1hqzmNMqp7YTWpGr1czbouO2M1qRm3WMGm9juVfWHjtPSNTP1YQIpYToJITolESolLgr/JU+PpbPEOVciKUCiKUCsL6fn+8ycjW73/AWN/GpGwjIVYFk3NNLHRks8CexahMLYEWD/yNMEuI1WpYIrWxwuwk1VXP11UCEVYlfhYJgWYpUQYVcVodo3Q6QrVKArVy/E0ST6WvL7IhINsz5XNGkYUV2+wE90UaBBYlP7baF1iSSLBjC+GlicQ6U4kuSyGsr3oWWZbE4hoTy2rT+aKhBFFLA4b2dkw724golngre8FFqQQXpRJUlIp/YbIX/MIciSxskntvUu2BAAAgAElEQVShb2LNZiZUb2JK7RY+bc98KPTtu3ji8S/2vTdJ2u1kQYOcMeWbmFKRxOjyZMLKPOAaWraFGCGVqZUKXm/KYP/FUw89z9Ub1/nhyll+vHr+qat79/qHS+dJ7KzlndpCZF2ND0DfurZK3q4rYFGtmdnVGhbUGJlQLmdiuZzZVVrmVOmY6lYS55IwuVzJyjaBrrPHB3397u5uBEEYVCvoUEPZ7+1r1655Y3MGs37UqFGMGzduqB/XPvn0p5IP+nzy6RnT00Bf/6TIPzrs/Nq1a9TX13tjDp4EPTdv3kQQBA4fPjzkcPcoNzY2snXr1ieuO3v2LJWVlbjdbk6cePQwlMH6zp07nD5/lb2HTnPg6Flu9A4McD9w4ACCIPDTTz8N6nwbM6uIWqUgfI2CiNUKolZ74C9ytefr8HgF0WuUpJU0PPT4t/JLiJComawxMV6uZZxcy9S+it8MQzoTNSYixEo+ySt64NiOrqN8k1DI+19lsUkksCrZzpR1emLilYxapWL0X5WMWqFkQryW6YkmRq3XMGOLka/TMlgtLcFSspXzFx8/1KJu/yHeshYybrOO6HVK4jZrmbhFz/ObTCz70sySdwy8/Wk6i5dreDHeSJxWR7hKSYBKjn9/Xp9GRoBGTrhGRbhGSXDf7wUr5CzVmmlsbETfWMOUPCNjcnQsdNjucTbPF6QzJlNHsFnOFKsJtbOFpt2Hud5zg8zGTl6SZxGlVBOqURKn0TFGqydMrSRALSdAK2OERcTwrDSGZ6fibxMRmatgZr6FRYU5zK3QEVjsqfIF9EFfwCOqfkEliYQ4thBRmkR0WQpRpXehL7o0heTmWtz7D3D2yhUu9/Rw4+ZNJN31hBdLCCxMJbAwhYDCFIIeAn1BRcks36pl+VYNM+uSGV+9iQk1Huj7pO0u9K3dUcLiRi3ruhyPHOZyr6/fvIF+fy0LytOYWy1idp2YKVUpjHEnMaUqjUUNKlL3ODl59Y/Jrsvc18lnjQ4+b3Ig2lHvBb5N7dX8paaAzR01bOpys6wxnXk1Wp6v1DC5XEGcU8Iop5jIshTGCBLeb8rHcWTXUw2S6erqwu12D/jeo1pB7w+IH2pI+619+fJl73CoJ63t7e0lJCSEWbP+P3vvGRRl2qbvU1u/d7dqa7e2ar9s1VZtmXNAUTFnxzhj1nEMY8QAiAiSY5Ohczc0qckgGZrU0OScRETHUVHHnAPBmdF3993d4/+hoZUxDE7C2X+fVWc13f3089xNo/d99HXd17V8qKdro4z6U8kIfUYZ9Ynpf//3fwcNDP1RoF9bKfJjfOPGDQoKCigsLOT27duDes2LFy8ME/pQw937XFVVRVVV1QfhrL/aXmlpKU+fvrvlwcf4+q1HxGTV46ks4JQwGydxLoHROgqqzvPie/1n+u2336LRaHjx4sWgznkgIJUZVlKmOEiY5KyHvP7bic4SJjlImGErQ5rx7ve693QmE0NkzBTKmSNWsjg0ygB8S1Vq5vZB37Hk9LdeW1ByjsMnE7BxTsUrSINHQA77BUnMdVHqo46OEqbYSzB1lDLDXcFS30gslemcEqjZYxXFUZt4/PxyCFeVUlt7kefvifo9ed6FR2Q+XzhGssklipPB6RyzT2D7/nD2Ho3my70qvtwXjqNXBsqUSqxjslgQpMIsUIF5UCgzFEomKWWMU0gZq5AwXiFlrETCClkUmopaysvLsT0dx7RoCbPUMpYnhrPqdDSfZ8QZ4O/zzHgmxkpZmxlHV18vtwdPnyEqrGR9cBzzpeFMD1UyUSFjikzOKKmYYYoQhsUHMCxJ7+FveGRyIDMSFSzNlzMu05/R6f6GSN+o94Df2CxvxmV766Nk2QLGZ/none2DaY4/B4tTkNfUUnrpsgFGvJq1TEgPZnJGCOPSAvUVNVP9BzRKH3Haj3Hp+v18W6olrCzzZ16xFzO1bizW+WLXnNIHfJnsrI7kQF0MKVcaBr3Af/78OamaLEQNGRxqULCzLoiv6gV8Ve/D7gY/rFtlBF1I5rund3532Lj59BGKszXYVOWyuySFQ2Xp7NOlsr80Dc+GYvI6z3P/+RP8zxbxdVU8K4sVzCsQYaYJwjwvhCWFMmzqMqi73flRwPfixQuam5spLCz8INz8tEH8/9VU0AcPHqDRaLhy5cqgoO8//uM/WL9+/VBP10YZ9aeSEfqMMuoT08dAXz8Q/F77yd70jz/+aEhHqqys/KgedD/++KMhdWeo4e59rqmpobKy8p3Pff/99zQ0NKDRaGhoaOD777//1dfrvPkQvwgtFp7J7HFO4JhPGoe9TrPLMQ674Gzicxv54YcfDb28ent7uX3vKTUtnZTWfUv9mas8fDzwM3j16hXbXOKYdVjKghNKZjkomOokZUrf3j4zRzkzj8uYe0yOT2zJW2N6+fIljmlZTA2RYSqUsyRMPQD4lqrUTBMrmRYiR1r49l7S4vLzHLVPwsohxQB9HgE5WAiSWeigZLq9FFM7CTMd5WwMjsM1tgBfSS4bt4tYtV3Mit1S1u6V89XBcOztkghXldJ++Qa5TR1k1rdTd/EqXX0L3Ovf3SdYXMhRm3gOHFPz5f5wvvhSzqadSrZ9reLIyQQUMeWoU2tRp9biJclji1csn/vGsMZXzTpZLEsUUcyThWMeFMoWcSKyvGrDwj28pY7ZCaHMilWwJFbJ4lgFi2IULI0P5bPkCFalRjMxRsqmnETDa85cv4lUV8PesFTWBcawSBnJJImM0RIxw2QDgW9YYgDDEweC34jkAOZrJEzPDWJcRoAh0veu/X2j0n36gO9NCxiXJWB8tg8Ts31ZXRiKS2k+ioZKWm5c43FXF6EdNUxKD2F8WiCmmSFMyghmfHoQ49MDGZMWwKj+9M5MfxaVerJA5858nRuzS1wwL3ZlQYmA3dVR7K6OYmO5kgN1MQSfK+ReX5++wfjZs2eczsvAoUHJ143+HGsR49YejVdHLM7tkRxsCuZgUzDib1Lp7h18s/Nf6rvPnpDXeR7xmUoEjTr8mkqJ7mik8fY1w2f7pPs5+dfP4XUmH5uGNI7XpxF8tpiqW99+NOz1u7GxEa1WO+jju7q6/s+mgt67d89Q1GYw0Pev//qv7Ny5c6ina6OM+lPJCH1GGfWJ6WOgr7OzE41G86uagA/GXV1dVFZWGqqrfWxk8dWrV4b9b0MNd+9zXV0d5eVvpzw+ffrUsMDq70v3a6/18uUrQlOqOOCehE1ABv6RxQRElRAQVYJ3WCF7XRJxFOVQf/YaV65cISMrh/TCFmRxFXhI83EWavCSF6BMqERXe5EfftB/Hi9e/MABz2TmHJYxz0rBZ7bhLD8ZzlI7FcvsVKywVTH7qIyFlkrU2Q0DxtTT00NVVRXRGZnMk6mYGCLHXBbOkrBolqrULA6LZqY0jMlCBfPFShre0bLhyrX72LmlsWl3KHstothrEYWFdSynPNKwdk7hc4tQlu2Tscc1nuisWoSRxazeJWPmfiHTj4mZflzCjONSZtvIWHRMzvITSlZ5RPJFUByfB8ayTZyITUwudRev8uLFCzqv3iVCXY6bIJMd+8PZ8JWCfZYx2Dil4CctwE9eiJ+8EGlUKX7yAjyledhHadinTGOpOBIzmYKZCiWfqaLxyynl8bPXpfPb7txkVXoMk2NlLEgMZ1q0gsmRUiZHSDCLlDI9SoJptATLrCS+/fZbHj58SM2lTkQl1bina9kcHs90kYyJYgljpCKGhwa/DXz90Jfsz7AkvUem+DP6tP62P+Vy5E/29o1Kf13ARW899PVX8ZzYV9BlZr6AeVoPFhd5s6rEH4vKaA7VhDM2TV+tc2yaP+PTA5iYEci0TCFmmWJGpep76E3ReDC7xJk5Jc7M7vPcEhdWlPlwuD6W443JuLZmknSl3gB8T7qfk/tdM/atSRxoiMC6OZb4K5XcfvZwwKL96dOnBBdGcqg2iCPNIrw6YgfY81wMexsDsW8Lo/XBz6f7/VZ+2t3FjSePuPP0yXtBrre3l+c93b9qL2G/6+vrKSkp+cWv/7+UCnrr1i3D/sbBQN8//MM/YGFhMdTTtVFG/alkhD6jjPrE9DHQd/36dUNz398Lhm7fvk1hYeGv3sNWUFDA2bNnhxzu3ufGxkZ0Ot2Ax27cuGGoTHr37t3f7FrfXruHqzSP/W5JA4Cv366yPPa5JqJKreHSpct4CxNwE2uw8cnAR1lESKQOb3kh1oJ0AlTFaKu/McCki0jDwiMKFlgpmGepYKlNGMtPqFhyPIy5lnLmHZOz5kQE5fWvWy48evTI0Gfw+vXrpJ/tYGFoFKYiJRND5EwRKZgYImOaOJSlKjUhyaffCfBnGjvZdyCSNZskfLZexNoNIjZslbFtp5JdhyLZuCeUXceicRbm4CjOYc0+BWaHxZhai5lqI2aatQRTawmmNhKm2uptZidllW80XwTFskwQyRLvCHYrThvAr7e3l4uXbuEvKcDCLgGvkFzsBekcdUpmv108++3iOeaczJ4TsQSFailqv8Di5Eh9Nc4oEaOjRExQS5mVGIq0ucaw2O/t7eVwUTbjoySMihAxRiVirErMGJWIMeEiRkUKmROrJEKTbVhsh2fmcDw5lTWno5kZp2RMpJCR4SGMCA9heGzg28CX+AbwJQa80yNT+lIw3wl7Az0+W8CEvttJOd6Ya52ZXezMHK0Lc4pdmaV1YYbWhQnZXoY0zpGpfoxO9WNsqj+jUwMYkxrIuHRfZmtdmFfiynydGwt07iwv82ZFmTfLy7zZXhOMR3sMym8zabl/ka6ebm4+e4BlUwyrK4JYqBMwt8ST+TpvVpYHsKNGzunOOlI660m4XEPG5Qasi0P4stqLY00yjjYpONqkwLZVhcc5NV4dsdieUWLRHELq9bIhB5Lfy7W1tZSWlv4m5/qzp4LeuHEDjUbD7du3f/bYZ8+eYWJigq2t7VBP10YZ9aeSEfqMMuoT1GDhof/b0d+6P5weIF7S0dGBRqOhrKyMZ8+e/arz/Zrm53+E32x/8fLlS0ORnIqKio+KpL569Yre73/gxw8Ut6lquYKNfwa2gZlvAV9AVAn+kcXscozHR1VESWULVm7R2AjSUCVVE3m61mBlQiXHBenI4yq4+0D/+ZzOa2HXqThWHFex1CaM+X3wt8BKyVKbMJYcUWIfkM2DR8/561/1Xxz09xl89OiRYYw1V69jlZXHorBoFoRGsUSlxiFfS/vtu+Tl5dHe3j7gPTfVXsL2UAzbVgtZt17E2k0SVm0Ss3KDmOVfCFm7RcJhmzjSNc2UNVzER1nA3IMSTK3FmB4XM9Nagrm1DHNrKabHJUyx1XvGSSmb/OPYF5rGvtA0NgTHsdQ7Ats4DT1vRGPqWi7jJc5j1/EYdllHs/u4mkOnEjh0KoEtFhFsPKjCKuA085MiGKsWMyZazJQ4GaZxcibESBgVJWJavILwNv3etO6eHuyz8pkcLmNMhIhRkf0WMjpCD4BfxCdw/f4DHjx4wDfffENMUQELYuRMUAuZoBYyLkLImHAhI6JCGBavh77BAN+IxMA37gcyKS2EmZpA/b699wDf64ifgIk53kwvcMNc64J5kStzizyYqXXFTOuCmdaF6UUuTMj21kcRT+s9KlW/j29adhALSjzZVBXMxqogNlQFsa1GyJe1Ij4r82RuiTMLSh3ZWHeSLxtOsq/ZHd/zaqybY1hW5sdCnYC1FcFsrBLzeWUIi3QCZhd7sFjny56aSPbWRnO4Npa1xR6sLHdkS2UgGysD2FgZwLbqIPbUibA/E86pNhUHmoJIvFo85EDye7m6upry8vLf5dx/tlTQa9euodFouHfv3s8ee/v2bUxMTHB3dx/qqdooo/5UMkKfUUZ9gvrP//zPQQHG3bt3DRPlbwlAPT09VFdXo9FoaGlpGXTlyA+5pKSEpqamIYe797m1tZWioiJ6enqoqalBo9HQ2to66FTWp1295Nd/gyC+hFOqPJwjC4gtaubKrbf76VW3XMEmIIMTAe+Hvp2OcfiGa1GfLmevXTi+yoIBwNdvH0URHtJ8qpr0lVG/u/0YlxAN26yi2WYfw2bHGDY5qtloH816qwiOuKWQlNvMy5cvaW9vR6PRUFVVRU9PDzfvPCY9rxV/RRE+kgJU8VXoGi/y7b0HPOp+3ZIjPz/fELV9+fIVVWUXsD2kZvPyYLauCObLdWI2bxCzbK+YRdYyllnL+Hy7BE+XNJ4/6+J5VzdOwdmYWUqYaiNmhqWEWdbS19B34jX0TbOVsNY72gB9+0LTWOodwXZJEk2XrhsWgk+fdeEtzmPb4Qg2HVKx72Qc++3i2GmtZrdNDPts41gliWRclJjxagkzE5TMSgw1eFqcnFFRIhamRPDo+XMaO6+zJzaN5bJo1sXFMUsdytRoOabRCpbGRrFSFcPm8CSSGs4YxiBrrWHu6TBM42XMipExSSVmQpiQMSqhIdI3POnnoC+QkUlBjEwKMtwfkxzCKm2oAfgm5fgwOcf3ndA3PluAWYE7s4tcmVPkjnmRKzOL3DB7A/pmaF2YqXVlRoEbk3K8mJQtYGaeL1sqg1hX4c+yMi921kkN/qpWwmflniwsdWSuzpF5Okc+rz7JtobjbGmwZn2tPQt0Hswv8WJjlZjN1RI2V0vYWCVmic6HWVp3zIs9+Ko6FPfWTPZXRbNQ68qSMgdWlbvzZXUwX1YHs6kygC/K/dhVK+RQkxDLFgn5Nz/c9+7P7MrKSiorK/+Qa70vFbSkpMSQCvr8+fM/ZCzv8pUrV9BoNDx48OBnj7106RImJiYEBgYO9VRtlFF/KhmhzyijPkENFvr6K54NtormYHzv3j2KiorIy8vj6tWrv1k7iNLSUhoaGn6Tc/0ebmtrIz8/35Dm+DHv/e7j5/gm6DgQnMoG1xg2uMbwhYuanb5J2IVqqO24NuD4a7ce4i7P52uXhHemdzpJNBxwTyY6sx5VUilf2YQhVpe8E/rE6jIcgnIoqDj/+r1cuImrUIOFSzLbrdVstYxij10ctj4ZRJ6u5emzLmpra9FoNJw5c4Yff/yRupZOTvlmsf9kPFsORbDpYDg7rdRYu6WiSqii98Vr8C8oKKCtrzl7U/0VQnxy2b5ayKalgRzaHsqmwwqmCMSMDhYxWihmrFjCuBAxK3zCaGi+xLXv7nPQLREzawmmxyXMtBQboG/WcSlT+4BvygkJprYS1gii+VqRypchiWwPTmB1X7pnblOHYSF4995jFNGl7D8Zh7VbChYO+iifpUsyjn6ZCCOLmRgmYURkCGbxA4Gv3+PUYqbGycm42E5MbTNfhCawI+o0lim5HEvO4UhyNseScziQlMl6dSLm0jAOns7iWXc3j7ues1t7munJchYkhTM9RsE4lYjRSiGjQoUMD3+9p2/AXr6fRPmGvwF9w5MCDfcnpwUb4G5Ctg+TcnyY2NfQ/E3wm6rxZk6JM+aFrpgXuTGryBWzooHA1w995lo3ZmvdmKl1Y0mpJ3sa/FhT4fMW9G2qDmJRqRMLSh2Yp3Nivs6ZzbXO7G1yZleTA8sq7JhV7MKSUh8D8G2ulrC6PIgFJd7MKfbCvNidtRUh+LfnsbsimvkaAYtLHfmswokdNUHsqRWxp1bE1qog1lf6srHGA9f2KG48uzvkcPZ7uby8nOrq6j/8uj+XCtrR0fGHp4L2FyUbTPSxtbUVExMTlErlUE/VRhn1p5IR+owy6hPUYKGvv7fRb9Uvrr8nnE6n4/Hjx78pVA22D95Q+NWrV4boXnFx8Uely7569QpxWiU7fZLYIUjkpDIX58gCHMLzOBicxga3GOzD8rh+9/GA10Sm13LYK4VjPqn4hmsNwOcmz2ePUwIu0jzOfHMTdWolu21VBKqK3gl9geEluIg06GovDhjX/YfPyS/rQKwuIzhCR3RaHW0XbvLw0SNKSkrIy8ujs7OTV69eceXafewFmWyxiOCAXQL2gkwc/bKxdD3NtsORHHZMIjn7dZS2sLCQM2fO8KL3B+IiKrA5GMO+zQp2rBax5Wgo40LEjBTrPUooZrRYzEiJmDFiMevUcZzvvMkh9yRmHpdiaiNhxrGB0GdqgD4x005KWOkewUqHMJbZKlh6Qs5cOxlLnMJIKHjdJuBS5x3E4SV4izSo4isIURUTHKZFri4l5nQNiuRyxoWLGREpfC/0TYqVMjFGSmhrHZLSalbJY9ipTmVvcjprE2NZkRjNbHUYZuFKpoYpGCOTYBau5PPMeJZkRTAyMZhh8UGMig9hrFrIqNAQRir1HhEazPD4wIGtGt4BfSOT3oa+4YmBjE4OfGvvnn7/njfjsr36LGBaH/TNLvop9LkagK8f+ma/AX3zdO7sbfBna00wS8s82VYjNEDfygovFpQ6skDnyJwSZxaWOrOzwZl9zS7sa3ZhWbkjM4tdWKDzGAB9S0v9mFPsyaISAbO07qwsC8StNYvNujDmZwWwXOfJinIX1lS6sKXah+01/myuFrCywplt1QEkduqGHMx+T5eWllJbWzvk43hfKmhBQQENDQ1cunSJR48e/a5j6G8/9OzZs589trq6GhMTE+Li4oZ6qjbKqD+VjNBnlFGfoP7rv/5rUMDx/PlzNBoNV69e/VXQ09vbS11dHRqNhsbGxt+kJcFPXV1d/cE+eEPlH3/8kdbWVsNCp6en56Ne/831exyXZbPZPQ6niHwcwvM5JsnkYHAah0LS+Monid1+ySTrznDm0k00defJr/+GmrOdhKh1WPmmscsxjkMeyexzTeRrlwScJRoyS9p4+fIVxZVtHHGOwt4/4y3gi0ipwc4/C2F0KZev3//Zsd68eZP8/HwS4rLITq+jSNNGTeVFwmIr2WMTi4VDEs4BOQN8yieTzYfCcfDNMrSI6N+fefniHcT+ebjapXB4h4otn4UwxV/CSLGY0SIxY0PEjAkSMS5E//MoiZhJCjmKujpcgnOYbS1j2gkJZpZiPfhZSZllpQfBKbZifXrnSQnm1n1gaClhtpWEaSckzLeS4OWQzDdn9SXeO6/fQxqpwy0oh5jTNW85IqWK8SoxwyNDMItTvBP6JsRIGK+WsD09hdURcZgKFYxViRgTK2RMvJARccEMjw1meEwwoyNFjJGLGa0WMjw+iOEJQQyLH+iRMcGMCg1hlFLISGUIwyODGR4X+N5I34jEwNdO0h83rA/6xp0OYkK2jwH0xud4MSF3oMfnePVBnwvmWhfmaN0xL3JnRpErM34CfbO0rswpdu+DPlfmlLhh1SpFdCGbDVWBLCvzYnuNiJ11UpaXuzNf58DcEifm6ZxZWfka+PY1u7C60olZxc7MLnYbAH2LS32ZU+zJAp035sUerK8U4dSSwfriUBZnBbGmSMzKMh82VfmytcaXzdUCttX4saHSn2O1MVx5OLgo341nd6i620LFnSbOPbpEz29QWfOPcElJCfX19UM+jp/6zVTQoqKit1JBr1+//pungvbvoe7u/vkWHYWFhZiYmJCZmTnUU7VRRv2pZIQ+o4z6BDVY6Ovp6UGj0XD58uVfDD0PHjwwpDRevnz5N0vn/Knr6uqoqKgYcsh7011dXVRUVBj2tf2SRve5NR3s8U/hUEgalpJMtnslsME1hrVO0axzimaDawwLj4fyuXM0B4PT2CFI5CufJI6IMvBQFxGVVYdfhBY3WR4einwUSZXUnunk5Uv953D12nc4+cVyXJCKq0iDPK6CiJQaJOoyHINycBFpSMlr+WDhmFevXnHhwgVST2fh55mAn0cmTrbJnLJOxNX+NNv2h7Nml4KjnqfZ5hzLeodoNjio2euexCm/LPbZxnPYMYnqBv3fmVarpaWlhY6z3xHknUOAZzaOlgms+VrMmL4o37gQvccEiRgbLGZssJjxEiljZFJWJ8STkd/CevtIZtr0RfusJMywlDDTUsI0675I30l9Jc9plmKmW0mYbi3B9IQEsxMS1hxVYL1Rhsovl+6uHp53dROXVou9IB1VXMVb0KeMKWORLIzRkSImxUoNoDczMZRpcQqmxMoZHhnC6EgR80MjmS1TMSpcyLCYIIbFBTE8JpjhMUEMi319f7RayIiEYIa9A/j6PVodwgSVmFGhIQyPCmasSoiZRM648BDGJQQyJiXQAHYjEgMZmaS/Hd4PgwmBjEwIYmG6jCnZfkzJ9mNirvdbwNfviblemGtdmVPizNwiD+YVejGjL9L3ZnqnudaNucXumGv1QLio1B3hN8k87HqCc1si66sCWVLqwWflAhboXJhT4sQ8nRNLygZG+fY1u7Cl9hTmJU7M1LqyvlI4INI3W+uBebE780u8OdoQg2trJhtLQlmYFchqrZj1pUpO1Kfi2JSCXWMizk1p7CtLIaC5jJtPPxxdut/1iJjObNzOKTjRFoTNmUAc28UIL8bR/vCPa/XwS63VamlsbBzycXzI70sF7e/X+lulgp49e9bQj/Tnjk1PT8fExAStVjvUU7VRRv2pZIQ+o4z6BDVY6Pv+++/RaDRcvHjxo0ClHwQuXbpkqNz4e1QAfdMNDQ2UlpYOOej1++7du4ZWFDdv3uTixYtoNJqPjnJmVLazyzeJr/1T2OwRx0r7CNY6RrHBNYb1LmqW2aqYeVjC7KMyvnBWs8cvmV1+yXzurGazexyOEflcvfWQG3cec+fBMwPs9fvevXskJGciiy1BoCzihG8Gll5pnPTPwj9MS2JuE4+fdn/wb6ShoYHMjBwCvFNwOJ7IicOxCFwzCPDKwelkMqu3SZi3V8J8SwVzrRXMtpIz21rOAhslK06Gs9MuloN2CZRU6VtDFBcX09zczJVLdwnx1WB7NA6HE0kssZQwSihiVMhr0BsTJGJMkIgJIimmSiWjZRLMwsO4fvcBgWFFLLVRMt1KjKmNxOBpJyRMs5Uy9YQ+xXOqrX5vn6mthOk2EmYelbBxn5LDW+QILOPpaOnkxYsX1DZdRhRejINPBrIoHeqUatZY0VgAACAASURBVNQp1UgiSzglSMchMgfTWH3BlvHREsZHSRgdKWJkpJBhESEMDw9htEzECqWatYmxjI4V6iEvOojh0cEMUwcxXK2/HRbXB3YJQYxKCGZ4/BuPvem4IMZECBkVHcKYCCHLIqIIya7gq+BYLCRqjlanMDo5iGGJgQM8vP82IRDTeBFfxaowzfBjQo43E98BehNzvZio8WKyRoBZvoCFJZ4s0LkyR+vKzDegz0zrwiytC+bF+mjgDK2+6fqBRinXn+rL5T/ufkbw+VxWlgUwW+vFjEJ3ZhS5sKDUgR31A4Fvb7MzWxtOsKzCgYU6T+aVeLKizJ+1FcEs1vkwU+uGebEHaytC8GnLwa9dw47SCOZl+bOwIJAvyyMJailF1laNrK0ar4ZiDpdnEneh+YML/0fdT5BcTMDqjD97m9ywavXn+JlADjZ7cqDZE/dzSs4+vDjk0PQhFxYW0tz84ff5qflDqaD19fW/OBW0paWFgoKCQR0bExODiYkJtbW1Qz1VG2XUn0pG6DPKqE9Qf/vb3wYFHC9fvkSj0dDR0fFRoPL999/T2NiIRqOhrk5fHe/3hqw3WyIMpV+9emUAvNLSUkOPw0uXLhm+af6Y81W0XeFgcBprHCNZeSqCDa4xbPNKYJtXAls941lkE8oMCwlzjsnZ7ZeCrTIXW2UuNvJstnrG8aV3ArFFze89//3799FoNFzpvE5D2zWS81qIzWwgtaCVM+dvDCiw8lM/e/bMsDDLzqjE2zkDe6sEFKIilGItSrEWuaiIFRZKZhwSY3ZUwvzjChafCGWRTShzrOXMtpIz/5icg06JNLXpC9L0V2K91HkXB7tkdmyS8fUuFctsZHroE4oMsKdP75QwVaHATBXKqD7ou3HzPvHSIg7uD2PxzmDMLUTMtJRgbi1luX0YGxyimP+1BPODImZYijGzFDPzqJjF+yR8tkPCmp1y9u4Ow3FPBOV5rbx48YLu7h4KStuRRupwCcjGzisNO6803AKzkUWXoi3vwCmngHERYkaEhzAs4rWHh4cwUi5koo+UmYGhTI2WMSo+hBExwYyIDmZYdDDDooNeg1/sa+gbnRjyGvreAX7Do4MZEy5kikLK1xGpSDRV7AqJ44g4lit37+F/pphxp0MMoDcsMZARiUGMSgxmYqIYt+ISfLU6NmVFvAV8/dA3SePN9Dw/Jmu8ma7xZ1Opgo0VISwp9mJOkZs+xbPPs/pSOmf0FXPZWiXmxtO7dPU859yjNiTfpLC4xJc5WgFmhZ5ML/BgWoEb0wtdma9zYke9A183ObGr0YFtDbZsbbBmf7OrPkJYKWR5mT+LS31YUurLQp2AxTo/9tZE4dqagVdbNnvKI5mb48uC/GB2l8cR0lJBSEsFTrUF7NOl4d9cStvdmx8GplvVnGgL4lCzFx7nlHh1hBlseyaIA82eCC/GfdKpngUFBbS2tg75OH6NP5QK2traOuhU0KamJrRa7aCuqVQqMTExob29fainaqOM+lPJCH1GGfUJarDQ99e/DiyfPxg/fvwYnU5niBD+XumcP3V/S4ShBL7+qNe79i72lwzv7n5/1OydYNXdi7Usm0U2oaywCzcA3zavBL5wicH8qIxZR6QsPK5kk1sse4WnWSNQM98tjHmuYcw6peCroGQeP3/3XsKHDx+i0Wi4devWR43rzp07FBYWUlhYyJ07d0hQV2FjEUuIr8YAfEqxlpDgfBZbKZl+RMLMQxIWWilZZqtima2KpSfCmGMlZ9ZRKTvd4g2AqdPpKC6pIj61nhN2SezfE86uLQq2HQljjFDMCLGY0X1pnRNEEqaFKpkRrmJKqJKxcilr4uL5yjeGpfYylliJWL83kMNfSzmyW8GBDUIsD4az+ZCKFVvFLF0bxLL1ISzbGMLy9SGsWC9k5SYRS7aJ2bhDjtPXEVTkv26b0NPTy7kLN8gqaCUqqYropCpyis7QcfEG6vx6DgWlssQ1lPEiMSOUQkYqhYyWihgXJGG8j4SZgaFM8ZUzOlLI8LggRqmDGRUdoo/0RQczQh3MqJgQfaqnIdIXYgC+4XFBjIgLHgB/o0JDmBwoZa5vGF8pU7CMzmaVIILdIdF03LhNd08PN548JLCljM8LYliRG8mXxUkcKcpmZ3IantpSgsursCrJZJrGdwD4Tcz1YlKuF1NyvZja9/PUXB+2FcWRffksmZ31HCtPZkteNMs1EhYW+TG3SMCcQm+WagM5WZfKw65nXHx8HvXVMFzO+TBH68a0AjdmFLkzV+vJkpIA5mgFmPaB36JSB7Y22LC14TjbGo5zoNmFlOt59Pb2cuHRDcK/1eF/LhvpN4VkXWsiqD0f26YU9tZGsbsmkn2VkWzMEbFHp+Z4ZTb7S9PYX5rGyWoNQS3lVN648sFFf09vD4HfRLO3yQ2XdtkA4Ov3wWZPHNvFnHt0acjB6H3Oy8ujra1tyMfxW3kwqaB37tx5ZypofX09JSUlg7pOUFAQJiYmdHZ2DvVUbZRRfyoZoc8ooz5BfQz0Dbbp+atXr7h69Sp5eXlotdrfvLffz/ns2bPk5+cPGfA9ffrUEPX69ttv34Ldq1evGqrHfey51YWNrHGMYoG1ks/sI1jnFM1qB/392UdlzLdSsNxOxWInFbNdlJg5yZnqINX7lJRZzgpOJRbQ8/3bUbv+Cq03b94c1FhevXplKH9eVlZmeD9h0mKO7o0aAHxKsRZb7zQW24Qy64iUWQclzD4sZZG1kkXHQ5lvqWD2ESkzLaXs8Ek0/M5KS0uJjMnDX1KIOKyEoJB8TloncHh/JGbeUkaJxIwUiRknEjMtNBQzVRhTQ/WpnWNlUsyDQjF1lTLZVYKpuxQzZzGLXOR4uCchPJnIjvVCVmwVs3yziGVrg/hsg5A1W8Ss3iJm1SYRK9aHsGiziFUbRfhYx/Ptue/euTjs7umhu2+B2X75JpaiDD53jGJTYByzfJTM9FGy0C+cuYIwJnhJGC+QYB4cxnR/BaPCQxgWG8TI6GDGqIWMUAczPDqYETHBjIkVMiLmNdSNSAh+DX2xQYyMC2Z4XyRweGwQ0/zkTHaTMtNbyTZZEmsC1HwmULFdHEFATRGqtjIa7l7kec/AIhaVlztxyC9i7+lM/HTlWJVkYqbxY1KuNxNzBEzO9WJqngem+R5MzXdnap47kzSeTNZ4Mjc5BJ/CNFwq09hfnsB2XSyHdGk4luVjV56LT52Wwkvf8Ly7m8tPviX0igj38/asr3LFrNCdGYV9zd21zszRurK4xIeFxX6YFrgzs8iNXQ3OWLS44dYhRnen9oN7sR52PaPi1gViLlUR+W0F6vZSojSpNF36Bs2VDtTnG4k530Th1Qtcf/zwZxf9D7oe4XZOwb4m93cCn1dHGMfPBGJzJpDyO5/mnrn+/djt7e1DPpbfy93d3YZU0LKysvemgvb29lJTU0NZWdmgzuvh4YGJiQkPHjwY6qnaKKP+VDJCn1FGfYL6GOgbTNPzH374gebmZjQaDTU1NR9dofK3cEdHBxqN5g+LLL7pGzdukJ+fT1FREXfv3n3nMdevX0ej0RjSPT/GF67dxVKaxTqnaD53UbPGMYq1TtGsdYpmkU0oS21VLDgZynQHGaYOMmY5K5jrGspcl1CmnZJi6iBjlb+acF0jL1++ovvF9/T2AeCTJ0/QaDR89913PzuOH374gdraBtLSs6mtqx8QyVSryrE6oEYSmD8A+iw9U1hko2T+MTlzD0uZf0zOfEsF8y0VLLRWsvREGPNOKNknTOXFD/oiN1qtDn9hGq6+2SSmN5Cc2Uh0fBVBwfmcFKQyXaRgtFjCSKmYMTKJHvbkUsbKpEwVKzD1lDLDQcI8Vxnz3BWYuogxdZOy1D2UYPfTHNguY9mGEJZuErFqk4jl64JZtUnE6i1i1mwRs2KjiIUbQ1j9RQhK3xyqzlwiu7KdrIqzlDZfpPPmvbcgRJ1Xz5ee8ezzS2ZdUAzTBHJm+4Yyz0/FfD8Vk71ljPOWMNlHxlRfOaMlQoargxiu1hdjGaEOZrhaX7lzZGwww+OCGR43cO/e8LggRsTqga//uVHhIUxylTDRVcI0Dzlr/NR8KUlkS7yCz3P9WKsL5PPSQL6qluDSlkjJrTOGsT/v7kbd2IxtbgFfJaWxLzMNs1x/wx4+PfC599nDAH2meW7M0ngwMcuPCVm+jM/yYXyWL5Oz/ZmnEZHxTQvP+qok9vb2cvq7eDwvOBBw0Zt5xR6YFrhhXuSMudYZc60T5lpnZmtdWFDsyewiAfOKfRBfyOXC40t09f58tcWf+saNG4bo9S+BicfdT3HvUPJ1kxue50LfCX1Wrf6cOBNE1d2WIYef9wFRf2r+UI/lj/KHUkGLiorQ6XSDSgW1s7PDxMSE77//fqinaqOM+lPJCH1GGfUJ6r//+78HDRzl5eXU1dW99/mnT58avmU9f/48Lz9Q5fH3dH8PwI+tjvlr/PLlS0Mp8MrKSrq6uj4Ihv3NgT/2Ol2936PKreOwKB3niAJOqfJwiiggIKmMzR5xzLOSM9NejqmDFHMXJfPcwpjnFsZs51DMHOQscFcx2z2UjcIEEitbSahoJanyDMVtl+jo1I/r+vXr+mt1v+DO/ac8eNw1AKDPnruGwD8JC8swbE7F4RecR0JqPcnZTQSqdexwjmPpUSXLjyn5yjEWR58M5KIiQ6RvzhEpK0+o2OIZx3q3GL5wVbPZK46dAcksPqXimDzLcL38ghIEgafxDs4jObPxLavSqtgoi2OqVMEUpYLpqlBWx8ezQBbBDD8lCz2UzDopYpG7koVuCswcRExxkWDqKmX7qXBO7lCwfF0QS7aKWPeVjJUbRSxbF8TSPi9cH8yiL4LYsl6EPEZHSHIZbhEFuIbn4x9fQpSmjorWS/T0vAa/gAQdXzhGYy3OYElABBN8pEzwlTLRT8pkPxmTBTLGekkY5y1hkkDKOF8JIyL1e/eGxwQxPFoPf6P6oG5YrP6xN8FvRHywPrWz/35MMKaBMqZ7yJjsJmW+j4ojUZnsyY1kXZEfS7RurCnzY2WJL6vLfPm80o8jTSpyv3sdnXrS1UX2ufMEllXikF/EZxoFUzUCJmk8mZrnztT8vkhfnoc+ypfnwfR8V8ZlezMmy4dxWT6Mz/JhQpav4eeZWYGklBZw7tw5zn13FtmlINzP2yG+KGK21lUPfVpnZvfBnh7+9BE/8yIP5ml9ib5U8YsX/9999x0ajYbbt2+/95in3V1cffSAq48e8KSr663nVZfTONTihX2b8C3g8zinZG+TG27nFNx4dmfIYedd7m+3c+HChSEfy1C4t7eX+/fvG1JB+wFwMKmgR44c4e/+7u/429/+NqTzdGtrK2vWrOFf/uVf+Md//Edmz55NRkbGkI7JKKM+JCP0GWXUJ6iPgb6qqiqqq6vf+dx3331Hfn6+YV/XUMBev/tTDl+8+P2Lxvz1r/p2Fv0N18+cOfOzsHn79m00Gg0PHjz4RdcrP3MF3wQdx2XZBCaXocqtIzS7ln2Bp1lgo2SqnT6Vc46LEjN3BZM8pYz3lDDRS8o8Pz30zfdQYaHKxDOlBLckLb7ppagKapDHp9F69gLa6m+ISKlBFleBMqGS1IJWzn17m0JtC4csVWzbLWPb7lB2HYhg3U45n+2UsWi/jDlH9PsKZxyWYGYhYc4RGcusQ9ntFIerezqLj8qZdUzKOscoDojSOCDWe78olc891HzhGUNM8etiMyUlZfiGpA6I9P3UvsJ8JJE6Ss98w7WHD1CV17E4JJJlomiWeIZibidmtosMU0cJkx3ETHIUM8FVjKm9hJVbQ1iz0p/V2yWs2CljxZdSlm4SsXhDMAs3hrBoUwjLvgjmqz1K7GTZSFMriC9sJLGoidDMatwjCwnLrKbp/DXDQjE4qZT1TlGsCohmio+MsT4SxvhIGOsjYayvhHE+EsYK9Cme470lTBBIGRciZnhUsL5tQ6x+r96o+GBGx4UwNkbINKmcxZGRzDqt1Bd9iQ9mZEIwo+JDmBArZlV4DDtUKawIiWauXxiHYjKR1JSyvVLC0mIPPs/3ZVelnPU6Iet0QWyqDGZ1hQ/WzZHcevZgwEL3wbNnnLlxk6JLF/isRMTkPE8maV57Yh/wzShwY0KOF2OyBIzL8mZCtq/BE/tuJ2X7cSg/Co1GQ5xWjWuDHa6tJ/Frd2VusVNfpM+F2VoXA/TN1jozR+uCWaEb84oFZF//5VUn+6Pqd+++3YfvSVcX5dcvE93eiKi5ClFzFVFnG9Fdu8SjrtdRoKb753Bql7C3yQ37NqEh4ufSLuNQsxdWZ/yJ6cwecrh5n58+fWrYVz3UY/kUXFxcTGVlJWfPnn1vKmhHRwc9PT3s3r2bf/7nf+Z//ud/hmyOrqys5C9/+Qv//M//jIWFBXZ2dgwbNgwTExPEYvGQjcsooz4kI/QZZdQnqI+Bvtra2rf63/3444+0tbUNKsL1R/mXFkr5JX748KGh9+DVq1cHlVJ69+5dNBrNL97r+MOPP5Jbe57glHLsQjUcFmVwVJyBQ3geX/okMMNRzmQHCeM99dGksQK9x/lI9FEnbwkz3RW4pxSTVtNOavVZIrQNOMcVcDwkBi95Nh6yAmz9MnERaTgVlM2pwGyc/NP4cp+cjV9KsbSNx9M3h/0n4lizR8G8nWJmHpQw47CEucdkzLaQYn5IwmwLKbMOS5lvIWPb0Qh228fymX04i+1VbBLEsSsomR0BSax2jWKFUwQW0gxuPXyd9lpZWUlYVA7+4kKkEaVvAV9UQjWuvtmkZDby9Kl+oS7SVrEgKJxV0hhWBkQyy0HClD7Ym+Sg9wQ3MZNPiZnzVQiLtwSzbZeC9ftDWbFTxtKvpCz/SsrqXXI27FWyYaOIDXsV2KlySNQ2kVLSYnBMfgOuEQWcLmnleZc+/TCjvI1VHlFM9pQyXqD/DMb03Y7zfg2AE32lTBRImeIrY3qAkin+UibKxIyPEDJZLWZ+Qhh7E1OwFKXiJM9FW9PBs+5urLJymB+pYrE6gt0pqTimFeKUVohFTCaLAyNZK40lsqoRx7rTrCv3Z02RD0vzBCwo8mFOoTdzi7xYXCJgcakXK8t9ifxW987F8aPuh/h1qJlf7MzUPHem5HkwJc+DafkeLCh2ZVGJE+OyvRmbpW/iPiHbh0k5vkzK8TOA37gsX+bmi3jw+BG1l6oRtLpwqskal+ajrK+yxqzQFbNCVwP4mRsifm6YFrixRCfgYdfTX7zAv3btmuHf2puPP+nqIu3iWQT1pViV5eJYVYRTVRFWZbl41+lIvnDGAH69vb1kfafDqV3CoRYvvm5yY3+TO3ub3DhxJgjJxQTud31864B3+X7XE84+uMbZB1e59/zxb3LO/r26ly59uoVm/khrtVqamppe/y30pYI2NTVRVFREeno6f/nLX/i3f/s3zM3N+fd//3eePXs2JPPz3/72N0aNGsU//MM/cO7cOcPjPT09jB07lr//+7/n5s2bQzI2o4z6kIzQZ5RRn6D+53/+Z9Cw0djYiE6nM9x//vy5oeF4e3v7H5pO+SH/mkIpg/WrV6/o7Ow09B589OjRoF/b3xrh10REf3z5kgvX75FVdY6o/EZiCpvQNl3kwvW7rAuM0QOf4HVEaaKPlIk+MkOUaZJAhn9WOWk17QbLNVVstg9j16kYBMoiotJqUWfUE51Wi2tIGhu+lrFuq4QDljF4++fi7JXBF/vCWLJDwvxDMmZYSJh1SMIiKyVLbcKYe0TGvCNylh0PY66lnE1OauoaLiPNqmZXYDLr3NUsd4zgM+dINvvEc1SeRce1gb+TqqoqNPk64k7X4e6fQ5BcS1RiNeqkGiQqHa6+2YTHVdJ69hrdfXvH1NVNLBFGsUQYxXpZHKaOEiY5iJnsIGaKg4jJ/ZE+WxHzdgqZt0vEF7vlWByJZseRCPZYRrPPWo21fTwHv1axc3com46HczI8B2VW9QDoSylpwT++hLCsGi7f0IPFhUs3MHdXMM5LwiR3CVO9ZIwXvIbvMQIxY3wkTPCTslgYyYHoDGzjNOwOSOJLhxhWHwtjj2scrrJc9vgnskkax964NGKam7n5+BHf3r6LW4aWneGnWSeJZbMikS+kcWxRJvKlKoWjidmkt7ZzuDqKOVpvpmm8B0TqpuR5MbvIm/klHiwudWJ7nQeyb6OJu5ZM5d0arj7pRHMzDa9z7hxosmZL/THW11iyqvwkn5U6sr7Cke01TiwscWZsljdjs7z10JfjzYQcARNzBEzM8WFijh76ZmiCufX0Ec97nhHVqcSlwxav89ZYndnL3GInphW4Mq3AlRlFLswscsas0JVpBe7MKnLlZKvwVy3w+/8vuH///oDHy69fxqe+lFOVBaja6olubyK6vYnwtgYcqwrxqtNRcvV10/Xe3l6a7p8j7HIq7ucUuJ1TEHAhmoKbVTzqfvKbwF5yZw0eZ9OxbUnAtiUej7NpJHZWc+f5rwPK/qq8V658uFLp/1/8ofYVvb29XLlyBVtbW8zMzPh//+//YWJiwt/93d8xe/ZsPDw8qK2t5b/+67/+kPm5pKQEExMT9u/f/9ZzCQkJmJiYIBAI/pCxGGXUx8gIfUYZ9QnqY6CvpaUFrVbLX//6V27dukVBQQEFBQXcuHFjyEHvTffv43ny5Mnvcv4ff/yRlpYWQ7Gaj+2390tbIwzWJ1MKmOAjZZyPhMm+Mqb4yZniJ2ey72v4mOgjxe50wQDoU2RXsdZKwVbbSAPwRaRU4yU6jZNfLNv3h7JqoxiL43F4++dy2C6BVbsVrNijj+zNsJAw66CEBccULLUJY7F1KHOPyFhlH8Ea5yi2+yTS8M13vHr1ivPX76LKr0eQWELA6TIKGr/hWffbv8fq6mqqqqrovHafpPQGJCodXkEaPAM1BCu0xCTX0tDXML0f+i7fucd6ZTwzfJWsEEYz1VnKJEexPtpnL2KCi5hJTmLmHBGzcp+UefskLNsn46udCvbtDuO4VQxWR9Uc2B3GsSPRHLBRsy8gmaOKDPyTdW9BnzClDHl6Jd9c1e8bKyxuw9xLwXiBhMkeEia7S5nkIWV83z6+sd5ixgkkTPGXczgmi3htE/HaJhTpVdiJs9lsH80OjzgWKyKYopQzTillQpiMqRFKViTGoGys4+q9B8TXtOCYVohNkga7lHwk2mpiqpsI0VYSWFTOZ8VCJmv0jdQn9qVl6u3FZI0Xi3XObK4/xvaGY+xtPo51mwP27W5Yt9lid9Ya6zMHOdB0iO0NR9jScJSt9UfZXGvNugp71lefZEmp/cBIX46gD/z0FT/HZ/kwNsuHWXlCnnTr98pV3StDeMkXp45DOHXswfLMERaUODGzyIXpha5ML3RlRl/kb2vVCdyaBHi1RuB5LorQSxm0Pfz2g9U7f+rOzk5DKnX/Y8+6u4lub8K6LHcA8L0JflZluUSebeRx19vFPh53P+VB16NB9eXr7e3l1rNH3Hz6kO73HH+/6wniCwUcboxiW7WM/fXh7K+PYFuNDIuGKELO53H3V0T9+r9kunr16pAD11C7t7cXjUbD2bNnB3X8/PnzGT58OLa2tkyaNAkTExNMTEw4dOjQHzI/u7i4YGJiQlpa2lvPPXz4EBMTE5YtW/aHjMUooz5GRugzyqhPUB8DfW1tbeTn5xsKlpSXl/+u0bRf6lu3bqHRaHj48OFvfu6uri5DdLOjo+MXFavpT7f6vWDZMUfLBF99auEEgZRJPjIm+cj0e8e8+yJ/vjI2qBIHQF9QYimrjsrZ7aQmMrUWZUIZrkGJOPvHIYku4oB1LJ+tF7H3mBpv/1z22cTy2S4ZK/cqDNBn/gb0LbUJY46FjOW2Kr5wU7PFO57Ks50f9V5qamqorKzkr3/9K8+7emk7d4Pi8vMUlXZQ39zJ/YfPefXqFd9//70B+u7euM9JVQYLfcOY6iljkquEyc4SJrtImOAqZqKLmOkOEtZah7HllJpFh+QsOyBj1z4FlhaR2FjHcsImDmfX0wTJ83GJyGNfYAqHJGn4Jpa8BX2CGC2ROXVcu60Hi8joUua4K5jqK8dcoGS6p5xpnnKme8mZ5a1gupuUSe4SZvmH4pxSaIC+uKJG3FIL2BGegHmkknGhEkYpxYwOlTAuTMrovp9nRIUia6jlxYsXPHnexfX7D2m+cp2spnaUJbWcTMlja3wcU3MFBtD76Z68iRpPTPPd2Fx3lK31luxptMfxnDeHWq34usWCvc0W7Ku3xrrpFLsbj7O1/pgB/DZUn2BDjRVf1Fgxvm9P3/js/gif3hNyvBmXJWB8ti8nGjIMi+ju3m7ybmURdNENh4492HfswPbcHr5uPMb66pNsrHbmYL0Hls3H2FJrw4Yqez6vsmNdlR0bqh3YUetO0Ll4nnY/G9SivT/V++HD1+0Zrj9+iLilGseqwreAr9/O1UUImyq58vD+oK7zU3f19JB8pYFd1dEsKRaxpFjI5goVERcredQ1cOzp1+o52hjN13UqPM6m492eiXd7Jh5n09lXH45FQxRJnTUfdf3u3h7OPfiO+ruXaLz2DbmaXK5fvz7k0DXU7q9keu7cuUEB4rRp05g7d65hvrx37x7x8fHU19f/IfPz1q1bMTExoa2t7Z3P/9M//RP/8R//8YeMxSijPkZG6DPKqE9Q//u//zvoBfiZM2cMm95bW1v54Ye3e719Cu7fM3f//v3f9Lz9TcgLCgoG3cvuXe4vrNBfJfO3tlOuFtNABVP9FUz2lfWldurhb6KPjKl+cib6yVitiB0AfYLYYlYdkbPPNRZxdBFO/nG4BiUSmlCOOqMeK8dkVm2SsONABN7+uRy0jWflLjkr98iZYyHFzEKC+SEJCy316Z1Ljocy57CMz06qWHEqgp3+yZy//u42Fu9zbW2tAfre537oe/zwCZlhxfgfDMd+k5B1FkLMTomY6CxmgquEyW5SprhImOEsXCu3FwAAIABJREFUY71jFFtOqVlroWDOLiGLtgXy5VJ39i71xHanBKFMQ1p5K5rm84izKjkkTGNPUDKBKaUDgE+VVYNnVCHZlWcNFTxjIspY4KLA1E/OkoBwlgdGsDQgguWBEawIjGSOh5wJXhKme8s5EZVDhKYWT00h8xMVjI0PZFRiACMS/RmREMCYaCEzokKZFa1iRlQYE1QyRinFzIuN4Nbjx3T1dJN6oRFHXSYWWUnYpeXilq5laaqMSTneTMwdCHyTNV5M1ngyWePBlDx3lpTa82WdHbsaHLA768WWantWltmypvwEe+qtONniyPHmU+xssDaA3+b6Y2yqP8bm+qPM0ToxLltgAL8JfR6bpX9saq4/DXc6Byyme3p7aH94BuElZ1zO78epYzdeF44gvOSA5JITbuePsbn+BOtqTrKx1pEdde7sqHZjU6UDa6tOsqnSEZcyKc3NzVy9epVnz94PgJcvX0aj0fDo0esUyeuPHyL6HaGvq6eb/4+99wyqMs/z9q3a2hf7Yqee+j9Vu/vMVk2LgnYbuu02RzCLWREQzAHEhOScOQFO4pCTCAaiIod8yDlnEMSMOQtod9tTszPX/8UBWtrYPd2jPXs+VZ8inN99+N03VN33xTc5NaSxIC+Qr7P8+SrTj2mZfkzL8mNebgD7qhK4N1Sn+KD/CT6tZzGuUOLRnDICfK+Cn3F5EB7NKZTeaif6Yj6yzgzCu3OouN3Bk4Fnr4FK1rVmrOtOY1IWjlFpKFuKQ9iZqSSzs+ajQ9fH9pMnTz64k+ng4CB6enosX778o92fly9fzpgxY7hy5cobX//jH//IH/7wh3/wrrTS6v3SQp9WWn2C+lDou337NllZWahUKi5duvRRZuB9qH+NmrmfQsXwGIjCwsJfNF/vVQ+3UL98+fJvcv6SwnJmSsKZI4tkoSKa2ZIIZksimC+PYq40kq+EIUwRKNkSdWYE+BLLmnGIymSjdSjb7KJwFpzAW5ZMVGI5x9OqOZ5Wjav4POvNQ9loFoK77zns3VNYuyuMJWZBLNwbxPT9CmZYBGFwJIzF1uHMPxjCgkMhrHSMZrljFE7R2T/776aqqori4uI3vva4f5DK7qsUd/TSevkG8cJzOG+UsW+WO7aGYpw3ydixTsD0/YF8aS1jtk0QBseUrDsWgZHDcVbtUbLIOIDZpoEsWevPtpnObJpozbZvHDm6KYDjiUWo6js4XdrAgeA0dosTcYnMJOxsORHpFQScKsAjOpu4zGouXPmxXf/ZpGqMnWKY7R/KdGEoS0Qa2FsmjmaRIIIp3kF87qPgK3cli+3CWeAfil68mHGnhOic1njsaSE6ZzSf68YFjoDfzNhw9MIUTIkMxr78LFY1sazMF7Mw24+luQLWq2VYF51mWVaQZsZeuvcrwDdc0+fJ1Ex3pqg8mZfvinGlHUvV7kw+649uioDxyRpPTPVjVb4nNvVOWNc7sLfuGFtrD2BSc5DNVYcwqj7Iliob5uV680W6LxOHQG/COV8mpvsy6bwPotZzPBt8wo0n1+h+1EXv4x7uP7vPg/773O+/y9nrsYT0eiDuPobgwmHE3dYcaXZkfaUdm6qc2VHry9ZqL7ZUeWBc5YFxpQery+3YWu5OYnbaa633b9++Par1fk9Pz8h4lJEH//5+Yltr35veGdVS88b0zvc5rqeCBXmBfJXpx8K8QJbky1iqlqOfJ+HrLH/m5ojxa8nk+fPndD/sw77xFLuqIl4DvmHvqApnU3kgO6uVmFZK2VQuxrhCwv7aMHzbkrn2+McmNScvVmBSFo5+fgCL1YGsLJSxME/EvEw/jItDyb3+YWmN/6wezrLo7u5+79rBwUH++7//m40bN360+7MW+rT6vUoLfVpp9QnqfdD38uVLOjs7UalUI0Nuf24N2z/aDx48QKVS/V3RuGG/ePGCmpoaVCoVtbW1o4aQ/1IPpxj19vb+JuffcuMWBspYpgqDWRIcy/LQuBHrB8UwWaDkK2EI+2PPolRVIDtfhvvpPMRpRex1i2KHTQQOwsSRur7jadWEnS7DVnCWA3an2H84HrPdkVgcPsHG3eEsNlGwwETG7H0KZlkpmXVQyWwrJbMOBDH3UDCL7SLYKU6i9sK1kb+pG30PqartpbSim4amKzx6PPDGc6murn4N+vqfvyA8v5ptwUmsDYhnjTiO1b6xrLJSYL7cF+G+SAKtYkdsYixh3hYxc7ZJWbI/iHXWEaw9GMZCk0Bmbw1kkWkgFuZBOG2VY7leiOlsZ0ym2GK9VUasuhqpqhTZ+VLESYWEnS1HfLIA0Uk1wamlnMmvp7139ODv1qbL+PueY4lbGLOFYXwlCGaGXwjf+ASPdPOc7BHEUrcoljlHohcrRueUkHEJQiYmBDDulIixp4SaaN8ZjcefFjPhTABfnJLyeYyCSQki9HMF6Kt9WJDrjX6OHwb5fszP82JFvoiZmQImZXgz+Zwvk85ravqmDFkDfR5MUXkyN8+F+bmu6KYIGJf8unWTBRjkeGNT74RtgxNHGi04Um+DUbkdZjWH2Vpjy+bKY6wocWR2rifTMr35OsuLxQUuHGm0J+qSK5LufQgu7MC7cy/ObVbYth7Auf0ooguenL+RQuO9KvJvpZHRl0DerRQsGvxZW2GPSbUnGyrdWFvuwupyJ1aXO7GuwoU1FQ5srnIl7UohfX19r7Xez8nJoba2lt7eXtrb20fqe1/9HRVfvYhvdSEOpTlvbeSSf/n9YPBTPxsYYEtJJNOy/FiUJ2GpWj7KBvlSvsr0Zblawa0nD+gZgr6dVeFvBD7vljRWlwpZWuzNmlIBe2tCOVQfxf7aMDaXB2BaKcWnLZlH/U/puH8ds/JIFuaLMC4NZ1dlLLsqYzErDmNZpogFuUJ2Vsb8XfWBv3ffu3fvg5vaDA4O8n/+z/9h27ZtH+3+rE3v1Or3Ki30aaXVJ6q3wcPg4CCVlZWoVCrq6upG/mv+KYxleJd/rfTJx48fU1BQMPKf4V8rujncTKCnp+c3Of+XL1/inJHPXHkkU4XBzJFFsDAomrmySL4UhTAjMJz1EaeIyKsmKLOCkOxKYnKrCD59juj4FDwkSbhIM7ATncMrOBtXmQpbwVmksYVkFrWTfLYOT790rB3OYGmdwKa9EazZFcaqfaHMs1Ay+0AQs62UzDscwnr3OA4qz1HRrolqPnkygCq7mfCYYgSSLHxFKgIVucTGl1FZfZHvvx99jWtqaigsLPzx2r34FrekPAxFccxxD2OxTzTL/GKY4aDka2sZC48ocDgUNQr6BJbRGG4QsdAkkLk7ZMzdo2DOdilzTAJYsFnEhnUCvM2CEO8Lx2mrnCObAzD50o4d+h74B58jqbKJ4vaL3H/0hAtXblHR0ktJYzcZWY2cjisjIaqYc0nVXOzuY3BwkGfP+kk5XYmrcyJLbIL5xiWIqW4KvvCQ87m7nKnOClY6RnBQeZZVoTGMTxChc1KIbpxoNPSdFqKTpPG4V50o5PNUX2bnerK6IIBlWWLW5ElYp5axOl/CgjxvZmb5MjnDh8nnfYbAz4dJGRq/mt45P9dxBPh0kwXopviPeHyyv+b7KQJ2lLti02CLdZMF+2ps2VDmwNaaw5hWW7O56hibKjUfTavtOVDvimPbLny7zPHt2oJ31yac24043GLGweZtWDVv52DzTg637Map/Qh+XXaU3o6i40ES1x5Xs7vOj9UVdmyocMWwzIm15c5sqHBlfYUra8qdWVVuz+pyB5QX0kY9pA+33q+pqSEnJ2fUEO6mpib6+voYGBjg3rOHFPQ14NmYiGVFDDuLY7ErOz8yssH7JyMbfo47799AP0/K11n+rwHfsGdkC5ifG4j6ejuP+5/i13oO43Ilbs3Jr0Gfdf0J9As9WVzkyeH6aGwb40Zs03Aco4pA9tWGUnSzhbCuQgwL5awrVo4Anwb6wlmfKWGFWsr64mBSL9d+dPj6WL5z5w4qlYorV668d+3AwAD/+q//yoEDBz7avXm4kUtycvJrr2kbuWj1KUsLfVpp9YnqTeBw7969kflzvb29vHz58jfvivlr+ddIn7x+/TpZWVnk5ub+4nl6b/OLFy9GhiW/D94ePOnn7sOnvPj2543DePb8Ba4qNQbKWGZKw/kmIIwZknD0lTEcTM7gzuOn9N1/TOf1O1Q0d5B2PoPc3FyysrJQF1eRrm4h9FQZ0thCFHHFxJ+roablCt8NNa55+Kif6qFIXX3TFUpregiKK8YrKAs7STpukdlEZlRR3NzLwHNNdPT58285l9GIIDATN++zyIPzCY0oJECWjZN7KsERBVTVXBx1HrW1taOg73x9B2sDTjDfMwJj+WnMlImYKRNZbB/MN4ckTLdVsOpYCGKrmFHg52YahMlKfwy3S1i2S87CDUIWLXJj7XQnzCfZsfcbF6yX+CHaE47/7lCOLPfDYoEHsUoVffcejOoYebPvPkpxFo6HErA0j2SfSRgHt0fhan2ak9ElPHnyjEcPnxIoVGFuHMqKdRIW7JQy/ZCcb6wUzN+pYJlVKGscopkVpmTcSSHj4oWMjxOhe0LMuFOiUcA3An6JQ04SMj5ZwNcZ/mwuVIyCvnVqGSvyxczL9WZKhs9QtM+HSeneTDrvwxfnvZl0XpPy+XW2G7OyXEbSOSekCNFL+Sn4aV5bmOXFkUYLLOusWF/ihGGJOzvrHNleexTzaluMK2zZVGGNSZU1R5r24NlhineXEd5dxnh2mnKkZRtWzds41GzO4eZtHGnZybGWXVi37OBoy3bc27eRcW0b+X1W7K6zY1W5DavKHVlf4crGSrdRNiy3x7DcHo+Wk+98YL916xbl5eWj4C8m9wxu5aHY1wZzqF7OnpoAdlZJ2FOpxLkmhajmGtSXu38R8D1//pyWe9dYlCfhm3dA38xsIfNyA8i+pkm1TL9ax6G6OLZVho0CP/fmFNaWijEo8mRjuXgU8A3bsjYco4pAFF0qHBtSWJQvxrw86ifQF8b6TAmbi4NZWiBB0p7z0eHrY/nmzZsjTbTet/bRo0eMGTMGOzu7j3ZvftfIhoSEBO3IBq0+WWmhTyutPlH9+c9/HgUawxE9tVo9qgPmb9kV89f0wMAAKpWKixcv/uxjv//+e1pbW3/TYfPff/89KpWKjo6Ot7z+koq2y8iTS3EKz8QhTIXviXwyKzt42v/8g3/Oy5cv6bx1h6CSKjyzC5EUllN39QbfD0UsX758SUdHByqVipKSEvr7+8nJyaGpqYkffviBuw+e0nvtHtduPvjZ0Pkmt3fcQBGSj5dfOvGnKjl5pmrE0XGlOLmncjyhnMdPfkz1rKurQ61Wj+z36AkV8z0j2CRJGAE+M2UiSx1CmW2hgb4FtkrsDo1O8XQ1UnBsuZAjq32w2RyIse4xNvyXJbunObFzqgMmutbsmOqA9RJfAvZH4LwuAOvlfoTGZ6G+1EPXnds8f/6cx4+eohCosNoWyW6jUGwtT+B85BTWe4+zY2MwNvvjiA5RU155AVubU5gah3DQ8jjbDsagbxXCkkNhrDocwYLdChZZBjMrWAN944ehL06E7kkxOolvgL4zQ07SROY+TxViVBTEypxAVuYEjEDf2nwp8/I8mZ3pz+T0ofTOYWdoPEXlxfIiW6arPBg3BHZ6KYJR0KeX4o/uULTvy3QvLGsPsrPKjpVF/ljVRmNRI8G8yoGt1daY1x7BvPYwptUHcWjdimfHZnw6jfDr2oBTuzGHms051GzOkRaNj7Zsw6Z1K3YtGiC0a93BiUu7OX9tC64tu1lXcZRV5bZs+An0bahwYVW5LYZljng0neXu03fPyBv++75//z4V3fW4Voayo9ibfYV+HFEHYFss43CFlN1VQjxajlN5q/3vgop7zx6zoiCIrzJ9WTxUy/eql+TL+CrTD4N8Ke33NODxsP8JoRfyOFwXh3GFkh1V4eyoCse4XMmm8kCWF/tgURv+Rug72hDD+jIh/u0pOL0F+rYWDUNfCMsKJEjbcz86fH0sX79+HZVKxc2bN9+7tq+vjzFjxuDl5fXR7s1/+ctfGDdunHY4u1a/O2mhTyutPlENQ9/z589H6teqq6t5/nw0YAx3xbx9++d1YPxHeziS1t3d/bNhcTgy0NTU9JsNm3/58uVI2/A3Ad8ZdSPHlOmYeCawxSMeE88ENrudwDIwBUliMY+evl7/9uBRP0XV3cSmVhGZVEFydiOdvbdGInNvukbV1dWoVCrq6+tHzjUvL4+Ghobf5Lwzsppx9zlHRHTxKOAbtliajSQol6aWH9Ny6+vrR6Dv2eALTBSnmesextagM5gpEzEKSGCdbyxL7EOYe0DCzCMy5tgGsf9IOH67wvHYGoynWTAWC72xWBPI9pW+7F0hwHqFANPxR9k5xR6LWW7sn+GKqa41e79xxt1Exor9fkwKkqIbLUcvRsGEWAUmGUnEZJVja3GCvcZheDsk4+OUMmLno6cwWiFlh3EoBw+fwMhIibFxCAcPnsDCIYGlh8NYcjiMlUfCWbRfycK9QSwUhKA7lN45Pk6E3gkxExLEjPsJ8Okk/ljfNwx9uskCVuRpIG9ppojVQ9G+NfkS5ud5sSZHxoL4MKYkCZh0zodJ6b5MTvdlSpKIWfHBGOcIma3yGYI+TRMXvRRNxG9iqpAJqQL0hmr7vjnvj1dTCJbVkeysVuLWeIbdpVEYF0rZXeXPrhp3dtW4saPmGC5tW/Hu3Ihf1zoEXWuxaTXFqtmcI81bOdpixpEWM462mGHTaoJd61bsW3dyrHUnyp4DFPXZE3fRDONqKwzLj7G63J51Fc6sr3BhbYUTq8ptWVfhhFG5CK9GFVcevbu75nBN37Nnz0i8osa2ORivtlgkbafxq4vFrSwUB7WMwwVithd54VsWSWdXJ/fu3ftZ8wBftV9LJrNzRMzIFow0cRkGvtk5IqZnC7CsHh2lfNj/hIxr9Qja0nFsPI1D42n8Ws/h0nwa00opu2tC3hvpi7xQhGGRnLU/Se/cWhiqSe8skLKhJJizV+o/Onx9LF+5cgWVSsWdO3feu/bChQuMGTOGwMDAj3p/Li0t5V//9V/593//dywsLLCzs+Ozzz5jzJgxyGSyj7o3rbR6m7TQp5VWn6j+/Oc/8+DBA9Rq9Tvr137roeK/lr/77ruRttwfesz9+/dH0lkvX778m3cnzczMpLW19bXvV7Vf4ZgyHSP3E9gEn8c9OgePmFycwjMx9znFXlEScdm1o47p7L1FYEwBduJz7HU9zW7nkxz0TsZLmc2ZzAaevxgNr0+ePKGwsHCkrvDVc83Pz6e+vv43OefE1FocXJPfCHwnz1QREl6An1hFedWPtY719fXk5+fzww8/8PjZABsC4pnhHMJK72gM7EPRtwlmkXUQCw4rmLU/kK+tApl+WMrGTUJ2THPBdIoDhtPdWLbIlxUrRCxfJWLtegnmW4LYOtONLX86xO6vHLGY5cbOqY6YfW7LHFt/dMIlfBYpRSdKxrhoGWOjpOhEy9CLlLPeUonT4ZOjgM/DLhGL7ZFsXiVlw/JAzIxDWL9ezqbNQWzeGMT6TQoW7tLMMVy4R8E8KwXfuEiZKVagFz/UyCV+yKeFb4S+cWdE6CaKmJgkHkm7nJ0uxLhEyZo8CcuyxCzLEqOf48eCbB9MMiIIyClmw/HjTAtXMCsulDnHI5gdE4F+XCxbEk+z6lw445OFjEsWoJci5PNUMZPSAoccgF6yCL0UEW61mfQ8vIFr8ykO1EVgUxPP1sIwdpVEYlkRO+KdlV54dGzBt3M9fl1r8evawLHWrVg1b+NIs9kr0Ld1CPrMcWjbhXXLThTdByi+6UDmtSNIOtexpeoQ6yoch9I57VhT4cD6Chf21EjZXhaLoDmbO++J9A3PFL35+C6SrjMcapARdCEFZXfqiBVdyYibE7CoEHKsSEJ8VhIqlYr8/HwaGhq4evUqT59+eLrnlUd32FQczsxsIV9l+jE7R8TsHBHTsvyYniVgRUEQjXffXFP2eOAZvY9ucfHhTR73P6Xl3iWs6iLZUCbCuiH2jTV9e4dq+roe9GE+1MjFqDSMnRUx7KqMxaQghKWZIhbmidhdGfvea/bP7OG5jffu3Xvv2vr6esaMGUN4ePjHvkXT0NDAqlWr+MMf/sC//du/MWvWLFJTUz/2trTS6q3SQp9WWn2C+tvf/sbly5fJzMwkLy/vnbPtHj16hEql4tq1ax8d7N7ld0XS3rS2t7eXzMxM8vPzefDgwT9kj6+mUb66F0VKKaZeCRxTnscjJneUXaOy2ewWh3NEFrcfPOWHH37g5p3HBESp2et6mmOCNPzCchFFqXGTq9jrchqnwPOcL/gRLm/dukV2djY5OTlvjNgWFBRQV1f3m5xzWnoDzp5pxJwoeyP0SYPyEEmzqKn/cYB7Y2Oj5u/y/lPSMhvZ7BfPdAclM4/ImWUpYZalhPmHFegfUzLHSsqXR6V8s1fM8kk2GP6/gyz9xhUDfT/0lwkxWCJg8RJ/lq8NxHCjjHVrAjGd4cqWzw5jPPYwJjpHWGhgi06YBvh0o+V8HhvE57FBTIxRMD5azthIKROCpLg7JI6CviP7j2O+ORjjtQq2GMrYZRaO0WYlG9fIWL1UzEp9IQu3SJi5W8pkr0B0w0WMjxExPk7MuBNDNXxnhOicEaCTKEAn6UePSxKgmyTki8QAJicFMjkpkPHJmrq+6ee92Vwgw7wshA0FMpblCZmX58WqvAAiq8vouH4TybkMVoVEsPT4cRYej2FOTCSzYiKYExOJ/olo9JI0kUXdZBFfpAYwKS2QL1IDmJAiZnyykElpgbTd7eP20wf4tiWzozqIw1VxGKtD2VcWPQJ8FuUxmJZ74d2xCZ+u9fh0rse3az32baYcbDbncLMG+I60bOVoy1ZsW02xb9uGTetObFt3Et17iOKbDhTddCC+dw2B7cYcqlWwsyaQ7dUi9tcqcGtKwrEuDYvKUyT0VL/3wX04VfvywxsIOxKwbQ4eBXyv2qklAu/249TeaKO7u5vKysqRMTUqlYqysjI6Ojq4c+fOe6OAvQ9vc6jmDPp5UmZli5iRLWRuTgCmpdHU3770QYDy/Lmmg6SsM4Pt1UFsKBe9uXtnaxKP+jVQmnSpBtOyCBarA9BXB7C8QMr8HAHzM/0wK4ug4Mbfl776e3d3d/drIzze5tLSUsaMGcPJkyc/9m1aK61+d9JCn1ZafYL661//SmlpKRUVFQwMvLlt/rB/6/lyv6azs7Npbm5+55pvv/2WhoYGVCoVlZWV/9BRFG9Ko3z0dACniEyM3E+MRPh+6j3CJKykadR0aFIgVUVtWPunYSs6hyS2cJSFkfnscjqJMDKf+w+fceHCBVQqFUVFRTx9+vSN+yosLKSmpuZXOcf7d59QU9ZNcV4bNeXdFBZ1ECDPQSjJeg344k9V4OqVRmRsCbdu/9goqLGxkfMZWaSoGvBTZGElTGauXTBfHZMz46CUmQdlzD2iYN5RBTNtFUw7LGW2kS+r/99BVn1uh8EiX/SXCjCY74XBXC8M5nqyeJ4nq9cEsnKDlC0bZFgt9GLPNCe2fW7Lly7+jI2UohstGwG+Vz02UsrYcClm7jEjwOdln8Re8wi2rFNgtiEI07UKDh+IY/N6BSuXiDE0EGG4RMya1RKm+UgYHy1mbIKIccdFjIvRfBx7cgj6EgUj4DduCPg06ZdCJiaJmZwk4fOkAMYnCZmYImBmhjuzc9xZmOfNIrU3ywsFGJcFEdleRGp7K57FBRifjOOrkCAmRyiYfkLB/IQQ9OMiMTgew/zYKKbGBjE+SYRusojxycJRH79IDSCm80e4OnmpmAN1EeyqCMW0IIxdJVEj0GdeFsLOCk8EnUb4dq7Hp3MDvl3rce/YzOEWc6yatw2B31asW0yxazXBvnUH+xt2s6nMGsMCd5apPTApdcezeRuhF7axpyIc29pUfJuz8GnK5GhNMjvK4vBvzqbzft97H9xbWlo0KelP7yHpOsPBN0T6hn2sSYmwI4GLj35s8tHf38+NGzdobm4eiY4Pj6+pq6vj0qVLbx0OX9V3Gd+6PHaWnMS08ASWpckE1Bdx5kIjt598eLTt3rNHSDvPc6AuHJOfzOnz+cmcvsHBQdQ32nFoSGZrWQRbSsPYpA5iT2YwVTd//giKfzYPjx962+/sVWdnZzNmzBjOnTv3sW/TWmn1u5MW+rTS6hPVixcv+P4ttV+verhBym81auDXdG5uLo2NjW99/enTpxQXF6NSqWhvb/+g8/81rVarX4uo3X/cj2O4CmPPhDcCn0dMLvvEyVhKUqlsu8L3379EeryQnY4JiKLUr0GfJLaQY4Kz2IvPkZCSj0qloqamhm+//fat+youLqaqqurvOrcXz78lN70RpTATb7tEXI+cwtsuEanPebzdUnHxSkMYmEVMXCnxpyoJiyrCwzcdkTSb7LzRKa9NTU2Ex6QiiyxAFJJLQkoV6w4omXFQytc2CqbZKPjKWsaXNnKmH5Uxe5eQ5XrWrP4PS5bNcsdgmZAlC31YPE8DfAZzPTGY7cGy+V4sWylmo5ECb+sEpIdPcHSFCL0wKZ9FSZkYo3gj9I2LkjE2Usoi9yC8HTU1fa7HTrPLNAzTjUFsXi5hl3EYQnEGa9ZJ0V8tZvG6QJatCWT5lkC+CBOjEy9ifIQI3TARuuFi9CID0DkpZOwZzWy+CfECJpwQMO4N4DchScT4JCF6yQJmnvNkfpYzs3NcmJPryrwcDwyzA3GvPYtDUTbb01NZdSae+cdDmHran6/SvPj6nBfTz3kzI82PGacD+Do8mMmhwcw+Ec7qrJiRKN8XqQFszFcQ2RVI/V0pFx6m8njgJr2PbiJoT8W8Moj1RYFsKJCzrTQUoxIZG4oDOVodQHDnLvw7N+LbuRGfrg34dK7HttWEg01mWDZt42CzJr3zSLMZZjUWfJXpwRSVF5MyNJ7iswBtAAAgAElEQVSc4cWXKk/WFnrh2ZjB0ZokdlfEs6ciAZvaFEQtudS+Ei279/QJtTeuktd7gfzebppu3uDRs2c8f/6c5uZmMjM1g9DPXMnHpikY7/bjrwGfoCOBw41yoi5m0D848FYQePjwIRcvXqS6uprs7OwRCCwuLqatrY2bN28yMDBATd8VAhtKOFB8FqfKbAR1hfjU5HO4JB37ikziOup+VofQ/sEB6u/2EN2Tj6wzg/DuHCpud/Bk4Nkb1w8ODnLhQR+Ndy+jbqgkQ5Xxi2sU/5k8nO7b39//3rXJycmMGTMGtVr9sW/RWmn1u5MW+rTS6hPVX/7ylw96mP/2229RqVR0dXV9dKj7JVA17Fu3bpGTk0N2dvavMsD9l/hNEbVvv/se/wQ1m91P4Bie+RrwuUfnYOyZgF1IBr1993j+4jvEUWp2O596I/BJYguxF59lp3000rBEurq63lurWFJSQmVl5S8+r5cvX6JKqcPPKYWjO2PwtE1E6JqGp80Zju6Mxu3YaTyckwmQ5+DilYajWwoevukowwo4n9XEs2ejmwc1NzfjF3gKN9F54pKrOH6yjCNbFKzdKMTgkIJZh2VMPyhl9kEZa3ZJ2fS1E2v+y4pV/3c/SxZ4a9I653qyZL4XS+Z7a6J9czwxmOXGYn0flq0QccAsBGdjJe7moUyMlL8T+oZTPBe6BbHHPJwtnlHMkSv5XC7hc3Egc5xlmNtEY24fh765nDlmUuaYy5hjKmWqSwC60SL0okR8HixiYpCQicEi9KLFjDulgb6xp4WMPyXgiwQBExMEjE/8EfrGJQs1NXbJAmZkuLMk154l2Y4sLXBgSbEdiwvt0c9zZfZ5AXPOB7DifDiH8s5hkC5i+nkPpme68/V5D74578GMTHe+SfdkWqIf08KDmXs8CnFFKX2PH6K+fpaUS1ZkXTch/dpa0q+tJeu6Ceo+Sy4/UtPx4CrSzvPsrghnXUEgawoCMC1WYlkWi6AynaDmQyi7NiLpMiOw24RjTdvYWH6IhYUOzC9wZEmxLSZVB9hXt4evMt1fAT0vvlR5MFXlwaQML6aqfNhbEU/W1VZO9FQR31NFwfWOUcPFG/uuc7y5joDqUtxL1XiUqZHVlnOyrZHuu7dpamoiKyuL58+f0/Xwiqaur1GGc2sE4s5TBHSexq01ioMNUkSdJ6m72/HBADEwMMDNmzdpa2sb+QeSSqXifFYmnrlp7Mg+haBaTURr1YjDWyqxK1fhWZNH+fX3Dwj/NdzU1DQCvv/bPRz5/RAAjo2NZcyYMVRXV3/sW7RWWv3upIU+rbT6RPWh0DdcK9fe3v7Roe59Lioqeg2qXr58SVdXFyqVisLCQh4/fvzR9ve2iFpOdRcHJKmYeZ/CNSp7FPBZBKRg5nOSoJQyXr58ycuXL1EmlLDb+SSCiLzXgM8vJBPzYxHsdogir6SJgecvaO7uI72kjWR1E6ryDjov3+bbV7qUlpWVUV5e/ovP6+qlu0h9znNsdwxKURbh0twRK4WZWO+KQexxltycVs5mNJCUVktWbgtd3bd48eL1bqlNzc14CONxFaVzJr2OE2cqsDYNxny2BzsNfTFb78+2LRJ2b5JyZHUAJp/bs/o/rVj9H5YsWeDNomVCFs/z0kDfPC9NxG8I+vTne2Gg78v62Z4cXCEmzC2ZLWdPaxq2xMjfCH06UTJ0o+XsEJ9gliQIvRAJOhESPovSeHyElAnhcma5BDF3h5z55jLmb5Mza5uML4QBjIsT8UVkAFNCA/hcIeTzEBG6UZqavrFnBJpo3xkhemf8mXDanwmnBExI8EcvScDEZBHT0/zQz3ViicqZxeedMch3xKDQkcVFDiwrsWNxoQOzs9yZpvJhSY4UwzwF8zK9+SbDg2lp3kxL82Faqg/T03yYlenJ7AxvZp6SMD0qHCd1Htcel5Pft5dzV1eium5E7o1d5N7Yher6Zs5dXUl+3z5uPKnh6UA/ZX2dCOszsS9PwabwLG7qPPyKiololhDXs5vky7uxb3JAv9CJeQXOzFFrPFftzMJCF+bneWoGxWd48lWmB19luvNlpgdfqjyYkuHFFxneTFX5cO5KLv2Dr6fjtd++SWRjDQ5FOQiriglvrCasoQrfikKcinM53lKPurqK7OzskWPq73Yiv5CEe2sUR5uCONqowKU1EknXGUpuNf5d0bDHjx9z6dIlUsqLsEg7ztakSGxST+CUcRrfgvNIq9WEtVSgaCrjQPFZ4jr+MUPSGxoaRl2D/83+OdciODiYMWPG0N7e/rFv0Vpp9buTFvq00uoT1YdC3w8/fFit3Kfgn0asnj9/PjKioLa2lhcvXnzU/Q3XUf70+08HniNPLmWfOJnNbnHsFiayT5yMsUc8Zj4ncYvOprfv3sj6gsoL2InPcdg3hcCYgiHgK8BTfg5L52g2HwxDEJ7Dlb4HnMypRxxfiIMyg2PydJxDMpGcKia1sJkn/Zp6xvLycsrKyn7xeeWeb8T18En8nVNHAd+w/RxTcDtyCnXmh/0Ntba24i1OwEVwDmVoPsqQfI5uC8ZkhgvbF3tjvVWJxUYZlhtlOJoqMZvsiOF/HGDNfx5gxXRX9Bf7s1jfl6ULvDWRviHo05/lhv4Sfwzme7F2jivrdslY6x7FqvA4dKI03Tr1Xon2jTRyiZIy51QkB/LOMSVOiW60jCmRCqZGKJgSrmBchJTPoiXohEuZYStloYkUA3M5i7cr+EogYVyciImxAUwNC+BzhYCJwSLGxYjROfMj9I07LUDvtD96if4a+Dvlx4RkXyYl+rHwvAuL8+xZlOPIIrUDiwrtWVRkz5JiO1aVHsOw7CgGantmnhUwK9uXOXkeLC2yZVWhNRuLD7NWfYxFmc7MOufHwgwR83K8mHtOwNdRoRzJyqDitjvp11aTfWMbBTetRjn7hhnp19ZSdcdnBI6eDQzQdfs26p4esjq7KOjpoe1WD8U3JUg6j6Bf6MhctTOLCpwwKHRgSZETiwtdmF/gxmSVBuy+UnnzpcpzyF58OfT15AyNd1dacfbaUVrupzIwqElnHBgcJLWzFefiXELqqzjZ1jjKkpoyvMoKiCrMJydn9DDyO8/uU3yrgcQras5cySe/r5YbT97fwv9DXXHjEi6VObiWZeJfrMIlMwmb1BPYpJ7ALi0e9+wUtmedRFZbxJP+N6dn/pquq6sjN/d/72y+n16LvLy8D1orEokYM2YMV69e/di3aK20+t1JC31aafWJ6n/+538++KH+t5zj9mv6VXh59OgRBQUF7xxH8TH391M/fjZIQl49zhFZHJSlYSVNxS40g6DUslHA98MPP/DoyQDKhBKsvJKx9EjERZbBUe9TbLeJYMvhCNzlKvIrujiZU49LaCZu4VkEJ5cRlV6FIrEEpxAV3lG5nCtu5eXLl1RWVlJSUvKLzys1oRLbvcdR+KveCH1yvwzs9sVx7nT1B71fS0srLnYR7NkSjJmhBLOVYowMfDGa64npLA8sVweyY5WYo6ZKfC2iMJ3kwJr/Osia/7Rite4xFg+leC5e5IvBPG8M5nqiP8cdg8V+LF7qj/4qb+YclfCNg5ypjnK+dFXweZCCsZGa2r6fjmyYdFxJXEs9C5KjmHBCwaKUGBYlRTPnVAQTYuR8FiXhT9Ea64RImCCQ8oW3jCl+ciZLpYw7runWOSFUU9M3PlLM2DgxY4fTO88IGX/Knwmn/NE77Y9uoj+6yX7opfoyKcmXRbkO6KvtWKS2Z1GhPfpFdqytOIxR9QGMaywxrrXAqPoAa0utWaB2Zm6+I3tqd2HXYoxjqxGOrUYcazRlb+U+1uR5MC/bh9nnfZkRq8S/+DR5fXs4d80Qdd+B16BP3XeAc9dWkd+3l/vP3p2a+Kj/NvtrhcwvcGFRgTNLipxYVuTI8mIHVhQ7sqzQkS8yvPgiw4upKl8mZ/gwVeXLlyofTbQv04MpKg8mZ3iytdySqN4VxF/eQPJVCwpvhVN6M53QxnzcSvNfA76TbY3EtzbgUJSDX/Z5zv/GUa7BwUEu3r9DwdVusi91EtNei315Jm5VOSNpnaFN5QRW5uOdfw7bswmsTwzDJjWO/Px8GhsbuXbtGs+e/TYAWFtbS35+/kcHrk/B1dXVqNXqD1rr5ubGmDFjePDgwce+RWul1e9OWujTSqtPVD8H+goKCqitrf1FQPCPdFVVFcXFxVy7do2srCxyc3O5c+fOR9/XsD8Eru4/fkZd1zWq269w6eb9t8LqzTuPCT9djqssg+220ZgeCcfSLQFBeB7qygs0XriBOL4Qt/AsjqtqRjnmfDX2ygyCkkq5cvPByHX7ped1PqkGB8sTBHqlvxH6AjzO4XggHlXK+8dCfP/9S0JEqexeJ8ZooYA1c7xZudgXg/Ui5psEMt84AIP1QtYu8mLXAh9s10lwMA3G+Ctn1ulYs+o/DrBskgMGC33QXypAf6mARYv9WbRUwJIl/ixe4sVMqwC+dglipquSWTZy5jko0PcJZpJEwbhwKTpRUnRj5EyIVWCckUjZ1UtEt9QyLSGEL6LlTFJImCgP1Mz1i5Lwp2HHaMDvM6WUsUoZOnIZOjIpY49rOneOPSFCJ1qETqyYsSdEjD0pYuxQiqdesi96SX4a2EvzRS/NF90kf6ac8UG/0A79IlsWFjigX2jHhqqDGNdYsrXWApMaC0xqLTCttcCkxpJNVVbsrt2FQ6sR7u0bcGnbhHPbJtzaN+LSupkjdTtYrnZgdrovC+PCOd6QQNq1rSRfXU9en+Vr0Fdw04qM6xvIvbGDW0+b3/nA/LD/CatK/JmrdmVFkRcrip1YUWzPimK7EU9RefJFhhdTMryYovLlS5UfX2Z6jkDf5AxPpqg82VW5j7CeFUT1Liaqdxmxl804cekY0jZ7hLXxb4S+k22NeJSp8cw8S1p21m8GEQ+ePSWtpwVZYymuVbnYl2fhUJ6Fef4ZNmYnENRUNqqmL6K1Co/qXGxK0jlRXUxFRQWZmZmoVCoyMzMpLy+ns7OTu3fv/mqNV6qrqykoKPjowPUpuKKigqKiog9aa2Njw5gxY/juu+8+9i1aK61+d9JCn1ZafaL6OdD3a3R3/Ee4urqanJwcVCoVpaWl9Pf3f/Q9/XR/RUVFv9r73b5zl+On0hEEneZ4cjHFNT3ce/iMH374gfSSNhyDMwhOLnsN+o6raghIKMQzMoeShovU1NRQWFj4i/fRXHcZf+dUnA4mECbJGQV8YZIcHA/EI3RJpbXx6nvfq6XuEkfNQzBe5MveTRJWbQlk/g4Zs3fJmLlLxoxdUmbtkDDfXMIaUxl7tiix3BXNvu0RrFvkz8ppbqz47CjLx1mzdIbbUPdOD5bM9WDdLFcMDN34xlbGbLcQlnpGsNAxBH2XUNYFHme97DjTvZTMDwjG8WQCcRnp1NXVcfnyZdwzVEwIlzA+KAC9QDE6ygA+iwzkT5ESPhvyCPQFa6BvnEyGnr8UHYVEE9lLEGl8UsTYU6IREBx/UoBeoh96KX7opfqhm+KH7hl/dKICmBjvz0K1PYtLbFmgtmdV2RGMaywxrbXAqNoSo5oDGNUcYHP1AbZUW2JWt5+9DTvxaV8z5LW4tm3ApmULji1GOLcYcbjBnB1lVng27EPebYa8Zy2yHkNCLm7k5BWzUfA3HOnL69vDvWc973xgvv30AStL/JhX4MbKYrdXgM9xCACdmJ7jxhcZXkzK8GRqhveoKN9UlQdfZHjxZaYHgva1hF1cRkzvSmJ6l5NwZSvxl48h69qOsOUYce15b430+WSmk5Gb83fDwpv8bGCA5O5mPKrzOFaqQlhXhLyxDP/aQrbknGKNKg6jnJME1BcR3lJJcHM57tW5WBWfQ9lUztWH9zXv8+wZ169fp6mpCbVaPdIQJi8vj/r6ei5fvvxBIwbe5srKyg8GnX92l5aWUlpa+kFrLSws+Jd/+Rf+8pe/fOxbtFZa/e6khT6ttPpE9XOgr6ys7O+q+fpHeGBggNzcXFQqFU1NTXz33esNQj62a2trKSgo+FXe68qVKyPD5R8+fPja68kFzdjI04lKr3oj9CmTSnEJyyK/5sLfva/BgRfEKNXYW8ThevgkCoEmzVPhr8Ll8EkcLE8QG1LA88G3j40YdlxQPjtWitm7PgCz7XIW71MyZ5+CeTvlzDOTMMckgDnmEmbtljFnh4wlGyVsMJSy0zwC003BrFsWgOEcb9boHmP1v+/A8P/bw4r/u4f1/7UX088OMn+/mGkuQRh4hGugzyEYA5cwNskT2BqeyErpcZYExCA7nz/Soj/5VCqbrPwYHyRGJySACdIAxkZoontjIwL5LELCn4ahL0rCOKVME+kLkqErkqErkKEjl6ITHsi4KDHjYkSMjROhEx6IboAUXZGU8cGBjIsVMy5OjM5xMTonRZoh7ckCdFP9+FLlwXy1PRurDmBau18DfNUH2FJjwdbafZjU7Meo2oJt9XvZ37gdYddKQnsMCO0xQNm9GOmF5bi0bsSrYx1eHevw71yL6MIaxN1rCOw2JKB7FQHdq5H3rCPq0pYR8Mu5sY30a6upvO353ihU/+AARuUS5qldh9I6bUcB34piJ+bmOzNZ5TkyqmFKhrcmpXM4AqjyxKTMipCepYT1GBLXu57o3iWcuLSBzBtiQi4cQdi2C2Wb4jXok9eW41GmJiQv+43pfIODg/Q+ukjuzWzOXD3FmaunyL+Vx+XHlz44wtZ2p4+A+hJsyzKJaq0hpq12xMqmcjZmJ2CccwqLojT2FqViUZyGS2UOyuZymm/feOv7PnjwgJ6eHqqqqkYNhy8tLaW9vZ3bt28zMPD2sRI/dXl5OSUlJR8duD4FFxUVUVFR8UFrzc3N+cMf/sBf//rXj32L1kqr35200KeVVp+o/vrXv37wQ/3fm/73W/vevXvk5eWhUqnIzs7+JOr33uT6+nry8/P/rvf4/vvvR1qQl5eXv3W4vKq8A+fQTORnSt4IfcITaryjc6lovvSr7Kvv+gOigvLxtkvEelcMh7ZFYb0rBm/7JGKUam71vQ6mbzo3F8sYjBb4YGUqZZ1lKHP3K5h3QMGc/TJm75Qw30zjudtlzNgtY56ZlC1r5RzYHY2zQyJHD8VjtE6BqaGEo8t82fnFMdb/1z62TjiC9TI/ljqH8pWrkiUe4SxxD2eerZKlHhGYhJ5ha3gia+XxGIijCVFX8vy5pkV/ekweu5Z5MUEs4rOIQMYHBfBZRCCfDUHfnyICR2r6PguTohMkY+yQxwfI0BPIGC/WpHtO8JEy1VrKeJEEHZkGCHVFMsYFytCRyRgbG4BOkgCdZI3HJQsYl+LPuBR/9NJ8WV12GNNaC7bUWLKzYTf7Gnewv+lHWzRtZ1/jdnw61qDsWUxwjwFhF/UJv6hPUPcSxF0rEV1YRUD3KgK7VyHrNkTabYisZxWy7pUEdhsi61lLwhUTMq9v4ezVleT17eHa47IPemgOu5CDQaE7CwqcWFZkx/Jih5GavsWFTsxTO2NY7IR+rv3ImAbN+AZPpqo82VRiTdCFlYT2LCfyoiHK7jW4tG3Gttkc9zZbZJ0uSDu34dtkQ2B1IdFNtUQ11SCqKsaxKIeY5joySopfS20cGByg+HYhEZdC8e30wbbVjqMtx7BpccCjw4+0ayr6PwCqMi62Y1+ehbShdBTwDdu3poBDxekI6gqJaa8hrqMO9ZUL3Hj8YOQ9Hg88oeZOK6rrJahulNJwr4Onr8zeGxgYoK+vj9bWVoqKikYAMCcnh9raWnp7e3n8+PE791laWkpZ2eu/s8HBQR73P33nXMJ/NqvVaqqrqz9o7YYNG/jjH/+ohT6ttPoF0kKfVlp9ovo50PdrRqh+Tb98+ZLe3l4yMzNRq9XU1taSlZX10ff1Njc2NpKbm/uLjx8cHKSiogKVSkVzc/M7h8t3XbmN9FQxjsEqYs5XjwK+yHOV2MjTCU0p59b9JzQ0NJCXlzfq+BfffUfJpcucaWrlfEcXd589e+/+Hj/qp6Koi9jgAgI9z6HwV6FWNfHk0fvTbL///nuam5s5ZCZjy0Jf9m6VMveYkkmeCib6ypngJ2eir5zJrnJmWEiZt03GrF0y5u2Ss3ptINuNQnC0PYOLYxKWe2PZtzOa45GFpIbmcXC1H3uX+iFzTWGTVwzfuAWzwDWU+fZK9J1DWSM6ztbwRLaGJ7I0IJaV0uOcqWoaeRCM9kxh+yxPFu0WoqcI1KR1RgXypyiJ5vPoIeiLkvBZkBQdxSvQJx6CPoEMHYXm64luMsaLNJCnIx8CvkAZY0MkI9G9ccn+jEv213w9BH3jUvyZdM4Lk5p97GnYiUXTdg40b8OiaTsWTduxat7GgSG7tq1HfmEZ8u5lyLuXENqjT+TFRSi7DRBfWIW4exWK7uUE9axA0bMSac9K5D2rUHQbEtBtiLLHkIxrRuT37afnYcYHP2D3PbnL5nJPFhQ4MlftxMICBxYVODC/wIm5ameWFTmR0H2EqusL8W/cxrJ8TwwLbdhabolnyy6CLmwgpHs5oT1LcWw1YXvdPsxq92NaY8nW2gNsq7NiX70lojY7BFU5OBfn4lKSh7i6hOPN9bTdvkllZSWFhYWj9lV/r47QXiVO7Y4ca3bmYJML+xrs2ddgjUXjIaybXYi6mMqzgXcP8E680MSRkvOEt1S9EfrkjWXYl2eRfanzjcc33etC2pWAa2sIx5okHGuS4N4WSlD3aboeXHrjMY8ePaK3t5eampqR9HWVSkVRURGtra309fW9FgUsLi4eFd268/QhyZdrsG9IxLImjoO18YR2qWm/f+2jQ9lv7by8POrq6j5o7bJly9DT0+Nvf/vbx75Fa6XV705a6NNKq09UPwf6/l5Y+S387bff0tDQgEqlorKyksHBQdrb21GpVJ9spK+5uZns7Ox3rnn58iXfff/9a+fw8OFD1Go1mZmZXL58+f3X57vvSCtswTs6F3tlBgEJhQQllSI8ocZGno44vpC86i5++OEHmpqayMnJGTk2o6OL1bEnmR4UzjR5GF8rwpgXEo2Pupj+d4y9ePHiO4pzWgkWZOJrl4S3TSIBbmdJja/k9s1Hbz3u+XNNDZJKpULsepJdhoEss5Qw0U+BrlCBrlCOnkCOrlCOrkDOBF85Xx+SMXu3nHm75KzZKMN0vQLrg/G4OCZhb3MaEyMljoGpRNXXslsWxR6HUFz2xbLVIpSZDkFMc1Kg7xLKKr9oTMM0Ub7NwaeY7RuOcehprt69P/IgGOZ8BvPp7myZ74/+PiGfSwMZGyn5EfQiAvksTMJnSokG9hQyxiqljFVI0RNI0RMMgZ1CE/mb6C1Hz/uV6N4QJOqe/hHwxr/iV6FvfIofa0oPs79pO5ZN29nbuIN9jTvZ37iDA03bONC0DavmbTi2bdZA34VlKLqXEtqjT1TvAoJ7FiO6sIrAbkMUPYYoelYR1LMcec9KZD1rCblogrRnHcEXjai+E8KD/ssMDj7lcf8FHvV38GzgHveeNXHrSRF3n9aOjFMYdtXdcoK7vTCrsGRJkS0LCxxZWOCIfqEDhiXHCO7YzsW7u+m4PY+K69sRNqUj6dhFSPdKlBfWorywibCLS3FsNcK8dv9Qw5r9mNdaYFZriUnNAUxrLLFstCbnUjMZ3R2oujupvn6Fu0800a+fNu7oH+zn9NWTuLa7YNvshkWDA4ebXLFv8cKh1ZsjTU7saziETbMPudfr3wkFZ3tasS3PRN5Y9kboE9UV41qVi/pK92vHdjy4iH9HDJYN/hxtCsStLRTX1hCONIqxahAg7oyj99H1d/78gYEBbt++TXt7OyUlJSMAmJWVRVVVFT09PTx48IDCwkKqqqp4/vw51x7fxakxGePyUJYVBrKsMIAlhWLWlwSxv/o4+TdaPzqY/ZbOzs6msbHxg9bOnTuXadOmaaFPK61+gbTQp5VWn6j+9re/fTCstLS0fFIRtKdPn1JcXDwyNH444jU8hP3bb99fO/Yx3NbWhkqleuNrj58NUtzSS0RmFfK0UkIzKslv6ObeY03Dh6ysLPLy8rh3794H/7yn/c9JL2lFmVSKZ2QOLmFZeEfnEppSTl51Fy++1dQ9vgqjqa3tzFRG8HmgkkmSYL6UhTJFGsLEgCCmycOwTMvgxRvqJb/99juS48rxOHoayy2hHN0ehc3uWCy3hGK7O5YgPxV91x+8dtyTJ08oLCxEpVLR29tLS90l9u8JZZKnDF2hAj0/BRN85Ez0kTPBR46enwb+JvjImbFPzvxdcjZskGOyTs4RyzicHRI5YB/PNG85k5RBTI0K4YswBZNDg5gfFo5dQCLrPKKZ4xHKLO9QVknjWKeIZ1lgLLN9w1iniCe8cHQq2GmJiv0LfTCZ58fmOb5sXSVijkMAukGaEQ16wgB0/SToKKQa2FNKGRskZVyglAn+UnQFGrDTkcvQ85Ex0VXO525yJrjJ0PWXMU4iY1KMpnbvNehLfR3+FuXbc6B5G/sad7C3cacG+pp2YNm0HcvmbRxsMce21ZjArhUoupcS1L2U8IvD0KeJ9ElGoE8Dfoqe5ch7DAnv3U3Qxa1EX9pL38N4bj5w5f9n7z2DokzX/H+rtn5vt/bt/nf3jAoYMGcdnTE7JsyKCTAjIhIlCIJk6NxEETBhji1JcoZuMjQ5NTmYwXh295z9/F80MDo6MzrHOWpVf6u+hcDj00+j1n1/vK77+qq7tlLWuRZl+2IyW+eQ0baArLafyGk3QtW5n5aH1xkY6KfnaTdnG8PxqnImvnkLV2sX41W6FddiUyQVxtxtXESKZgmlHT9Q02VE56Momh52c7sxjjN1pkTUGRFRvwJZ7TJMlPvYmn+IXQX7MVEewER5CBPlIXYOVv12K49yo+XDsQxZWVmkpaXx/PlzHvf3ou4rIKRegH3ZcQ4XOWFVcoLjZaeG7VDqgWXJMfYX2hGovkzfs19vnSzsaMFXmVPx8eEAACAASURBVMrx7DgifnGm73RZPtYZCkRFGdT2vpsBODAwQET9LY4U+eFcJieg6uw7diiVYFUcSEzTpw2gefz4MY2NjahUquEzzUNTQZOSkmhpacG95Cbr0iWsTRezLy8Si4JzHMqPZltWMMtTAjmQF0V136+fN/yWPTAwgEKhoLS09KOunTx5MvPnz//Sy7NOOn2T0kGfTjp9pfoU6PuaKmgdHR3Ex8cTFxdHW1vbO9+rqalBoVDw/PnzL/6cH3JlZSUKheK9tsyOvscE383heEQs+4TX2Cu4yh7BVezD7+EWcYuoSzf+8DTSN2/e0NzRR3pRPffzq8kuaaCz9/E715SVlXHv3j0eDQzwY2gk4wJlTBOHMFd+etizpFoQnCEJ5XaF+r3XKciqxd36EoeNQ/FzuY741B3Ep+4gdL+Nw4FojplEcDY45Z2/Q11dXcTHxxMfH09nZ+fw85oGRjPOS8wYb21Vb4yneBj8xp4SY+AjwcBbzCRbEUtMJGz8ScCODVJsLM9h5XiBiQES9KQi9ILETAyXMz5EgkGwmDEhUmZHhnEpr5D90ksscgthjoucOa5yFnmFs1l+kZDkXJ7+olWuOFONm7GULTNOsn6eJ0YLfViz1J8ZRwIZ4ylAL0CgjWaQ/gx9o8RC9HyF6Plr2z1HSUToBYoY5yxinKuYca5ixrqKGXNSzFhvIbNvn/gw9L0FfkPfW5Boz6Hi3b84y2eiBb6SnRwt3Y512TZ8q1Yir11MUO1iQup+5HT9AoJqFuFQuokjxTuwKdmGb9WaQfDTVvtC6nYiql3LhYa11HbMoLR9HKo2A3Jbx5GqMSRZM55kzXhSNRNI10wlTTOdnPY11PWFoerJQ14XiLTWn2vN/qS3riS/dQYFbVPJbZ1LdusscjSGKNvm09zrwLP+juGfceeTajI6hZxv3MzJik2DLZ0H2T0IfLuVh9it1H6+s+AgxvkWOJX5fXDznpmZyf3s66i6z5LYdoKbLUcJrduOl3o7x4otcHgL+IZsVWLH4WJ7XEojKO6p+1UwePTsKefVhRzPjuN4dhziokxCS3MRFmZgl3kP19xErteU0v+LwTCNj1o5VXka80Jv/NXR70GfvzqagyovfCoj6Xra+7uA8mvQ0t3djVqtHo6ECFdcYX1cIIsSfDBLC+Vgjhb6hrw1M5gNGTIiatK+OKD9GX727BkKhYLy8vKP+vnp6+uzYsWKL70866TTNykd9Omk01eqT4G+r6GC9ubNm+HnSElJ4fHjx+9dU19fj0Kh+OqiGn7r5/jy1SvCY/OwlN/iWMgdAq6mIb2VRcCVVPb6nWOzazguYTd48Pj3z9T9UQ9VIC8XlzFNEsIEgfwd4BvydEkohgI5e67eeu/PJlKahMX2MLyPXx0GviGLPG5z2DgUH8drNDd0D5/F/LU/y13nLjHOT8JkHynjPCXD4DfWU8w4LwljvLUtnxOcxKxaL2TTTwL27gjFyeEyS91D0JOI0JOJmB4ezJyoMKaFyZkWLmfS6SDGhEhYIJLjZizGbK03a7b5sMbEn90HJUhOXqKrtef9jePTZ5z3u83+n/xZ/qM3i5f4ssDIj/lGfsza5c8Eh0AMfIToBWirdqMFIkYHChktEKIXqG3j1AsQMc5FxHgnLeyNddMC35hTYiaG+jAv1olxN0/9CvR5oTcIhHrXvFmecoyDRbvZozIbrPSZcLh4J8dKjbEv24xlqTFWpcZ4qVcjrl6KtGYJYXU/4FK2ng3Zh1mecYyl6dYsS7dmZaYVe5RmBFavQFLzE5LaNYTWrSSp5XtK28eiatOnpNWAdM24QdgbT6pmLGmasWS2jie3dTJpmonktv9EWsdZAmu8CK6TcK7xDNea/UnWbCWzdQk5rfPJbp1PfPM8UjR7eNr/4cpSUnsQTmX72FFwmJ0FQ6Cn9VC1z0RpzrZ8Cw4XnaD/AwNJEnNjuFR2hBst+7jctJ1LTbsIr1uNtGYF/ur1eFRYfbDSZ1nsjHPJGfK7qn4TDlof9nFeXYiPMgXbrHscTb+DfVYsAao0rtaU0Pvk/aiFst4aTpQFY10ifA/4/NRRHC+VsivflQMqT642J9L37OEfBp3upw8Rxl9EmnkD5/xLrEwMYHW8P1tjhWyNFWIcL8YkJZh9mac5kBfJkmR/bAsvfXFA+zP8+PFjFAoFarX6o6Dv3//939m4ceOXXp510umblA76dNLpK9bHQkFdXR0KhYL+/v4vAkvPn2vDhhUKBUql8lfhs6mpCYVC8UEg/Br8oUpkeWMH7ucTOSK/heRmJtJbWQReScFOchErwVkOCi7hFBlHTmXTn/ZcQxVIr+R0JgqD3qvyDXmOLJwxAVJ+DI185/c/fTJAgOtNzLeGIPK4PQx7/m43cbCJwfroeQ6YnsbuYDT5GdWUlJQMn8V8+2cxDH3nLzM+QMr8oAjmScKZ6CdnnJeEsZ6D9pJg4Cthqr2I1Uv8MVohYLdxCMbbgxgXKGKUXMTkYDlzosKZcTqYqaEypocHMetMKHpyEWMFAnZt8sJrtxzBodN47ZJzbJEHDit9ifK4xrOn7w/zqK7SYGIawmxzAePdBIzx1Hqcm4AJ9kKmHhYx+YiIyYdFTLISYegsYryLiAkOIgwdRIx1E2HoKGa88yDweYgx8NS2qk4568m8eEem3HH9xfm9t4FPC30G173Ymb+XQ8W72asyxbxoF3ZlW3As34xzxUZcKjfgVLEJ+7LNuJWvJrBqGcE1P+JUuoGVGVYsTrNlSboNS9OtWZJmw6I0W5alW2Ocd4CA6pWE1K3kZuMyyttnUdg2hrL2iRS0TiRVM44UzVjSNWNJHwS/dM148lonkd1qSGbrZOKbTHEsOYFD0Qlcik/iUeaOrFrEtWY/7rQ4cb3JAWG1DTc1V351453ddYmTFUfYWWDBzgILzFQWmCoPY6o6jJnqCGaqI5gUHGZb/mEOFtqQ0RlD46Oy4ciFJ/0PuFxqxdmqzdzWWHC/zY37be5EN+xHVL0Gac1yhNWbcS53HoY+61JHrErtsCjywLP8ChW9Tb8LCI+ePaWwo4WbtWVcri7mbl0F5V1tPPmVQTDVDxo5WR6KZZH/O8B3ojyYXfmubMk9jlG2NRty7NinOoVDqYSMzsJPApynA/1E16VjkhvGsnhvlt/3ZUmKL3MTPViZJuBgTiR70sPYlSRjW5yIrbFCtsQKWBDvxd60MLq6uj5bOPzX4gcPHqBQKKipef+M5Yeg71//9V8xMTH50kuzTjp9k9JBn046fcX6WChobGxEoVDw5MmTfzooPXz4kOTkZBQKBbW1tb/ZYtrS0oJCoeDhw18fGvIl/SF4VuRVcjT4Nu7n7yO9lYXPhQSOCc9hLTqP78VEfC+lYC65QUxK0Wd5hjdv3lDX3E1KbjXJ2dWo6zqoqNBCn39qBpOEQUz9FeibPQh9S8OjPwh9hwahT+RxGyvLc2zdFcK6bXLWbpWxaqOEdZul2Due5datO5SWlv7q9FHXu7FMHmwlXRwWxaLQKOZKwpniJ2eSt4xxPhIm+EjZ5Hway32RWB6KxsriHAftzjJeJsUgWMKcqHCmnw4aBr45UWFMDwvGQCLCQCRgv3MwoiMRiI5E4Hs0As+jpzmy0B2vXXLKct6v9Jy9ksVcryAMBRIMJCL0hSL0BNrWTT2hiDGnREw/oPXUg2KmmouZcljMtINipliKGX9Ce45vrKuYMae01Ut9HzH6fmKmRHsyL96JOXFOjH2r2qf1uy2fs2OdMM4/wIFiE46VGuNYsQmXyg24VG4chr4TlRtwrVxPYPUKwut+IKhmIWsyLVmcZstPGVasybRkdaYlKzKOsTDFju+Tj7MgxYE9+XtJbFpEX/cmytsno2obQ0XHFHJaJ5CiGUfaO9A3jlTNODI0k8nWTCJVY0hCw48cKzyMbdlObMt2Yle2C/syE9wqrIhslCOp9UNWF0Bed9avbrzrH6qIbHBmt1ILdmZKS/aojg57t/IgxgWHMC44xLGSvUhrdxNaf5CbGj/6nnVQ/zCDCxVmnFNvJ6ndfdh3NMeR1WxHVL0SUfVKPCr3YVvqglWJHUdLrLEpceOQUkRoTdzvTvD8I37a/xRpTQwHVV6cqjhNQNVZTpaHsiPfhfU5tlpn22Cc54RpgRvGeU5YFQeS3/VxQ1YGBgaQVSWwMUPCD0le/Bh/ihVJvvyY7M2MBDdmJ7qzLl083NZ5OP8s+7Mi2JosZXG8Dwdj5SgUChISElAqlTQ0NPxuLMS34J6enuHzwr937bNnz/iXf/kXLCwsvvTSrJNO36R00KeTTl+x/vu///ujQOFLwVRLSwuxsbEkJCTQ1dX1u9e3tbWhUCjo7e394oD3ITc0NKBQKHj6VvzBzaxyjshv4X0pGfczd7ASnMVeGoPgaqq26nctnf3i65y7r/rk13v9+g0ltW2E3srB6+x93M8kcCzgJlae1znoHMMB5xisPa9zIuA6Z85dJ7GqhhnSUMYHypgjC38P+qaKQ5goDMLh3rvxDm/evCFKlsSR7WF4OVzliMVZNmwPYsVGMas3S1m3Tc5yIyFL1wnYbCJDIFfw6pUW+Np7HpFZ2sDtzHJuZ5aTVdrA7Wwls0RBGApkzAs6PQx+C0MimS0JY3yAjHmScLJVNQwMPKe5qZuKshbyKhqYGRmGQYiEqWEypobKmHE6mDnR4cyNDmeKXIaeWMhYsQhz51COOYSxwlvGVKGEKUIx031FrLLwIzpI8c4I/IGBATYGRjM2UMxYqYTp4iAm+UoY661t6RwlFqEnEDHBUcSsvSJm7Bcx7YCIqeYippqLmXFAjKGzmDHugy2dg+2q+oMTSQ3lfsyNdeb7pOPMjHNi/C0PbYXvLdgzuOHJzDhnjLKPsDH3MHtUpjhWbOJE5QacKzbiVLEJp4pNOFds5ETlBk6q1+FVtYaQ2oVYFxqzPN2apenWWuDLsGRJqg1zkxyZk+Q07O+THNmQcYz0JjPK2idTOAh9ua2GpGjGDVb3xpI2CHypmnGktkwkpXky91sMEVatxqF8F/blxtiXb8e+fAd25cbYl+/AscIUzypHLjSdoedp969vvAeekNwRjm2pJTsKDmOcf5jdyiOYKi3YWXAI44KDbM03Z5fyEAHV+5DXmSGo2YK0bjdXW05R0B3NWfU2LlUeeAf6ktrdudZsg7h6M9Ka5Zyq3MyRYhuOljhypPgEB5WB+FVep6Cr+k8DkLQOJW7loRxUeeFSFsRBlRcbc+zYkGPLhhw7tuU5YV7og12JmEMqH3bku+BVeeaDLay/dGlPE1uz5PyQ5MXWLBlGcX5sThGzIzuY+fdPMT3BlXn3T7EnN2IY/A7lR7MyVcjO7DAUDSrq6urIy8sjLi5ueCBMWloa5eXltLe3f1I4/Nfirq4uFAoFTU2/X7198OABI0aMwMHB4UsvzTrp9E1KB3066fQV62Ohr729HYVC8UmTI/8Rv379mrKyMhQKxScNMOns7EShUHwUIH4Jf6j9NKW4DrswBQcCLmAlOItTyDXENzKQ3spCeisLt7OJWAXf4XZOxW/CXWlLO1fzy7iaX4aqoZVnAy+QXstkr+8V1jqeYb5NMNOspEy1kjDdUoqR/RkOOsewwyqKzYfD2WsXTkVNK+uiY5ggkDNRGMTsQfCbIwtnmjiEsYFSZsnCKGhpfe8ZVDl1eNhcZu+WINZskbJ4nZCl60UsWy9i2Tohy9YKWLdNzEaTEI46XaZc3UqBuoWo2Hz8LqTgHBaLc1gsfhdSkMTcZ09wJN8HnWaCUD7ccjpRGMREYRALgs9wTlXMq1ev3vHLly/ZdC0G/WAxE0IkzDwTwtxB4JsbHc4kmYRRMiETRGK2e4QwRSRhrFSMvkyEgVSEvlTE2EABC6XBlLdqSG+s4Vy5kqiSfKaL5ehJREwVyJjkI8bQU4SBjxB9/8HgdYkIA18Rs/aJmGcmZpapkGmHBUz0DGCSjz/jBAGM8RYy5tTPg2kMvMQYeIvRDxAy884J5iUdZ97948yOd2J2ghPT45yZFufCzHhnfki1Z1XWUTbkWrA+x4I9KjMcByHPsWITLoOw5642wrtqDV7qNXiq1yKrWcpRlQlL021YnnGM1ZlHWZpm/R7wDXl+siOr0xyIb1iIqs2AsvZJKFsNSdWMHW7vTB0EwFTNeNJbJpPcPJGougW4Vm7CvnwHDuWm2Jfv5nj5dhwrtuJQvhWHcmO8qqyoffj7UNX3rIO4thCOlRxjl/Iw2/PN2ZZvztZ8LfTtVh7Ep+owEQ2WRDRYcrreAmHNNoLr93Kv1Zuz6q1cqjz4HvQltbtzs9mO0Nq1BFTt4WiRL0eLRJwoOYe46g7ZnZV/antj/0A/t1pS8agI50iRH+tzbFmTfYyNOfYY5zmxX+WJXYkIuxIxtsUiduS7YFnkT2Xf71ep5FWJ/JQWwNp0ITuzQzCK82NLiphdOaEYpYuYk+jOjAQ3Fib7YpwVwqZMOctSAtiSGYRn2R0e/SIcvr29nfLy8uEpyQqFgri4OPLy8qirq+PBgwdfHOg+xkNrl0bz21EYz58/R6PRMGLECDw8PL700qyTTt+kdNCnk05fsT4W+ob+t3RowuKf6f7+frKysoYDyF99IB7g19zd3Y1CoaCjo+OLA96H/KGKaUNrJ1aiC2xwCcMp7BbSW5nDwCe4ls4B8XW8Y5Kpbf0wcNd29HDswj3Wis6x1PcMS3zPsFZ4jjX+Z1l/MprFtqHMdghiqq2USTYSJtpImGQtYaqNlBXOERwPuIWJbRTr9suRRqVQ3t7JkvBoJou0MQ3jA2WMDZBiKJAzSxZGaG7BB5/j1cvXXInKYv1WOQvXCvhxreCdj4uNBGzdE84h2wvsNo8kMPQ+p+/m4RIeh/x6FhcSCzmfoEJ2PRNr8XXsA88iiE9ly/nLzA+OYK48nPnBEWy/eBVFRdV7wPfq1Sva29s5eeUSE0Ok6AeLmRahHeQyNzqcGZGh6AeJMRAL+eGUmKkiCfoyERPFYqYJxUwXSpgUIMJAJGRsiJiJ52VMjpFheEHCuPNivosMZGSoAENvIeNPCRl3SpvBp+cvQt9PyCiRdoDLBDcR412EjJX5M+acN2NivBlzyQuDGG8MLnpjEOGHgbdIe57PS6wFxuBADK97MPe+I/NTHIb9Q6o9P6TZ80OqPYvTbFifa8HG3MOsyzmCedGuwbN7W3CrXIeXeg3eVavxVK/FU70Wb/VqPNRGiGqWY1O0jWXpNqxIP8aajCN8n3x8EPIcmZvkyNy3Kn0LUxz4IdkRB9VBStoNKWwbQ2mrIRmasSQPnutLGa70jSe1ZTL3mw3xqVqDY8UWbErMOFG+D4/KrXiqN+CpXsepinU4VmzBQ72dtPZ71D1s/t3q1bOBJ1T1ZRPTsA+3sh2YF5qyT2WGTakxwmojQuvWcbph3zD4hdQdQFi7jXNNNpwr380F9e4PQt9dzVFutOwnsS2M+FYV9zQFZHVW0Pv0jw9O+RQPDAxQ2VdHWO11jPOc2JBjxx6lB5ZF/sPAN+Q9SncOFXqT01Xyu/d1Lr7KomQftmXJf4a+VAm7ckLZlRPKytRAZie6szjZl02ZcrZmBXMgLwqpOpGep7/dxvno0SMaGhpQKpXvxEKkpKRQWlpKa2srz559/pbYz2GNRoNCoaC9vf13r1Wr1YwYMQKhUPill2addPompYM+nXT6ivU///M/HwUrvb29KBSK9yISPrd7enpITEzk3r17NDV9+uCSvr4+FAoFra3vV6K+Bre2tqJQKOjr0+bVDUUW+J+5gmP4HfYKr2IbpsA1OgH70/fYK7jKiah4bmSW8fr1+2cZG7sfsDPkKgs8w5nrHspS3zMs84tk9skQJjvJmOIgZbZjEFPtpEy2kTDZSsJUawmTrSVMspEw3VaGkWsU1h6XWL1Hhq3XdTQdD2jse4D7/VTmB0cwSxbGbFk4e6/e4n5N3W++v5uKItYYy4chb4mR9uPS9UKWbhCzxliO2ZFoNu8Jw9L1Cm4R8UQo8ricXDzsS0lFCC4kss8jAu+QS2RlZ3OvQElceSVFmjaev3jxQeCrq6vjzp27xCck4pKUwPQzoYwL1cKffogEgxAJE0PlfO8tZoGdH+MkYiaItbA35InegRhKhPwlKpC/RAcy6qyAsefF6J8Tab8WGcjI0EDGegq00Oc9VOkbjGuQChklFKEX6Yf+FW/0r3thcMWLMRe9tdB3zQuDy97onfVldKCQUQIRI4METLx2imkKV2YlODM3yZHvB6FvQaoW/BYm27Ii3Zr1uRZsyLVgXc4RDg1C3/GyzXiq1+BbtQrPwereqbegT1C9AoF6GSszrFiaZsOKNKthyJv7FvTNTXJiQbIjK1IdmJfkyE9pDhRpvqek3RBVmz75rXqkDoJf0uAkz2SNISktE4lvmoZH5QaOl2/DtsSEU5Wb8Favx1u9Di/1ejzV63Ct3Ihb5UYu1a1GVh3G+UYFVQ8afnMT3v0ohKbuNdR3zuRW02qENWuQ164hpG4lIbUrBsHv0GC17wiBNZs422jHxRJzztZs5F6r7TvAF9d6nMtNO4hvdaTzyZ/XxvlRMPK4A6viQIzznLAtfhf2hrw735XDhb4U9ah/935upddZnOLD5kwZO7OCMYrzY+tb0LcpU8riFF8slee40VSAoqWIpoddn/zcAwMDdHV1UVlZSWZm5jvh8Dk5OdTU1NDb2/vVDIQZ6q7o6vr991pQUMCIESMIDw//0kuzTjp9k9JBn046fcX6WOh79OgRCoWC5ubmPwWGhkb4DwUKD0HRp/rPfs5/1EOtRt3d3cNDXVJSUuh78ICU4jpENzJwiYrHLlyB05k4BNfSuZev5vnLD1c7ve+ksdD7NIu8I9gsvcgWWQxbZDEs8znDFEcpEx0lTDouZbq9jGnWUqYckzDNRso0aymTjmnBb/7xEA66X2TTwSDMT1yipFIzfP+nz1/Q1PeArie/HxfRP/ACO9drLNsoZvE6IYvXCViyTsCKTWKMdgazdkcQyzaJWb8rmE1mYRx0isEjKvFd4LtfREyiigsJSuxlN/E6fYsbd2KHN5apqamUl5fT2dnJi0H4e/78OYmxmfi6nuGk9RlkXnc4F5KM7F4au29fZ3ZUOLOjwlh75QJhynwifG8wxVfIaKmQyf4ipgWKmeIvYqJ3IJP9BIw+I+AvUYF8FxXIuPNipl8OZtqlIEZGBQ6D3yhpIPoCAfoCAXoBQkaKRYyUCxkpEzFKLED/shb49C97oX/JG4OLPow554PBeW/0r3mhf8WbUeEBjBSLGHfOm2kKV2bEnWDKHTem3D3J1HsnmB7nwpz7jsxLcmBhih0r0o69A32mqj04lG/GpWIDPlWr8a1ahc+gvatWc2qw4ierWcKNxmnsyN3HsnRrFqbaDkLfu1W+uUmOLEpx5Kc0F+YnO7Is1Z4qzUJaOidR0T6G0jYDlK36ZGnGkKYZT7pmEpmaySg1kyltmYp7xSbsyrfjWrEFL/U6vNXr8azcxKnKjbhXbsClYhNulRtQNMzjUt16TpTbI67xIb8764OA8Ky/jZaendR3Tqel25jYli2IatYirVlLaN06QupWEVK3irD67UQ0WBJWfwhBzRYuNZ/kVpaMK+rDXGnaybVmU261HOJ68x4uN+0gttWO0t7rXxxKBgYG8FdHszPfhcOFvu8B39GiALblOeJcJudx/5Pfvd/lhhzWpgtZkRrAjiHoS5MOQ9/yVH/WZYi42VTwWd/HkydPaG5uprCwkMTExOF/q0lJSRQVFdHS0sLTp08/62t+ioeiYXp63o9i+aXT0tIYMWIEMTExX3pp1kmnb1I66NNJp69YHwt9T58+RaFQ0NDQ8NlB6OXLl6hUqt8c4f+xfvLkCQqFgsbGxi8OeB/y0JnDnJwcFAoFubm577zfx88GUNVoSC+tJ7+qhb7Hv36WsefxUzZJLzLLLZhNbwHfFlkMS73PMM1RhuFxCYbHJcx0kL8LfTZSJh+TMMVGwiyHILaciGT9fjkWbpepqGn/Q+/tblwJG3eHsHS9aLitc5GRgKUbxKzYLMFoZzDLN0lYvlnCjkNnOB54G78LKcPVvbeB72KiCq/o+4Teyqalo5fe3l7UajUZGRnDm8r4+Hjy8vI4LbuK7T4ZljvkHN0eyrGdYdiaRuB7/ApXIzPo7H1I37OnvHz5klevXtHb85BZMjl6MhGTfAVM8hEw2Veghb9gKSOjh6BPwPjzEqZfDmb65WD0IoX85Yy2AvjdL31awHdybYunfrg/+le8tL7krQXAS96MOe+DQYy39uvXvNA758sosZAp192ZGefClDtuTL19kql33JgW68q0WFct+CU5MT/ZgVWZR9mUa87+Iu3UTpvSrThVbMKtcv1gpW8lflWr8FWvwku9Bne1Eb5Vq7lQP4e45olcqJ3NpuxDLE61fecM39xB4PshxZ6lqcdZkebJvCRnVqQ50da5m5d923nWa0ZHzz5ULYuo1EyiuW0abe1T6GifTlvrAorqV2BfbIpNqTGu5RvwrFw3CHyb8KjcgHvFhsH2zg2oNGMo0EwioHoXp9Q7EddYktZ5jgfP3h3u8uDJXZq6V9LYtRhNjwmF7dsJqjUisHoNIbVGBNeuJbh2GfLa1YhrTRHWGCOtMyG76xrxCfGkFF8kvSOA2FZ77mqsuNdqS0q7N9UPEhn4iMEo/wzndJUMw90BlRfWxQJsioUcUnmzLc+Jw4W+3NF8XGh6x+M+THLDWJjszarUANbE+bItTcr27GBWpQlYlOzDntzTdP+JbawDAwP09PRQXV1Ndnb2cED8vXv3yMrKQq1W093d/U8F7qGYnI85g3jv3j1GjBjBnTt3vvTSrJNO36R00KeTTl+x/vd///ejNvQDAwPDkQmfE4KePHkyPCigsrLyV0f4f6z7+/tRKBTU1f12G+KX8tD5EoVCQUVFxT/0fss0gZLUhwAAIABJREFUHawWnGWBZ/g7wLdFFsMK3yhmOMmHoW+WYxDTbWRa6LOWDgPgVBspM+3lGDlFsMpMipP/LZ71fzp0d3Q8xO3ULZZvELNksMK3eJ2QxeuFLBkc6LJis4QlG0Qs3SjGwiGG0OvZuEbEE3O/kEv3i7j4FvBdTFThGKLAT3qPCEkC4QGxnAtKIj+jigd9D2lqaiI3N5eo8CvY7pVhusYP271B+DpeQHLqBkK3m9jvOcMp6xjirivfawU1uXOD8aEyZgTJmRMUxNyQEH6MimDGuRC+i9ZW9EZGC5h4UfYz9J0RaL8X/SvgFxnI6AAh+pF+6F/9uco3BH4GF4d+7aWtAl7wQV8eyLTbbsyIO8E0hSvTY08wPe4EMxJcmB5/gmlxJ5gR78KcRCfWZBzBrnQLLhUbOFm5DvdKI9zVRrir1w3aCI/Bzz3URvhUreZ03Y/cappOfMsEklrGca1hGnaFm5iX9POZvvnJx1mYYseSVFuWptqzOPUkC5JdsVJF8nygg0ePr9LWsxVN90Kq26dRqhlPeet41K0zUDbtQFHrgbcyBtOc45iq9rJLuY/dqn3sK9Sev3Mr34BzxWZcKjcTVLOCmva/UNI6lpBaEzzVpvhV7yCiwYqUjkie9v8cat77+BKNXUtp6lqFpseElu7dXGzciKhmLQHVqxFVr0RWsxRR9Qq8qtbhXbWOwJpdVD0oJj4+HpVKRf/AM9qfVND0KI/WxyU8G/j9itk/0wMDA9zRpGFVHIiZ0p1teY5szTuOSYEblkX+RDfc+ajJnUPO6qhiV04Iy1P8mBvvzg/3vViQ5MVPaQHszgkjv7P2n/r+nj59ikajobi4eDh2R6FQkJiYiEqlorGxkceP3w+y/5xWq9XDw7N+79rLly8zYsQIUlJSvvTSrJNO36R00KeTTl+xPhb6Xr58iUKhoKqq6rMBUEdHB/Hx8cTFxX22s4IvXrxAoVBQXV39xQHvl+7p6SE+Ph6FQkFZWdk/fL+q9m7WCs8xzyP0PejbIL7A7BPBP1f6jsuZbR+khT0riRb4rKVMs5Uxy17OUstgjC2Cibmd+8nP8ebNG06Hp7Jls5QlawUsWitg2TrhYIunkEXrhCw00lb9Fq0TYrQzmDxVPfF5VZyKSkR6LWMY+GISVcTcL8Qv6j5mpsFs2y9jpZWEZZYiNu+TcvxAJEHed6lWN5KQkICPyxmsdgbhbB6Bq9VpHA8H43g4GBfLUDxso7HYKkfqeZu+nkfvQN+l8lLmRp9mQricRecjWXoxmqUXo9+BvtHRwmHgm3YpiJGDcPdB4Bv0qCAB+hGD0HfFC4O3oE8/5i3ou+aF/jlfDKQBTLvtxswEZ2bEuzAj4X3PTHBhVoIzJvlmnKjYgEv5Bo6XbcKxfCM+VavfGd4y9Lmw+iei6n7gWuNM7jRPI7FlAsmacSRrxpKmGY9z0QZ+TLFnXpIjPyTbsTjFhkUpNixIdmBekgvL0k6R3l7Oo6cptPb8RFPXBJq7ptLY9T0lrdMoa9WnRDOO9Mal+BSdxSz/JMb5FuxQHmD7oHcoD7BTuZ99Raa4VGzGr2otaS2TqW3/jpLWCYTWHsS36ghe6kME1R3kquYk1Q9zhzfgD57co6l7NY1di9D0mKDpMaG6axcRdasRVq/Ev3oVfoM+pV6Pu3ojx8sOElwn51bCTQoLPy3Y/Eu6qq+B6IY7uFeEcbI8lNDaaxT2qD8J+IZc2duCT9EtjOL82JQmYXdOKFJ1PNV9rV/8ffb19VFbW0tubi6xsT+3baenp1NRUUFnZ+dnj4UoLy9HoVB81KCZyMhIRowYgVKp/NJLs046fZPSQZ9OOn3F+ljoe/PmDQqFgvLy8n8YVt68eUNVVdXwGa234wv+Ub9+/RqFQoFarf7ikPe2GxsbuXfv3vCZl5aWln/4ni9evmLv6RvMdg/BSHjuPfBbeCqcCY4SDB0kTLaVMNshiOm22mrfZKtB20iYaSPDzOkc9qeiae/49KiL9FQ1u7bL+WmpP8vXClhiJNR6rYCl64Qs3SBi6QYRi9YJWW0sQxqewl//+lc0XQ+Ijs3HJTwWr+hEQm5kEXwzC8+oRLYclDPZQ8hoqYjRMhGj5SL0ZCIm+onYslfM8UNy7t6ORXTyOsd2hhHqf4+wgFiCfO4QeOIyHraROFmEcGirEMudYi6fu0dtbS0PHz7k5cuXPBkY4GDsHWZFhjEuVMa0MyHMjAxj/GnZ8BAXwws/t3ZOipG9D3mD5/5+We3TkwVicHlwaMslr/eh76r2TJ9emD96gUKm33VlVqIzM+KdmR6nrfRNjz8xCH3OzEp05scUO6yKtuFQthnLou0cKzHGsWwTvlWr8KteiU/VagKrlhNV9z2XG2dxvXEmNxpncrt5GreaZ5DUMoE0zRiSNeNI1xiS2jIRS+V2FqXYMT/5OPOSHJk3WPX7PtGFPXflZGamU9eylcbOCbR0/0BrjxGtPUY0dK2ioOVHSjWGqFom4lK8jx0FR9iuNMdMZcke1T52K7UVv+3KA+xS7udE+RYyWqZS0jqWuvbvyNXMRFRjhU+VBd7qw5xpdCSq8SipndHDG/D+/k5aenZT1zmdpu51NHavoK7zR7JbpnClYQ6n6xYSVLsUYbURbhWHsC6xw7zYErtSeyQpUoqKir445Hwpt7W1cVNxh/LGmneiGL4m9/f309bWRllZGampqe+0bRcUFFBfX8/Dh/94K2ppaSkKheKjWkqlUikjRoygsrLySy/NOun0TUoHfTrp9BXrb3/720dv7uPi4igpKfmHQOX58+fk5eWhUChQKpW8fPnys8LV54TTz+HXr19TUlKCQqEgOzubnp6e4aDgz3H/y3mlrAo8y5yTIawWnGWz9CKbpRdZIzjLHPcQ5p4MZYajnCm2UibbSphqK2W6rYyptlKm2kmZ4xCMqd9l7t5Xcfv2Xbq7uz/p9dtae7C3icRoZQBGqwWYmoazarOE+TtFzDwgYpq5mOnmYubuEbNkmxhzmwu0dz7kzZs3vHz5kprmTmISVciuZeB99j7e5+7jILrBOIGIUTIRI+Va4BstEzFKrrWeSIjxfhGpsUXIPO9ga3KasIDY9xzidw+Xw1HY7w0lMvTa8KYyOTmZ0tJSapqbOZGaxOILUcyOCmdWZBhzo8IZHyVhVJSA0VECxkaKmHROqo1seA/6An72W18fLRCgf95HC3fX3hrmcsFr+Dyffow3egIhegIBUwYrfTMTnJke56Jt74x3YeYg8M1KdMYo8wgnKjZwtMgYy6IdWBbt4HjpVnyr1uJXtRov9Rp8qlYjr1lMTMNsLjfO4nLDbK40ziKm4QfSWyZT0KpHqmY8KYNOah5PWNUPmBfsZGOmOZuzDnEw7xDrFHIO3I3hSpqYyvrZ1LSMoazuR6qbl9LYvhJN91o03Wup7lhKRetYLIvM2Kk050CRLUdKHLEoPox5kRkHi8zYp9rDTuV+jhbvQqUZR137d5S3jeN6w3pENda4Vx4goPooV1p8ON1wkLh22Tub8J5HUdR3zaOmYxQ1HXqo20dR1vZflLX9F6VtI0lqmodHhT3Hik5wWOXEPqUNB4sOcjTLkYI/UOl71N9NeV886Z3BpHbIUPZcpuPJP7cl8nN4qI28ra3tiz/Lx/rhw4fU19dTUFAw3BEx9B+DZWVltLW1/aEqYGFhIXFxcR91rY+PDyNGjECj0XzppVknnb5J6aBPJ52+Yn0K9A2dw/ijgPLw4cPhcx21tbW8efN+BMHn8OeA08/hgYGB4bzB0tJSXr9+/dkH4rx49Qrfu+msFpzl+1NhzHILZtbJYOZ5hLIq8Cxu15NIK61jo995FpwIY45TMN+7hLLM8wybBBeRxebw4uXLPxRq3/vgARaSaKZ5SjAIFDMmQMxMdxmz7aVMOyph8jEJk6zFTDomZoqVhFnHZAgvpvD69WtevnzJ8+fPefHiBU+fDVDZ0E5mST2ZJfUYySIZJdNCn75MhIFMjIFMjJ5U+7VRchFTvMWcD07mjCgB653hyDzvfBD8HPaeIdDlOrWVrTx48IDq6mqysrKGB0zExsYSm5lBeGY64uR0jktvcNTpPBPlIkZFaCt330V+oKIX9Tb0/aLFUyhktEigPbN3dTC24bqXtvJ3RVvtGxUayCihCP3gACZcd2d63M9tnDPjXbSwd18LfDMSXNiv3I1rxXosi3ZgU7Kb46WmuJbvJrB6PQHVq/BWr8Gnai3+VesRVq1BUr0ccdVSQmoXIapaR3LTEmraR5PfakCaxpDklvEktYwnWTOetMGWz7imOUSqj2GXcY+dCVc4X+ZPRetMipsnkVHzPRnVc8mr/p6S2gVUNS6mvnUFac3zOFC4D1OVBUdKHLUutsKiyIzDRbs5XLQbE+U+DhSakt40gbK2MSQ3L0RYcxRP9SE81YcIqnPgTmsAZxoPc78j7J1NeOfD09R2fk91x2hqOkajbv+Oirb/oqLtPylpG8Xthh+wUNmzN98BkzxbTPJs2avax+4sKwJTFPQ++fjzYo2PVNzWOBPTfIjoxp1ENW7nfNNermtsUPZcfm/4y6NnT8jvquZKYyYXGtK53ZxHRW8Tz/q/fF7dUB5oR0fHF3+WP+L+/n46OzupqKh4Z3hTbGwsubm51NbW0tfX91H3UiqVJCYmftS1Li4ujBgxgocPH37ppVknnb5J6aBPJ52+Yn0K9KWkpJCfn/+H4KSlpYXY2FgSEhI+CSz+iBMSEigqKvqiwPfgwQPu37//Xt7gnzFo5tXr1ySU1mBzMZZN0otslFzk6HkFiqIqXgxGPbx89Zrcmmbk8TkI7mZyNq2Q5u4Hw/cYCrXv7Oz8qNdsam3FKOI0+mIxo8ViRr1tkZixHmKmW4mZYSlhmoWYqVYSptvL2BR4gfKmtmHg++WAlb5nTxkXJGXkYDvnEPDpS0XoDXqkXMRoiZC9FmHIvO/idDAaxwORhPrdewf4fB2ucHR7KLJTd2ht6Rme3vnq1Sv6+/tpaWmhsLCQhIQEbty4jaNNOPt2yLAxj8Dd+yqbQ6MwDBcxOiyQkaEB77d1/kp753dSbXTDSLmQ0RH+6J/XxjWMjfZlTJA/emIBo8QiRkpF6IX7Y3jDgwm3TjL1rnagy8w4bZVvZqK23XPKPVf2F5jgWrEeh9LNuFVuxb1yE+6Vm/CpWodf9Sp8q9fgV70OcfU2gmo2ElSziuCaJciql+JTeZDK3ljquxZS265HRdtIcjUGZGvGkK0ZQ65mPKnN07hYsw1JcQieecmsuB2FfboTeU3TKGw2JK1uPim135NWN5/sugWU1P1Aee0C4utmsU+1FxOlBYcL7TlSfBTL4n1YFplhUWSCRdFuTFV7OVBoSnbzJFrbx3C/cQWS6p14qw8jrbXlpiaAmGYnYpqdKO5NGN6AP37WQEPXbqo75lDftZH6rmWUtM0gu2U8yc2TyG4xJKFxOu4lO9hX4MAhlSPmKgf2Fx5ge8YxzGNjuFFT9lGb/Y4ntdzSHCeywZjzjWZca7bieos1MU0HOdOwlastRyntVfwMiA87CKqOxbU0BnNlEGYFPpgWuHFQ5YFjqZi4tjQ6nnx6Bt7ncmNj40dn030Lfvz4MY2NjahUqndiIZKTkykuLkaj0fxqLEReXh5JSUkf9TrHjh1jxIgRvH79+ksvzTrp9E1KB3066fQV6+9///tHw0V6ejo5OTmfBCSvX7+mrKwMhUJBRkYGz579egTB53JSUhJKpfKLAd8Q4CYmJtLb2/vO954/f45CoaCmpuZPee1nz1/w7PmLT66iDrWdtrf/dlzDmzdvqKurwywqCgOphNESMXoiMfpi7cdRop/Bb7KThJlHJEw/LGaetZxFbuEs9jiN4E76OwD2tks62jEIkjBSJkJfKkL/LeDTl4rQk4i0AehSIcv3CLDbH4X5tmAObQ7Cenc4p6xj8La7zNHtoexcFojZShG2phF42lwiUpKIKqeWFk0Pbe19PH+uhc6XL1+SmlTM8aPRmJsGcfxYGMePheFofZrdm0WsXueH0bpAJgsEv3umb2SQgFESLdCNlIoYJRIx2l/EWFcx49wkTHCWYOgmxsBPjIFIjJ48EMNrp5h45ySG1z0wvOnOxNsnmXTXjUkKNyYr3JgS58rGLHNcKjbgqV6jzd+r0tqrai0+VWvwqV5NYPVqTtcuIar+R6LrFxBdv4CI2oUEVe1F3afmwdNcqrqMKG8zpLRVj+JWfQo0E0hsmsvFmq2ElbvhlZ+ES3Yis6+Esvh6IGl181G36VHSMoPK1imUtUxC1TSVwuYfaez8AWXLdA6o9rOz4BD78o5gUbiXI0WmHCnai2XRfo4UmrFLuR+LIlN628fz1x59HnZORNMxh/vNe7iu8SWm2YnIRksUbSI6njaT051CaL0vHur9uFduJaR2E5mtZjR276W03RhF4/fcbpxJfONMMprHE129DHOVE+YqR8wLj7JHacGOpBOYKS4gLcqi6cHv57PldEVxrsmMi00HuK1xfMfXW6w507CVO60uPOl/SM/Th8ir72GhCsdcKeOg6hR7lC7sLLBjW741OwvssCw6RUjdOeofNn0RSGpoaPjobLpvzQMDA3R3d6NWq9+p2t+7d4/s7Gyqq6vp6ekZPsOXnZ1NamrqR917//79/L//9//429/+9qWXZp10+ialgz6ddPqK9SnQl5WVRWZm5kdf39/fP9zeWFJSwqtXHw4Y/9xOTU0lLy/vnw57r1+/Hp4Ul5GRQX9//3vX/BlTUD+He3t7h88A/fJ7r16/pqPrES2tveTlq7h8+zaTguSMlogZK5ViIJJgIJKgL5ZooW8Q/Az8xMw4Ima2pZRlJ06zWXCB2c7B7JBc4sWLD0NfVXcXY0MGK30S4XB1bwj4RouFjJRpoc/EKYKT1jEc2haM+bYQnA5F43HsItY7w9i9XIDxQj9MVwo5ahzK3rVidv0kYM8GKY52lxDKEjl7MYsCVQMvXrzk5uU87CzOEeh5B1lgLP6nrmNvEcHWFX6sX+jN1hV+rF7vh37Yz5ENv5ziOSpcwCixED2BCAN/rUcLRIwSixgdKGKMu5hJzlImnpQy3kPCWA8xhn4Sxl3xZMKdkxjeOYnhrZNMuOPOhLsnmXDXjSmxrsxIcGFVhiUnK9fhVbUGr6o1nKpci4d6LafUa/GuWoNP1RoE1SuIrp9PdP18ouoWEFW7gAt187hYv4zUtuM87e/lSX8nee1SYqq2EKVey4WanUSpLZGWyPHKT8IrP4XNiotMOC9ldkwoF4u3UtM2ioaO/6Cx479o6vgLje3fUd8+koaO0Wi6lxFY5TE4wMUci8I9HCk0w6JwLxYqM/aq9rJHtZcg9Ub+u3cCb3rG8bx7Es+7J9LROYtbzbuIaXZC0Sai7mERZxpFuFaa41Buhk3ZDmzKjHEoN8a1YgdXGk2o79pDYtNSbjfM4XbDDHJaDLhWtwBzlR3mRUc4UGjOngI7TO+KsUu4wcnc+2RrGn5zo/+0/xE3NceJaNjCzRaH96DvtsaRc40mXG62oP5RHintpTgWn+eo6jRHCn0wUzqyT3WCw4VeHC70Ynu+M3uUztiWeBJWd4FH/X9uJMGHXFdXh0Kh+OgWyG/ZT58+paWlhaKiIpKSkt6JhSgsLCQ5OZn09PSPutf27dv5t3/7N/7+979/6aVZJ52+SemgTyedvmJ9CvTl5uaSmpr6Udf29PSQmJj4XnvjP8MZGRmfXJH8R/38+XNyc3NRKBQUFRX9KuAOTRetrKz84qD3th88eIBCoUCj0bwDe1n5dYjDk3Hyuskh2zMcsg3naOhlxspk6EslTAgKYoxYgr5QW+kb/Rb0jRaJmWkjYeHxUDYHXmCbKIY5zsFsEV7k2cDzD0Lf8xcvWHIhilGDLZyjJcJ3gG+UWMhIuRB9iQgf75vIfBQEuN7g8PZQAlxvkHBLhY3JaYwX+7N/g5QjO8M4ujucPRtlbFkWgNFcT4xXCrGyucgxh0v4i+KITyzjyoUcbA6dReynIEScQIg4AXf7y+xaI2HDZgE/HRAw3t//HeAb8sjTgYwJ0sKpoUTK+EApY/3FGPiK0PfVAt8osQh9PxHTTsqZ4RGE4UkJ49wlGAQJ0Dvnh+FNd21lL1brKXFuTI5zZWrcCeYkOrKnYB8u5RvxUK/FQ22krfYNQp97pRHe6jUEVq8gtHoRweplyCpXEli6EmH5T1yo+5Gk1m00PLzB8+fP6R8YQF6Uyr6k01inn8cz7z5e+Sl45adgk3aP6THBjDsrwfiOmMLa5bS0j6ap4z9p6PiPQfj7/2jq+A+aO0bT98Ca6ge1WJU4Y6o6iIlyP/tUWpso92Oq2od10W4aW+bwqmMi/909jpdds3jWtYCB7lk0dplQ0nuf3mft3NScw6XyIPblprhVHuZk5R5cK7biVL4N27LtnKjYQZLGlOJ2Y+IaF3G7fgZZLQZcqpvPoSIL9iotMc2341BOMFbXI3FKvIVLdiLpzXW/udF/8KyD6xobohq2fxD4bmscudh0gIvNB1E/SCasNoH9BcE4lYRzQOXGXpUzR4p8hr2n4CR7Ctw4WuyBt1qOsrvknw5CQ4Hkn2P65bfkgYEBent7qampIScn551YiMzMTCorK+nq6vrVSZ5GRkb853/+J//3f//3pZdmnXT6JqWDPp10+or1KdCnVCpJSkr6zWvevHlDfX099+7dIykpib6+vn86wHxqRfIf9aNHj4YH1NTX1/9ma+XXNl307fegUChobm4eBr4rd1TYe9xg5+EzbNoTxKY9crbsD8XI/Qz6EgkGUgkTgoMYL5czRiz5ub3zrRbPmU5yFrqGs8IrktW+0cxzCeFA6I1fbe988eIFp2LvYhAk1p7dk4oY/QvgGy0TsVpwGpmPYth2+6PwdLiC3O8eu1YK2bLYH+OfBGxbIWDDYj/W/ujD5mUBrN8cyPcOAuZI5SwIC2W5Xxhu0rtER6ThbB2Dp8v1Yegz9zjHDE8BBvJA/hI5CHlRbwHf4K+/iwhEXyRCXypmkljGZLGc8YFSDPzFGPiJ0PMXMVIiQk8qYFJQAFNCApgiFTDBR8yYCAF65/2YcvskU2NdmRLnypQ4LfRNjdNW+b5PcsCqeDtuleuxLdmCY9kWXCs2cbJiMy4VG3Eu34ivehUB1T8hVK9FXrkOWeU6RGWrCCxfSUjlGmJblqHsPM7AgHbISFV3Bx55yexMuMLWuEscSL6JWeI1Fl8/w7SLQUy7GMTlIgtaNbPIrv0Rm2wzlifasDjBDrP0fVyqWExfx3he9O3h+cATKvuqOVl+BPOiPewr3M++wv2YF5nhUWZMY9sC/to9jTddk/lr91gG2mbRU7eG1x0zeNa6hfb2ZrqfdOJZdQy78t14qI/iWXWMU+rDnKw0xq1yM84V27Ev346kZicN3XspajcmpXEm8Q1T8S3bikmeC2a5/ljkRiEoTMb+2jmOxl/DOz8FVXvLB0FP3ZdISe8tKvsSuN5i+5uVvrNvVfokVQrM8uTYlUgwUzpxqNDjHejbr/LAtMAN+1J/HMt8udkS/0+Hn6FInD87+Pxr97Nnz0hISCApKYmUlP+fvfOKijJd0zaz/oNZs9asOZg5mDUn00bMKOYs5thqmzNmQUQl5ygKFFCBoshBBCPBImcQyTlKVpKIIFnU3r3D9R8g1dLa3XbauGfXvda9xOKrrz4p9f2uet7nfpIVABgXF0deXh719fW8evVKcfz69etRVVX9YqEvMzMTAwMDNDQ0+I//+A9UVFTQ1NQc78tSSimFlNCnlFJfsP72t799NhgUFhYSFxf3o98fHh4mPz8fuVzO48ePGRoaGheAycrKIjU19e/yWi0tLcTExPyigJro6GhKSkrGHfQ+dE9Pz5hRErlFjRjZPeDgOS9OXfJEy8AH8+thWDnL2WPmN1LVE7oxS+rOLKk7MyUSpolEH1X65hqJUDcUM89AxFwDEYtNpMjisz8JfAMDA2RmZhLx8CHH7tximkzEJHc3JriPhLdMkLgwWezKMqEHzg4RY6DPTCcYY60gzu6XsnOZPQc2OXNyt5hjXwvZueY6m5fZs/SSE5OkAibInJngLWCij4DJ3i5M9XRFy/ceLtfk6J7xR+gYxWX3O6j5CJnk7cz/+jl9ssI3ZpunlzOTXV2ZKRAyy0XIdGfh+y2ebkx1dmVa8DVmh1ujFmHN3Ehr5kbYoPbAhll3HJhz347FMZYsi7NkUYw16lFWLIi2ZnGshWJ+3uWig1hV7ESv+AAGJYcwLjmKSckxDEoOYFG2G8eqLThWbcG5Yjuiih24lm1FULYF19LtSEr2ENGwnszW83R2P6Wvr4+BgQGqX7QjK87CJDOOS6kPOZcYziH5HbY9CGJvpIz0ulVcL9zFrEhrZkTaMP0Dz4y0QTvjAv0vtjPUn87Q0BCve/wpb/6a6Po9RNfvo7J5Od++UOO7zgXvPZvvOufwrmMDAy0HeNO2iJd1W4mNuYt/igzj4tMYlp7EtlJ3BPqqLmNdcRzLiv1YlO9Dr3Rkm2dp6yGetG+gpGUxD2u2cT5DglHufa4XxuNVmo1n0WN07gagGRWCV0kOL/t6v4eAwV6yOwK491Sb4MZjBDUc5lbjcQIbDuJTv4fghjM/29M3WunTLRSgmWfEhQK7jyp9p/KsMC11wbDUgbtNUZ8Eks7+LuJbHiGtCUX05CahjdHUdjf9LrBTUVGBXC7/0XCTfybHx8eTl5fH0NAQXV1d1NbWkpOTQ0xMDHK5nLt37zJt2jROnTqFhoYG8+bN+2KhT1NTExUVFf7t3/6NGTNmKKFPqS9OSuhTSqkvWL8E+kpKSoiKivrk93p7e0lNTVVsXXz79u24AUxOTg7Jycl/6Gt8OGA+NTWVvr6+z35ubGwsRUVF4w56H/rDURLv3r3DIyCNQ+e90LzogY6RH1ZOkdi5RmPnGo21i5zz8hpiAAAgAElEQVSZjiImurmhKhYpwG+W1B1VkUiR4jn1mhtq+kLmGoiYoy9kjp6QBUYStLzC6ertGwN83d3dJCcnEx75kNLKKvoHB7lVWsyOO7eY4SlmisSNmc5uHHEKROAQOQb4xA5yrp7yQ0fTh6NfC/lmpQMnd4k4u8+dozvc2KVxnRWnbzBROgJnE2TOTJYJmOrjyiQfFyZ4C1D1dsXhdhwOFmGcu+CDmsyNSX4Cpsic+V9/pxH/FPj5OzNR5IKqsxvTnYWoOroyxdGVqY4uzLxlz+xIK+ZEWaI2CnwPrVCLsmT2Qyvmyi1ZEm/BhsQbrI53YEmMLQuirFkUY8HyRCOWJhqjVXAUy/JdGJTsQ7/kIAYlBzEsOYxByQHMS7/hxnvocyzfikvZVlxLtyIq24F3xX7ERXt5UK/B49YLvHzVQk9Pj8KvXr2ipD2bxCYpYXXm+JUZ4lFkjF/VVgRlm5kRaa0AvRmR1gqPgp993jle94aN3GAPNPJt1yG+61zMn16u5btONb7rnMV3nfP5rlONP72YzpuOuXS07KKz9RvevVjCm84z1NfXcCc/EMOik+gXncCk4CxmReexKNXGulwbq4pjWFUcQL/0AGble8h8NpOy1hmUty0gueEq13IecCn1IbY5STjmpWKSEcPeEE+skuU8bm5Q3PwPDg6Q2ibGqfIsJiVHsCs/SUDdMQIb9uNdtx2vum141e3gZoMmdxXpnWc/Su8c7ek7k+fIqTwzzuZbKoBPq8CewzlmXCiwx7LMFctyAXEtH/eTFb2oxLjUhXMF1hzLM+ZorjGn8i3QLXIgpDGKgcFfPo/uQ4/2Fv+auXb/1xwTE0NhYeFHjw8MDNDa2srDhw+ZMmUKKioqqKio8P/+3/9j9+7deHt709zcPN5L9BgVFRVRVVXFX/7yF4qKipTQp9QXJyX0KaXUF6xfAn2jnx7/EOja2tqIjY0lJibmk0Egf2/n5+eTkJDwh51/eHiY3NzcXz1gPiEh4TfNO/wj3N/fr9ie2tc3iK7pTXYeE6FrGoiNQK4AvlF/Y+3PFLeR9M4pIiHTJGKmScRMFglHqnwubswxETHPQIy6oZgFRhKWm8tYaSFjm4M/tx8VK4Cvvb0daegDTjj7scnWm422PnzjGIQ0KpMXr3p40ddHyO1HGJ73x0wn+CPgu256D63DMrQ1vTm+z53DmwQc2SxQQN/OtddRFYwA30SpM5PdnZnq6cI0Hzem+bgxyUvARG8X9kaGkBhTzClJMNO9XZnqI2CGl+vPVvlGPVnqiqqLkBkCETMEIlSd3JgudWJ2hDVzoiyZHWaN2oORCt+cBzbMCRt5XC3akmXxVmxKcmRjkiMaCddZHmvPwhirkUpfkhH7H5/HuHQvFuXfYFByAP2SAxiUHhiBv8KDOFRux7V6E65F2xEXf41n2R4CK48QUHEEr7IdPKjfSMmLG/T399PX10dvby+vXnVT0RFCWssV4p8dI7JxF6E1W7jbsJx7DYvYkXxRAXszf+DRyp+63Ir2roeKG+k3feF827WPP71cxnedM/hzpyrfdU7j2xfTef18Di3P1lBZv53OluW8aNEgp86Blu4uKrqKsazQxqD0BBal2pgVncek4CwmBWcxLTyLeekRrpYewKpiN/ktUylpnUpJ6wxK25by+OlBvEsisM5OxPxxPDaZ8ejfCyQ8P3tM79at+nC2pRuyMsmIFUkmrEwyYWOqMYbFVwltPItX3Ta863YQ3Hjy/Zy+wwQ3nuL+Mz3yX9xVzOkbSe+M5nyeiKM5ZhzNNeBcnjWn82w4nGPG6XwbDEqcuFpii2u1N42vno2Bjbrup+iXOHMk14gTeaZoF9qhU3SNMwWWHMoxQLvQjohnSb8JdEpKSpDL5T/au/bP4sHBQcWc1J87tqqqCjU1Nf7nf/6H//qv/1JA4LRp03j48OF4L9UfSQl9Sn2JUkKfUkp94fpcMKiurkYul/P69Wu+/Xak2lVZWYlcLiclJYWenp5xh5dvv/2WoqIiYmNj/5Bz9/b2kpKSglwup7q6+lcNmB/vkRKf8uj8wKqqKpKS0zh7xZN9pz2wdYn6CPjsXKPRMb3NLlt/1NylTJOImSoWMVUsQlUsYpqriCU2Hmy55sc6Gx822Pqw0zGIQ24h7HG+yQpzGRe8whkeHqahoQEzr2BWmkpYYCRGzVCEmqGQuYYiFhqK0TD0wNIpkhuCaPR1g9E+6onBWX+uGd/lhtl9TC/eRPuwDHuju1iY3OGidiCn94jZu/o6J3a4cWKnkA0HHRVVvkkSZyZLBUzzHgE+VW83pni6MMFHwOxAMTUvO9BNljM9yI0FN91ZGOz+2dC38qYPMz3EqEndUZe4M8NVxMwQe+bIrZgTYc38MDvmPbBF7b4NavdtmPfAhnlR1syNsWRBrCXrE2+wKcmRTUmOrEu8zoIYK5bEm7E8yYS1KfroFh3Conw3luW7MSnbi1HpXkzL9mBZuhfrkl0Iyzdys3INgRX7uVl5jJuVR/Gv2Mmd2tXIG47Q1vdoTO9kQ3ccaS06JD7dTGbzTh43H+Z+7XbuNSwmqHaZoqL3Kegb3fI5M9KGe1W2vO7PV9w8D/en8u6VPn96uZ7vOufwpxfTeP18Ns+bl/O8eT397UvpaVtOSd0+bDLuEFiaT1dfD8IaKwzKTmBecf59T58ulmUXMSk+hUHpAQzL9uFZvY6cp7PJfTaLvJaZFLaqUtQ6g5K2fWQ+qyX9aR2Z9U948DCSmpoaxTXdbshgdbIZSxNNWJpowvJEE5a9/3plkgkX8vQIqj9MYMNB4lrsSGv3ILXdnbwXd2jvq/sIEBpftSOpikKnQMCRHOORUQ05hpzKM0er0JrLxdZcr5QS3ZL8EXj514dxMt+c0/kW6JU4jbFO0TUO5RhgWCqgq//VrwKdoaEhioqKiI6OHnfoGm+PfphVVlb2WYD43//93+zdu5e//OUvFBYWYm9vz/Lly0lJSRnvZfojKaFPqS9RSuhTSqkvXH/6058+CwxGY8BHtwxlZ2f/6mrXH+nS0lKio6N/9/O2t7crKpptbW2/+jy/Zcj9H+WhoZH5gbGxscjlcqydw9lz3puDl/05eDWAYwZB6Nrcw0YQha1LFMd1AjCxD6e4upng4mIskpKwSk7CLDKOjXY+bHPw57Aw9JNebubBAdcQ8ouKEQffZaWpO3MNRcy/KmKZgYTlhlLmXxYyR88NtatuLLkg5Mgpb85o+XP8hCcG2kHonfbjyklfzHSCcbGJIDWuFKksER3dm5gb3ObkLhF719zgmw03WHX0OhM8RrZ1TnJ3ZqrsfZXvPfCpersx2deVmYEiHjU1cCY2jOk3hSwK9WBJiOzjAJdPVfmCXAgqKWT//dss8pQxXSJCVSRk1j3bkWrefWvU79my8IE9i8OvsTTiGutjbrA62p650ZbMj7FgcbQVS2NsWBpry9JYWxbHWrEk3oKVSeasTTFl7+NLXC4+iHHZSMXPonw3pmX7uZJzggMxF7HM2E9w1Xbu12lwr24td2pXE1ytQXDVXoo7fMeE57weHqDguQ6FLWpUts2ium0GVW0ziWmax4PG+ciq1iqqeT8Evu+rfSPg51d6grddx3nd933Fb2hwkNf9Vbx8cYOWZ1tpebqGnraV9LStpqNlGzVNpwgpjUQ/NRr7rBTyW55S1JmNdaUO+mXHMSo7iWHZGa6UnOR84XE0806iVXCEB7WLyH46neym2e89g4LmieQ3z6H2hQdDQ0OK8SO1tSOpnc96OtiQasvSRFNWJBmxKsmY1ckmrE4eAb6liSasSjLBufIC/vV7SG0TfhZQ9Az0kdNehWNlEHrFTlwuuoZxqSP2FWIkNQEktT6i/31wzvfP6UW/xImDOfpcKb7xEfTplThxIs+UC4U2PGov+NWwU1BQQGzs3z9A5kvzaK9yZWXlZ0Hfv//7v//DQJQS+pT6EqWEPqWU+sL1udDX0NCgmOU2mlZZU1Pzq6pdf6TLy8uRy+W/23W9e/eOmpoa5HI5ycnJv7mi+WuG3P/Rbm5uRi6XEx0dTXVdE5dvhLHxjJRVx0VonJSw7ow7Wy94cuCKP+cMb3HyciAS3xTFcPOhoSFev37N/cclbLH3Y5O97yeB76BbCEtNpey85kNE5EPOi2+xwEjMfD0Rq0w8WG0qY7GemPm6QuZdEjJb3435V4RoXgngjHYAx077cNUglNCADMJCskhLKKOjvZs3b94QF1+KueV9TCzvo2kciIaWmGXnhcy/6soEmWCk0icVMNXTlameriPA5+XKdB83Jvq6MMNfhHNEKgdvhjItwI2pfq7M8HZjoq/gZ6t8J2LvU9LSwvl74cx1d0dVJGSmWIz6/WuoPbRizgMbZoXZMTvcjkVR19mS7MbudAkbk51ZHGfLijhbVsRZsDLamlXRtmjE2LEy3ooVieasT7Xl0GMXDmVeZ0eqCfsydDiZdZ6T2ec4lKHDhtBrrPCWsu++HwYpJogK9+NZth3vsl14l1zk0bPIj9JS23ruUNE2m+rWr6hpm8iTNlWetE0l5qkaYU3q3KlfwqyHVj9a6Zv5QV+fvPokbztX8LbrBEMD5WNupBMbnmDz6D5hZY7k1FnyuNaWyMqbeBdn4VWcgyA3ncspch5UlzI0NET+i0yuVxtiUHqaMwWn2JJxGY00fTRS9VmXdpVN6ZfRzT9C6tNl5D9bQG6TOrlN08l/NonU6vWkZyRTXFw8Bvp8a5JYnWzJ8kRTViUbsTr5e+hbnWzCiqSRyp9mzhUC6veS0S79xXDR2f+SvI5iMtpzyHtRwsv+rk8e97zvBbrF1zmca/hJ4NMrceJMgRVnCiyJbcn41bCTl5dHXFzcuEPXeHt0FM2TJ09+9tj+/n7+5V/+hYsXL473kvxZUkKfUl+ilNCnlFJfuD4X+p49e4ZcLicqKoq4uDg6OjrGHVY+5dGAld+j+vjmzRsKCgqQy+VkZ2crtrb+FmdkZPDo0aO/+8+lqbOL4OxiPNJyuJ1XStur3jFAK5fLKSgswtE/icMmN9l4zoMNp6VoHBez9qSEVSdErDouYssZD6wFcmrq23n9+jVDQ0MKqKhp6WCfIJjlZh4cdA35CPq2XvNnhak751z9KSsvZ4udH2qGQpYZSlhjKmOlsZQFl0WoXxKy8IqIuVeFzL0qZMclT6zswzlzMQDtq8HEJ5V9lP7Z2taFQBLHxisyll9xZ/FVCYuvSFhwWcgkiYCvvAVM9BSg6uWKqrcb033cmOkvYrq/kEm+Lqzw90JXHM5ln0jUAsRM8BMwyUvAFE8BE/w/AX7vq39qQRKuRkaxPsCf2RIJU0VuzHQXM1MqZk7oDaZF2DItwhbVcDtUI+yYFmHHjEh7lsQ4sizens0pLugXBnMqx4NtqQ5sTbnG5kRbViSYsTzBjC3xNmimXedotjn7sq/yTdZldmVeYVOqAWvl1mjdDyLhSTVh1XF4lV4lsHoXwTXbuVf3DcnNhjT3po+BvuHhQRo6vuFJ6wQqW6dQ1TaPqjZ1qtrUiXuqTnjTPKKa5rE/7fyYEJdP9fQtibaip+MMbzp38rZzM8M9Y4EpurYSvdRoBLnpeBXnfGRpYRbaiZGEVBQpnpPwrBStXAEaqYasTjVkdaoBa1P10EjVG/k6TY/DWefIfLacotbFFLbOpaBlCo8aVxOf6a34uxwbG0tBQQFXs/1YnmTOqmRzViUbvwe/76Fv1ftq37b0q9xqPEFV12/rp/sp9wz0ovczlT7NPDPOF9iQ0Z7/q18nJyeHhISEcYeu8faLFy8Uvco/d2xnZycqKioYGRn9YWvtaJ/g5/qngmSU0KfUlygl9Cml1Beuz4G+t2/fKrZzpqSk0N/fP+5w92MeHUw8NPTbRkb09/eTnp6uSCT9vSqHmZmZpKen/91+Hn1Dr7GPTmWLOJBVzj4sd/RitcCHbZIgTEPCCI98qHhv70enc8H+Lvv0/bkqCOe4STA7L3qz7bwnW856oHFSws5L3njIM/HOykX6KJuYiuoxw9at7yay0c6XNZZe7HG+qajwbbH3ZZGRmE1WHsRlF9E7MMgGa2/UDISsNPZgjamMpQYS5usKWXB5BPrm6QlRu+rGFm0PrK9FYGx5jyOnvBFJExWv19XbR0tnN70Dg1gGxrHaUMbSqxJWX5aicUXKWj0PFtqLmeA5An6TfV2Z4S9kZoCIqX4jVT5VXzcOuN/C9V4aPlHZaN0LZ7qPGxN8nZng68xEX2cm/GCL5wRfAYslUo6E3GZeoIRJPi5MlrkwWyxipcybZTJPpt27hmqE7fcOH4G+UfibG2XPySxfugf7iG4uwKr0DhfzfbiY78P+TBe2plxjX7oF+x5fZk+WDnuyL7In+yLfZF9kd5YOhx4bUN/VxPP+QlLbThP9bCuRTzWIeraJ8KdrudWwnoD6LYQ0Hiay+QqZzwXUvnShrn0ZT1onUtY6XQF8VW3qZDarE9mkTkTTPGRVa5gjt/oovfPDsQ2exVcY7jzN8AtN3r5YwuuX2oqREENDQyQ31GCWEY/t46RPQp9TThpXU6IJqx7pueobGEBSnsKGVCtWpxqxJtWIDWn6bEq/zKb0y2xMu8KaVH3WpelhV7qfotbFFLXOorB1Blmtm3n6Ko6mpibF/1PR0dGcjnNlWYIZKxPNWZ00An0fVvxWJRmzNNGE7elXiXimT9/Ar++l+xz71j3gZL4ZZwosPwK+S0UOHMwxwKDEmc4fqRZ+jrOyskhK+uPg9R/Fz58/V4yi+bljm5qaUFFRwc7O7g9ba8+cOfOL3NPT86PnUkKfUl+ilNCnlFJfuL777rufhIaBgQEyMjIUn6B/CQmdP+W6ujrkcvlvAtMXL14QFxdHdHQ0z549+12vLysri7CYeG5lFGFwMwZt3wjMbsfzML+SnoHB3/W13r57h0lYPGsEPsyzd2eFkxcaLr4sd/REzUbE0mvuGN4KUwyNd5BFctAokAv2dzFye4iR20P0BBFo2d/lgu1dDlneZIGtO3Odpai7eTDP1YPFIk+2+d4ktvLJSBpnVw+X/R6yzSGAFeYylpl5sMTEneUmEjZby/BPeKzYFvqNQyBzDUUsNXIfgT79UegTsfCKCDU9IfMuC9ml5Yn1tQgs7cI5cNwTR9cY8uueYR+WzBHJbQ6KQzkkDmWjnS8rTT3Yfz2Y3TaB7LYOYK99EMfdbrNK7MVEL8EInPm6MtnXlWn+QmYHiDkecBcL31h8orLxicrGM/IxO90CmCVxY5qPK1O8XZju68aSAA/Wy3z52iWAvYKbLPSUMDtIyKRAARMCnJjg58QkXwGzfIWoB7kxLcz+fYXvfbVP8esI+M2MtCeltUoBsEPDr2np6+RZ7wvKXjZyqUDKnmxd9mRfZF+2LnuzLvPNY112P9ZhT5YOB7N0Mcy5RkLjGeRPNxDXvIvkFk0in+3Ht24TnrXr8ajVwKN2LbLadXjXbSCkYS2lrdOobJ1MaasqFW1zFNBX1qpOzNMR6ItomoegfA/zoyzHzOkbDXBxLdLnTddZ3nSdYbjz9Aj0dZ4fMxKi9nkbLrnpaCdG4l74eAzwyYqyuZISxfXsVIrbmhkaGqL5VSf6eaGsSTVmdaoha1NNWJ9mpIC+TelXWJ92hdWpBux6pENey3yKW6eS3zqHR63HaOlJo729XXGj39/fj3dpDKsSLVieaMbqRDNWJRmzKsmIVUmGrEo2YnmSMcsTTbiQZ0BLT/kfCiFDQ0PUdDeiV+zI4VxDNPPNuFhkz6UiB84WWHEoxwCtQjsePI3/Ta+RmZlJSkrKuEPXeLu1tRW5XM6zZ89+9tjy8nJUVFRwc3Mb7yX5s6SEPqW+RCmhTymlvnD9FPR1dHQQHx9PVFSUIqmzubl53MHup9zY2IhcLv9VvXfv3r2jvr6eqKgoEhMT6e7u/t2vLzQmiQOOfnwjCGatrQ9rrL3ZYOfLfrcQjG/F0vLy1e/2Wpm1TWxw82e+vZSt4kB2uN9kqziQtY4yVjlImWsnYbMokOq2DqKjo7EQPmCPnj+XncIU0DfqS64PmH9DiqqDENUbItTdPFjgJmO2wJ2ZzhKWS7yJqxoBv+7efu5kFqPlFc6u6/5stZahI7nFo/KaMVsyhQ/SWWwkYa7BSE/fMgN35l8WMl9XiPpVIXP0hSy8JETrajDW1yIwML3D8bO+XHUJ46A4lHX2Piy3lrHa1otF5lLmGYtZYOLOYddQzro/GOMzkvussJaxysOLQ/I7nIi9j2veI+7nlGDuG4PT7RQF9PlEZXPB5T5r7GQskUqZIxayRuqFrm8ExwW3OSW6i5qnkMn+AiYGOPOVvxMT/Z2Z4OvEBH8nJvsLRqp84XaohtmhGj4W+qZH2DE9wp5ZkQ5oJocSWlZC48uXH21ZtauUsi9Hh7052uzL0WZvtjZ7sy5xIFuPU7kmHMzRRTNbF1nZLu7XrCGsZjt36tfhVauBR60GsloNPGvX4Fm7Gq/atchq1+Ndt5awhoWUt0yktGUqpS2qlLfOpKJNjYq2ORS0zCD26WweNqnz8Olq7jasw7TgMAfStDicdhGnQn0aWrV4133ue3cd4l3nWoa7bejv76e3t1cBfg8qirHKiEcrIRybzEQEuek4ZKegmyzHJD2O0IoiegdGAk+everkfI6Posq3Ls2UdWmmbEy/+gH4XWZNqj4b06+Q1DSXwtZ5ZDQvJ/e5Hr0Dz2lra0Mul9PUNDLovKOvi61p11iWaMaqJAvWJFqwOsmUlYnGrEg0eh/kYoq8LJaXL1/+XWAkr6MMgxJnzhVYcTTXmCO5RpzMN+dSkQNBDREfBcD8UmdkZJCW9vF8wH82j7YktLa2/uyxOTk5qKio4OPjM95L8mdJCX1KfYlSQp9SSn3h+hT0vXv3jtraWgX8dHV18erVK8XN1HiD3U/56dOnyOXyXwxsb9++VYRAZGZmMjT027aHfsrPX/Vx1CWIVeZSdgtuctbzAdq+EZzyuMe2GwHscAzE8k4Cw29+n+H21vJkltzwRMPFlx3uN9ki9EfjhgcaNzzYKgpglbM3K5y8ECdnERMTg4MsgoNGQZy3uzsG+AzdItnmFMD06yJUHYSoO0tZJfVVeKFQxkxnCbsCQhh8/VoxFiA/P5+wiEgyH2cxODj4EdR0vuplp40/8w1EqBkIWWgkZp7eSHLnHH0h6peFbDsnxdwmDEu7cE6c9eWs4U12XA9ghbUnXwuCOCa9w3GPu2y7EcBcYzFqRiJWWnlyWnL/I/BbZ+HNCeFdOrp7FNeQUVKHpV8cDsFJCuCzi0hksb8Hqt6uTPIRMNFHgKqvK3P8xKwRe7FU6sFEP2cmBDjxlZ8TX/k5M+G9v/J1YkKAE1Mf2L3fzmn7SatG2DEt3I6F94TsuR/K+ehIQstKFP131d0VHMvXZW+ONvtztNifc4H9ORc4mKuNZr4el4ptOF1gwvF8XRwqDvCgfh136lfgX7cSj9o1eLyHvVF7163Fr24bnrXrCaxbRX7zZMpaR4CvvHUWZa0zKGudQeX7KmBR+27yX9iR02FGSacTHS+O8vbFct51HfwB8J3iXedq3nUd4M1AsuK9HxoaCcdo735OQGU41wqFmObcQD/TDYO0u9zISiG0vJD27m7FjXffQD9X829+BH3r04wV4Lcx7TKrFdC3jIyWlTxqPUlNV/CPVncSW4rZkGrLiiRzliaasTxx5NdliWasTrTEMt5HsZMhKSmJ4uJimpub6e//bfD1U37e94Ko5lSET24iqPYnqCGCypd1v8tsvbS0NDIyfn0QzP8Vj34A+Pz58589Njk5GRUVFUJDQ8d7Sf4sKaFPqS9RSuhTSqkvXH/+85/HgMLw8DD5+fnI5XKysrIU8NPX16doih9vsPspt7S0IJfL6ezs/OznDAwM8OjRI+RyOaWlpR8NoP+9fD+7jG32Pqy38kDbN2KMtXzC2XTNj+Pudymo/32qqRduRTLfXsoWcSCbXH1Zc13KWidPtr2v+m0U+rPIwQOz8ATi4uK48zAFrWv32Kvnj4FL5AjwuUai5xLOvBvuTL0uZNZ1MUtEXmOgb5XUl1kCCUvEXqTV1tPf3z/m5/nD9MgPXVXfyn7bIJYZujNf/314y2U31LXd2KAp5uKVYC7p3+LoaW/O6gSieS2ETQ5+bHMM4Jj0LocltzkiucMe11ssMnVnjqGQRWbu7HO+NQb4TgjvoGHuha5PJINDrxWv39D6Ard76ehJH+Itz8I5MpVlwZ6oBrox2c+FKV4uTPEUMMXXhQkBziMVvQBHvgp0ZJK/M5MDXL4Hvvee4Oc0UuH7oJ9vWrgt0z6AwNEevzVhHuy7fxuNm35oPgwjsrqStv5WHKttOJirxd4cbQ7kaHMwW5uDuRc5kKvF4byLnMzX50yBKcfyLmFfsY97jSu507gM77o1eHxQ4Ru1V+0afGu34l27Cd86DRKfzqWy9Ssq29Soe76GmrZl1LQtoK5NlaaO9fT0J4x9rwbieNd9jHedK3n3cj3vXu7k3cutvOtczruuXbztdeDN8MCY57T01xPZIiOo0RZxzVUcK3VwqryKsNKaqMYwurq76Onpobe3V9ELeLsuC41UE1a93975IfitT9NjXdpVVqfqs/+xNinNu3ncdoHKTg8GBnsYGhpS/Ptvbm4ec1Of+/wJVwr8WZdig0ayNWtTrDmd40HsswIGBwfp6OigsrKSjIwMoqKiFGm2WVlZ1NTU0NX163vs/t5OSUlRfHD1z+zRrf4vXrz42WMfPnyIiooKcrl8vJfkH1VWVhaamppoamqyY8cOVFRUmDx5suIxR0fH8b5Epf7JpYQ+pZT6wvUh9PX29pKamqoIL/kQfoaGhhTx1+MNdj/l0Z6e58+ff9bxL1++JCEhgaioqD+8iml1N5HVljJ22Xt9BH3avhEcEoXytVMQAakFv8vrXb4TxQIHKasdPVlzXcp6Zy2Dq9IAACAASURBVC+2S4LY4X6THe43Wefqx5IbMuyiUoiPjyc3Nw9BYArHzG6xR8+fsza30bl+j2PWwUy/JmLqdSHznKWs/AHwrZL6ou7mwXw3GX6ZOSQlJREVFUV9ff2Pwt6HfvWqnwexBVxxfsBZuxCO6vuzX9+HTRaerDfzYI+hD/pmd3D3SkbLJ5zlVjK2XvNnrYUXq01lrDaTsdHah2XmHsw1EjHXSMyWa/4K4Dslvscma1/23LiJV2IOfrkFXIqI4tz9SCxiE7EPT8LYKxoT72gOhIQyM1DEjEAhc/3FTPd0Y7qPK1OCnZhw6wZfhXzvSbccmRrowkR/wRjwm+DnxPTwDwNcRoHP7nvgew9/6+7K0I2L5ow8Ao2bflxJiCGi+QFmFVc4ljeypXNftjYHci6yP+ci+7K131f9tNmXrcvR3Mu4Vn3NncYl3GtchVetBtJaDbx+AH2etWvwerIRWfUGPGvWE9WwhMqWCTxp+4qGdjUa2mfT0D6Hpx0b6HzlwvDw64/fq4FE3r66zLuuA7x7+TXvur7hXfcp3vZ58Gb41dgq7mAbYc0SxLWXcX6ig+CJIW41JrjXGiKq1SG48RoFz1PG9AD29PTQ0f2SI1kurE41YlWqIWtSjdFINWFNqglrUo1YnWrI+jRD3KqMKXhuSU1XMF0fDFAfHT/S0tLyyZv7p6+eU/Sinpqulh+tqvX29tLY2Eh+fj5xcXGKKmBycjIlJSW0tLQowmpeDXRT/6qGuldP6P4N4Su/p5OSkhQf2P0zezTU63OAPSQkBBUVFVJTU8d7Sf5RBQUF/WTa55o1a8b7EpX6J5cS+pRS6gvXKPS1trYqho9/KqzlzZs3ikG34w12P+WOjg7kcvlnDVB/+vQp0dHRJCQk/KLK4K+1SUgcKy082OPwaeg77j6yTdEr8fcZ3h6Ymc9SBynzbcVsdPFRwN4O95tslwSx6LoH61z9iC1/QmJiInl5ebx81Y9L0EjF76BRIHv0/NhnEsCs62JUbwhZLvH+CPhWSX2Z6yplvqsH1iF3iI2Npa2t7bOAr7b9BUGPC3BPySI4u4i02nr2h91hlqeEqVIhU92FTJOKWB/oT2ZTI+e9w1A3FrPM0J1FehIW60tYpCdmiYGEZcZS1I3EzDEUscRUyi6HIHbYB7LGzIud1wI57fOAvUG3Wefpz0KRJ/OFMpa5e7PZJ4j9PrcxC4hGzVfMRP+RMJa5/hLUgyRMCXViYugNJoTcGAG/W++/DrnBxBDHkSCXDyt9AY7Mfmj1AeB9n9qpqghysWVGpA2rbos4J49ENy6a7beDORpxF+tyK3SLz3A6awT49mRrsS9nxHuztdiXc4G9ORf4Jvsiex/rE1i3ituNi7nbuFJR6ZN9otLnU7cJz9qNeNZsJKRiBxmNahQ3zaS6aSV1LetpfnGGV33h9A110NgTS0mnO0WdblR1BdM5UDlSsR0e4M1gFm8G5LwZSODN60+/z1kvYhA80cWm8jzm5ZcwLruISZkO1hVXuF6lh1vNRcJb3Okb7GFgYIC+vj5FL2BFewO7HtmzJtWYVamGrH4Pe6tTjdiQbsbVQlsy23TIaD1OeutRHredp+yFgJf9tb+oj+tzPDg4yPPnz6moqFCk+T6IeoBHige2BWaYllzCovwy16tM8ah1JK41gpf9neMKOwkJCeTk5Iw7dI23R/vQe3p6fvZYHx8fVFRUyM/PH+8lWSml/mGlhD6llPrC9ec//1mxOKakpPxoAMpowmNZWdm4g91P+eXLlz8bOPP27VvKysqQy+VkZGQwMDDwd7k254fprLfxYputDC2fj6Fvj0swe1xucT/7t/+Mu7u7CYuOZb2jB/Pt3Vnu6MWW99s6N4sCWHrDk8XXZRz1u8vA62GSkpLIzc3l7du3DA4NkV/eiF94Fu6h6fhHZLPP/zazBe4sEnl+BHwr3H2Y7ihioUDCnegYuru7fxb2evoHuBadwtfSm2i4+LLK2ZuVLt6ouguZ5O7GJKkb02QipstETJa6McVDyAJfGTsFgagbillgIGa1qYw15p6sMfNkhbEHi/TEI98zkbDZzo9vbtxkr2MwmqK7WN5L4JuAUBaJPVkj82NXQAh7gkLZ6nuTRWJP1nr6c+5uOAuDpUwNcGXRTQ9WhHox544bk0IdmRTqyORQRyaEjIW+CSE3mBjsxJQAFyb5C0Z6/AIdUZNboRZl9X47p50isVP1/e9nRNqiLrdmxW0hpyLD0I2LZv+DO+y7H4pe/lUuFpzkfLYWh3LPsy/nAntytNj7Hvb25GiN+PElDiW74Vm1kdCGJdxuXExA3XJk73v6ZD+o9HnXbkRWux7/+u3EPdMkqvEbEiuMSUoOJDYuELk8kqSsYOJrL5HwVJPYZ/uIebaHhJajZLRdprIrkNfDH/dm/tBDw4NI62ywrDiOQel5zMt1sanQw6riCsalI/BnV3WegEYb6npKFc/7sBew8WUr18vusD3Dmo3pZmxKN+dI1g1cKs1Jbj5AQvNGklt2kdLyDQnNm0hu2UVO+xVqnmYrPvT5I0CirKMcp1IBVwvPc6noODrFR9EpPI5u0Qn0ik9hV25AYIOUl/0/v6Xwj3JcXBx5eXnjDl3j7dH/4z+nN1MoFKKiokJVVdV4L8lKKfUPKyX0KaXUF67y8nLkcjl5eXk/O9A8NjaWoqKicQe7n/LPBc4MDQ3x+PFj5HI5hYWFvHnz5u92bY+qGtnjFMBKM3fOeYWNAb7Tsvuss/XhjOeD35zg2draSkxMDHFxcSSXVLDb4xYrnbyZZ+/OXDsJ6vburHL25qDPHarbOvj2229JSUkhOzub4eFhhoaGeP369ZhevOiKapaKvZnhJGah0JOV7j6skvqyROzFDCcxc5zEnPIPpr+//+PAlu5eUgtr8I/OwSvyMcFx+WgFRbDO1Y8F16RouPiySRjAbKGECRJXJkhcUZUKmesjZa6PFDVvd6bJREyRCpnnNtL7p24kZqXZCPStNvNkiYkUNUMhsw2EqBuJOeQSisnNWCKyy2h+0YX4URZrZH6s9vBlkyyQde7+rJf6s9UriN3+ISwQyvg64BYaD3yZHuzGxnB/1oX7MeW2ExNCbzAl1IkpoU6Kat/EkLHgNy3IlSkBAr4KGEnwnBdux/woS9TDbVCPvMbsSHtmRNgxI8KWuZF2qEdbMj/KipV3XdF8eBfduGh23L7JjiA/rmZeRbvwJBcKT3C+8DhH886wP2cE/kZ9IOc8uxLNOBl/D0HJUYLqVnCzfjnB9cvwql2Nx/ttnqPw51G7BmntWnzrtnC3aQ/hTZt5+Owo6c+DedbbSHt7O4UVqUSWneZ+1WbuV3xNWNkRop+cIa5Rk+inu0htvUBN972fhb7W/lbsKq9iUn4Uu0o9rlUZfu9KA0zKdLAoP4uwRp+K7uwfPc/r16/p7O2mrKOOyo4GKjtCSG05SOKzrWS2nCOr9SJZbRd53HqRlJY9JLfsJKvJCrlcTnt7++8OEU09TUhqpOiV6qBbosml4hNcLDqJVqEmWoUn0C7Q5HLhSczydfAv8KC+vp5Xr/7YuX+f8uhg+vGGrvF2SUkJcrn8s8Jx7O3tUVFRoaWlZbyXZKWU+oeVEvqUUuoL1+DgIHV1dZ81fDwhIYH8/PxxB7ufcm9vL3K5nIaGhk8C4Wi/2ef+mX9Pvx5+g6F/OButPFhr68Nel2AOi26zy/kma219OCq5w830wl99/nfv3in6WFJTU+nr6+Pbb7/l6ctu3FOyOeB9m+2Smxz1u4fPozzaX/UqnpeamkpqaiovX77k9euP+7mGh4dxSX3EUrE3cwTuTHcSj9hRxFxnMd94B/L81auPnlf7rAPJ/QzMvKK54HyPMzfucNgphMV2Hsy1lbBDEsQeWQg7PYKZ4u7GBHdXJohdmezuxmwv9zHgN8ndlSliN9aYy1hmOrKVc6GxO/MMRcw2FDLLQMhsfSEL9MVoWHjxzY2bGAVG09bZzdGQ+6i5uLPM1YvFzjIWOnqw0MmDpS6erBL6sNLdh3VeARyQ30Y91J2l9zxZFebF5FAnJoU6MvW28/fQF3KDKSFOTApx/B78gpyYEDAyxH2Wr5Cvgz1ZEGmDutyShWG2rJRfZ1m0A+pyK9RjLFCPtWB+rAXLY63YkHCdr2MkLPGRsM/fG/9iX7SLTnKh6BgXik5woVCT0/manMg7zYn8U5wq0ORcwXG+jrbiYNRtrPPt8ahej3/dSgLqtxBQtxmv2g141K57P6dvtPKnQVD9OkIb1nOzfjsetadxrbHGq96Fhy13KO30I7HlOPHPjpNYr0tU5XnCik/yoEiTByVHCavdTELdRTpePv3JcJ7HHaVYlOtiXn4M+0r9sdBXZYhtpR4mZSdwqNKltqf4s7YBDw71k9tuQMKzjWS2nOFxq/YYZ7ZokfBsEymNJ5DHB3xWYuPnuH+wj7wXGQQ2CrGpvIR+mSaXS49yqfgIWkUn0Co6hXbRKbSKTqJVNAKBekWnscsxJCzqAXK5nLS0NMrLy2lvb2dwcJCBwQEKX1TgU3efG1U+CKr9iXiWRElnDfEtuUQ9y6Kgo5qBwYFfdc3R0dEUFRWNO3SNtwsKCoiJifmsY01MTFBRUfnJgehKKaXUT0sJfUop9YXrr3/962dDRXJyMjk5v0+/2R/lgYEB5HI5tbW1Yx5vaWlRVL86OjrG7fqKyirQEQVyUnqPPS7B7HQKYr9rCOe9wwl9VPyrxzW8efOGgoIC5HI5OTk5P1q1ffsD0H337h1v3rxRJLaOBlaUlZXR3t4+BgCHh4dJelKL9gM5KyTeLHKRsl4kwzkmnlc/UuGT3M/gossDjDzkuISmIrmfwR63YNSsxcy3cWetky97ZCFs8Qhk0nvomyRxY5LElekeIgX0zfWRMkUqZLLYjd12/hyyC2aNuScLjSXMMRQyx0CIuqGYRVfErDPy5KT4Htvs/Nl1PQjXhxls9gxkppOYBY5Slgo8We7mxRI3GQtcpMx3lLLQRcYKdx9s01JYH+7HjGAh825LmBzqyMTQG0wOdRrp3wt1HAHBW05MDvkeAicEOvJVgBNTfVzZIPFlu6s/C0McmBdpxbxoC9TlliyItkI91gL1OHPUY81ZHGPBingrlieYsyTagtXh15BmJJPXmclFBfQd50LhCc4WHOdc4XHOFx3jfOHIY0fSrnAwKpSLGSFYl+zBq2YttxpWcbN+PUF1GwisX4NvnQY+deuRPtmKrGYbAXU78KjZg7jmEu61Dghr7LCvMkDwxJJ7jUeIevY1me0GZD03Ieu5CZntxqQ0XSX2iTZhVbu4X7aXiFQ3kpKSKCkpUfTOffi+J7cVYlJqjmXFGWwrtT+CPvvKq5iUHeFapQG9Qx9/UPAp9w618Lj9LEktW8luv0R2uw5ZbTpktV0kq/Uij1u1SWneQ0LDXuSprrS2ttLf368IXPk17hvs5e4zH2480cei8hz6ZUe4UnqIK6UHuVx6EN2SY1wqPs2l4jNcKj6DdtFJtIo0uVxyGudqSwqacigtLSUlJUXxbysqLhqHbA+082w5mWfOkVwjDucasfuxCVszjNmdacW+LFuO5FzHoNiT3OeVv+iaBwcHkcvllJSUjDt0jbfz8vKIj/+8Qfe6urqoqKjw7bffjveSrJRS/7BSQp9SSn3h+iXQl56eTmZm5riD3U/59evXyOVyqqurFVAz2rOYlpamqH6Nl0djxCubWgjPLSfkUTHRhVW86Pn11zU4OEhGRgZyuZzy8vLPrmC+e/eO4eFhXr9+zeDgIC9fvqS6ulpxLrlcTmxsLPn5+TQ1NTEwMBLJ39HRQVRMLGFyOU+fPv3RG/X0olrMvKIx9JDj/uCRwjtcg1CzkbDA2p0VDp7skNxkq0eQAvomS9yYKHFFVfox9E2RuLHN3BtrtyiMBRFomMiYry9ipaGUtYYyll92Z7O5DxdkYZyTPmCtpTenJPdYJ/JjuqOIJa4y1KVSVL3cmOTtwiRvFyZ7uqIqdmOpyIvwsgoiaivYGO7PwttSJr6v5k18v8Vz1l1XFoaJUb0tGLO986tARyYEjgxmn+UjZKGbB+pOEub4O6D2wJq5EaMVPnPmx1iwOMqKpVE2LI+2ZZncimVx5mxJdiCmuYD0jgT0i7W4UKg54qLjnC96D32FJzibd4YLBcc5laXNyYRQvkmSsSHFBIOiw3jUbMe/bhNB9ZsJrN+Bb90xXKud0SkScLXkMhYVl5DVOiGqdcCqUh/jch1Myi9hVq6NT+1Owpu2KoDvh05uOUP8s+Pk1gTx6NGjMaMNsrOzqa+vp7e3l8znZZiVSjAv08Gm8hS2leexr7yCfaUedpUXsa7UxKj0NG5PhJ8FfG/evKFvqJWs9nMkNm8h5/mlMc5uv0RWmw6JT3chr9pBdLqIzs5ORSLohyMhfgk0JLVFcr36KuYVZ7hRrY9x2Rkulx7h8nvwu1J6GN2SEwrou1h8Cq0iTS4Vn8S20oia7irFubq7u6mtrcUly4cTj0zYn3mVExnGnHlkyY4MY9an6bM2TZ8N6YbszrRi+yNztj8yRzPXmZznFZ99zaMfepWVlY07dI23s7OzSUxM/KxjT506xb/+67/yl7/8ZbyXZKWU+oeVEvqUUuoL1y+BvszMTNLT08cd7H7Kb9++VYyceP36NTk5OcjlcvLz83+2Z/Hv4YaGBuRyOb29vb/L+bq7u0lMTPzFIyc+BL6hoaGPtuv19/fT2NhIbm4uMTExI1WKqCiSk5OJiooiLi6Ozs7On7xRD4zJ5YLzPQShqWOgb7cwmHm2EhbZSVliJ2Ojqz/feNxiuruICe6uTJSMeNoHlb453u5Mkroxw13E/iu+XLK6i6FzBGuNPVmi784GYy9WXHFnjb4H+28Ec0EWxgVZGDsdAkdSPF0DUXOSMFU6AnsTfAQKf+Uj4CtvAaqebpS2tvLmzRtqXnbgVpjJmggvptwe2eI5776QFZEerIj0QPW2MxNCR2BwarAAVR8Xpvm4MMVfwMQAZyZ5CZhzQ8xiJxnqThLU/K6xMNqCRXGmLImxZF3iNbYkXmdDtB1bYu05kOHC9oxrWJaGkvY8EdNSXXTyznMu+wLa+ec4m3+aU7mnOZV9gZOPtdAqOMHpbG12JLuyMt6WVUnmrEo25esMU87n6WJQpIdTpQs3qoK5VhmEdqEe9pWHED3Zh3nFMXRLjnGx+DjaxcfRLj6BTokmV0oP4VW7hcx2/U9CX0LLUVJaz9Hc+4g3b94wMDDA06dPKSgoGDPa4GFqLBbZ3mjlWWNXqY9dpTY2lacVAGhWro1ZmQWJrXmfDX3Dw0MUdliQ2LyFx+1nPgK/9KfnkNeuJqpiP83PK+jv7x+TCPqh+/r6frYK2DPwCkmdNaYVpxDUmOBWY45pxXl0S46iW3r4PfQd5HLpEUW172LxSbSLNdEpPoFNhSldP0jxbO/twLBEwOEcQ3QLHLiUY8/BdFM2pOmzLk2fDWn6bEzXZ/cjC07mOLE/y47tj8y5WiSj/zO3eo7OU62o+HxQ/L/qzMxMUlJSPuvYAwcO8J//+Z/89a9/He8lWSml/mGlhD6llPrC9be//e2zQSE7O5uUlJRxB6efg5nRkJbRbVVPnjz5u/fv/ZibmpqQy+W8evXbwlq+/XbsltXPHTnx7t073r59+6OBLT8WqNHa2qqIrP+5baCj9nmYxZkbdxHfzxgDfRd9Ilh8zYN5NhIW20rZ4OLPHlkIK6XeI9W+99A3QyZmro+U2V4SJkvdmOEpRjsiElOnSI7oBnDgih8r9aQsvCJmma6E1XoebLPw5az0gQL6dl0P5OtrAZxwuc08sTsTvEcgb6KXgIneAiZ6ufCV1wj0TfFx5Wpy9NiU0cEBzqU/YEGYmGl3nFG948yU2yMjHCaFOqJ+X8SyEA9UvVyY6uXCFO/3M/t8nZnu5sb861LUJG6ohVmzKN5sxHHmLI23YFW8JTsTHTifK0Mrz5NNabYcfCTE/NFddPIuoV1wklOZ2px8dJGTmRc5kanF0czznMw+w7n8kxx6rMvyeCs0kuz4Ot2RHRl2rE81Z32qFdsz7DiZ64ZteQCGJYa4VO/GvWYzluV70Ck5jFbxUXSKj6BbfAzdklNcLNZEq/goV0sPEdZ0jIy2K6S0nial9RTpbRdJb71M9LOdZD03ZeD1x+msw8PDdHR0UFFRQVpaGg5xXpxNvM6xFCsMciywLjHBpsIUk1JzdItuIKp+QMdAl+L5A697aO8vp72/jP7XL+kc6CGlrQLZkyRcK2ORPUkivtmH1NajJDZv5nH7WQXwpT09hfzJeqJqNlPcLvjo7+4PR0J86N7e3k8CYHV3KY5P9LGqvICw1gJhrQW2VbpcLj2ObsnhMdW+S8Wn0Ck+PQLPxce5VHwW0RPJR2CR0paDVqEtZwosMSp1wbBEwNeZpqxLM2BTmiGb0w1Zn6bH5jQD9idbcSjNlm3pphzKuvbZ1b6enh7kcjlVVVWfdfz/Zaenp5Oenv5Zx+7YsYP//d//5W9/+9t4L8lKKfUPKyX0KaXUF65fAn15eXkkJiaOOzj9nKOjo4mKilLMixvv6/nQo3PEurq6fvU5fiyw5XOBb7S69ylQ+5SHhkb6Y0b7BV+8ePFZ20BvJxai4xbG9ZtJY6DP5W4q65x8UbMWM89GwnoXP/bIQtguCWKGUDRS6XN3VYxumCx1Y6anhD33QkkqrSEoOhdDp3AuWd9lrb6MhVfFrDXyZKdtAGfd7yuA77zHA9ZZenNIEIKBZyTzPCVM8Pke9iZ6uTDJy4XJ3i5M9nRhkq8LK+9409T98gf9ZIP4VeWy+/+z955RUd3t+r9vz/q9Peu8POtJ1MTEdI0lsUeNPXYFEXvBjkgVFAFB+lRg6L2XoZeh9zr03hEVBOk8nv75v0AmElHRFOJ/zbXWtUycvYc94wx7f/Z9f687yYeVkUI+C7ZnUeADVoaLOZgYwKoAKZ+42rPIZari95HMln94PuATiQNfODqwxN+Sr2LMWJFkxMokY5YnmPB9ggkrk0zYkGaOVr6Ai0UurE+bCnXZHuTNqUwDLhaf4XzRKU7mXOBUziXO5V3mbMF5Lpae4GzReXZlGLM5zZJTeS6YVASgXeDIL9kWbM24zXqFMVszTTlbZIBD3WGkjT/jVL+LqxWaXCw/hk65psqXK7S4WnEanXItLlcc40HdL0S2/UBU248qR7atIbVLm6aB6Dl9Zh4P9OFaEcXNbCHaqZYcTb2LZqo5Ohn2WBR5U9JVQOezPNoGFRQ+EhLbeYGIdk0i2jUIbz+JS4M+BmXunMx3QyvPhZP5btwq9cO36TppXRqkdG4ltWsHSW3bkDeuJbZhB4U9BgyNPXzjzYuxsamRELMB4HQVcGRkhMonJdyv0+VurY4K+uwaDLlZeYorFce49lK173L5MS6Va3G5XItL5Se5UXGTrJ5X0zPjOjM4V3KHi6Xm6Cvt0S23ZXuWAZsy9NiRbcCObAM2Z95kW5Y+GlkWHE6/yy6FEbsURtimelJaWkp7eztDQ0OvhZenT5+qbnTNN3TNtxUKBTk5OXPaduPGjSxZskQNfWqp9Tukhj611Pqb612gr6ysjISEhHkHp7nAUHx8/GtnDs6nu7q6kMvl7z0Mfq6BLbO9Ny9f+L6tuqdaSzU0NGO94FzbQHNycohVFGDqFssVxwicQzNngJ+BZxwr7opZfk/MMksx31qIWG4lYaODO5tdvdgW4MNXblOpnVsCvLkRHceDyAxu+yWi7xXHbb9E7nglouMczg5zD7bckXHmJeA7Jwlnj5U3Oy29sApNwyo0lU9dHVnobs/n7k4skTnxqcyJz9yd+FzmzFI3Z5Z4OrE8QIK8seaV96GnfwDfjBL0guJY5+PKJz72LPcTszFUxurAKehb7GLHIld7PnKz5R9eD1gsseczT2uWhN5jaag5KxJMWJlsxPJ4Y1Yl3GZd6l1+SDFje8Z99mfbsS7lDuvlD7iaFIdBRgTXiwy4WnKBS6UnuVh8kitlpzCs1OFOtT7XSy34JcsG3VIvzCqDMKsMwlQZyMViKUfzbNmeac62zLvcq7qEZ/Mhgtq0sao5ysXyY1woP8bFV6z1otXzGHrKw4S3fk9E24oX/p7ItlXEd+6md7h0zi2ZYxPj1DxtI7w9E0lVJI6FgbilexBcoEuoUpPQmv34N23Bt3kDPs3rCWjdTmDLTjybNuHSsBWn2qPcrwzAviYeq8poLhf7cKFQhmejNYW9t0htPYa8ei8JtcepfeLB8PijOR/b26qALX2N2NbrY1x9God6YxX4Wdbqcl15gisVmi/aO49yqVyby+UnuVx+jgul+tjVBDAw8uzVytPDInRK73Gq+Db6SntuVvwKfduz9Nn+Avp2ZBtyqtCOU4V27Mu5w74sM0RZgao1lNPfr7q6Op48eTJjJMH0nNLGxsZ5h675dkpKCvn5+XPadsWKFSxbtmy+T8dqqfVBSw19aqn1N9e7QJ9SqSQ2NvZv0yr5sicmJlQJlHFxcX/blNGenh7kcvl7JYiOjIyoAKy6uvq9AlveBfj6+vpU6wVbW1vndBHd09NDRUUFKSkpREXHYOLkyylzT47f9UZfFMU9ryQMpbGcswnBWBaHUVAip30iOOQayFnfSHxyS+gdGGRiYoLHQ0P0DAwQlqPkTkAyFyQR3PZLxCokDWPfRC5IIjALSOK0KIz9Nn5sNHVll6UXu6282WTqxi5LL67Koml5+ISwgnI+c3fiIzc7PnNz4it3AV+5C1jq5sxnrk587SHkKx8hy/wlRDZUzQS+vgEeRKVzVhrOIYcANrnLWOLlwKee9nztKeBrLwFfejnzqZsDi13t+cjdln94PGCxxI7PAqxYEnaPzwMs+T7WjJVJRqxIMmZ1khmbFPdYlXybdalmrEs1ZW2iOZrxvhgpkjFSJGOQHs3NPEeuF+lxAewfnwAAIABJREFUPv8Slwqv4lzniLK/hPtV4RzIscVUGaiCPpWVbhhU6GOgPIljw37EjbsJa7uMUeUU8M0OfcfQefGnrvIoce17ie/YQVzHduI7dhHfsYPYjs3k9d5iYmJuFeLfenj8Cfm95sS1HyW8ZTuBjVvxblyLV9OPeDWuwaNhE5LaPTjU7ETasAm3xm1I6nWxr4nHviYeu+o4LhZ6YVQWQnhJKvJEb7IKInk28ua1pXMFwLGxmVVA3xYhZjXnuVdzGfs6IxwbTHBsMOFO9XVuKLW5ptREp+wcF0oMOVN8m8sljlhXB1LV1zwrWPQNP8VQ6YBG4S2ul1ujr7Rnf64JP2XqsTXrFluzpv48kHuHU0V2nCi0ZXuWEdoFNjQ+7WBoaIj29nZKS0tJTk5WVdlTUlIoKyujo6ODrp5uPOUhKGqKefisf97Baz6dlJQ0pyH1o6OjLF26lPXr18/36VgttT5oqaFPLbU+AM0VOqqrq5HL5fzzn+83VuDP8tDQEBkZGVOpmDU1pKWlkZ+fP+/HNZt7e3tVw6PfZb/+/n6Sk5OJjY2lvb19BtD1Pn1Gx+OnDI6MvRb4pi9w5gp8L68X7O3tfeeL6ImJCfr7+ymrqMJaFo6OpSfaZm5omcrQsfHnnnssCXlVjL2lxbS+s5cH4elckkYhiMlGGp+nslN0FhckEdwPU+AYk8l5aQQaDoEctQ/gtCgM+6hM2nr7KG7vRDcmnsVujqr1fB+72rPY1ZEvZAK+8RSx2t+FT72c+CHIlfKHXTOOwTu9mNOScM5Iw7kbmsKN0Fi+9xfzqa89n7s78pnMka+9BXzjI+RTdwf+4fWAj2S2LBU5sDTYiiUhFiwNuM+3IVZ8H3ebVUkm/JBqzJrU26xOMebHVBM2pVqwPtIR/dREFfRN21CRwNn4QDSj/YiomQJSYX0cGnmO6JV5zwC+u1UPsKzV5l7tQSxr92BTvxPb+h04NOznhlJjFujTfOFfgdCg8hhpXdoouk+onNaljbx9EyldR3g0PLfZer91TX8AiV1axHYeQtF9naDWbXg3r8OrcSOejevwaFyLpG4TNlXbsa3agVvDekR1v2BfHawCP7OKcI4pBJjFulNUVDTnFuX3gcDG/locG0y4XX2W29Vnsai5yr2aK5hUn8Go6gzGVVcxq5Ryp9Ibq+oA/FtSaOjveCNgxHQquFpmhWbhLc6V3OFE4V22Zt1iY8ZNfsq4yY4sA7QLbDheYMPunNvsy72DVXXArKDy+PFjamtryc7OJjpWjmWsF8fjHfkl3oYDqQ6cznVDWJtEy9M/flD9h+D4+HhKS0vnBH0fffQR27dvn+9TsVpqfdBSQ59aan0A+s///M85gcd06+TY2KtwMV9+9OgRiYmJxMfH09nZyX/8x997tMTjx4+Ry+V0d3fPeZ+uri7i4uJISkpStYU+f/6c/Pp2bCIzuCyL5oJrJNc95XikFdH5ZOC9AlumYa2hoUEV1DIwy8D19wHAhrYewpLzcQmKR+gVRnB4lKpNrb6+nqdPXw0HeTYygm1MBoecAjglDeN+uGIG9Enj87gTkIyhTzyp5Q08HnhGYUM7BXVtdDyaCgnJa2njkG8wP4pkfC4R8JHsRXKnqx0L3Rz43NOZNUFufOMnYqmPgJNJ4TPep+6+p5gGJXPYIQDzsFQswtO4F5bK3kBfvvUTstjHnoXudnzq6cBX/s4s9rXnUy8Hlkgd+dzRkc8CLVkSeo/P/S35OtiGFRG2rIm3YkPqPdan3mV18m22KO5zItWHLQFeGKQlvQJ9RopkzsRGoREZSlRtNZOTk6Q/rORyiYzj+c6qat+dKhGWtcexqtvLnZr9WNQcw7nhAHb1OzCv+YUbFUdmtHfqqNb2HUOnXEv19071x2cA37QTOneT0LmH1sHYd/4MjI4PkvXwFtHtu0jvuU5K9yX8Wzbj1bwOj8ZNuDduxKtpLe6NG3Co2Y5d1U5EdZsQ1GxFN90Eg3Qv7hQEcy1Nxr74B9jmhM75BsbvcfOzOmQtD7Cp1+Ne7WXu1VzGpk4P9yY7Gh7X0PS4g5pHzXT2P5zTSIiR0RHC2pPQrXjAuZI7aBcasTfXgK1Zt9iceYufswzZkW3M9iwjDuaZc7NMStfgozc+5/DoCILqRA5nCNiQZMGGhHtsSrBgbYI5WxPvcypdQkFTFcPDw/MOYn+V32Ve4ejoKP/2b//GoUOH5vtUrJZaH7TU0KeWWh+A5gp90zPmhoeH5x2enj9/TnNzM7GxsaSkpPD06VPVY9nZ2WRlZc37Mc7m6TU304D6ttdYV1enCmyZft+fP39OVEEVF1wj2W3tzXZLT/ZY+/DzPQ8O2QdwyyeOhq5HM4Dv5QvZ7v4BIkqq8MktJaasmkcDz1TVjbKyMuRyObm5uapAlj+jivJyG+jLaaBKpZKHDx8SV17Dac9w1lvL+M5MxCoLKRutZRwVBeEQnaWCPruIDK7JYojKr3zl5wyPjnE6JJKVAle2uvmw3zeQLz2ELHR34B/uU+MaPna3Z7GnA0t9BGwK86DsN1W+kqYOrnvJOecSgUV4msp3w1I4EOTPSn8xiz2mRjV87S/gxxAX9ob6oe0bxiahO0t9rPks7B5fh9qwMtyeHyId2RAjYH2MMz/I7Vght0YnOwi3kkIOhgdxLi7q1UpfWhL7wgK5GB9DcVcnk5OTDI4N86AmipMFQjTznbhSIuNSyU1O5Z/mVMEpjCu1cWg4h1vzKZwafuFezV5uKA9zpUKDi+VaXCjXmrGe7+IL6NMp1ySkVUsFesldx0nqPE5qtzbxHTuJ79xFxkNLErqdiO+2J+uRD23PKhifGHvjv3n/aBNp3ReJ7ThA5kM9Urp18GvZjFfTuhfA9xNeTevxaFqPoG4bjrV7kNRvxrn2Z65k3eZqgpTLcWK04xzRSHTAtSiOx48f/yXgNz4xTv1AJdmPksjqTaT+aRVDw0PvnAj6stsGuohsT0HWFIZnUwSujVEYKz3QLnzA8QIbdEqc8W1Opneo763QktZVyfFcF7YobDiWJeZQvB0nMyUcTxfzc9J9NiVYcCZOQGxcLPn5+TQ2NtLf///v1s/h4eE5zyscHR3l//2//8epU6fm+1SslloftNTQp5ZaH4DmCn2tra3I5fJ5D0j55z//OQNOxsZmVh7z8vJIT0+fd8CbzdPpei+3aM7myclJ1RrFwsLCGYEtNR296LhFsc3Ck9OSMG54ydH1juWaZwxH7APYY+2NaWASQ8MjMy6Kh0fHcE7NZb8kgM0Onmywc2eLoycHpYFIFXlkZecgl8spKyv709rmfuvpNtCX00CtvAP52dqFFeYiVpiLWXZHxMp7Er69MwV/e538cJZPtXpahaah6xFLbNGr4StpDU3s9PDjR5GMo/6hHPUPZb9fEMu9pHzi4cRCdwc+ktnzuZcz2glhlPZ0vvIcpc2dXPeSc9YlfAb0TdsoLJENIjfWubiyL9Af3eg47FOyMQ2PQ1MoY5eHmLXRjnwbY82KaFtWhNuxKtKe76Me8FWkFSsj7LmeGE1EZRVXE2PZEeTL5cTYX9f1pSVxPDqcX0ICsMhKZ/Slf5euoSc41MZwLEfK1zFWLAq3UPmzyHtoZN3GveU6oqbD3K/9BV3lYa5VHFYleP5a9ZsKcblYfgz9ykPEdxxC3q5BcNMh/Br249uwn4DG/YS1/kBo2wZ8W0/j2qyNS9NxPFvOE9xuSM4jP8YmXn+T4OloC2k9Osg79pP5UI/0Hl18m7YibViPsH4z4oatuDVuwLNpA8K6HdjV7MStcQP2NTs5ne3M9RQ3LsQJOZhsz6VkKV7yUORyOUlJSZSUlNDR0fHWmxSPRwYIbctF2pCIT3M6TQPdb/xcDo0PMzI++tYbGCMjI69NBH2XwfCjo6P0DvXRNfiIZyOvT+j8rc2VkWxPt0Mr14XT2a4cirfjTI4bFwu9uFDgyVaFDZqZIiLyU2fMU1QoFCiVSrq7u995cP3f3dOjK2pqat667dDQEAsWLODKlSvzfSpWS60PWmroU0utD0D/9V//NSdg+SPGDfxevxxmUllZOev6woKCAtLS0uYd8Gbz9MVIS0vLnF7jbIEtspRCDtj6oS0MQdc79ld7xXLdI4bd9705LQ6jsKHtpWrFBJaxCrY6erHMQsw6WxmbHTxZ+0DGMgsx6+9LueLiQ0NDwyvVk/HxCWraegjNqsAjqRB/RSlF9e0Mj765uvM+ftz/FE1JACvMRfxkJeEnSwkrzYSsvCNivaULy+6K+NHKlcue0ThHZ3HNLRqr0DQqW1+9gPcoKGGj1JNtMl8V9E17n18gm729WCoUssfX/7WQ+7B/ELPgZA45BHA3NOUV6DMOTOSIYyCmwUkEFpYjVORiGBzNRRdvTPxCiC5V4lyeznq5M99G2vBdtDXLYmxYLbfnp1ghJ+SBnAmIRJCei29FKZcS5OwK9mNPiD8Hw4PYHuTLgUhfLmS6YFYpxqpWgmtzICV9lYxPjBPfXsUnEVYsCrecAX3T3pJ8B4/mqzjWH0Cv8iDXlUfQVR5CV3mEqxWaXK04zk3lWW5WnsKgUhun+sOEt67Fr2EnstrduNXuwb12J/5NawhsXoVn00a8Wq4Q3mFKZMddAtv0cGs+SUDbTYqeRNDxrICGgQRaBtN5NtbLyPgoXUOP6BzqIfuhCdEdu1H0XCGm8yIO9buxqduO9Qs/qNuGY/02hHV7kDb8hLj+J26VHOfnWFuOxjmgkSHEsCyEsLYCBgYGaGpqIj8/n7i4uBmplvX19fT396s+x+MTE7g2JrEt04INClPWKW6zXmHK5vS7mCgD6B999uuNkfER4ruzMKp05nSxGaeL73CvxpWs3hLG3xJg83IYzNDQ0GtHQrytCvguHhh+xrkCD35Ks+ZCgSens104FG/H2dwp6LtY6MXBbCEHswREtRVPgWVvL1VVVap10NNpxwUFBTQ1NTEwMDDv0PZ73d/fP+fRFY8ePWLBggUYGhrO96lYLbU+aKmhTy21PgDNFfp+T/LkH+G+vj5VmElbW9trtysuLiY5OXneAW82Dw0NIZfLaWpqmvXx1wW2vGwj/0S2mLtzzTNmBvDd8JRz3TOG44JgDtn5E5JTobogLWxuZ5fQl+8tJewR+XFAGsgBaSB7Rb5sspbwzV0BO5y8qOueGdoyODyCV3IRxt4JnBWEoWUXzCnHUPQ8YhFEZ9P1+NW1eL/HyZX17BH4ssnWHS23EA6J/Flv6cL3pkK+NxWw7LYzX5g4s9xEyBZjN3bd8eS2byJPnw298lyehVPQ97PM5xXoO+QXzHYfX74UCDngF/jGNkG/zFLOuURwUhzKnZBfwe92UBIazkFc95KTWtHAyNgYCTl5iINDCUxMofPJ1Ly/6IpqzoaHcyTGlwMJHhxI8OBsUjCWijSEGXlcD4/jdmwKBS3tKFqasMrO4GpiLDoJcnQUfpwsMON0iRHHi29yrEiXkyX6XCm/i1ODDyvlji+Ab3boWxRuwbkCXazrj2JavRdd5WGuK49yXanBNaUmN5THuVl5HP2qk9jU6xPddgf/xh0ENK0hqGkN9jW70C09wtUSTYzL92NeoYWwVo+oznsqh7Xfxq1pP34t+4juOEVU+3Ei27UJbD2FS6M+VjUeWNb44NZoTnjbUQJaduPYsBfrul3cr9uhgr6p/96Bbd02pPU/Y1t1gC3xt9kst+Zyrif3q2KIbi9hZHzmzYaxsTG6urooLy+f0S6cmppKRUUFtuVhbEo344dUI9ammUyBX9ptfkg1Yr3ClMslMobHR3k2NoxljRtahcYcyNdlb9519uZd52D+TbSLbuPaFPZW8JutCvh72kDnCn2bX0Dfqaxp6JOpoO9QtpADWQKi2l5NshwcHKS5uZnCwkISEhJU7116ejqVlZX09PR8kFXA6bXTTU1Nb922paWFBQsWYGlpOd+nYrXU+qClhj611PoANFfoe/ToEXK5fF4Gnre1tREbG0tycjJ9fX1v3PbvPE9wOmCgoaHhlcc6OztfCWyZzQZ+CWwxd1e1db4MfDc85ZwQhnDQzp+g7F9TFm0SMlj7wI0tjl4q4Nsj8GaLjZStD1zYaCdjg507kvT8GS1uvmklXHGJ5phdIDfd5Zj5JWHgGcdJxxDOOIfhHJXN4PD7r/0bGx+noecRxc0dlLZ24qooYKu9J7ucfdGShaIlC+WwJJDNDzz43kzMV0bOfGbkxBcGTqy85szaG0KOWnhx3y+Bx/0zQ2dymlvZ7enPaqEbR/xCOOofymG/ENZ6y/jcw5lF7g58LLPnS28hl9PkKHtnb/d7PPAMB3kWF1wjOeTgj7YoBC1hCIcdArj2IjxncGiYgoKCWdtjPfKKOeUfgaMiB2FG3is2j0/jUlgMnqWF1PR183h4kOa+J2R31XCjworjxTc5U2LItXJzblRYolNmhlaRLnuzzFTAt/iFZ4O+FXG3uVe7j/t1e7hTcwy9ypPoVh7nuvIY15Sa6Cq1sa7Xp3GwBr/qEkzzLLGvPM3+nCtsTL/JOoXelNP12JSux+UiXYLazFTQF9Kmg1fzFryaNxDUuoeIdi28mvcga/wJYf0OrGtOcKnUjvMl1jjXncGxfjfWdTuxrduJbd0OHtRt40HdNmzqtnO/bifWdbtwqD6JRpQ9+yKE2BTHkvWwlt7ht99gmG4Xrq+vJzs7G7+4MDakmLA6xZANqbf5SXGHLel32ZJhzub0u/yQasSmdDPiu0rwaIlEs9CI/Xm6aBfd5nTxHU4X30GryJh9eTfQLjIhsTvnvT7n7zIY/l0ga3R0FNOKMLal26Kd58qpLCmH4u04lydTtXdOP1byaPZREtMeGRmhp6eHyspK0tPTVQCYkJBAYWEhzc3NDA4OzjvQzcXTKcmtra1v3bayspIFCxbg7Ow836ditdT6oKWGPrXU+gA0V+ibDiHp6Oj4yyDpn//8J0qlErlcTlZWFiMjI2/dZ3qe4HwD3mweHx9HLpdTV1en+ruXA1syMjLeGpTjHJfDXhtfTovDXgG+G55y9j3w5aQwlMyqJtVF5/WgWFZYSV9U+QLY6ejJFhsp2+zc2C/xZ6fAl9XWLphGpaj2ae5+zG3fRDRtA7kXmML9kDSVrYJTOe0Uiq5MTk5V83tdCNd19+KbU4ptfCZ3olIxj05DxyeKtdZu/OzgpYI+LVkou518WHFHwldGziw1ceZ7UzEnbQM4aePDDkMp+01duC32n5EGOjo+zsXwGH4Qytjk4sVB32CWe0pZ7O74myAXR77yFbI13IuSWdb1TYNfeJ6Se2Gp6PvFc90nFpOwJKKKq+gfGFS149bW1r5SNfTIK+Z0QAQOadmvAJ9jejZa8kDWR4jYleSKVpYPOvnBuNfn4tESztlSI86UGHGjwoqbyvvovfCNCgvWJpu8VOV7c7XvdvVe7tQcxqL2EnYN1ljUGmNWo4th1WWMqnSJ745jaGwUu6IsNBL82Zp+l7UKA9Yo9FmnMGSd4hZrFLf4UXGL9em3uK00JKrzHhEdpvi1/IJX8wa8mrcS2XGKgNbTiOoP4VS3F/emrbg17kfQ8ID7tX7cKDfBqnYf1nW7caz/BYf6X3hQtxfL6gPcqz6CZfURLGt+wajkGJphrkhKshgYff+bCi71iaxLu82aVGM2ptxmwwtvTDXlpzQzNihMWZNmzKUSN86VmLM37zoni804U3J3ho8XmXAgXxcDpdM7Vfv+iipgYkc5x3KlbFU84FiG6AX0uXOhwJMDWQJ2pNthXB7CyEtD3Ofi6RbagoIC4uPjVRCYkZFBVVUVvb29MwbD/53c3d2tOle9bdu8vDwWLFiAu7v7fJ+K1VLrg5Ya+tRS6wPQf//3f88JWKbXo7W2tv4lgDQ2NkZubq6qejLX+YBVVVXI5fK/5RD5yclJVcDA9P+/LrDldS5s6OCcNILtFp7ouEaqgO+6ZwzawhC2W3ii7xvPs5FfQyhuhSWw6r4LOwU+bLeXscVGyg4Hdw5IAzggDWSbszc/2rhiEatQ7RNXWMNFcQTXXaNnAN+0jX0S0LYPxj2x4L2AT5SSyzV/OTeD4rgXnYZZZAon3EP5wcqFZeZijroEoyULZb+rP6tsXfj6npBld0QsuyNmr70fpj5JmPokYegRzx4zTy45BhEV92uLWlpaGtHZuRzxDmS9xIMvRAI+dpsa2fCxmz2fuDvxna+YjaHufOcv5gsfAZrxIYy/odUzu6UV/eREDoYGcSQ8BK3IUK4G+WMVGIR3VjaS/AJ8y8vIbG2mf3iYyclJ4qvq0I2Mx1ie/ArwHUnwYUWEPd9E2bAhQcC2FAnrE53Zq3DlcL4hBwuuciTPgCN5hmjkG3Gm2IwbFVboKe+zKdXsBdS9Hfz0Kg+jX6WBYZU2xtWnsazTR9gowKHBAYMqA4LagxgcHcG2MJMdyfasUxiyVmHABoUxG9NN2JB+iw3pN1XwtyNLn/AOc0LadfBt2YZn80Z8WnYS1XEGt0YNHOr24dJ4FKe6Qxgoj3Kp7AIXy0y5UWGAadUB7tcdxKX5HK7N5xE2nsem9hSW1Se4q9TiXvUv3K04imdlCk+GX23bfRebV4WwJs2EjQozVXXvpzQzNqaasiHlNutfVAG3pd1FM9+AQ/l6rwDfmZK7nC6+w/48XU4Wm9I+1PO7oe+3ADg6OjqnKuBs0DI0MoxddRwaOWI2JluyKcGCPRkObFHYsCvDAZ1CLyqftP0uiBoZGaG7uxulUolCoVB9xxITEykuLqa1tZVnz57NO+xNe3r9eXd391u3TUlJYcGCBQQHB8/3qVgttT5oqaFPLbU+AM0V+qZjsF+3Hu2P9NOnT0lJSSE2Npbm5uZ3Arja2lrkcvmcAOqv9vPnz5HL5VRVVTEyMkJmZqYKAuf6GicmJ3FJyueEMISf73mwz8aXww4B7LTyYtd9by7JositbZ1xYRmQX8Ymew9WWojZYiNll5OnCvj2SwL4wcaVn528iK2oVe0Tll3BaadQjLzjZ4U+i6AUjtoEIIjOfqeL3LHxcXyyS7jmL+d+bDqyjEKVpWl5bLX35Pt7EpbbiPlaJGaxyImPBQ585OzAx04OfGUrRMclSgV9pj5JnLAL5pIwkoKa1lfSQD3Cwjnv7s1SNyc+ktmz2N2RpV4CVga4sCnMg01hHmwMdedzb2d+DHYjt7N11uOOb6hDMyqUDX6erPJ05UcvN76UOLNU5MSXUhHfukj4xkXMt64SfvSUcSomAn9lOc2PnmCbksXpgAjM49MQpOcizMjjYlI4q6Ic+TrChq2xUi7mBaGTH8y53EDWJTixM/s6e/Mu80u2Hnuz9fglW48DOfpo5htzrdySvVmmr4G+mfC3Is4I/apjGFWdwKDqOLeqNDCsPoFF3S3sGuwwrDIkpCOEiYkJXCryWZdmwo8KfRXwTUGfARvS9diQrscaxS02pOvjUGdGUNtpvJt/wqN5E/6t+4hsv4ik4TBOdQcwVJ5Aq+gcmkVnOVp4nqOFOmgU6nCs6Cz6yqNImi4ga7mErOUSbs2XcKo9g1X5MaxqfkHUcJaBsSe/G6isayJU6/i2ZJjPdPpdNqaZsTrViG0pZhzKvsn+7Bto5RhyIt+EU0UzK34H8m9youg2TYPtfyj0/RYA36cKODgyREBzDmcypOyOt0YjW8zpfBk2VXJq+t5e7XpX9/f309jYOCNIZ7obo6amhkePHs1rFXA6abq3t/et20ZFRbFgwQLi4uLm+1SslloftNTQp5ZaH4DmCn1jY2OqRLQ/E4ym17YlJia+V2jM33GI/MuOjY2lqKiI5ORk4uLi3qld9vnz51Nx8sMjhGSXo+cdyylRGNqCEM67RHAvNJWSxo5XLiYbOzrZZuvKd3cFrLVxZa/YnwPSQH4R+bPOVsZqaxe0PEJnrM/7syp99T2PsI3P5GZQ3Azgm7Z1bDorbKUsFDjykdCBfwgd+IfghYUOLBY68ZOLJybeiSroO+0YygVBOLnVLTN+1vDwMK2trWTk5bLcy5mF7vZ87e7I1+7OfOUh4BsvESv9pKwPcWeZv4Rl/hK8KkteOebWvj60osNY5eXGnpAANEID2SKT8o3ImcUiJz4SOfCxyJHPxM5Tlgj4wkXI/tBABIV5ZDY0Y52cwcXgGM4GRqITGsOPYQK+jrRhs1zEiUx/dPKD0ckPRjvLjzWxTvycOQV9h/P00cgz4kieIftzbrEv+xZaBSZo5OvxWaT5FOCFveTfQN/hnEvoV2ljUn0Gk+ozGFed4laVBsbVpzCtNsKi1oKcx1Nr1eJaKlmnMObHNH02KExegj5jVbVvrUKP9em3MFbq49V8CI/mDfg0/0xUx2kiO3SQNBzGUHkMraJzHCk8j2bRWY4VnUez8ApHC3U4UnieY0VnuF97TgV94rqzOFQcx6FaE/v6w4R0mFPWV0H2o1zyHxfycPjhe0FUWo+STelm/JhmzOYXa/le9rq026xX3OZOZQDHC4zZm3sdzWx9NLNeONuA43nGaBeYsDfvOmdLzHk6OvinQd+7VgF/OxKiRFmONDaQ3K5aWp4+/EsAa3h4mM7OTsrLy0lLS1MB4PQ4jba2NoaG5j6C4o/w9EzZx48fv3VbPz8/FixYQGZm5nyfitVS64OWGvrUUusD0P/8z//MCTj++c9/qsYI/Bkw9Pz5c6qrq1XrRoaGht7ref5OQ+RfB33TF0VvC6X57fs/PXB9bGyMiYkJBodHKGnsILe2ldqOh7OmUE5DtCgkgn1iP9bbTo1pWG4pYbmlmA127mi4BVPRPjPIpLnnzWv6Tk2v6fsNaL1y4ToxQX5LOx55xbjlFuGWXcjt8CTuRafNCn0uiny+lIj4WOTIIpEji0VOLBQ4stDZkU9ETnwscmSJ2Jnj7qGY+iRx2zuRQ5Z+6LrKqe/onfUYno4Msz7EnYXu9nzm5sgnLg4sltqzWGrPpy4OLJU58aUdl1M1AAAgAElEQVS34LXQ51lWwrZAX7YH+XI0JIBd7i6sdBHzhUTIJ+Ip6FskdmKZTMoaDxnfukj41kXCdzIJWtFhFHa2U9nVg19hGbYpWRglJLBJLmJ1rAOnswNUwKeTH8yuFDeWRzuwPsWYPblXOZB3jaN5hmjkGaGRZ8Te7FscytVnf94VNqbcmgl8KvCbAr71iYboKU+hV3Ucg6oTGL8Av6mK3zFuVV1A1CSif7SfyclJup71sTF9qtK3Js2QdWnGrFMYszbNiHUKIzak67Puxbo+Q+UVfFvP4Nuyk4CWHSR2Xieu8yrihqOcKD7DkcLzaBWdQbv4DMeLLqJVdA2tomscKTzP0cLz6JSdRNp0DlHtGewrtLCt1sC6bh82dRpY1hhiWWPL3RorLGpscGoQE9UpZ3Ds3YBrdHyMY/lOrEkzYU2aCT+l31G1ea5TTCV4/pxxj6aBbm5XiTiYfxONQkNOF5lxIt8ErVwjNLJusT/7Bgeyb2CeK6KxsZGBgYF3Oo4/CgCnIet1VcDy8nLkcvlfDlkvu6+vj/r6enJzc2eM08jOzqa2tpbHjx//6VXA6Rt/cxlC7+rqyoIFCygpKZnvU7Faan3QUkOfWmp9AJor9D1//pzY2FiUSuUfDkLj4+Pk5+cjl8spLi5mcnLyvZ/r7zJEfrb3b7r1NCEhYc5Q+vz58xnANz4+/sYRA9OemJhQBcQoFAoGBwdpfPgYp5QcjrgFsU/ij6YsBLEin7bHfbPu75dWwlWXaI7ZBnJTJsfULxF9zzhOOIZwVjCV3vnsDemdtT29nA+O5mepN2ucZfzo7MYqB1eW2UjY7uCNjkcUpmHJiFPzVNB3MyaeT8ROLBI7sdrLjVVebnzjKmaJ0JlPBc58KnJiociRNS5umPokcd45nCP3/XGIyHzt+zIxMcH2EG8Wujuw2NWRpe4CvvQQsFTmxKeuDiyS2vGRzI5vPJ3wz0ilra1txrBvw7QkVnu5sTfAm10eruzwcmeFzIUlYgGLxVPHs0jsxFeuYtZ4uvOjh4wvJSK+l7mwJcAbx/xc1XP1DgxS1NWGVqYPW5JFM4BPJz+YjQkivo60ZUWsNTuzbnIg7xoH869xJE+PI3n6HMi9wb68K+zJvsHamDtsCpfxTbjDjNbOpZF32Z1xhStFFzCtuoJx9Rn0q7TRq9RCr+o4epWa6FVpYF6rS/XT6hnv1aUSKWsVhqxTGLFeYcx6hfGLVk8jNqcbs0ahz5ZMY5J6AqjuV5DWY0pY2yHC24+Q0HUZu7rTaBad42jhObSLT3O8+CxaRVfQKrrG0cLLHC28xJHCC2gVncey5gD3a/ZiVbsHy9p93K05yM2KE5wovsS5kpvoK+9iXmONntIY8xprAttDGBl/t2CX+qedHMyxZb3ClB9SjVj9wuvSbrM1w5yk7jImJyep6K/jTPEdDuTrciD/JpqFhmgUGrI/7wYH825yNu8OYSlRM9aMKpVKHj58+No5j382BL7cBvr06VOysrKIjY1lYGDgnQbD/1keHh6mo6ODsrKyGeM0kpOTKS0tpb29/U8B1JqaGtU54G3bOjg4sGDBAurr6+f7VKyWWh+01NCnllofgOYKff/xH/9BQkICZWVlfygMDQ4OqtqCGhoafncAy99hiPxvPTk5SVFREXK5nLi4OAoLC+cMfC/f5Z/rxeX4+DilpaXI5XLy8vIYHR2d+fiLKuGbQksmJyd5NjyCd2oxxt4JnBOEc9w+mNNOodzyiEMQnU33k9fH6Lc87uOIdzArHVxYZidhrcCd7+2kLL0v4FNLJ5bcc2adpSv77f04JQ3DPj4TWUYhB/0DWSR2YonEme9kU9Wy5e5SvpAI+VTozGLnqbbPJUJnDt/347CVP0ae8dS0vT5go29wCE3/YBa7OfCxuz1LPZz5ylPIV55CvvQQsEg2Nb5hradk1mHf1xPkLHMTsd3dhQP+3uwPCWSZm5TPJAIWvQDURWJHFfSt8XTna6mYVTJXVnm6oZ+aNON4hsdHuV4YzoZEZ87k+s+Avg3xIr6KfMDXMTZsSLRFI9eUI/m3OJR/g4P51zmQd4M9WbpsTrjLqgAXNoV4sjvSj20R3vwU4c6WCA9OZl/larkmV0rOcb/2FvYNtzCvvYRx9RmMqk9jWHUC4+oThHbKXnmvUnvK2JppOhXkkm7ExnR9NqRPVffWKG6xPl2f62V2jE5MwVffaCtpPUZEtmsR1Lobm9ojHCs6i0bhWbSKzqJZdBGNwiscKbyERuEVjhdfR7PoMtqFl7lfcharag3MazQwUJ7iSpkOJ4ovc7L4JlqFN7lQaoJZtS2iRhcMK82wrnOgtK/8N5/lcRoHq4jrCSSoQ0xopysFT9IYGOtXbdM91Ie0IZEDObZsybjLjkxLLKvCqO6fuT6v5Ek1uhV2HC8y4WiBARoFBpwouo1plYjmwQ4mJiZ48uQJtbW1ZGVlESqPxCnem/tJHrjkhpNbX8qzZ89e+zn8szw6Oqq6aaZUKv+SwfDv6tHRUZ48eUJdXR05OTmqjoeXv2d9fX1/SBWwsrJS1e3xtm3Nzc1ZsGABPT09830qVkutD1pq6FNLrQ9A//u//ztneElOTqaoqOgPg6Genh7i4+NJSEjg4cOHf8hzdnV1IZfL3zjr7q/0bwNbUlJS5gR9vwW+uVT3Jien1rFlZ2cjl8upqKj43VWI8fEJatsfEpZdgWdyEYHpZZQ0dDAyOvbG/WxSM/nRWcYPTm7sdvNjrZOMZQ8kfGMt5gsrIUssnfnGUsQ2Kw+23/fipDQUi+g0Nrl4sFA41dr5idCZT4TOLBE5s1Qi5AuJkM9EzirouyaNxjY0narWNycq5ta1csEjktVuLnzu4cxCdwcWuTuw2H0KAj/xcGSJqxOXA6MZejGvrKKiQlWduOznzSoXIZs8XDgWHsyB0ECWu0lZIp6CvoViRxaLnfjOTToFfR4yvpKIWCVz5QdvGUaK5FeOKai5mIMZHmxJFnE299cWz62JEr6Isua7mAfsTnLnVnYsl3K8OJ3rwKlcW/anPeCnaDHrQmX8HObNKn9XtoR6sTvST+X9SWboFGtzo/wEzo3GCJqm7NxohEODPmY1p7FruEndQMUrxzUxMYGsKZHNmSasVejz44tRDVPAp8cvOVdxbLhMXLcrYxNTNxMGxx5S2R9MSrc+bk06HC++gEbhBbSKLqNZdBXNoqscK7rGyWJdzpfoc7RAh5N51wkujce4wp0zhY4YKcVcKDXgXMlNrpSZcbHUBK3Cm1wuM8WpQYJ9vTOGVWYEtoeojnVkfISYbh+cG42wqrvM3dpz3Ku9gG2DLq4tFjQ9q3nltQ2Pj77xZsfYxBgFj5WEd6QQ2ZlGZX/DK9+9iYkJkrtLMa3w41yeAM0Ma46kWnEy+QH6iSLi05Opqanh8ePHs35vH408peRJA8VP6ukd7n/tsczFY2NTYwemR4ZM/874swfD/14PDQ3R3t5OaWkpycnJqipgamoq5eXldHZ2zgnaZnNFRQVyuXxOAGlgYMCCBQt49uzZfJ+K1VLrg5Ya+tRS6wPQu0CfQqEgPz//d4PQ8+fPVesuFAoFz549+8Mg6+HDh6rktvkGvr6+vlcCW+byHk4HtkxfmMwV+J4+fUpqaiqxsbE0NTX9rovJ3+P+oWF+cffnmwdidrn5st3Fh5V2LnxzX8wqe1dW2kr5zMqZL6yEbLwvY91dVzbck6EpDmKjo7sqxGWx0JFPhE4sEjiyWODEZ2IBX7qI+ETizP7AQCpbuhkff/t7k1bZyFlZBGfdIzjkH8j3XhKWegr43MOZLz2FbPH1YqezN4ZBCfQ/G1btNzg4SGpqKuLwULZ5uPKNVMBWmZSdHq4sl4r5VOTMIpEjH4kc+FTizGoPN9Z4urNK5spXEjEr3F3YFeyHR1kRud0txLfWUPSwnfGJCQZGhzEvj+dAujvrE53ZniphZ6qU1XH2fBtjy3dR9lxMj0A/O0Hls6kRbI3yYm+sP/vk/mjGhbA93IcfA9xY7e/KmkAZq/xd+THEmXMF59Cv1MaiTgfHRn0ETcbYN+hNgVHdBbxa7RibmB3cxyfGeVBrzqH8q2zK0GNjhj57c/W5pTRA2nwT23otpM1XqXya/Zv9xngy2s31CjM0ii5xpkSPs6W3OFt6iwtlBlwsNeR4wVU08y9hWeaET3Ma54rEmFT4Yah05lzpTS6WGnKlzIwrZWacLjbgbIkhd6vtEDe6oqs0RNr0a3Uy6WEodg163Kk9i33DLURNpjg3GnO/7grmtedxablH70j3O39+3+bk7lJulXtyJO8BZ4sEXC9zQ6dYwuEca45n2WKgkBIhj5oRaNLR0UHXwCOkjbGcLxaiVWCHVoEd54oFiBpi6Bl+tcX6bR4dHSUnJ0fVJTHrv+U7DIafLwAcHR3l8ePH1NTUqFpUp7si8vLyaGhomNP6vGmXlJQQHx8/p20vX77MggUL+M///M/5PhWrpdYHLTX0qaXWB6B3gb7MzExycnJ+FwhNTEyoWh0LCgoYHx//Q0Hr0aNHyOVyenp65hX4pgNUkpOTZwS2ZGRkkJub+9r9ZgtsmcsFYE9PDwkJCSQkJNDT88fOEntXN/Q+4mcXH763l/KLuz8bhR4ss5Gw/IGU1faurLZ35WsbEV9bi9jj7MthpwC2Wnqwz96PXbbefC4QTK2TEzmxROTMZ2IBnwidWCh05GORI8s9XIhvqJvz8RQ1tXPFKwYtSQhmYSmYhCZxOTgGnaBoboXEYxScyF4HX+6GpzA6NlUZ/S2wi4vy2RcawPfuEn5wl/CtRMBi4RScfixy4DOxM6tlrqyUufKFWMi3rhKWe0jZGuHJikghC4Ns+DjIhoVBNmyKdSOiWUn/yBB2lansSZWxKVHEliQxxzK9OZ4RwNHEQLZEeXIwPpBjiSHslvuyLdqbKxlyXCoKuJgWzZG4YC6lxnBIHsT2cB9+DvNmR7gP60PcOZ/uhk2dAVZ1l7ldcxKTam1Ma05jXX8VWcv9N8JQ02AFLs3XsGvQxr1ZH/cWAzxbDVWefiyi02HW/WO6kjhbegvNokucLL7B+VJ9zpbocazgMkcLdDhbrEfV0zoE9XK08h2xqQ7HSCnkfKkeF0r1VdB3vsSYk8X6mFRZI2yUclNphHuLN5OTkzwZ7UXUbIpZ7RlETaZIm81n2Lr+Gjb110jrjfpDP9t9o4OYVQZwJO8B+hWe3K0KUNms0o/jBQ5cLXUlpb2EpqYm1ViDYHkEp1Ns2JN+h58zTNibfY99uRZszzLlYJ4VehXu7wR+IyMjqor+u9zg+RCqgM+ePaOtrY3i4mKSkpJmrKOsqKigq6vrjcdXVFREUlLSnH7WyZMn+Zd/+Rf+93//d75PxWqp9UFLDX1qqfUB6P/+7//mDDI5OTlkZma+NwgNDQ2Rnp6uakX6Mwao9/X1IZfL6ezsnBfYezmwJTMz85XAlqysLLKysmbd730CWyYnJ2lubiY2NpbU1FT6+39fu9gf4bYnfWx39eVbOwl7ZH5sEHjwnY2YFba/Qt9X1iKW2Uq44ifHMiyNQw7+7LLxZquVB8fcg1kqFrLwRRVtoWgK9j4SOvCJyImbSQkzWvTqHvZikJjETz6erPZwY7u/Dw652XQ+nVpz+GxklHsRqexz8OOmfxxmYSkqm4Ymc8IljFOuYUQUVjI5OalqO54eGzI5OTVfMLCygvNx0ewLC2RnkB+r3F35RiLkU4EjiwQOLBRMVSc/FTvxvUzK2jBXPg604R+B1vwj0JqPXvz5j0BrFgbZoJ0eyImsAHYku7IhQcSWRAmaGb44VqbjWVWMblY8J5LD0EoK5VxaJHfzU8ntauXZ6CjWhRkciQvmSFwwuhnx3MyI51xKFPvkARxLCMWxJIeHQ12k9UYja7mPqNkMrzY78h4nMzj25vTJwifxCBrPI2rSmQF70/ZoMcCmXhP3Fn3V2r4ZYDExjn9bBOdL9TnxYg2fRoEOWvlXuFBiQPajQiYnJ5E0xHOiwBmLqhDMq7zRKTXmTMl1LpeacqXMjHMlRpwqNuB2lQ0WNTbcqbEiqSdlCuSfpGPboIt1/bVXgE/abI6oyQyzmjO4tVjN+Xs0F2c+rORKqQtni4QzgG/a+uWeHMu3R1Afo9pnbGwMgTKCvZnmbFeYcCj1HkdSLdBQWKGVacOerLsczLNC3CCfM/BNt4y3tLw5PfdtAPh7BsP/VVXA3t5eqqurVa9ZLpcTHx9Pfn4+jY2NPH36dMY++fn5pKSkzOn5Dx48yL/+67+qoU8ttX6n1NCnllofgN4F+goKCkhLS3svGHr06BGJiYnEx8fT1dX1p0HXwMAAcrmctra2vxz4Xq5iFhUVzTogfjZwft/AlomJCZRKJXK5nOzsbIaHh9/7AvCP9MTEBBdDYlhuL2WLxItNQk+WPZCw/IGE1faurLRz4fP7An5wcMMiIg3ToCSOOgayw9qLvXa+3PCRc9IzjDUubiwRO/PpC38uELBF7Elx86+zCEPLlayUufKZRKCCw0UiR5ZKhWz286K8u4vJyUlSKxu44RfLXkc/TrmGc8M3liveMWiIgjgqDMQ8IpXuvgFaW1tVAP306atBNYOjI+S2t5LS1EBeextJtfWYJKSw08eHla5SVrtK+MlNwhFfNxXkfRxozaKgBywKesDCQBsVCH4UaM1quTN7Uz04mu7DL6nurI0XsD/NE4dKBY+GBsnubCGtvZGy3i5GX3wuhsdHSOosQzcvBO1UP/bE+LExzIONYR7skwdgnJ1E9+D7jxUoepKAoPE8wqaLb4A+DTxa9FXr+mZz42ALrnW+3My+g172XfwbwukdeaR6PKGrhOul7lwvdcemOhzd8vucK7nJ2RJddEpN0C7S43yJMSZVFtyqNEHQKKFreKpCmf0oAev6a9g36M0KfdJmc8xqziBuvvPGY3xXR3fkc7ZIyPUyt1mh706lPwfzrDGvClLt83T0GTolYrZnmXK22Jlzhc6czLHjWMZ9jqZacCj1HpsVRhzLsKa0vvKNYTDDw8NkZGSofsf9Ua9r+nfP370KODg4SEtLC0VFRSQmJqogUKFQoFQq6e7uJjs7G4VCMafn27FjB//+7//O//3f/833qVgttT5oqaFPLbU+AL0L9BUXF5OcnPzOla+mpibVhfTAwMCfCl5DQ0PI5XKam5v/UuAbHh5W3Yl+UxUzPz8fhULxWuCba1Xi5cS+kpKSeYmNf5NjK2vZKvXmG1sx64XurLCV8pWVkGUPJCy9L+C7BxKOyoKxiUrnjDScS+5RHHEKZPcDb274yFW+4BWJtmcIJz3D2GPnzWmXMCrbpi78i1o7WCVzZZHIiU/ETnztIuY7VwlfSIQsFjnxicSZ7QG+9A8PMzExQUJZLUbBiZyTRaApCkZLEsxV7xiso9Np7HmkGnExXaGd62udmJjg2egofUNDdA0M8LC/n4upwXz0Auw+fuGFgTZTDvq1+rcxVsr5nBCVT2UFsi5eyPFMPyqfdM34OWMT44S0Z3C+2JHD+RYcyDVnZ6YZW1LN2RQjYFOoB/uiA9BVxCEqzaNr8PXpqm9y27NqXJtvYNtwHI/ftHZ6thoibb6KfcMJoroEqn0ejTwivice50Zn7Brs8Gz1JKsti7j4ONVMyt/+nJ7hPu5Xh3GqUIBuqQfmlX5cK7vHuZJbHC++zPHiS5wtuYZptQWCRgnl/UrVviV9Wdg13OR+/dVZgU/YZMqd2jN4tNr8oZW+hK5izheLuVQinRX6bit9OZxng3VNqGqf6qdtaBfa80vOPS6UiGb4fLGA03kO7MowY1/aXaRx/sjlctLT06mqqqK3t1f13R4aGkKhUBAbG0tHR8cf9ppeB4EjIyNzHgw/X1XAhw8fUlVVpQLhaSckJNDU1MTAwMAbn2P9+vV8/vnnauhTS63fKTX0qaXWB6K5gk1ZWRkJCQlz3n5ycnLG6ICxsbE/Hb5GRkaQy+U0Njb+ZcD38vqvt7WVFhYWkpqaqgK+iYmJdwa+wcFBVZtsXV3dH3pR+0d5YmICYWYe21x8WOnoytL7ApZYOfOZpTPf2Ij5WeCFnk8sJ8WhXHSLQpyQi0FAAtusPLkoi5wBfjd85FzyiGKrlQd6fnE8Gx5hYmKCGzHxLBE784nYiWWuEpa7SVnuJmWZq5SlYgELhY58LhHiXlKsOq7ep4MEF1RwIyKOo77BnAgOxyJNgXdqGlExMeTn5zM29uZk0rl4S5xsqo3zBeRNVfim4O/lNs9lEY6czwmeAX77/z/2zju6rTpN/2ZmZ3Zmz57fzOzszu7ZPXNmBgiQkEIZWmgJJISQSiAhkN4T0oCEFBIIqU5zb3LvvUmWLMmW5Sb3Hvfee7ekwPTP749EGhs7tuw4cQz3Oec5Jxjfq6ti3fu53/d93lg33lE4ISr653w/nV6HbWk46zTnWJJwnGWJX/BOwhe8of6cBaqjLFJ9wRaVm7HHb5M0iCtpCbT19U7gvdMRVHeF66VbsSrbiUvl50bgc6r4hMslG3CsOExCcwzBVZlcKPBlX/an7Mnez+7sPezO3s2+7H3sT9vPWc1ZWjpa7vhYue2VXLwRzMFMEZtSLdmYeo3NqV+zM+MLDuV8hWWpPdIGObW9dUO26xxow77iK74s3IFN2akhwGdffoaLxQe4XHKY+BbJpH6uy7sbOJbrwYcpV/gy33sY9O3NtGN3hi0hNUnGbQo7q9lyB+gzeHXyOTalXiWhOocbN24MgRiZTEZqaqqxv62urm5Sn9NYNmUw/FSPhNBqtXR1dVFRUYFUKjWGwYjFYtRqNQUFBTQ1NQ1L9PzjH//Ic889N9Wn4BGl1+vx9fVl7dq1zJgxg5/97Gf84he/4LXXXiMgIGCqD0+QoCESoE+QoGkiU+HGMP/IlF68/v5+EhISEIvF5Ofn880339wXANPpdEYYuh+PV1tbO2Jgy51sWC2daGBLa2srcrncGDAy2Rd47b29lDW3UtvecdcwqdfrSSir5IRYwUpnH16zcuFNKzfet/Vlm30we0XhnPKTI1Km0tLZTWTGDbbYB/H2RTd2OoVw2COSwx6R7BKF8M4ldzbZBhKYfGvMQENHF0vcPXjU1pK5jra3YE/kwBx721vz/KwtedjqOg/bXGe+kwiXxHS6+/tJq6lhZ2g4yz29edXJmfkOIl62dWCxnQOHAoPp6B0/JI3ktwZBn6G081H/yzzibz4E+uYGXGFNuC3rpSI2x3iyK9GfTfE+vCGz43JujHF/aa1FrE85z5KE43yYcp5NqeYsi/+KhbEnWRx3gjfUn7NcfYYvk+V8nRzLRmkQuxXhSMtND7wZ7Ma+SjyrT2FZtgPzko+4XrqVq6WbjMmdonILjmeFslXjwKb0fWzJ3M7WzF3syPqY/VmH2Je2j52ZOzmcexifGp9RH6uut5WI2lSuFYVz6UYwNiUSYhtyaevvHPUzGNccyfWyz/mqaAeXSz7FquwkFqXHOFe8j3PFe3GuvEj7wJ2Bc6KfaacyGbsybNicep3Pc934Kt+HU3le7M2058OUK5zK86amp9m4Tbe2l/1Z9ixNOM2OdKthwLczw5qlCafZm2lL+0C3cbve3l4qKyuNIxkMTkhIoKioiPb29im54fOgh8EolUo0Gg2NjY3k5+cbb5AZAFqj0WBhYUF5eTkzZ85k4cKFU30KHlEKhQIzMzN+/etfs27dOk6cOMH27dv55S9/iZmZGR9//PFUH6IgQUYJ0CdI0DTRn//8Z5MAp7CwELH4VtjAaL/X1tZmXPmqqam5bytuf/rTrfRLsVjMjRs37unjfPvtt8bXIz4+nv7+fpO2y8rKIjo6ekKBLTU1NURF3SqXa21tndQLubLmVq4oE1jn4s8qJx/WiHz5LERKTFHZhC4sewcGUBeWYyFL5FSwgq9DY/BJyia1tBppVhGByblEpBVwo6YR7e3ytQGtFnu5hm0OwSwzd2fJRVfevujGO5fc2WIfhEVUIr39t/qzKppaWejqyqO2ljztZMcfbwPfYzaWPGJ1a8TDI1bX+YPNdZ60smaDWxDnZCq2h4TxqpMLb7t58pFfAKudXVlka89Ldg6s8PTmWkLihF6/9v5eIirzsStIQlSYwjZ10O3SzqHQ96j/5SHhLgsibPkgSsS7YbasDrXh3TAblkXasFBizen0cJzL5RzKcmZV0tcsiv+c5Umn2JRqzjrNBZbEnWaR6hTvxH/FIvVxlqi/YF+iF2c1Kr5IVPBuhA/mafGjzqUbzc39tSia3HGp/BzHisM4VXyCf80Fgmv8OZIRyBq1IzvSz7A9aw/bs/awLWM/G9P2siV1Lx+nH+J4/nF2Z+/meMFxGvvGTpTV6/Vo9Trjv1v7emjp6zH+7LvW6rUomkKwKT+Feckhzhbv5Xzxx1wvO4pb1WXqeicecjKa2/q7sCyO4GCWEx+lXGWt5hLrNObsyrDlVJ43GW3Dxyd4VcawPsWcFUlfDwG/HelWrEz6mnWaSziXy4Zt19XVhVKpRCKRUFJSQl5eHrGxsUaIUSgUZGdnU1dXx8DA5PUummpTR0LcTwiUy+Wkp6cP+VlnZydlZWWkpKRw+fJlzMzMeOihh/jd737HY489RnZ29gMX5pKfn4+vr++wcRLt7e387ne/w8zMjMzMzCk6OkGChkqAPkGCpolMhT7DbL3RyjQNQRimrnzdCxgzrC7eq8f4bmDLzZujQ/DgY8vOzkYikVBRUTFqYMN3L4YNgKlWq03ezlTn1zWywSOIBZYuPHfZnpeviXj+sgPzrzqxyskHd03m+ACopxcLWSJ73cJZY+XD8muerLjmySbHII75y9CUVt1x2wGtjpi8Us6FxrLfNYL9rhF8HRyDPKd4yED4hvZOVnh6M8PWktkONjzjZM/jNlY8YmXB4zaWt/5tbcEjNha8LnLhbWsPljh5sFDkyjvuXmwNDOZdkQsrHUVs8BPVN+UAACAASURBVPFnS1AoLzuK2BQYTEVb27ieb3hlPutivHkzyomXI215VWzHQonjoCAXc+OK3yN+/1zp+4PfJTarfW6XdQawVeXNepkz80Ov8kbkRd5RnGFp7Fe8oTrFgrijLFB/xhvqo7yT8AVrks7yluoUb8Wd5p34W2MAFqmPsznBjrMaFWc1KtZE+HI6SUn3wPCEzfG4S9tGXW8pTX3V9Ov6uVqg4P14Jz7NCGR31idsy9rBzqwDbE/fz+bUvWxM28ve7MOcvHGSQ7mHOJx3GGWT0qTHGtDpSKqvxKkghfMZsZzLiME2NxlVbRm92pGhpqGvGlVzBBH1HkQ1+pLXkUq/7t6GGnVr+4hrysOqJJKvCny5WBhEcE3SkBW+we4c6OGrAh/Wp5izNOE0K5O+ZlXS1yxNOM0HKZc4ledJe//Q8J3Ozk7kcjlSqZTm5qH77erqoqysjOTkZGMpo0QiQaPRUFZWRlfXxIN87sYPwiqgVColKyvrjv+/s7OTgIAANm7cyK9//WvMzMwwMzPjN7/5DVu2bCE4OJj+/v6pPi2PqkuXLmFmZsa1a9em+lAECQIE6BMkaNrIVOgrLy9HLBbT29s74grb4CTJgYGB+w58BkulUnJycu7Jvgen541n7IQhsKWmpgaZTGa8U5+YmEhJSckdL9K0Wi0ZGRnGuYaGu/l6vZ6Gji4qW9ro6J34BW6/VssevwheviZioZUr7zv78YFrAOtc/Flm78Xzlx1418mXzGrT+4hEqjS2OgWz1tqXw94SvgiUc9w/mu3OIay28OaYv4yK5tHBSq/X09HTS0dP74grjXq9nnPRKmbZWfOonSVP2tkww9qSGdaWPGFjZZyh97itFZt8g9niEcwzFvbMtbLlI78AVjk5s8rRmU3+gewICWdHSDjLPLxZ7ulNSF6+yc9VUnWD5dGuPBVqwUsRNiyOcuKNKEeeDbNkdvA144re4JENhoCX5yMsWSJ3ZFO8D7sSA9io9uataAfelFuxSPU1i1SnWRZ7hncVZ1mk+pwFcZ+xIO4W+L0df5K34k6z+PZK3z+hz56zGhVfJcewMtybM8mxxtTPyXBZZxNHMoJZn+DMVzkR7Mo6yLasHWxP/5itqXvZlvYxm9L3sSPzIMcKjvNp3qcczD2IuGHscQQDOh0BpTmc0ESzKSaATTEBbIkJZIPSn6PJUtwLM+i5A/hNB3cO9OBTFcuBLAe2pF1nS9p19mfZ41GpHFLWefPmrTmRcrkcmUw25qr+wMAAdXV1ZGdno1Aohsy1y8vLo7GxcUqCnqZiMPzAwABisZjc3FyTfvfnP/8569atw8HBgWXLlvHzn/8cMzMzFArFVJ+WR9W1a9cwMzPDyspqqg9FkCBAgD5BgqaN/vKXv5gELtXV1YjF4mEJnAMDAyQlJSEWi8nJyblv/Xt3slwuJzMzc9L3a7gQMyWw5bvANziwRavV0tTURF5eHjExMUNixwsKCmhpaUGv19Pb2zukL1Kv16PX60kuq8I8Op4D/mL2+UbwaZAU18QMqlvbjUCUUVWLVUwyJ8LkfBmpJCAtl4aO4WAZX1rBcgcv5l9zYp2LPx+4BgzxElsPXrdwwVweb9KFXlVLO0d8o1hl4c2JgGhOBSmGeIdzKJscg/BLzrnri8q8mgaWenjyuK0VD9te52Hr6zxqbcEj1reA71EbS152EnE4UMJ+/0jmXLPhyevWrHIUsdrJmS0BwUbg2xESzhpvP95298Q7K9ukx+/VDrApzo+nwyxYIhXxntLT6DUKD16KsOHZMEueDbUaMpx9mcwNz5IMDqWEsibWlQVSW16OsmKBzJY1sW68n2DN8oRzrEm6xPY0G7alWrM8/ksWxh1hYdwRFsQd4Q3VURbFnmBhzAmWxn3JIvUxlqi/YH+SD2c1KvYpI9ksC8bnhmnPxVTnt9dxKD2ArckefJUTye6sz9iauZ2tqXvYnr6fXVmH2JLxMdszD3A0/xgHcg/wSd4nxDXHjblvdV05JzQyNsUEcCZNybXseK5lx3MuPYatsUF8mihBUll43+Flst2j7aO4s5bizlq6tcN7SNva2oiOjiY6Opq2ca466/V62tvbKSoqMn53GObapaWlUVlZSe8k9a2O1/djFbCvr8/4fTnW7/b09GBmZsbBgweN58JvvvnG2HP9oOpvf/sbc+bM4aGHHqKoqGiqD0eQIECAPkGCpo1Mhb66ujrEYvGQss2Ojg5jz0llZeU9Gbg+XiuVStLT0yd1n4MDWzo6OiYMfN9dtRp8kTZ4+LBhpqFYLKa8vNz4u6FZBezzjWClnTfv2Hiy2t6Ht608WCfy51hINAV1jVgqk/jIJZAlVu68dtWZBddcWGXvzU6vMJLLhpZWihLTWGjpytu2HsOA7wPXANa6+POsuT1bvUK4efMmNR0duGdnYalJxjM7m4bvrFDKc0vYLgphuyhkGPCdClJwPCCaFdc8+TJEOSkhFAnFFazy8uEJWysetr4Ffo/YWPCYjSWvODlzIFDMJ0FR7PGNYN5VG2ZdtWS5kzPbgkKGAN+OkHDedvNklZcv4sIikx47rq6Mt2QiXoiwHgJ8Bq+Uu/FUqAXrY7zJaK5BXVfGjbZG4/Nu6+8hrCqXU5lRHE4N43SmlIiqPLan2bJI/SVbUq3YnmbD9jQbPkq5yqL4YyxUH7nluCMsjj3OQuVxFsQcZaHqKEtjv+RITDi7FeG8G+HLF4kKStsnN8iksruFzzNDWBsv4nRWODsTzrA1fRdbM3axM+sgu7IOsil9HzuzDvJZ/lF2Z+/m5I2TtA8MH9kw2Fq9Dru8ZDYqAzibHmMEPoMvZar4UOHH1Sw1XXdZrvogu6WlBZlMhlwup6Oj467319fXR3V1Nenp6UMqDNRqNYWFhbS2tk5ZGMy9GAzf3d2NWCymsLBwzN9tamrCzMyMkydPTvUpeFw6efIkZmZmbN++faoPRZAgowToEyRomshU6GtsbEQsFtPS0jIEhAzBIlMNewarVCpSUlImZV8TDWz59ttvhyR0mhrY0tPTQ25u7pC0vqioKNLS0ojNymWfTzhvW3uwyyuMI0FSjgbL+DQwivXOAay29+ZD5wDec/TltavOvO/oxxb3YDa6BrHMxpPXrzqz3TOUksZ/goBDfCoLLF1Yauc5IvStuw19Gz2COK2K4TmRE3Ps7XjSzoY5DnY87+zE+Xg1/bpb/XbirEI2Owaxxy18ROg7FaRgxTVPTgbKJxwwMuxCuauby4p4XrRxYq6FLQsdXdnqHcInQVFGL7d2Y/4VW160tuNNFze2B4cNAb4NAcHMdxCxPTiMFhN7JgPLc3hd4sACicOI0Pee0pNnwixZKXejpa/bpH0O6LRsS7NmsfpLI/AZvCbpnBH8Fqg/Y3H8Md5UH+UN1ecsVJ7gNb8rvO5hywpvR3aH+RKZk0F/v2mAVN/bgqxBQ0RdPMktefTrRi6j1Ov1WBfGsk4tYoPUjm1RFuxIP8z2rF1sy9rF1sw9bM7Yy66sfezO3s2R/COE14eP/fjdnZxJV7I1NmgY8Bm8Rx3KyZRoCtua7juk3A83NzcjlUpRKBR0dk5sxuJo1ul0NDc3U1BQMCTRMjo6mszMTGpqakz+vEz2cWm1kzMYvqOjA7FYTElJyZjQV15ejpmZGRcvXrxn51ZDv6CprqurG3V/Tk5OmJmZ8cwzz6DT6e7ZcQsSNF4J0CdI0DTRX//6V5NAprW1FbFYTH19PTdu3BgyyHqqQW+w4+PjSUpKuuv96PV60tLSEIvFZGTcmvU2HuAzXMyY2k+j1+spKysz9uO0tbVRW1tLZmYmMpmMI85eLDZ34F0rV/a6B/FJgJijwTKOBss4EiRlmY0nL5k78uIlRza7BbPTK2yIV9p58461B3ZxKcbHlOYXs9TOk9euO48IfcvsvXj5uhNvuLgx18GOR60tmWVnwxx7O2bZ2fCotSXzHOw5EaNAr9eTWFzJHrdwNtgHjgh8n/pE8a6lD5clppWLmup+rZavxDGstPfmXUcf9vlF8ElQFAf8xCy3cuWVi3ZscPRiT1gEi1zdeV3kyhpvP9b5BrDMw5v5jiLW+QaYXNp58+ZNxFUFvBHlyCuRdiMC37sKD+aFXme1wmNcq1OfZLnwlvorNqZYDIG+banWrNNc4k31Md5Uf86qpC/5KPUiR7JcMc+M5lxyLKdjorgml+AdGWEM9zD0jY4EEp0DPViVBrI5/SwfpJ5mbcoXfJj6FR9nXyO2KX3E40utL2Wb1IHF4st8qBJxKMOVnZmfsiVjD5szdrItaxcf5xzgeMFxgmqD0OrHnntY09XOl6kKdqiC7wh9++LDOK6RUdA6dhLodHNjYyNRUVEolcr7FsLS3d1NeXk5KSkpREVFGT8vSUlJlJSU0NFx92NbJuK7GQxvOEeVl5ePCX05OTmYmZlhY2Nzz86tO3bsGJe7u7vvuC9XV1ceeugh5s2bR09Pzz07ZkGCJiIB+gQJmiYyFfoMd1ENQSaZmbdSHaca8r7rxMREEhIS7mofgwNbiouLxx3YMt6B6zqdjpycHMRiMUlJScPuuOt0Oo4EiFlw2YmNtu58ZO3CR9YubLb3YLdbAIdul3w+fc6WV6+IhgHfTq8wtnmE8MplEbu8w+jX3roQ7+7rZ5NHEC9ccWSpneeQvr53Rb68cMWRN+zdmGNvywxrS55xdOA5kZPRzzg68Ki1Jc84OZBVX09XXz+ngxWsvO7FYS/JEOA7GSjnAxs/druGocwfHmt/t65saeNEuJz1LgEstnJnkaUbr5jbs/iKA9tc/EivrKWqrZ1jsmjW+QWwxM2DN13cWe7hzeagENwzMo3jI0xxfU8nq2+D3Sq5+zDoezPKkRcjbDidET2u5xFUncT7yeYsSzjLtlTrIeD3keY6i9Sn2ZxqQVZbCU19I5dN6nQ6Ghsbyc3NRalUDgv3aGpqomegly8LnFmXcoplSUd4L+Uk61JOsVpzjBXJR9mU/jXyxtQh++3s7ESpVGIt8eeoJoC9qb58lOjKhkRndqdZcjDrPFdLbImoj6C21/Q5kj3aAa5mq/lQ4c+lTNUw4LuSpeYjpT/nM2Jp6p2aZMp75fr6eqKiooiJiaG727QV4cm2VquloaFh2OdFqVSSm5tLQ0MDWu3Y8D7Z/u5g+LFGQjQ3NyMWi6mqqhoT+pKTkzEzM8PNzW2qT8FjysXFhYceeog5c+bQ1dU11YcjSNAwCdAnSNA0kanQZyjvFIvFlJWVPRD9eyNZo9EQFxc34e3b2tqMgS319fUmbzdW/96d3N/fbxzAnJ2dfceVwRNhchZbunEkSMph/0j2uAey1cHTCIALze2Ze8aa16+I2OEZOiL4vX7Vma3uIUMSP2OKylgj8uWlq068dNWJN6xcefW6M89ddmCpnSdL3D2ZeXt1bzDwGTzb3pZZdjaciVNx8+ZNlPmlfOItYeV1LzY6BLLPPYKdLqG8a+nNJscgrkri6e67N2VkLd09hGYVcCxEyoe34dhKGkNV6z/hSKvTkVJdjSgtHdvkFAJycqmZYP/U5RwVC2+ndb4tc2aNwoPVCncWShx4KtSCFXI3UpvuPKJiJLf1d/NptisrE8+zJP4M7yeZ80HyFVYmXmCx+ks+SrlOaI3G5P3p9Xo6OjooLi4eEu5xTenC+4knWJF0hM1pZ9mWcd7oD1O/ZHnyUXZnmhvDRlpbW4mOjkYmk9Hc3Ex7fw+x9YV4l6fgU55CXEMxnQMTDwmRVBZyKCGS3XGhXMlSG4Hvapaa/fER7FGH4lcyucE0U+26ujokEgmxsbGTPoplojZ8XkpKSkhKSjKOhIiKiiIlJYXy8vIpg9OxwmBqamoQi8VUV1ePCX1yuRwzMzOCgoKm+hQ8qgzA9+STT9LZ2TnVhyNI0IgSoE+QoGkiU6CvoaHBGCxyr8YhTJbT0tKIiYmZ0LY1NTXGOYMTCWwxXFCYCnxdXV2oVCpjH8po29nEanjXwYedXmHGss6jwTI+DZCwzzOY1y458NQZa144Z8Pq6yLW2XqwUeTHdo8QdnqFscU9mFeuiNjrEzEsxj+htJIDgWJWOXrztp0Hy+y92OAehEtSOh8EBzLDxmrYKp/BTzs68JiNFdsjwo0Xjcr8Uk4FK9jjFsYmxyC2OgXzqU8UdgoNLV339oKxvb2d6OhoIsQSamtNX22aiLsG+vg8VcJbMhHPhVsxJ+Qac0Ou83KkLSvkbgSVm55SWtPZQWhhAZeTEzgZL2V9vA3vJpizKvECKxPP836yOdvTbAiqTrqrsru+vj6qqqrYn3SZZQmfsUZ9jHXqk6xPPMVGzVdsSTvHtozzvKs5zvrUL1E2ptHU1IRUKkUul9PePnooy4Tft/5e7PM0fBwfzkdKf/bHR3AwIYKNygB2x4VyPSeB+p7J73WbKhu+a+Li4qYsUdMU9/f3G8vMo6OjjTcN4uLiKCgooLm5+YEZCWEYG1RTUzMkDGakUtDQ0FDMzMyQyWRTfQq+owwlnTNnzqS9vX2qD0eQoDtKgD5BgqaJ/va3v40KM8XFxcaRAoZyx6kGu9GckZGBQqEY1zbffvutsU8xISHhnge23Lx5K7jBkNJZVzf2HLy0ihr2+ITzjo0nB/yG9vNt8whhqZUHC645M/+SI6ut3HjXwpnV10Wsvi7ifStXFl9z4R1rD9ySMka+iNLryamtR1lYSkJpJZ19t1YDt4aH8ZiNFU852o8IffMc7Hnc1pp9kqGz2Dp7+4gvrCA8owBpdhGljS33vEeosbERqVRKdHT0mPPNJst92gEkVTf4NCWSd+UeLI1yZasyENtMDQVNTSMG1vRrteQ2NCAtKUZSXIx3bjZfqJTskITzbpAfq4P8WBvqzza5Hx8nemFXLCOyLpXWftNKG/t0A2S2lRPfdIOstgpj0I7Ber2ebRnneSfpMzalnGFD8pd8EP8F69QnbwFgwhe8n3SCd5OPY5cXiEQiISYm5p73m7X09eBfksOFDBVHk6UcSYriXEYMnkWZ1HXffZrlg+KqqipjqXxf370dJD+Z1uv1tLa2UlhYaCx/F4vFyGQy0tPTqa6unrLnU1paapx92tXVNWYYjKenJ2ZmZiQkJEz1KXhEqdVqHnroIczMzNizZw9nzpwZ5sjIyKk+TEGCAAH6BAmaNroT9On1etLT0xGLxaSlpaHVahGLxdy4cWPKwW40Z2dnI5PJTP79uw1sGQx847noM6womrpyotXpcE5IZ4dnKG9be7DGwZf1ogCW23qx0s6bQwESrskTWO8cwKtXRKyw9WKtgw8rLG8Fmcw/b8saCxEhMvmQeYBjPa4oI5059nbMtLUZBnx/dHLkCVtr5jrY4Z0ztaV3htd0LDjpGugnrKSAgyoJW6JDOKiSEFZScFejAPq1WoLy8/lCqWRXRAQbg4PZFhrK0eho7FJSaB5UDlfR1oZDWipfqWI5EBXFjohwlvh48LK7M+tDAzkTr+J8opoTKgUbwoPZIQnHJSvDpPdKr9cjrcvkaLYX21Lt2KixZluqHZ/neBNdn23ch16vZ1emOcuSjrAl/ZyxrHNL2lk2ar5ifcIpVsV/zsr4o5xR2CCTySgrK7tv6Y5NvV1kNdeR2VRL7fcI9m7evElFRcWQm0tTfTx3497eXiorK0lLSzNWghieW1FREe3t7fclDKa8vByxWExycrLxu/i7q4Dftb29PWZmZmRnZ0/1KXhEGaB0NG/ZsmWqD1OQIECAPkGCpo1Ggr7e3l5jrHdRUZGxf08ikZCXlzflYDea8/LykEgkJv1uX1+f8Xnej8AWvV4/JPl0vGVdAzodYVkFHA+NNoaz7PONwFymJru6Hp1ej3dKNlvcg1lh58ViCzfesnJnrZMf+7zDiE5JHzIPUC6Xk52dTX19/R2DGhq7u3nFzYXHbKyYZWfDs06OPCdy4lknR2bZ2fC4jTULPNzomKI7/Hq9nqKiIuPF5mgrDZUdbXwkDWS+vxNzvGyY5WHFHC8b5vs78ZE0kMqO8Q3DNjikoIDDUinv+fuzLzKSz6OjORQVxfrAQLaFhWGVnEzPwAD1nZ1YaZLZFRnBxxIxX6li2RIeyktuIp5zcWRVoC+fyKWcT1RzPlHN2YQ41oYEcEKloNyEQd0BVUnsSLXnHfUFVide5oNkC1YnXuad+AvsSHMguPqfvYAWJf6s0Zzgg9RTQ/r5tmWcZ2v6OZYnHuE99XFc5X7GC/qx0kAFj25DOm9iYiIDAyOPxZiuNoQH5eXlERsba/yOUSgUZGdnU1dXd0+eswGik5KSRvwO0+l0I/YCrl69+oEv7xQkaLpIgD5BgqaJ/v73vw8BmsFlh98NMomOjiYrK2vKwW40FxQUIBaLxwS4uwlsMVxMjAf4tFqtcUXRsHI60Qudnv4BsqvrSSmvprixedgxVLe245uag4UyEVuVhtjCMnoHXXD19PRQUVGBRqMZEtSQlpZGVVXVMHCKr6zkJRdnnrw9psHgJ+1secXNhZSamim70MzOzkYsFpOamjrqa9qrHWCjNIinve2Y62XDq4Ei3gx25dVAEXO9bHja246N0iD6xvm+NHR1cTomhjV+fpxWKjkfF2f0WZWKDcHBHIyKIrGqisiiQg5JpRyRR2OdosE6RcP60EBechex1M+L1zxdWR8axLmEOCP4fSwTsysqAnnZ6ImnFd2N7El3Ymn8BXamOXAw09XoHWn2LFVfYE+6iKruZm7evEluRxmb0s+yPPko61NPs/X2it/m9K9ZmXiUFfFH2J9oTv9Av0lpoFPR1zWdXFJSMmQ1aqqP5167q6uLsrKyId8xEomE5ORkysrKJqVUuLKyctwQrdPpsLW1xczMjN/85jfU19dP9SlYkKBpLwH6BAmaJjJA37fffmu8E20okfsu8CiVStLT06cc7EazYdVHr9ff8Xfud2BLb2+vcYXtxo0bUzL/6k4eGBgYMg/QcEH/3RWdopZmvlLF8oqbC38UOfKauytn1XGUtd2f3rmRjtuQepqTkzPmayopL+KVABFzvKxZHOLGW6HuRi8OcWOOlzWvBIiIKi8a13EoSkvZExnJnoiIIcBn8DG5nA8CA7HRaLBITmZLWCgWyUlG6Fsb7M+L7k68F+THQi83Vvj78HmM3Ah9hxVStovDkJSMflw+lfGsS7bgQ43lEOAz+MNkSz5ItsCvKtG4TUhtHB+lnmFV8jGWJR1hRdJR3kn8jFXxR9mRdI7Krvphj3OnNNDBfV3TvWxxsm34TtJoND8I4PuuBwYGqKurIzs7G4VCMeymQWNj47hvGhj6IhMSEkwGPr1ej0gk4qGHHuKll16iv7+ff/zjH1N9ChYkaNpLgD5BgqaJ/v73v3Pz5k2ysrKGXJiMBD0qlQqNRjPlYDeaDQ39AwMDI0LbRAJb/vSnPw3p3xsP8LW3t6NQKJBIJFRXV0/5Bdho1ul0NDU1kZeXR0xMjPHiTKVSGfsAtTod3QP9wwJKajs68UrP5qvoWL6UxeCRlkV1271Jeuzt7TUGSYyVemrw8QQ587xteTlANAT4DH45QMQ8b1uOJ8jHdSyhBQVsCQ3liEw2IvSdU6lY7evL1yoVl+Lj2SOONAKfdYqGTeEhvOrpwooAb97y8WSpn9eQEs/t4jAOREtIrB599MOVwghWJFxid5rjiNC3K82RlQnmXC8So9PrUdWWYZ4Zx65ET95PuMSKxJOsij/O+rgvuJrmSWOvaTBvSAMd3NcllIHe8uBy7tTUVGE19PZr0t7eTlFR0ZCbBlKplLS0NCorK8cse6+urjaWyJt6g0Gv1+Ph4cGPfvQjnnvuOfr6+qb61CtI0PdGAvQJEjRNdPPmTeMqVEFBAd98880dwSchIYHExMQpB7vRbGjq7+vrG/JzvV5PamrquAfL301CZ11dnTFNsqWlZcovuMZ7cdbR0UFRUdGYfYCR+YWs9wrkLScPXrYR8bKNiLecPPjAK5DQ3IJJPS7DgPDxQvTHsZHM9rRmQZDLiNC3IMiF2Z7WfBwbOa7jiSouZmd4OPvF4hGh7wuFgrUBAVxNTORqUiJbw0Kx0iQboe+oIvp2aacLb3i6sczfmyNKGecT1RyLVbAm2I+zCXHGNNU7+VpRJCsTzIeVdv6zxNOBVbehz7s4k4/jw1kp9WSl1JN3ZV68HmTN24FWfKoIor57YqA2WWWger2ego4q3CqUmBcGc7UolNDaZBp6J9ZzOVV/P4YRAunp6QLw3cF9fX1UV1eTkZExpNJArVZz48YNWltbh3zfGmbxqdXqcQGfr68vP/7xj3nqqafo6emZ6tOuIEHfKwnQJ0jQNFFvby8ymYza2toxASg5ORm1Wj3lYDeaDWU/3d3dxp8NDqYpKSm5L4Ethh4elUp1z6Pu74fv1AfoFq1gpciT5y0dWeTozhp3P9a4+7HY0Z3nLR15z8MPVUn5pBxDc3MzMpkMmUxGU1PTuLY9naTkKW9b5vs7jQh98/2deMrbltNJynHtt7ytjRMKBWv9/fk6NnbYKt+20FD2RkaiKC0lIC+PfRIxp2JjjNB3PTmJTeEhLPRyZZ7IjiU+nhyIlrBdHMaaYD+OxciJqSgb8zjCa9P4SGPFuqTrI0Lf2qRrbNBYYXlDzv6ECJZFuXMoMZITyVJ2hHvwUYATqyLdWK/wwzYv+a5LkCdaBqrVa/GoiGF/liMfpVzl3aQLrEm+yJY0Cz7NdiGp+caU/y2Y8txzcnKMN5gE4DPNOp2O5uZmCgoKjN/XYrGY6OhoMjMzjRA9XuALDg7mX/7lX5g9ezYdHR1TfcoVJOh7JwH6BAmaJvrHP/4xav/bYKemphIbGzvlYDeaa2trEYvFxl69tra2OwbT3Avg0+l0Q0plv4/9TYY+wIyMDDY4uvHsFRtet7Bjhb0ra5y9WO8ZwAafIFa6ejPfWsQn4dK7hoja2lqioqKMfZjj3V5VXc5rgc486WnFou/09C0KlX02jQAAIABJREFUceNJTyteC3QmrmZ8gKrX63HLzGR3RATrAwM5IpNxJjaWE3I520JD+TAoiItqNa29vRS3tGCekMC2sDA+V8i5kpTI9eQkjinkLPb2YImvJ+8H+7NDEs6BaAnnE+OIrSg36bVr7uvkQIYLy+IvslFjzf4MFw5murI/w4UNGiuWxV/kQKYrl7JieVfmxf6ECI4lRbEt1I1Ngc58EhvKiZRolkd58GmShMrOyV1VM7UMNKw2mT0ZdqxOOs+OdBsOZzlzMMuJzakWvJt0nsPZzhR2Tk1wkKmfB8Pff3Z29gPVvzvd3N3dTXl5OSkpKcYbTYbS/JKSEjo6OkZ9ffV6PeHh4fz0pz9l5syZtLW1TfXpVpCg76UE6BMkaBrJVBCayODz++36+nrEYjFtbW1UV1cjkUhQKpV0dnaOC/gm0r/X399PUlISYrGY3Nzc7/0d/rKWVt5z9+N5C0dWO7mzzNaZpdaOLLV2ZLmdM6udPHjR0pE17n4UNjZP+HEMfZpxcXH09PRMaB8DOh37YiJ5zteBWZ5WvOjvyGuBzrzo78gsTyue83VgrzICTU0VAQV5+BfkklJbw4AJ72FnXx+OaWl8JpOxITiYNX5+fBAYyMdiMRfVasoGDYpPranhSmIin0XL2BYexpawUA5ERXFeHYdndhbyshKkpcUk11TROc4bBonNhexNF7Em8QpL1RdYlWDOUvUF1iReYV+GM6rGAo4lS3knyp2j8WK2hriyOciZT+PC+SJVzhepcjbHBrItNoi42slZnR3Jg8tAB/eOSmPlfJxow4qEsxzIcuRojtsQb0+z5sOUKziVyab8s3+n55WRkWH8+xeAb3Js+E5XKBRkZWUN+cwolUpycnJGHDsTFRXFv/7rvzJjxgyam5un+jQrSND3VgL0CRI0jWQqDOXk5CCVSqcc7EZzU1OTsY/mfga2dHZ2GudTlZWNXY73fXBWbT2rXH1YYOfKBp8gNngH8Z6bL2/bu7HYxoklVo68cNWWhZYO+KvUo84DHMmD+6KSk5PvetW0pbeHj2MjeT3QhWd8bo1ueMbHjtcDXdgkDeZAtJgPQgN5x9+Ld/y9+CA0kE8VMnIaG8bcd79WS2ZdHe6ZmVhrNDimpaEqL6ejr48e7QCaxkpUdaWUdbZQ39lJdGkp7lmZuGZmEl54g9LWlkmBhPyOaqyKJexLF7EzzZF96SKsiqO40VFDZ38fR5OlLI10YUuwC5uDXTiijjAC3xepcrbEBrE1NghV7difYa1eR0tfN93aib8vg8tA3dShrFWeY6XyK7YqL7M73pIDqfZ8lu3C0Rw3Pst2ZVXSOT7NdqFbO74Zl/faOp3OOJIlPz9fAL5JckNDAxKJBJVKZQx4MXxmSkpKSEpKMq4Cnj9/nvnz53PmzBk8PT35+c9/zsMPP0xDQ8NUn2IFCfpeS4A+QYKmkf785z+bBET5+fkmzcB7EKDvfga2NDU1IZPJkEqlNDSMDQjfF5e1tPKehz8vWjnxnrsfr9m58Mx1e+Zds2PeNTuevW7PvCu2vGXrjHNwqLEPMDU1dcR5gIOt1WqN4D6ZfVE6vR5NXTUXU9UcS4jmYqqakOJ8dkrCWeDtygJvV1YH+bI6yJcF3q687uXKDkk4hS3jX6ns12mxzIvntUh75gRfY3bwNeaFXGdLXACZzbX39L1p7e+iuqeZtv5u48/0ej1fJkbxup81HwSJ+DxBPAT4TqZEs0rmyaGESArb7twzWd/TwaU8BfNl15kTeZG5kRfZmeyLuqFkQsfar9OS0lzB+fxwViVcYFX8ebarr7NFeZktCnO2KMzZEXedjzW2rEm6wMEsJ5r67k0y7IQ+UzqdMSTqQRvJMp3d2NhIVFQUsbGxoyZ69vf3U1tby9mzZ/nlL3+JmZkZZmZm/OQnP2HPnj0kJyfz17/+dapPs4IEfW8lQJ8gQdNIpkJfYWHhmDPwptK9vb3G0p+MjIwJB7aMBzAqKiqMJaQT6TWbztbr9RyJlPGilRNPXbVj9hUbZppb8+QVG568bMMTl6x4wtyKRY7udPb0DJkHGBYZybkAP/YH+nFEHI57Rhrtfb3Gi7jExMT7dhF9OTmBxb4eLAvwZockjJ1R4eyMCmeHJIzlAd4s8nHnYpJ6XPsc0OnYlxjK7OCrPBJwiRkB5jweeJlH/C/xeOBlnguzQtNYeV/fr9raWszD/FkT5MQKiTufa6RDgG9zbBBror25mh1/x9e8tLOZBXJrZkWc5/Hws0bPjDjHnMiLiIqTxnVMRR2NfJktYWeyLytVNixQfckC1SmWx19ke5oNh9Id2ZNozbbYK2xSXGJJzCm2xV4hIzfrgRgKr9VqjfMii4rGN+NR8J3d1NREVFQUMTEx4yrpjouLY8aMGfz2t79l9uzZRgD81a9+xfr162lvb5/q060gQd87CdAnSNA0kqnQN9oMvKl2a2sr0dHRREVFIRaLqa6unhDwjSeh07DymZCQMOqq1XRwR28fmTV1pFfXUtdhemR/fFkFL1o58fglK2aaW/HUVTueumbHnCu2zDS3Yqa5NQsdXAnOzTduo6mpYomPO0852TLT3pIn7CyYbW/FiyI7rJXRxrj/ioqKe/6867u62BIZynwPEdsHAd9g8Jvv4czmiBBqOk2H+oCybOYEX+PRgEvMDbnG06EWPB1qwVMh15kZdIUZAeYskTqb1DM4Ga6oqLjVF6WKxSornu2qYJZK3PhA4ccGZQDLozxYK/fhREo0Je0jr2rq9HpWqUTMjDjHE+HnmB15gbnii8yJvGCEwDmRF9E0mfa+1XS3cSwjnFWxTqxWidia6MXb6gu8pjrJa7GnWaq+wM50O47muHEkx42NmqusTbjIObX7AzEUfmBgwNjDW1JScl8f+/vs5ubmCQGfRqPhF7/4Bf/zP/9DaWkpAG1tbXh4ePDee+/xf//3f/z5z3+e4rOtIEHfPwnQJ0jQNNJf/vIXkwDJcOHY29s75ZA32IMDWxobG43AYArw6fX6cQPfwMCAsZwrIyNjXH1qD5q7+vpxS8lkX3AkH3kFsd4zkB0BYVyPS6LKhOHqxU3NLHJ0Z6a5NXOu2DLrsjWzLt/699PX7Vno4MaLNiL2h90aCl7Q1MgCL1dmOloz09GaZ1zsecbZnpkOVjxqZ8FTDtZcCPBHJpMNmwd4L5zb2MC60AAW+boPAz6DF/t6sDYkgMz6OpP3u1bpxYwAc2YHXzUC32DwmxFgzpzgayhri+/5e2wYH2Lob+3RDhBYmssXKdHsVYexOy6UT5Mk2OYlU9Zx53mSiY1lzIm8cBvubgHfYM+KOM/MiHMcTA026bg8SlNYp3ZlfbwbR9JDOZoRxjaNC0vjz/O66iSvxn7B8vgL7MmwZb3mCu8lX+JojhtVPU0mpYHeyxXigYEB42p0efm9C735obmlpQWpVIpSqaS7u9vk7dLT0/nVr37Ff/3Xf1FYWDjiee7vf//7fT6zChL0w5AAfYIETSOZCn3V1dWIxWK6urqmHPQM0FZQUGC8oB0YGKC/v98YpjLathMNbOnp6THOkCoqKprW/Tvd/f2clatu9ePZuLDUyZNlIi9et3FhmciLQ6FRVLaODn7SwmLedvFigYMbi5zcednWmZdtnVnk5M77Xv5s8AvmRRsn1noF0NjVxdGYaGY72TJXZMvLHiJe8XTmFU9nXnJzYra9FTPsLFjm7UZScvKQeYCm9AFOxEUtzXwYFsQCb9c7Qt9CbzfWhwWS39Ro0j77dVqeCrHgEf9LPBVyfRj0PR1qwaygK8wMuoJlXvw9e38Hr0ZrNJph8NzZ30d2cx0ZTbVUdbWP+Vk2z1MwK+I8syLODwM+w4rfY+FneT7q6tifvYE+jqSHskRpx6fpIRzNCONoRhhH0kPZonFiWfwFXledYqHqFGuSLrIr3YaTeZ4UdFQN29ed0kBjYmLGNRTeVPf39xMfH3/fVqN/KB4MfOOZbZqdnc1//ud/8h//8R/k5+dP9elUkKAfnAToEyRoGslU6Bs8DmGqgU+v1xtX27Kysrh581Zgi06nQywWU1xcfEdQnGhgS2trK3K5nKioKGpqHtxZYaY6JCeftR7+LLJ3Z6d/GPuCItkXFMmewAhWOHvzjsiLS8rRocQAfYtEHmzwCx7RBugram7iZQ9nZthbMn8Q8L3o6sizjtY862jD4w5WPO/mSGptjXEeYGZmJtHR0caL+e/Odrsb9+u0fKKQ8oqHMx+FBw0Dvg3hQcz3cOaQPIo+E1ccHwToGzwvMiMjY1Kg52yOjJkR53lyDOh7SnxpzL+p+p4O9qcEsjLW0Qh8g30oLYCVagtWqK9yJj8IdVMePdqxgX9wGqhhJW4yy0D7+vpQq9WIxWKqqoYDqOCJubW1FZlMhkKhGBfw5eXl8d///d/86le/Ijs7e6pPpYIE/SAlQJ8gQdNIf/3rX00CLUMyZnNz85QCX29vr3G1rbS0dEhgyzfffGMMALkT8E0ksMUwHFwul9M6aO7adHW/Vsun4VJet3Vlm1+oEfgM3hsYwQJbV7b5h1HRMvKg7rrOTpzS0ljg7MpT1vas9wkcBnxrPP2M5Z15TY087+bETEfrW8Dn4cwLLg4862DNc062vOzhzFyRLc+42BNRXDjksXQ6HU1NTeTl5Q1ZzVGpVBQUFNDSMvGRBxHFhawLDeBlD2feD/FnhySMHZIw1ob687KHM2tDAgguzB/XPtfFeJtU3hlbWzLp761WqzXeEJnMeXFeZak8GXGBJyLOjQh9syMv8ET4OVaqnMbcV1t/D4fTgnlbaW8s7fyu34tzZkeyL2nNE4erySwD7e3tRaVSIZFIvhc3fR4Ut7W1IZPJkMvl47qRc+PGDf73f/+X//f//h/p6elTfRoVJOgHKwH6BAmaRjIV+lpbWxGLxTQ0NEwZ8BkCWwzjEUYCO8OsrO/+/ObNiQW2FBUVGYeDj6fP5EF2XUcnW/1CedPebRjwGbzSxYe1Hv7ElQ4tYevq7+dsXByLPT14yVnELBsbHrW05Akra95y8zQC31rvAF6yFbHczZvg3Hyq2tt50V3EYw5WzHcX8byz/S3gE9nxssetVb8nnWz4o6sDyvLSUd+Tjo4OioqKjGV2YrEYuVw+oT5ArU6HfUYqH4YF8Ya3Gy+4O/GCu5OxrNM6TYN2hBsErb29xFaU45eXi39eLglVlXTeLj8NLMv5Z5BL8NAglycCLzMjwJylMhe0+skNchkcLlJYWDgpwKfV60hrquZ6bhyzb6/mzQw/z9zIoat8j4ef5cnIC7iXakzar/WNOFarRGxL8h4GfAdSA3lbacexjHC6ByanpPduykB7enqIjY1FIpFQV2d6b6fg0d3e3j4h4CspKeG3v/0t//7v/05ycvJUn0IFCfpBS4A+QYKmkUyFvo6ODsRiMTU1NVMCfFVVVcbAls7Ozjv+nlQqJScnZwjwTSSwRafTkZmZiVgsJiUlhYGBgSm/SJos13d0ss0vlDfsRoE+Z2/WeQSgHgR9fVotB6IkvOgsYqatDc86OfJHRwdmWFnysKUFj1ha8kdbR161d+F5a0fecfXmK3ksfQO3XvcN4cE84WDNPEcbnnWw5nlne165DXwvujsxw96SN33cjfBkint6eqioqECj0Uy4D1Cn15NUXcWFRDU7JeHslIRzLiGO+KrKEYEvubqa8/FqDkqj2BwWypawUA7LpFxKiCervp4BnY4DSWFDRjY8FmjOIwG3RjY8H2ZNatPklgcOLj0sKxt7uLop7h7oxzI/nu3xgaxQuPGC2ILHw8/y2G3PvB3e8nj4WWZFnOe9OBeTIS27tcYIdxsTPDmcFsyn6SFsT/JhqdKeHUm+hFRl35PP/3jKQLu7u4mJiSEqKuoHNYfzXru9vZ3o6Giio6PHNe6mvLyc3/3ud/zbv/0b8fHxU336FCToBy8B+gQJmkb629/+ZhJ09fT0IBaLqaysvK+w98033xgDKRITE8ccGSGXy8nMzLwr4Ovr6zNeDObl5U3rwJaRrNXpOCaWs9DOja2+IcOAb09gBK/burLDP4za9n9ekIXduMErri7MtrPlTQ933vLy5C0vTxa6uzHXzpZHLC2ZaW3DCndvtgeG4Z6WSe8gWA4tyONpRxsetbVgrqMN891FvOwh4llXBx6zt+JZVwcsUpIn/Lwmow9Qr9eP+n5nN9TzpSqWD4ID2SsR80WMkpMxSnaLI/kwOIiv41QUt7TQr9Nik5/I62KHIcPZd8QHkdMyuatF3d3dxpWo6urqSduvqFDDRyof3pKJ2KL250ByKMuVImaFn+ex2zP6ZkWcZ07kRfamBNDSN76VcGVdIYdSg1kf78bbSjuWKGx5L86ZvZoAXEqS79tIizuVgcbHxyOTyZBIJDQ2mhbkI3hsd3R0GIGvvX3slGCDq6qqeOSRR/jZz35GTEzMVJ86BQkShAB9ggRNK5kKfaYmY06mdTodKSkpxsCWb775ZsxtlEolaWlpEw5s6ejoICYmBolE8r1O54vIK2S9ZyBv2LkN6evbFRDOUidPljt7c02VOGSbPeJI5trb8aqrixH4Bnuegz1/dHLEOllD93cCMzo6OlAoFBzy8eQ5FwdmO9kyw96SR+0tmeVkw/NujhxRRtOvm5wRDfeiD1Cn1+OQnsaG0GA+V8gxT0ww+mJCPNsloawJ8cUuPcW4TZ92gLSmauLry6nsnPx+UMPrOtkrUTXd7XycFMrCKHu2xvuyKzGQw5pwPkmJ4IAmjDdl9rwqteZgSgilnc1o9boJvXcVXS34lKdxLkfG1zlSHIsTyG6tQTdFN1oMZaCGVf57nQb6Q3NnZydyuRyZTDYu4KutreXxxx/npz/9KTKZjH/84x9TfeoUJEgQAvQJEjStZCr06fV646iC+wF8huCEkQJbRrNKpUKj0UwosKWhoQGZTIZMJvve39nv12q5EpvAB54BvG7rymIHd5Y4evCajQurXHw4GhlNQ+fQJL2l3l48YWPNYk+PEaFvvoszzzo6YKkZulrX3NxsfF2bm5tJra3heKycd/y9eMvPk30yMdFlJSOWUk6GJ6sPsLK9jVOxSjaEBnMpId4Iex9FBfBsgA1P+F7jEe8rzPS9zv74CEra7zz3bjJs6HGVyWS0tEzuY3mXpvOK1IK54vPMu+0XpVd4T+XCIU04+5NDeUPqyO6kQCxuxLBH48uuZB9OZEYgqcmjW3t/h6VPptvb25HL5UilUqqrq+9ZGugPzYOBr61t5ICokVxfX8+sWbP4yU9+QkREhAB8ggQ9QBKgT5CgaaS///3vJsGUISSloKDgngNfS0uLMbClsbHR5O2+/fZb1Go1SqWS2tracQV6lJeXI5FIiImJmZRxANPBfQNaQnLy+SRcymbfEDb6BLM3KBKRJp2mruGleiv9fHnCxppFd4C+F51F/NHJEdvUf6501dTUGHsxx9O7cy890T7A/KZGjsqj2S2ONALfW2FuzPC5yu+9L/OH2/69tzlP+F1jQbgTBa335uZBY2MjUqkUuVw+rhUTU1ze1cwCuQVPRn7NrMgzPBn5tdHzxOdYrLDlsCacF8QWvCy9ztIYO16Nvs5r0Ra8obBiXbwLZ3KiaO/vnfTn3asdQFVXypXcOE6mS/k6U0FwRS4NPZPzN9vW1mYsPfwumEz1UPjp7K6uLhQKBTKZbFwJyE1NTcydO5cf//jHhISECMAnSNADJgH6BAmaRjIV+v70pz8RFRVFbm7uPQW+wYEt4xkEb+jfu3HjhvFCXiqVkp6eTk1NzR2DWHQ6Hbm5uYjFYpKSkiZ9APh0cL9WS2lzK8VNzXT03vn5n46N4RlHB150Fg0DvsWeHsy2s+U1N1eSqqrQ6/WUlpYiFotRq9X09PRM+fMcyePpAyxra+VkjJJNYSFcSohndbgPD3tf4Xfe5vzB6zIPe1/hD16XmeF9lSf8rvG43zXWyX0nHQRqa2uNNyjGM9fMFOv1enZovJknOc+TkV8zO/IsT0su8LTkAvPE55gV+TXzxOdZorBnXuQlnpZcYq3ahV0aX/ak+LEp0YNFSmtWxzlhXaia1GNr7evhQnYMm9X+LI12ZmGUA4ukTnwQ680nmgiy77JX0jAvTi6Xj3mD4n4PhZ/O7u7uRqlUIpVKx7Ui3dLSwjPPPMOPfvQj/P39BeATJOgBlAB9ggRNI40H+qKjo8nKyronsDfewJaRgE+r1aLVaunv76empob09PQhd+Q1Gg0VFRX09t5agejv70ej0Rh7BoWLtNGdUVfLQnc3ZtnaMN/F2Vjm+YaHO884OvCUgz2bw0LRDgJpjUYzbZJPx+oDbGxqwjpFw4chQWwOD2GmtwW/8zLn917mPOx1mT94Xeb3npd5xPsKc/wtedT3Cs8EWZPSMHnhKhUVFcYRIobP8WQ6t62GV6OvMkd8lnni8zwZeZanJOeN4DdXfI4nI79mTuQ55kZe4C2FDXtS/IZ4p8aH16Mt2J7sTV3P5KxC6vV6ruepeT/Gk6XRzuxIuNVjuC8phPdiPFkiE/GJJmLCK37Nzc1IpVIUCsW4V/rv9VD46ezBwNfc3Gzydm1tbbzwwgs89NBDeHp6CsAnSNADKgH6BAmaRhoP9MXExJCWljbpwDeRwBYD7I0V2KLT6WhoaCA7Oxu5XG68IIuPjzf+d0lJiVCWZaI9srNY4O7GUw72zLS1YbadLTNtbXjOyZE1/n4UNjaSlpY27UF68IX84D5A+/Awtvv78bTIjt97XeZ3XuY87H2Zh71urfI97HWFh72v8LjvNWb5XefJAAucClIm5XiKi4uNN0XuBBH1PZ1EVhbgW5JFZGUBjb3jWwn0Lk/heeklnpNe5AWpOfPE55kdeZa54nPME59nbuQ5ZkaeYWbkGeZFXmB7ktcw6NuT4sdKlQPvqUUo6m5MyvtR1N7E7sRgFsucOKgJ45OUiCF+L8aTdbHeBJXnjHvfjY2NREVFGasL7vZYDWWg373p9EMrA+3p6TGOu2hqajJ5u46ODubPn4+ZmRkikUgAPkGCHmAJ0CdI0DTSP/7xD5PhLC4uDo1GM6nA19PTYwxsKSsrMzmwZSTgG+tiQq/X09LSQnp6+pBkvri4OAoLC2lvb/9BXIzdreMrKzksk/KmhzsL3d1Z5uPNtaQkKpqbSUhImNTh4A+KB/cB7vLy4Gl7K37vaT5ope8Kj3hf4TGfa8zwucoMn6s87nuNJ/0tcMg3bWD5nazX642r4CkpKSP2qvZpB3C6kcLWuEBWRnuwVOrKqmgPtsUF4VL4/9k78/CmyvT9v2XfURl3FL8wLqiouKC4IOKgqDgqbqg4VRxFZ9wGxxlndH6O+h1kVRZl3wp0Y7Ena5Pua+iStulGadN0Sbc0TZrtFBVo7t8fTs63tQWSkvYk6fO5rvu6vFpOfXt6cs57n/d57yfb62TN3RWZmCVbgVmyFZgbvxZ3y77Gbf9d4ZsR94s8+/zul6/p1fAtyzqARUlb8UzSFkgMhX45/7GVBXhOvQcvJe7rYfg+zPoB76QfxO9km/H/chU+/dz6+npIpVKo1WpYLL61nPBGg7UMtK+Gr62tDQ8++CAYY9i0aRMZPoIIcMj0EUQQ4YvpS01NRVpamt8M3/kEtngmVL703+vo6EB1dTUkEgmUSiUMBgNKSkqEptZdJ2ONjY0hZVr6Q602G+rb2mBzOtHW1ib0iquqqhJ9bP2pTZpM/G7vDtywdw2m7P0a/7P3a0zbuxLXRqzC9ftW4/p9azAtYiWm7luJmTHrkVRzvM//L5fLhby8PHAch5ycHLhcLpjtNsiryvAfTRI+SVfiy6wE/CnlCH6v2I3ZRzbhMfkOLIrfg8dkOzD7yCY8G78XG4vSvbqe0xuO4T7FKtwq+RIPKtdgbvxazFGuwT2ylbhLtgJ3SP+DGdwXuFv2NeYo1uL1M6z0PaLagJdTdyK70T9tT/Ydy8XTql14LSWyV9P3QeYRzJV+j79pJF7/zNraWkgkEiQkJAzIntPBUgba3t6OhIQESKVSn1KQrVYrfve734Exhm+++YYMH0EEAWT6CCKI8MX0ZWZmIikpyS+Gr6qqqlsYhS+Gry8N1z0hL2cKFrFYLDh27Fi3yZhnD2NdXV1Ivo33l5qbm4WIe3/2igtUbcnV4OmY/Vh4eM9/kzu/xrURq37R3lWY5ln9i1iJx7kdcPSx96DT6UR2djY4jkNBQQF4noehrRWfZqjwsiIajxzehQdjt2HOwS24NeYb3BS9Bi+o9uGPKbGCXk2MxH0/bMKShEgUt5x7Au7kXXgxZRtuk3yFu2QrBOP3i/lbjVslX+Ie+Up8oInGoqSteFS9UQhx8ejFlB2YF/8Nlh896Le+ixJ9MRYn7sNz6j29mr4/pkZjgWIbVmgTvPp5nlTZ/tob6Y16KwP9dYhQsL14stlsSExMhEQi8ele0N7ejsceewyMMaxcuZIMH0EECWT6CCLI8NZwaTQaqNXq8zJ7J06cQGFhoZCW6XQ6fTZ8nsAWbydETqdTKOnUaDTnbOVgs9lQWVmJrKwsn5JAB6Pq6uoglUqhVCp96r0VzFJUlOO1uEN4/mAU7o3ZjN/+1/hNjViJaf9t2XDN3q9xY8RqfHM4yud+gB0dv6SKpqenC70xeZ6HzenE/8tU48m4vVgYtxdvqg/jg2QJHuF24IbI1ZgetQb3H/keryfFdDN+Tyl3Y4FsB7aVZHv1/85urMS8+HWYKfkKt3Bf4k7pf3C79H+FFb43MiNQYzXhb7mHsTDhOzyk/AbPJG3Bc8nb8Kh6Ix5SfoPX0/ci1XjMb+fc2N6GP2ccwsOyzViWFtvN8L2feQRPKLfj1aQDUNWUnfNn6fV64eVPoKT1hkIZqM1mQ1JSEiQSCerq6nw67sknnwRjDF988QUZPoIIIsj0EUSQ4a3pys3NhVKp7LPhc7lcQlpmfn6+14EtHrN4tsCWM6m9vV1P/YTvAAAgAElEQVQI4tDpdD6/OXc4HF4lgQ5GVVZWCuVx/bEfKlDV0t6Ov/23ufwffjiIRw/vwo0H1uHafasxbd8vQS73RH8H+bFi4eWBVCr1uh+gzWYTSo6PH/+/0tCMOj3C42Px2A+78UGyBB+mSPFhihS/i9uGG6PX4Oaodbgjdj2eUe7tZvpeSTiAB+M24z953q2CdXR04GhTFV7P2IMHFKtxj/xrzJavxLz4dfiyQIpWxy/XfF17K74qkCM8fQ+eTtqCpxI3Y3HKDnygiUGKsdzv5z2qIh+vp0ThYdlmPJ+wB6+nROHlpH14RL4Vi1S78UVePCyOs5dHetJPU1JSAraUMhjLQLsavtpa71tnOBwOPPvss2CM4dNPPyXDRxBBBpk+gggyfv75Z6+Ml1arhUwm65Ph82dgi7fGzWQyQaVSQSKRQK/Xn/fE5kxJoJ5yLH/3TAtUdS2VTUtL8+tqid5kwsajWVjyQyyejY3EMlkcYoqLYA6wSW5WjQHLVXIsij2AxyL34vfR+/DA/m14KHI7Fh0+gL8nKbEyOxXf5WVDU1eDdpvNq36AFotF2BtZXd291cPWQg0Wxu1FeHysYPg+TJHiEW4Hbo5ei5kx32JG9Dr8jtvWzfS9oN6HuXGb8ZfMOCTUlkPbXAuXF58hnudR2FIDiaEQ8bXFaLL1vL55nkdZqxFHqrWIrcpFqvEYbK7+WQl38i5EVuThz+mH8GJCBJ6K34VnVXvwZmoMVhYkorH97C8eKioqurWEEfsa8laBXgZqt9uRnJwMiUSCmpoar49zOBxYvHgxGGP461//is7OTrEfhQRB+AiZPoIIMrw1fTqdDhzHeW3YPBIjsKWurg4ymQwKhcKn/lDeypMEWlRU1K0cK9STQF0uF3Jzc70ulfVFKfoqLIyKwD27tuLmLRswffN63LptEx7Ysx1vSI6gLsBMdXFjA77LycZfVHL8WSHBn+Qcnj18AE8f3o8FsXswL2onFsTuwSuSGHyZkYSmdqtwDnvrB6hWqyGTyc5YHrc+PwMLjuzGWwlHupm+FxQHcHvsetwcvRY3Rq7FQ3FbBcP3elI07jq8HrceWou5ku/xuGI7nlHtxvuZR5BW3/eAGTFVbzWD0+uwp/wooiryoWupP+dnrby8HBzHISMjw6/X7EAr0MpA7Xa7UElhMBi8Ps7pdOLVV18FYwzvvfceGT6CCFLI9BFEkOGt6SstLQXHceB53mvjdj6BLZ5Jjq+BLceOHROaag/E6hvP8zCZTCGfBOpwOJCRkQGO41BYWOjX30lvMmFhVARu2boJd+/cgkf278bjkXsxb99O3LbtO8zauQV/VkgC8jw2Wa041tyEvycrsfBgBB6K3IEX46LwmuwgXoyLwkORO/DkoQh8mZEE568m5J5SPq1WK+wf5Tiu132Ae4rz8IxkH15WRHczfX9OisN9h7/H9KjVuCFyNR7+r+l7NeEA7jz8La6PWYkbYlfifm4THpZtxuy4DZgdtwHPq/d6tQcu2OW5b2VmZga14fu1xC4DdTgcQouWX69Kn00ulwtvvPEGGGNYtmwZGT6CCGLI9BFEkHHy5EmvjJjHTDkcDq/24A10YIvL5UJ+fr7wRl+sfS/nSgINxomn1WpFUlISOI7DsWP+C+jwaOPRLNyzayvu3rkFT0RFdNNjkXsxY+tGPLxvF3LqvN8vNJDKqKnGy5IYPBS1A8uUP+Cd+DhBbyl/wEORO/CKJAaaup7lb0ajETKZDEqlEkaj8Yz7AJN0Bfhj/CE8fGgH/pwU1834/SE+BjdFrcOM6HW489B6zD6yEXcc+hY3xa7CDbEr8YRyB15J2o9Xkvbj5cR9eEK5HbN++BbhyZFocwRGmIm/1bUMOTs7O+CDUM5XA1kG2tXw+VI673K58M4774AxhqVLl+L06dNiP/4IgjgPyPQRRJDhremrqqoCx3GwWq1n/XddA1u0Wm2fA1t8MXx2u11YhdJqtQEzwbPZbKiqqgrqJNDW1laoVCpIpVKf9uz4old/OIibt2zEI/t39zB9T0RF4L7d23D3zi3YeDRL9PPRm9bnZOKRmN1YHBfdzfB59GJcFBbE7sF3ed0TNGtqarqthHf9nsPh6LYPMC4uDu9H7cbCqK14IPJ7PMvtw2vxB/GiPBIPH9qBZyQReD0hFu+mHcHS5Bj8TroFtx9ehwWKbYLh66oHJd/hCeV2SKuLRT9//hbP88JLp6NHjwbM/WCg1J9loE6nU3ih5UtPTpfLhffffx+MMbz66qtk+AgiBCDTRxBBhremz2AwgOM4mM3mM/4bq9WKhIQEIXlwIAJbPI3BPSExgVgC2NERnEmgDQ0NkMvlkMvl/bI30qNnYyMxffN6PB65t1fTN3fvDty543uszEgV/Zz0pq8ykzA3cgeWyg71avpekx3CvKidWJn9f+P3JEl60ytO21iDT9I4PPXDNtwT+Q3u3rcOD0RswEP7vsMTsduxVBGDjdpMtP03vdLJu/BGajRuP7IOLyXu69X0LVTuwFzp99hcnCH6+fOneJ6HVqsFx3HIzc0ddIavt/NxrjJQb8OYnE6n0EqksrLSpzF8/PHHYIzhxRdfxKlTp8R+7HlFY2Mjvv32W8yfPx9XXXUVhg8fjksvvRSLFi1CTk6O2MMjCNEh00cQQcapU6e8MmZ1dXXgOA4tLS29fr+xsRFyuRwymQwNDQ193r/nyyStoaFBCInxpTeU2AqGJNDq6mpIJBKoVCohXbK/9LYsDrdu24R5+3b2avru3rUF9+7eit3aPNHPS2/6NicDj0Tvxktc7yt9i+Oi8GjMHmzMzfol8bKsTPh7n60Mmed5rCtIxd2HNmJG9FpcF7kK10euwk1RazAjai0WH9yOf8Xuw84jB3uUEL+VFos7jnyDxYkRvZq+J5Tb8ZD0e2wtyRT9/PlLPM8jLy9PaAsTqC+AxFRfy0CdTqdQTdG1lYg3f5NPP/0UjDE888wzOHnypNiPPK/5+9//DsYYpk2bhqVLl+KTTz7Bs88+i6FDh2LIkCGIiYkRe4gEISpk+ggiyPDW9DU0NIDjuF4Nnadnm1qthsVi6ffAlo6ODiEkRqVSwWQyiT6Z6qsCLQmU53kh7TA5OXlAViBjS4rwwJ7tuG3bd3jsV6t98/fvxk1bNmDBgT0wmFtF/3v1pjRDFV7iojEvamePPX3LlD/goagdeFkSg8yaahQVFYHjOGRlZZ1zf+e+8lzceXA9ro1ciVtj1mHWoQ2YdWgDZsSsxbWRqzDr0AbEHSvsdR/gR4oDuP+HDXhUvrWH4Xs5cR/u4zbi9/E7kVxXIfr584e6JssWFBSQ4fPynBmNxl6TZLuWgTqdTqFkv6LC++uF53l88cUXYIxh4cKF+Omnn8R+3PnEkSNHkJaW1uPrGRkZGD58OC688MKg+50Iwp+Q6SOIIMNb09fS0gKO41BXV9dtD15BQcGABrbwPC+0j0hNTQ3Issi+6kxJoCqVakCSQHmeF/6emZmZA7bnsM1uxx8lRzBr5xbM2LoR9+3ehgf37sDdO7fgpi0bMHfvDqzXBO6KlM3pxGepajx+cC/mRe3ES1w0lsoPCUZw4cEI/L80NY7+15R4U3ZodznxhGwnrotchTsPrse9RzZ108zYb3BD1Gq8oo4Uromu+wC3Sg/hdzHf4pbolZh3aAOekW7DYvVeLE6MwMOyzbiP24i30w/C7gq+YKFfy+Vy4ejRo+A4DkVFRWT4+qCzlYF6qhFKS0t9+nlff/01GGN49NFHceLECbEfdX7lkUceAWMM+fn5Yg+FIESDTB9BBBmnT5/2yqSZzWahH9NPP/3U7e3vQAW2OJ1OZGdnCwENwZiE6YsGMgm067nNy8sb8L1Q9ZY2vKeQ4uF9u3D3zi24c8f3uHf3Viw4sBfrNZlw+Hk8jVYLokoKsO5oOjbmZiG9Rt+jpYKv4/80VYWXuGg8Er0bcyN34JGY3XiJi8G/UtWIT0/zaRUqo74Kdx5cjxuiVvcwfPce2YTZhzfi2siVmHVoA461NvU43uVyYUt+Ch6L+x53xKzGrdErcUf0Ktwaswr3Hf4WL6v2oqApMNNQfZHL5RKu2+LiYjJ8fpInhCo+Pl6493ibBsrzPNauXQvGGObNm4eOjg6xH3N+54knngBjDEVFRWIPhSBEg0wfQQQZ3po+q9UqbOC3WCwDHthitVqF1a+SkpJBN7nrzyRQm80mRLCLeW55nkduXS02Hs3CqsxU7Nbm+b2kk+d57NNp8dTh/XgwcgfujtiC2fu24pGY3XhTcQTHWpr7fh6dTqQZqvBNTga+ykjCtzkZSK6qQHJaqrBS4u25lVeXYmbst7g5em2vpu/eI5swPWo17jy4HjkNvTfG5nkeibXH8HG2BIvid+FxyWY8fngT3j60HTt+iIVSqQzqViJdXzz5sgpFOrdcLhc0Go1wTzhbGWhNTQ2sVqtwzW3atAmMMcyZMwcul0vsR5zfqa+vx8iRI3H55ZdTCikxqCHTRxBBhremz+FwCAEJnkTHgQpsaWlpQXx8PKRSKQyG3ie4g0n+TAJta2uDWq2GRCLxKYI9WBVdUogFMXtwy66NmL1vC34XtRMPRe7A7Xu+w6yIzVgiiUW9xT9BOjabTXhR4Uv4RUdHBzQN1bjz4HpcH7kKsw9vPONK392HNqLSfHajyvM8aq2tqGhtQovdCqvVesZ+gFVVVV6nOYqprkmS5eXloo8nlNS1XLakpKTHtfTrMtBPPvkEY8aMwcMPP4y33noLjDHMnj0bDodD7Meb3zl58iTmzJkDxhj27dsn9nAIQlTI9BFEkNHZ2emVaXO5XMIb3oSEhAELbKmpqYFUKoVSqURTU88ytsGu80kCbW5uFtJP6+vrRf9d+ltmux0vxEXhll0b8Wj0bjxzeL+gpw/tw90Rm/HAgW3YqtWc9//LsxoukUj69KLCybvwtGIPro9chdsPftvD9N0W+w2mR63G0qSY8xrnr/sB9lbGJ/bfrbcxewyHL8EipHOrq+HzplzWZrMhNjYW8+bNw+jRo8EYE0zfqlWrcOzYMbjdbrEfc36hs7MTL7/8MhhjeOutt8QeDkGIDpk+gggyvDF9XQNb4uPj+xTY4qvh6xptn5SUBIvFIvqEKNDlSxJoXV2dYKZbWlpEH/tASFFZjnlROzErYnM3w+fRwti9uGXXRrzMxcB1HiWura2twsr0+Zjpw5VFmHVoA66NXIkZMWtx58H1uPPgetwUvQbXRa7CPYc3IqXOtxXEs8nlcqGhoaFHGV9iYiJ0Oh2amppEL6u22+1ISUnxuVcc6dzieV5IQNXpdD7dq/fv348RI0ZgxowZWLZsGaZOnSoYwGnTpqGwsFDsR9150dnZifDwcDDGEB4ejs7OTrGHRBCiQ6aPIIKMc5m+rv2ZJBIJ8vPz+z2wpWv8elZW1oClSIaSzpYE6imL86zYij3WgVKELh/379+GBw9s79X0PXN4P27dtRFPHopAax9LHD2rp3K53C8r0ztLNJh9eBNuiVmHG6JW44ao1bg19hvcf+Q7HKks6tfrx1PG5zFZHMeJug+wa7msXq8X/XoKJXXtcehLAirP84iJicGwYcNw8803w2w2AwDcbjfKy8uxatUqzJkzBzabTeQnXd/p7OzEH/7wBzDG8Morr5DhI4j/QqaPIIIMt9t9RtP268AWhUKB3Nzcfg1ssdlsQulWYWGh6CsLoSKLxYLy8vJuaXz9lQQaqDpYpsODkTtw376tvRq+pw7tw4xdG/D04f19amVgNBohk8mgVCrR2uq/ABp9WwvWF6bhT6mH8W7aEWwpzkK9dWDLLsXeB9je3o7ExMQ+l8uSziye55Gfn+/zPZfneRw+fBgjRozA9OnT0dLSIvbjzO90NXyLFy+m4BaC6AKZPoIIMs5k+hoaGnoEtqjVamg0Gq8MX18CW8xmsxAq4mvwBenscrlcyMnJAcdxyM7OxvHjx3tNAq2urobdbhd9vP0hg7kVTx6KwIxdG/HkwYgepu/BA9txT8QWfJmR5PPPrqmpgUQigVqtDvnV04HeB2i1WoX9kbW1wd9mIpDE8zy0Wq3QeseXl2wSiQQjR47Etddei8bGRrEfZX6na0nn888/T4aPIH4FmT6CCDJ+bfp+/PFHHD9+vNfAlqSkJGRkZJwzsMWzwufLBMJoNAom02g0ij4ZCiXZ7XahRPfXpVv+TAINBv1vZjIejNyO23ZvwvzoXXj60D48eTACD+zfhlt2b8TCgxHIN9b59DMrKyuFvZOhdr7Opf7eB2ixWKBWq897fySpp3ieF/Zq5+fn+/R3UiqVGD16NKZOnYr6+nqxH2P9wueffw7GGMaNG4dPP/0Un3/+eQ9Rnz5iMEOmjyCCjK6m78SJE8Jb34yMjB6BLWlpaUhNTfVrYEtHRweOHz8urJIEYlpgMMtqtSIpKcmrpMPzSQINFpntdvw1SYHfRe/CnXu/x007N2DGro24b/9WPHkoApIK7/u9dQ0bSktLC9kVUl/Ohz/3Aba1tUGlUkEqldKLoH74WxUWFoLjOOTl5fl0v05ISMDYsWMxZcoU1NTUiP0I6zc8q3xn0549e8QeJkGIBpk+gghCfh3YUlBQgBMnTvQwdpmZmUhKSvJrQqdn4pGWlhYU/cGCSSaTSUiRrKmp8XlS6G0SaLDJ7nJCUVmOvyYp8IokBq/JDuGbnAyUt3gfvNL12s3KyhoUeyJ9VXt7e5/3AZrNZsTHx0Mmk6GxsVH03yWUxPM8ioqKwHEccnNzffocp6amYvz48bjyyiuh1+vFfnQRBCEiZPoIIgjpumemsrISP/74Y6+reUePHoVKpfJLYIvD4UBWVpYw8fBl7x/p3PLsyVQoFOedInm2JNDCwkI0NjYGrQHsi7qmy9K165182QdoMpmgVCr9loBK+j/xPA+dTgeO45CTk+PT5zYzMxMTJkzAZZddhoqKCrEfWwRBiAyZPoIIMk6cOCHspWtsbDxrSEteXh4UCsV5B7ZYLBah5LCsrGxQGYaBUHV1db+Wy1osFhw7dkxIWR1MSaBOpxPZ2dmULnseOts+wNzcXMhkMsjl8kHTP3IgVVJSAo7jcPToUZ/u2UePHsWFF16Iiy++GKWlpWI/tgiCCADI9BFEEHLs2LFugS1nUkFBAaRSqRDY0pf9e01NTVAqlX0qOSSdXV33mKWkpAxIqIjNZkNVVdWgSAK12+1Cj8PS0lIyfH5Q132AiYmJg+4lwkCqtLQUHMdBo9H4ZPjy8/Pxm9/8BhdddBEFlxAEIUCmjyCCkJMnT3rVbN1TFuRZ2fPV8BkMBkilUiiVSnqL72e5XC4hhEesPWaeEr6cnBzI5fKQSgLt2hic2on4X42NjZDJZFAoFCgpKRGtH2CoyvMyKDs72yfDV1hYiEsvvRQXXngh8vPzxX5UEQQRQJDpI4ggxFvT53lT3NLS4nNgi6esKDk5GVarVfRJUCjJ6XQK+yPz8/MDYo/ZmZJAU1NTgy4J1GKxCHteqTG4/2U0GiGVSqFSqbpdFwPdDzBUVV5eLrwM8uXeUFxcjCuuuAITJkzA0aNHxX5MEQQRYJDpI4gg5Fymz7N/T6/XCxOv5ORklJWVnXPi5XQ6uzUFp1It/8pmswnx+IFachjMSaCtra1CAir1ifO/6uvrIZVKz9nUvr/7AYaqjh07Bo7jkJmZ6ZPhKy8vx1VXXYVx48YhMzNT7EcUQRABCJk+gghCzmb6fp3Q2dzcjOLi4m77bxITE3udvLe3tyM1NRUcx0Gn09GkzM8ym81Qq9WQSCTQ6/Wij8cbBVMSaHNzMxQKBaVI9pNqa2shkUiQkJDg0+q/v/sBhqoqKiq69Vz19rjjx49jypQpGDNmDFJSUsR+PBEEEaCQ6SOIIOTUqVNnNHwdHWcObDGbzSgtLe02eVer1dDpdKiurkZ8fDwkEgmqqqpEnwCFmpqamqBQKCCTyYK6cXWgJoEajUbIZDLEx8ejtbVV9PMUajIYDJBIJEhMTDzvvZ7n0w8wVHX8+PE+GT69Xo9p06Zh1KhRUKvVYj+aCIIIYMj0EUQQ0pvp8zWhs62tDeXl5cLKnkcajSagVm9CQbW1tZBKpYiPj4fJZBJ9PP5S1yRQz+RdjCRQjyE5V8khqW/ylIknJyf73ZDRPsAOVFZWguM4pKen+2T4DAYDrrvuOowYMQIKhULsxxJBEAEOmT6CCEJ+bfp+/PFHoZzT18AWT0mRQqHoUXql1WphNBoDImgkWOV5g5+YmBjSgThiJYF6zm9ycnJQp40GqjyGJCUlpd9N/GDcB+gx1GlpaXA4HF4fV1tbixtvvBHDhw9HXFwc3G632I8lgiACHDJ9BBGEnD59WjB8XffvuVwurydFXVsGZGRkCBM6T+lVRkaG0Meta/keGUDvxPO80DIjPT09pPrfnUsDkQTK87yQTpuWljaozu9AyWOofTUk/lDXfYBdqxFCaR9gdXW18Lnw5fwajUbMmDEDw4YNw8GDB8nwEQThFWT6CCIIOX36dI/AFl8Mn91uR0ZGxjlbBtjtduj1+m6NvOVyOXJyclBbWxv0k67+ksvlEhJQc3JyBrVRPlcSaEtLi8+rNzzPo7CwUNQeh6EuT9uA9PT0ATd8vSnU9gF6DJ+vK6hNTU2YOXMmhgwZgqioKDJ8BEF4DZk+gghCTp06hY4O7/fvdVVbW5uQ5Hns2DGvj3U4HKiuroZGo+k26dJoNDAYDAExMQwE2e12pKenUwJqL/JHEqjL5UJubi44jkNubu6gNtT9Jc8KamZmZkAa6mDfB1hTUyOUJPti+FpaWjBr1iyEhYVh7969ZPgIgvAJMn0EEWS43W4sWbIE69atQ1VVlU+T3sbGRiFBsq6urs+TFqfT2WP/llQqRVZWFvR6/aAttbNYLIKhPn78uOjjCXT5mgTatal9YWEhGWo/i+d5FBcX96kxuFhyuVxobGwMmn2ANTU1kEgkPhu+1tZW3HvvvWCMYdu2bWT4CILwGTJ9BBFktLa24sorrwRjDGFhYbj33nuxatUqHD9+/KyTG71eD4lEApVK5dcESZfLhbq6OuTl5Qlv3bsGeARb2VVfZTKZhKbgtbW1oo8n2HSuJFCLxSKYw7KysoCayIeCeJ5HUVGRkOAbDIavt98hkPcBevocJiUl+XRfbGtrw5w5c8AYw6ZNm8jwEQTRJ8j0EUQQcvr0aWRkZOCDDz7A1VdfDcYYGGO466678J///KfbpNjpdOK9997Dzp07kZKS0q8Jhy6XC0ajEVqttluAR3p6OioqKkI2vdLTI06hUFBTcD+otyRQj3Jyciil08/ieR4FBQUhtwc1kPYB1tXVCX0Offn/WiwWPPzww2CM4ZtvviHDRxBEnyHTRxBBTmdnJ44ePYq//vWvmDZtmmAAb7vtNvzzn//E/fffD8YYXnvttQF9y83zvFB2pVKpeiQ4hko/Nc8KqlqtDvi9RMEos9ksvEDoagD9mQQ6mMXzPPLz88FxHPLy8kJ2BVXMfYD19fV9amzf3t6OBQsWgDGGlStXkuEjCOK8INNHECFEZ2cnCgoK8I9//APTpk1DWFgYGGOYNWsW/vnPfyI/P1+USR3P82huboZOp+u27yY5ORllZWVBaZa6tgxISUkZNGWsA6nW1lahZNZoNJ41CbS4uLhPSaCDWV1DcbRa7aA5dwO5D9BoNEIqlSIhIcEnw2ez2bBw4UIwxvDll1+S4SMI4rwh00cQIUhhYSGuvPJKDB8+HM888wxuvvlmYQXw+uuvx8cffyzavh1PgmNxcbEQeuKZcJWUlMBkMgX85NPlcgmrI9QyoH/U1NQEuVx+xpJZfySBDma5XC4cPXp00Ifi9Oc+wIaGBkilUqjVap9K2+12OxYtWgTGGD799FMyfARB+AUyfQQRYnAchzFjxuDiiy9GVlYWgF8SP48dO4avvvoKt99+u2AAp06dig8//BDp6emi7eMxm80oLS3tNnFXq9XQ6XRobm4OuMmow+EQEiS1Wm3I7H8KJNXX10MqlSI+Ph6tra1eHeNrEuhglsvlQnZ2NjiOQ3FxccB9xsSUv/YBNjY29snwORwOLF68GIwxfPzxx+js7BT5ieIb+/fvx1tvvYU77rgDI0aMAGMMe/bsEXtYBEGATB9BhBybN2/GjTfeiJqaml6/73a7odfrsXLlStx9992CAbz66qvx7rvvIikpSbQJcltbG8rLy7u9cQ+klZv29nakpKRQgmQ/ymAwQCKRICEhoc/7Ps+VBDpYW4p0dPwS7JSZmQmO41BaWir6eAJZfd0H2NTUBJlMBpVK5dM17HQ6sWTJEjDG8P777wed4QOAKVOmgDGGSZMmCf9Npo8gAgMyfQQRgvz4449e/Tu32426ujp88803uP/++4U9gFdccQWWLVuG+Ph40ZquW61WVFRUCI3OPSVXWq0WRqNxwFfYzGYz1Go1JBIJqqurRZ+QhqKOHz8u7PX0V0Jnb0mgXVuKDKYkUKfTiYyMDHAch/LyctHHE0zydh+gx/DFx8f7FDLkcrmwdOlSMMbw9ttvB6XhA4DExETU1dUBANasWUOmjyACCDJ9BEEA+MUANjY2YtOmTZg7dy6GDh0KxhguvvhiLF26FBKJRLQVEpvNhsrKSmRmZkIikfQo3etvA9jU1ASFQgG5XI6GhgbRJ6Chpq6hOGlpaf12nblcLtTX1yM/P79bS5HBkATqcDiE0teKigrRxxPMOtM+QLlcDolEArlc7lMvVJfLhbfffhuMMbzxxhtBa/h+DZk+gggsyPQRBNEDt9sNk8mErVu3Yv78+Rg2bBgYY7jooovw6quv4vDhw6KtkNjtduj1+m6le3K5HDk5OaitrfV7aWpNTY2wv8yfTe1Jv4jneRQWFoLjOGRnZw9YafFgSgK12+1CWXJlZaXo4wk1tbe3o7i4WHgh5cs+QJfLhffffx+MMbz66qs4fcKzoNoAACAASURBVPq02Ld/v0GmjyACCzJ9BEGcFbfbjba2NuzatQuPP/44Ro4cCcYYJkyYgMWLFyMmJgYWi0WUCbLD4YDBYIBGo+kWuqDRaGAwGM67NLWiokIwAqHaWF5MdW0ZkJubK1oojmfl5teBQoG0n7Svstlswu+k1+tFH08oymQyQaFQQKlUorm5+az7ALsm0fI8j48//hiMMSxevBinTp0S+3bvV8j0EURgQaaPIAivcbvdaG9vx759+/D0009j9OjRYIxh3LhxePbZZ7F//360traKMkF2Op2ora3ttndLKpUiKysLer3ep5JBnudRVFQEjuOQkZExqIM/+vPv5UlBDbSWAaGSBNre3o6kpCRIJBIYDAbRxxOK8hg+hULRI2m2t32ATz/9NCZPnozXXnsNb731FhhjWLRoEU6ePCn27d3vkOkjiMCCTB9BEH3C7XbD4XAgOjoazz//PMaNGwfGGEaPHo3f//732L17t2glci6XC3V1dcjLyxPetncN7zhbuZXT6RT6l+Xk5FBLhn6Q3W4XDFWgp6AGaxKo1WpFQkICJBIJamtrRR9PKKq1tVUwfOcq/fasJn/55ZeYPn26kJo8YsQIhIeHQyKRoKOjQ+zbul8h00cQgQWZPoIgzhu3242Ojg4cOXIEL7/8MiZOnAjGGEaOHInHHnsM27ZtQ0NDg2gG0Gg0QqvVdgvvSE9PR0VFRbeyza5mRKfTBbQZCVZ5Vp+CcX9ZsCSBWiwWqNVqSKVS1NXViT6eUJTZbIZSqYRcLkdLS4vXx/E8jxUrVmDixImYOXMmFixYIJTMe16Ytba2in1L9wtk+ggisCDTRxCE3zlx4gQkEgnCw8Nx0UUXgTGG4cOHY/78+fjuu+9QW1sriqHieV4ot1KpVN3SG3U6nVCCdfz4cdEnlaEojxmRSCSoqakRfTzno0BNAm1ra4NKpYJUKoXRaBT9PIWizsfwrV27FowxzJs3Dx0dv6zsuVwu/PDDDwgPD8d1110XMnv7yPQRRGBBpo8giH7lp59+Qnx8PP74xz/i4osvBmMMQ4cOxdy5c/Htt9/CYDCIZgCbm5uh0+kQHx8vTNrVajXKysrO2HiZ1De1trZCqVRCJpOFnBkJlCRQs9mM+Ph4yGQyNDY2in5eQlFtbW2Ij4+HXC5Hc3OzT9fIxo0bwRjDnDlz4HK5er1fut3uAb5D9x9k+ggisCDTRxDEgHHy5EkkJSXh7bffxuWXXw7GGMLCwnDvvfdi9erVqKysHHADWF9fD6lUCrlcjry8PCQmJnZrvFxSUgKTyUSlnuehpqYmyOVyKBQKnybKwSixkkA9ploul3dLiCT5TxaLBSqVCjKZzKdzzPM8tmzZItzrHA6H2LfiAYFMH0EEFmT6CIIQhVOnTiE9PR3vv/8+rrrqKiHYYNasWVixYgXKy8v73WhVVVVBIpFArVZ3K8czm809Ju1qtRo6nQ7Nzc1kAH2Qx1THx8f3SDccDPIkgaanp/dbEmhLS4sQKOJLuSHJt7+jx/D5sorK8zx27dqFIUOG4K677oLNZhP71tuv7NixA+Hh4QgPD8edd94Jxhjuu+8+4WtxcXFiD5EgBi1k+giCEJ3Ozk5oNBp89NFHmDp1qmAAZ86ciX//+99+D1XheR4lJSXCHqyzpXm2tbWhvLwcqampIdW/bSBkMBggkUiQkJAAi8Ui+njEVn8kgTY3NwurqOdKkCT1TVarVQjGaWho8Po4nuexb98+DB06FDNnzoTVahX7VtvvhIeHC/fv3vT555+LPUSCGLSQ6SMIIqDo7OyEVqvFJ598guuvv16YLNx888347LPPkJ+ff15Gy+VyIS8vDxzHITs726eVFqvVioqKim6rNkqlElqtFkajkdo7dNHx48fBcRySk5PPaqoHq/yRBNrY2AiZTAalUjkoV1EHQl0Nny97UXmeR3R0NIYNG4YZM2bAbDaLfWslCGKQQ6aPIIiAxe12o7i4GP/6179w0003CQbwhhtuwN/+9jccPXrUJ6PlcDiQmZkJjuNQUFBwXubRZrOhsrISmZmZkEgkPcr2BqsB5HkepaWlQlsMh8Mh+pgCXX1JAm1oaIBUKoVKpRItKTTU1d7ejoSEhD4ZvsOHD2P48OGYPn06WlpaxL6VEgRBkOkjCCI4cLvdKC8vx5dffomZM2cKBnDatGn4y1/+goyMjLMarfb2dmGPnr/3C9rtduj1+m5le3K5HDk5OaitrfXLvq1gEM/zKCws7NMqKun/zuG5kkDr6uoglUqhVqupbLafZLPZkJiYCIlEgvr6ep+OlUgkGDlyJK677jo0NTWJfeskCIIAQKaPIIggxO12o6qqCl9//TVmzZolGMCrr74a7777LpKSkroZjqysLCxfvhwSiQQGg6FfJ4sOhwMGgwEajUYwgFKpFBqNBgaDIWRXvlwuF3Jzc8FxHPLy8gbtSqc/daYkUM9LBbHanYS6bDYbkpKSIJFIfG5ur1QqMXr0aEydOhX19fVi3yoJgiAEyPQRBBHUuN1u1NbWYt26dbjvvvsQFhYGxhiuuOIKvP3221i9ejXGjRuH8ePHo6SkZEAnj06nE7W1td32bUmlUmRlZUGv1/cpuCMQ5XQ6kZWVBY7jUFRUREakn+TZJ+l5mdAfSaCDXXa7XTB8tbW1Ph2bkJCAsWPHYsqUKaipqRH71kgQBNENMn0EQYQMbrcbjY2N2LhxIx588EGEhYVhyJAhuOiii7BkyRJIpVLRjJbL5UJdXR3y8vKgUCh6BHcEa9iJ3W5HWloaOI5DWVkZGb5+UnV1dbdgnP5IAh3sstvtSE5OhkQiQU1NjU/HpqSkYPz48Zg8eTL0er3Yt0KCIIgekOkjCCIkWbduHcLCwnDllVfioYcewrBhw8AYw0UXXYRXX30VR44c8SohsT/kcrlgNBqh1Wq7BXekp6ejoqICVqtV9AmwN2pvb0dSUhI4jkNlZaXo4wlVVVZWguM4pKSk9Grm/JEEOthlt9uRkpICjuN8LgHPzMzEhAkTcNlll6GiokLsWx9BEESvkOkjCCKk6OzsxIcffgjGGObPnw+HwwG32422tjbs3LkTjz32GEaMGAHGGCZOnIiXXnoJsbGxsFgsoqxS8TyPxsZGFBYWQqVS9UhuDNSgDovFArVa3adVEZL38pR0pqWlebUftC9JoINdDodD6MNZXV3t07EajQYXXnghLrnkEpSWlop9+yMIgjgjZPoIgggp2traMGXKFISHh+PkyZM9vu92u9He3o6IiAg89dRTGDVqFBhjGD9+PJ577jkcOHAAZrNZNAPY3NwMnU7XLbkxOTkZpaWlMJvNok+QOzo6YDKZoFQqIZPJfIqyJ/mm8vLy82p94U0S6GAvx+1q+PR6vU/H5uXlYdKkSZg0aRKKiopEuNsRBEF4D5k+giBCDpPJBLfbfc5/53a7YbfbERUVheeeew5jx44FYwxjxozBU089hd27d4s2MeZ5HiaTCcXFxUhMTBQm7ImJiSguLobJZBJlXE1NTZDL5VAoFGhubhZ90h6q8vQ6zMzM9EtAy5mSQFUqFQoLC9HQ0DDoDKDT6RT2o1ZVVfl0bEFBAS655BJceOGF0Gq1A3BXIwiCOD/I9BEEQeAXA+hpqvzSSy9hwoQJYIxh5MiRePzxx7Ft2zZRJ8Zms7nHhF2tVkOn06G5uXlAxlVfXw+pVIr4+Hi0traKPmkPRfE8j+LiYnAch6ysrH5rfWGxWFBRUYH09PRBmQTqdDqF393X/ag6nQ6XX345Jk6ciJycHLFvXQRBEF5Bpo8gCOJXuN1unDhxAhKJBH/4wx9w4YUXgjGG4cOHY/78+fj+++9RV1cnmgFsa2tDeXm5UJbWdcWmsbGxX8ZVXV0NiUSChISEgN1nGOzieR5FRUXgOA4ajWbAeh2eKQlUo9GEZBKo0+lERkYGOI7D8ePHfTq2rKwMkydPxrhx45CZmSn2rYogCMJryPQRBEGcg59++glKpRJvvPEGfvOb34AxhqFDh2Lu3LlYv369qE2yrVZrjxUbpVIJrVYLo9HoF+PgCRPxtAsQe9IeiuJ5HgUFBeA4Djk5OaI1tw/1JFCn04nMzExwHIeKigqfjq2oqMCUKVMwZswYpKamin1bIgiC8AkyfQRBED5w8uRJJCYmYtmyZbjsssvAGMOQIUNw3333Yc2aNaiqqhLNANpsNlRWViIzMxMSiaRHyZ6vRoLneZSUlJxXmAjJu/Ocn58PjuOQl5cXMHvrQi0J1OVyISsrCxzH4dixYz4dW1VVhWnTpmHUqFFISEgQ+zZEEAThM2T6CIIg+sipU6eQlpaG9957D5MnTwZjDIwx3H333VixYgXKy8tFm8Db7Xbo9fpuJXtyuRw5OTmora09556tritP2dnZIb/HSyy5XC7k5uaC4zhotdqAMXy9XQ/BnATqcrmQnZ0NjuNQVlbm07EGgwHXXXcdRowYAYVCIfZthyAIok+Q6SMIgvADnZ2dyM7OxvLly/E///M/ggG8/fbb8cUXX0Cn04k2KXY4HDAYDNBoNIIBlEql0Gg0MBgMPVbwXC4XcnJyhJUnsUoNQ10ulwtHjx4Fx3EoLCwMaNPUVcGWBOpyuaDRaMBxHEpLS306tra2FjfeeCOGDx+OuLg4r1KBCYIgAhEyfQRBEH6ms7MT+fn5+Pvf/47rrrtOMIAzZszAZ599JuqKjtPpRG1tbbc9W1KpFFlZWdDr9bBarUIJXFFRUUBN3kNJXVeeiouLg/o8B3ISaFdjXVJS4tOxRqMRM2bMwLBhw3Dw4EEyfARBBDVk+ggiyOB5Hvv378fzzz+Pa6+9FqNGjcLEiRMxZ84cREVFiT084ld0dnZCp9Phs88+w4033igYwBtuuAF///vfRQ3tcLlcqKurQ15eHhQKhTBh96RHUmhL/6hrmIivK0+BrkBKAuV5Xlix9tVYNzU1YebMmRgyZAiioqLI8BEEEfSQ6SOIICM+Ph6MMUyaNAkvvPACPvnkEyxduhQXXHABGGP405/+JPYQiTPgdrtRVlaGL774ArfddptgAKdNm4bly5cjIyNDNANotVqhUqmESbrH/KWnp6OiogJWq1V0QxEK6touoLy8XPTx9KfETALleV7YK+lraXVLSwvuuusuhIWFISIiggwfQRAhAZk+gggyioqKsH//fvz888/dvm4ymTBlyhQwxpCbmyvS6AhvcbvdqKysxIoVK3DXXXcJBvDqq6/Ge++9h+Tk5AEri2tra4NarYZEIkFNTQ14nkdjYyMKCwsFI9g1tZH69PVNDocDaWlpfWoXEOzyJIFqtdp+TwLleR55eXl92ivZ2tqK2bNngzGG7du3k+EjCCJkINNHECHEihUrwBjDmjVrxB4K4QNutxu1tbVYu3Yt7r33XoSFhYExhiuvvBLvvPMOVCpVv7VLMJlMUCqVkMlkMBqNvU6gm5ubodPpuqU2Jicno7S0FGazWXRDEQyy2+1ISUkBx3GorKwUfTxiqj+TQLu2vygoKPDp57S1tWHOnDlgjOG7774LWsOXl5eHxx57DBMnTsSYMWNw99134+DBg2IPiyAIkSHTRxAhxJo1a8AYw7fffiv2UIg+4na70dDQgA0bNmDOnDkYMmQIGGO49NJL8cYbb0Amk/ltX1RTUxPkcjkUCgWam5u9mlCbTCaUlJQgMTFRmKwnJiaiuLgYJpMpqANJ+ks2m01IudTr9aKPJ5DkzyRQnueh1Wr71P7CYrFg3rx5wv0zWA1fSkoKhg8fjvHjx+PNN9/E8uXLhQqQdevWiT08giBEhEwfQYQIp0+fxowZMxAWFobS0lKxh0P4AbfbjebmZmzevBkPP/wwhg0bJuzn/MMf/oAffvihz2Er9fX1kEqliI+PR2tra59+htlsRllZWbfJulqthk6nQ3NzMxnAjg60t7cjKSkJEokEBoNB9PEEuvqaBNq1r2R+fr5P1157ezseffRRMMawatWqoDV8p06dwrRp0zBy5EgUFRUJX7fb7UKfwdraWvEGSBCEqJDpI4gQ4R//+AcYY1i6dKnYQyH6AbfbDbPZjB07dmDBggUYMWIEGGOYOHEiXn75ZcTGxsJqtXo12a2uroZEIkFCQoLf9udZLBaUl5cjNTW1x2pNY2PjoDSAVqsVCQkJkEgkqK2tFX08wSZvk0B5nkdhYaHQV9KXa81ms2HhwoVgjOGrr74KWsMHACqVCowxvP766z2+FxERAcYYvvjiCxFGRhBEIECmjyBEwBPa4a3O9XZ2y5YtQiNwl8s1ML8EIRputxtWqxV79+7F73//e4waNQqMMYwfPx7PP/88Dhw4ALPZ3OvkV6fTCXvy+qslg9Vq7bFao1QqodVqYTQaB0Wzd4vFArVaDalUirq6OtHHE+w6UxJoRkaGkIaam5vrk+Gz2+1YtGgRGGP47LPPgtrwAf/34i8mJqbH91paWsAYw7x580QYGUEQgQCZPoIQgTfeeMMnWSyWM/6sHTt2ICwsDLfeeiusVusA/hZEIOB2u2G32xEZGYlnn30WY8eOBWMMY8aMwdNPP409e/bAZDLB6XTinXfewTXXXAO5XN5vwTC/ls1mQ2VlJTIzMyGRSHqU64WiAWxra4NKpYJUKu01HId0fvIkgebn53drL+JLEqjD4cCLL74Ixhg+/vhjdHZ2iv1RPm+ee+45MMag1Wp7/f64ceNw1VVXDfCoCIIIFMj0EUQQs337doSFhWHGjBloa2sTeziEyLjdbvA8j0OHDmHx4sUYP348GGMYOXIk7rjjDjDGcP/99/d5D9/5ym63Q6/XdyvXk8vlyMnJQW1t7YC1qOhPmc1mxMfHQyaTobGxUfTxhLJKSkqEXpKFhYVeJ4E6nU4sWbIEjDF88MEHIWH4AGD+/PlgjEGv1/f6/SuuuAITJkwY4FERBBEokOkjiCDFY/huuukmmM1msYdDBBhutxsnTpzA4cOHcc011whN4EeMGIFHHnkEmzdvRn19vWh77RwOBwwGAzQajWAApVIpNBoNDAbDgK1E+lOtra1QKpWQy+VoamoSfTyhrNLSUnAcB41GI6wWnykJVCqVYsmSJTh48CCsViuWLl0KxhjeeeedkDF8AJk+giDODpk+gghCPCWd06dPh8lkEns4RIDS0dGBxx57DIwxLF++HHK5HEuXLsWkSZPAGMOwYcPw0EMPYcOGDUJTdjEm8E6nE7W1td32a0mlUmRlZUGv1/utRUV/qqWlBQqFAgqFAi0tLaKPJ5RVVlYGjuOQnZ191vJgTxLo999/L7Q+GT9+PIYPH4758+ejo6ND7I+oX6HyToIgzgaZPoIIMpKTk4Xm3cuWLcPnn3/eQ3FxcWIPkxCZn376Cffdd58QQ9+Vn3/+GQkJCVi2bBkuvfRSMMYwZMgQ3H///Vi7di2qqqpEM4Aulwt1dXXIy8uDQqEQAjsyMzNRWVnZb+Ez56Pm5mah36HJZBJ9PKGs8vJycByHrKwsn/aDVlZWYtGiRZgyZYpgAMeOHYvnnnsOkZGRsNvtIn1S/YcnyCU6OrrH9yjIhSAIMn0EEWTs2bPnnGmf4eHhYg+TCAD+9a9/YceOHWf9N6dOnUJqaireffddXHnllWCMISwsDPfccw9WrFiBY8eOiWoAjUYjtFotlEqlUK6Xnp6OiooKWK1W0U1IY2MjZDIZlEqlaHslB4uOHTsGjuOQmZnpk+FzuVz46KOPwBjD4sWLYbPZcOjQIbz88suYOHFiyNwzz9ayYe/evdSygSAGOWT6CIIgCADA6dOnkZWVhb/85S/CPkBPK5Avv/wSxcXFohlAnufR2NiIwsJCqFSqHomN/uo36IsaGhoglUqhUqm8Sowk9V3Hjx8Hx3HIyMjwKfCH53n885//BGMMixYtwsmTJ7td8z///DPUajUKCwtF+tT5j1OnTmHq1KnUnJ0giF4h00cQBEH0oLOzE3l5efjb3/6Ga6+9VjCAM2bMwGeffYaCggJRDWBzczN0Ol23xMbk5GSUlpbCbDb3+xjq6+shlUqhVqtFMZyDSR7Dl56e7rPh+/zzz8EYw5NPPomffvpJ7I9Vv5OSkoLhw4dj/PjxePPNN7F8+XJMmTIFjDGsXbtW7OERBCEiZPoIgiCIs9LZ2YmioiJ8+umnmD59umAAp0+fjk8++QS5ubmi9dvjeR4mkwklJSVITEwUDGBiYiKKi4thMpn8bk5ra2shkUiQkJAQECWmoazKykpwHIe0tDSfDd+KFSvAGMOCBQvw448/iv0xGjByc3OxYMECTJgwAaNHj8asWbMQGxsr9rAIghAZMn0EQRCE17jdbpSWluLf//43br31VsEA/va3v8VHH33k834rf8tsNqOsrKxbZL9arYZOp0Nzc/N5G8CamhpIJBIkJiaivb1ddFMUytLr9YLh86WFB8/zWLt2LRhjePjhh9HREVopnQRBEH2BTB9BEATRJ9xuN44fP47//Oc/uPPOOwUDOGXKFLz//vtISUkR1QBaLBaUl5cjNTVVMIAqlQqFhYVobGz02QBWV1cLjb8DMUU0lOQ516mpqT4bvo0bN4Ixhjlz5oDnebE/JgRBEAEBmT6CIAjivHG73TAYDFizZg1mz54tGMDJkyfjnXfegVqt9qk8z9+yWq2oqKhAenq6YACVSiW0Wi2MRuM5zWlVVRU4jkNKSkpQ9A0MZhkMhj6da57nsWXLFoSFheHee++F0+kU+2NBEAQRMJDpIwiCIPyK2+2G0WjE+vXrMWfOHKEv2qWXXoo//vGPkMvlohonm82GyspKZGZmQiKRgOM4KBQK5OXloa6urocB9ASJpKamkuHrZ3nKZ5OTk302fDt37kRYWBhmzZoVEn33CIIg/AmZPoIggpL09HR89NFHmDt3LiZMmBAyvbZCDbfbjebmZnz//feYN28ehg4dCsYYJk2ahPDwcPzwww+ilkra7Xbo9XpkZWVBKpWC4zjI5XLk5OSgpqYGZWVlQnKkL2WGJN/lCcjpi+Hbt28fhg4dipkzZ8JqtYp92RMEQQQcZPoIgghKwsPDwRjD6NGjhURJMn2BjdvtRmtrK7Zv345HH30Uw4cPB2MMF1xwAV555RXExsbCarWK1grC4XDAYDBAo9EIBtBTBlpVVUWmbwAMn6/7JXmeR3R0NIYNG4YZM2bAbDaLfZkTBEEEJGT6CIIISvLz81FaWorTp08jPz+fTF+Q4Xa7YbFYsGfPHjz55JMYOXIkGGOYMGECXnjhBURGRqKtrU0UA8jzPIqKisBxHOLj4yGTycBxHKRSKbKysqDX66nM04+qq6sTElF9NXyHDh3C8OHDMX36dJhMJrEva4IgiICFTB9BEEEPmb7gxu12w2az4cCBA1i0aBHGjBkDxhjGjh2Lp59+Gnv37u2XfnvnMnwajQYulwsulwt1dXXIy8uDQqEAx3GQSCTIyMhAZWUltW44D3ma3PelBQbHcRg5ciSuv/56NDU1iX0ZEwRBBDRk+giCCHrI9IUObrcbLpcLBw8exIsvvojx48eDMYZRo0Zh4cKF2LFjR5/aLXhr+AoKCsBxHHJycnpN9HS5XDAajdBqtVAqlUIJaHp6OioqKqhZuw8yGo2QSqVISEjw2fApFAqMGjUK06ZNg9FoFPuyJQiCCHjI9BEEEfSQ6QtN3G43Ojo6EBcXhyVLluCCCy4AYwwjRozAo48+ii1btqC+vt4vBpDneeTn54PjOOTl5Xn1M3meR2NjIwoLC6FSqQQDmJqaivLyclgsFtGNVaCqoaEBUqkUarXaZ6OsVqsxduxYXHPNNaitrRX7MiUIgggKyPQRBBH0kOkbHPz444+Qy+V4/fXXMWnSJDDGMGzYMMybNw8bNmxATU1Nnwygy+VCbm4uOI6DVqvt08/geR7Nzc3Q6XRQq9WCAUxOTkZpaSnMZrPoRitQ1NjYCKlUCpVK5bMxTklJwfjx4zF58mRUV1eLfUkSBEEEDWT6CIIQBU/zbm91tjf6ZPoGHz///DPUajXeeustXHrppWCMYciQIXjggQewdu1a6PV6r8yby+XC0aNHwXEcCgsL/bZqaDKZUFJSgsTERMEAJiYmori4eMD2JwaimpqaIJPJ+mT4MjIyMGHCBFx++eWoqKgQ+xIkCIIIKsj0EQQhCm+88YZPslgsZ/xZZPoGNydPnkRKSgr+/Oc/48orrwRjDGFhYZg9eza+/vprVFRU9Gqy7HY7srOzwXEcdDpdvxkxs9mMsrIyJCcnCwZQrVZDp9Ohubl50BjA5uZmyGQyxMfHo62tzadjNRoNLrjgAlxyySUoKysT+5IjCIIIOsj0EQQR9JDpIzycPn0amZmZ+PDDDzFlyhRhpfiOO+7AV199hZKSEvA8D7PZjHvuuQdLliwRvjYQxsdisaC8vBypqamCAVSpVCgsLOy3gJpAUHNzM+RyeZ8MX15eHiZNmoRJkyZBp9OJfYkRBEEEJWT6CIIIesj0Eb3R2dmJ3NxcfPzxx/jtb38rGMCbb74ZN910ExhjWL58uWhGyGq1oqKiAunp6d0awWu1WhiNxl7TQ4NRLS0tkMvlUCqVPu9tLCgowCWXXIILL7wQWq1W7EuKIAgiaCHTRxBE0EOmjzgXnZ2dKCwsxEcffYTRo0eDMYYbb7wRN954I/7xj38gNzdXVJNls9lQWVmJzMxMSCQScBwHhUKBvLw81NXVBa0BNJlMUCgUUCqVaG1t9elYnU6Hyy+/HBMnTkROTo7YlxBBEERQQ6aPIIigJDMzE+Hh4QgPD8fChQvBGMO0adOEr3399ddiD5EIMGw2G+655x4wxvCvf/0Ln3/+OW655RZhBfDaa6/FRx99hKysLFFNlt1uh16vR3Z2NqRSKTiOg1wuR05ODmpqauB0OkU3c96otbUVCoUCCoXCZ8NXVlaGyZMnY/z48cjKyhL70iEIggh6yPQRBBGU7Nmz56xpnw8++KDYWDrzawAAEFdJREFUQyQCCIvFgttvvx1DhgzB3r17ha+73W5UVFTgf//3f3HHHXcI188111yD999/H6mpqaIaQIfDAYPBgKNHjwoGUCqVQqPRoLq6Gg6HQ3Rzdy7DZzKZfDq2oqICV199NcaOHYvU1FTxLhqCIIgQgkwfQRAEEfKYzWbccsstiIqKOuO/cbvdqK6uxurVq4UVQcYYJk+ejD/96U9ISEgQdZXN6XSitrYWubm5kMvl4DgOEokEWVlZ0Ov1sNvtopu9jo5f0kqVSiXkcjlaWlp8OraqqgpTp07F6NGjkZiYOIBXCEEQRGhDpo8gCIIYFJw6dcrrf+t2u1FfX49vv/0WDzzwAIYMGQLGGC677DK8+eabUCgUoq6yuVwu1NXVIS8vDwqFQjCAGRkZqKysRHt7u+iGr7m52adjDQYDrrvuOowcORJKpbIfrwSCIIjBB5k+giAIgjgLbrcbTU1N+O677/DQQw9h6NChYIzhN7/5DV577TXExcXBZrOJagCNRiO0Wi2USqWQBJqWloaKigpYrdYBGUdbWxvi4+Mhk8l8Nnw1NTWYPn06hg8fDo7j4Ha7xf6zEwRBhBRk+giCIAjCS9xuN1pbW7Ft2zY88sgjGD58OBhjuOCCC7BkyRIcPHgQVqtVtH57PM+jsbERhYWFUKlUggFMTU1FeXm5zz3yvJXFYoFKpYJMJkNTU5NPxxqNRtx8880YNmwYDh06RIaPIAiiHyDTRxAEQRB9wO12w2KxYPfu3Vi4cCFGjhwJxhgmTJiAF154AVFRUWhraxPVADY3N0On00GtVgsGMDk5GaWlpT4nap7L8EmlUjQ2Nvp0bGNjI2677TYMHToU0dHRIWn40tPT8dFHH2Hu3LmYMGECtZchCEIUyPQRBEEQxHnidrths9mwf/9+PPPMMxgzZgwYYxg7diyeeeYZREREwGQyiWoATSYTSkpKkJiYKBjAxMREFBcX93lsVqsVarUaUqkUDQ0NPh3b0tKCu+66C2FhYYiIiAhJwwcA4eHhYIxh9OjRmD59Opk+giBEgUwfQRAEQfgRt9sNl8uF2NhYvPDCCxg3bhwYYxg1ahQWLlyInTt3oqmpSTQD2NHxS+BKWVkZkpOTBQOoVquh0+nQ3Nzs1disVisSEhIglUphNBp9+v+3trZi9uzZYIxh+/btIWv48P/bu/dYr+s6juOfIx2UhpC5aroRK9KtHNOZk7WSGkbauswwyMvWQRy4qZvNXInNzoouFHmrNlu0obAltZkHr2wMIljJxWSNeT3KxbBQAeGcw9AD5/fqL37LUDyn8nzP+fJ4bN+Nfb/n99v7+/3vye/3+3ySbNy4MZs3b86hQ4eyceNG0QdUQvQBwDuk0Whk//79+cMf/pDLL788Y8eOTSklI0eOzAUXXJA777wzL7zwQqUBuGvXrjzxxBP54x//2AzA5cuX5/HHH8+OHTvedLY9e/b818H38ssv57zzzkspJb/85S9rHXz/SfQBVRF9AEPchg0b8vnPfz5jx47Nu9/97kyaNCm///3vqx6L/8KBAwfywAMPZObMmXnve9+bUkre9a535fzzz8/Pf/7zbNmypdIA3L17d5566qn86U9/agbgww8/nMceeywvvPBCuru78+qrr2bFihVZtmxZtm3bNuDAnDJlSkopuf3224+p4EtEH1Ad0QcwhK1atSqtra058cQTM3v27Fx//fUZP358Sim55ZZbqh6P/8Hrr7+e5cuXZ/bs2Xn/+9+fUkqOO+64TJ48Obfccks6OzsrDcBXX301zzzzTNauXZtly5alo6MjDz74YHNj+C1btgzo/fbs2ZMLLrggpZT89Kc/PeaCLxF9QHVEH8AQdfDgwUyYMCHHH398Nm3a1Dy/d+/enH766Rk5cmS2bt1a3YD83/T29mblypW5+uqrc+qpp6aUkpaWlnziE5/I/Pnz89RTT1UagHv37s3TTz+dBx54oPkJ4IMPPph169Zly5Yt6erqetuA/OIXv5hSSubNm3dMBl8i+oDqiD6AIWr58uUppeSKK6444trdd9+dUkq+973vVTAZ76SDBw9mzZo1ue666/LBD34wpZSUUnLOOefkBz/4QTZv3jzoAbh3796sXLkyy5YtS2dnZ55//vk8+uijuf/++9PR0ZH7778/f/nLX/Lcc89l3759R7z2K1/5Skopufnmm4dd8B1+/v09jvYfMaIPqIroAxii5s6dm1JKli5desS1f/7znymlZMqUKRVMxmDp6+vLunXrcsMNN2TChAnNsDjzzDNz88035/HHH3/HA3Dv3r1ZtWpVOjo68vzzz7/hWldXV7Zu3Zr169c3v/a5dOnSTJ48OfPnz09nZ2dmzJiRUkq+9a1vpa+vr+pHOmBXXnnlgI5du3a95XuJPqAqog9giPrqV7+aUkoee+yxN70+evTojBs3bpCnoip9fX3561//mrlz5zb3eyul5GMf+1jmzp2bDRs2pLu7+/8afPv27Wuu6vncc88d9W+7u7uzffv23HXXXc1NyEeMGJHW1tZMmTIl//jHP6p+hJUTfUBVRB/AEDV16tSUUtLZ2fmm10899dSMGTNmkKdiKGg0Gvnb3/6W7373u5k4cWIzAE8//fTccMMN+fOf//w/B+C+ffuyevXqdHR0pLOzc0Cv3b17d2bMmJHTTjutuVH94UVq7rjjjvz973+v+hFWQvQBVRF9AEOU6KM/Go1GnnzyycybNy9nn312MwA/9KEP5brrrsvq1asHHIBdXV3N4Hv22WcH9Nru7u5cddVVKaVk9uzZ6e3tzdq1a/ONb3yj+RvFz372s1U/tkqIPqAqog9giPL1Tgaq0Wiks7MzP/nJTzJp0qRmAI4bNy7XXHNNVqxY8bYrbXZ1dTX36XvmmWcGHHzXXnttM2wOHTp0xHwbNmzIo48+WtETGnxr165NW1tb2tramiuYTpgwoXnuxz/+cdUjAscA0QcwRB1eyOWee+454pqFXHg7jUYj27Zty6233ppPfepTaWlpSSklp5xySubMmZOHHnroiJU2X3rppSxcuDAdHR15+umnBxx83/zmN1NKyaWXXpqDBw9W/QiGhEWLFh11tc9Pf/rTVY8IHANEH8AQdbQtG+666y5bNtBvjUYjO3bsyC9+8Yt85jOfyYgRI1JKyfve977MnDkzHR0defHFFzNp0qSccMIJWb169YCCr6enJzfddFNKKbn44ovT29tb9S0D8G9EH8AQdfDgwXz4wx+2OTv/V41GIzt37syvfvWrTJ06Na2trc1PAA9/LXP37t0DCr729vaUUvLlL385r732WtW3CMB/EH0AQ9iqVavS2tqaE088MbNnz87111+f8ePHp5SSn/3sZ1WPxzDXaDTy4osv5qyzzmr+9q+UkjFjxuRrX/ta7rnnnrzyyitvuRdgT09PfvjDH6aUkgsvvDAHDhyo+pYAeBOiD2CIW79+fS688MKMGTMmo0aNyrnnnpvf/e53VY9FDfT29mbatGkppWTevHnZs2dPFi9enIsuuiijRo1KKSWjR4/OtGnTsnjx4rz00kvNAOzp6cmCBQtSSsn555+f/fv3V307ALwF0QcAx6iZM2emlJL29vY3nG80Gunq6srSpUszffr0jB49OqWUjBo1Kl/60pfym9/8JvPnz28uRNLT01PNDQDQL6IPAI5Ra9asyfe///00Go23/JtGo5H9+/fn3nvvzWWXXZaxY8c2V54844wz0tXVNYgTA/DfEH0AQL8dOHAgd999dz7ykY9k+/btVY8DQD+IPgAAgBoTfQAAADUm+gAAAGpM9AEAANSY6AMAAKgx0QcAAFBjog+AYWPJkiWZM2dOPv7xj2fkyJEppWTRokVVjwUAQ5roA2DYGD9+fEopOfnkk5v/Fn0AcHSiD4BhY8WKFdm2bVuSZMGCBaIPAPpB9AEwLIk+AOgf0QfAsCT6AKB/RB8Aw5LoA4D+EX0ADEuiDwD6R/QBMCyJPgDoH9EHwLAk+gCgf0QfAMOS6AOA/hF9AAxLog8A+kf0ATAsiT7eTE9PT5YsWZLp06fntNNOywknnJCxY8dm8uTJ+e1vf1v1eACVEH0ADBsLFy5MW1tb2tracs4556SUkk9+8pPNc/fdd1/VI1KxRx55JKWUnHzyyZkxY0ZuvPHGzJo1K+95z3tSSsnVV19d9YgAg070ATBstLW1pZTylkd7e3vVI1KxTZs2ZcmSJXn99dffcH7nzp0ZP358SilZv359RdMBVEP0AQDHhB/96EcppWTBggVVjwIwqEQfAHBMOPw70Ntuu63qUQAGlegDAGrv0KFDmThxYlpaWrJ58+aqxwEYVKIPAKi9uXPnppSSWbNmVT0KwKATfQDAkHK0xXre7Ni6detR3+/OO+9MKSVnn312uru7B+cmAIYQ0QcADClXXnnlgI5du3a95XstXLgwLS0tOfPMM7N79+5BvAuAoUP0AQC19Otf/zotLS2ZOHFiXnnllarHAaiM6AMAaudw8J1xxhl5+eWXqx4HoFKiDwColcNf6fzoRz+anTt3Vj0OQOVEHwAMYzt27Mhtt92WqVOnZty4cWltbc0HPvCBTJs2LevWrat6vEG3cuXKtLS0pJSSq666Ku3t7Ucc9913X9VjAgwq0QcAw9i3v/3tlFIyYcKEzJo1KzfeeGMuvvjijBgxIscdd1yWLl1a9YiDatGiRW+72mdbW1vVYwIMKtEHAMPYvffem9WrVx9xfs2aNWltbc1JJ52U1157rYLJABgqRB8A1NTnPve5lFKycePGqkcBoEKiDwBq6gtf+EJKKdm0aVPVowBQIdEHADW0ffv2HH/88TnllFNy6NChqscBoEKiDwBqpre3N5MnT04pJYsXL656HAAqJvoAoEb6+vpy2WWXpZSSOXPmVD0OAEOA6AOAmujr60tbW1tzW4K+vr6qRwJgCBB9AFADfX19+frXv55SSi6//HLBB0CT6AOAYe7fg++SSy6xcAsAbyD6AGAY+/evdE6fPl3wAXAE0QcAw1h7e3tKKRk9enS+853vpL29/YjDPn0AxzbRBwDD2OFP+Y52LFq0qOoxAaiQ6AMAAKgx0QcAAFBjog8AAKDGRB8AAECNiT4AAIAaE30AAAA1JvoAAABqTPQBAADUmOgDAACoMdEHAABQY6IPAACgxkQfAABAjYk+AACAGhN9AAAANSb6AAAAakz0AQAA1JjoAwAAqDHRBwAAUGOiDwAAoMZEHwAAQI2JPgAAgBoTfQAAADUm+gAAAGpM9AEAANSY6AMAAKgx0QcAAFBjog8AAKDGRB8AAECNiT4AAIAaE30AAAA1JvoAAABqTPQBAADUmOgDAACoMdEHAABQY6IPAACgxkQfAABAjYk+AACAGhN9AAAANSb6AAAAakz0AQAA1JjoAwAAqDHRBwAAUGOiDwAAoMZEHwAAQI2JPgAAgBoTfQAAADUm+gAAAGpM9AEAANSY6AMAAKgx0QcAAFBjog8AAKDGRB8AAECNiT4AAIAaE30AAAA1JvoAAABqTPQBAADUmOgDAACoMdEHAABQY6IPAACgxkQfAABAjYk+AACAGhN9AAAANfYvGq7zLqUu3HYAAAAASUVORK5CYII=\" width=\"639.9833333333333\">"
      ],
      "text/plain": [
       "<IPython.core.display.HTML object>"
      ]
     },
     "metadata": {},
     "output_type": "display_data"
    },
    {
     "data": {
      "text/plain": [
       "<mpl_toolkits.mplot3d.art3d.Path3DCollection at 0x7fb7a00dc850>"
      ]
     },
     "execution_count": 41,
     "metadata": {},
     "output_type": "execute_result"
    }
   ],
   "source": [
    "fig = plt.figure()\n",
    "ax = fig.add_subplot(projection='3d')\n",
    "a=np.arange(3)\n",
    "ax.scatter(gcs[:,0],gcs[:,1],gcs[:,2],c=ao_ong[:,2])\n",
    "#ax.scatter(ks.grids.coords[:,0],ks.grids.coords[:,1],ks.grids.coords[:,2])"
   ]
  },
  {
   "cell_type": "code",
   "execution_count": 42,
   "id": "89f2e7b9",
   "metadata": {},
   "outputs": [
    {
     "data": {
      "text/plain": [
       "(<function pyscf.dft.numint.NumInt._gen_rho_evaluator.<locals>.make_rho(idm, ao, sindex, xctype)>,\n",
       " 1,\n",
       " 10)"
      ]
     },
     "execution_count": 42,
     "metadata": {},
     "output_type": "execute_result"
    }
   ],
   "source": [
    "ni._gen_rho_evaluator(CO,P0)"
   ]
  },
  {
   "cell_type": "code",
   "execution_count": 43,
   "id": "a87c45f0",
   "metadata": {},
   "outputs": [],
   "source": [
    "make_rho, nset, nao = ni._gen_rho_evaluator(mol, dm, True, False, ks.grids)"
   ]
  },
  {
   "cell_type": "code",
   "execution_count": 44,
   "id": "a8734b6e",
   "metadata": {},
   "outputs": [
    {
     "data": {
      "text/plain": [
       "<function pyscf.dft.numint.NumInt._gen_rho_evaluator.<locals>.make_rho(idm, ao, sindex, xctype)>"
      ]
     },
     "execution_count": 44,
     "metadata": {},
     "output_type": "execute_result"
    }
   ],
   "source": [
    " make_rho"
   ]
  },
  {
   "cell_type": "code",
   "execution_count": 54,
   "id": "a74206a7",
   "metadata": {},
   "outputs": [
    {
     "ename": "AttributeError",
     "evalue": "'RHF' object has no attribute 'grids'",
     "output_type": "error",
     "traceback": [
      "\u001b[0;31m---------------------------------------------------------------------------\u001b[0m",
      "\u001b[0;31mAttributeError\u001b[0m                            Traceback (most recent call last)",
      "\u001b[0;32m/tmp/ipykernel_10895/3234177080.py\u001b[0m in \u001b[0;36m<cell line: 1>\u001b[0;34m()\u001b[0m\n\u001b[0;32m----> 1\u001b[0;31m \u001b[0mmake_rho\u001b[0m\u001b[0;34m(\u001b[0m\u001b[0;34m[\u001b[0m\u001b[0;36m0\u001b[0m\u001b[0;34m,\u001b[0m\u001b[0;36m0\u001b[0m\u001b[0;34m]\u001b[0m\u001b[0;34m,\u001b[0m \u001b[0;34m[\u001b[0m\u001b[0mni\u001b[0m\u001b[0;34m.\u001b[0m\u001b[0meval_ao\u001b[0m\u001b[0;34m(\u001b[0m\u001b[0mCO\u001b[0m\u001b[0;34m,\u001b[0m\u001b[0mmf\u001b[0m\u001b[0;34m.\u001b[0m\u001b[0mgrids\u001b[0m\u001b[0;34m.\u001b[0m\u001b[0mcoords\u001b[0m\u001b[0;34m)\u001b[0m\u001b[0;34m]\u001b[0m \u001b[0;34m,\u001b[0m \u001b[0;32mNone\u001b[0m\u001b[0;34m,\u001b[0m \u001b[0mxctype\u001b[0m\u001b[0;34m)\u001b[0m\u001b[0;34m\u001b[0m\u001b[0;34m\u001b[0m\u001b[0m\n\u001b[0m",
      "\u001b[0;31mAttributeError\u001b[0m: 'RHF' object has no attribute 'grids'"
     ]
    }
   ],
   "source": [
    "make_rho([0,0], [ni.eval_ao(CO,mf.grids.coords)] , None, xctype)"
   ]
  },
  {
   "cell_type": "code",
   "execution_count": 47,
   "id": "a417245c",
   "metadata": {},
   "outputs": [
    {
     "data": {
      "text/plain": [
       "array([[ 2.12099928e+00, -4.40246364e-01,  1.15383142e-16,\n",
       "        -1.82537456e-16,  1.34385128e-01,  1.57218097e-02,\n",
       "        -1.08362578e-02, -7.40373990e-17,  2.40406978e-16,\n",
       "         1.35041486e-01],\n",
       "       [-4.40246364e-01,  1.92014783e+00, -4.08198402e-16,\n",
       "         6.76554163e-16, -7.33584740e-01,  2.60116210e-02,\n",
       "        -3.49812445e-01,  6.71863102e-16, -1.34293807e-15,\n",
       "        -5.25903251e-02],\n",
       "       [ 1.15383142e-16, -4.08198402e-16,  4.26508894e-01,\n",
       "        -5.64879204e-16,  6.40464470e-16, -3.16479487e-17,\n",
       "        -2.37384467e-16,  7.06226389e-01, -1.83411804e-16,\n",
       "        -1.14156437e-16],\n",
       "       [-1.82537456e-16,  6.76554163e-16, -5.64879204e-16,\n",
       "         4.26508894e-01, -5.88470777e-16,  5.26626832e-16,\n",
       "        -8.27311759e-16, -1.30804454e-16,  7.06226389e-01,\n",
       "        -4.77754592e-16],\n",
       "       [ 1.34385128e-01, -7.33584740e-01,  6.40464470e-16,\n",
       "        -5.88470777e-16,  6.58190285e-01, -8.48946639e-02,\n",
       "         1.59067620e-01,  4.27590260e-17,  1.66718977e-16,\n",
       "        -6.54558415e-01],\n",
       "       [ 1.57218097e-02,  2.60116210e-02, -3.16479487e-17,\n",
       "         5.26626832e-16, -8.48946639e-02,  2.11103595e+00,\n",
       "        -4.53892716e-01,  1.24523391e-16, -4.46994927e-17,\n",
       "        -7.31727787e-02],\n",
       "       [-1.08362578e-02, -3.49812445e-01, -2.37384467e-16,\n",
       "        -8.27311759e-16,  1.59067620e-01, -4.53892716e-01,\n",
       "         2.04153834e+00, -4.93665107e-16,  9.98484219e-16,\n",
       "         4.83188954e-01],\n",
       "       [-7.40373990e-17,  6.71863102e-16,  7.06226389e-01,\n",
       "        -1.30804454e-16,  4.27590260e-17,  1.24523391e-16,\n",
       "        -4.93665107e-16,  1.16939112e+00,  1.00810439e-15,\n",
       "         7.14489853e-16],\n",
       "       [ 2.40406978e-16, -1.34293807e-15, -1.83411804e-16,\n",
       "         7.06226389e-01,  1.66718977e-16, -4.46994927e-17,\n",
       "         9.98484219e-16,  1.00810439e-15,  1.16939112e+00,\n",
       "        -5.58076735e-16],\n",
       "       [ 1.35041486e-01, -5.25903251e-02, -1.14156437e-16,\n",
       "        -4.77754592e-16, -6.54558415e-01, -7.31727787e-02,\n",
       "         4.83188954e-01,  7.14489853e-16, -5.58076735e-16,\n",
       "         1.34976108e+00]])"
      ]
     },
     "execution_count": 47,
     "metadata": {},
     "output_type": "execute_result"
    }
   ],
   "source": [
    "dm"
   ]
  },
  {
   "cell_type": "code",
   "execution_count": 48,
   "id": "3d7c31c0",
   "metadata": {},
   "outputs": [
    {
     "data": {
      "text/plain": [
       "array([0.])"
      ]
     },
     "execution_count": 48,
     "metadata": {},
     "output_type": "execute_result"
    }
   ],
   "source": [
    "ao=np.zeros((1,10))\n",
    "ni.eval_rho(CO, ao, dm, xctype=\"LDA\")"
   ]
  },
  {
   "cell_type": "code",
   "execution_count": 49,
   "id": "62b8f1bc",
   "metadata": {},
   "outputs": [
    {
     "data": {
      "text/plain": [
       "array([[0., 0., 0., 0., 0., 0., 0., 0., 0., 0.]])"
      ]
     },
     "execution_count": 49,
     "metadata": {},
     "output_type": "execute_result"
    }
   ],
   "source": [
    "ao"
   ]
  },
  {
   "cell_type": "code",
   "execution_count": 50,
   "id": "b82219cb",
   "metadata": {},
   "outputs": [
    {
     "data": {
      "text/plain": [
       "(10,)"
      ]
     },
     "execution_count": 50,
     "metadata": {},
     "output_type": "execute_result"
    }
   ],
   "source": [
    "ao[0].shape"
   ]
  },
  {
   "cell_type": "code",
   "execution_count": 51,
   "id": "9caef415",
   "metadata": {},
   "outputs": [
    {
     "name": "stdout",
     "output_type": "stream",
     "text": [
      "converged SCF energy = -76.0167894720743\n"
     ]
    }
   ],
   "source": [
    "from pyscf.dft.numint import eval_rho,eval_ao\n",
    "mol = gto.M(atom='O 0 0 0; H 0 0 1; H 0 1 0', basis='ccpvdz')\n",
    "coords = np.random.random((100,3))  # 100 random points\n",
    "ao_value = eval_ao(mol, coords, deriv=0)\n",
    "mf=scf.RHF(mol)\n",
    "mf.scf()\n",
    "dm = mf.make_rdm1()\n",
    "dm = (dm + dm.T)/2\n",
    "ao=np.zeros((100000,dm.shape[0]))\n",
    "rho= eval_rho(mol, ao_value, dm, xctype='LDA')"
   ]
  },
  {
   "cell_type": "code",
   "execution_count": 52,
   "id": "bc5ec5fe",
   "metadata": {},
   "outputs": [
    {
     "data": {
      "text/plain": [
       "array([[ 0.00281477,  0.17370168,  0.18511471, ...,  0.17745868,\n",
       "        -0.23197042,  0.08423935],\n",
       "       [ 0.17713957,  0.43479397,  0.2643095 , ...,  0.04433941,\n",
       "        -0.20041075,  0.04053937],\n",
       "       [ 0.00266928,  0.16760911,  0.18314001, ...,  0.00295965,\n",
       "        -0.23944614,  0.20688607],\n",
       "       ...,\n",
       "       [ 0.1240927 ,  0.44439298,  0.25972134, ...,  0.07406574,\n",
       "        -0.23711885,  0.00504999],\n",
       "       [ 0.00738958,  0.27226992,  0.21226207, ...,  0.04802449,\n",
       "        -0.10546089,  0.04103376],\n",
       "       [ 0.00469914,  0.22913818,  0.20128204, ...,  0.08511365,\n",
       "        -0.14678311,  0.05729007]])"
      ]
     },
     "execution_count": 52,
     "metadata": {},
     "output_type": "execute_result"
    }
   ],
   "source": [
    "ao_value"
   ]
  },
  {
   "cell_type": "code",
   "execution_count": 53,
   "id": "bb32b0c6",
   "metadata": {},
   "outputs": [
    {
     "data": {
      "text/plain": [
       "array([ 0.24074027,  0.90883223,  0.24702162,  1.00510511,  0.37162292,\n",
       "        0.40482909,  0.18772577,  0.42445691,  0.52046145,  0.54103351,\n",
       "        0.14555416,  0.31213637,  0.31245591,  0.31702651,  0.18252735,\n",
       "        0.39411201,  0.237185  ,  0.32844325, 16.05167957,  0.46388923,\n",
       "        0.27879829,  0.29917879,  0.64622685,  0.34075762,  0.51474728,\n",
       "        0.22343805,  0.42482853,  0.5834868 ,  0.65419584,  0.75492623,\n",
       "        0.67350702,  0.91740083,  1.72463435,  2.19923897,  0.85717071,\n",
       "        0.33729375,  0.30390329,  0.70844999,  0.39078303,  0.93113454,\n",
       "        0.26173022,  1.0755782 ,  0.1771167 ,  0.66642099,  0.49680296,\n",
       "        0.56621451,  0.51098248,  0.25782868,  0.28746589,  0.81837982,\n",
       "        0.34525653,  0.30873207,  0.294168  ,  0.23279112,  0.13683444,\n",
       "        0.25106095,  0.23708173,  0.31233427,  0.63373572,  0.42375799,\n",
       "        0.63141738,  0.33954226,  0.28058212, 11.79091882,  0.69878797,\n",
       "        0.52179711,  0.29165637,  0.60955719,  0.31292399,  0.4169826 ,\n",
       "        0.28454785,  0.38881673,  0.22505359,  0.50630249,  0.64827833,\n",
       "        0.31050666,  0.21741112,  0.32071288,  0.28234056,  0.30513404,\n",
       "        0.152939  ,  0.7714843 ,  0.53140244,  0.31166469,  0.31012608,\n",
       "        0.50105239,  0.19678582,  0.66132181,  1.15985819,  0.21905542,\n",
       "        0.83557298,  0.56366586,  0.14901111,  0.2102478 ,  0.19174624,\n",
       "        0.46831588,  0.25095482,  0.89856792,  0.38228782,  0.31075847])"
      ]
     },
     "execution_count": 53,
     "metadata": {},
     "output_type": "execute_result"
    }
   ],
   "source": [
    "rho"
   ]
  },
  {
   "cell_type": "code",
   "execution_count": null,
   "id": "0766d329",
   "metadata": {},
   "outputs": [],
   "source": []
  }
 ],
 "metadata": {
  "kernelspec": {
   "display_name": "Python 3 (ipykernel)",
   "language": "python",
   "name": "python3"
  },
  "language_info": {
   "codemirror_mode": {
    "name": "ipython",
    "version": 3
   },
   "file_extension": ".py",
   "mimetype": "text/x-python",
   "name": "python",
   "nbconvert_exporter": "python",
   "pygments_lexer": "ipython3",
   "version": "3.8.13"
  }
 },
 "nbformat": 4,
 "nbformat_minor": 5
}
