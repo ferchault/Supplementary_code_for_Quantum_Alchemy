{
 "cells": [
  {
   "cell_type": "code",
   "execution_count": 1,
   "id": "b3df2367",
   "metadata": {},
   "outputs": [],
   "source": [
    "from pyscf import gto,scf\n",
    "import numpy as np\n",
    "import matplotlib.pyplot as plt\n",
    "from FcMole import *"
   ]
  },
  {
   "cell_type": "code",
   "execution_count": 2,
   "id": "4585547d",
   "metadata": {},
   "outputs": [],
   "source": [
    "CO=gto.M(atom=\"C 0 0 0; O 0 0 2 \",unit=\"Bohr\", basis=\"sto-3g\")"
   ]
  },
  {
   "cell_type": "code",
   "execution_count": 3,
   "id": "f8e47ad0",
   "metadata": {},
   "outputs": [
    {
     "name": "stdout",
     "output_type": "stream",
     "text": [
      "converged SCF energy = -111.621701280109\n",
      "CPU times: user 7.02 s, sys: 187 ms, total: 7.21 s\n",
      "Wall time: 210 ms\n"
     ]
    },
    {
     "data": {
      "text/plain": [
       "-111.62170128010851"
      ]
     },
     "execution_count": 3,
     "metadata": {},
     "output_type": "execute_result"
    }
   ],
   "source": [
    "%%time\n",
    "mf=scf.RKS(CO)\n",
    "mf.xc=\"PBE0\"\n",
    "mf.scf()"
   ]
  },
  {
   "cell_type": "code",
   "execution_count": 4,
   "id": "f5cf4f1d",
   "metadata": {},
   "outputs": [],
   "source": [
    "#CO1=FcM_like(CO,fcs=[.01,0])\n",
    "#mf1=scf.RKS(CO1)\n",
    "#mf1.xc=\"PBE0\"\n",
    "#mf1.scf(dm0=P0)\n",
    "#P1=mf1.make_rdm1()"
   ]
  },
  {
   "cell_type": "code",
   "execution_count": 5,
   "id": "15760318",
   "metadata": {},
   "outputs": [
    {
     "name": "stdout",
     "output_type": "stream",
     "text": [
      "converged SCF energy = -111.199724042755\n"
     ]
    },
    {
     "data": {
      "text/plain": [
       "{'e1': -199.51023958281104, 'e2': 64.3105155400565, 'nuc': 24.0}"
      ]
     },
     "execution_count": 5,
     "metadata": {},
     "output_type": "execute_result"
    }
   ],
   "source": [
    "mf_hf=scf.RHF(CO)\n",
    "mf_hf.scf()\n",
    "mf_hf.scf_summary"
   ]
  },
  {
   "cell_type": "code",
   "execution_count": 6,
   "id": "4388e293",
   "metadata": {},
   "outputs": [
    {
     "data": {
      "text/plain": [
       "-111.62170128010851"
      ]
     },
     "execution_count": 6,
     "metadata": {},
     "output_type": "execute_result"
    }
   ],
   "source": [
    "mf.e_tot"
   ]
  },
  {
   "cell_type": "code",
   "execution_count": 7,
   "id": "dd4bccf4",
   "metadata": {},
   "outputs": [
    {
     "name": "stdout",
     "output_type": "stream",
     "text": [
      "['DIIS', '__call__', '__class__', '__delattr__', '__dict__', '__dir__', '__doc__', '__eq__', '__format__', '__ge__', '__getattribute__', '__gt__', '__hash__', '__init__', '__init_subclass__', '__le__', '__lt__', '__module__', '__ne__', '__new__', '__reduce__', '__reduce_ex__', '__repr__', '__setattr__', '__sizeof__', '__str__', '__subclasshook__', '__weakref__', '_chkfile', '_eigh', '_eri', '_finalize', '_is_mem_enough', '_keys', '_method_name', '_numint', '_t0', '_w0', 'add_keys', 'analyze', 'apply', 'as_scanner', 'build', 'callback', 'canonicalize', 'check_convergence', 'check_sanity', 'chkfile', 'conv_check', 'conv_tol', 'conv_tol_grad', 'converged', 'convert_from_', 'damp', 'damp_factor', 'define_xc_', 'density_fit', 'diis', 'diis_file', 'diis_space', 'diis_space_rollback', 'diis_start_cycle', 'dip_moment', 'direct_scf', 'direct_scf_tol', 'dump_chk', 'dump_flags', 'dump_scf_summary', 'e_tot', 'eig', 'energy_elec', 'energy_nuc', 'energy_tot', 'from_chk', 'get_fock', 'get_grad', 'get_hcore', 'get_init_guess', 'get_j', 'get_jk', 'get_k', 'get_occ', 'get_ovlp', 'get_veff', 'get_vsap', 'grids', 'hf_energy', 'init_direct_scf', 'init_guess', 'init_guess_by_1e', 'init_guess_by_atom', 'init_guess_by_chkfile', 'init_guess_by_huckel', 'init_guess_by_minao', 'init_guess_by_vsap', 'initialize_grids', 'kernel', 'level_shift', 'level_shift_factor', 'make_rdm1', 'make_rdm2', 'max_cycle', 'max_memory', 'mo_coeff', 'mo_energy', 'mo_occ', 'mol', 'mulliken_meta', 'mulliken_pop', 'mulliken_pop_meta_lowdin_ao', 'newton', 'nlc', 'nlcgrids', 'nuc_grad_method', 'omega', 'opt', 'pop', 'post_kernel', 'pre_kernel', 'remove_soscf', 'reset', 'run', 'scf', 'scf_summary', 'set', 'sfx2c1e', 'small_rho_cutoff', 'spin_square', 'stability', 'stdout', 'to_ghf', 'to_gks', 'to_hf', 'to_ks', 'to_rhf', 'to_rks', 'to_uhf', 'to_uks', 'update', 'update_', 'update_from_chk', 'update_from_chk_', 'verbose', 'view', 'x2c', 'x2c1e', 'xc']\n"
     ]
    },
    {
     "data": {
      "text/plain": [
       "(None,\n",
       " {'mol': <pyscf.gto.mole.Mole at 0x7fef217f98b0>,\n",
       "  'verbose': 3,\n",
       "  'max_memory': 4000,\n",
       "  'stdout': <ipykernel.iostream.OutStream at 0x7fef5b3b9ee0>,\n",
       "  '_chkfile': <tempfile._TemporaryFileWrapper at 0x7fef217f9f40>,\n",
       "  'chkfile': '/home/giorgio/Supplementary_code_for_Quantum_Alchemy/Alchemical_CPKS_perturbator/tmpqmwx3gva',\n",
       "  'mo_energy': array([-19.15794687, -10.09719678,  -1.21351233,  -0.49859649,\n",
       "          -0.45243652,  -0.45243652,  -0.27942261,   0.12969976,\n",
       "           0.12969976,   0.86796355]),\n",
       "  'mo_coeff': array([[ 3.34634493e-04,  9.92063614e-01, -1.42141926e-01,\n",
       "           1.53812336e-01,  6.52513022e-16, -3.21729860e-16,\n",
       "          -1.80129820e-01,  1.11101821e-16, -5.09377742e-17,\n",
       "          -1.12960540e-01],\n",
       "         [-1.25844621e-02,  3.31551665e-02,  2.19844148e-01,\n",
       "          -4.67854881e-01, -1.80650278e-15,  9.96326873e-16,\n",
       "           8.31622896e-01, -5.31681084e-16,  2.71468389e-16,\n",
       "           1.12054602e+00],\n",
       "         [ 2.75881413e-17, -1.06943371e-19,  1.09753480e-16,\n",
       "           1.19351306e-15, -3.66924779e-02,  4.60334779e-01,\n",
       "          -1.44859419e-16, -1.97916917e-01,  9.14725962e-01,\n",
       "          -3.37757195e-16],\n",
       "         [ 2.32013274e-16,  3.30295462e-18, -2.73355407e-16,\n",
       "          -2.97593441e-15,  4.60334779e-01,  3.66924779e-02,\n",
       "           1.14526827e-17,  9.14725962e-01,  1.97916917e-01,\n",
       "           8.63339728e-17],\n",
       "         [-1.01995697e-02,  9.26870624e-03,  1.80067433e-01,\n",
       "          -8.61417390e-02, -1.13191499e-15,  2.88033388e-16,\n",
       "          -5.37643490e-01,  5.00531015e-17,  6.16374333e-17,\n",
       "           1.34463535e+00],\n",
       "         [ 9.93315630e-01, -3.27648634e-04, -2.20415217e-01,\n",
       "          -1.42047047e-01, -9.63356979e-16,  2.85402860e-16,\n",
       "           9.03848093e-03, -3.37688033e-16, -9.53405536e-18,\n",
       "           1.33657897e-01],\n",
       "         [ 3.36860029e-02, -1.01670382e-02,  7.34402366e-01,\n",
       "           6.92816184e-01,  4.22464383e-15, -1.50049827e-15,\n",
       "          -1.37824978e-02,  6.59316014e-16, -9.21028525e-17,\n",
       "          -1.27889954e+00],\n",
       "         [-4.13070746e-20, -1.71117257e-19, -7.23847573e-18,\n",
       "           1.76721035e-15, -6.07565201e-02,  7.62236318e-01,\n",
       "           2.03725253e-16,  1.50199184e-01, -6.94185698e-01,\n",
       "           1.11377110e-17],\n",
       "         [-1.12034562e-19, -9.03894126e-19, -4.18289756e-17,\n",
       "          -3.84554134e-15,  7.62236318e-01,  6.07565201e-02,\n",
       "          -1.00869874e-15, -6.94185698e-01, -1.50199184e-01,\n",
       "           2.71845842e-17],\n",
       "         [-9.15831603e-03,  9.99881414e-04, -2.80076952e-01,\n",
       "           6.54224373e-01,  4.00037672e-15, -1.35521722e-15,\n",
       "           4.10296278e-01,  1.18245387e-16,  1.63217712e-16,\n",
       "           1.01863909e+00]]),\n",
       "  'mo_occ': array([2., 2., 2., 2., 2., 2., 2., 0., 0., 0.]),\n",
       "  'e_tot': -111.62170128010851,\n",
       "  'converged': True,\n",
       "  'callback': None,\n",
       "  'scf_summary': {'e1': -199.41622941625042,\n",
       "   'coul': 77.70084988123745,\n",
       "   'exc': -13.906321745095541,\n",
       "   'nuc': 24.0},\n",
       "  'opt': None,\n",
       "  '_eri': array([3.54194813, 0.57692129, 0.11188812, ..., 0.        , 0.        ,\n",
       "         0.88015909]),\n",
       "  '_keys': {'DIIS',\n",
       "   '_chkfile',\n",
       "   '_eri',\n",
       "   'callback',\n",
       "   'chkfile',\n",
       "   'conv_check',\n",
       "   'conv_tol',\n",
       "   'conv_tol_grad',\n",
       "   'converged',\n",
       "   'damp',\n",
       "   'diis',\n",
       "   'diis_file',\n",
       "   'diis_space',\n",
       "   'diis_space_rollback',\n",
       "   'diis_start_cycle',\n",
       "   'direct_scf',\n",
       "   'direct_scf_tol',\n",
       "   'e_tot',\n",
       "   'grids',\n",
       "   'init_guess',\n",
       "   'level_shift',\n",
       "   'max_cycle',\n",
       "   'max_memory',\n",
       "   'mo_coeff',\n",
       "   'mo_energy',\n",
       "   'mo_occ',\n",
       "   'mol',\n",
       "   'nlc',\n",
       "   'nlcgrids',\n",
       "   'omega',\n",
       "   'opt',\n",
       "   'scf_summary',\n",
       "   'small_rho_cutoff',\n",
       "   'stdout',\n",
       "   'verbose',\n",
       "   'xc'},\n",
       "  'xc': 'PBE0',\n",
       "  'nlc': '',\n",
       "  'grids': <pyscf.dft.gen_grid.Grids at 0x7fef5b460130>,\n",
       "  'nlcgrids': <pyscf.dft.gen_grid.Grids at 0x7fef217911f0>,\n",
       "  'small_rho_cutoff': 1e-07,\n",
       "  '_numint': <pyscf.dft.numint.NumInt at 0x7fef21791220>,\n",
       "  '_t0': 8.151260274,\n",
       "  '_w0': 25220.693693815})"
      ]
     },
     "execution_count": 7,
     "metadata": {},
     "output_type": "execute_result"
    }
   ],
   "source": [
    "print(dir(mf)),vars(mf)"
   ]
  },
  {
   "cell_type": "code",
   "execution_count": 8,
   "id": "9fc8bb77",
   "metadata": {},
   "outputs": [
    {
     "data": {
      "text/plain": [
       "{'e1': -199.41622941625042,\n",
       " 'coul': 77.70084988123745,\n",
       " 'exc': -13.906321745095541,\n",
       " 'nuc': 24.0}"
      ]
     },
     "execution_count": 8,
     "metadata": {},
     "output_type": "execute_result"
    }
   ],
   "source": [
    "summary=dict(mf.scf_summary)\n",
    "summary"
   ]
  },
  {
   "cell_type": "code",
   "execution_count": 9,
   "id": "e9b9122f",
   "metadata": {},
   "outputs": [
    {
     "data": {
      "text/plain": [
       "(-111.62170128010851, -111.62170128010851)"
      ]
     },
     "execution_count": 9,
     "metadata": {},
     "output_type": "execute_result"
    }
   ],
   "source": [
    "sum(summary.values()) ,mf.e_tot"
   ]
  },
  {
   "cell_type": "code",
   "execution_count": 10,
   "id": "9c65ff9b",
   "metadata": {},
   "outputs": [
    {
     "data": {
      "text/plain": [
       "(0.0, 0.25, 0.25)"
      ]
     },
     "execution_count": 10,
     "metadata": {},
     "output_type": "execute_result"
    }
   ],
   "source": [
    "ni=mf._numint\n",
    "omega, alpha, hyb = ni.rsh_and_hybrid_coeff(mf.xc, spin=mf.mol.spin)\n",
    "omega, alpha, hyb"
   ]
  },
  {
   "cell_type": "code",
   "execution_count": 11,
   "id": "d6e10453",
   "metadata": {},
   "outputs": [],
   "source": [
    "#P=CC^T\n",
    "C=mf.mo_coeff\n",
    "Pc=2*C[:,:7].dot(C.T[:7,:])\n",
    "P0=mf.make_rdm1()\n"
   ]
  },
  {
   "cell_type": "code",
   "execution_count": 12,
   "id": "1772c2e5",
   "metadata": {},
   "outputs": [
    {
     "data": {
      "text/plain": [
       "array([[0., 0., 0., 0., 0., 0., 0., 0., 0., 0.],\n",
       "       [0., 0., 0., 0., 0., 0., 0., 0., 0., 0.],\n",
       "       [0., 0., 0., 0., 0., 0., 0., 0., 0., 0.],\n",
       "       [0., 0., 0., 0., 0., 0., 0., 0., 0., 0.],\n",
       "       [0., 0., 0., 0., 0., 0., 0., 0., 0., 0.],\n",
       "       [0., 0., 0., 0., 0., 0., 0., 0., 0., 0.],\n",
       "       [0., 0., 0., 0., 0., 0., 0., 0., 0., 0.],\n",
       "       [0., 0., 0., 0., 0., 0., 0., 0., 0., 0.],\n",
       "       [0., 0., 0., 0., 0., 0., 0., 0., 0., 0.],\n",
       "       [0., 0., 0., 0., 0., 0., 0., 0., 0., 0.]])"
      ]
     },
     "execution_count": 12,
     "metadata": {},
     "output_type": "execute_result"
    }
   ],
   "source": [
    "P0-Pc"
   ]
  },
  {
   "cell_type": "code",
   "execution_count": 13,
   "id": "602ffca8",
   "metadata": {},
   "outputs": [],
   "source": [
    "J,K=mf.get_jk()\n",
    "h1=mf.get_hcore()\n",
    "F=mf.get_fock()"
   ]
  },
  {
   "cell_type": "code",
   "execution_count": 14,
   "id": "ca41b33d",
   "metadata": {},
   "outputs": [
    {
     "data": {
      "text/plain": [
       "(-199.41622941625042, -199.4162294162504)"
      ]
     },
     "execution_count": 14,
     "metadata": {},
     "output_type": "execute_result"
    }
   ],
   "source": [
    "summary[\"e1\"],np.einsum(\"ij,ij\",h1,P0)"
   ]
  },
  {
   "cell_type": "code",
   "execution_count": 15,
   "id": "ae20bfc1",
   "metadata": {},
   "outputs": [
    {
     "data": {
      "text/plain": [
       "(77.70084988123745, 77.70084988123745)"
      ]
     },
     "execution_count": 15,
     "metadata": {},
     "output_type": "execute_result"
    }
   ],
   "source": [
    "summary[\"coul\"],np.einsum(\"ij,ij\",J,P0)/2 # it is the HF Coulomb operator "
   ]
  },
  {
   "cell_type": "code",
   "execution_count": 16,
   "id": "7bdcfdb2",
   "metadata": {},
   "outputs": [
    {
     "data": {
      "text/plain": [
       "(-13.906321745095541, -13.481304665613118)"
      ]
     },
     "execution_count": 16,
     "metadata": {},
     "output_type": "execute_result"
    }
   ],
   "source": [
    "summary[\"exc\"],-np.einsum(\"ij,ij\",K,P0)/4"
   ]
  },
  {
   "cell_type": "code",
   "execution_count": 17,
   "id": "168cf70a",
   "metadata": {},
   "outputs": [
    {
     "data": {
      "text/plain": [
       "(77.70084988123745, 77.70084988123745)"
      ]
     },
     "execution_count": 17,
     "metadata": {},
     "output_type": "execute_result"
    }
   ],
   "source": [
    "V_eff=mf.get_veff()\n",
    "np.einsum(\"ij,ij\",V_eff.vj,P0)/2,summary[\"coul\"]#+summary[\"exc\"]"
   ]
  },
  {
   "cell_type": "code",
   "execution_count": 18,
   "id": "ff6ecdb3",
   "metadata": {},
   "outputs": [
    {
     "data": {
      "text/plain": [
       "{'ecoul': 77.70084988123745,\n",
       " 'exc': -13.906321745095541,\n",
       " 'vj': array([[ 1.42929289e+01,  2.91199997e+00, -8.01264724e-18,\n",
       "          5.09709903e-17,  1.14185217e-01,  2.59041906e-04,\n",
       "          7.12136093e-01, -1.90872055e-19,  2.99232187e-18,\n",
       "         -1.17494979e+00],\n",
       "        [ 2.91199997e+00,  7.83772966e+00, -4.52159388e-17,\n",
       "          2.75571801e-16,  1.10445102e+00,  8.18071600e-01,\n",
       "          4.22002654e+00, -1.43146809e-17,  9.34700297e-17,\n",
       "         -3.51062467e+00],\n",
       "        [-8.01264724e-18, -4.52159388e-17,  7.57890600e+00,\n",
       "         -4.09394125e-17,  2.66159794e-17, -5.48186936e-19,\n",
       "         -9.03033560e-18,  2.38922158e+00, -2.40078629e-18,\n",
       "          5.07220030e-18],\n",
       "        [ 5.09709903e-17,  2.75571801e-16, -4.09394125e-17,\n",
       "          7.57890600e+00, -3.26209552e-17,  1.86282870e-18,\n",
       "          8.14649462e-17, -2.40078629e-18,  2.38922158e+00,\n",
       "         -8.06973038e-17],\n",
       "        [ 1.14185217e-01,  1.10445102e+00,  2.66159794e-17,\n",
       "         -3.26209552e-17,  8.33570358e+00,  1.40677875e+00,\n",
       "          5.07687161e+00, -1.78424451e-17,  1.08523033e-16,\n",
       "         -3.29711317e+00],\n",
       "        [ 2.59041906e-04,  8.18071600e-01, -5.48186936e-19,\n",
       "          1.86282870e-18,  1.40677875e+00,  1.90084748e+01,\n",
       "          3.66429580e+00, -1.32068416e-17,  3.83202567e-17,\n",
       "         -5.03511414e-02],\n",
       "        [ 7.12136093e-01,  4.22002654e+00, -9.03033560e-18,\n",
       "          8.14649462e-17,  5.07687161e+00,  3.66429580e+00,\n",
       "          9.85319831e+00, -6.02775928e-17,  2.42652458e-16,\n",
       "         -6.29502386e-01],\n",
       "        [-1.90872055e-19, -1.43146809e-17,  2.38922158e+00,\n",
       "         -2.40078629e-18, -1.78424451e-17, -1.32068416e-17,\n",
       "         -6.02775928e-17,  9.72325328e+00,  2.93696158e-17,\n",
       "         -2.21214536e-17],\n",
       "        [ 2.99232187e-18,  9.34700297e-17, -2.40078629e-18,\n",
       "          2.38922158e+00,  1.08523033e-16,  3.83202567e-17,\n",
       "          2.42652458e-16,  2.93696158e-17,  9.72325328e+00,\n",
       "          6.27117118e-18],\n",
       "        [-1.17494979e+00, -3.51062467e+00,  5.07220030e-18,\n",
       "         -8.06973038e-17, -3.29711317e+00, -5.03511414e-02,\n",
       "         -6.29502386e-01, -2.21214536e-17,  6.27117118e-18,\n",
       "          1.00863213e+01]]),\n",
       " 'vk': array([[ 1.80179680e+00,  3.08138989e-01, -5.97698281e-19,\n",
       "          1.48500407e-18,  4.67633055e-03,  3.51762312e-04,\n",
       "          7.77347113e-02, -3.47751609e-20, -1.96094261e-19,\n",
       "         -1.25407259e-01],\n",
       "        [ 3.08138989e-01,  4.66081990e-01, -1.49507966e-17,\n",
       "          1.42767884e-16,  4.27384962e-02,  9.58346976e-02,\n",
       "          2.89671758e-01,  2.15154483e-17,  1.01893215e-17,\n",
       "         -2.16776109e-01],\n",
       "        [-5.97698281e-19, -1.49507966e-17,  2.34708382e-01,\n",
       "         -1.04127359e-16,  7.04069611e-17,  5.41116137e-18,\n",
       "          2.06397892e-17,  1.91519707e-01, -3.53944319e-17,\n",
       "         -3.30112442e-17],\n",
       "        [ 1.48500407e-18,  1.42767884e-16, -1.04127359e-16,\n",
       "          2.34708382e-01, -1.21128172e-16,  3.48093256e-17,\n",
       "         -1.07036324e-17, -3.39768499e-17,  1.91519707e-01,\n",
       "         -2.68021638e-17],\n",
       "        [ 4.67633055e-03,  4.27384962e-02,  7.04069611e-17,\n",
       "         -1.21128172e-16,  4.33656156e-01,  1.62001870e-01,\n",
       "          3.34520092e-01,  4.83347073e-18,  3.50373591e-17,\n",
       "         -1.86971875e-01],\n",
       "        [ 3.51762312e-04,  9.58346976e-02,  5.41116137e-18,\n",
       "          3.48093256e-17,  1.62001870e-01,  2.44215964e+00,\n",
       "          4.11643364e-01, -1.57424041e-20, -2.28217495e-17,\n",
       "         -3.24584673e-03],\n",
       "        [ 7.77347113e-02,  2.89671758e-01,  2.06397892e-17,\n",
       "         -1.07036324e-17,  3.34520092e-01,  4.11643364e-01,\n",
       "          6.60104957e-01, -3.18382324e-17,  1.14957154e-16,\n",
       "         -1.34189181e-02],\n",
       "        [-3.47751609e-20,  2.15154483e-17,  1.91519707e-01,\n",
       "         -3.39768499e-17,  4.83347073e-18, -1.57424041e-20,\n",
       "         -3.18382324e-17,  4.65118255e-01,  6.71899411e-17,\n",
       "         -5.16339053e-17],\n",
       "        [-1.96094261e-19,  1.01893215e-17, -3.53944319e-17,\n",
       "          1.91519707e-01,  3.50373591e-17, -2.28217495e-17,\n",
       "          1.14957154e-16,  6.71899411e-17,  4.65118255e-01,\n",
       "          5.04751227e-17],\n",
       "        [-1.25407259e-01, -2.16776109e-01, -3.30112442e-17,\n",
       "         -2.68021638e-17, -1.86971875e-01, -3.24584673e-03,\n",
       "         -1.34189181e-02, -5.16339053e-17,  5.04751227e-17,\n",
       "          5.57751651e-01]])}"
      ]
     },
     "execution_count": 18,
     "metadata": {},
     "output_type": "execute_result"
    }
   ],
   "source": [
    "vars(V_eff)"
   ]
  },
  {
   "cell_type": "code",
   "execution_count": 19,
   "id": "d7373e0f",
   "metadata": {},
   "outputs": [
    {
     "data": {
      "text/plain": [
       "(-135.11313705103996, -13.906321745095541, -13.906321745095541)"
      ]
     },
     "execution_count": 19,
     "metadata": {},
     "output_type": "execute_result"
    }
   ],
   "source": [
    "-np.einsum(\"ij,ji\",V_eff,P0),summary[\"exc\"],V_eff.exc"
   ]
  },
  {
   "cell_type": "code",
   "execution_count": 20,
   "id": "348b2acf",
   "metadata": {},
   "outputs": [
    {
     "data": {
      "text/plain": [
       "(-3.3703261664032795,\n",
       " -135.11313705103996,\n",
       " -135.6217012801085,\n",
       " -13.906321745095541)"
      ]
     },
     "execution_count": 20,
     "metadata": {},
     "output_type": "execute_result"
    }
   ],
   "source": [
    "-np.einsum(\"ij,ji\",V_eff.vk,P0)/4,-np.einsum(\"ij,ji\",V_eff,P0), summary[\"e1\"]+summary[\"coul\"]+summary[\"exc\"],summary[\"exc\"]"
   ]
  },
  {
   "cell_type": "code",
   "execution_count": 21,
   "id": "827721b7",
   "metadata": {},
   "outputs": [],
   "source": [
    "ni=mf._numint"
   ]
  },
  {
   "cell_type": "code",
   "execution_count": 22,
   "id": "f45eb146",
   "metadata": {},
   "outputs": [
    {
     "data": {
      "text/plain": [
       "(14.000000148684354,\n",
       " -10.535995578692262,\n",
       " array([[-1.71996375e+00, -2.41057629e-01,  3.25260652e-18,\n",
       "         -4.28259858e-18,  2.70071249e-04, -1.58760958e-05,\n",
       "         -5.83843075e-02,  2.24971951e-18,  2.78504433e-18,\n",
       "          9.65667079e-02],\n",
       "        [-2.41057629e-01, -4.50376033e-01,  1.01684611e-16,\n",
       "         -5.06322415e-17, -3.87927154e-02, -7.12940610e-02,\n",
       "         -2.46664657e-01, -6.05797964e-18, -1.27935856e-17,\n",
       "          1.99171887e-01],\n",
       "        [ 3.25260652e-18,  1.01684611e-16, -4.19073117e-01,\n",
       "          1.97324795e-17, -1.26851654e-17,  2.68255334e-18,\n",
       "         -7.98243849e-18, -1.31797807e-01,  9.11407451e-19,\n",
       "          2.42319186e-17],\n",
       "        [-4.28259858e-18, -5.06322415e-17,  1.97324795e-17,\n",
       "         -4.19073117e-01,  1.36609474e-17,  2.53432258e-18,\n",
       "         -3.79470760e-18,  1.69575996e-18, -1.31797807e-01,\n",
       "          2.19008839e-17],\n",
       "        [ 2.70071249e-04, -3.87927154e-02, -1.26851654e-17,\n",
       "          1.36609474e-17, -5.01561204e-01, -1.23010517e-01,\n",
       "         -3.01330458e-01, -2.36356074e-17, -6.83047369e-18,\n",
       "          1.84391856e-01],\n",
       "        [-1.58760958e-05, -7.12940610e-02,  2.68255334e-18,\n",
       "          2.53432258e-18, -1.23010517e-01, -2.31969942e+00,\n",
       "         -3.14861945e-01,  1.95156391e-18, -2.16840434e-19,\n",
       "         -8.61872183e-04],\n",
       "        [-5.83843075e-02, -2.46664657e-01, -7.98243849e-18,\n",
       "         -3.79470760e-18, -3.01330458e-01, -3.14861945e-01,\n",
       "         -6.14497750e-01,  4.42354486e-17, -5.09575021e-17,\n",
       "          1.50401717e-02],\n",
       "        [ 2.24971951e-18, -6.05797964e-18, -1.31797807e-01,\n",
       "          1.69575996e-18, -2.36356074e-17,  1.95156391e-18,\n",
       "          4.42354486e-17, -5.99316379e-01,  7.58941521e-18,\n",
       "          1.36609474e-17],\n",
       "        [ 2.78504433e-18, -1.27935856e-17,  9.11407451e-19,\n",
       "         -1.31797807e-01, -6.83047369e-18, -2.16840434e-19,\n",
       "         -5.09575021e-17,  7.58941521e-18, -5.99316379e-01,\n",
       "         -1.00830802e-17],\n",
       "        [ 9.65667079e-02,  1.99171887e-01,  2.42319186e-17,\n",
       "          2.19008839e-17,  1.84391856e-01, -8.61872183e-04,\n",
       "          1.50401717e-02,  1.36609474e-17, -1.00830802e-17,\n",
       "         -6.30201466e-01]]))"
      ]
     },
     "execution_count": 22,
     "metadata": {},
     "output_type": "execute_result"
    }
   ],
   "source": [
    "ks=mf\n",
    "mol=CO\n",
    "dm=P0\n",
    "n, exc, vxc = ni.nr_rks(mol, ks.grids, ks.xc, dm)\n",
    "n, exc, vxc "
   ]
  },
  {
   "cell_type": "code",
   "execution_count": 23,
   "id": "1c4cf5c8",
   "metadata": {},
   "outputs": [
    {
     "data": {
      "text/plain": [
       "-10.160932783971273"
      ]
     },
     "execution_count": 23,
     "metadata": {},
     "output_type": "execute_result"
    }
   ],
   "source": [
    "np.einsum('ij,ji', dm, vxc).real *3/4"
   ]
  },
  {
   "cell_type": "code",
   "execution_count": 24,
   "id": "1f7081b6",
   "metadata": {},
   "outputs": [
    {
     "data": {
      "text/plain": [
       "(-10.535995578692262, -13.906321745095541)"
      ]
     },
     "execution_count": 24,
     "metadata": {},
     "output_type": "execute_result"
    }
   ],
   "source": [
    "exc,exc- np.einsum('ij,ji', dm, V_eff.vk).real * .5 * .5"
   ]
  },
  {
   "cell_type": "code",
   "execution_count": 25,
   "id": "7cc02719",
   "metadata": {},
   "outputs": [
    {
     "data": {
      "text/plain": [
       "(0.0, 0.25, 0.25)"
      ]
     },
     "execution_count": 25,
     "metadata": {},
     "output_type": "execute_result"
    }
   ],
   "source": [
    "omega, alpha, hyb = ni.rsh_and_hybrid_coeff(ks.xc, spin=mol.spin)\n",
    "omega, alpha,hyb"
   ]
  },
  {
   "cell_type": "code",
   "execution_count": 26,
   "id": "84f3d22b",
   "metadata": {},
   "outputs": [
    {
     "data": {
      "text/plain": [
       "True"
      ]
     },
     "execution_count": 26,
     "metadata": {},
     "output_type": "execute_result"
    }
   ],
   "source": [
    "ks.direct_scf"
   ]
  },
  {
   "cell_type": "code",
   "execution_count": 27,
   "id": "325cac74",
   "metadata": {},
   "outputs": [
    {
     "data": {
      "text/plain": [
       "(True, 'GGA')"
      ]
     },
     "execution_count": 27,
     "metadata": {},
     "output_type": "execute_result"
    }
   ],
   "source": [
    "xctype=ni._xc_type(mf.xc)\n",
    "ni.libxc.is_hybrid_xc(ks.xc),ni._xc_type(mf.xc)"
   ]
  },
  {
   "cell_type": "code",
   "execution_count": 28,
   "id": "84e13494",
   "metadata": {},
   "outputs": [
    {
     "data": {
      "text/plain": [
       "(True, True)"
      ]
     },
     "execution_count": 28,
     "metadata": {},
     "output_type": "execute_result"
    }
   ],
   "source": [
    "np.allclose(ks.get_j(CO,P0),mf_hf.get_jk(CO,P0)[0]),np.allclose(ks.get_jk(CO,P0)[1],mf_hf.get_jk(CO,P0)[1])"
   ]
  },
  {
   "cell_type": "code",
   "execution_count": 29,
   "id": "75444f24",
   "metadata": {},
   "outputs": [
    {
     "data": {
      "text/plain": [
       "(<bound method RHF.get_jk of RHF object of <class 'pyscf.scf.hf.RHF'>>,\n",
       " <bound method RHF.get_jk of RKS object of <class 'pyscf.dft.rks.RKS'>>)"
      ]
     },
     "execution_count": 29,
     "metadata": {},
     "output_type": "execute_result"
    }
   ],
   "source": [
    "mf_hf.get_jk,mf.get_jk"
   ]
  },
  {
   "cell_type": "code",
   "execution_count": 30,
   "id": "02ad1227",
   "metadata": {},
   "outputs": [
    {
     "data": {
      "text/plain": [
       "{'mol': <pyscf.gto.mole.Mole at 0x7fef217f98b0>,\n",
       " 'stdout': <ipykernel.iostream.OutStream at 0x7fef5b3b9ee0>,\n",
       " 'verbose': 3,\n",
       " 'symmetry': False,\n",
       " 'coords': array([[-4.46851140e+00, -4.46851140e+00, -2.37126186e+00],\n",
       "        [-4.78551877e+00, -4.78551877e+00, -2.53948510e+00],\n",
       "        [-4.48132694e+00, -4.48132694e+00, -2.48132694e+00],\n",
       "        ...,\n",
       "        [ 1.00000000e+04,  1.00000000e+04,  1.00000000e+04],\n",
       "        [ 1.00000000e+04,  1.00000000e+04,  1.00000000e+04],\n",
       "        [ 1.00000000e+04,  1.00000000e+04,  1.00000000e+04]]),\n",
       " 'weights': array([1.09499036, 1.38921666, 0.01994748, ..., 0.        , 0.        ,\n",
       "        0.        ]),\n",
       " 'non0tab': array([[ 0, 78, 86,  0, 64, 72],\n",
       "        [ 0, 83, 90,  0, 72, 80],\n",
       "        [ 0, 87, 93,  0, 78, 85],\n",
       "        ...,\n",
       "        [ 0, 83, 90,  0, 72, 80],\n",
       "        [ 0, 78, 86,  0, 66, 74],\n",
       "        [ 0, 70, 78,  0, 57, 65]], dtype=uint8),\n",
       " 'screen_index': array([[ 0, 78, 86,  0, 64, 72],\n",
       "        [ 0, 83, 90,  0, 72, 80],\n",
       "        [ 0, 87, 93,  0, 78, 85],\n",
       "        ...,\n",
       "        [ 0, 83, 90,  0, 72, 80],\n",
       "        [ 0, 78, 86,  0, 66, 74],\n",
       "        [ 0, 70, 78,  0, 57, 65]], dtype=uint8),\n",
       " 'atom_grid': {},\n",
       " '_keys': None,\n",
       " 'level': 3}"
      ]
     },
     "execution_count": 30,
     "metadata": {},
     "output_type": "execute_result"
    }
   ],
   "source": [
    "vars(mf.grids)"
   ]
  },
  {
   "cell_type": "code",
   "execution_count": 31,
   "id": "e31bdfa4",
   "metadata": {},
   "outputs": [
    {
     "data": {
      "text/plain": [
       "array([[-4.46851140e+00, -4.78551877e+00, -4.48132694e+00, ...,\n",
       "         1.00000000e+04,  1.00000000e+04,  1.00000000e+04],\n",
       "       [-4.46851140e+00, -4.78551877e+00, -4.48132694e+00, ...,\n",
       "         1.00000000e+04,  1.00000000e+04,  1.00000000e+04],\n",
       "       [-2.37126186e+00, -2.53948510e+00, -2.48132694e+00, ...,\n",
       "         1.00000000e+04,  1.00000000e+04,  1.00000000e+04]])"
      ]
     },
     "execution_count": 31,
     "metadata": {},
     "output_type": "execute_result"
    }
   ],
   "source": [
    "mf.grids.coords.T[:]"
   ]
  },
  {
   "cell_type": "code",
   "execution_count": 32,
   "id": "f9fe323a",
   "metadata": {},
   "outputs": [
    {
     "data": {
      "text/plain": [
       "(array([ 1910,  1911,  1917, ..., 21074, 21079, 21117]),)"
      ]
     },
     "execution_count": 32,
     "metadata": {},
     "output_type": "execute_result"
    }
   ],
   "source": [
    "gv=np.where(np.array([np.linalg.norm(x) for x in mf.grids.coords])<2)\n",
    "gv"
   ]
  },
  {
   "cell_type": "code",
   "execution_count": 33,
   "id": "7cea098e",
   "metadata": {},
   "outputs": [],
   "source": [
    "gcs=mf.grids.coords[gv][::10,:]"
   ]
  },
  {
   "cell_type": "code",
   "execution_count": 34,
   "id": "eeed5f95",
   "metadata": {},
   "outputs": [
    {
     "data": {
      "text/plain": [
       "(23136, (865, 3))"
      ]
     },
     "execution_count": 34,
     "metadata": {},
     "output_type": "execute_result"
    }
   ],
   "source": [
    "len(ks.grids.weights),gcs.shape"
   ]
  },
  {
   "cell_type": "code",
   "execution_count": 36,
   "id": "1de0a002",
   "metadata": {},
   "outputs": [
    {
     "data": {
      "text/plain": [
       "<function pyscf.dft.numint.eval_ao(mol, coords, deriv=0, shls_slice=None, non0tab=None, cutoff=None, out=None, verbose=None)>"
      ]
     },
     "execution_count": 36,
     "metadata": {},
     "output_type": "execute_result"
    }
   ],
   "source": [
    "ni.block_loop(0,ks.grids)\n",
    "ni.eval_ao"
   ]
  },
  {
   "cell_type": "code",
   "execution_count": 37,
   "id": "0226655b",
   "metadata": {},
   "outputs": [
    {
     "data": {
      "text/plain": [
       "array([[ 6.14288519e+00,  2.15554817e-01,  0.00000000e+00,\n",
       "         0.00000000e+00,  0.00000000e+00,  8.20476263e-12,\n",
       "         5.57535838e-02,  0.00000000e+00,  0.00000000e+00,\n",
       "        -9.24775489e-02]])"
      ]
     },
     "execution_count": 37,
     "metadata": {},
     "output_type": "execute_result"
    }
   ],
   "source": [
    "ni.eval_ao(CO,np.array([[0,0,0]]))#.shape"
   ]
  },
  {
   "cell_type": "code",
   "execution_count": 38,
   "id": "68e5ca13",
   "metadata": {},
   "outputs": [],
   "source": [
    "ao_ong=ni.eval_ao(CO,gcs)"
   ]
  },
  {
   "cell_type": "code",
   "execution_count": 39,
   "id": "a22db320",
   "metadata": {},
   "outputs": [
    {
     "data": {
      "text/plain": [
       "array([-4.46851140e+00, -4.78551877e+00, -4.48132694e+00, ...,\n",
       "        1.00000000e+04,  1.00000000e+04,  1.00000000e+04])"
      ]
     },
     "execution_count": 39,
     "metadata": {},
     "output_type": "execute_result"
    }
   ],
   "source": [
    "ks.grids.coords[:,0]"
   ]
  },
  {
   "cell_type": "code",
   "execution_count": 40,
   "id": "8d5d8def",
   "metadata": {},
   "outputs": [],
   "source": [
    "%matplotlib notebook"
   ]
  },
  {
   "cell_type": "code",
   "execution_count": 41,
   "id": "4036fa68",
   "metadata": {},
   "outputs": [
    {
     "data": {
      "application/javascript": [
       "/* Put everything inside the global mpl namespace */\n",
       "/* global mpl */\n",
       "window.mpl = {};\n",
       "\n",
       "mpl.get_websocket_type = function () {\n",
       "    if (typeof WebSocket !== 'undefined') {\n",
       "        return WebSocket;\n",
       "    } else if (typeof MozWebSocket !== 'undefined') {\n",
       "        return MozWebSocket;\n",
       "    } else {\n",
       "        alert(\n",
       "            'Your browser does not have WebSocket support. ' +\n",
       "                'Please try Chrome, Safari or Firefox ≥ 6. ' +\n",
       "                'Firefox 4 and 5 are also supported but you ' +\n",
       "                'have to enable WebSockets in about:config.'\n",
       "        );\n",
       "    }\n",
       "};\n",
       "\n",
       "mpl.figure = function (figure_id, websocket, ondownload, parent_element) {\n",
       "    this.id = figure_id;\n",
       "\n",
       "    this.ws = websocket;\n",
       "\n",
       "    this.supports_binary = this.ws.binaryType !== undefined;\n",
       "\n",
       "    if (!this.supports_binary) {\n",
       "        var warnings = document.getElementById('mpl-warnings');\n",
       "        if (warnings) {\n",
       "            warnings.style.display = 'block';\n",
       "            warnings.textContent =\n",
       "                'This browser does not support binary websocket messages. ' +\n",
       "                'Performance may be slow.';\n",
       "        }\n",
       "    }\n",
       "\n",
       "    this.imageObj = new Image();\n",
       "\n",
       "    this.context = undefined;\n",
       "    this.message = undefined;\n",
       "    this.canvas = undefined;\n",
       "    this.rubberband_canvas = undefined;\n",
       "    this.rubberband_context = undefined;\n",
       "    this.format_dropdown = undefined;\n",
       "\n",
       "    this.image_mode = 'full';\n",
       "\n",
       "    this.root = document.createElement('div');\n",
       "    this.root.setAttribute('style', 'display: inline-block');\n",
       "    this._root_extra_style(this.root);\n",
       "\n",
       "    parent_element.appendChild(this.root);\n",
       "\n",
       "    this._init_header(this);\n",
       "    this._init_canvas(this);\n",
       "    this._init_toolbar(this);\n",
       "\n",
       "    var fig = this;\n",
       "\n",
       "    this.waiting = false;\n",
       "\n",
       "    this.ws.onopen = function () {\n",
       "        fig.send_message('supports_binary', { value: fig.supports_binary });\n",
       "        fig.send_message('send_image_mode', {});\n",
       "        if (fig.ratio !== 1) {\n",
       "            fig.send_message('set_device_pixel_ratio', {\n",
       "                device_pixel_ratio: fig.ratio,\n",
       "            });\n",
       "        }\n",
       "        fig.send_message('refresh', {});\n",
       "    };\n",
       "\n",
       "    this.imageObj.onload = function () {\n",
       "        if (fig.image_mode === 'full') {\n",
       "            // Full images could contain transparency (where diff images\n",
       "            // almost always do), so we need to clear the canvas so that\n",
       "            // there is no ghosting.\n",
       "            fig.context.clearRect(0, 0, fig.canvas.width, fig.canvas.height);\n",
       "        }\n",
       "        fig.context.drawImage(fig.imageObj, 0, 0);\n",
       "    };\n",
       "\n",
       "    this.imageObj.onunload = function () {\n",
       "        fig.ws.close();\n",
       "    };\n",
       "\n",
       "    this.ws.onmessage = this._make_on_message_function(this);\n",
       "\n",
       "    this.ondownload = ondownload;\n",
       "};\n",
       "\n",
       "mpl.figure.prototype._init_header = function () {\n",
       "    var titlebar = document.createElement('div');\n",
       "    titlebar.classList =\n",
       "        'ui-dialog-titlebar ui-widget-header ui-corner-all ui-helper-clearfix';\n",
       "    var titletext = document.createElement('div');\n",
       "    titletext.classList = 'ui-dialog-title';\n",
       "    titletext.setAttribute(\n",
       "        'style',\n",
       "        'width: 100%; text-align: center; padding: 3px;'\n",
       "    );\n",
       "    titlebar.appendChild(titletext);\n",
       "    this.root.appendChild(titlebar);\n",
       "    this.header = titletext;\n",
       "};\n",
       "\n",
       "mpl.figure.prototype._canvas_extra_style = function (_canvas_div) {};\n",
       "\n",
       "mpl.figure.prototype._root_extra_style = function (_canvas_div) {};\n",
       "\n",
       "mpl.figure.prototype._init_canvas = function () {\n",
       "    var fig = this;\n",
       "\n",
       "    var canvas_div = (this.canvas_div = document.createElement('div'));\n",
       "    canvas_div.setAttribute('tabindex', '0');\n",
       "    canvas_div.setAttribute(\n",
       "        'style',\n",
       "        'border: 1px solid #ddd;' +\n",
       "            'box-sizing: content-box;' +\n",
       "            'clear: both;' +\n",
       "            'min-height: 1px;' +\n",
       "            'min-width: 1px;' +\n",
       "            'outline: 0;' +\n",
       "            'overflow: hidden;' +\n",
       "            'position: relative;' +\n",
       "            'resize: both;' +\n",
       "            'z-index: 2;'\n",
       "    );\n",
       "\n",
       "    function on_keyboard_event_closure(name) {\n",
       "        return function (event) {\n",
       "            return fig.key_event(event, name);\n",
       "        };\n",
       "    }\n",
       "\n",
       "    canvas_div.addEventListener(\n",
       "        'keydown',\n",
       "        on_keyboard_event_closure('key_press')\n",
       "    );\n",
       "    canvas_div.addEventListener(\n",
       "        'keyup',\n",
       "        on_keyboard_event_closure('key_release')\n",
       "    );\n",
       "\n",
       "    this._canvas_extra_style(canvas_div);\n",
       "    this.root.appendChild(canvas_div);\n",
       "\n",
       "    var canvas = (this.canvas = document.createElement('canvas'));\n",
       "    canvas.classList.add('mpl-canvas');\n",
       "    canvas.setAttribute(\n",
       "        'style',\n",
       "        'box-sizing: content-box;' +\n",
       "            'pointer-events: none;' +\n",
       "            'position: relative;' +\n",
       "            'z-index: 0;'\n",
       "    );\n",
       "\n",
       "    this.context = canvas.getContext('2d');\n",
       "\n",
       "    var backingStore =\n",
       "        this.context.backingStorePixelRatio ||\n",
       "        this.context.webkitBackingStorePixelRatio ||\n",
       "        this.context.mozBackingStorePixelRatio ||\n",
       "        this.context.msBackingStorePixelRatio ||\n",
       "        this.context.oBackingStorePixelRatio ||\n",
       "        this.context.backingStorePixelRatio ||\n",
       "        1;\n",
       "\n",
       "    this.ratio = (window.devicePixelRatio || 1) / backingStore;\n",
       "\n",
       "    var rubberband_canvas = (this.rubberband_canvas = document.createElement(\n",
       "        'canvas'\n",
       "    ));\n",
       "    rubberband_canvas.setAttribute(\n",
       "        'style',\n",
       "        'box-sizing: content-box;' +\n",
       "            'left: 0;' +\n",
       "            'pointer-events: none;' +\n",
       "            'position: absolute;' +\n",
       "            'top: 0;' +\n",
       "            'z-index: 1;'\n",
       "    );\n",
       "\n",
       "    // Apply a ponyfill if ResizeObserver is not implemented by browser.\n",
       "    if (this.ResizeObserver === undefined) {\n",
       "        if (window.ResizeObserver !== undefined) {\n",
       "            this.ResizeObserver = window.ResizeObserver;\n",
       "        } else {\n",
       "            var obs = _JSXTOOLS_RESIZE_OBSERVER({});\n",
       "            this.ResizeObserver = obs.ResizeObserver;\n",
       "        }\n",
       "    }\n",
       "\n",
       "    this.resizeObserverInstance = new this.ResizeObserver(function (entries) {\n",
       "        var nentries = entries.length;\n",
       "        for (var i = 0; i < nentries; i++) {\n",
       "            var entry = entries[i];\n",
       "            var width, height;\n",
       "            if (entry.contentBoxSize) {\n",
       "                if (entry.contentBoxSize instanceof Array) {\n",
       "                    // Chrome 84 implements new version of spec.\n",
       "                    width = entry.contentBoxSize[0].inlineSize;\n",
       "                    height = entry.contentBoxSize[0].blockSize;\n",
       "                } else {\n",
       "                    // Firefox implements old version of spec.\n",
       "                    width = entry.contentBoxSize.inlineSize;\n",
       "                    height = entry.contentBoxSize.blockSize;\n",
       "                }\n",
       "            } else {\n",
       "                // Chrome <84 implements even older version of spec.\n",
       "                width = entry.contentRect.width;\n",
       "                height = entry.contentRect.height;\n",
       "            }\n",
       "\n",
       "            // Keep the size of the canvas and rubber band canvas in sync with\n",
       "            // the canvas container.\n",
       "            if (entry.devicePixelContentBoxSize) {\n",
       "                // Chrome 84 implements new version of spec.\n",
       "                canvas.setAttribute(\n",
       "                    'width',\n",
       "                    entry.devicePixelContentBoxSize[0].inlineSize\n",
       "                );\n",
       "                canvas.setAttribute(\n",
       "                    'height',\n",
       "                    entry.devicePixelContentBoxSize[0].blockSize\n",
       "                );\n",
       "            } else {\n",
       "                canvas.setAttribute('width', width * fig.ratio);\n",
       "                canvas.setAttribute('height', height * fig.ratio);\n",
       "            }\n",
       "            /* This rescales the canvas back to display pixels, so that it\n",
       "             * appears correct on HiDPI screens. */\n",
       "            canvas.style.width = width + 'px';\n",
       "            canvas.style.height = height + 'px';\n",
       "\n",
       "            rubberband_canvas.setAttribute('width', width);\n",
       "            rubberband_canvas.setAttribute('height', height);\n",
       "\n",
       "            // And update the size in Python. We ignore the initial 0/0 size\n",
       "            // that occurs as the element is placed into the DOM, which should\n",
       "            // otherwise not happen due to the minimum size styling.\n",
       "            if (fig.ws.readyState == 1 && width != 0 && height != 0) {\n",
       "                fig.request_resize(width, height);\n",
       "            }\n",
       "        }\n",
       "    });\n",
       "    this.resizeObserverInstance.observe(canvas_div);\n",
       "\n",
       "    function on_mouse_event_closure(name) {\n",
       "        /* User Agent sniffing is bad, but WebKit is busted:\n",
       "         * https://bugs.webkit.org/show_bug.cgi?id=144526\n",
       "         * https://bugs.webkit.org/show_bug.cgi?id=181818\n",
       "         * The worst that happens here is that they get an extra browser\n",
       "         * selection when dragging, if this check fails to catch them.\n",
       "         */\n",
       "        var UA = navigator.userAgent;\n",
       "        var isWebKit = /AppleWebKit/.test(UA) && !/Chrome/.test(UA);\n",
       "        if(isWebKit) {\n",
       "            return function (event) {\n",
       "                /* This prevents the web browser from automatically changing to\n",
       "                 * the text insertion cursor when the button is pressed. We\n",
       "                 * want to control all of the cursor setting manually through\n",
       "                 * the 'cursor' event from matplotlib */\n",
       "                event.preventDefault()\n",
       "                return fig.mouse_event(event, name);\n",
       "            };\n",
       "        } else {\n",
       "            return function (event) {\n",
       "                return fig.mouse_event(event, name);\n",
       "            };\n",
       "        }\n",
       "    }\n",
       "\n",
       "    canvas_div.addEventListener(\n",
       "        'mousedown',\n",
       "        on_mouse_event_closure('button_press')\n",
       "    );\n",
       "    canvas_div.addEventListener(\n",
       "        'mouseup',\n",
       "        on_mouse_event_closure('button_release')\n",
       "    );\n",
       "    canvas_div.addEventListener(\n",
       "        'dblclick',\n",
       "        on_mouse_event_closure('dblclick')\n",
       "    );\n",
       "    // Throttle sequential mouse events to 1 every 20ms.\n",
       "    canvas_div.addEventListener(\n",
       "        'mousemove',\n",
       "        on_mouse_event_closure('motion_notify')\n",
       "    );\n",
       "\n",
       "    canvas_div.addEventListener(\n",
       "        'mouseenter',\n",
       "        on_mouse_event_closure('figure_enter')\n",
       "    );\n",
       "    canvas_div.addEventListener(\n",
       "        'mouseleave',\n",
       "        on_mouse_event_closure('figure_leave')\n",
       "    );\n",
       "\n",
       "    canvas_div.addEventListener('wheel', function (event) {\n",
       "        if (event.deltaY < 0) {\n",
       "            event.step = 1;\n",
       "        } else {\n",
       "            event.step = -1;\n",
       "        }\n",
       "        on_mouse_event_closure('scroll')(event);\n",
       "    });\n",
       "\n",
       "    canvas_div.appendChild(canvas);\n",
       "    canvas_div.appendChild(rubberband_canvas);\n",
       "\n",
       "    this.rubberband_context = rubberband_canvas.getContext('2d');\n",
       "    this.rubberband_context.strokeStyle = '#000000';\n",
       "\n",
       "    this._resize_canvas = function (width, height, forward) {\n",
       "        if (forward) {\n",
       "            canvas_div.style.width = width + 'px';\n",
       "            canvas_div.style.height = height + 'px';\n",
       "        }\n",
       "    };\n",
       "\n",
       "    // Disable right mouse context menu.\n",
       "    canvas_div.addEventListener('contextmenu', function (_e) {\n",
       "        event.preventDefault();\n",
       "        return false;\n",
       "    });\n",
       "\n",
       "    function set_focus() {\n",
       "        canvas.focus();\n",
       "        canvas_div.focus();\n",
       "    }\n",
       "\n",
       "    window.setTimeout(set_focus, 100);\n",
       "};\n",
       "\n",
       "mpl.figure.prototype._init_toolbar = function () {\n",
       "    var fig = this;\n",
       "\n",
       "    var toolbar = document.createElement('div');\n",
       "    toolbar.classList = 'mpl-toolbar';\n",
       "    this.root.appendChild(toolbar);\n",
       "\n",
       "    function on_click_closure(name) {\n",
       "        return function (_event) {\n",
       "            return fig.toolbar_button_onclick(name);\n",
       "        };\n",
       "    }\n",
       "\n",
       "    function on_mouseover_closure(tooltip) {\n",
       "        return function (event) {\n",
       "            if (!event.currentTarget.disabled) {\n",
       "                return fig.toolbar_button_onmouseover(tooltip);\n",
       "            }\n",
       "        };\n",
       "    }\n",
       "\n",
       "    fig.buttons = {};\n",
       "    var buttonGroup = document.createElement('div');\n",
       "    buttonGroup.classList = 'mpl-button-group';\n",
       "    for (var toolbar_ind in mpl.toolbar_items) {\n",
       "        var name = mpl.toolbar_items[toolbar_ind][0];\n",
       "        var tooltip = mpl.toolbar_items[toolbar_ind][1];\n",
       "        var image = mpl.toolbar_items[toolbar_ind][2];\n",
       "        var method_name = mpl.toolbar_items[toolbar_ind][3];\n",
       "\n",
       "        if (!name) {\n",
       "            /* Instead of a spacer, we start a new button group. */\n",
       "            if (buttonGroup.hasChildNodes()) {\n",
       "                toolbar.appendChild(buttonGroup);\n",
       "            }\n",
       "            buttonGroup = document.createElement('div');\n",
       "            buttonGroup.classList = 'mpl-button-group';\n",
       "            continue;\n",
       "        }\n",
       "\n",
       "        var button = (fig.buttons[name] = document.createElement('button'));\n",
       "        button.classList = 'mpl-widget';\n",
       "        button.setAttribute('role', 'button');\n",
       "        button.setAttribute('aria-disabled', 'false');\n",
       "        button.addEventListener('click', on_click_closure(method_name));\n",
       "        button.addEventListener('mouseover', on_mouseover_closure(tooltip));\n",
       "\n",
       "        var icon_img = document.createElement('img');\n",
       "        icon_img.src = '_images/' + image + '.png';\n",
       "        icon_img.srcset = '_images/' + image + '_large.png 2x';\n",
       "        icon_img.alt = tooltip;\n",
       "        button.appendChild(icon_img);\n",
       "\n",
       "        buttonGroup.appendChild(button);\n",
       "    }\n",
       "\n",
       "    if (buttonGroup.hasChildNodes()) {\n",
       "        toolbar.appendChild(buttonGroup);\n",
       "    }\n",
       "\n",
       "    var fmt_picker = document.createElement('select');\n",
       "    fmt_picker.classList = 'mpl-widget';\n",
       "    toolbar.appendChild(fmt_picker);\n",
       "    this.format_dropdown = fmt_picker;\n",
       "\n",
       "    for (var ind in mpl.extensions) {\n",
       "        var fmt = mpl.extensions[ind];\n",
       "        var option = document.createElement('option');\n",
       "        option.selected = fmt === mpl.default_extension;\n",
       "        option.innerHTML = fmt;\n",
       "        fmt_picker.appendChild(option);\n",
       "    }\n",
       "\n",
       "    var status_bar = document.createElement('span');\n",
       "    status_bar.classList = 'mpl-message';\n",
       "    toolbar.appendChild(status_bar);\n",
       "    this.message = status_bar;\n",
       "};\n",
       "\n",
       "mpl.figure.prototype.request_resize = function (x_pixels, y_pixels) {\n",
       "    // Request matplotlib to resize the figure. Matplotlib will then trigger a resize in the client,\n",
       "    // which will in turn request a refresh of the image.\n",
       "    this.send_message('resize', { width: x_pixels, height: y_pixels });\n",
       "};\n",
       "\n",
       "mpl.figure.prototype.send_message = function (type, properties) {\n",
       "    properties['type'] = type;\n",
       "    properties['figure_id'] = this.id;\n",
       "    this.ws.send(JSON.stringify(properties));\n",
       "};\n",
       "\n",
       "mpl.figure.prototype.send_draw_message = function () {\n",
       "    if (!this.waiting) {\n",
       "        this.waiting = true;\n",
       "        this.ws.send(JSON.stringify({ type: 'draw', figure_id: this.id }));\n",
       "    }\n",
       "};\n",
       "\n",
       "mpl.figure.prototype.handle_save = function (fig, _msg) {\n",
       "    var format_dropdown = fig.format_dropdown;\n",
       "    var format = format_dropdown.options[format_dropdown.selectedIndex].value;\n",
       "    fig.ondownload(fig, format);\n",
       "};\n",
       "\n",
       "mpl.figure.prototype.handle_resize = function (fig, msg) {\n",
       "    var size = msg['size'];\n",
       "    if (size[0] !== fig.canvas.width || size[1] !== fig.canvas.height) {\n",
       "        fig._resize_canvas(size[0], size[1], msg['forward']);\n",
       "        fig.send_message('refresh', {});\n",
       "    }\n",
       "};\n",
       "\n",
       "mpl.figure.prototype.handle_rubberband = function (fig, msg) {\n",
       "    var x0 = msg['x0'] / fig.ratio;\n",
       "    var y0 = (fig.canvas.height - msg['y0']) / fig.ratio;\n",
       "    var x1 = msg['x1'] / fig.ratio;\n",
       "    var y1 = (fig.canvas.height - msg['y1']) / fig.ratio;\n",
       "    x0 = Math.floor(x0) + 0.5;\n",
       "    y0 = Math.floor(y0) + 0.5;\n",
       "    x1 = Math.floor(x1) + 0.5;\n",
       "    y1 = Math.floor(y1) + 0.5;\n",
       "    var min_x = Math.min(x0, x1);\n",
       "    var min_y = Math.min(y0, y1);\n",
       "    var width = Math.abs(x1 - x0);\n",
       "    var height = Math.abs(y1 - y0);\n",
       "\n",
       "    fig.rubberband_context.clearRect(\n",
       "        0,\n",
       "        0,\n",
       "        fig.canvas.width / fig.ratio,\n",
       "        fig.canvas.height / fig.ratio\n",
       "    );\n",
       "\n",
       "    fig.rubberband_context.strokeRect(min_x, min_y, width, height);\n",
       "};\n",
       "\n",
       "mpl.figure.prototype.handle_figure_label = function (fig, msg) {\n",
       "    // Updates the figure title.\n",
       "    fig.header.textContent = msg['label'];\n",
       "};\n",
       "\n",
       "mpl.figure.prototype.handle_cursor = function (fig, msg) {\n",
       "    fig.canvas_div.style.cursor = msg['cursor'];\n",
       "};\n",
       "\n",
       "mpl.figure.prototype.handle_message = function (fig, msg) {\n",
       "    fig.message.textContent = msg['message'];\n",
       "};\n",
       "\n",
       "mpl.figure.prototype.handle_draw = function (fig, _msg) {\n",
       "    // Request the server to send over a new figure.\n",
       "    fig.send_draw_message();\n",
       "};\n",
       "\n",
       "mpl.figure.prototype.handle_image_mode = function (fig, msg) {\n",
       "    fig.image_mode = msg['mode'];\n",
       "};\n",
       "\n",
       "mpl.figure.prototype.handle_history_buttons = function (fig, msg) {\n",
       "    for (var key in msg) {\n",
       "        if (!(key in fig.buttons)) {\n",
       "            continue;\n",
       "        }\n",
       "        fig.buttons[key].disabled = !msg[key];\n",
       "        fig.buttons[key].setAttribute('aria-disabled', !msg[key]);\n",
       "    }\n",
       "};\n",
       "\n",
       "mpl.figure.prototype.handle_navigate_mode = function (fig, msg) {\n",
       "    if (msg['mode'] === 'PAN') {\n",
       "        fig.buttons['Pan'].classList.add('active');\n",
       "        fig.buttons['Zoom'].classList.remove('active');\n",
       "    } else if (msg['mode'] === 'ZOOM') {\n",
       "        fig.buttons['Pan'].classList.remove('active');\n",
       "        fig.buttons['Zoom'].classList.add('active');\n",
       "    } else {\n",
       "        fig.buttons['Pan'].classList.remove('active');\n",
       "        fig.buttons['Zoom'].classList.remove('active');\n",
       "    }\n",
       "};\n",
       "\n",
       "mpl.figure.prototype.updated_canvas_event = function () {\n",
       "    // Called whenever the canvas gets updated.\n",
       "    this.send_message('ack', {});\n",
       "};\n",
       "\n",
       "// A function to construct a web socket function for onmessage handling.\n",
       "// Called in the figure constructor.\n",
       "mpl.figure.prototype._make_on_message_function = function (fig) {\n",
       "    return function socket_on_message(evt) {\n",
       "        if (evt.data instanceof Blob) {\n",
       "            var img = evt.data;\n",
       "            if (img.type !== 'image/png') {\n",
       "                /* FIXME: We get \"Resource interpreted as Image but\n",
       "                 * transferred with MIME type text/plain:\" errors on\n",
       "                 * Chrome.  But how to set the MIME type?  It doesn't seem\n",
       "                 * to be part of the websocket stream */\n",
       "                img.type = 'image/png';\n",
       "            }\n",
       "\n",
       "            /* Free the memory for the previous frames */\n",
       "            if (fig.imageObj.src) {\n",
       "                (window.URL || window.webkitURL).revokeObjectURL(\n",
       "                    fig.imageObj.src\n",
       "                );\n",
       "            }\n",
       "\n",
       "            fig.imageObj.src = (window.URL || window.webkitURL).createObjectURL(\n",
       "                img\n",
       "            );\n",
       "            fig.updated_canvas_event();\n",
       "            fig.waiting = false;\n",
       "            return;\n",
       "        } else if (\n",
       "            typeof evt.data === 'string' &&\n",
       "            evt.data.slice(0, 21) === 'data:image/png;base64'\n",
       "        ) {\n",
       "            fig.imageObj.src = evt.data;\n",
       "            fig.updated_canvas_event();\n",
       "            fig.waiting = false;\n",
       "            return;\n",
       "        }\n",
       "\n",
       "        var msg = JSON.parse(evt.data);\n",
       "        var msg_type = msg['type'];\n",
       "\n",
       "        // Call the  \"handle_{type}\" callback, which takes\n",
       "        // the figure and JSON message as its only arguments.\n",
       "        try {\n",
       "            var callback = fig['handle_' + msg_type];\n",
       "        } catch (e) {\n",
       "            console.log(\n",
       "                \"No handler for the '\" + msg_type + \"' message type: \",\n",
       "                msg\n",
       "            );\n",
       "            return;\n",
       "        }\n",
       "\n",
       "        if (callback) {\n",
       "            try {\n",
       "                // console.log(\"Handling '\" + msg_type + \"' message: \", msg);\n",
       "                callback(fig, msg);\n",
       "            } catch (e) {\n",
       "                console.log(\n",
       "                    \"Exception inside the 'handler_\" + msg_type + \"' callback:\",\n",
       "                    e,\n",
       "                    e.stack,\n",
       "                    msg\n",
       "                );\n",
       "            }\n",
       "        }\n",
       "    };\n",
       "};\n",
       "\n",
       "\n",
       "/*\n",
       " * return a copy of an object with only non-object keys\n",
       " * we need this to avoid circular references\n",
       " * https://stackoverflow.com/a/24161582/3208463\n",
       " */\n",
       "function simpleKeys(original) {\n",
       "    return Object.keys(original).reduce(function (obj, key) {\n",
       "        if (typeof original[key] !== 'object') {\n",
       "            obj[key] = original[key];\n",
       "        }\n",
       "        return obj;\n",
       "    }, {});\n",
       "}\n",
       "\n",
       "mpl.figure.prototype.mouse_event = function (event, name) {\n",
       "    if (name === 'button_press') {\n",
       "        this.canvas.focus();\n",
       "        this.canvas_div.focus();\n",
       "    }\n",
       "\n",
       "    // from https://stackoverflow.com/q/1114465\n",
       "    var boundingRect = this.canvas.getBoundingClientRect();\n",
       "    var x = (event.clientX - boundingRect.left) * this.ratio;\n",
       "    var y = (event.clientY - boundingRect.top) * this.ratio;\n",
       "\n",
       "    this.send_message(name, {\n",
       "        x: x,\n",
       "        y: y,\n",
       "        button: event.button,\n",
       "        step: event.step,\n",
       "        guiEvent: simpleKeys(event),\n",
       "    });\n",
       "\n",
       "    return false;\n",
       "};\n",
       "\n",
       "mpl.figure.prototype._key_event_extra = function (_event, _name) {\n",
       "    // Handle any extra behaviour associated with a key event\n",
       "};\n",
       "\n",
       "mpl.figure.prototype.key_event = function (event, name) {\n",
       "    // Prevent repeat events\n",
       "    if (name === 'key_press') {\n",
       "        if (event.key === this._key) {\n",
       "            return;\n",
       "        } else {\n",
       "            this._key = event.key;\n",
       "        }\n",
       "    }\n",
       "    if (name === 'key_release') {\n",
       "        this._key = null;\n",
       "    }\n",
       "\n",
       "    var value = '';\n",
       "    if (event.ctrlKey && event.key !== 'Control') {\n",
       "        value += 'ctrl+';\n",
       "    }\n",
       "    else if (event.altKey && event.key !== 'Alt') {\n",
       "        value += 'alt+';\n",
       "    }\n",
       "    else if (event.shiftKey && event.key !== 'Shift') {\n",
       "        value += 'shift+';\n",
       "    }\n",
       "\n",
       "    value += 'k' + event.key;\n",
       "\n",
       "    this._key_event_extra(event, name);\n",
       "\n",
       "    this.send_message(name, { key: value, guiEvent: simpleKeys(event) });\n",
       "    return false;\n",
       "};\n",
       "\n",
       "mpl.figure.prototype.toolbar_button_onclick = function (name) {\n",
       "    if (name === 'download') {\n",
       "        this.handle_save(this, null);\n",
       "    } else {\n",
       "        this.send_message('toolbar_button', { name: name });\n",
       "    }\n",
       "};\n",
       "\n",
       "mpl.figure.prototype.toolbar_button_onmouseover = function (tooltip) {\n",
       "    this.message.textContent = tooltip;\n",
       "};\n",
       "\n",
       "///////////////// REMAINING CONTENT GENERATED BY embed_js.py /////////////////\n",
       "// prettier-ignore\n",
       "var _JSXTOOLS_RESIZE_OBSERVER=function(A){var t,i=new WeakMap,n=new WeakMap,a=new WeakMap,r=new WeakMap,o=new Set;function s(e){if(!(this instanceof s))throw new TypeError(\"Constructor requires 'new' operator\");i.set(this,e)}function h(){throw new TypeError(\"Function is not a constructor\")}function c(e,t,i,n){e=0 in arguments?Number(arguments[0]):0,t=1 in arguments?Number(arguments[1]):0,i=2 in arguments?Number(arguments[2]):0,n=3 in arguments?Number(arguments[3]):0,this.right=(this.x=this.left=e)+(this.width=i),this.bottom=(this.y=this.top=t)+(this.height=n),Object.freeze(this)}function d(){t=requestAnimationFrame(d);var s=new WeakMap,p=new Set;o.forEach((function(t){r.get(t).forEach((function(i){var r=t instanceof window.SVGElement,o=a.get(t),d=r?0:parseFloat(o.paddingTop),f=r?0:parseFloat(o.paddingRight),l=r?0:parseFloat(o.paddingBottom),u=r?0:parseFloat(o.paddingLeft),g=r?0:parseFloat(o.borderTopWidth),m=r?0:parseFloat(o.borderRightWidth),w=r?0:parseFloat(o.borderBottomWidth),b=u+f,F=d+l,v=(r?0:parseFloat(o.borderLeftWidth))+m,W=g+w,y=r?0:t.offsetHeight-W-t.clientHeight,E=r?0:t.offsetWidth-v-t.clientWidth,R=b+v,z=F+W,M=r?t.width:parseFloat(o.width)-R-E,O=r?t.height:parseFloat(o.height)-z-y;if(n.has(t)){var k=n.get(t);if(k[0]===M&&k[1]===O)return}n.set(t,[M,O]);var S=Object.create(h.prototype);S.target=t,S.contentRect=new c(u,d,M,O),s.has(i)||(s.set(i,[]),p.add(i)),s.get(i).push(S)}))})),p.forEach((function(e){i.get(e).call(e,s.get(e),e)}))}return s.prototype.observe=function(i){if(i instanceof window.Element){r.has(i)||(r.set(i,new Set),o.add(i),a.set(i,window.getComputedStyle(i)));var n=r.get(i);n.has(this)||n.add(this),cancelAnimationFrame(t),t=requestAnimationFrame(d)}},s.prototype.unobserve=function(i){if(i instanceof window.Element&&r.has(i)){var n=r.get(i);n.has(this)&&(n.delete(this),n.size||(r.delete(i),o.delete(i))),n.size||r.delete(i),o.size||cancelAnimationFrame(t)}},A.DOMRectReadOnly=c,A.ResizeObserver=s,A.ResizeObserverEntry=h,A}; // eslint-disable-line\n",
       "mpl.toolbar_items = [[\"Home\", \"Reset original view\", \"fa fa-home\", \"home\"], [\"Back\", \"Back to previous view\", \"fa fa-arrow-left\", \"back\"], [\"Forward\", \"Forward to next view\", \"fa fa-arrow-right\", \"forward\"], [\"\", \"\", \"\", \"\"], [\"Pan\", \"Left button pans, Right button zooms\\nx/y fixes axis, CTRL fixes aspect\", \"fa fa-arrows\", \"pan\"], [\"Zoom\", \"Zoom to rectangle\\nx/y fixes axis\", \"fa fa-square-o\", \"zoom\"], [\"\", \"\", \"\", \"\"], [\"Download\", \"Download plot\", \"fa fa-floppy-o\", \"download\"]];\n",
       "\n",
       "mpl.extensions = [\"eps\", \"jpeg\", \"pgf\", \"pdf\", \"png\", \"ps\", \"raw\", \"svg\", \"tif\", \"webp\"];\n",
       "\n",
       "mpl.default_extension = \"png\";/* global mpl */\n",
       "\n",
       "var comm_websocket_adapter = function (comm) {\n",
       "    // Create a \"websocket\"-like object which calls the given IPython comm\n",
       "    // object with the appropriate methods. Currently this is a non binary\n",
       "    // socket, so there is still some room for performance tuning.\n",
       "    var ws = {};\n",
       "\n",
       "    ws.binaryType = comm.kernel.ws.binaryType;\n",
       "    ws.readyState = comm.kernel.ws.readyState;\n",
       "    function updateReadyState(_event) {\n",
       "        if (comm.kernel.ws) {\n",
       "            ws.readyState = comm.kernel.ws.readyState;\n",
       "        } else {\n",
       "            ws.readyState = 3; // Closed state.\n",
       "        }\n",
       "    }\n",
       "    comm.kernel.ws.addEventListener('open', updateReadyState);\n",
       "    comm.kernel.ws.addEventListener('close', updateReadyState);\n",
       "    comm.kernel.ws.addEventListener('error', updateReadyState);\n",
       "\n",
       "    ws.close = function () {\n",
       "        comm.close();\n",
       "    };\n",
       "    ws.send = function (m) {\n",
       "        //console.log('sending', m);\n",
       "        comm.send(m);\n",
       "    };\n",
       "    // Register the callback with on_msg.\n",
       "    comm.on_msg(function (msg) {\n",
       "        //console.log('receiving', msg['content']['data'], msg);\n",
       "        var data = msg['content']['data'];\n",
       "        if (data['blob'] !== undefined) {\n",
       "            data = {\n",
       "                data: new Blob(msg['buffers'], { type: data['blob'] }),\n",
       "            };\n",
       "        }\n",
       "        // Pass the mpl event to the overridden (by mpl) onmessage function.\n",
       "        ws.onmessage(data);\n",
       "    });\n",
       "    return ws;\n",
       "};\n",
       "\n",
       "mpl.mpl_figure_comm = function (comm, msg) {\n",
       "    // This is the function which gets called when the mpl process\n",
       "    // starts-up an IPython Comm through the \"matplotlib\" channel.\n",
       "\n",
       "    var id = msg.content.data.id;\n",
       "    // Get hold of the div created by the display call when the Comm\n",
       "    // socket was opened in Python.\n",
       "    var element = document.getElementById(id);\n",
       "    var ws_proxy = comm_websocket_adapter(comm);\n",
       "\n",
       "    function ondownload(figure, _format) {\n",
       "        window.open(figure.canvas.toDataURL());\n",
       "    }\n",
       "\n",
       "    var fig = new mpl.figure(id, ws_proxy, ondownload, element);\n",
       "\n",
       "    // Call onopen now - mpl needs it, as it is assuming we've passed it a real\n",
       "    // web socket which is closed, not our websocket->open comm proxy.\n",
       "    ws_proxy.onopen();\n",
       "\n",
       "    fig.parent_element = element;\n",
       "    fig.cell_info = mpl.find_output_cell(\"<div id='\" + id + \"'></div>\");\n",
       "    if (!fig.cell_info) {\n",
       "        console.error('Failed to find cell for figure', id, fig);\n",
       "        return;\n",
       "    }\n",
       "    fig.cell_info[0].output_area.element.on(\n",
       "        'cleared',\n",
       "        { fig: fig },\n",
       "        fig._remove_fig_handler\n",
       "    );\n",
       "};\n",
       "\n",
       "mpl.figure.prototype.handle_close = function (fig, msg) {\n",
       "    var width = fig.canvas.width / fig.ratio;\n",
       "    fig.cell_info[0].output_area.element.off(\n",
       "        'cleared',\n",
       "        fig._remove_fig_handler\n",
       "    );\n",
       "    fig.resizeObserverInstance.unobserve(fig.canvas_div);\n",
       "\n",
       "    // Update the output cell to use the data from the current canvas.\n",
       "    fig.push_to_output();\n",
       "    var dataURL = fig.canvas.toDataURL();\n",
       "    // Re-enable the keyboard manager in IPython - without this line, in FF,\n",
       "    // the notebook keyboard shortcuts fail.\n",
       "    IPython.keyboard_manager.enable();\n",
       "    fig.parent_element.innerHTML =\n",
       "        '<img src=\"' + dataURL + '\" width=\"' + width + '\">';\n",
       "    fig.close_ws(fig, msg);\n",
       "};\n",
       "\n",
       "mpl.figure.prototype.close_ws = function (fig, msg) {\n",
       "    fig.send_message('closing', msg);\n",
       "    // fig.ws.close()\n",
       "};\n",
       "\n",
       "mpl.figure.prototype.push_to_output = function (_remove_interactive) {\n",
       "    // Turn the data on the canvas into data in the output cell.\n",
       "    var width = this.canvas.width / this.ratio;\n",
       "    var dataURL = this.canvas.toDataURL();\n",
       "    this.cell_info[1]['text/html'] =\n",
       "        '<img src=\"' + dataURL + '\" width=\"' + width + '\">';\n",
       "};\n",
       "\n",
       "mpl.figure.prototype.updated_canvas_event = function () {\n",
       "    // Tell IPython that the notebook contents must change.\n",
       "    IPython.notebook.set_dirty(true);\n",
       "    this.send_message('ack', {});\n",
       "    var fig = this;\n",
       "    // Wait a second, then push the new image to the DOM so\n",
       "    // that it is saved nicely (might be nice to debounce this).\n",
       "    setTimeout(function () {\n",
       "        fig.push_to_output();\n",
       "    }, 1000);\n",
       "};\n",
       "\n",
       "mpl.figure.prototype._init_toolbar = function () {\n",
       "    var fig = this;\n",
       "\n",
       "    var toolbar = document.createElement('div');\n",
       "    toolbar.classList = 'btn-toolbar';\n",
       "    this.root.appendChild(toolbar);\n",
       "\n",
       "    function on_click_closure(name) {\n",
       "        return function (_event) {\n",
       "            return fig.toolbar_button_onclick(name);\n",
       "        };\n",
       "    }\n",
       "\n",
       "    function on_mouseover_closure(tooltip) {\n",
       "        return function (event) {\n",
       "            if (!event.currentTarget.disabled) {\n",
       "                return fig.toolbar_button_onmouseover(tooltip);\n",
       "            }\n",
       "        };\n",
       "    }\n",
       "\n",
       "    fig.buttons = {};\n",
       "    var buttonGroup = document.createElement('div');\n",
       "    buttonGroup.classList = 'btn-group';\n",
       "    var button;\n",
       "    for (var toolbar_ind in mpl.toolbar_items) {\n",
       "        var name = mpl.toolbar_items[toolbar_ind][0];\n",
       "        var tooltip = mpl.toolbar_items[toolbar_ind][1];\n",
       "        var image = mpl.toolbar_items[toolbar_ind][2];\n",
       "        var method_name = mpl.toolbar_items[toolbar_ind][3];\n",
       "\n",
       "        if (!name) {\n",
       "            /* Instead of a spacer, we start a new button group. */\n",
       "            if (buttonGroup.hasChildNodes()) {\n",
       "                toolbar.appendChild(buttonGroup);\n",
       "            }\n",
       "            buttonGroup = document.createElement('div');\n",
       "            buttonGroup.classList = 'btn-group';\n",
       "            continue;\n",
       "        }\n",
       "\n",
       "        button = fig.buttons[name] = document.createElement('button');\n",
       "        button.classList = 'btn btn-default';\n",
       "        button.href = '#';\n",
       "        button.title = name;\n",
       "        button.innerHTML = '<i class=\"fa ' + image + ' fa-lg\"></i>';\n",
       "        button.addEventListener('click', on_click_closure(method_name));\n",
       "        button.addEventListener('mouseover', on_mouseover_closure(tooltip));\n",
       "        buttonGroup.appendChild(button);\n",
       "    }\n",
       "\n",
       "    if (buttonGroup.hasChildNodes()) {\n",
       "        toolbar.appendChild(buttonGroup);\n",
       "    }\n",
       "\n",
       "    // Add the status bar.\n",
       "    var status_bar = document.createElement('span');\n",
       "    status_bar.classList = 'mpl-message pull-right';\n",
       "    toolbar.appendChild(status_bar);\n",
       "    this.message = status_bar;\n",
       "\n",
       "    // Add the close button to the window.\n",
       "    var buttongrp = document.createElement('div');\n",
       "    buttongrp.classList = 'btn-group inline pull-right';\n",
       "    button = document.createElement('button');\n",
       "    button.classList = 'btn btn-mini btn-primary';\n",
       "    button.href = '#';\n",
       "    button.title = 'Stop Interaction';\n",
       "    button.innerHTML = '<i class=\"fa fa-power-off icon-remove icon-large\"></i>';\n",
       "    button.addEventListener('click', function (_evt) {\n",
       "        fig.handle_close(fig, {});\n",
       "    });\n",
       "    button.addEventListener(\n",
       "        'mouseover',\n",
       "        on_mouseover_closure('Stop Interaction')\n",
       "    );\n",
       "    buttongrp.appendChild(button);\n",
       "    var titlebar = this.root.querySelector('.ui-dialog-titlebar');\n",
       "    titlebar.insertBefore(buttongrp, titlebar.firstChild);\n",
       "};\n",
       "\n",
       "mpl.figure.prototype._remove_fig_handler = function (event) {\n",
       "    var fig = event.data.fig;\n",
       "    if (event.target !== this) {\n",
       "        // Ignore bubbled events from children.\n",
       "        return;\n",
       "    }\n",
       "    fig.close_ws(fig, {});\n",
       "};\n",
       "\n",
       "mpl.figure.prototype._root_extra_style = function (el) {\n",
       "    el.style.boxSizing = 'content-box'; // override notebook setting of border-box.\n",
       "};\n",
       "\n",
       "mpl.figure.prototype._canvas_extra_style = function (el) {\n",
       "    // this is important to make the div 'focusable\n",
       "    el.setAttribute('tabindex', 0);\n",
       "    // reach out to IPython and tell the keyboard manager to turn it's self\n",
       "    // off when our div gets focus\n",
       "\n",
       "    // location in version 3\n",
       "    if (IPython.notebook.keyboard_manager) {\n",
       "        IPython.notebook.keyboard_manager.register_events(el);\n",
       "    } else {\n",
       "        // location in version 2\n",
       "        IPython.keyboard_manager.register_events(el);\n",
       "    }\n",
       "};\n",
       "\n",
       "mpl.figure.prototype._key_event_extra = function (event, _name) {\n",
       "    // Check for shift+enter\n",
       "    if (event.shiftKey && event.which === 13) {\n",
       "        this.canvas_div.blur();\n",
       "        // select the cell after this one\n",
       "        var index = IPython.notebook.find_cell_index(this.cell_info[0]);\n",
       "        IPython.notebook.select(index + 1);\n",
       "    }\n",
       "};\n",
       "\n",
       "mpl.figure.prototype.handle_save = function (fig, _msg) {\n",
       "    fig.ondownload(fig, null);\n",
       "};\n",
       "\n",
       "mpl.find_output_cell = function (html_output) {\n",
       "    // Return the cell and output element which can be found *uniquely* in the notebook.\n",
       "    // Note - this is a bit hacky, but it is done because the \"notebook_saving.Notebook\"\n",
       "    // IPython event is triggered only after the cells have been serialised, which for\n",
       "    // our purposes (turning an active figure into a static one), is too late.\n",
       "    var cells = IPython.notebook.get_cells();\n",
       "    var ncells = cells.length;\n",
       "    for (var i = 0; i < ncells; i++) {\n",
       "        var cell = cells[i];\n",
       "        if (cell.cell_type === 'code') {\n",
       "            for (var j = 0; j < cell.output_area.outputs.length; j++) {\n",
       "                var data = cell.output_area.outputs[j];\n",
       "                if (data.data) {\n",
       "                    // IPython >= 3 moved mimebundle to data attribute of output\n",
       "                    data = data.data;\n",
       "                }\n",
       "                if (data['text/html'] === html_output) {\n",
       "                    return [cell, data, j];\n",
       "                }\n",
       "            }\n",
       "        }\n",
       "    }\n",
       "};\n",
       "\n",
       "// Register the function which deals with the matplotlib target/channel.\n",
       "// The kernel may be null if the page has been refreshed.\n",
       "if (IPython.notebook.kernel !== null) {\n",
       "    IPython.notebook.kernel.comm_manager.register_target(\n",
       "        'matplotlib',\n",
       "        mpl.mpl_figure_comm\n",
       "    );\n",
       "}\n"
      ],
      "text/plain": [
       "<IPython.core.display.Javascript object>"
      ]
     },
     "metadata": {},
     "output_type": "display_data"
    },
    {
     "data": {
      "text/html": [
       "<img src=\"data:image/png;base64,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\" width=\"640\">"
      ],
      "text/plain": [
       "<IPython.core.display.HTML object>"
      ]
     },
     "metadata": {},
     "output_type": "display_data"
    },
    {
     "data": {
      "text/plain": [
       "<mpl_toolkits.mplot3d.art3d.Path3DCollection at 0x7fef01973be0>"
      ]
     },
     "execution_count": 41,
     "metadata": {},
     "output_type": "execute_result"
    }
   ],
   "source": [
    "fig = plt.figure()\n",
    "ax = fig.add_subplot(projection='3d')\n",
    "a=np.arange(3)\n",
    "ax.scatter(gcs[:,0],gcs[:,1],gcs[:,2],c=ao_ong[:,2])\n",
    "#ax.scatter(ks.grids.coords[:,0],ks.grids.coords[:,1],ks.grids.coords[:,2])"
   ]
  },
  {
   "cell_type": "code",
   "execution_count": 42,
   "id": "89f2e7b9",
   "metadata": {},
   "outputs": [
    {
     "data": {
      "text/plain": [
       "(<function pyscf.dft.numint.NumInt._gen_rho_evaluator.<locals>.make_rho(idm, ao, sindex, xctype)>,\n",
       " 1,\n",
       " 10)"
      ]
     },
     "execution_count": 42,
     "metadata": {},
     "output_type": "execute_result"
    }
   ],
   "source": [
    "ni._gen_rho_evaluator(CO,P0)"
   ]
  },
  {
   "cell_type": "code",
   "execution_count": 47,
   "id": "a87c45f0",
   "metadata": {},
   "outputs": [],
   "source": [
    "make_rho, nset, nao = ni._gen_rho_evaluator(mol, dm, True, False, ks.grids)"
   ]
  },
  {
   "cell_type": "code",
   "execution_count": 48,
   "id": "a8734b6e",
   "metadata": {},
   "outputs": [
    {
     "data": {
      "text/plain": [
       "<function pyscf.dft.numint.NumInt._gen_rho_evaluator.<locals>.make_rho(idm, ao, sindex, xctype)>"
      ]
     },
     "execution_count": 48,
     "metadata": {},
     "output_type": "execute_result"
    }
   ],
   "source": [
    " make_rho"
   ]
  },
  {
   "cell_type": "code",
   "execution_count": 49,
   "id": "a74206a7",
   "metadata": {},
   "outputs": [
    {
     "ename": "IndexError",
     "evalue": "list index out of range",
     "output_type": "error",
     "traceback": [
      "\u001b[0;31m---------------------------------------------------------------------------\u001b[0m",
      "\u001b[0;31mIndexError\u001b[0m                                Traceback (most recent call last)",
      "\u001b[0;32m/tmp/ipykernel_16113/1930322197.py\u001b[0m in \u001b[0;36m<cell line: 1>\u001b[0;34m()\u001b[0m\n\u001b[0;32m----> 1\u001b[0;31m \u001b[0mmake_rho\u001b[0m\u001b[0;34m(\u001b[0m\u001b[0;34m[\u001b[0m\u001b[0;36m0\u001b[0m\u001b[0;34m,\u001b[0m\u001b[0;36m0\u001b[0m\u001b[0;34m]\u001b[0m\u001b[0;34m,\u001b[0m \u001b[0;34m[\u001b[0m\u001b[0mni\u001b[0m\u001b[0;34m.\u001b[0m\u001b[0meval_ao\u001b[0m\u001b[0;34m(\u001b[0m\u001b[0mCO\u001b[0m\u001b[0;34m,\u001b[0m\u001b[0mmf\u001b[0m\u001b[0;34m.\u001b[0m\u001b[0mgrids\u001b[0m\u001b[0;34m.\u001b[0m\u001b[0mcoords\u001b[0m\u001b[0;34m)\u001b[0m\u001b[0;34m]\u001b[0m \u001b[0;34m,\u001b[0m \u001b[0;32mNone\u001b[0m\u001b[0;34m,\u001b[0m \u001b[0mxctype\u001b[0m\u001b[0;34m)\u001b[0m\u001b[0;34m\u001b[0m\u001b[0;34m\u001b[0m\u001b[0m\n\u001b[0m\u001b[1;32m      2\u001b[0m \u001b[0;31m#ni.eval_ao(CO,mf.grids.coords).shape\u001b[0m\u001b[0;34m\u001b[0m\u001b[0;34m\u001b[0m\u001b[0;34m\u001b[0m\u001b[0m\n",
      "\u001b[0;32m~/anaconda3/lib/python3.8/site-packages/pyscf/dft/numint.py\u001b[0m in \u001b[0;36mmake_rho\u001b[0;34m(idm, ao, sindex, xctype)\u001b[0m\n\u001b[1;32m   2879\u001b[0m                                       sindex, xctype, with_lapl)\n\u001b[1;32m   2880\u001b[0m             \u001b[0;32melse\u001b[0m\u001b[0;34m:\u001b[0m\u001b[0;34m\u001b[0m\u001b[0;34m\u001b[0m\u001b[0m\n\u001b[0;32m-> 2881\u001b[0;31m                 return self.eval_rho(mol, ao, dms[idm], sindex, xctype, hermi,\n\u001b[0m\u001b[1;32m   2882\u001b[0m                                      with_lapl)\n\u001b[1;32m   2883\u001b[0m         \u001b[0;32mreturn\u001b[0m \u001b[0mmake_rho\u001b[0m\u001b[0;34m,\u001b[0m \u001b[0mndms\u001b[0m\u001b[0;34m,\u001b[0m \u001b[0mnao\u001b[0m\u001b[0;34m\u001b[0m\u001b[0;34m\u001b[0m\u001b[0m\n",
      "\u001b[0;32m~/anaconda3/lib/python3.8/site-packages/pyscf/dft/numint.py\u001b[0m in \u001b[0;36meval_rho\u001b[0;34m(mol, ao, dm, non0tab, xctype, hermi, with_lapl, verbose)\u001b[0m\n\u001b[1;32m    176\u001b[0m         \u001b[0;32mfor\u001b[0m \u001b[0mi\u001b[0m \u001b[0;32min\u001b[0m \u001b[0mrange\u001b[0m\u001b[0;34m(\u001b[0m\u001b[0;36m1\u001b[0m\u001b[0;34m,\u001b[0m \u001b[0;36m4\u001b[0m\u001b[0;34m)\u001b[0m\u001b[0;34m:\u001b[0m\u001b[0;34m\u001b[0m\u001b[0;34m\u001b[0m\u001b[0m\n\u001b[1;32m    177\u001b[0m             \u001b[0;31m#:rho[i] = numpy.einsum('pi,pi->p', c0, ao[i])\u001b[0m\u001b[0;34m\u001b[0m\u001b[0;34m\u001b[0m\u001b[0;34m\u001b[0m\u001b[0m\n\u001b[0;32m--> 178\u001b[0;31m             \u001b[0mrho\u001b[0m\u001b[0;34m[\u001b[0m\u001b[0mi\u001b[0m\u001b[0;34m]\u001b[0m \u001b[0;34m=\u001b[0m \u001b[0m_contract_rho\u001b[0m\u001b[0;34m(\u001b[0m\u001b[0mao\u001b[0m\u001b[0;34m[\u001b[0m\u001b[0mi\u001b[0m\u001b[0;34m]\u001b[0m\u001b[0;34m,\u001b[0m \u001b[0mc0\u001b[0m\u001b[0;34m)\u001b[0m\u001b[0;34m\u001b[0m\u001b[0;34m\u001b[0m\u001b[0m\n\u001b[0m\u001b[1;32m    179\u001b[0m         \u001b[0;32mif\u001b[0m \u001b[0mhermi\u001b[0m\u001b[0;34m:\u001b[0m\u001b[0;34m\u001b[0m\u001b[0;34m\u001b[0m\u001b[0m\n\u001b[1;32m    180\u001b[0m             \u001b[0mrho\u001b[0m\u001b[0;34m[\u001b[0m\u001b[0;36m1\u001b[0m\u001b[0;34m:\u001b[0m\u001b[0;36m4\u001b[0m\u001b[0;34m]\u001b[0m \u001b[0;34m*=\u001b[0m \u001b[0;36m2\u001b[0m  \u001b[0;31m# *2 for + einsum('pi,ij,pj->p', ao[i], dm, ao[0])\u001b[0m\u001b[0;34m\u001b[0m\u001b[0;34m\u001b[0m\u001b[0m\n",
      "\u001b[0;31mIndexError\u001b[0m: list index out of range"
     ]
    }
   ],
   "source": [
    "make_rho([0,0], [ni.eval_ao(CO,mf.grids.coords)] , None, xctype)\n",
    "#ni.eval_ao(CO,mf.grids.coords).shape"
   ]
  },
  {
   "cell_type": "code",
   "execution_count": 61,
   "id": "a417245c",
   "metadata": {},
   "outputs": [
    {
     "data": {
      "text/plain": [
       "array([[ 2.12099928e+00, -4.40246364e-01,  4.38546681e-17,\n",
       "        -2.58038750e-16,  1.34385128e-01,  1.57218097e-02,\n",
       "        -1.08362578e-02, -9.77954566e-17,  1.46151716e-16,\n",
       "         1.35041486e-01],\n",
       "       [-4.40246364e-01,  1.92014783e+00, -2.60304823e-16,\n",
       "         1.08777112e-15, -7.33584740e-01,  2.60116210e-02,\n",
       "        -3.49812445e-01,  4.20442910e-16, -7.30749540e-16,\n",
       "        -5.25903251e-02],\n",
       "       [ 4.38546681e-17, -2.60304823e-16,  4.26508894e-01,\n",
       "        -5.49327642e-16,  3.37353268e-16, -1.80613522e-18,\n",
       "         1.29342266e-16,  7.06226389e-01, -3.12714269e-16,\n",
       "        -1.60478985e-16],\n",
       "       [-2.58038750e-16,  1.08777112e-15, -5.49327642e-16,\n",
       "         4.26508894e-01, -6.23709402e-16,  5.61089295e-16,\n",
       "        -7.30421453e-16, -2.97085048e-16,  7.06226389e-01,\n",
       "        -1.52009150e-16],\n",
       "       [ 1.34385128e-01, -7.33584740e-01,  3.37353268e-16,\n",
       "        -6.23709402e-16,  6.58190285e-01, -8.48946639e-02,\n",
       "         1.59067620e-01,  5.05080351e-17,  4.15117000e-17,\n",
       "        -6.54558415e-01],\n",
       "       [ 1.57218097e-02,  2.60116210e-02, -1.80613522e-18,\n",
       "         5.61089295e-16, -8.48946639e-02,  2.11103595e+00,\n",
       "        -4.53892716e-01,  5.68869848e-17, -3.41452303e-16,\n",
       "        -7.31727787e-02],\n",
       "       [-1.08362578e-02, -3.49812445e-01,  1.29342266e-16,\n",
       "        -7.30421453e-16,  1.59067620e-01, -4.53892716e-01,\n",
       "         2.04153834e+00, -3.68360899e-16,  8.95894268e-16,\n",
       "         4.83188954e-01],\n",
       "       [-9.77954566e-17,  4.20442910e-16,  7.06226389e-01,\n",
       "        -2.97085048e-16,  5.05080351e-17,  5.68869848e-17,\n",
       "        -3.68360899e-16,  1.16939112e+00,  4.85857437e-16,\n",
       "        -6.85548381e-17],\n",
       "       [ 1.46151716e-16, -7.30749540e-16, -3.12714269e-16,\n",
       "         7.06226389e-01,  4.15117000e-17, -3.41452303e-16,\n",
       "         8.95894268e-16,  4.85857437e-16,  1.16939112e+00,\n",
       "         9.77947708e-17],\n",
       "       [ 1.35041486e-01, -5.25903251e-02, -1.60478985e-16,\n",
       "        -1.52009150e-16, -6.54558415e-01, -7.31727787e-02,\n",
       "         4.83188954e-01, -6.85548381e-17,  9.77947708e-17,\n",
       "         1.34976108e+00]])"
      ]
     },
     "execution_count": 61,
     "metadata": {},
     "output_type": "execute_result"
    }
   ],
   "source": [
    "dm"
   ]
  },
  {
   "cell_type": "code",
   "execution_count": 63,
   "id": "3d7c31c0",
   "metadata": {},
   "outputs": [
    {
     "data": {
      "text/plain": [
       "array([0.])"
      ]
     },
     "execution_count": 63,
     "metadata": {},
     "output_type": "execute_result"
    }
   ],
   "source": [
    "ao=np.zeros((1,10))\n",
    "ni.eval_rho(CO, ao, dm, xctype=\"LDA\")"
   ]
  },
  {
   "cell_type": "code",
   "execution_count": 64,
   "id": "62b8f1bc",
   "metadata": {},
   "outputs": [
    {
     "data": {
      "text/plain": [
       "array([[0., 0., 0., 0., 0., 0., 0., 0., 0., 0.]])"
      ]
     },
     "execution_count": 64,
     "metadata": {},
     "output_type": "execute_result"
    }
   ],
   "source": [
    "ao"
   ]
  },
  {
   "cell_type": "code",
   "execution_count": 62,
   "id": "b82219cb",
   "metadata": {},
   "outputs": [
    {
     "data": {
      "text/plain": [
       "(1, 10)"
      ]
     },
     "execution_count": 62,
     "metadata": {},
     "output_type": "execute_result"
    }
   ],
   "source": [
    "ao[0].shape"
   ]
  },
  {
   "cell_type": "code",
   "execution_count": 80,
   "id": "9caef415",
   "metadata": {},
   "outputs": [
    {
     "name": "stdout",
     "output_type": "stream",
     "text": [
      "converged SCF energy = -76.0167894720743\n"
     ]
    }
   ],
   "source": [
    "from pyscf.dft.numint import eval_rho,eval_ao\n",
    "mol = gto.M(atom='O 0 0 0; H 0 0 1; H 0 1 0', basis='ccpvdz')\n",
    "coords = np.random.random((100,3))  # 100 random points\n",
    "ao_value = eval_ao(mol, coords, deriv=0)\n",
    "mf=scf.RHF(mol)\n",
    "mf.scf()\n",
    "dm = mf.make_rdm1()\n",
    "dm = (dm + dm.T)/2\n",
    "ao=np.zeros((100000,dm.shape[0]))\n",
    "rho= eval_rho(mol, ao_value, dm, xctype='LDA')"
   ]
  },
  {
   "cell_type": "code",
   "execution_count": 82,
   "id": "bc5ec5fe",
   "metadata": {},
   "outputs": [
    {
     "data": {
      "text/plain": [
       "array([[ 0.00490505,  0.23344048,  0.2024279 , ...,  0.06246223,\n",
       "        -0.16435164,  0.09656891],\n",
       "       [ 0.00921931,  0.29183822,  0.21694263, ...,  0.03278902,\n",
       "        -0.16663602,  0.09538783],\n",
       "       [ 0.09376618,  0.44228622,  0.25585026, ...,  0.01363698,\n",
       "        -0.12963247,  0.04467986],\n",
       "       ...,\n",
       "       [ 0.05818007,  0.42520401,  0.24880019, ...,  0.08729285,\n",
       "        -0.36482162,  0.00504569],\n",
       "       [ 0.0072339 ,  0.27034154,  0.21179227, ...,  0.16484556,\n",
       "        -0.26497923,  0.0261879 ],\n",
       "       [ 0.61726185,  0.20036044,  0.27750367, ...,  0.03799703,\n",
       "        -0.2072655 ,  0.00079868]])"
      ]
     },
     "execution_count": 82,
     "metadata": {},
     "output_type": "execute_result"
    }
   ],
   "source": [
    "ao_value"
   ]
  },
  {
   "cell_type": "code",
   "execution_count": 83,
   "id": "bb32b0c6",
   "metadata": {},
   "outputs": [
    {
     "data": {
      "text/plain": [
       "array([0.32198776, 0.41155325, 0.74568889, 0.44558178, 0.40423777,\n",
       "       0.49316718, 1.84310192, 2.36729317, 0.48774344, 0.22288044,\n",
       "       0.23622483, 0.11972495, 0.83594119, 0.35426289, 0.9232807 ,\n",
       "       0.78536132, 0.54322684, 0.50694959, 0.55678626, 0.50377831,\n",
       "       0.24144055, 0.22326798, 0.31400023, 0.35835961, 0.36574707,\n",
       "       0.39843131, 0.19483376, 0.46902925, 0.1348025 , 0.38220403,\n",
       "       0.40010578, 0.98755945, 0.25942825, 0.81455532, 0.26747697,\n",
       "       0.31828427, 0.31349506, 0.70983679, 1.04384585, 0.40779604,\n",
       "       0.41544321, 0.34011919, 0.20181349, 0.35415395, 0.39452721,\n",
       "       0.33985817, 0.1742151 , 0.38391343, 0.23144734, 0.29073851,\n",
       "       0.31339151, 0.36349395, 0.20937135, 0.17547922, 0.86442605,\n",
       "       0.91449937, 0.15858034, 0.14975245, 0.48455256, 0.40020362,\n",
       "       0.20145316, 0.19372167, 0.28341609, 0.73203075, 0.29188624,\n",
       "       0.33988643, 5.90451081, 0.33435451, 0.33821939, 0.18964562,\n",
       "       0.37483782, 0.19152079, 0.20923339, 0.19837435, 0.19902847,\n",
       "       0.57244716, 0.33900514, 0.26080861, 0.64856131, 0.15696288,\n",
       "       0.99137402, 0.39811858, 0.8098498 , 0.58441033, 0.14184006,\n",
       "       0.30762566, 0.4492401 , 0.30047443, 0.59936396, 0.95859429,\n",
       "       0.12042441, 0.29627842, 0.29846535, 0.22418283, 0.46176737,\n",
       "       0.91971944, 0.73994917, 0.6917116 , 0.38446212, 1.69158412])"
      ]
     },
     "execution_count": 83,
     "metadata": {},
     "output_type": "execute_result"
    }
   ],
   "source": [
    "rho"
   ]
  },
  {
   "cell_type": "code",
   "execution_count": null,
   "id": "9f8c4961",
   "metadata": {},
   "outputs": [],
   "source": []
  }
 ],
 "metadata": {
  "kernelspec": {
   "display_name": "Python 3 (ipykernel)",
   "language": "python",
   "name": "python3"
  },
  "language_info": {
   "codemirror_mode": {
    "name": "ipython",
    "version": 3
   },
   "file_extension": ".py",
   "mimetype": "text/x-python",
   "name": "python",
   "nbconvert_exporter": "python",
   "pygments_lexer": "ipython3",
   "version": "3.8.13"
  }
 },
 "nbformat": 4,
 "nbformat_minor": 5
}
