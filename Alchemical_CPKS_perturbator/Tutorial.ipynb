{
 "cells": [
  {
   "cell_type": "markdown",
   "metadata": {},
   "source": [
    "This is the tutorial for the evaluation of CPHF alchemical derivatives using PySCF (version 2.2)  "
   ]
  },
  {
   "cell_type": "code",
   "execution_count": 6,
   "metadata": {},
   "outputs": [
    {
     "data": {
      "text/plain": [
       "'2.2.0'"
      ]
     },
     "execution_count": 6,
     "metadata": {},
     "output_type": "execute_result"
    }
   ],
   "source": [
    "from pyscf import gto,scf\n",
    "import numpy as np\n",
    "import pyscf\n",
    "pyscf.__version__"
   ]
  },
  {
   "cell_type": "code",
   "execution_count": 20,
   "metadata": {},
   "outputs": [],
   "source": [
    "from pyscf.hessian import rks as rks_hess"
   ]
  },
  {
   "cell_type": "markdown",
   "metadata": {},
   "source": [
    "## Fractional charge molecules"
   ]
  },
  {
   "cell_type": "code",
   "execution_count": 21,
   "metadata": {},
   "outputs": [],
   "source": [
    "from FcMole import FcM, FcM_like"
   ]
  },
  {
   "cell_type": "code",
   "execution_count": 22,
   "metadata": {},
   "outputs": [],
   "source": [
    "mol_NN=gto.M(atom= \"N 0 0 0; N 0 0 2.1\",unit=\"Bohr\", basis=\"sto-3g\") "
   ]
  },
  {
   "cell_type": "code",
   "execution_count": 23,
   "metadata": {},
   "outputs": [
    {
     "name": "stdout",
     "output_type": "stream",
     "text": [
      "converged SCF energy = -107.94391478573\n"
     ]
    },
    {
     "data": {
      "text/plain": [
       "-107.94391478573009"
      ]
     },
     "execution_count": 23,
     "metadata": {},
     "output_type": "execute_result"
    }
   ],
   "source": [
    "mf=scf.RKS(mol_NN)\n",
    "mf.xc=\"PBE0\"\n",
    "mf.scf()"
   ]
  },
  {
   "cell_type": "code",
   "execution_count": 26,
   "metadata": {},
   "outputs": [
    {
     "data": {
      "text/plain": [
       "array([[[[-9.82065548e-02,  3.05717590e-16,  4.83565606e-15],\n",
       "         [ 6.71299874e-16, -9.82065548e-02,  4.14700177e-15],\n",
       "         [ 4.23365374e-15,  3.71536643e-15,  2.10536578e+00]],\n",
       "\n",
       "        [[ 9.81076526e-02, -2.82553138e-17,  1.18704316e-16],\n",
       "         [-2.70414287e-17,  9.81076526e-02, -2.11330808e-16],\n",
       "         [ 1.42828321e-16, -2.13452470e-16, -2.10522050e+00]]],\n",
       "\n",
       "\n",
       "       [[[ 9.81076526e-02, -2.70414287e-17,  1.42828321e-16],\n",
       "         [-2.82553138e-17,  9.81076526e-02, -2.13452470e-16],\n",
       "         [ 1.18704316e-16, -2.11330808e-16, -2.10522050e+00]],\n",
       "\n",
       "        [[-9.82065548e-02, -2.87084243e-15, -2.11565114e-15],\n",
       "         [-4.17781386e-15, -9.82065548e-02, -3.88847252e-15],\n",
       "         [-2.25882607e-15, -2.97265420e-15,  2.10536578e+00]]]])"
      ]
     },
     "execution_count": 26,
     "metadata": {},
     "output_type": "execute_result"
    }
   ],
   "source": [
    "mf.Hessian().hess()"
   ]
  },
  {
   "cell_type": "code",
   "execution_count": null,
   "metadata": {},
   "outputs": [],
   "source": []
  },
  {
   "cell_type": "markdown",
   "metadata": {},
   "source": [
    "## Using the Alchemical Perturbator (AP) class\n",
    "We created an Alchemical perturbator object to access easily all the CPHF methods for alchemical derivative and alchemical forces derivatives, this allow us to save the derivatives and also to exploit the symmetry of the system"
   ]
  },
  {
   "cell_type": "code",
   "execution_count": 11,
   "metadata": {},
   "outputs": [
    {
     "name": "stdout",
     "output_type": "stream",
     "text": [
      "The autoreload extension is already loaded. To reload it, use:\n",
      "  %reload_ext autoreload\n"
     ]
    },
    {
     "ename": "ImportError",
     "evalue": "cannot import name 'cpks' from 'pyscf.scf' (/home/giorgio/anaconda3/lib/python3.8/site-packages/pyscf/scf/__init__.py)",
     "output_type": "error",
     "traceback": [
      "\u001b[0;31m---------------------------------------------------------------------------\u001b[0m",
      "\u001b[0;31mImportError\u001b[0m                               Traceback (most recent call last)",
      "\u001b[0;32m/tmp/ipykernel_5525/2983768032.py\u001b[0m in \u001b[0;36m<cell line: 3>\u001b[0;34m()\u001b[0m\n\u001b[1;32m      1\u001b[0m \u001b[0mget_ipython\u001b[0m\u001b[0;34m(\u001b[0m\u001b[0;34m)\u001b[0m\u001b[0;34m.\u001b[0m\u001b[0mrun_line_magic\u001b[0m\u001b[0;34m(\u001b[0m\u001b[0;34m'load_ext'\u001b[0m\u001b[0;34m,\u001b[0m \u001b[0;34m'autoreload'\u001b[0m\u001b[0;34m)\u001b[0m\u001b[0;34m\u001b[0m\u001b[0;34m\u001b[0m\u001b[0m\n\u001b[1;32m      2\u001b[0m \u001b[0mget_ipython\u001b[0m\u001b[0;34m(\u001b[0m\u001b[0;34m)\u001b[0m\u001b[0;34m.\u001b[0m\u001b[0mrun_line_magic\u001b[0m\u001b[0;34m(\u001b[0m\u001b[0;34m'autoreload'\u001b[0m\u001b[0;34m,\u001b[0m \u001b[0;34m'2'\u001b[0m\u001b[0;34m)\u001b[0m\u001b[0;34m\u001b[0m\u001b[0;34m\u001b[0m\u001b[0m\n\u001b[0;32m----> 3\u001b[0;31m \u001b[0;32mfrom\u001b[0m \u001b[0mAP_class\u001b[0m \u001b[0;32mimport\u001b[0m \u001b[0mAPDFT_perturbator\u001b[0m \u001b[0;32mas\u001b[0m \u001b[0mAP\u001b[0m\u001b[0;34m\u001b[0m\u001b[0;34m\u001b[0m\u001b[0m\n\u001b[0m",
      "\u001b[0;32m~/Supplementary_code_for_Quantum_Alchemy/Alchemical_CPKS_perturbator/AP_class.py\u001b[0m in \u001b[0;36m<module>\u001b[0;34m\u001b[0m\n\u001b[1;32m     11\u001b[0m \u001b[0;32mfrom\u001b[0m \u001b[0mFcMole\u001b[0m \u001b[0;32mimport\u001b[0m \u001b[0mFcM_like\u001b[0m\u001b[0;34m\u001b[0m\u001b[0;34m\u001b[0m\u001b[0m\n\u001b[1;32m     12\u001b[0m \u001b[0;32mfrom\u001b[0m \u001b[0mAP_utils\u001b[0m \u001b[0;32mimport\u001b[0m \u001b[0malias_param\u001b[0m\u001b[0;34m,\u001b[0m\u001b[0mparse_charge\u001b[0m\u001b[0;34m,\u001b[0m\u001b[0mDeltaV\u001b[0m\u001b[0;34m,\u001b[0m\u001b[0mcharge2symbol\u001b[0m\u001b[0;34m\u001b[0m\u001b[0;34m\u001b[0m\u001b[0m\n\u001b[0;32m---> 13\u001b[0;31m \u001b[0;32mfrom\u001b[0m \u001b[0malch_deriv\u001b[0m \u001b[0;32mimport\u001b[0m \u001b[0;34m*\u001b[0m\u001b[0;34m\u001b[0m\u001b[0;34m\u001b[0m\u001b[0m\n\u001b[0m\u001b[1;32m     14\u001b[0m \u001b[0;32mfrom\u001b[0m \u001b[0mABSEC\u001b[0m \u001b[0;32mimport\u001b[0m \u001b[0mabse_atom\u001b[0m\u001b[0;34m\u001b[0m\u001b[0;34m\u001b[0m\u001b[0m\n\u001b[1;32m     15\u001b[0m \u001b[0;32mimport\u001b[0m \u001b[0mcopy\u001b[0m\u001b[0;34m\u001b[0m\u001b[0;34m\u001b[0m\u001b[0m\n",
      "\u001b[0;32m~/Supplementary_code_for_Quantum_Alchemy/Alchemical_CPKS_perturbator/alch_deriv.py\u001b[0m in \u001b[0;36m<module>\u001b[0;34m\u001b[0m\n\u001b[1;32m      4\u001b[0m \u001b[0;32mfrom\u001b[0m \u001b[0mpyscf\u001b[0m \u001b[0;32mimport\u001b[0m \u001b[0mlib\u001b[0m\u001b[0;34m\u001b[0m\u001b[0;34m\u001b[0m\u001b[0m\n\u001b[1;32m      5\u001b[0m \u001b[0;32mfrom\u001b[0m \u001b[0mfunctools\u001b[0m \u001b[0;32mimport\u001b[0m \u001b[0mreduce\u001b[0m\u001b[0;34m\u001b[0m\u001b[0;34m\u001b[0m\u001b[0m\n\u001b[0;32m----> 6\u001b[0;31m \u001b[0;32mfrom\u001b[0m \u001b[0mpyscf\u001b[0m\u001b[0;34m.\u001b[0m\u001b[0mscf\u001b[0m \u001b[0;32mimport\u001b[0m \u001b[0mcpks\u001b[0m\u001b[0;34m\u001b[0m\u001b[0;34m\u001b[0m\u001b[0m\n\u001b[0m\u001b[1;32m      7\u001b[0m \u001b[0;32mfrom\u001b[0m \u001b[0mpyscf\u001b[0m \u001b[0;32mimport\u001b[0m \u001b[0mlib\u001b[0m\u001b[0;34m\u001b[0m\u001b[0;34m\u001b[0m\u001b[0m\n\u001b[1;32m      8\u001b[0m \u001b[0;34m\u001b[0m\u001b[0m\n",
      "\u001b[0;31mImportError\u001b[0m: cannot import name 'cpks' from 'pyscf.scf' (/home/giorgio/anaconda3/lib/python3.8/site-packages/pyscf/scf/__init__.py)"
     ]
    }
   ],
   "source": [
    "%load_ext autoreload\n",
    "%autoreload 2\n",
    "from AP_class import APDFT_perturbator as AP"
   ]
  },
  {
   "cell_type": "markdown",
   "metadata": {},
   "source": [
    "The alchemical perturbator is instantiated from a converged RHF object, and for some given perturbation sites."
   ]
  },
  {
   "cell_type": "code",
   "execution_count": 5,
   "metadata": {},
   "outputs": [
    {
     "name": "stdout",
     "output_type": "stream",
     "text": [
      "converged SCF energy = -107.49885049543\n"
     ]
    },
    {
     "ename": "NameError",
     "evalue": "name 'AP' is not defined",
     "output_type": "error",
     "traceback": [
      "\u001b[0;31m---------------------------------------------------------------------------\u001b[0m",
      "\u001b[0;31mNameError\u001b[0m                                 Traceback (most recent call last)",
      "\u001b[0;32m/tmp/ipykernel_5525/625526159.py\u001b[0m in \u001b[0;36m<cell line: 3>\u001b[0;34m()\u001b[0m\n\u001b[1;32m      1\u001b[0m \u001b[0mmf_nn\u001b[0m\u001b[0;34m=\u001b[0m\u001b[0mscf\u001b[0m\u001b[0;34m.\u001b[0m\u001b[0mRHF\u001b[0m\u001b[0;34m(\u001b[0m\u001b[0mmol_NN\u001b[0m\u001b[0;34m)\u001b[0m\u001b[0;34m\u001b[0m\u001b[0;34m\u001b[0m\u001b[0m\n\u001b[1;32m      2\u001b[0m \u001b[0mmf_nn\u001b[0m\u001b[0;34m.\u001b[0m\u001b[0mscf\u001b[0m\u001b[0;34m(\u001b[0m\u001b[0;34m)\u001b[0m\u001b[0;34m\u001b[0m\u001b[0;34m\u001b[0m\u001b[0m\n\u001b[0;32m----> 3\u001b[0;31m \u001b[0map_nn\u001b[0m\u001b[0;34m=\u001b[0m\u001b[0mAP\u001b[0m\u001b[0;34m(\u001b[0m\u001b[0mmf_nn\u001b[0m\u001b[0;34m,\u001b[0m\u001b[0msites\u001b[0m\u001b[0;34m=\u001b[0m\u001b[0;34m[\u001b[0m\u001b[0;36m0\u001b[0m\u001b[0;34m,\u001b[0m\u001b[0;36m1\u001b[0m\u001b[0;34m]\u001b[0m\u001b[0;34m)\u001b[0m\u001b[0;34m\u001b[0m\u001b[0;34m\u001b[0m\u001b[0m\n\u001b[0m",
      "\u001b[0;31mNameError\u001b[0m: name 'AP' is not defined"
     ]
    }
   ],
   "source": [
    "mf_nn=scf.RHF(mol_NN)\n",
    "mf_nn.scf()\n",
    "ap_nn=AP(mf_nn,sites=[0,1])"
   ]
  },
  {
   "cell_type": "markdown",
   "metadata": {},
   "source": [
    "Alchemical gradient $ \\partial E/\\partial Z_i $, hessian $\\partial^2E/\\partial Z_i\\partial Z_j$ and cubic hessian $\\partial^3E/\\partial Z_i\\partial Z_j\\partial Z_k$can be obtained from their buid functions \n"
   ]
  },
  {
   "cell_type": "code",
   "execution_count": 47,
   "metadata": {},
   "outputs": [
    {
     "data": {
      "text/plain": [
       "array([-17.96252176, -17.96252176])"
      ]
     },
     "execution_count": 47,
     "metadata": {},
     "output_type": "execute_result"
    }
   ],
   "source": [
    "#build the alchemical gradient dE/dZ_i\n",
    "ap_nn.build_gradient()"
   ]
  },
  {
   "cell_type": "code",
   "execution_count": 48,
   "metadata": {},
   "outputs": [
    {
     "data": {
      "text/plain": [
       "array([[-0.56261427,  0.95186321],\n",
       "       [ 0.95186321, -0.56261427]])"
      ]
     },
     "execution_count": 48,
     "metadata": {},
     "output_type": "execute_result"
    }
   ],
   "source": [
    "#build the alchemical hessian d**2E/dZ_i/dZ_j\n",
    "ap_nn.build_hessian()"
   ]
  },
  {
   "cell_type": "code",
   "execution_count": 49,
   "metadata": {},
   "outputs": [
    {
     "data": {
      "text/plain": [
       "array([[[0.05028813, 0.00297524],\n",
       "        [0.00297524, 0.00297524]],\n",
       "\n",
       "       [[0.00297524, 0.00297524],\n",
       "        [0.00297524, 0.05028813]]])"
      ]
     },
     "execution_count": 49,
     "metadata": {},
     "output_type": "execute_result"
    }
   ],
   "source": [
    "ap_nn.build_cubic_hessian()"
   ]
  },
  {
   "cell_type": "markdown",
   "metadata": {},
   "source": [
    "Are saved inside the class and can be accessed in a later moment"
   ]
  },
  {
   "cell_type": "code",
   "execution_count": 50,
   "metadata": {},
   "outputs": [
    {
     "data": {
      "text/plain": [
       "(array([-17.96252176, -17.96252176]),\n",
       " array([[-0.56261427,  0.95186321],\n",
       "        [ 0.95186321, -0.56261427]]),\n",
       " array([[[0.05028813, 0.00297524],\n",
       "         [0.00297524, 0.00297524]],\n",
       " \n",
       "        [[0.00297524, 0.00297524],\n",
       "         [0.00297524, 0.05028813]]]))"
      ]
     },
     "execution_count": 50,
     "metadata": {},
     "output_type": "execute_result"
    }
   ],
   "source": [
    "ap_nn.gradient,ap_nn.hessian,ap_nn.cubic_hessian"
   ]
  },
  {
   "cell_type": "markdown",
   "metadata": {},
   "source": [
    "Alchemical perturbations for isolelectronic transmutations can be calculated from the derivatives up to order 3"
   ]
  },
  {
   "cell_type": "code",
   "execution_count": 51,
   "metadata": {},
   "outputs": [
    {
     "data": {
      "text/plain": [
       "-89.53632873812916"
      ]
     },
     "execution_count": 51,
     "metadata": {},
     "output_type": "execute_result"
    }
   ],
   "source": [
    "ap_nn.APDFT1(np.asarray([-1,0])) # to CN-"
   ]
  },
  {
   "cell_type": "code",
   "execution_count": 52,
   "metadata": {},
   "outputs": [
    {
     "data": {
      "text/plain": [
       "-109.01332797130455"
      ]
     },
     "execution_count": 52,
     "metadata": {},
     "output_type": "execute_result"
    }
   ],
   "source": [
    "ap_nn.APDFT2(np.asarray([-1,1])) # to CO"
   ]
  },
  {
   "cell_type": "code",
   "execution_count": 53,
   "metadata": {},
   "outputs": [
    {
     "data": {
      "text/plain": [
       "-125.7342980336741"
      ]
     },
     "execution_count": 53,
     "metadata": {},
     "output_type": "execute_result"
    }
   ],
   "source": [
    "ap_nn.APDFT3(np.asarray([0,1]))  # to NO+"
   ]
  },
  {
   "cell_type": "code",
   "execution_count": 54,
   "metadata": {},
   "outputs": [
    {
     "data": {
      "text/plain": [
       "-143.01490712587218"
      ]
     },
     "execution_count": 54,
     "metadata": {},
     "output_type": "execute_result"
    }
   ],
   "source": [
    "ap_nn.APDFT3(np.asarray([1,1])) # to OO++"
   ]
  },
  {
   "cell_type": "markdown",
   "metadata": {},
   "source": [
    "## Alchemical forces\n",
    "Alchemical forces are calculated resusing the density matrix derivatives already evaluated. The function af(i) gives the alchemical force of the atom $i$ : $\\partial \\mathbf{g}/ \\partial Z_i$ [2]\n"
   ]
  },
  {
   "cell_type": "code",
   "execution_count": 55,
   "metadata": {},
   "outputs": [
    {
     "data": {
      "text/plain": [
       "(array([[ 4.97829873e-17, -2.41093253e-16,  1.62250798e-01],\n",
       "        [-4.97829873e-17,  2.41093253e-16, -1.62250798e-01]]),\n",
       " array([[-9.38846548e-17, -5.65820343e-16,  1.62250798e-01],\n",
       "        [ 9.38846548e-17,  5.65820343e-16, -1.62250798e-01]]))"
      ]
     },
     "execution_count": 55,
     "metadata": {},
     "output_type": "execute_result"
    }
   ],
   "source": [
    "ap_nn.af(0),ap_nn.af(1)"
   ]
  },
  {
   "cell_type": "markdown",
   "metadata": {},
   "source": [
    "## Basis set effects \n",
    "The class also include methods to calculate the energy of the target molecules, with its basis set and with the basis set of the reference,"
   ]
  },
  {
   "cell_type": "code",
   "execution_count": 56,
   "metadata": {},
   "outputs": [
    {
     "name": "stdout",
     "output_type": "stream",
     "text": [
      "converged SCF energy = -111.221914650137\n",
      "converged SCF energy = -108.996149557208\n"
     ]
    },
    {
     "data": {
      "text/plain": [
       "(-111.22191465013725, -108.99614955720804)"
      ]
     },
     "execution_count": 56,
     "metadata": {},
     "output_type": "execute_result"
    }
   ],
   "source": [
    "ap_nn.target_energy([-1,1]),ap_nn.target_energy_ref_bs([-1,1])"
   ]
  },
  {
   "cell_type": "markdown",
   "metadata": {},
   "source": [
    "The APDFT3 predictions approximate the energy of the molecule with the reference basis set "
   ]
  },
  {
   "cell_type": "code",
   "execution_count": 57,
   "metadata": {},
   "outputs": [
    {
     "data": {
      "text/plain": [
       "-109.01332797130455"
      ]
     },
     "execution_count": 57,
     "metadata": {},
     "output_type": "execute_result"
    }
   ],
   "source": [
    "ap_nn.APDFT3([-1,1])"
   ]
  },
  {
   "cell_type": "markdown",
   "metadata": {},
   "source": [
    "But we can correct it using the single atom basis set correction [1]"
   ]
  },
  {
   "cell_type": "code",
   "execution_count": 58,
   "metadata": {},
   "outputs": [
    {
     "data": {
      "text/plain": [
       "-111.47291530309323"
      ]
     },
     "execution_count": 58,
     "metadata": {},
     "output_type": "execute_result"
    }
   ],
   "source": [
    "ap_nn.APDFT3([-1,1])+ap_nn.ap_bsec([-1,1])"
   ]
  },
  {
   "cell_type": "markdown",
   "metadata": {},
   "source": [
    "## References \n",
    "\n",
    "[1] Giorgio Domenichini, Guido Falk von Rudorff, and O. Anatole von Lilienfeld : \"Effects of perturbation order and basis set on alchemical predictions\", J. Chem. Phys. 153, 144118 (2020)\n",
    "\n",
    "[2] Giorgio Domenichini, and O. Anatole von Lilienfeld: \"Alchemical geometry relaxation\", J. Chem. Phys. 156, 184801 (2022); https://doi.org/10.1063/5.0085817 "
   ]
  },
  {
   "cell_type": "code",
   "execution_count": null,
   "metadata": {},
   "outputs": [],
   "source": []
  },
  {
   "cell_type": "code",
   "execution_count": null,
   "metadata": {},
   "outputs": [],
   "source": []
  },
  {
   "cell_type": "code",
   "execution_count": null,
   "metadata": {},
   "outputs": [],
   "source": []
  }
 ],
 "metadata": {
  "kernelspec": {
   "display_name": "Python 3 (ipykernel)",
   "language": "python",
   "name": "python3"
  },
  "language_info": {
   "codemirror_mode": {
    "name": "ipython",
    "version": 3
   },
   "file_extension": ".py",
   "mimetype": "text/x-python",
   "name": "python",
   "nbconvert_exporter": "python",
   "pygments_lexer": "ipython3",
   "version": "3.8.13"
  }
 },
 "nbformat": 4,
 "nbformat_minor": 4
}
