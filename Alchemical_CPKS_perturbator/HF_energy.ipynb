{
 "cells": [
  {
   "cell_type": "code",
   "execution_count": 1,
   "id": "b3df2367",
   "metadata": {},
   "outputs": [],
   "source": [
    "from pyscf import gto,scf\n",
    "import numpy as np,numpy\n",
    "import matplotlib.pyplot as plt\n",
    "from FcMole import *"
   ]
  },
  {
   "cell_type": "code",
   "execution_count": 2,
   "id": "4585547d",
   "metadata": {},
   "outputs": [],
   "source": [
    "CO=gto.M(atom=\"C 0 0 0; O 0 0 2 \",unit=\"Bohr\", basis=\"sto-3g\")"
   ]
  },
  {
   "cell_type": "code",
   "execution_count": 3,
   "id": "f8e47ad0",
   "metadata": {},
   "outputs": [
    {
     "name": "stdout",
     "output_type": "stream",
     "text": [
      "converged SCF energy = -111.199724042754\n",
      "CPU times: user 2.03 s, sys: 2.09 ms, total: 2.03 s\n",
      "Wall time: 90.4 ms\n"
     ]
    },
    {
     "data": {
      "text/plain": [
       "-111.19972404275447"
      ]
     },
     "execution_count": 3,
     "metadata": {},
     "output_type": "execute_result"
    }
   ],
   "source": [
    "%%time\n",
    "mf=scf.RHF(CO)\n",
    "mf.scf()"
   ]
  },
  {
   "cell_type": "code",
   "execution_count": 4,
   "id": "4388e293",
   "metadata": {},
   "outputs": [
    {
     "data": {
      "text/plain": [
       "-111.19972404275447"
      ]
     },
     "execution_count": 4,
     "metadata": {},
     "output_type": "execute_result"
    }
   ],
   "source": [
    "mf.e_tot"
   ]
  },
  {
   "cell_type": "code",
   "execution_count": 5,
   "id": "9fc8bb77",
   "metadata": {},
   "outputs": [
    {
     "data": {
      "text/plain": [
       "{'e1': -199.5102395828109, 'e2': 64.31051554005643, 'nuc': 24.0}"
      ]
     },
     "execution_count": 5,
     "metadata": {},
     "output_type": "execute_result"
    }
   ],
   "source": [
    "summary=dict(mf.scf_summary)\n",
    "summary"
   ]
  },
  {
   "cell_type": "code",
   "execution_count": 6,
   "id": "e9b9122f",
   "metadata": {},
   "outputs": [
    {
     "data": {
      "text/plain": [
       "(-111.19972404275447, -111.19972404275447)"
      ]
     },
     "execution_count": 6,
     "metadata": {},
     "output_type": "execute_result"
    }
   ],
   "source": [
    "sum(summary.values()) ,mf.e_tot"
   ]
  },
  {
   "cell_type": "code",
   "execution_count": 7,
   "id": "d6e10453",
   "metadata": {},
   "outputs": [],
   "source": [
    "#P=CC^T\n",
    "C=mf.mo_coeff\n",
    "Pc=2*C[:,:7].dot(C.T[:7,:])\n",
    "P0=mf.make_rdm1()"
   ]
  },
  {
   "cell_type": "code",
   "execution_count": 8,
   "id": "602ffca8",
   "metadata": {},
   "outputs": [],
   "source": [
    "J,K=mf.get_jk()\n",
    "h1=mf.get_hcore()\n",
    "F=mf.get_fock()"
   ]
  },
  {
   "cell_type": "code",
   "execution_count": 9,
   "id": "ca41b33d",
   "metadata": {},
   "outputs": [
    {
     "data": {
      "text/plain": [
       "(-199.5102395828109, -199.5102395828109)"
      ]
     },
     "execution_count": 9,
     "metadata": {},
     "output_type": "execute_result"
    }
   ],
   "source": [
    "summary[\"e1\"],np.einsum(\"ij,ij\",h1,P0)"
   ]
  },
  {
   "cell_type": "code",
   "execution_count": 10,
   "id": "ae20bfc1",
   "metadata": {},
   "outputs": [
    {
     "data": {
      "text/plain": [
       "(64.31051554005643, 64.31051554005643)"
      ]
     },
     "execution_count": 10,
     "metadata": {},
     "output_type": "execute_result"
    }
   ],
   "source": [
    "summary[\"e2\"],np.einsum(\"ij,ij\",J,P0)/2-np.einsum(\"ij,ij\",K,P0)/4  # it is the HF Coulomb operator "
   ]
  },
  {
   "cell_type": "code",
   "execution_count": 11,
   "id": "980323fd",
   "metadata": {},
   "outputs": [
    {
     "data": {
      "text/plain": [
       "True"
      ]
     },
     "execution_count": 11,
     "metadata": {},
     "output_type": "execute_result"
    }
   ],
   "source": [
    "np.allclose(F,h1+J-K/2) #F=h1+J-K/2"
   ]
  },
  {
   "cell_type": "code",
   "execution_count": 12,
   "id": "3e67586e",
   "metadata": {},
   "outputs": [
    {
     "data": {
      "text/plain": [
       "(-70.88920850269808, -70.88920850269804)"
      ]
     },
     "execution_count": 12,
     "metadata": {},
     "output_type": "execute_result"
    }
   ],
   "source": [
    "np.einsum(\"ij,ij\",F,P0),summary[\"e1\"]+summary[\"e2\"]*2"
   ]
  },
  {
   "cell_type": "code",
   "execution_count": null,
   "id": "ad55257d",
   "metadata": {},
   "outputs": [],
   "source": []
  },
  {
   "cell_type": "code",
   "execution_count": 13,
   "id": "b57ed3f7",
   "metadata": {},
   "outputs": [],
   "source": [
    "from functools import reduce\n",
    "def gen_vind(mf, mo_coeff, mo_occ):\n",
    "    nao, nmo = mo_coeff.shape\n",
    "    mocc = mo_coeff[:,mo_occ>0]\n",
    "    nocc = mocc.shape[1]\n",
    "    vresp = mf.gen_response(mo_coeff, mo_occ, hermi=1)\n",
    "    def fx(mo1):\n",
    "        mo1 = mo1.reshape(-1,nmo,nocc)\n",
    "        nset = len(mo1)\n",
    "        dm1 = numpy.empty((nset,nao,nao))\n",
    "        for i, x in enumerate(mo1):\n",
    "            dm = reduce(numpy.dot, (mo_coeff, x*2, mocc.T)) # *2 for double occupancy\n",
    "            dm1[i] = dm + dm.T\n",
    "        v1 = vresp(dm1)\n",
    "        v1vo = numpy.empty_like(mo1)\n",
    "        for i, x in enumerate(v1):\n",
    "            v1vo[i] = reduce(numpy.dot, (mo_coeff.T, x, mocc))\n",
    "        return v1vo\n",
    "    return fx"
   ]
  },
  {
   "cell_type": "code",
   "execution_count": 14,
   "id": "c8f84a25",
   "metadata": {},
   "outputs": [],
   "source": [
    "from pyscf.scf import cphf\n",
    "from pyscf.scf import  _response_functions"
   ]
  },
  {
   "cell_type": "code",
   "execution_count": 15,
   "id": "2d118795",
   "metadata": {},
   "outputs": [],
   "source": [
    "vind=gen_vind(mf, mf.mo_coeff, mf.mo_occ)"
   ]
  },
  {
   "cell_type": "code",
   "execution_count": 16,
   "id": "86fa653d",
   "metadata": {},
   "outputs": [
    {
     "data": {
      "text/plain": [
       "(1, 10, 7)"
      ]
     },
     "execution_count": 16,
     "metadata": {},
     "output_type": "execute_result"
    }
   ],
   "source": [
    "vind(np.random.rand(10,7)).shape"
   ]
  },
  {
   "cell_type": "code",
   "execution_count": 17,
   "id": "0d5913f4",
   "metadata": {},
   "outputs": [
    {
     "data": {
      "text/plain": [
       "array([2., 2., 2., 2., 2., 2., 2., 0., 0., 0.])"
      ]
     },
     "execution_count": 17,
     "metadata": {},
     "output_type": "execute_result"
    }
   ],
   "source": [
    "mf.mo_occ"
   ]
  },
  {
   "cell_type": "code",
   "execution_count": 18,
   "id": "408d9e60",
   "metadata": {},
   "outputs": [],
   "source": []
  },
  {
   "cell_type": "code",
   "execution_count": 19,
   "id": "8a462cf7",
   "metadata": {},
   "outputs": [
    {
     "data": {
      "text/plain": [
       "array([[ 0.08849428,  0.01495866, -0.00524675, -0.00524675, -0.00405709,\n",
       "        -0.00422077, -0.00175978, -0.00392383, -0.00392383, -0.00688321],\n",
       "       [ 0.01495866,  0.05948812, -0.00139476, -0.00139476,  0.00572699,\n",
       "        -0.00021311,  0.02728125, -0.0032178 , -0.0032178 , -0.02931106],\n",
       "       [-0.00524675, -0.00139476,  0.06038057, -0.00382447, -0.00338306,\n",
       "        -0.00433104, -0.00509075,  0.01693565, -0.00359605, -0.00089858],\n",
       "       [-0.00524675, -0.00139476, -0.00382447,  0.06038057, -0.00338306,\n",
       "        -0.00433104, -0.00509075, -0.00359605,  0.01693565, -0.00089858],\n",
       "       [-0.00405709,  0.00572699, -0.00338306, -0.00338306,  0.0648409 ,\n",
       "         0.0035425 ,  0.03513864, -0.00255662, -0.00255662, -0.02870674],\n",
       "       [-0.00422077, -0.00021311, -0.00433104, -0.00433104,  0.0035425 ,\n",
       "         0.12396744,  0.01332848, -0.00749146, -0.00749146, -0.00320253],\n",
       "       [-0.00175978,  0.02728125, -0.00509075, -0.00509075,  0.03513864,\n",
       "         0.01332848,  0.06925861, -0.00416837, -0.00416837, -0.00582353],\n",
       "       [-0.00392383, -0.0032178 ,  0.01693565, -0.00359605, -0.00255662,\n",
       "        -0.00749146, -0.00416837,  0.08122335, -0.0047983 , -0.00143721],\n",
       "       [-0.00392383, -0.0032178 , -0.00359605,  0.01693565, -0.00255662,\n",
       "        -0.00749146, -0.00416837, -0.0047983 ,  0.08122335, -0.00143721],\n",
       "       [-0.00688321, -0.02931106, -0.00089858, -0.00089858, -0.02870674,\n",
       "        -0.00320253, -0.00582353, -0.00143721, -0.00143721,  0.08742957]])"
      ]
     },
     "execution_count": 19,
     "metadata": {},
     "output_type": "execute_result"
    }
   ],
   "source": [
    "rf=mf.gen_response(mf.mo_coeff, mf.mo_occ, hermi=1)\n",
    "dm1test=np.ones((10,10))/100\n",
    "rf(dm1test)"
   ]
  },
  {
   "cell_type": "code",
   "execution_count": 24,
   "id": "11ed129a",
   "metadata": {},
   "outputs": [
    {
     "data": {
      "text/plain": [
       "True"
      ]
     },
     "execution_count": 24,
     "metadata": {},
     "output_type": "execute_result"
    }
   ],
   "source": [
    "vj, vk = mf.get_jk(CO, dm1test, hermi=1)\n",
    "respfun=rf(dm1test)\n",
    "np.allclose(vj - .5 * vk,rf(dm1test))"
   ]
  },
  {
   "cell_type": "code",
   "execution_count": 31,
   "id": "d62ba199",
   "metadata": {},
   "outputs": [],
   "source": [
    "dFt=mf.get_fock(dm=P0+dm1test)-mf.get_fock(dm=P0)"
   ]
  },
  {
   "cell_type": "code",
   "execution_count": 33,
   "id": "3a495943",
   "metadata": {},
   "outputs": [
    {
     "data": {
      "text/plain": [
       "True"
      ]
     },
     "execution_count": 33,
     "metadata": {},
     "output_type": "execute_result"
    }
   ],
   "source": [
    "np.allclose(dFt,respfun)"
   ]
  },
  {
   "cell_type": "code",
   "execution_count": null,
   "id": "68f52a3b",
   "metadata": {},
   "outputs": [],
   "source": []
  },
  {
   "cell_type": "code",
   "execution_count": null,
   "id": "36310877",
   "metadata": {},
   "outputs": [],
   "source": []
  }
 ],
 "metadata": {
  "kernelspec": {
   "display_name": "Python 3 (ipykernel)",
   "language": "python",
   "name": "python3"
  },
  "language_info": {
   "codemirror_mode": {
    "name": "ipython",
    "version": 3
   },
   "file_extension": ".py",
   "mimetype": "text/x-python",
   "name": "python",
   "nbconvert_exporter": "python",
   "pygments_lexer": "ipython3",
   "version": "3.8.13"
  }
 },
 "nbformat": 4,
 "nbformat_minor": 5
}
