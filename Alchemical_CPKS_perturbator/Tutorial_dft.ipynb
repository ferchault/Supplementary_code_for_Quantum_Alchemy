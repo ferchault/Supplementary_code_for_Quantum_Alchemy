{
 "cells": [
  {
   "cell_type": "markdown",
   "metadata": {},
   "source": [
    "This is the tutorial for the evaluation of CPHF alchemical derivatives using PySCF (version 2.2)  "
   ]
  },
  {
   "cell_type": "code",
   "execution_count": 1,
   "metadata": {},
   "outputs": [
    {
     "data": {
      "text/plain": [
       "'2.2.0'"
      ]
     },
     "execution_count": 1,
     "metadata": {},
     "output_type": "execute_result"
    }
   ],
   "source": [
    "from pyscf import gto,scf\n",
    "import numpy as np\n",
    "import pyscf\n",
    "pyscf.__version__"
   ]
  },
  {
   "cell_type": "markdown",
   "metadata": {},
   "source": [
    "## Fractional charge molecules"
   ]
  },
  {
   "cell_type": "code",
   "execution_count": 2,
   "metadata": {},
   "outputs": [],
   "source": [
    "from FcMole import FcM, FcM_like"
   ]
  },
  {
   "cell_type": "code",
   "execution_count": 3,
   "metadata": {},
   "outputs": [],
   "source": [
    "mol_NN=gto.M(atom= \"N 0 0 0; N 0 0 2.1\",unit=\"Bohr\", basis=\"sto-3g\") "
   ]
  },
  {
   "cell_type": "markdown",
   "metadata": {},
   "source": [
    "The FcM_like function creates a copy of a givem PySCF molecule object with modified nuclear cherges "
   ]
  },
  {
   "cell_type": "code",
   "execution_count": 4,
   "metadata": {},
   "outputs": [],
   "source": [
    "fmol=FcM_like(mol_NN,fcs=[.1,-.1])"
   ]
  },
  {
   "cell_type": "markdown",
   "metadata": {},
   "source": [
    "Only nuclear charges are modified, the number of electrons stays the same"
   ]
  },
  {
   "cell_type": "code",
   "execution_count": 5,
   "metadata": {},
   "outputs": [
    {
     "data": {
      "text/plain": [
       "(array([7.1, 6.9]), (7, 7))"
      ]
     },
     "execution_count": 5,
     "metadata": {},
     "output_type": "execute_result"
    }
   ],
   "source": [
    "fmol.atom_charges(),fmol.nelec"
   ]
  },
  {
   "cell_type": "markdown",
   "metadata": {},
   "source": [
    "The same result can be achieved using the FcM constructor"
   ]
  },
  {
   "cell_type": "code",
   "execution_count": 6,
   "metadata": {},
   "outputs": [],
   "source": [
    "fmol1=FcM(fcs=[.2,-.2],atom= \"N 0 0 0; N 0 0 2.1\",unit=\"Bohr\", basis=\"sto-3g\")"
   ]
  },
  {
   "cell_type": "markdown",
   "metadata": {},
   "source": [
    "The number of electron matches the atom string"
   ]
  },
  {
   "cell_type": "code",
   "execution_count": 7,
   "metadata": {},
   "outputs": [
    {
     "data": {
      "text/plain": [
       "(array([7.2, 6.8]), (7, 7))"
      ]
     },
     "execution_count": 7,
     "metadata": {},
     "output_type": "execute_result"
    }
   ],
   "source": [
    "fmol1.atom_charges(),fmol1.nelec"
   ]
  },
  {
   "cell_type": "markdown",
   "metadata": {},
   "source": [
    "If only some atoms have modified nuclear charges is possible to pass as a fcs parameter a double list [[idxs],[fcs]]"
   ]
  },
  {
   "cell_type": "code",
   "execution_count": 8,
   "metadata": {},
   "outputs": [],
   "source": [
    "fmol2=FcM(fcs=[[0,1],[.3,-.3]],atom= \"N 0 0 0; N 0 0 2.1\",unit=\"Bohr\", basis=\"sto-3g\")"
   ]
  },
  {
   "cell_type": "code",
   "execution_count": 9,
   "metadata": {},
   "outputs": [
    {
     "data": {
      "text/plain": [
       "(array([7.3, 6.7]), (7, 7))"
      ]
     },
     "execution_count": 9,
     "metadata": {},
     "output_type": "execute_result"
    }
   ],
   "source": [
    "fmol2.atom_charges(),fmol2.nelec"
   ]
  },
  {
   "cell_type": "markdown",
   "metadata": {},
   "source": [
    "For scf calculations using fractional charges molecules the initial density matrix guess needs to be evaluated from the eigenfunction of the monoelectronic Hamiltonian (there is no single atom density \"SAD\" matrix guess for atoms with fractional charge)"
   ]
  },
  {
   "cell_type": "code",
   "execution_count": 10,
   "metadata": {},
   "outputs": [],
   "source": [
    "mf=scf.RKS(fmol)\n",
    "mf1=scf.RKS(fmol1)\n",
    "mf2=scf.RKS(fmol2)"
   ]
  },
  {
   "cell_type": "code",
   "execution_count": 11,
   "metadata": {},
   "outputs": [],
   "source": [
    "mf.xc=\"PBE0\"\n",
    "mf1.xc=\"PBE0\"\n",
    "mf2.xc=\"PBE0\""
   ]
  },
  {
   "cell_type": "code",
   "execution_count": 12,
   "metadata": {},
   "outputs": [
    {
     "name": "stdout",
     "output_type": "stream",
     "text": [
      "converged SCF energy = -107.958401719176\n"
     ]
    },
    {
     "name": "stderr",
     "output_type": "stream",
     "text": [
      "/home/giorgio/anaconda3/lib/python3.8/site-packages/pyscf/gto/mole.py:1209: UserWarning: Function mol.dumps drops attribute with_rinv_at_nucleus because it is not JSON-serializable\n",
      "  warnings.warn(msg)\n"
     ]
    },
    {
     "name": "stdout",
     "output_type": "stream",
     "text": [
      "converged SCF energy = -108.001857890544\n",
      "converged SCF energy = -108.074269771049\n"
     ]
    },
    {
     "data": {
      "text/plain": [
       "-108.0742697710494"
      ]
     },
     "execution_count": 12,
     "metadata": {},
     "output_type": "execute_result"
    }
   ],
   "source": [
    "mf.scf(dm0=mf.init_guess_by_1e())\n",
    "mf1.scf(dm0=mf1.init_guess_by_1e())\n",
    "mf2.scf(dm0=mf2.init_guess_by_1e())"
   ]
  },
  {
   "cell_type": "code",
   "execution_count": 13,
   "metadata": {},
   "outputs": [
    {
     "name": "stdout",
     "output_type": "stream",
     "text": [
      "converged SCF energy = -107.94391478573\n",
      "converged SCF energy = -107.958401719176\n",
      "converged SCF energy = -108.001857890545\n",
      "converged SCF energy = -108.074269771049\n"
     ]
    }
   ],
   "source": [
    "mf0=scf.RKS(mol_NN)\n",
    "mf0.xc=\"PBE0\"\n",
    "e0=mf0.scf()\n",
    "e=mf.scf(dm0=mf0.make_rdm1())\n",
    "e1=mf1.scf(dm0=mf.make_rdm1())\n",
    "e2=mf2.scf(dm0=mf1.make_rdm1())"
   ]
  },
  {
   "cell_type": "code",
   "execution_count": 14,
   "metadata": {},
   "outputs": [
    {
     "data": {
      "text/plain": [
       "[<matplotlib.lines.Line2D at 0x7fd967cfaa60>]"
      ]
     },
     "execution_count": 14,
     "metadata": {},
     "output_type": "execute_result"
    },
    {
     "data": {
      "image/png": "[encoded data removed]",
      "text/plain": [
       "<Figure size 640x480 with 1 Axes>"
      ]
     },
     "metadata": {},
     "output_type": "display_data"
    }
   ],
   "source": [
    "import matplotlib.pyplot as plt\n",
    "plt.plot([e0,e,e1,e2])"
   ]
  },
  {
   "cell_type": "markdown",
   "metadata": {},
   "source": [
    "## Using the Alchemical Perturbator (AP) class\n",
    "We created an Alchemical perturbator object to access easily all the CPHF methods for alchemical derivative and alchemical forces derivatives, this allow us to save the derivatives and also to exploit the symmetry of the system"
   ]
  },
  {
   "cell_type": "code",
   "execution_count": 15,
   "metadata": {},
   "outputs": [],
   "source": [
    "%load_ext autoreload\n",
    "%autoreload 2\n",
    "from AP_class import APDFT_perturbator as AP\n",
    "import basis_set_exchange as bse"
   ]
  },
  {
   "cell_type": "markdown",
   "metadata": {},
   "source": [
    "The alchemical perturbator is instantiated from a converged RHF object, and for some given perturbation sites."
   ]
  },
  {
   "cell_type": "code",
   "execution_count": 39,
   "metadata": {},
   "outputs": [
    {
     "name": "stdout",
     "output_type": "stream",
     "text": [
      "converged SCF energy = -109.373166074926\n"
     ]
    }
   ],
   "source": [
    "mol_NN=gto.M(atom= \"N 0 0 0; N 0 0 2.1\",unit=\"Bohr\", basis=bse.get_basis(\"pcX-1\",fmt=\"nwchem\",elements=[5,6,7,8,9])) \n",
    "mf_nn=scf.RKS(mol_NN)\n",
    "mf_nn.xc=\"PBE0\"\n",
    "mf_nn.scf()\n",
    "ap_nn=AP(mf_nn,sites=[0,1])"
   ]
  },
  {
   "cell_type": "code",
   "execution_count": 40,
   "metadata": {},
   "outputs": [
    {
     "data": {
      "text/plain": [
       "pyscf.dft.rks.RKS"
      ]
     },
     "execution_count": 40,
     "metadata": {},
     "output_type": "execute_result"
    }
   ],
   "source": [
    "meth=mf_nn.__class__\n",
    "meth"
   ]
  },
  {
   "cell_type": "code",
   "execution_count": 41,
   "metadata": {},
   "outputs": [
    {
     "data": {
      "text/plain": [
       "(RKS object of <class 'pyscf.dft.rks.RKS'>, 'LDA,VWN')"
      ]
     },
     "execution_count": 41,
     "metadata": {},
     "output_type": "execute_result"
    }
   ],
   "source": [
    "meth(mol_NN),meth(mol_NN).xc"
   ]
  },
  {
   "cell_type": "code",
   "execution_count": 42,
   "metadata": {},
   "outputs": [
    {
     "name": "stdout",
     "output_type": "stream",
     "text": [
      "converged SCF energy = -108.618891530152\n"
     ]
    },
    {
     "data": {
      "text/plain": [
       "-108.61889153015163"
      ]
     },
     "execution_count": 42,
     "metadata": {},
     "output_type": "execute_result"
    }
   ],
   "source": [
    "meth(mol_NN).scf()"
   ]
  },
  {
   "cell_type": "markdown",
   "metadata": {},
   "source": [
    "Alchemical gradient $ \\partial E/\\partial Z_i $, hessian $\\partial^2E/\\partial Z_i\\partial Z_j$ and cubic hessian $\\partial^3E/\\partial Z_i\\partial Z_j\\partial Z_k$can be obtained from their buid functions \n"
   ]
  },
  {
   "cell_type": "code",
   "execution_count": 43,
   "metadata": {},
   "outputs": [
    {
     "data": {
      "text/plain": [
       "array([-18.31728467, -18.31728467])"
      ]
     },
     "execution_count": 43,
     "metadata": {},
     "output_type": "execute_result"
    }
   ],
   "source": [
    "#build the alchemical gradient dE/dZ_i\n",
    "ap_nn.build_gradient()"
   ]
  },
  {
   "cell_type": "code",
   "execution_count": 44,
   "metadata": {},
   "outputs": [
    {
     "data": {
      "text/plain": [
       "array([[-3.24373076,  0.5008886 ],\n",
       "       [ 0.5008886 , -3.24373076]])"
      ]
     },
     "execution_count": 44,
     "metadata": {},
     "output_type": "execute_result"
    }
   ],
   "source": [
    "#build the alchemical hessian d**2E/dZ_i/dZ_j\n",
    "ap_nn.build_hessian()"
   ]
  },
  {
   "cell_type": "code",
   "execution_count": 45,
   "metadata": {},
   "outputs": [
    {
     "data": {
      "text/plain": [
       "array([[[-0.31206578,  0.08196272],\n",
       "        [ 0.08196272,  0.08196272]],\n",
       "\n",
       "       [[ 0.08196272,  0.08196272],\n",
       "        [ 0.08196272, -0.31206578]]])"
      ]
     },
     "execution_count": 45,
     "metadata": {},
     "output_type": "execute_result"
    }
   ],
   "source": [
    "ap_nn.build_cubic_hessian()"
   ]
  },
  {
   "cell_type": "markdown",
   "metadata": {},
   "source": [
    "Are saved inside the class and can be accessed in a later moment"
   ]
  },
  {
   "cell_type": "code",
   "execution_count": 46,
   "metadata": {},
   "outputs": [
    {
     "data": {
      "text/plain": [
       "(array([-18.31728467, -18.31728467]),\n",
       " array([[-3.24373076,  0.5008886 ],\n",
       "        [ 0.5008886 , -3.24373076]]),\n",
       " array([[[-0.31206578,  0.08196272],\n",
       "         [ 0.08196272,  0.08196272]],\n",
       " \n",
       "        [[ 0.08196272,  0.08196272],\n",
       "         [ 0.08196272, -0.31206578]]]))"
      ]
     },
     "execution_count": 46,
     "metadata": {},
     "output_type": "execute_result"
    }
   ],
   "source": [
    "ap_nn.gradient,ap_nn.hessian,ap_nn.cubic_hessian"
   ]
  },
  {
   "cell_type": "markdown",
   "metadata": {},
   "source": [
    "Alchemical perturbations for isolelectronic transmutations can be calculated from the derivatives up to order 3"
   ]
  },
  {
   "cell_type": "code",
   "execution_count": 47,
   "metadata": {},
   "outputs": [
    {
     "data": {
      "text/plain": [
       "-91.05588140867006"
      ]
     },
     "execution_count": 47,
     "metadata": {},
     "output_type": "execute_result"
    }
   ],
   "source": [
    "ap_nn.APDFT1(np.asarray([-1,0])) # to CN-"
   ]
  },
  {
   "cell_type": "code",
   "execution_count": 48,
   "metadata": {},
   "outputs": [
    {
     "data": {
      "text/plain": [
       "-113.1177854298188"
      ]
     },
     "execution_count": 48,
     "metadata": {},
     "output_type": "execute_result"
    }
   ],
   "source": [
    "ap_nn.APDFT2(np.asarray([-1,1])) # to CO"
   ]
  },
  {
   "cell_type": "code",
   "execution_count": 49,
   "metadata": {},
   "outputs": [
    {
     "data": {
      "text/plain": [
       "-129.36432708284795"
      ]
     },
     "execution_count": 49,
     "metadata": {},
     "output_type": "execute_result"
    }
   ],
   "source": [
    "ap_nn.APDFT3(np.asarray([0,1]))  # to NO+"
   ]
  },
  {
   "cell_type": "code",
   "execution_count": 50,
   "metadata": {},
   "outputs": [
    {
     "data": {
      "text/plain": [
       "-148.7726367735566"
      ]
     },
     "execution_count": 50,
     "metadata": {},
     "output_type": "execute_result"
    }
   ],
   "source": [
    "ap_nn.APDFT3(np.asarray([1,1])) # to OO++"
   ]
  },
  {
   "cell_type": "markdown",
   "metadata": {},
   "source": [
    "## Alchemical forces\n",
    "Alchemical forces are calculated resusing the density matrix derivatives already evaluated. The function af(i) gives the alchemical force of the atom $i$ : $\\partial \\mathbf{g}/ \\partial Z_i$ [2]\n"
   ]
  },
  {
   "cell_type": "code",
   "execution_count": 51,
   "metadata": {},
   "outputs": [
    {
     "data": {
      "text/plain": [
       "(array([[-2.59721959e-14, -2.04527881e-14, -1.73038675e-01],\n",
       "        [ 2.56449983e-14,  2.26299291e-14,  1.63100615e-01]]),\n",
       " array([[-6.06753439e-14, -1.76593602e-14, -1.63100615e-01],\n",
       "        [ 6.04019694e-14,  1.86166486e-14,  1.73038675e-01]]))"
      ]
     },
     "execution_count": 51,
     "metadata": {},
     "output_type": "execute_result"
    }
   ],
   "source": [
    "ap_nn.af(0),ap_nn.af(1)"
   ]
  },
  {
   "cell_type": "markdown",
   "metadata": {},
   "source": [
    "## Basis set effects \n",
    "The class also include methods to calculate the energy of the target molecules, with its basis set and with the basis set of the reference,"
   ]
  },
  {
   "cell_type": "code",
   "execution_count": 52,
   "metadata": {},
   "outputs": [
    {
     "name": "stdout",
     "output_type": "stream",
     "text": [
      "converged SCF energy = -113.161455102963\n",
      "converged SCF energy = -113.113585054277\n"
     ]
    },
    {
     "data": {
      "text/plain": [
       "(-113.16145510296272, -113.11358505427737)"
      ]
     },
     "execution_count": 52,
     "metadata": {},
     "output_type": "execute_result"
    }
   ],
   "source": [
    "ap_nn.target_energy([-1,1]),ap_nn.target_energy_ref_bs([-1,1])"
   ]
  },
  {
   "cell_type": "markdown",
   "metadata": {},
   "source": [
    "The APDFT3 predictions approximate the energy of the molecule with the reference basis set "
   ]
  },
  {
   "cell_type": "code",
   "execution_count": 53,
   "metadata": {},
   "outputs": [
    {
     "data": {
      "text/plain": [
       "-113.11778542981817"
      ]
     },
     "execution_count": 53,
     "metadata": {},
     "output_type": "execute_result"
    }
   ],
   "source": [
    "ap_nn.APDFT3([-1,1])"
   ]
  },
  {
   "cell_type": "markdown",
   "metadata": {},
   "source": [
    "But we can correct it using the single atom basis set correction [1]"
   ]
  },
  {
   "cell_type": "code",
   "execution_count": 54,
   "metadata": {},
   "outputs": [
    {
     "data": {
      "text/plain": [
       "-113.1669888120743"
      ]
     },
     "execution_count": 54,
     "metadata": {},
     "output_type": "execute_result"
    }
   ],
   "source": [
    "ap_nn.APDFT3([-1,1])+ap_nn.ap_bsec([-1,1])"
   ]
  },
  {
   "cell_type": "markdown",
   "metadata": {},
   "source": [
    "## References \n",
    "\n",
    "[1] Giorgio Domenichini, Guido Falk von Rudorff, and O. Anatole von Lilienfeld : \"Effects of perturbation order and basis set on alchemical predictions\", J. Chem. Phys. 153, 144118 (2020)\n",
    "\n",
    "[2] Giorgio Domenichini, and O. Anatole von Lilienfeld: \"Alchemical geometry optimization\", J.Chem.Phys. 156, 184801 (2022) "
   ]
  },
  {
   "cell_type": "code",
   "execution_count": null,
   "metadata": {},
   "outputs": [],
   "source": []
  },
  {
   "cell_type": "code",
   "execution_count": null,
   "metadata": {},
   "outputs": [],
   "source": []
  }
 ],
 "metadata": {
  "kernelspec": {
   "display_name": "Python 3 (ipykernel)",
   "language": "python",
   "name": "python3"
  },
  "language_info": {
   "codemirror_mode": {
    "name": "ipython",
    "version": 3
   },
   "file_extension": ".py",
   "mimetype": "text/x-python",
   "name": "python",
   "nbconvert_exporter": "python",
   "pygments_lexer": "ipython3",
   "version": "3.8.13"
  }
 },
 "nbformat": 4,
 "nbformat_minor": 4
}
