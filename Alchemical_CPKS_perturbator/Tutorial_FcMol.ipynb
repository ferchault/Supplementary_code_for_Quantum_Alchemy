{
 "cells": [
  {
   "cell_type": "markdown",
   "metadata": {},
   "source": [
    "This is the tutorial for the evaluation of CPHF alchemical derivatives using PySCF (version 2.2)  "
   ]
  },
  {
   "cell_type": "code",
   "execution_count": 2,
   "metadata": {},
   "outputs": [
    {
     "data": {
      "text/plain": [
       "'2.2.0'"
      ]
     },
     "execution_count": 2,
     "metadata": {},
     "output_type": "execute_result"
    }
   ],
   "source": [
    "from pyscf import gto,scf\n",
    "import numpy as np\n",
    "import pyscf\n",
    "pyscf.__version__"
   ]
  },
  {
   "cell_type": "markdown",
   "metadata": {},
   "source": [
    "## Fractional charge molecules"
   ]
  },
  {
   "cell_type": "code",
   "execution_count": 3,
   "metadata": {},
   "outputs": [],
   "source": [
    "from FcMole import FcM, FcM_like"
   ]
  },
  {
   "cell_type": "code",
   "execution_count": 4,
   "metadata": {},
   "outputs": [],
   "source": [
    "mol_NN=gto.M(atom= \"N 0 0 0; N 0 0 2.1\",unit=\"Bohr\", basis=\"sto-3g\") "
   ]
  },
  {
   "cell_type": "markdown",
   "metadata": {},
   "source": [
    "The FcM_like function creates a copy of a givem PySCF molecule object with modified nuclear cherges "
   ]
  },
  {
   "cell_type": "code",
   "execution_count": 5,
   "metadata": {},
   "outputs": [],
   "source": [
    "fmol=FcM_like(mol_NN,fcs=[.1,-.1])"
   ]
  },
  {
   "cell_type": "markdown",
   "metadata": {},
   "source": [
    "Only nuclear charges are modified, the number of electrons stays the same"
   ]
  },
  {
   "cell_type": "code",
   "execution_count": 6,
   "metadata": {},
   "outputs": [
    {
     "data": {
      "text/plain": [
       "(array([7.1, 6.9]), (7, 7))"
      ]
     },
     "execution_count": 6,
     "metadata": {},
     "output_type": "execute_result"
    }
   ],
   "source": [
    "fmol.atom_charges(),fmol.nelec"
   ]
  },
  {
   "cell_type": "markdown",
   "metadata": {},
   "source": [
    "The same result can be achieved using the FcM constructor"
   ]
  },
  {
   "cell_type": "code",
   "execution_count": 7,
   "metadata": {},
   "outputs": [],
   "source": [
    "fmol1=FcM(fcs=[.2,-.2],atom= \"N 0 0 0; N 0 0 2.1\",unit=\"Bohr\", basis=\"sto-3g\")"
   ]
  },
  {
   "cell_type": "markdown",
   "metadata": {},
   "source": [
    "The number of electron matches the atom string"
   ]
  },
  {
   "cell_type": "code",
   "execution_count": 8,
   "metadata": {},
   "outputs": [
    {
     "data": {
      "text/plain": [
       "(array([7.2, 6.8]), (7, 7))"
      ]
     },
     "execution_count": 8,
     "metadata": {},
     "output_type": "execute_result"
    }
   ],
   "source": [
    "fmol1.atom_charges(),fmol1.nelec"
   ]
  },
  {
   "cell_type": "markdown",
   "metadata": {},
   "source": [
    "If only some atoms have modified nuclear charges is possible to pass as a fcs parameter a double list [[idxs],[fcs]]"
   ]
  },
  {
   "cell_type": "code",
   "execution_count": 9,
   "metadata": {},
   "outputs": [],
   "source": [
    "fmol2=FcM(fcs=[[0,1],[.3,-.3]],atom= \"N 0 0 0; N 0 0 2.1\",unit=\"Bohr\", basis=\"sto-3g\")"
   ]
  },
  {
   "cell_type": "code",
   "execution_count": 10,
   "metadata": {},
   "outputs": [
    {
     "data": {
      "text/plain": [
       "(array([7.3, 6.7]), (7, 7))"
      ]
     },
     "execution_count": 10,
     "metadata": {},
     "output_type": "execute_result"
    }
   ],
   "source": [
    "fmol2.atom_charges(),fmol2.nelec"
   ]
  },
  {
   "cell_type": "markdown",
   "metadata": {},
   "source": [
    "For scf calculations using fractional charges molecules the initial density matrix guess needs to be evaluated from the eigenfunction of the monoelectronic Hamiltonian (there is no single atom density \"SAD\" matrix guess for atoms with fractional charge)"
   ]
  },
  {
   "cell_type": "code",
   "execution_count": 11,
   "metadata": {},
   "outputs": [],
   "source": [
    "mf0=scf.RHF(mol_NN)\n",
    "mf=scf.RHF(fmol)\n",
    "mf1=scf.RHF(fmol1)\n",
    "mf2=scf.RHF(fmol2)"
   ]
  },
  {
   "cell_type": "code",
   "execution_count": 12,
   "metadata": {},
   "outputs": [
    {
     "name": "stdout",
     "output_type": "stream",
     "text": [
      "converged SCF energy = -107.49885049543\n",
      "converged SCF energy = -107.513993473609\n",
      "converged SCF energy = -107.559400858527\n",
      "converged SCF energy = -107.635008088406\n"
     ]
    },
    {
     "name": "stderr",
     "output_type": "stream",
     "text": [
      "/home/giorgio/anaconda3/lib/python3.8/site-packages/pyscf/gto/mole.py:1209: UserWarning: Function mol.dumps drops attribute with_rinv_at_nucleus because it is not JSON-serializable\n",
      "  warnings.warn(msg)\n"
     ]
    },
    {
     "data": {
      "text/plain": [
       "-107.63500808840597"
      ]
     },
     "execution_count": 12,
     "metadata": {},
     "output_type": "execute_result"
    }
   ],
   "source": [
    "mf0.scf()\n",
    "mf.scf(dm0=mf0.make_rdm1())\n",
    "mf1.scf(dm0=mf.make_rdm1())\n",
    "mf2.scf(dm0=mf1.make_rdm1())"
   ]
  },
  {
   "cell_type": "markdown",
   "metadata": {},
   "source": [
    "For sto basis sets sometimes the scf fails to converge with a H1 initial DM"
   ]
  },
  {
   "cell_type": "code",
   "execution_count": 16,
   "metadata": {},
   "outputs": [
    {
     "name": "stdout",
     "output_type": "stream",
     "text": [
      "converged SCF energy = -107.49885049543\n",
      "converged SCF energy = -106.801217627226\n",
      "converged SCF energy = -106.846028831322\n",
      "converged SCF energy = -106.921050773896\n"
     ]
    },
    {
     "data": {
      "text/plain": [
       "-106.92105077389586"
      ]
     },
     "execution_count": 16,
     "metadata": {},
     "output_type": "execute_result"
    }
   ],
   "source": [
    "mf0.scf()\n",
    "mf.scf(dm0=mf.init_guess_by_1e())\n",
    "mf1.scf(dm0=mf1.init_guess_by_1e())\n",
    "mf2.scf(dm0=mf2.init_guess_by_1e())"
   ]
  },
  {
   "cell_type": "markdown",
   "metadata": {},
   "source": [
    "But with 6-31g basis sets the scf converges more reliably"
   ]
  },
  {
   "cell_type": "code",
   "execution_count": 17,
   "metadata": {},
   "outputs": [],
   "source": [
    "mol_NN631=gto.M(atom= \"N 0 0 0; N 0 0 2.1\",unit=\"Bohr\", basis=\"6-31g\") \n",
    "fmol=FcM_like(mol_NN631,fcs=[.1,-.1])\n",
    "fmol1=FcM_like(mol_NN631,fcs=[.2,-.2])\n",
    "fmol2=FcM_like(mol_NN631,fcs=[.3,-.3])\n",
    "mf0=scf.RHF(mol_NN631)\n",
    "mf=scf.RHF(fmol)\n",
    "mf1=scf.RHF(fmol1)\n",
    "mf2=scf.RHF(fmol2)\n"
   ]
  },
  {
   "cell_type": "code",
   "execution_count": 18,
   "metadata": {},
   "outputs": [
    {
     "name": "stdout",
     "output_type": "stream",
     "text": [
      "converged SCF energy = -108.866441669076\n",
      "converged SCF energy = -108.885543919002\n",
      "converged SCF energy = -108.942880098699\n",
      "converged SCF energy = -109.038539520767\n"
     ]
    },
    {
     "data": {
      "text/plain": [
       "-109.03853952076655"
      ]
     },
     "execution_count": 18,
     "metadata": {},
     "output_type": "execute_result"
    }
   ],
   "source": [
    "mf0.scf()\n",
    "mf.scf(dm0=mf.init_guess_by_1e())\n",
    "mf1.scf(dm0=mf1.init_guess_by_1e())\n",
    "mf2.scf(dm0=mf2.init_guess_by_1e())"
   ]
  },
  {
   "cell_type": "code",
   "execution_count": 19,
   "metadata": {},
   "outputs": [
    {
     "name": "stdout",
     "output_type": "stream",
     "text": [
      "converged SCF energy = -108.866441669076\n",
      "converged SCF energy = -108.885543919001\n",
      "converged SCF energy = -108.942880098699\n",
      "converged SCF energy = -109.038539520765\n"
     ]
    },
    {
     "data": {
      "text/plain": [
       "-109.03853952076524"
      ]
     },
     "execution_count": 19,
     "metadata": {},
     "output_type": "execute_result"
    }
   ],
   "source": [
    "mf0.scf()\n",
    "mf.scf(dm0=mf0.make_rdm1())\n",
    "mf1.scf(dm0=mf.make_rdm1())\n",
    "mf2.scf(dm0=mf1.make_rdm1())"
   ]
  }
 ],
 "metadata": {
  "kernelspec": {
   "display_name": "Python 3 (ipykernel)",
   "language": "python",
   "name": "python3"
  },
  "language_info": {
   "codemirror_mode": {
    "name": "ipython",
    "version": 3
   },
   "file_extension": ".py",
   "mimetype": "text/x-python",
   "name": "python",
   "nbconvert_exporter": "python",
   "pygments_lexer": "ipython3",
   "version": "3.8.13"
  }
 },
 "nbformat": 4,
 "nbformat_minor": 4
}
