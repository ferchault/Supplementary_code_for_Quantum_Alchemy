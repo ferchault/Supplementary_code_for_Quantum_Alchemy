{
 "cells": [
  {
   "cell_type": "code",
   "execution_count": 1,
   "id": "b3df2367",
   "metadata": {},
   "outputs": [],
   "source": [
    "from pyscf import gto,scf\n",
    "import numpy as np\n",
    "import matplotlib.pyplot as plt\n",
    "from FcMole import *"
   ]
  },
  {
   "cell_type": "code",
   "execution_count": 2,
   "id": "4585547d",
   "metadata": {},
   "outputs": [],
   "source": [
    "CO=gto.M(atom=\"C 0 0 0; O 0 0 2 \",unit=\"Bohr\", basis=\"sto-3g\")"
   ]
  },
  {
   "cell_type": "code",
   "execution_count": 3,
   "id": "f8e47ad0",
   "metadata": {},
   "outputs": [
    {
     "name": "stdout",
     "output_type": "stream",
     "text": [
      "converged SCF energy = -111.621701280108\n",
      "CPU times: user 6.22 s, sys: 235 ms, total: 6.46 s\n",
      "Wall time: 193 ms\n"
     ]
    },
    {
     "data": {
      "text/plain": [
       "-111.62170128010848"
      ]
     },
     "execution_count": 3,
     "metadata": {},
     "output_type": "execute_result"
    }
   ],
   "source": [
    "%%time\n",
    "mf=scf.RKS(CO)\n",
    "mf.xc=\"PBE0\"\n",
    "mf.scf()"
   ]
  },
  {
   "cell_type": "code",
   "execution_count": 4,
   "id": "4388e293",
   "metadata": {},
   "outputs": [
    {
     "data": {
      "text/plain": [
       "-111.62170128010848"
      ]
     },
     "execution_count": 4,
     "metadata": {},
     "output_type": "execute_result"
    }
   ],
   "source": [
    "mf.e_tot"
   ]
  },
  {
   "cell_type": "code",
   "execution_count": 5,
   "id": "9fc8bb77",
   "metadata": {},
   "outputs": [
    {
     "data": {
      "text/plain": [
       "{'e1': -199.4162294162503,\n",
       " 'coul': 77.70084988123735,\n",
       " 'exc': -13.906321745095527,\n",
       " 'nuc': 24.0}"
      ]
     },
     "execution_count": 5,
     "metadata": {},
     "output_type": "execute_result"
    }
   ],
   "source": [
    "summary=dict(mf.scf_summary)\n",
    "summary"
   ]
  },
  {
   "cell_type": "code",
   "execution_count": 6,
   "id": "e9b9122f",
   "metadata": {},
   "outputs": [
    {
     "data": {
      "text/plain": [
       "(-111.62170128010848, -111.62170128010848)"
      ]
     },
     "execution_count": 6,
     "metadata": {},
     "output_type": "execute_result"
    }
   ],
   "source": [
    "sum(summary.values()) ,mf.e_tot"
   ]
  },
  {
   "cell_type": "code",
   "execution_count": 7,
   "id": "9c65ff9b",
   "metadata": {},
   "outputs": [
    {
     "data": {
      "text/plain": [
       "(0.0, 0.25, 0.25)"
      ]
     },
     "execution_count": 7,
     "metadata": {},
     "output_type": "execute_result"
    }
   ],
   "source": [
    "ni=mf._numint\n",
    "omega, alpha, hyb = ni.rsh_and_hybrid_coeff(mf.xc, spin=mf.mol.spin)\n",
    "omega, alpha, hyb"
   ]
  },
  {
   "cell_type": "code",
   "execution_count": 8,
   "id": "d6e10453",
   "metadata": {},
   "outputs": [],
   "source": [
    "#P=CC^T\n",
    "C=mf.mo_coeff\n",
    "Pc=2*C[:,:7].dot(C.T[:7,:])\n",
    "P0=mf.make_rdm1()"
   ]
  },
  {
   "cell_type": "code",
   "execution_count": 9,
   "id": "602ffca8",
   "metadata": {},
   "outputs": [],
   "source": [
    "J,K=mf.get_jk()\n",
    "h1=mf.get_hcore()\n",
    "F=mf.get_fock()"
   ]
  },
  {
   "cell_type": "code",
   "execution_count": 10,
   "id": "ca41b33d",
   "metadata": {},
   "outputs": [
    {
     "data": {
      "text/plain": [
       "(-199.4162294162503, -199.41622941625033)"
      ]
     },
     "execution_count": 10,
     "metadata": {},
     "output_type": "execute_result"
    }
   ],
   "source": [
    "summary[\"e1\"],np.einsum(\"ij,ij\",h1,P0)"
   ]
  },
  {
   "cell_type": "code",
   "execution_count": 11,
   "id": "ae20bfc1",
   "metadata": {},
   "outputs": [
    {
     "data": {
      "text/plain": [
       "(77.70084988123735, 77.70084988123736)"
      ]
     },
     "execution_count": 11,
     "metadata": {},
     "output_type": "execute_result"
    }
   ],
   "source": [
    "summary[\"coul\"],np.einsum(\"ij,ij\",J,P0)/2 # it is the HF Coulomb operator "
   ]
  },
  {
   "cell_type": "code",
   "execution_count": 12,
   "id": "7bdcfdb2",
   "metadata": {},
   "outputs": [
    {
     "data": {
      "text/plain": [
       "(-13.906321745095527, -13.481304665613102)"
      ]
     },
     "execution_count": 12,
     "metadata": {},
     "output_type": "execute_result"
    }
   ],
   "source": [
    "summary[\"exc\"],-np.einsum(\"ij,ij\",K,P0)/4    # DFT XC energy / HF exchange"
   ]
  },
  {
   "cell_type": "code",
   "execution_count": 13,
   "id": "168cf70a",
   "metadata": {},
   "outputs": [
    {
     "data": {
      "text/plain": [
       "(-13.481304665613102, True)"
      ]
     },
     "execution_count": 13,
     "metadata": {},
     "output_type": "execute_result"
    }
   ],
   "source": [
    "V_eff=mf.get_veff()\n",
    "-np.einsum(\"ij,ij\",V_eff.vk,P0),np.allclose(V_eff.vk,K/4)"
   ]
  },
  {
   "cell_type": "code",
   "execution_count": 14,
   "id": "d7373e0f",
   "metadata": {},
   "outputs": [
    {
     "data": {
      "text/plain": [
       "(-13.906321745095527, -13.906321745095527)"
      ]
     },
     "execution_count": 14,
     "metadata": {},
     "output_type": "execute_result"
    }
   ],
   "source": [
    "summary[\"exc\"],V_eff.exc"
   ]
  },
  {
   "cell_type": "code",
   "execution_count": 15,
   "id": "827721b7",
   "metadata": {},
   "outputs": [],
   "source": [
    "ni=mf._numint"
   ]
  },
  {
   "cell_type": "code",
   "execution_count": 16,
   "id": "f45eb146",
   "metadata": {},
   "outputs": [
    {
     "data": {
      "text/plain": [
       "(14.00000014868435, -10.535995578692251)"
      ]
     },
     "execution_count": 16,
     "metadata": {},
     "output_type": "execute_result"
    }
   ],
   "source": [
    "ks=mf\n",
    "mol=CO\n",
    "dm=P0\n",
    "n, exc, vxc = ni.nr_rks(mol, ks.grids, ks.xc, dm)\n",
    "n, exc#, vxc "
   ]
  },
  {
   "cell_type": "code",
   "execution_count": 17,
   "id": "cd8e9b61",
   "metadata": {},
   "outputs": [
    {
     "name": "stdout",
     "output_type": "stream",
     "text": [
      "converged SCF energy = -111.199724042754\n"
     ]
    },
    {
     "data": {
      "text/plain": [
       "13.999999999999995"
      ]
     },
     "execution_count": 17,
     "metadata": {},
     "output_type": "execute_result"
    }
   ],
   "source": [
    "np.einsum(\"ij,ji\",P0,mol.get_ovlp())"
   ]
  },
  {
   "cell_type": "code",
   "execution_count": 18,
   "id": "1c4cf5c8",
   "metadata": {},
   "outputs": [
    {
     "data": {
      "text/plain": [
       "-13.547910378628355"
      ]
     },
     "execution_count": 18,
     "metadata": {},
     "output_type": "execute_result"
    }
   ],
   "source": [
    "np.einsum('ij,ji', dm, vxc).real #  the potential does not retrieve the energy after DM contraction"
   ]
  },
  {
   "cell_type": "code",
   "execution_count": 19,
   "id": "1f7081b6",
   "metadata": {},
   "outputs": [
    {
     "data": {
      "text/plain": [
       "(-10.535995578692251, -13.906321745095527, -13.906321745095527)"
      ]
     },
     "execution_count": 19,
     "metadata": {},
     "output_type": "execute_result"
    }
   ],
   "source": [
    "exc,exc- np.einsum('ij,ji', dm, V_eff.vk).real * .5 * .5,summary[\"exc\"],"
   ]
  },
  {
   "cell_type": "code",
   "execution_count": 20,
   "id": "7cc02719",
   "metadata": {},
   "outputs": [
    {
     "data": {
      "text/plain": [
       "(0.0, 0.25, 0.25)"
      ]
     },
     "execution_count": 20,
     "metadata": {},
     "output_type": "execute_result"
    }
   ],
   "source": [
    "omega, alpha, hyb = ni.rsh_and_hybrid_coeff(ks.xc, spin=mol.spin)\n",
    "omega, alpha,hyb"
   ]
  },
  {
   "cell_type": "code",
   "execution_count": 21,
   "id": "325cac74",
   "metadata": {},
   "outputs": [
    {
     "data": {
      "text/plain": [
       "(True, True, 'GGA')"
      ]
     },
     "execution_count": 21,
     "metadata": {},
     "output_type": "execute_result"
    }
   ],
   "source": [
    "xctype=ni._xc_type(mf.xc) # GGA\n",
    "ks.direct_scf,ni.libxc.is_hybrid_xc(ks.xc),ni._xc_type(mf.xc)"
   ]
  },
  {
   "cell_type": "code",
   "execution_count": 22,
   "id": "02ad1227",
   "metadata": {},
   "outputs": [
    {
     "data": {
      "text/plain": [
       "{'mol': <pyscf.gto.mole.Mole at 0x7f6ac50ee850>,\n",
       " 'stdout': <ipykernel.iostream.OutStream at 0x7f6afecb1610>,\n",
       " 'verbose': 3,\n",
       " 'symmetry': False,\n",
       " 'coords': array([[-4.46851140e+00, -4.46851140e+00, -2.37126186e+00],\n",
       "        [-4.78551877e+00, -4.78551877e+00, -2.53948510e+00],\n",
       "        [-4.48132694e+00, -4.48132694e+00, -2.48132694e+00],\n",
       "        ...,\n",
       "        [ 1.00000000e+04,  1.00000000e+04,  1.00000000e+04],\n",
       "        [ 1.00000000e+04,  1.00000000e+04,  1.00000000e+04],\n",
       "        [ 1.00000000e+04,  1.00000000e+04,  1.00000000e+04]]),\n",
       " 'weights': array([1.09499036, 1.38921666, 0.01994748, ..., 0.        , 0.        ,\n",
       "        0.        ]),\n",
       " 'non0tab': array([[ 0, 78, 86,  0, 64, 72],\n",
       "        [ 0, 83, 90,  0, 72, 80],\n",
       "        [ 0, 87, 93,  0, 78, 85],\n",
       "        ...,\n",
       "        [ 0, 83, 90,  0, 72, 80],\n",
       "        [ 0, 78, 86,  0, 66, 74],\n",
       "        [ 0, 70, 78,  0, 57, 65]], dtype=uint8),\n",
       " 'screen_index': array([[ 0, 78, 86,  0, 64, 72],\n",
       "        [ 0, 83, 90,  0, 72, 80],\n",
       "        [ 0, 87, 93,  0, 78, 85],\n",
       "        ...,\n",
       "        [ 0, 83, 90,  0, 72, 80],\n",
       "        [ 0, 78, 86,  0, 66, 74],\n",
       "        [ 0, 70, 78,  0, 57, 65]], dtype=uint8),\n",
       " 'atom_grid': {},\n",
       " '_keys': None,\n",
       " 'level': 3}"
      ]
     },
     "execution_count": 22,
     "metadata": {},
     "output_type": "execute_result"
    }
   ],
   "source": [
    "grid=mf.grids\n",
    "vars(mf.grids)"
   ]
  },
  {
   "cell_type": "code",
   "execution_count": 23,
   "id": "0aa290ae",
   "metadata": {},
   "outputs": [],
   "source": [
    "from pyscf.dft.numint import eval_rho,eval_ao"
   ]
  },
  {
   "cell_type": "code",
   "execution_count": 24,
   "id": "1de0a002",
   "metadata": {},
   "outputs": [
    {
     "data": {
      "text/plain": [
       "<function pyscf.dft.numint.eval_ao(mol, coords, deriv=0, shls_slice=None, non0tab=None, cutoff=None, out=None, verbose=None)>"
      ]
     },
     "execution_count": 24,
     "metadata": {},
     "output_type": "execute_result"
    }
   ],
   "source": [
    "ni.block_loop(0,ks.grids)\n",
    "ni.eval_ao"
   ]
  },
  {
   "cell_type": "code",
   "execution_count": 25,
   "id": "0226655b",
   "metadata": {},
   "outputs": [
    {
     "data": {
      "text/plain": [
       "array([[ 6.14288519e+00,  2.15554817e-01,  0.00000000e+00,\n",
       "         0.00000000e+00,  0.00000000e+00,  8.20476263e-12,\n",
       "         5.57535838e-02,  0.00000000e+00,  0.00000000e+00,\n",
       "        -9.24775489e-02],\n",
       "       [ 0.00000000e+00,  1.76395084e-30,  9.31205491e-30,\n",
       "         9.31205491e-30,  9.31205491e-30,  0.00000000e+00,\n",
       "         5.89152862e-45,  4.06856395e-44,  4.06856395e-44,\n",
       "         3.25485116e-44]])"
      ]
     },
     "execution_count": 25,
     "metadata": {},
     "output_type": "execute_result"
    }
   ],
   "source": [
    "ni.eval_ao(CO,np.array([[0,0,0],[10,10,10]])) # eval every ao in the points"
   ]
  },
  {
   "cell_type": "code",
   "execution_count": 26,
   "id": "78483dda",
   "metadata": {},
   "outputs": [
    {
     "data": {
      "text/plain": [
       "(4, 2, 10)"
      ]
     },
     "execution_count": 26,
     "metadata": {},
     "output_type": "execute_result"
    }
   ],
   "source": [
    "ni.eval_ao(CO,np.array([[0,0,0],[10,10,10]]),deriv=1).shape # for gga also the gradient has to be computed, 4 dim"
   ]
  },
  {
   "cell_type": "code",
   "execution_count": 27,
   "id": "68e5ca13",
   "metadata": {},
   "outputs": [],
   "source": [
    "ao_ong=ni.eval_ao(CO,mf.grids.coords,deriv=1)"
   ]
  },
  {
   "cell_type": "code",
   "execution_count": 28,
   "id": "89f2e7b9",
   "metadata": {},
   "outputs": [
    {
     "data": {
      "text/plain": [
       "(<function pyscf.dft.numint.NumInt._gen_rho_evaluator.<locals>.make_rho(idm, ao, sindex, xctype)>,\n",
       " 1,\n",
       " 10)"
      ]
     },
     "execution_count": 28,
     "metadata": {},
     "output_type": "execute_result"
    }
   ],
   "source": [
    "ni._gen_rho_evaluator(CO,P0)"
   ]
  },
  {
   "cell_type": "code",
   "execution_count": 29,
   "id": "a87c45f0",
   "metadata": {},
   "outputs": [],
   "source": [
    "make_rho, nset, nao = ni._gen_rho_evaluator(mol, dm, True, False, ks.grids)"
   ]
  },
  {
   "cell_type": "code",
   "execution_count": 30,
   "id": "a8734b6e",
   "metadata": {},
   "outputs": [
    {
     "data": {
      "text/plain": [
       "<function pyscf.dft.numint.NumInt._gen_rho_evaluator.<locals>.make_rho(idm, ao, sindex, xctype)>"
      ]
     },
     "execution_count": 30,
     "metadata": {},
     "output_type": "execute_result"
    }
   ],
   "source": [
    "make_rho"
   ]
  },
  {
   "cell_type": "code",
   "execution_count": 31,
   "id": "7449a99a",
   "metadata": {},
   "outputs": [
    {
     "name": "stdout",
     "output_type": "stream",
     "text": [
      "CPU times: user 640 ms, sys: 0 ns, total: 640 ms\n",
      "Wall time: 14.6 ms\n"
     ]
    },
    {
     "data": {
      "text/plain": [
       "array([[3.97719526e-10, 2.23716826e-11, 2.89496971e-10, ...,\n",
       "        0.00000000e+00, 0.00000000e+00, 0.00000000e+00],\n",
       "       [1.53592263e-09, 9.27729828e-11, 1.12189014e-09, ...,\n",
       "        0.00000000e+00, 0.00000000e+00, 0.00000000e+00],\n",
       "       [1.53592263e-09, 9.27729828e-11, 1.12189014e-09, ...,\n",
       "        0.00000000e+00, 0.00000000e+00, 0.00000000e+00],\n",
       "       [7.69982024e-10, 4.68852934e-11, 5.88672486e-10, ...,\n",
       "        0.00000000e+00, 0.00000000e+00, 0.00000000e+00]])"
      ]
     },
     "execution_count": 31,
     "metadata": {},
     "output_type": "execute_result"
    }
   ],
   "source": [
    "%%time\n",
    "make_rho([0], ao_ong ,None, \"GGA\")"
   ]
  },
  {
   "cell_type": "code",
   "execution_count": 32,
   "id": "a74206a7",
   "metadata": {},
   "outputs": [
    {
     "name": "stdout",
     "output_type": "stream",
     "text": [
      "CPU times: user 1.01 s, sys: 0 ns, total: 1.01 s\n",
      "Wall time: 20.4 ms\n"
     ]
    },
    {
     "data": {
      "text/plain": [
       "array([[3.97719526e-10, 2.23716826e-11, 2.89496971e-10, ...,\n",
       "        0.00000000e+00, 0.00000000e+00, 0.00000000e+00],\n",
       "       [1.53592263e-09, 9.27729828e-11, 1.12189014e-09, ...,\n",
       "        0.00000000e+00, 0.00000000e+00, 0.00000000e+00],\n",
       "       [1.53592263e-09, 9.27729828e-11, 1.12189014e-09, ...,\n",
       "        0.00000000e+00, 0.00000000e+00, 0.00000000e+00],\n",
       "       [7.69982024e-10, 4.68852934e-11, 5.88672486e-10, ...,\n",
       "        0.00000000e+00, 0.00000000e+00, 0.00000000e+00]])"
      ]
     },
     "execution_count": 32,
     "metadata": {},
     "output_type": "execute_result"
    }
   ],
   "source": [
    "%%time\n",
    "eval_rho(mol, ao_ong , P0, xctype=\"GGA\")"
   ]
  },
  {
   "cell_type": "markdown",
   "id": "84faf5fd",
   "metadata": {},
   "source": [
    "# Get the energies"
   ]
  },
  {
   "cell_type": "code",
   "execution_count": 33,
   "id": "13b834bf",
   "metadata": {},
   "outputs": [],
   "source": [
    "rho_g=eval_rho(mol, ao_ong , P0, xctype=\"GGA\")"
   ]
  },
  {
   "cell_type": "code",
   "execution_count": 34,
   "id": "de635e8f",
   "metadata": {},
   "outputs": [
    {
     "data": {
      "text/plain": [
       "(array([-0.00073487, -0.00028157, -0.00066104, ...,  0.        ,\n",
       "         0.        ,  0.        ]),\n",
       " array([[-9.79819136e-04, -3.75423085e-04, -8.81390887e-04, ...,\n",
       "          0.00000000e+00,  0.00000000e+00,  0.00000000e+00],\n",
       "        [-1.70158145e-10, -7.70214460e-12, -1.19995647e-10, ...,\n",
       "          0.00000000e+00,  0.00000000e+00,  0.00000000e+00],\n",
       "        [-1.70158145e-10, -7.70214460e-12, -1.19995647e-10, ...,\n",
       "          0.00000000e+00,  0.00000000e+00,  0.00000000e+00],\n",
       "        [-8.53029376e-11, -3.89248355e-12, -6.29635055e-11, ...,\n",
       "          0.00000000e+00,  0.00000000e+00,  0.00000000e+00]]),\n",
       " None,\n",
       " None)"
      ]
     },
     "execution_count": 34,
     "metadata": {},
     "output_type": "execute_result"
    }
   ],
   "source": [
    "xc_code=\"PBE0\"\n",
    "ni.eval_xc_eff(xc_code, rho_g, deriv=1, xctype=xctype)"
   ]
  },
  {
   "cell_type": "code",
   "execution_count": 51,
   "id": "5ce2a126",
   "metadata": {},
   "outputs": [],
   "source": [
    "exc, vxc=ni.eval_xc_eff(xc_code, rho_g, deriv=1, xctype=xctype)[:2]\n",
    "vxc*=ks.grids.weights"
   ]
  },
  {
   "cell_type": "code",
   "execution_count": 36,
   "id": "039313a1",
   "metadata": {},
   "outputs": [],
   "source": [
    "den=rho_g[0]*ks.grids.weights"
   ]
  },
  {
   "cell_type": "code",
   "execution_count": 37,
   "id": "8d1cf2ca",
   "metadata": {},
   "outputs": [
    {
     "data": {
      "text/plain": [
       "14.00000014868435"
      ]
     },
     "execution_count": 37,
     "metadata": {},
     "output_type": "execute_result"
    }
   ],
   "source": [
    "den.sum()"
   ]
  },
  {
   "cell_type": "code",
   "execution_count": 42,
   "id": "d0085a55",
   "metadata": {},
   "outputs": [
    {
     "data": {
      "text/plain": [
       "(-10.535995578692251, -13.906321745095527, -13.906321745095527)"
      ]
     },
     "execution_count": 42,
     "metadata": {},
     "output_type": "execute_result"
    }
   ],
   "source": [
    "np.dot(den, exc),np.dot(den, exc)-np.einsum(\"ij,ij\",P0,K)/16  ,summary['exc']"
   ]
  },
  {
   "cell_type": "code",
   "execution_count": 39,
   "id": "f732c852",
   "metadata": {},
   "outputs": [
    {
     "data": {
      "text/plain": [
       "((23136,), (4, 23136))"
      ]
     },
     "execution_count": 39,
     "metadata": {},
     "output_type": "execute_result"
    }
   ],
   "source": [
    "exc.shape,vxc.shape"
   ]
  },
  {
   "cell_type": "code",
   "execution_count": 43,
   "id": "af46ee3d",
   "metadata": {},
   "outputs": [
    {
     "data": {
      "text/plain": [
       "14.00000014868435"
      ]
     },
     "execution_count": 43,
     "metadata": {},
     "output_type": "execute_result"
    }
   ],
   "source": [
    "n0, exc0, vxc0 = ni.nr_rks(mol, ks.grids, ks.xc, dm)\n",
    "n0"
   ]
  },
  {
   "cell_type": "code",
   "execution_count": 45,
   "id": "68dd16bc",
   "metadata": {},
   "outputs": [
    {
     "data": {
      "text/plain": [
       "(10, 10)"
      ]
     },
     "execution_count": 45,
     "metadata": {},
     "output_type": "execute_result"
    }
   ],
   "source": [
    "vxc0.shape"
   ]
  },
  {
   "cell_type": "code",
   "execution_count": 72,
   "id": "fcc9be11",
   "metadata": {},
   "outputs": [
    {
     "data": {
      "text/plain": [
       "array([[-1.71996375e+00, -2.41057629e-01, -1.95156391e-18,\n",
       "        -6.01732206e-18,  2.70071249e-04, -1.58760958e-05,\n",
       "        -5.83843075e-02,  2.56142763e-18,  3.04931861e-18,\n",
       "         9.65667079e-02],\n",
       "       [-2.41057629e-01, -4.50376033e-01,  5.26244629e-17,\n",
       "        -9.70360944e-17, -3.87927154e-02, -7.12940610e-02,\n",
       "        -2.46664657e-01, -3.75405002e-18, -1.74556550e-17,\n",
       "         1.99171887e-01],\n",
       "       [-1.95156391e-18,  5.26244629e-17, -4.19073117e-01,\n",
       "        -1.73472348e-18,  2.16840434e-19,  2.75073950e-18,\n",
       "        -2.53432258e-18, -1.31797807e-01,  3.98783112e-18,\n",
       "         1.25225351e-17],\n",
       "       [-6.01732206e-18, -9.70360944e-17, -1.73472348e-18,\n",
       "        -4.19073117e-01,  5.85469173e-17,  1.74488787e-18,\n",
       "        -6.39679282e-18,  3.66595860e-18, -1.31797807e-01,\n",
       "         2.21177243e-17],\n",
       "       [ 2.70071249e-04, -3.87927154e-02,  2.16840434e-19,\n",
       "         5.85469173e-17, -5.01561204e-01, -1.23010517e-01,\n",
       "        -3.01330458e-01, -2.25514052e-17, -1.64798730e-17,\n",
       "         1.84391856e-01],\n",
       "       [-1.58760958e-05, -7.12940610e-02,  2.75073950e-18,\n",
       "         1.74488787e-18, -1.23010517e-01, -2.31969942e+00,\n",
       "        -3.14861945e-01, -3.03576608e-18, -1.60461922e-17,\n",
       "        -8.61872183e-04],\n",
       "       [-5.83843075e-02, -2.46664657e-01, -2.53432258e-18,\n",
       "        -6.39679282e-18, -3.01330458e-01, -3.14861945e-01,\n",
       "        -6.14497750e-01,  4.87890978e-17, -7.09068221e-17,\n",
       "         1.50401717e-02],\n",
       "       [ 2.56142763e-18, -3.75405002e-18, -1.31797807e-01,\n",
       "         3.66595860e-18, -2.25514052e-17, -3.03576608e-18,\n",
       "         4.87890978e-17, -5.99316379e-01,  4.38017678e-17,\n",
       "         9.75781955e-18],\n",
       "       [ 3.04931861e-18, -1.74556550e-17,  3.98783112e-18,\n",
       "        -1.31797807e-01, -1.64798730e-17, -1.60461922e-17,\n",
       "        -7.09068221e-17,  4.38017678e-17, -5.99316379e-01,\n",
       "         1.47993597e-17],\n",
       "       [ 9.65667079e-02,  1.99171887e-01,  1.25225351e-17,\n",
       "         2.21177243e-17,  1.84391856e-01, -8.61872183e-04,\n",
       "         1.50401717e-02,  9.75781955e-18,  1.47993597e-17,\n",
       "        -6.30201466e-01]])"
      ]
     },
     "execution_count": 72,
     "metadata": {},
     "output_type": "execute_result"
    }
   ],
   "source": [
    "vxc0"
   ]
  },
  {
   "cell_type": "code",
   "execution_count": 77,
   "id": "ea76716c",
   "metadata": {},
   "outputs": [
    {
     "data": {
      "text/plain": [
       "array([[ 2.44249065e-15,  1.38777878e-16,  0.00000000e+00,\n",
       "        -1.61778115e-32, -2.66171633e-17,  1.42301535e-19,\n",
       "        -4.85722573e-17,  0.00000000e+00,  7.70371978e-34,\n",
       "        -1.11022302e-16],\n",
       "       [ 1.38777878e-16, -1.33226763e-15,  0.00000000e+00,\n",
       "         1.23259516e-31,  9.71445147e-17, -2.91433544e-16,\n",
       "         1.66533454e-16,  7.70371978e-34,  2.46519033e-32,\n",
       "         1.66533454e-16],\n",
       "       [ 0.00000000e+00,  0.00000000e+00,  9.43689571e-16,\n",
       "         1.54074396e-33, -7.70371978e-34,  7.70371978e-34,\n",
       "         3.85185989e-34, -2.22044605e-16,  0.00000000e+00,\n",
       "         0.00000000e+00],\n",
       "       [-1.61778115e-32,  1.23259516e-31,  1.54074396e-33,\n",
       "        -1.16573418e-15,  4.93038066e-32,  0.00000000e+00,\n",
       "         3.69778549e-32, -6.16297582e-33,  1.94289029e-16,\n",
       "        -6.16297582e-33],\n",
       "       [-2.66171633e-17,  9.71445147e-17, -7.70371978e-34,\n",
       "         4.93038066e-32,  3.33066907e-16, -5.55111512e-17,\n",
       "         1.05471187e-15,  3.08148791e-33,  2.46519033e-32,\n",
       "         0.00000000e+00],\n",
       "       [ 1.42301535e-19, -2.91433544e-16,  7.70371978e-34,\n",
       "         0.00000000e+00, -5.55111512e-17,  1.33226763e-15,\n",
       "        -4.44089210e-16,  1.54074396e-33, -6.16297582e-33,\n",
       "        -2.16840434e-18],\n",
       "       [-4.85722573e-17,  1.66533454e-16,  3.85185989e-34,\n",
       "         3.69778549e-32,  1.05471187e-15, -4.44089210e-16,\n",
       "         3.33066907e-16,  0.00000000e+00, -1.23259516e-32,\n",
       "        -7.97972799e-17],\n",
       "       [ 0.00000000e+00,  7.70371978e-34, -2.22044605e-16,\n",
       "        -6.16297582e-33,  3.08148791e-33,  1.54074396e-33,\n",
       "         0.00000000e+00, -1.66533454e-15,  0.00000000e+00,\n",
       "         0.00000000e+00],\n",
       "       [ 7.70371978e-34,  2.46519033e-32,  0.00000000e+00,\n",
       "         1.94289029e-16,  2.46519033e-32, -6.16297582e-33,\n",
       "        -1.23259516e-32,  0.00000000e+00,  4.44089210e-16,\n",
       "         0.00000000e+00],\n",
       "       [-1.11022302e-16,  1.66533454e-16,  0.00000000e+00,\n",
       "        -6.16297582e-33,  0.00000000e+00, -2.16840434e-18,\n",
       "        -7.97972799e-17,  0.00000000e+00,  0.00000000e+00,\n",
       "         6.66133815e-16]])"
      ]
     },
     "execution_count": 77,
     "metadata": {},
     "output_type": "execute_result"
    }
   ],
   "source": [
    "F-h1-J+K/2/4-vxc0"
   ]
  },
  {
   "cell_type": "code",
   "execution_count": 78,
   "id": "22630fc8",
   "metadata": {},
   "outputs": [
    {
     "data": {
      "text/plain": [
       "True"
      ]
     },
     "execution_count": 78,
     "metadata": {},
     "output_type": "execute_result"
    }
   ],
   "source": [
    "np.allclose(F,h1+J-K/2/4+vxc0 )"
   ]
  },
  {
   "cell_type": "code",
   "execution_count": null,
   "id": "e59da144",
   "metadata": {},
   "outputs": [],
   "source": []
  }
 ],
 "metadata": {
  "kernelspec": {
   "display_name": "Python 3 (ipykernel)",
   "language": "python",
   "name": "python3"
  },
  "language_info": {
   "codemirror_mode": {
    "name": "ipython",
    "version": 3
   },
   "file_extension": ".py",
   "mimetype": "text/x-python",
   "name": "python",
   "nbconvert_exporter": "python",
   "pygments_lexer": "ipython3",
   "version": "3.8.13"
  }
 },
 "nbformat": 4,
 "nbformat_minor": 5
}
