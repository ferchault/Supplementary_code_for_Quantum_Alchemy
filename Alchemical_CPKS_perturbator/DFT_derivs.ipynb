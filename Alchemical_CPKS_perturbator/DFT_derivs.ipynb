{
 "cells": [
  {
   "cell_type": "code",
   "execution_count": 91,
   "id": "b3df2367",
   "metadata": {},
   "outputs": [],
   "source": [
    "from pyscf import gto,scf\n",
    "import numpy as np\n",
    "import matplotlib.pyplot as plt\n",
    "from FcMole import *\n",
    "from AP_utils import DeltaV\n",
    "from numpy.linalg import norm\n",
    "from alch_deriv import alchemy_cphf_deriv,make_dP"
   ]
  },
  {
   "cell_type": "code",
   "execution_count": 265,
   "id": "4585547d",
   "metadata": {},
   "outputs": [],
   "source": [
    "CO=gto.M(atom=\"C 0 0 0; O 0 0 2 \",unit=\"Bohr\", basis=\"def2-qzvp\")"
   ]
  },
  {
   "cell_type": "code",
   "execution_count": 266,
   "id": "f8e47ad0",
   "metadata": {},
   "outputs": [
    {
     "name": "stdout",
     "output_type": "stream",
     "text": [
      "converged SCF energy = -113.225870191075\n"
     ]
    }
   ],
   "source": [
    "mf=scf.RKS(CO)\n",
    "mf.xc=\"PBE0\"\n",
    "mf.scf()\n",
    "P0=mf.make_rdm1()\n",
    "C0=mf.mo_coeff"
   ]
  },
  {
   "cell_type": "code",
   "execution_count": 328,
   "id": "4388e293",
   "metadata": {},
   "outputs": [
    {
     "name": "stdout",
     "output_type": "stream",
     "text": [
      "converged SCF energy = -120.958557196315\n"
     ]
    }
   ],
   "source": [
    "CO1=FcM_like(CO,fcs=[.5,0])\n",
    "mf1=scf.RKS(CO1)\n",
    "mf1.xc=\"PBE0\"\n",
    "mf1.scf(dm0=P0)\n",
    "P1=mf1.make_rdm1()\n",
    "C1=mf1.mo_coeff"
   ]
  },
  {
   "cell_type": "code",
   "execution_count": 268,
   "id": "9c9a1e83",
   "metadata": {},
   "outputs": [],
   "source": [
    "dV=DeltaV(CO,[[0],[.1]])"
   ]
  },
  {
   "cell_type": "code",
   "execution_count": 269,
   "id": "003ddf78",
   "metadata": {},
   "outputs": [
    {
     "data": {
      "text/plain": [
       "(-1.8714772182529278, -20.229884894502817)"
      ]
     },
     "execution_count": 269,
     "metadata": {},
     "output_type": "execute_result"
    }
   ],
   "source": [
    "Delt_e_elec=mf1.energy_elec()[0]-mf.energy_elec()[0]\n",
    "np.einsum(\"ij,ij\",P0,dV),Delt_e_elec  # APDFT1 predictions "
   ]
  },
  {
   "cell_type": "code",
   "execution_count": 270,
   "id": "2da5dd11",
   "metadata": {},
   "outputs": [],
   "source": [
    "from pyscf.scf import cphf\n",
    "from pyscf.scf import  _response_functions"
   ]
  },
  {
   "cell_type": "code",
   "execution_count": 271,
   "id": "a62d1c1a",
   "metadata": {},
   "outputs": [
    {
     "ename": "ValueError",
     "evalue": "operands could not be broadcast together with shapes (10,10) (114,114) ",
     "output_type": "error",
     "traceback": [
      "\u001b[0;31m---------------------------------------------------------------------------\u001b[0m",
      "\u001b[0;31mValueError\u001b[0m                                Traceback (most recent call last)",
      "\u001b[0;32m/tmp/ipykernel_5665/56589148.py\u001b[0m in \u001b[0;36m<cell line: 3>\u001b[0;34m()\u001b[0m\n\u001b[1;32m      1\u001b[0m \u001b[0mrf\u001b[0m\u001b[0;34m=\u001b[0m\u001b[0mmf\u001b[0m\u001b[0;34m.\u001b[0m\u001b[0mgen_response\u001b[0m\u001b[0;34m(\u001b[0m\u001b[0mmf\u001b[0m\u001b[0;34m.\u001b[0m\u001b[0mmo_coeff\u001b[0m\u001b[0;34m,\u001b[0m \u001b[0mmf\u001b[0m\u001b[0;34m.\u001b[0m\u001b[0mmo_occ\u001b[0m\u001b[0;34m,\u001b[0m \u001b[0mhermi\u001b[0m\u001b[0;34m=\u001b[0m\u001b[0;36m1\u001b[0m\u001b[0;34m)\u001b[0m\u001b[0;34m\u001b[0m\u001b[0;34m\u001b[0m\u001b[0m\n\u001b[1;32m      2\u001b[0m \u001b[0mdm1test\u001b[0m\u001b[0;34m=\u001b[0m\u001b[0mnp\u001b[0m\u001b[0;34m.\u001b[0m\u001b[0mones\u001b[0m\u001b[0;34m(\u001b[0m\u001b[0;34m(\u001b[0m\u001b[0;36m10\u001b[0m\u001b[0;34m,\u001b[0m\u001b[0;36m10\u001b[0m\u001b[0;34m)\u001b[0m\u001b[0;34m)\u001b[0m\u001b[0;34m/\u001b[0m\u001b[0;36m100\u001b[0m\u001b[0;34m\u001b[0m\u001b[0;34m\u001b[0m\u001b[0m\n\u001b[0;32m----> 3\u001b[0;31m \u001b[0mdm1test\u001b[0m\u001b[0;34m-=\u001b[0m\u001b[0mnp\u001b[0m\u001b[0;34m.\u001b[0m\u001b[0msum\u001b[0m\u001b[0;34m(\u001b[0m\u001b[0mdm1test\u001b[0m\u001b[0;34m*\u001b[0m\u001b[0mP0\u001b[0m\u001b[0;34m)\u001b[0m\u001b[0;34m/\u001b[0m\u001b[0mnorm\u001b[0m\u001b[0;34m(\u001b[0m\u001b[0mP0\u001b[0m\u001b[0;34m)\u001b[0m\u001b[0;34m**\u001b[0m\u001b[0;36m2\u001b[0m\u001b[0;34m*\u001b[0m\u001b[0mP0\u001b[0m\u001b[0;34m\u001b[0m\u001b[0;34m\u001b[0m\u001b[0m\n\u001b[0m\u001b[1;32m      4\u001b[0m \u001b[0mrespfun\u001b[0m\u001b[0;34m=\u001b[0m\u001b[0mrf\u001b[0m\u001b[0;34m(\u001b[0m\u001b[0mdm1test\u001b[0m\u001b[0;34m)\u001b[0m\u001b[0;34m\u001b[0m\u001b[0;34m\u001b[0m\u001b[0m\n\u001b[1;32m      5\u001b[0m \u001b[0mdFt\u001b[0m\u001b[0;34m=\u001b[0m\u001b[0mmf\u001b[0m\u001b[0;34m.\u001b[0m\u001b[0mget_fock\u001b[0m\u001b[0;34m(\u001b[0m\u001b[0mdm\u001b[0m\u001b[0;34m=\u001b[0m\u001b[0mP0\u001b[0m\u001b[0;34m+\u001b[0m\u001b[0mdm1test\u001b[0m\u001b[0;34m)\u001b[0m\u001b[0;34m-\u001b[0m\u001b[0mmf\u001b[0m\u001b[0;34m.\u001b[0m\u001b[0mget_fock\u001b[0m\u001b[0;34m(\u001b[0m\u001b[0mdm\u001b[0m\u001b[0;34m=\u001b[0m\u001b[0mP0\u001b[0m\u001b[0;34m)\u001b[0m\u001b[0;34m\u001b[0m\u001b[0;34m\u001b[0m\u001b[0m\n",
      "\u001b[0;31mValueError\u001b[0m: operands could not be broadcast together with shapes (10,10) (114,114) "
     ]
    }
   ],
   "source": [
    "rf=mf.gen_response(mf.mo_coeff, mf.mo_occ, hermi=1)\n",
    "dm1test=np.ones((10,10))/100\n",
    "dm1test-=np.sum(dm1test*P0)/norm(P0)**2*P0\n",
    "respfun=rf(dm1test)\n",
    "dFt=mf.get_fock(dm=P0+dm1test)-mf.get_fock(dm=P0)\n",
    "np.allclose(dFt,respfun),norm(dFt-respfun),norm(dFt)"
   ]
  },
  {
   "cell_type": "code",
   "execution_count": null,
   "id": "dcb23f85",
   "metadata": {},
   "outputs": [],
   "source": [
    "from pyscf.hessian.rhf import gen_vind\n",
    "from pyscf.scf import cphf\n",
    "from pyscf import lib\n",
    "\n",
    "mo_energy,mo_coeff, mo_occ=mf.mo_energy,mf.mo_coeff, mf.mo_occ\n",
    "vind = gen_vind(mf, mf.mo_coeff, mf.mo_occ)"
   ]
  },
  {
   "cell_type": "code",
   "execution_count": 272,
   "id": "931d88fe",
   "metadata": {},
   "outputs": [
    {
     "ename": "ValueError",
     "evalue": "Size of label 'p' for operand 1 (114) does not match previous terms (10).",
     "output_type": "error",
     "traceback": [
      "\u001b[0;31m---------------------------------------------------------------------------\u001b[0m",
      "\u001b[0;31mValueError\u001b[0m                                Traceback (most recent call last)",
      "\u001b[0;32m/tmp/ipykernel_5665/2905903517.py\u001b[0m in \u001b[0;36m<cell line: 9>\u001b[0;34m()\u001b[0m\n\u001b[1;32m      7\u001b[0m \u001b[0mcoords\u001b[0m  \u001b[0;34m=\u001b[0m \u001b[0mmol\u001b[0m\u001b[0;34m.\u001b[0m\u001b[0matom_coords\u001b[0m\u001b[0;34m(\u001b[0m\u001b[0;34m)\u001b[0m\u001b[0;34m\u001b[0m\u001b[0;34m\u001b[0m\u001b[0m\n\u001b[1;32m      8\u001b[0m \u001b[0mcharge_center\u001b[0m \u001b[0;34m=\u001b[0m \u001b[0mnp\u001b[0m\u001b[0;34m.\u001b[0m\u001b[0meinsum\u001b[0m\u001b[0;34m(\u001b[0m\u001b[0;34m'i,ix->x'\u001b[0m\u001b[0;34m,\u001b[0m \u001b[0mcharges\u001b[0m\u001b[0;34m,\u001b[0m \u001b[0mcoords\u001b[0m\u001b[0;34m)\u001b[0m \u001b[0;34m/\u001b[0m \u001b[0mcharges\u001b[0m\u001b[0;34m.\u001b[0m\u001b[0msum\u001b[0m\u001b[0;34m(\u001b[0m\u001b[0;34m)\u001b[0m\u001b[0;34m\u001b[0m\u001b[0;34m\u001b[0m\u001b[0m\n\u001b[0;32m----> 9\u001b[0;31m \u001b[0mh1\u001b[0m \u001b[0;34m=\u001b[0m \u001b[0mlib\u001b[0m\u001b[0;34m.\u001b[0m\u001b[0meinsum\u001b[0m\u001b[0;34m(\u001b[0m\u001b[0;34m'pq,pi,qj->ij'\u001b[0m\u001b[0;34m,\u001b[0m \u001b[0mint_r\u001b[0m\u001b[0;34m,\u001b[0m \u001b[0mmo_coeff\u001b[0m\u001b[0;34m.\u001b[0m\u001b[0mconj\u001b[0m\u001b[0;34m(\u001b[0m\u001b[0;34m)\u001b[0m\u001b[0;34m,\u001b[0m \u001b[0morbo\u001b[0m\u001b[0;34m)\u001b[0m \u001b[0;31m#going to molecular orbitals\u001b[0m\u001b[0;34m\u001b[0m\u001b[0;34m\u001b[0m\u001b[0m\n\u001b[0m\u001b[1;32m     10\u001b[0m \u001b[0;31m#h1=h1.reshape((1,h1.shape[0],h1.shape[1]))\u001b[0m\u001b[0;34m\u001b[0m\u001b[0;34m\u001b[0m\u001b[0;34m\u001b[0m\u001b[0m\n",
      "\u001b[0;32m~/anaconda3/lib/python3.8/site-packages/pyscf/lib/numpy_helper.py\u001b[0m in \u001b[0;36meinsum\u001b[0;34m(subscripts, *tensors, **kwargs)\u001b[0m\n\u001b[1;32m    241\u001b[0m         \u001b[0moptimize\u001b[0m \u001b[0;34m=\u001b[0m \u001b[0mkwargs\u001b[0m\u001b[0;34m.\u001b[0m\u001b[0mpop\u001b[0m\u001b[0;34m(\u001b[0m\u001b[0;34m'optimize'\u001b[0m\u001b[0;34m,\u001b[0m \u001b[0;32mTrue\u001b[0m\u001b[0;34m)\u001b[0m\u001b[0;34m\u001b[0m\u001b[0;34m\u001b[0m\u001b[0m\n\u001b[1;32m    242\u001b[0m         \u001b[0mtensors\u001b[0m \u001b[0;34m=\u001b[0m \u001b[0mlist\u001b[0m\u001b[0;34m(\u001b[0m\u001b[0mtensors\u001b[0m\u001b[0;34m)\u001b[0m\u001b[0;34m\u001b[0m\u001b[0;34m\u001b[0m\u001b[0m\n\u001b[0;32m--> 243\u001b[0;31m         contraction_list = _einsum_path(subscripts, *tensors, optimize=optimize,\n\u001b[0m\u001b[1;32m    244\u001b[0m                                         einsum_call=True)[1]\n\u001b[1;32m    245\u001b[0m         \u001b[0;32mfor\u001b[0m \u001b[0mcontraction\u001b[0m \u001b[0;32min\u001b[0m \u001b[0mcontraction_list\u001b[0m\u001b[0;34m:\u001b[0m\u001b[0;34m\u001b[0m\u001b[0;34m\u001b[0m\u001b[0m\n",
      "\u001b[0;32m~/anaconda3/lib/python3.8/site-packages/numpy/core/overrides.py\u001b[0m in \u001b[0;36meinsum_path\u001b[0;34m(*args, **kwargs)\u001b[0m\n",
      "\u001b[0;32m~/anaconda3/lib/python3.8/site-packages/numpy/core/einsumfunc.py\u001b[0m in \u001b[0;36meinsum_path\u001b[0;34m(optimize, einsum_call, *operands)\u001b[0m\n\u001b[1;32m    875\u001b[0m                     \u001b[0mdimension_dict\u001b[0m\u001b[0;34m[\u001b[0m\u001b[0mchar\u001b[0m\u001b[0;34m]\u001b[0m \u001b[0;34m=\u001b[0m \u001b[0mdim\u001b[0m\u001b[0;34m\u001b[0m\u001b[0;34m\u001b[0m\u001b[0m\n\u001b[1;32m    876\u001b[0m                 \u001b[0;32melif\u001b[0m \u001b[0mdim\u001b[0m \u001b[0;32mnot\u001b[0m \u001b[0;32min\u001b[0m \u001b[0;34m(\u001b[0m\u001b[0;36m1\u001b[0m\u001b[0;34m,\u001b[0m \u001b[0mdimension_dict\u001b[0m\u001b[0;34m[\u001b[0m\u001b[0mchar\u001b[0m\u001b[0;34m]\u001b[0m\u001b[0;34m)\u001b[0m\u001b[0;34m:\u001b[0m\u001b[0;34m\u001b[0m\u001b[0;34m\u001b[0m\u001b[0m\n\u001b[0;32m--> 877\u001b[0;31m                     raise ValueError(\"Size of label '%s' for operand %d (%d) \"\n\u001b[0m\u001b[1;32m    878\u001b[0m                                      \u001b[0;34m\"does not match previous terms (%d).\"\u001b[0m\u001b[0;34m\u001b[0m\u001b[0;34m\u001b[0m\u001b[0m\n\u001b[1;32m    879\u001b[0m                                      % (char, tnum, dimension_dict[char], dim))\n",
      "\u001b[0;31mValueError\u001b[0m: Size of label 'p' for operand 1 (114) does not match previous terms (10)."
     ]
    }
   ],
   "source": [
    "mol=CO\n",
    "int_r=DeltaV(CO,[[0],[.01]])\n",
    "occidx = mo_occ > 0\n",
    "orbo = mo_coeff[:, occidx]\n",
    "orbv = mo_coeff[:,~occidx]\n",
    "charges = mol.atom_charges()\n",
    "coords  = mol.atom_coords()\n",
    "charge_center = np.einsum('i,ix->x', charges, coords) / charges.sum()\n",
    "h1 = lib.einsum('pq,pi,qj->ij', int_r, mo_coeff.conj(), orbo) #going to molecular orbitals\n",
    "#h1=h1.reshape((1,h1.shape[0],h1.shape[1]))"
   ]
  },
  {
   "cell_type": "code",
   "execution_count": 273,
   "id": "398100a9",
   "metadata": {},
   "outputs": [
    {
     "data": {
      "text/plain": [
       "(10, 7)"
      ]
     },
     "execution_count": 273,
     "metadata": {},
     "output_type": "execute_result"
    }
   ],
   "source": [
    "h1.shape"
   ]
  },
  {
   "cell_type": "code",
   "execution_count": 274,
   "id": "3d12659a",
   "metadata": {},
   "outputs": [],
   "source": [
    "#mol = mf.mol\n",
    "#mo_energy = mf.mo_energy\n",
    "#mo_coeff = mf.mo_coeff\n",
    "#mo_occ = mf.mo_occ\n",
    "#occidx = mo_occ > 0\n",
    "#orbo = mo_coeff[:, occidx]\n",
    "#orbv = mo_coeff[:,~occidx]\n",
    "#charges = mol.atom_charges()\n",
    "#coords  = mol.atom_coords()\n",
    "#charge_center = np.einsum('i,ix->x', charges, coords) / charges.sum()\n",
    "#h1 = lib.einsum('pq,pi,qj->ij', int_r, mo_coeff.conj(), orbo) #going to molecular orbitals\n",
    "#h1=h1.reshape((1,h1.shape[0],h1.shape[1]))\n",
    "#s1 = np.zeros_like(h1)\n",
    "#vind = gen_vind(mf, mo_coeff, mo_occ)\n",
    "#mo1,e1 = cphf.solve(vind, mo_energy, mo_occ, h1, s1,40, 1e-9)\n",
    "#        s1=None\n",
    "#mo1,e1 = cphf.solve(vind, mo_energy, mo_occ, h1, s1,10,1e-6)"
   ]
  },
  {
   "cell_type": "code",
   "execution_count": 275,
   "id": "77094f47",
   "metadata": {},
   "outputs": [],
   "source": [
    "mo1,e1=alchemy_cphf_deriv(mf,int_r)"
   ]
  },
  {
   "cell_type": "code",
   "execution_count": 276,
   "id": "4e686e7a",
   "metadata": {},
   "outputs": [],
   "source": [
    "dPfd=P1-P0"
   ]
  },
  {
   "cell_type": "code",
   "execution_count": 277,
   "id": "340056cb",
   "metadata": {},
   "outputs": [],
   "source": [
    "dP_ad=make_dP(mf,mo1)"
   ]
  },
  {
   "cell_type": "code",
   "execution_count": 278,
   "id": "cfec7b3c",
   "metadata": {},
   "outputs": [
    {
     "data": {
      "text/plain": [
       "(1.468601302144129, 1.4483446235338027)"
      ]
     },
     "execution_count": 278,
     "metadata": {},
     "output_type": "execute_result"
    }
   ],
   "source": [
    "norm(dPfd),norm(dPfd-dP_ad)"
   ]
  },
  {
   "cell_type": "code",
   "execution_count": 334,
   "id": "af46ee3d",
   "metadata": {},
   "outputs": [],
   "source": [
    "from AP_class import APDFT_perturbator as AP"
   ]
  },
  {
   "cell_type": "code",
   "execution_count": 335,
   "id": "68dd16bc",
   "metadata": {},
   "outputs": [],
   "source": [
    "ap=AP(mf,sites=[0])\n",
    "ap.build_all()"
   ]
  },
  {
   "cell_type": "code",
   "execution_count": 336,
   "id": "f9f8206d",
   "metadata": {},
   "outputs": [
    {
     "data": {
      "text/plain": [
       "(-120.58325628234012, -120.95855720373132)"
      ]
     },
     "execution_count": 336,
     "metadata": {},
     "output_type": "execute_result"
    }
   ],
   "source": [
    "ap.APDFT1([.5]),mf1.e_tot"
   ]
  },
  {
   "cell_type": "code",
   "execution_count": 337,
   "id": "2a242ac8",
   "metadata": {},
   "outputs": [
    {
     "data": {
      "text/plain": [
       "(-120.95525995031093, -120.95855720373132)"
      ]
     },
     "execution_count": 337,
     "metadata": {},
     "output_type": "execute_result"
    }
   ],
   "source": [
    "ap.APDFT2([.5]),mf1.e_tot"
   ]
  },
  {
   "cell_type": "code",
   "execution_count": 338,
   "id": "f36f2677",
   "metadata": {},
   "outputs": [
    {
     "data": {
      "text/plain": [
       "(-120.95909509119817, -120.95855720373132)"
      ]
     },
     "execution_count": 338,
     "metadata": {},
     "output_type": "execute_result"
    }
   ],
   "source": [
    "ap.APDFT3([.5]),mf1.e_tot"
   ]
  },
  {
   "cell_type": "code",
   "execution_count": 339,
   "id": "d9a5cfe6",
   "metadata": {},
   "outputs": [
    {
     "name": "stderr",
     "output_type": "stream",
     "text": [
      "libcint::rys_roots negative value in sqrt for roots 6 (j=5)\n",
      "ROOT NUMBER 1 WAS NOT FOUND FOR POLYNOMIAL OF ORDER 4\n",
      "rys_roots fails: nroots=6 x=8.25595e+36\n",
      "libcint::rys_roots negative value in sqrt for roots 6 (j=5)\n",
      "ROOT NUMBER 1 WAS NOT FOUND FOR POLYNOMIAL OF ORDER 4\n",
      "rys_roots fails: nroots=6 x=8.26405e+36\n",
      "libcint::rys_roots negative value in sqrt for roots 6 (j=5)\n",
      "ROOT NUMBER 1 WAS NOT FOUND FOR POLYNOMIAL OF ORDER 4\n",
      "rys_roots fails: nroots=6 x=8.38183e+36\n",
      "libcint::rys_roots negative value in sqrt for roots 6 (j=5)\n",
      "ROOT NUMBER 1 WAS NOT FOUND FOR POLYNOMIAL OF ORDER 4\n",
      "rys_roots fails: nroots=6 x=8.38183e+36\n",
      "libcint::rys_roots negative value in sqrt for roots 6 (j=5)\n",
      "ROOT NUMBER 1 WAS NOT FOUND FOR POLYNOMIAL OF ORDER 4\n",
      "rys_roots fails: nroots=6 x=8.26405e+36\n",
      "libcint::rys_roots negative value in sqrt for roots 6 (j=5)\n",
      "ROOT NUMBER 1 WAS NOT FOUND FOR POLYNOMIAL OF ORDER 4\n",
      "rys_roots fails: nroots=6 x=8.25595e+36\n",
      "libcint::rys_roots negative value in sqrt for roots 6 (j=5)\n",
      "ROOT NUMBER 1 WAS NOT FOUND FOR POLYNOMIAL OF ORDER 4\n",
      "rys_roots fails: nroots=6 x=8.25595e+36\n",
      "libcint::rys_roots negative value in sqrt for roots 6 (j=5)\n",
      "ROOT NUMBER 1 WAS NOT FOUND FOR POLYNOMIAL OF ORDER 4\n",
      "rys_roots fails: nroots=6 x=8.26405e+36\n",
      "libcint::rys_roots negative value in sqrt for roots 6 (j=5)\n",
      "ROOT NUMBER 1 WAS NOT FOUND FOR POLYNOMIAL OF ORDER 4\n",
      "rys_roots fails: nroots=6 x=8.38183e+36\n",
      "libcint::rys_roots negative value in sqrt for roots 6 (j=5)\n",
      "ROOT NUMBER 1 WAS NOT FOUND FOR POLYNOMIAL OF ORDER 4\n",
      "rys_roots fails: nroots=6 x=8.38183e+36\n",
      "libcint::rys_roots negative value in sqrt for roots 6 (j=5)\n",
      "ROOT NUMBER 1 WAS NOT FOUND FOR POLYNOMIAL OF ORDER 4\n",
      "rys_roots fails: nroots=6 x=8.26405e+36\n",
      "libcint::rys_roots negative value in sqrt for roots 6 (j=5)\n",
      "ROOT NUMBER 1 WAS NOT FOUND FOR POLYNOMIAL OF ORDER 4\n",
      "rys_roots fails: nroots=6 x=8.25595e+36\n"
     ]
    },
    {
     "data": {
      "text/plain": [
       "array([[-1.73491072e-15,  5.44887860e-15, -1.40899059e-01],\n",
       "       [ 1.79970257e-15, -5.03822111e-15,  1.22447291e-01]])"
      ]
     },
     "execution_count": 339,
     "metadata": {},
     "output_type": "execute_result"
    }
   ],
   "source": [
    "ap.af(0)/2"
   ]
  },
  {
   "cell_type": "code",
   "execution_count": 340,
   "id": "c4dd4c9e",
   "metadata": {},
   "outputs": [],
   "source": [
    "from pyscf.grad import rks\n"
   ]
  },
  {
   "cell_type": "code",
   "execution_count": 320,
   "id": "f8cbb40a",
   "metadata": {},
   "outputs": [
    {
     "name": "stderr",
     "output_type": "stream",
     "text": [
      "libcint::rys_roots negative value in sqrt for roots 6 (j=5)\n",
      "ROOT NUMBER 1 WAS NOT FOUND FOR POLYNOMIAL OF ORDER 4\n",
      "rys_roots fails: nroots=6 x=8.25595e+36\n",
      "libcint::rys_roots negative value in sqrt for roots 6 (j=5)\n",
      "ROOT NUMBER 1 WAS NOT FOUND FOR POLYNOMIAL OF ORDER 4\n",
      "rys_roots fails: nroots=6 x=8.26405e+36\n",
      "libcint::rys_roots negative value in sqrt for roots 6 (j=5)\n",
      "ROOT NUMBER 1 WAS NOT FOUND FOR POLYNOMIAL OF ORDER 4\n",
      "rys_roots fails: nroots=6 x=8.38183e+36\n",
      "libcint::rys_roots negative value in sqrt for roots 6 (j=5)\n",
      "ROOT NUMBER 1 WAS NOT FOUND FOR POLYNOMIAL OF ORDER 4\n",
      "rys_roots fails: nroots=6 x=8.38183e+36\n",
      "libcint::rys_roots negative value in sqrt for roots 6 (j=5)\n",
      "ROOT NUMBER 1 WAS NOT FOUND FOR POLYNOMIAL OF ORDER 4\n",
      "rys_roots fails: nroots=6 x=8.26405e+36\n",
      "libcint::rys_roots negative value in sqrt for roots 6 (j=5)\n",
      "ROOT NUMBER 1 WAS NOT FOUND FOR POLYNOMIAL OF ORDER 4\n",
      "rys_roots fails: nroots=6 x=8.25595e+36\n"
     ]
    },
    {
     "name": "stdout",
     "output_type": "stream",
     "text": [
      "--------------- RKS gradients ---------------\n",
      "         x                y                z\n",
      "0 C     0.0000000000    -0.0000000000     0.0798953447\n",
      "1 O    -0.0000000000     0.0000000000    -0.0798993333\n",
      "----------------------------------------------\n"
     ]
    },
    {
     "name": "stderr",
     "output_type": "stream",
     "text": [
      "libcint::rys_roots negative value in sqrt for roots 6 (j=5)\n",
      "ROOT NUMBER 1 WAS NOT FOUND FOR POLYNOMIAL OF ORDER 4\n",
      "rys_roots fails: nroots=6 x=8.25595e+36\n",
      "libcint::rys_roots negative value in sqrt for roots 6 (j=5)\n",
      "ROOT NUMBER 1 WAS NOT FOUND FOR POLYNOMIAL OF ORDER 4\n",
      "rys_roots fails: nroots=6 x=8.26405e+36\n",
      "libcint::rys_roots negative value in sqrt for roots 6 (j=5)\n",
      "ROOT NUMBER 1 WAS NOT FOUND FOR POLYNOMIAL OF ORDER 4\n",
      "rys_roots fails: nroots=6 x=8.38183e+36\n",
      "libcint::rys_roots negative value in sqrt for roots 6 (j=5)\n",
      "ROOT NUMBER 1 WAS NOT FOUND FOR POLYNOMIAL OF ORDER 4\n",
      "rys_roots fails: nroots=6 x=8.38183e+36\n",
      "libcint::rys_roots negative value in sqrt for roots 6 (j=5)\n",
      "ROOT NUMBER 1 WAS NOT FOUND FOR POLYNOMIAL OF ORDER 4\n",
      "rys_roots fails: nroots=6 x=8.26405e+36\n",
      "libcint::rys_roots negative value in sqrt for roots 6 (j=5)\n",
      "ROOT NUMBER 1 WAS NOT FOUND FOR POLYNOMIAL OF ORDER 4\n",
      "rys_roots fails: nroots=6 x=8.25595e+36\n"
     ]
    },
    {
     "name": "stdout",
     "output_type": "stream",
     "text": [
      "--------------- RKS gradients ---------------\n",
      "         x                y                z\n",
      "0 C    -0.0000000000    -0.0000000000     0.1968481851\n",
      "1 O     0.0000000000     0.0000000000    -0.1968551477\n",
      "----------------------------------------------\n"
     ]
    },
    {
     "data": {
      "text/plain": [
       "array([[ 6.96155082e-15, -1.48347324e-15, -1.16952840e-01],\n",
       "       [-7.00158508e-15,  2.78014606e-15,  1.16955814e-01]])"
      ]
     },
     "execution_count": 320,
     "metadata": {},
     "output_type": "execute_result"
    }
   ],
   "source": [
    "mf1.Gradients().grad()-mf.Gradients().grad()"
   ]
  },
  {
   "cell_type": "code",
   "execution_count": 322,
   "id": "3f055be2",
   "metadata": {},
   "outputs": [],
   "source": [
    "from pyscf.geomopt import optimize"
   ]
  },
  {
   "cell_type": "code",
   "execution_count": 332,
   "id": "3b076f01",
   "metadata": {},
   "outputs": [
    {
     "name": "stdout",
     "output_type": "stream",
     "text": [
      "\n",
      "Geometry optimization cycle 1\n",
      "Cartesian coordinates (Angstrom)\n",
      " Atom        New coordinates             dX        dY        dZ\n",
      "   C   0.000000   0.000000   0.000000    0.000000  0.000000  0.000000\n",
      "   O   0.000000   0.000000   1.058354    0.000000  0.000000  0.000000\n",
      "converged SCF energy = -120.958557196612\n"
     ]
    },
    {
     "name": "stderr",
     "output_type": "stream",
     "text": [
      "libcint::rys_roots negative value in sqrt for roots 6 (j=5)\n",
      "ROOT NUMBER 1 WAS NOT FOUND FOR POLYNOMIAL OF ORDER 4\n",
      "rys_roots fails: nroots=6 x=8.25595e+36\n",
      "libcint::rys_roots negative value in sqrt for roots 6 (j=5)\n",
      "ROOT NUMBER 1 WAS NOT FOUND FOR POLYNOMIAL OF ORDER 4\n",
      "rys_roots fails: nroots=6 x=8.26405e+36\n",
      "libcint::rys_roots negative value in sqrt for roots 6 (j=5)\n",
      "ROOT NUMBER 1 WAS NOT FOUND FOR POLYNOMIAL OF ORDER 4\n",
      "rys_roots fails: nroots=6 x=8.38183e+36\n",
      "libcint::rys_roots negative value in sqrt for roots 6 (j=5)\n",
      "ROOT NUMBER 1 WAS NOT FOUND FOR POLYNOMIAL OF ORDER 4\n",
      "rys_roots fails: nroots=6 x=8.38183e+36\n",
      "libcint::rys_roots negative value in sqrt for roots 6 (j=5)\n",
      "ROOT NUMBER 1 WAS NOT FOUND FOR POLYNOMIAL OF ORDER 4\n",
      "rys_roots fails: nroots=6 x=8.26405e+36\n",
      "libcint::rys_roots negative value in sqrt for roots 6 (j=5)\n",
      "ROOT NUMBER 1 WAS NOT FOUND FOR POLYNOMIAL OF ORDER 4\n",
      "rys_roots fails: nroots=6 x=8.25595e+36\n"
     ]
    },
    {
     "name": "stdout",
     "output_type": "stream",
     "text": [
      "--------------- SCF_Scanner gradients ---------------\n",
      "         x                y                z\n",
      "0 C    -0.0000000000    -0.0000000000     0.0799016684\n",
      "1 O    -0.0000000000     0.0000000000   -28.5380588582\n",
      "----------------------------------------------\n",
      "cycle 1: E = -120.958557197  dE = -120.959  norm(grad) = 28.5382\n",
      "\n",
      "Geometry optimization cycle 2\n",
      "Cartesian coordinates (Angstrom)\n",
      " Atom        New coordinates             dX        dY        dZ\n",
      "   C   0.000000   0.000000  -0.002646    0.000000  0.000000 -0.002646\n",
      "   O   0.000000   0.000000   1.061000    0.000000  0.000000  0.002646\n",
      "converged SCF energy = -120.959263345249\n"
     ]
    },
    {
     "name": "stderr",
     "output_type": "stream",
     "text": [
      "libcint::rys_roots negative value in sqrt for roots 6 (j=5)\n",
      "ROOT NUMBER 1 WAS NOT FOUND FOR POLYNOMIAL OF ORDER 4\n",
      "rys_roots fails: nroots=6 x=8.25595e+36\n",
      "libcint::rys_roots negative value in sqrt for roots 6 (j=5)\n",
      "ROOT NUMBER 1 WAS NOT FOUND FOR POLYNOMIAL OF ORDER 4\n",
      "rys_roots fails: nroots=6 x=8.26405e+36\n",
      "libcint::rys_roots negative value in sqrt for roots 6 (j=5)\n",
      "ROOT NUMBER 1 WAS NOT FOUND FOR POLYNOMIAL OF ORDER 4\n",
      "rys_roots fails: nroots=6 x=8.38183e+36\n",
      "libcint::rys_roots negative value in sqrt for roots 6 (j=5)\n",
      "ROOT NUMBER 1 WAS NOT FOUND FOR POLYNOMIAL OF ORDER 4\n",
      "rys_roots fails: nroots=6 x=8.38183e+36\n",
      "libcint::rys_roots negative value in sqrt for roots 6 (j=5)\n",
      "ROOT NUMBER 1 WAS NOT FOUND FOR POLYNOMIAL OF ORDER 4\n",
      "rys_roots fails: nroots=6 x=8.26405e+36\n",
      "libcint::rys_roots negative value in sqrt for roots 6 (j=5)\n",
      "ROOT NUMBER 1 WAS NOT FOUND FOR POLYNOMIAL OF ORDER 4\n",
      "rys_roots fails: nroots=6 x=8.25595e+36\n"
     ]
    },
    {
     "name": "stdout",
     "output_type": "stream",
     "text": [
      "--------------- SCF_Scanner gradients ---------------\n",
      "         x                y                z\n",
      "0 C     0.0000000000     0.0000000000    21.2084826242\n",
      "1 O     0.0000000000     0.0000000000    -2.2437094558\n",
      "----------------------------------------------\n",
      "cycle 2: E = -120.959263345  dE = -0.000706149  norm(grad) = 21.3268\n",
      "\n",
      "Geometry optimization cycle 3\n",
      "Cartesian coordinates (Angstrom)\n",
      " Atom        New coordinates             dX        dY        dZ\n",
      "   C   0.000000   0.000000  -0.001268    0.000000  0.000000  0.001378\n",
      "   O   0.000000   0.000000   1.059622    0.000000  0.000000 -0.001378\n",
      "converged SCF energy = -120.958918505634\n"
     ]
    },
    {
     "name": "stderr",
     "output_type": "stream",
     "text": [
      "libcint::rys_roots negative value in sqrt for roots 6 (j=5)\n",
      "ROOT NUMBER 1 WAS NOT FOUND FOR POLYNOMIAL OF ORDER 4\n",
      "rys_roots fails: nroots=6 x=8.25595e+36\n",
      "libcint::rys_roots negative value in sqrt for roots 6 (j=5)\n",
      "ROOT NUMBER 1 WAS NOT FOUND FOR POLYNOMIAL OF ORDER 4\n",
      "rys_roots fails: nroots=6 x=8.26405e+36\n",
      "libcint::rys_roots negative value in sqrt for roots 6 (j=5)\n",
      "ROOT NUMBER 1 WAS NOT FOUND FOR POLYNOMIAL OF ORDER 4\n",
      "rys_roots fails: nroots=6 x=8.38183e+36\n",
      "libcint::rys_roots negative value in sqrt for roots 6 (j=5)\n",
      "ROOT NUMBER 1 WAS NOT FOUND FOR POLYNOMIAL OF ORDER 4\n",
      "rys_roots fails: nroots=6 x=8.38183e+36\n",
      "libcint::rys_roots negative value in sqrt for roots 6 (j=5)\n",
      "ROOT NUMBER 1 WAS NOT FOUND FOR POLYNOMIAL OF ORDER 4\n",
      "rys_roots fails: nroots=6 x=8.26405e+36\n",
      "libcint::rys_roots negative value in sqrt for roots 6 (j=5)\n",
      "ROOT NUMBER 1 WAS NOT FOUND FOR POLYNOMIAL OF ORDER 4\n",
      "rys_roots fails: nroots=6 x=8.25595e+36\n"
     ]
    },
    {
     "name": "stdout",
     "output_type": "stream",
     "text": [
      "--------------- SCF_Scanner gradients ---------------\n",
      "         x                y                z\n",
      "0 C     0.0000000000     0.0000000000    10.4502038403\n",
      "1 O    -0.0000000000    -0.0000000000   -15.6351712782\n",
      "----------------------------------------------\n",
      "cycle 3: E = -120.958918506  dE = 0.00034484  norm(grad) = 18.806\n",
      "\n",
      "Geometry optimization cycle 4\n",
      "Cartesian coordinates (Angstrom)\n",
      " Atom        New coordinates             dX        dY        dZ\n",
      "   C   0.000000   0.000000  -0.001738    0.000000  0.000000 -0.000471\n",
      "   O   0.000000   0.000000   1.060093    0.000000  0.000000  0.000471\n",
      "converged SCF energy = -120.959041897082\n"
     ]
    },
    {
     "name": "stderr",
     "output_type": "stream",
     "text": [
      "libcint::rys_roots negative value in sqrt for roots 6 (j=5)\n",
      "ROOT NUMBER 1 WAS NOT FOUND FOR POLYNOMIAL OF ORDER 4\n",
      "rys_roots fails: nroots=6 x=8.25595e+36\n",
      "libcint::rys_roots negative value in sqrt for roots 6 (j=5)\n",
      "ROOT NUMBER 1 WAS NOT FOUND FOR POLYNOMIAL OF ORDER 4\n",
      "rys_roots fails: nroots=6 x=8.26405e+36\n",
      "libcint::rys_roots negative value in sqrt for roots 6 (j=5)\n",
      "ROOT NUMBER 1 WAS NOT FOUND FOR POLYNOMIAL OF ORDER 4\n",
      "rys_roots fails: nroots=6 x=8.38183e+36\n",
      "libcint::rys_roots negative value in sqrt for roots 6 (j=5)\n",
      "ROOT NUMBER 1 WAS NOT FOUND FOR POLYNOMIAL OF ORDER 4\n",
      "rys_roots fails: nroots=6 x=8.38183e+36\n",
      "libcint::rys_roots negative value in sqrt for roots 6 (j=5)\n",
      "ROOT NUMBER 1 WAS NOT FOUND FOR POLYNOMIAL OF ORDER 4\n",
      "rys_roots fails: nroots=6 x=8.26405e+36\n",
      "libcint::rys_roots negative value in sqrt for roots 6 (j=5)\n",
      "ROOT NUMBER 1 WAS NOT FOUND FOR POLYNOMIAL OF ORDER 4\n",
      "rys_roots fails: nroots=6 x=8.25595e+36\n"
     ]
    },
    {
     "name": "stdout",
     "output_type": "stream",
     "text": [
      "--------------- SCF_Scanner gradients ---------------\n",
      "         x                y                z\n",
      "0 C     0.0000000000     0.0000000000    14.1956486260\n",
      "1 O    -0.0000000000    -0.0000000000   -10.9738501966\n",
      "----------------------------------------------\n",
      "cycle 4: E = -120.959041897  dE = -0.000123391  norm(grad) = 17.9427\n",
      "\n",
      "Geometry optimization cycle 5\n",
      "Cartesian coordinates (Angstrom)\n",
      " Atom        New coordinates             dX        dY        dZ\n",
      "   C   0.000000   0.000000  -0.001978    0.000000  0.000000 -0.000240\n",
      "   O   0.000000   0.000000   1.060333    0.000000  0.000000  0.000240\n",
      "converged SCF energy = -120.959102508693\n"
     ]
    },
    {
     "name": "stderr",
     "output_type": "stream",
     "text": [
      "libcint::rys_roots negative value in sqrt for roots 6 (j=5)\n",
      "ROOT NUMBER 1 WAS NOT FOUND FOR POLYNOMIAL OF ORDER 4\n",
      "rys_roots fails: nroots=6 x=8.25595e+36\n",
      "libcint::rys_roots negative value in sqrt for roots 6 (j=5)\n",
      "ROOT NUMBER 1 WAS NOT FOUND FOR POLYNOMIAL OF ORDER 4\n",
      "rys_roots fails: nroots=6 x=8.26405e+36\n",
      "libcint::rys_roots negative value in sqrt for roots 6 (j=5)\n",
      "ROOT NUMBER 1 WAS NOT FOUND FOR POLYNOMIAL OF ORDER 4\n",
      "rys_roots fails: nroots=6 x=8.38183e+36\n",
      "libcint::rys_roots negative value in sqrt for roots 6 (j=5)\n",
      "ROOT NUMBER 1 WAS NOT FOUND FOR POLYNOMIAL OF ORDER 4\n",
      "rys_roots fails: nroots=6 x=8.38183e+36\n",
      "libcint::rys_roots negative value in sqrt for roots 6 (j=5)\n",
      "ROOT NUMBER 1 WAS NOT FOUND FOR POLYNOMIAL OF ORDER 4\n",
      "rys_roots fails: nroots=6 x=8.26405e+36\n",
      "libcint::rys_roots negative value in sqrt for roots 6 (j=5)\n",
      "ROOT NUMBER 1 WAS NOT FOUND FOR POLYNOMIAL OF ORDER 4\n",
      "rys_roots fails: nroots=6 x=8.25595e+36\n"
     ]
    },
    {
     "name": "stdout",
     "output_type": "stream",
     "text": [
      "--------------- SCF_Scanner gradients ---------------\n",
      "         x                y                z\n",
      "0 C     0.0000000000     0.0000000000    16.0749210676\n",
      "1 O     0.0000000000    -0.0000000000    -8.6346955102\n",
      "----------------------------------------------\n",
      "cycle 5: E = -120.959102509  dE = -6.06116e-05  norm(grad) = 18.2472\n",
      "\n",
      "Geometry optimization cycle 6\n",
      "Cartesian coordinates (Angstrom)\n",
      " Atom        New coordinates             dX        dY        dZ\n",
      "   C   0.000000   0.000000  -0.002134    0.000000  0.000000 -0.000155\n",
      "   O   0.000000   0.000000   1.060488    0.000000  0.000000  0.000155\n",
      "converged SCF energy = -120.95914096832\n"
     ]
    },
    {
     "name": "stderr",
     "output_type": "stream",
     "text": [
      "libcint::rys_roots negative value in sqrt for roots 6 (j=5)\n",
      "ROOT NUMBER 1 WAS NOT FOUND FOR POLYNOMIAL OF ORDER 4\n",
      "rys_roots fails: nroots=6 x=8.25595e+36\n",
      "libcint::rys_roots negative value in sqrt for roots 6 (j=5)\n",
      "ROOT NUMBER 1 WAS NOT FOUND FOR POLYNOMIAL OF ORDER 4\n",
      "rys_roots fails: nroots=6 x=8.26405e+36\n",
      "libcint::rys_roots negative value in sqrt for roots 6 (j=5)\n",
      "ROOT NUMBER 1 WAS NOT FOUND FOR POLYNOMIAL OF ORDER 4\n",
      "rys_roots fails: nroots=6 x=8.38183e+36\n",
      "libcint::rys_roots negative value in sqrt for roots 6 (j=5)\n",
      "ROOT NUMBER 1 WAS NOT FOUND FOR POLYNOMIAL OF ORDER 4\n",
      "rys_roots fails: nroots=6 x=8.38183e+36\n",
      "libcint::rys_roots negative value in sqrt for roots 6 (j=5)\n",
      "ROOT NUMBER 1 WAS NOT FOUND FOR POLYNOMIAL OF ORDER 4\n",
      "rys_roots fails: nroots=6 x=8.26405e+36\n",
      "libcint::rys_roots negative value in sqrt for roots 6 (j=5)\n",
      "ROOT NUMBER 1 WAS NOT FOUND FOR POLYNOMIAL OF ORDER 4\n",
      "rys_roots fails: nroots=6 x=8.25595e+36\n"
     ]
    },
    {
     "name": "stdout",
     "output_type": "stream",
     "text": [
      "--------------- SCF_Scanner gradients ---------------\n",
      "         x                y                z\n",
      "0 C    -0.0000000000    -0.0000000000    17.2820642147\n",
      "1 O     0.0000000000    -0.0000000000    -7.1320266985\n",
      "----------------------------------------------\n",
      "cycle 6: E = -120.959140968  dE = -3.84596e-05  norm(grad) = 18.6959\n",
      "\n",
      "Geometry optimization cycle 7\n",
      "Cartesian coordinates (Angstrom)\n",
      " Atom        New coordinates             dX        dY        dZ\n",
      "   C   0.000000   0.000000  -0.002244    0.000000  0.000000 -0.000111\n",
      "   O   0.000000   0.000000   1.060599    0.000000  0.000000  0.000111\n",
      "converged SCF energy = -120.95916800488\n"
     ]
    },
    {
     "name": "stderr",
     "output_type": "stream",
     "text": [
      "libcint::rys_roots negative value in sqrt for roots 6 (j=5)\n",
      "ROOT NUMBER 1 WAS NOT FOUND FOR POLYNOMIAL OF ORDER 4\n",
      "rys_roots fails: nroots=6 x=8.25595e+36\n",
      "libcint::rys_roots negative value in sqrt for roots 6 (j=5)\n",
      "ROOT NUMBER 1 WAS NOT FOUND FOR POLYNOMIAL OF ORDER 4\n",
      "rys_roots fails: nroots=6 x=8.26405e+36\n",
      "libcint::rys_roots negative value in sqrt for roots 6 (j=5)\n",
      "ROOT NUMBER 1 WAS NOT FOUND FOR POLYNOMIAL OF ORDER 4\n",
      "rys_roots fails: nroots=6 x=8.38183e+36\n",
      "libcint::rys_roots negative value in sqrt for roots 6 (j=5)\n",
      "ROOT NUMBER 1 WAS NOT FOUND FOR POLYNOMIAL OF ORDER 4\n",
      "rys_roots fails: nroots=6 x=8.38183e+36\n",
      "libcint::rys_roots negative value in sqrt for roots 6 (j=5)\n",
      "ROOT NUMBER 1 WAS NOT FOUND FOR POLYNOMIAL OF ORDER 4\n",
      "rys_roots fails: nroots=6 x=8.26405e+36\n",
      "libcint::rys_roots negative value in sqrt for roots 6 (j=5)\n",
      "ROOT NUMBER 1 WAS NOT FOUND FOR POLYNOMIAL OF ORDER 4\n",
      "rys_roots fails: nroots=6 x=8.25595e+36\n"
     ]
    },
    {
     "name": "stdout",
     "output_type": "stream",
     "text": [
      "--------------- SCF_Scanner gradients ---------------\n",
      "         x                y                z\n",
      "0 C    -0.0000000000     0.0000000000    18.1379461863\n",
      "1 O    -0.0000000000     0.0000000000    -6.0665566744\n",
      "----------------------------------------------\n",
      "cycle 7: E = -120.959168005  dE = -2.70366e-05  norm(grad) = 19.1256\n"
     ]
    },
    {
     "ename": "RuntimeError",
     "evalue": "The trust radius got too small, check forces?",
     "output_type": "error",
     "traceback": [
      "\u001b[0;31m---------------------------------------------------------------------------\u001b[0m",
      "\u001b[0;31mRuntimeError\u001b[0m                              Traceback (most recent call last)",
      "\u001b[0;32m/tmp/ipykernel_5665/2299852825.py\u001b[0m in \u001b[0;36m<cell line: 1>\u001b[0;34m()\u001b[0m\n\u001b[0;32m----> 1\u001b[0;31m \u001b[0moptimize\u001b[0m\u001b[0;34m(\u001b[0m\u001b[0mmf1\u001b[0m\u001b[0;34m,\u001b[0m\u001b[0mtrust\u001b[0m\u001b[0;34m=\u001b[0m\u001b[0;36m.01\u001b[0m\u001b[0;34m)\u001b[0m\u001b[0;34m\u001b[0m\u001b[0;34m\u001b[0m\u001b[0m\n\u001b[0m",
      "\u001b[0;32m~/anaconda3/lib/python3.8/site-packages/pyscf/geomopt/__init__.py\u001b[0m in \u001b[0;36moptimize\u001b[0;34m(method, *args, **kwargs)\u001b[0m\n\u001b[1;32m     25\u001b[0m         \u001b[0;32mexcept\u001b[0m \u001b[0mImportError\u001b[0m \u001b[0;32mas\u001b[0m \u001b[0me2\u001b[0m\u001b[0;34m:\u001b[0m\u001b[0;34m\u001b[0m\u001b[0;34m\u001b[0m\u001b[0m\n\u001b[1;32m     26\u001b[0m             \u001b[0;32mraise\u001b[0m \u001b[0me1\u001b[0m\u001b[0;34m\u001b[0m\u001b[0;34m\u001b[0m\u001b[0m\n\u001b[0;32m---> 27\u001b[0;31m     \u001b[0;32mreturn\u001b[0m \u001b[0mgeom\u001b[0m\u001b[0;34m.\u001b[0m\u001b[0moptimize\u001b[0m\u001b[0;34m(\u001b[0m\u001b[0mmethod\u001b[0m\u001b[0;34m,\u001b[0m \u001b[0;34m*\u001b[0m\u001b[0margs\u001b[0m\u001b[0;34m,\u001b[0m \u001b[0;34m**\u001b[0m\u001b[0mkwargs\u001b[0m\u001b[0;34m)\u001b[0m\u001b[0;34m\u001b[0m\u001b[0;34m\u001b[0m\u001b[0m\n\u001b[0m",
      "\u001b[0;32m~/anaconda3/lib/python3.8/site-packages/pyscf/geomopt/berny_solver.py\u001b[0m in \u001b[0;36moptimize\u001b[0;34m(method, assert_convergence, include_ghost, callback, **kwargs)\u001b[0m\n\u001b[1;32m    185\u001b[0m         \u001b[0mnewmol\u001b[0m \u001b[0;34m=\u001b[0m \u001b[0mberny_solver\u001b[0m\u001b[0;34m.\u001b[0m\u001b[0moptimize\u001b[0m\u001b[0;34m(\u001b[0m\u001b[0mmethod\u001b[0m\u001b[0;34m,\u001b[0m \u001b[0;34m**\u001b[0m\u001b[0mconv_params\u001b[0m\u001b[0;34m)\u001b[0m\u001b[0;34m\u001b[0m\u001b[0;34m\u001b[0m\u001b[0m\n\u001b[1;32m    186\u001b[0m     '''\n\u001b[0;32m--> 187\u001b[0;31m     return kernel(method, assert_convergence, include_ghost, callback,\n\u001b[0m\u001b[1;32m    188\u001b[0m                   **kwargs)[1]\n\u001b[1;32m    189\u001b[0m \u001b[0;34m\u001b[0m\u001b[0m\n",
      "\u001b[0;32m~/anaconda3/lib/python3.8/site-packages/pyscf/geomopt/berny_solver.py\u001b[0m in \u001b[0;36mkernel\u001b[0;34m(method, assert_convergence, include_ghost, callback, **kwargs)\u001b[0m\n\u001b[1;32m    162\u001b[0m         \u001b[0;32mif\u001b[0m \u001b[0massert_convergence\u001b[0m \u001b[0;32mand\u001b[0m \u001b[0;32mnot\u001b[0m \u001b[0mg_scanner\u001b[0m\u001b[0;34m.\u001b[0m\u001b[0mconverged\u001b[0m\u001b[0;34m:\u001b[0m\u001b[0;34m\u001b[0m\u001b[0;34m\u001b[0m\u001b[0m\n\u001b[1;32m    163\u001b[0m             \u001b[0;32mraise\u001b[0m \u001b[0mRuntimeError\u001b[0m\u001b[0;34m(\u001b[0m\u001b[0;34m'Nuclear gradients of %s not converged'\u001b[0m \u001b[0;34m%\u001b[0m \u001b[0mmethod\u001b[0m\u001b[0;34m)\u001b[0m\u001b[0;34m\u001b[0m\u001b[0;34m\u001b[0m\u001b[0m\n\u001b[0;32m--> 164\u001b[0;31m         \u001b[0moptimizer\u001b[0m\u001b[0;34m.\u001b[0m\u001b[0msend\u001b[0m\u001b[0;34m(\u001b[0m\u001b[0;34m(\u001b[0m\u001b[0menergy\u001b[0m\u001b[0;34m,\u001b[0m \u001b[0mgradients\u001b[0m\u001b[0;34m)\u001b[0m\u001b[0;34m)\u001b[0m\u001b[0;34m\u001b[0m\u001b[0;34m\u001b[0m\u001b[0m\n\u001b[0m\u001b[1;32m    165\u001b[0m         \u001b[0mt1\u001b[0m \u001b[0;34m=\u001b[0m \u001b[0mlog\u001b[0m\u001b[0;34m.\u001b[0m\u001b[0mtimer\u001b[0m\u001b[0;34m(\u001b[0m\u001b[0;34m'geomoetry optimization cycle %d'\u001b[0m\u001b[0;34m%\u001b[0m\u001b[0mcycle\u001b[0m\u001b[0;34m,\u001b[0m \u001b[0;34m*\u001b[0m\u001b[0mt1\u001b[0m\u001b[0;34m)\u001b[0m\u001b[0;34m\u001b[0m\u001b[0;34m\u001b[0m\u001b[0m\n\u001b[1;32m    166\u001b[0m \u001b[0;34m\u001b[0m\u001b[0m\n",
      "\u001b[0;32m~/anaconda3/lib/python3.8/site-packages/berny/berny.py\u001b[0m in \u001b[0;36msend\u001b[0;34m(self, energy_and_gradients)\u001b[0m\n\u001b[1;32m    149\u001b[0m             \u001b[0ms\u001b[0m\u001b[0;34m.\u001b[0m\u001b[0minterpolated\u001b[0m \u001b[0;34m=\u001b[0m \u001b[0mcurrent\u001b[0m\u001b[0;34m\u001b[0m\u001b[0;34m\u001b[0m\u001b[0m\n\u001b[1;32m    150\u001b[0m         \u001b[0;32mif\u001b[0m \u001b[0ms\u001b[0m\u001b[0;34m.\u001b[0m\u001b[0mtrust\u001b[0m \u001b[0;34m<\u001b[0m \u001b[0;36m1e-6\u001b[0m\u001b[0;34m:\u001b[0m\u001b[0;34m\u001b[0m\u001b[0;34m\u001b[0m\u001b[0m\n\u001b[0;32m--> 151\u001b[0;31m             \u001b[0;32mraise\u001b[0m \u001b[0mRuntimeError\u001b[0m\u001b[0;34m(\u001b[0m\u001b[0;34m'The trust radius got too small, check forces?'\u001b[0m\u001b[0;34m)\u001b[0m\u001b[0;34m\u001b[0m\u001b[0;34m\u001b[0m\u001b[0m\n\u001b[0m\u001b[1;32m    152\u001b[0m         \u001b[0mproj\u001b[0m \u001b[0;34m=\u001b[0m \u001b[0mdot\u001b[0m\u001b[0;34m(\u001b[0m\u001b[0mB\u001b[0m\u001b[0;34m,\u001b[0m \u001b[0mB_inv\u001b[0m\u001b[0;34m)\u001b[0m\u001b[0;34m\u001b[0m\u001b[0;34m\u001b[0m\u001b[0m\n\u001b[1;32m    153\u001b[0m         \u001b[0mH_proj\u001b[0m \u001b[0;34m=\u001b[0m \u001b[0mproj\u001b[0m\u001b[0;34m.\u001b[0m\u001b[0mdot\u001b[0m\u001b[0;34m(\u001b[0m\u001b[0ms\u001b[0m\u001b[0;34m.\u001b[0m\u001b[0mH\u001b[0m\u001b[0;34m)\u001b[0m\u001b[0;34m.\u001b[0m\u001b[0mdot\u001b[0m\u001b[0;34m(\u001b[0m\u001b[0mproj\u001b[0m\u001b[0;34m)\u001b[0m \u001b[0;34m+\u001b[0m \u001b[0;36m1000\u001b[0m \u001b[0;34m*\u001b[0m \u001b[0;34m(\u001b[0m\u001b[0meye\u001b[0m\u001b[0;34m(\u001b[0m\u001b[0mlen\u001b[0m\u001b[0;34m(\u001b[0m\u001b[0ms\u001b[0m\u001b[0;34m.\u001b[0m\u001b[0mcoords\u001b[0m\u001b[0;34m)\u001b[0m\u001b[0;34m)\u001b[0m \u001b[0;34m-\u001b[0m \u001b[0mproj\u001b[0m\u001b[0;34m)\u001b[0m\u001b[0;34m\u001b[0m\u001b[0;34m\u001b[0m\u001b[0m\n",
      "\u001b[0;31mRuntimeError\u001b[0m: The trust radius got too small, check forces?"
     ]
    }
   ],
   "source": [
    "optimize(mf1,trust=.01)"
   ]
  },
  {
   "cell_type": "code",
   "execution_count": 333,
   "id": "c824e324",
   "metadata": {},
   "outputs": [
    {
     "name": "stdout",
     "output_type": "stream",
     "text": [
      "converged SCF energy = -120.958557203731\n"
     ]
    },
    {
     "data": {
      "text/plain": [
       "-120.95855720373132"
      ]
     },
     "execution_count": 333,
     "metadata": {},
     "output_type": "execute_result"
    }
   ],
   "source": [
    "mf1.scf(dm0=P1)"
   ]
  },
  {
   "cell_type": "code",
   "execution_count": null,
   "id": "c69a8eaf",
   "metadata": {},
   "outputs": [],
   "source": []
  }
 ],
 "metadata": {
  "kernelspec": {
   "display_name": "Python 3 (ipykernel)",
   "language": "python",
   "name": "python3"
  },
  "language_info": {
   "codemirror_mode": {
    "name": "ipython",
    "version": 3
   },
   "file_extension": ".py",
   "mimetype": "text/x-python",
   "name": "python",
   "nbconvert_exporter": "python",
   "pygments_lexer": "ipython3",
   "version": "3.8.13"
  }
 },
 "nbformat": 4,
 "nbformat_minor": 5
}
