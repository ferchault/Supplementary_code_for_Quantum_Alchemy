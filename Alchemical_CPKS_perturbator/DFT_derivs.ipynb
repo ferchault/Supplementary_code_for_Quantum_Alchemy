{
 "cells": [
  {
   "cell_type": "code",
   "execution_count": 1,
   "id": "b3df2367",
   "metadata": {},
   "outputs": [],
   "source": [
    "from pyscf import gto,scf\n",
    "import numpy as np\n",
    "import matplotlib.pyplot as plt\n",
    "from FcMole import *\n",
    "from AP_utils import DeltaV\n",
    "from numpy.linalg import norm\n",
    "from alch_deriv import alchemy_cphf_deriv,make_dP"
   ]
  },
  {
   "cell_type": "code",
   "execution_count": 2,
   "id": "4585547d",
   "metadata": {},
   "outputs": [],
   "source": [
    "CO=gto.M(atom=\"C 0 0 0; O 0 0 2 \",unit=\"Bohr\", basis=\"def2-qzvp\")"
   ]
  },
  {
   "cell_type": "code",
   "execution_count": 3,
   "id": "f8e47ad0",
   "metadata": {},
   "outputs": [
    {
     "name": "stdout",
     "output_type": "stream",
     "text": [
      "converged SCF energy = -113.225870191075\n"
     ]
    }
   ],
   "source": [
    "mf=scf.RKS(CO)\n",
    "mf.xc=\"PBE0\"\n",
    "mf.scf()\n",
    "P0=mf.make_rdm1()\n",
    "C0=mf.mo_coeff"
   ]
  },
  {
   "cell_type": "code",
   "execution_count": 4,
   "id": "4388e293",
   "metadata": {},
   "outputs": [
    {
     "name": "stderr",
     "output_type": "stream",
     "text": [
      "/home/giorgio/anaconda3/lib/python3.8/site-packages/pyscf/gto/mole.py:1209: UserWarning: Function mol.dumps drops attribute with_rinv_at_nucleus because it is not JSON-serializable\n",
      "  warnings.warn(msg)\n"
     ]
    },
    {
     "name": "stdout",
     "output_type": "stream",
     "text": [
      "converged SCF energy = -120.958557196315\n"
     ]
    }
   ],
   "source": [
    "CO1=FcM_like(CO,fcs=[.5,0])\n",
    "mf1=scf.RKS(CO1)\n",
    "mf1.xc=\"PBE0\"\n",
    "mf1.scf(dm0=P0)\n",
    "P1=mf1.make_rdm1()\n",
    "C1=mf1.mo_coeff"
   ]
  },
  {
   "cell_type": "code",
   "execution_count": 5,
   "id": "9c9a1e83",
   "metadata": {},
   "outputs": [],
   "source": [
    "dV=DeltaV(CO,[[0],[.1]])"
   ]
  },
  {
   "cell_type": "code",
   "execution_count": 6,
   "id": "003ddf78",
   "metadata": {},
   "outputs": [
    {
     "data": {
      "text/plain": [
       "(-1.87147721825293, -9.732687005239313)"
      ]
     },
     "execution_count": 6,
     "metadata": {},
     "output_type": "execute_result"
    }
   ],
   "source": [
    "Delt_e_elec=mf1.energy_elec()[0]-mf.energy_elec()[0]\n",
    "np.einsum(\"ij,ij\",P0,dV),Delt_e_elec  # APDFT1 predictions "
   ]
  },
  {
   "cell_type": "code",
   "execution_count": 7,
   "id": "2da5dd11",
   "metadata": {},
   "outputs": [],
   "source": [
    "from pyscf.scf import cphf\n",
    "from pyscf.scf import  _response_functions"
   ]
  },
  {
   "cell_type": "code",
   "execution_count": 9,
   "id": "a62d1c1a",
   "metadata": {},
   "outputs": [
    {
     "data": {
      "text/plain": [
       "(False, 0.3177638252603656, 25.17748281133913)"
      ]
     },
     "execution_count": 9,
     "metadata": {},
     "output_type": "execute_result"
    }
   ],
   "source": [
    "rf=mf.gen_response(mf.mo_coeff, mf.mo_occ, hermi=1)\n",
    "dm1test=np.ones_like(P0)/100\n",
    "dm1test-=np.sum(dm1test*P0)/norm(P0)**2*P0\n",
    "respfun=rf(dm1test)\n",
    "dFt=mf.get_fock(dm=P0+dm1test)-mf.get_fock(dm=P0)\n",
    "np.allclose(dFt,respfun),norm(dFt-respfun),norm(dFt)"
   ]
  },
  {
   "cell_type": "code",
   "execution_count": 10,
   "id": "dcb23f85",
   "metadata": {},
   "outputs": [],
   "source": [
    "from pyscf.hessian.rhf import gen_vind\n",
    "from pyscf.scf import cphf\n",
    "from pyscf import lib\n",
    "\n",
    "mo_energy,mo_coeff, mo_occ=mf.mo_energy,mf.mo_coeff, mf.mo_occ\n",
    "vind = gen_vind(mf, mf.mo_coeff, mf.mo_occ)"
   ]
  },
  {
   "cell_type": "code",
   "execution_count": 11,
   "id": "931d88fe",
   "metadata": {},
   "outputs": [],
   "source": [
    "mol=CO\n",
    "int_r=DeltaV(CO,[[0],[.01]])\n",
    "occidx = mo_occ > 0\n",
    "orbo = mo_coeff[:, occidx]\n",
    "orbv = mo_coeff[:,~occidx]\n",
    "charges = mol.atom_charges()\n",
    "coords  = mol.atom_coords()\n",
    "charge_center = np.einsum('i,ix->x', charges, coords) / charges.sum()\n",
    "h1 = lib.einsum('pq,pi,qj->ij', int_r, mo_coeff.conj(), orbo) #going to molecular orbitals\n",
    "#h1=h1.reshape((1,h1.shape[0],h1.shape[1]))"
   ]
  },
  {
   "cell_type": "code",
   "execution_count": 12,
   "id": "398100a9",
   "metadata": {},
   "outputs": [
    {
     "data": {
      "text/plain": [
       "(114, 7)"
      ]
     },
     "execution_count": 12,
     "metadata": {},
     "output_type": "execute_result"
    }
   ],
   "source": [
    "h1.shape"
   ]
  },
  {
   "cell_type": "code",
   "execution_count": 13,
   "id": "3d12659a",
   "metadata": {},
   "outputs": [],
   "source": [
    "#mol = mf.mol\n",
    "#mo_energy = mf.mo_energy\n",
    "#mo_coeff = mf.mo_coeff\n",
    "#mo_occ = mf.mo_occ\n",
    "#occidx = mo_occ > 0\n",
    "#orbo = mo_coeff[:, occidx]\n",
    "#orbv = mo_coeff[:,~occidx]\n",
    "#charges = mol.atom_charges()\n",
    "#coords  = mol.atom_coords()\n",
    "#charge_center = np.einsum('i,ix->x', charges, coords) / charges.sum()\n",
    "#h1 = lib.einsum('pq,pi,qj->ij', int_r, mo_coeff.conj(), orbo) #going to molecular orbitals\n",
    "#h1=h1.reshape((1,h1.shape[0],h1.shape[1]))\n",
    "#s1 = np.zeros_like(h1)\n",
    "#vind = gen_vind(mf, mo_coeff, mo_occ)\n",
    "#mo1,e1 = cphf.solve(vind, mo_energy, mo_occ, h1, s1,40, 1e-9)\n",
    "#        s1=None\n",
    "#mo1,e1 = cphf.solve(vind, mo_energy, mo_occ, h1, s1,10,1e-6)"
   ]
  },
  {
   "cell_type": "code",
   "execution_count": 14,
   "id": "77094f47",
   "metadata": {},
   "outputs": [],
   "source": [
    "mo1,e1=alchemy_cphf_deriv(mf,int_r)"
   ]
  },
  {
   "cell_type": "code",
   "execution_count": 15,
   "id": "4e686e7a",
   "metadata": {},
   "outputs": [],
   "source": [
    "dPfd=P1-P0"
   ]
  },
  {
   "cell_type": "code",
   "execution_count": 16,
   "id": "340056cb",
   "metadata": {},
   "outputs": [],
   "source": [
    "dP_ad=make_dP(mf,mo1)"
   ]
  },
  {
   "cell_type": "code",
   "execution_count": 17,
   "id": "cfec7b3c",
   "metadata": {},
   "outputs": [
    {
     "data": {
      "text/plain": [
       "(0.8689826809050786, 0.8440748688867129)"
      ]
     },
     "execution_count": 17,
     "metadata": {},
     "output_type": "execute_result"
    }
   ],
   "source": [
    "norm(dPfd),norm(dPfd-dP_ad)"
   ]
  },
  {
   "cell_type": "code",
   "execution_count": 18,
   "id": "af46ee3d",
   "metadata": {},
   "outputs": [],
   "source": [
    "from AP_class import APDFT_perturbator as AP"
   ]
  },
  {
   "cell_type": "code",
   "execution_count": 19,
   "id": "68dd16bc",
   "metadata": {},
   "outputs": [],
   "source": [
    "ap=AP(mf,sites=[0])\n",
    "ap.build_all()"
   ]
  },
  {
   "cell_type": "code",
   "execution_count": 20,
   "id": "f9f8206d",
   "metadata": {},
   "outputs": [
    {
     "data": {
      "text/plain": [
       "(-120.58325628234005, -120.95855719631467)"
      ]
     },
     "execution_count": 20,
     "metadata": {},
     "output_type": "execute_result"
    }
   ],
   "source": [
    "ap.APDFT1([.5]),mf1.e_tot"
   ]
  },
  {
   "cell_type": "code",
   "execution_count": 21,
   "id": "2a242ac8",
   "metadata": {},
   "outputs": [
    {
     "data": {
      "text/plain": [
       "(-120.95525593774053, -120.95855719631467)"
      ]
     },
     "execution_count": 21,
     "metadata": {},
     "output_type": "execute_result"
    }
   ],
   "source": [
    "ap.APDFT2([.5]),mf1.e_tot"
   ]
  },
  {
   "cell_type": "code",
   "execution_count": 22,
   "id": "f36f2677",
   "metadata": {},
   "outputs": [
    {
     "data": {
      "text/plain": [
       "(-120.95909018384283, -120.95855719631467)"
      ]
     },
     "execution_count": 22,
     "metadata": {},
     "output_type": "execute_result"
    }
   ],
   "source": [
    "ap.APDFT3([.5]),mf1.e_tot"
   ]
  },
  {
   "cell_type": "code",
   "execution_count": 23,
   "id": "d9a5cfe6",
   "metadata": {},
   "outputs": [
    {
     "name": "stderr",
     "output_type": "stream",
     "text": [
      "libcint::rys_roots negative value in sqrt for roots 6 (j=5)\n",
      "ROOT NUMBER 1 WAS NOT FOUND FOR POLYNOMIAL OF ORDER 4\n",
      "rys_roots fails: nroots=6 x=8.25595e+36\n",
      "libcint::rys_roots negative value in sqrt for roots 6 (j=5)\n",
      "ROOT NUMBER 1 WAS NOT FOUND FOR POLYNOMIAL OF ORDER 4\n",
      "rys_roots fails: nroots=6 x=8.26405e+36\n",
      "libcint::rys_roots negative value in sqrt for roots 6 (j=5)\n",
      "ROOT NUMBER 1 WAS NOT FOUND FOR POLYNOMIAL OF ORDER 4\n",
      "rys_roots fails: nroots=6 x=8.38183e+36\n",
      "libcint::rys_roots negative value in sqrt for roots 6 (j=5)\n",
      "ROOT NUMBER 1 WAS NOT FOUND FOR POLYNOMIAL OF ORDER 4\n",
      "rys_roots fails: nroots=6 x=8.38183e+36\n",
      "libcint::rys_roots negative value in sqrt for roots 6 (j=5)\n",
      "ROOT NUMBER 1 WAS NOT FOUND FOR POLYNOMIAL OF ORDER 4\n",
      "rys_roots fails: nroots=6 x=8.26405e+36\n",
      "libcint::rys_roots negative value in sqrt for roots 6 (j=5)\n",
      "ROOT NUMBER 1 WAS NOT FOUND FOR POLYNOMIAL OF ORDER 4\n",
      "rys_roots fails: nroots=6 x=8.25595e+36\n",
      "libcint::rys_roots negative value in sqrt for roots 6 (j=5)\n",
      "ROOT NUMBER 1 WAS NOT FOUND FOR POLYNOMIAL OF ORDER 4\n",
      "rys_roots fails: nroots=6 x=8.25595e+36\n",
      "libcint::rys_roots negative value in sqrt for roots 6 (j=5)\n",
      "ROOT NUMBER 1 WAS NOT FOUND FOR POLYNOMIAL OF ORDER 4\n",
      "rys_roots fails: nroots=6 x=8.26405e+36\n",
      "libcint::rys_roots negative value in sqrt for roots 6 (j=5)\n",
      "ROOT NUMBER 1 WAS NOT FOUND FOR POLYNOMIAL OF ORDER 4\n",
      "rys_roots fails: nroots=6 x=8.38183e+36\n",
      "libcint::rys_roots negative value in sqrt for roots 6 (j=5)\n",
      "ROOT NUMBER 1 WAS NOT FOUND FOR POLYNOMIAL OF ORDER 4\n",
      "rys_roots fails: nroots=6 x=8.38183e+36\n",
      "libcint::rys_roots negative value in sqrt for roots 6 (j=5)\n",
      "ROOT NUMBER 1 WAS NOT FOUND FOR POLYNOMIAL OF ORDER 4\n",
      "rys_roots fails: nroots=6 x=8.26405e+36\n",
      "libcint::rys_roots negative value in sqrt for roots 6 (j=5)\n",
      "ROOT NUMBER 1 WAS NOT FOUND FOR POLYNOMIAL OF ORDER 4\n",
      "rys_roots fails: nroots=6 x=8.25595e+36\n"
     ]
    },
    {
     "data": {
      "text/plain": [
       "array([[ 2.52953643e-15,  1.18568792e-15, -1.30949875e-01],\n",
       "       [-2.80535782e-15, -2.15354674e-15,  1.22304874e-01]])"
      ]
     },
     "execution_count": 23,
     "metadata": {},
     "output_type": "execute_result"
    }
   ],
   "source": [
    "ap.af(0)/2"
   ]
  },
  {
   "cell_type": "code",
   "execution_count": 24,
   "id": "c4dd4c9e",
   "metadata": {},
   "outputs": [],
   "source": [
    "from pyscf.grad import rks\n"
   ]
  },
  {
   "cell_type": "code",
   "execution_count": 25,
   "id": "f8cbb40a",
   "metadata": {},
   "outputs": [
    {
     "name": "stderr",
     "output_type": "stream",
     "text": [
      "libcint::rys_roots negative value in sqrt for roots 6 (j=5)\n",
      "ROOT NUMBER 1 WAS NOT FOUND FOR POLYNOMIAL OF ORDER 4\n",
      "rys_roots fails: nroots=6 x=8.25595e+36\n",
      "libcint::rys_roots negative value in sqrt for roots 6 (j=5)\n",
      "ROOT NUMBER 1 WAS NOT FOUND FOR POLYNOMIAL OF ORDER 4\n",
      "rys_roots fails: nroots=6 x=8.26405e+36\n",
      "libcint::rys_roots negative value in sqrt for roots 6 (j=5)\n",
      "ROOT NUMBER 1 WAS NOT FOUND FOR POLYNOMIAL OF ORDER 4\n",
      "rys_roots fails: nroots=6 x=8.38183e+36\n",
      "libcint::rys_roots negative value in sqrt for roots 6 (j=5)\n",
      "ROOT NUMBER 1 WAS NOT FOUND FOR POLYNOMIAL OF ORDER 4\n",
      "rys_roots fails: nroots=6 x=8.38183e+36\n",
      "libcint::rys_roots negative value in sqrt for roots 6 (j=5)\n",
      "ROOT NUMBER 1 WAS NOT FOUND FOR POLYNOMIAL OF ORDER 4\n",
      "rys_roots fails: nroots=6 x=8.26405e+36\n",
      "libcint::rys_roots negative value in sqrt for roots 6 (j=5)\n",
      "ROOT NUMBER 1 WAS NOT FOUND FOR POLYNOMIAL OF ORDER 4\n",
      "rys_roots fails: nroots=6 x=8.25595e+36\n"
     ]
    },
    {
     "name": "stdout",
     "output_type": "stream",
     "text": [
      "--------------- RKS gradients ---------------\n",
      "         x                y                z\n",
      "0 C     0.0000000000     0.0000000000     0.0798953447\n",
      "1 O    -0.0000000000    -0.0000000000    -0.0798993333\n",
      "----------------------------------------------\n"
     ]
    },
    {
     "name": "stderr",
     "output_type": "stream",
     "text": [
      "libcint::rys_roots negative value in sqrt for roots 6 (j=5)\n",
      "ROOT NUMBER 1 WAS NOT FOUND FOR POLYNOMIAL OF ORDER 4\n",
      "rys_roots fails: nroots=6 x=8.25595e+36\n",
      "libcint::rys_roots negative value in sqrt for roots 6 (j=5)\n",
      "ROOT NUMBER 1 WAS NOT FOUND FOR POLYNOMIAL OF ORDER 4\n",
      "rys_roots fails: nroots=6 x=8.26405e+36\n",
      "libcint::rys_roots negative value in sqrt for roots 6 (j=5)\n",
      "ROOT NUMBER 1 WAS NOT FOUND FOR POLYNOMIAL OF ORDER 4\n",
      "rys_roots fails: nroots=6 x=8.38183e+36\n",
      "libcint::rys_roots negative value in sqrt for roots 6 (j=5)\n",
      "ROOT NUMBER 1 WAS NOT FOUND FOR POLYNOMIAL OF ORDER 4\n",
      "rys_roots fails: nroots=6 x=8.38183e+36\n",
      "libcint::rys_roots negative value in sqrt for roots 6 (j=5)\n",
      "ROOT NUMBER 1 WAS NOT FOUND FOR POLYNOMIAL OF ORDER 4\n",
      "rys_roots fails: nroots=6 x=8.26405e+36\n",
      "libcint::rys_roots negative value in sqrt for roots 6 (j=5)\n",
      "ROOT NUMBER 1 WAS NOT FOUND FOR POLYNOMIAL OF ORDER 4\n",
      "rys_roots fails: nroots=6 x=8.25595e+36\n"
     ]
    },
    {
     "name": "stdout",
     "output_type": "stream",
     "text": [
      "--------------- RKS gradients ---------------\n",
      "         x                y                z\n",
      "0 C     0.0000000000     0.0000000000     0.1968481851\n",
      "1 O    -0.0000000000    -0.0000000000    -0.1968551477\n",
      "----------------------------------------------\n"
     ]
    },
    {
     "data": {
      "text/plain": [
       "array([[ 6.63219236e-15,  3.79746054e-15, -1.16952840e-01],\n",
       "       [-6.27847118e-15, -3.44705752e-15,  1.16955814e-01]])"
      ]
     },
     "execution_count": 25,
     "metadata": {},
     "output_type": "execute_result"
    }
   ],
   "source": [
    "mf1.Gradients().grad()-mf.Gradients().grad()"
   ]
  },
  {
   "cell_type": "code",
   "execution_count": 26,
   "id": "3f055be2",
   "metadata": {},
   "outputs": [],
   "source": [
    "from pyscf.geomopt import optimize"
   ]
  },
  {
   "cell_type": "code",
   "execution_count": 30,
   "id": "3b076f01",
   "metadata": {},
   "outputs": [
    {
     "name": "stdout",
     "output_type": "stream",
     "text": [
      "\n",
      "Geometry optimization cycle 1\n",
      "Cartesian coordinates (Angstrom)\n",
      " Atom        New coordinates             dX        dY        dZ\n",
      "   C   0.000000   0.000000   0.000000    0.000000  0.000000  0.000000\n",
      "   O   0.000000   0.000000   1.058354    0.000000  0.000000  0.000000\n",
      "converged SCF energy = -120.958557196612\n"
     ]
    },
    {
     "name": "stderr",
     "output_type": "stream",
     "text": [
      "libcint::rys_roots negative value in sqrt for roots 6 (j=5)\n",
      "ROOT NUMBER 1 WAS NOT FOUND FOR POLYNOMIAL OF ORDER 4\n",
      "rys_roots fails: nroots=6 x=8.25595e+36\n",
      "libcint::rys_roots negative value in sqrt for roots 6 (j=5)\n",
      "ROOT NUMBER 1 WAS NOT FOUND FOR POLYNOMIAL OF ORDER 4\n",
      "rys_roots fails: nroots=6 x=8.26405e+36\n",
      "libcint::rys_roots negative value in sqrt for roots 6 (j=5)\n",
      "ROOT NUMBER 1 WAS NOT FOUND FOR POLYNOMIAL OF ORDER 4\n",
      "rys_roots fails: nroots=6 x=8.38183e+36\n",
      "libcint::rys_roots negative value in sqrt for roots 6 (j=5)\n",
      "ROOT NUMBER 1 WAS NOT FOUND FOR POLYNOMIAL OF ORDER 4\n",
      "rys_roots fails: nroots=6 x=8.38183e+36\n",
      "libcint::rys_roots negative value in sqrt for roots 6 (j=5)\n",
      "ROOT NUMBER 1 WAS NOT FOUND FOR POLYNOMIAL OF ORDER 4\n",
      "rys_roots fails: nroots=6 x=8.26405e+36\n",
      "libcint::rys_roots negative value in sqrt for roots 6 (j=5)\n",
      "ROOT NUMBER 1 WAS NOT FOUND FOR POLYNOMIAL OF ORDER 4\n",
      "rys_roots fails: nroots=6 x=8.25595e+36\n"
     ]
    },
    {
     "name": "stdout",
     "output_type": "stream",
     "text": [
      "--------------- SCF_Scanner gradients ---------------\n",
      "         x                y                z\n",
      "0 C     0.0000000000     0.0000000000     0.0799016873\n",
      "1 O     0.0000000000     0.0000000000   -28.5380588308\n",
      "----------------------------------------------\n",
      "cycle 1: E = -120.958557197  dE = -120.959  norm(grad) = 28.5382\n",
      "\n",
      "Geometry optimization cycle 2\n",
      "Cartesian coordinates (Angstrom)\n",
      " Atom        New coordinates             dX        dY        dZ\n",
      "   C   0.000000   0.000000  -0.079377    0.000000  0.000000 -0.079377\n",
      "   O   0.000000   0.000000   1.137731    0.000000  0.000000  0.079377\n",
      "\n",
      "WARN: Large deviations found between the input molecule and the molecule from chkfile\n",
      "Initial guess density matrix may have large error.\n",
      "\n"
     ]
    },
    {
     "name": "stderr",
     "output_type": "stream",
     "text": [
      "libcint::rys_roots negative value in sqrt for roots 6 (j=5)\n",
      "ROOT NUMBER 1 WAS NOT FOUND FOR POLYNOMIAL OF ORDER 4\n",
      "rys_roots fails: nroots=6 x=1.0744e+37\n",
      "libcint::rys_roots negative value in sqrt for roots 6 (j=5)\n",
      "ROOT NUMBER 1 WAS NOT FOUND FOR POLYNOMIAL OF ORDER 4\n",
      "rys_roots fails: nroots=6 x=8.37084e+36\n"
     ]
    },
    {
     "name": "stdout",
     "output_type": "stream",
     "text": [
      "converged SCF energy = -120.923186379274\n"
     ]
    },
    {
     "name": "stderr",
     "output_type": "stream",
     "text": [
      "libcint::rys_roots negative value in sqrt for roots 6 (j=5)\n",
      "ROOT NUMBER 1 WAS NOT FOUND FOR POLYNOMIAL OF ORDER 4\n",
      "rys_roots fails: nroots=6 x=8.46374e+36\n",
      "libcint::rys_roots negative value in sqrt for roots 6 (j=5)\n",
      "ROOT NUMBER 1 WAS NOT FOUND FOR POLYNOMIAL OF ORDER 4\n",
      "rys_roots fails: nroots=6 x=1.30434e+37\n",
      "libcint::rys_roots negative value in sqrt for roots 6 (j=5)\n",
      "ROOT NUMBER 1 WAS NOT FOUND FOR POLYNOMIAL OF ORDER 4\n",
      "rys_roots fails: nroots=6 x=7.93534e+36\n",
      "libcint::rys_roots negative value in sqrt for roots 6 (j=5)\n",
      "ROOT NUMBER 1 WAS NOT FOUND FOR POLYNOMIAL OF ORDER 4\n",
      "rys_roots fails: nroots=6 x=1.0744e+37\n",
      "libcint::rys_roots negative value in sqrt for roots 6 (j=5)\n",
      "ROOT NUMBER 1 WAS NOT FOUND FOR POLYNOMIAL OF ORDER 4\n",
      "rys_roots fails: nroots=6 x=7.14469e+36\n",
      "libcint::rys_roots negative value in sqrt for roots 6 (j=5)\n",
      "ROOT NUMBER 1 WAS NOT FOUND FOR POLYNOMIAL OF ORDER 4\n",
      "rys_roots fails: nroots=6 x=4.4325e+36\n",
      "libcint::rys_roots negative value in sqrt for roots 6 (j=5)\n",
      "ROOT NUMBER 1 WAS NOT FOUND FOR POLYNOMIAL OF ORDER 4\n",
      "rys_roots fails: nroots=6 x=5.96505e+36\n",
      "libcint::rys_roots negative value in sqrt for roots 6 (j=5)\n",
      "ROOT NUMBER 1 WAS NOT FOUND FOR POLYNOMIAL OF ORDER 4\n",
      "rys_roots fails: nroots=6 x=1.07017e+37\n",
      "libcint::rys_roots negative value in sqrt for roots 6 (j=5)\n",
      "ROOT NUMBER 1 WAS NOT FOUND FOR POLYNOMIAL OF ORDER 4\n",
      "rys_roots fails: nroots=6 x=5.52355e+36\n",
      "libcint::rys_roots negative value in sqrt for roots 6 (j=5)\n",
      "ROOT NUMBER 1 WAS NOT FOUND FOR POLYNOMIAL OF ORDER 4\n",
      "rys_roots fails: nroots=6 x=9.53445e+36\n",
      "libcint::rys_roots negative value in sqrt for roots 6 (j=5)\n",
      "ROOT NUMBER 1 WAS NOT FOUND FOR POLYNOMIAL OF ORDER 4\n",
      "rys_roots fails: nroots=6 x=6.85918e+36\n",
      "libcint::rys_roots negative value in sqrt for roots 6 (j=5)\n",
      "ROOT NUMBER 1 WAS NOT FOUND FOR POLYNOMIAL OF ORDER 4\n",
      "rys_roots fails: nroots=6 x=8.37084e+36\n",
      "libcint::rys_roots negative value in sqrt for roots 6 (j=5)\n",
      "ROOT NUMBER 1 WAS NOT FOUND FOR POLYNOMIAL OF ORDER 4\n",
      "rys_roots fails: nroots=6 x=8.11895e+36\n",
      "libcint::rys_roots negative value in sqrt for roots 6 (j=5)\n",
      "ROOT NUMBER 1 WAS NOT FOUND FOR POLYNOMIAL OF ORDER 4\n",
      "rys_roots fails: nroots=6 x=1.30434e+37\n",
      "libcint::rys_roots negative value in sqrt for roots 6 (j=5)\n",
      "ROOT NUMBER 1 WAS NOT FOUND FOR POLYNOMIAL OF ORDER 4\n",
      "rys_roots fails: nroots=6 x=7.93534e+36\n",
      "libcint::rys_roots negative value in sqrt for roots 6 (j=5)\n",
      "ROOT NUMBER 1 WAS NOT FOUND FOR POLYNOMIAL OF ORDER 4\n",
      "rys_roots fails: nroots=6 x=1.0744e+37\n",
      "libcint::rys_roots negative value in sqrt for roots 6 (j=5)\n",
      "ROOT NUMBER 1 WAS NOT FOUND FOR POLYNOMIAL OF ORDER 4\n",
      "rys_roots fails: nroots=6 x=7.14469e+36\n",
      "libcint::rys_roots negative value in sqrt for roots 6 (j=5)\n",
      "ROOT NUMBER 1 WAS NOT FOUND FOR POLYNOMIAL OF ORDER 4\n",
      "rys_roots fails: nroots=6 x=4.4325e+36\n",
      "libcint::rys_roots negative value in sqrt for roots 6 (j=5)\n",
      "ROOT NUMBER 1 WAS NOT FOUND FOR POLYNOMIAL OF ORDER 4\n",
      "rys_roots fails: nroots=6 x=5.96505e+36\n",
      "libcint::rys_roots negative value in sqrt for roots 6 (j=5)\n",
      "ROOT NUMBER 1 WAS NOT FOUND FOR POLYNOMIAL OF ORDER 4\n",
      "rys_roots fails: nroots=6 x=8.11895e+36\n",
      "libcint::rys_roots negative value in sqrt for roots 6 (j=5)\n",
      "ROOT NUMBER 1 WAS NOT FOUND FOR POLYNOMIAL OF ORDER 4\n",
      "rys_roots fails: nroots=6 x=8.46374e+36\n",
      "libcint::rys_roots negative value in sqrt for roots 6 (j=5)\n",
      "ROOT NUMBER 1 WAS NOT FOUND FOR POLYNOMIAL OF ORDER 4\n",
      "rys_roots fails: nroots=6 x=1.07017e+37\n",
      "libcint::rys_roots negative value in sqrt for roots 6 (j=5)\n",
      "ROOT NUMBER 1 WAS NOT FOUND FOR POLYNOMIAL OF ORDER 4\n",
      "rys_roots fails: nroots=6 x=5.52355e+36\n",
      "libcint::rys_roots negative value in sqrt for roots 6 (j=5)\n",
      "ROOT NUMBER 1 WAS NOT FOUND FOR POLYNOMIAL OF ORDER 4\n",
      "rys_roots fails: nroots=6 x=9.53445e+36\n",
      "libcint::rys_roots negative value in sqrt for roots 6 (j=5)\n",
      "ROOT NUMBER 1 WAS NOT FOUND FOR POLYNOMIAL OF ORDER 4\n",
      "rys_roots fails: nroots=6 x=6.85918e+36\n",
      "libcint::rys_roots negative value in sqrt for roots 6 (j=5)\n",
      "ROOT NUMBER 1 WAS NOT FOUND FOR POLYNOMIAL OF ORDER 4\n",
      "rys_roots fails: nroots=6 x=8.37084e+36\n"
     ]
    },
    {
     "name": "stdout",
     "output_type": "stream",
     "text": [
      "--------------- SCF_Scanner gradients ---------------\n",
      "         x                y                z\n",
      "0 C    -0.0000000000     0.0000000000   168.6572428562\n",
      "1 O    -0.0000000000     0.0000000000   186.0672980866\n",
      "----------------------------------------------\n",
      "cycle 2: E = -120.923186379  dE = 0.0353708  norm(grad) = 251.13\n",
      "\n",
      "Geometry optimization cycle 3\n",
      "Cartesian coordinates (Angstrom)\n",
      " Atom        New coordinates             dX        dY        dZ\n",
      "   C   0.000000   0.000000  -0.049304    0.000000  0.000000  0.030073\n",
      "   O   0.000000   0.000000   1.107658    0.000000  0.000000 -0.030073\n",
      "\n",
      "WARN: Large deviations found between the input molecule and the molecule from chkfile\n",
      "Initial guess density matrix may have large error.\n",
      "\n"
     ]
    },
    {
     "ename": "KeyboardInterrupt",
     "evalue": "",
     "output_type": "error",
     "traceback": [
      "\u001b[0;31m---------------------------------------------------------------------------\u001b[0m",
      "\u001b[0;31mKeyboardInterrupt\u001b[0m                         Traceback (most recent call last)",
      "\u001b[0;32m/tmp/ipykernel_11005/4130025547.py\u001b[0m in \u001b[0;36m<cell line: 1>\u001b[0;34m()\u001b[0m\n\u001b[0;32m----> 1\u001b[0;31m \u001b[0moptimize\u001b[0m\u001b[0;34m(\u001b[0m\u001b[0mmf1\u001b[0m\u001b[0;34m,\u001b[0m\u001b[0mtrustradius\u001b[0m\u001b[0;34m=\u001b[0m\u001b[0;36m1e-10\u001b[0m\u001b[0;34m)\u001b[0m\u001b[0;34m\u001b[0m\u001b[0;34m\u001b[0m\u001b[0m\n\u001b[0m",
      "\u001b[0;32m~/anaconda3/lib/python3.8/site-packages/pyscf/geomopt/__init__.py\u001b[0m in \u001b[0;36moptimize\u001b[0;34m(method, *args, **kwargs)\u001b[0m\n\u001b[1;32m     25\u001b[0m         \u001b[0;32mexcept\u001b[0m \u001b[0mImportError\u001b[0m \u001b[0;32mas\u001b[0m \u001b[0me2\u001b[0m\u001b[0;34m:\u001b[0m\u001b[0;34m\u001b[0m\u001b[0;34m\u001b[0m\u001b[0m\n\u001b[1;32m     26\u001b[0m             \u001b[0;32mraise\u001b[0m \u001b[0me1\u001b[0m\u001b[0;34m\u001b[0m\u001b[0;34m\u001b[0m\u001b[0m\n\u001b[0;32m---> 27\u001b[0;31m     \u001b[0;32mreturn\u001b[0m \u001b[0mgeom\u001b[0m\u001b[0;34m.\u001b[0m\u001b[0moptimize\u001b[0m\u001b[0;34m(\u001b[0m\u001b[0mmethod\u001b[0m\u001b[0;34m,\u001b[0m \u001b[0;34m*\u001b[0m\u001b[0margs\u001b[0m\u001b[0;34m,\u001b[0m \u001b[0;34m**\u001b[0m\u001b[0mkwargs\u001b[0m\u001b[0;34m)\u001b[0m\u001b[0;34m\u001b[0m\u001b[0;34m\u001b[0m\u001b[0m\n\u001b[0m",
      "\u001b[0;32m~/anaconda3/lib/python3.8/site-packages/pyscf/geomopt/berny_solver.py\u001b[0m in \u001b[0;36moptimize\u001b[0;34m(method, assert_convergence, include_ghost, callback, **kwargs)\u001b[0m\n\u001b[1;32m    185\u001b[0m         \u001b[0mnewmol\u001b[0m \u001b[0;34m=\u001b[0m \u001b[0mberny_solver\u001b[0m\u001b[0;34m.\u001b[0m\u001b[0moptimize\u001b[0m\u001b[0;34m(\u001b[0m\u001b[0mmethod\u001b[0m\u001b[0;34m,\u001b[0m \u001b[0;34m**\u001b[0m\u001b[0mconv_params\u001b[0m\u001b[0;34m)\u001b[0m\u001b[0;34m\u001b[0m\u001b[0;34m\u001b[0m\u001b[0m\n\u001b[1;32m    186\u001b[0m     '''\n\u001b[0;32m--> 187\u001b[0;31m     return kernel(method, assert_convergence, include_ghost, callback,\n\u001b[0m\u001b[1;32m    188\u001b[0m                   **kwargs)[1]\n\u001b[1;32m    189\u001b[0m \u001b[0;34m\u001b[0m\u001b[0m\n",
      "\u001b[0;32m~/anaconda3/lib/python3.8/site-packages/pyscf/geomopt/berny_solver.py\u001b[0m in \u001b[0;36mkernel\u001b[0;34m(method, assert_convergence, include_ghost, callback, **kwargs)\u001b[0m\n\u001b[1;32m    153\u001b[0m \u001b[0;34m\u001b[0m\u001b[0m\n\u001b[1;32m    154\u001b[0m         \u001b[0mmol\u001b[0m\u001b[0;34m.\u001b[0m\u001b[0mset_geom_\u001b[0m\u001b[0;34m(\u001b[0m\u001b[0m_geom_to_atom\u001b[0m\u001b[0;34m(\u001b[0m\u001b[0mmol\u001b[0m\u001b[0;34m,\u001b[0m \u001b[0mgeom\u001b[0m\u001b[0;34m,\u001b[0m \u001b[0minclude_ghost\u001b[0m\u001b[0;34m)\u001b[0m\u001b[0;34m,\u001b[0m \u001b[0munit\u001b[0m\u001b[0;34m=\u001b[0m\u001b[0;34m'Bohr'\u001b[0m\u001b[0;34m)\u001b[0m\u001b[0;34m\u001b[0m\u001b[0;34m\u001b[0m\u001b[0m\n\u001b[0;32m--> 155\u001b[0;31m         \u001b[0menergy\u001b[0m\u001b[0;34m,\u001b[0m \u001b[0mgradients\u001b[0m \u001b[0;34m=\u001b[0m \u001b[0mg_scanner\u001b[0m\u001b[0;34m(\u001b[0m\u001b[0mmol\u001b[0m\u001b[0;34m)\u001b[0m\u001b[0;34m\u001b[0m\u001b[0;34m\u001b[0m\u001b[0m\n\u001b[0m\u001b[1;32m    156\u001b[0m         log.note('cycle %d: E = %.12g  dE = %g  norm(grad) = %g', cycle+1,\n\u001b[1;32m    157\u001b[0m                  energy, energy - e_last, numpy.linalg.norm(gradients))\n",
      "\u001b[0;32m~/anaconda3/lib/python3.8/site-packages/pyscf/grad/rhf.py\u001b[0m in \u001b[0;36m__call__\u001b[0;34m(self, mol_or_geom, **kwargs)\u001b[0m\n\u001b[1;32m    257\u001b[0m \u001b[0;34m\u001b[0m\u001b[0m\n\u001b[1;32m    258\u001b[0m             \u001b[0mmf_scanner\u001b[0m \u001b[0;34m=\u001b[0m \u001b[0mself\u001b[0m\u001b[0;34m.\u001b[0m\u001b[0mbase\u001b[0m\u001b[0;34m\u001b[0m\u001b[0;34m\u001b[0m\u001b[0m\n\u001b[0;32m--> 259\u001b[0;31m             \u001b[0me_tot\u001b[0m \u001b[0;34m=\u001b[0m \u001b[0mmf_scanner\u001b[0m\u001b[0;34m(\u001b[0m\u001b[0mmol\u001b[0m\u001b[0;34m)\u001b[0m\u001b[0;34m\u001b[0m\u001b[0;34m\u001b[0m\u001b[0m\n\u001b[0m\u001b[1;32m    260\u001b[0m             \u001b[0mself\u001b[0m\u001b[0;34m.\u001b[0m\u001b[0mmol\u001b[0m \u001b[0;34m=\u001b[0m \u001b[0mmol\u001b[0m\u001b[0;34m\u001b[0m\u001b[0;34m\u001b[0m\u001b[0m\n\u001b[1;32m    261\u001b[0m \u001b[0;34m\u001b[0m\u001b[0m\n",
      "\u001b[0;32m~/anaconda3/lib/python3.8/site-packages/pyscf/scf/hf.py\u001b[0m in \u001b[0;36m__call__\u001b[0;34m(self, mol_or_geom, **kwargs)\u001b[0m\n\u001b[1;32m   1343\u001b[0m                     \u001b[0mdm0\u001b[0m \u001b[0;34m=\u001b[0m \u001b[0;32mNone\u001b[0m\u001b[0;34m\u001b[0m\u001b[0;34m\u001b[0m\u001b[0m\n\u001b[1;32m   1344\u001b[0m             \u001b[0mself\u001b[0m\u001b[0;34m.\u001b[0m\u001b[0mmo_coeff\u001b[0m \u001b[0;34m=\u001b[0m \u001b[0;32mNone\u001b[0m  \u001b[0;31m# To avoid last mo_coeff being used by SOSCF\u001b[0m\u001b[0;34m\u001b[0m\u001b[0;34m\u001b[0m\u001b[0m\n\u001b[0;32m-> 1345\u001b[0;31m             \u001b[0me_tot\u001b[0m \u001b[0;34m=\u001b[0m \u001b[0mself\u001b[0m\u001b[0;34m.\u001b[0m\u001b[0mkernel\u001b[0m\u001b[0;34m(\u001b[0m\u001b[0mdm0\u001b[0m\u001b[0;34m=\u001b[0m\u001b[0mdm0\u001b[0m\u001b[0;34m,\u001b[0m \u001b[0;34m**\u001b[0m\u001b[0mkwargs\u001b[0m\u001b[0;34m)\u001b[0m\u001b[0;34m\u001b[0m\u001b[0;34m\u001b[0m\u001b[0m\n\u001b[0m\u001b[1;32m   1346\u001b[0m             \u001b[0;32mreturn\u001b[0m \u001b[0me_tot\u001b[0m\u001b[0;34m\u001b[0m\u001b[0;34m\u001b[0m\u001b[0m\n\u001b[1;32m   1347\u001b[0m \u001b[0;34m\u001b[0m\u001b[0m\n",
      "\u001b[0;32m~/anaconda3/lib/python3.8/site-packages/pyscf/scf/hf.py\u001b[0m in \u001b[0;36mkernel\u001b[0;34m(self, dm0, **kwargs)\u001b[0m\n",
      "\u001b[0;32m~/anaconda3/lib/python3.8/site-packages/pyscf/scf/hf.py\u001b[0m in \u001b[0;36mscf\u001b[0;34m(self, dm0, **kwargs)\u001b[0m\n\u001b[1;32m   1695\u001b[0m             \u001b[0mself\u001b[0m\u001b[0;34m.\u001b[0m\u001b[0mconverged\u001b[0m\u001b[0;34m,\u001b[0m \u001b[0mself\u001b[0m\u001b[0;34m.\u001b[0m\u001b[0me_tot\u001b[0m\u001b[0;34m,\u001b[0m\u001b[0;31m \u001b[0m\u001b[0;31m\\\u001b[0m\u001b[0;34m\u001b[0m\u001b[0;34m\u001b[0m\u001b[0m\n\u001b[1;32m   1696\u001b[0m                     \u001b[0mself\u001b[0m\u001b[0;34m.\u001b[0m\u001b[0mmo_energy\u001b[0m\u001b[0;34m,\u001b[0m \u001b[0mself\u001b[0m\u001b[0;34m.\u001b[0m\u001b[0mmo_coeff\u001b[0m\u001b[0;34m,\u001b[0m \u001b[0mself\u001b[0m\u001b[0;34m.\u001b[0m\u001b[0mmo_occ\u001b[0m \u001b[0;34m=\u001b[0m\u001b[0;31m \u001b[0m\u001b[0;31m\\\u001b[0m\u001b[0;34m\u001b[0m\u001b[0;34m\u001b[0m\u001b[0m\n\u001b[0;32m-> 1697\u001b[0;31m                     kernel(self, self.conv_tol, self.conv_tol_grad,\n\u001b[0m\u001b[1;32m   1698\u001b[0m                            \u001b[0mdm0\u001b[0m\u001b[0;34m=\u001b[0m\u001b[0mdm0\u001b[0m\u001b[0;34m,\u001b[0m \u001b[0mcallback\u001b[0m\u001b[0;34m=\u001b[0m\u001b[0mself\u001b[0m\u001b[0;34m.\u001b[0m\u001b[0mcallback\u001b[0m\u001b[0;34m,\u001b[0m\u001b[0;34m\u001b[0m\u001b[0;34m\u001b[0m\u001b[0m\n\u001b[1;32m   1699\u001b[0m                            conv_check=self.conv_check, **kwargs)\n",
      "\u001b[0;32m~/anaconda3/lib/python3.8/site-packages/pyscf/scf/hf.py\u001b[0m in \u001b[0;36mkernel\u001b[0;34m(mf, conv_tol, conv_tol_grad, dump_chk, dm0, callback, conv_check, **kwargs)\u001b[0m\n\u001b[1;32m    182\u001b[0m         \u001b[0;31m# attach mo_coeff and mo_occ to dm to improve DFT get_veff efficiency\u001b[0m\u001b[0;34m\u001b[0m\u001b[0;34m\u001b[0m\u001b[0;34m\u001b[0m\u001b[0m\n\u001b[1;32m    183\u001b[0m         \u001b[0mdm\u001b[0m \u001b[0;34m=\u001b[0m \u001b[0mlib\u001b[0m\u001b[0;34m.\u001b[0m\u001b[0mtag_array\u001b[0m\u001b[0;34m(\u001b[0m\u001b[0mdm\u001b[0m\u001b[0;34m,\u001b[0m \u001b[0mmo_coeff\u001b[0m\u001b[0;34m=\u001b[0m\u001b[0mmo_coeff\u001b[0m\u001b[0;34m,\u001b[0m \u001b[0mmo_occ\u001b[0m\u001b[0;34m=\u001b[0m\u001b[0mmo_occ\u001b[0m\u001b[0;34m)\u001b[0m\u001b[0;34m\u001b[0m\u001b[0;34m\u001b[0m\u001b[0m\n\u001b[0;32m--> 184\u001b[0;31m         \u001b[0mvhf\u001b[0m \u001b[0;34m=\u001b[0m \u001b[0mmf\u001b[0m\u001b[0;34m.\u001b[0m\u001b[0mget_veff\u001b[0m\u001b[0;34m(\u001b[0m\u001b[0mmol\u001b[0m\u001b[0;34m,\u001b[0m \u001b[0mdm\u001b[0m\u001b[0;34m,\u001b[0m \u001b[0mdm_last\u001b[0m\u001b[0;34m,\u001b[0m \u001b[0mvhf\u001b[0m\u001b[0;34m)\u001b[0m\u001b[0;34m\u001b[0m\u001b[0;34m\u001b[0m\u001b[0m\n\u001b[0m\u001b[1;32m    185\u001b[0m         \u001b[0me_tot\u001b[0m \u001b[0;34m=\u001b[0m \u001b[0mmf\u001b[0m\u001b[0;34m.\u001b[0m\u001b[0menergy_tot\u001b[0m\u001b[0;34m(\u001b[0m\u001b[0mdm\u001b[0m\u001b[0;34m,\u001b[0m \u001b[0mh1e\u001b[0m\u001b[0;34m,\u001b[0m \u001b[0mvhf\u001b[0m\u001b[0;34m)\u001b[0m\u001b[0;34m\u001b[0m\u001b[0;34m\u001b[0m\u001b[0m\n\u001b[1;32m    186\u001b[0m \u001b[0;34m\u001b[0m\u001b[0m\n",
      "\u001b[0;32m~/anaconda3/lib/python3.8/site-packages/pyscf/dft/rks.py\u001b[0m in \u001b[0;36mget_veff\u001b[0;34m(ks, mol, dm, dm_last, vhf_last, hermi)\u001b[0m\n\u001b[1;32m     78\u001b[0m     \u001b[0;32melse\u001b[0m\u001b[0;34m:\u001b[0m\u001b[0;34m\u001b[0m\u001b[0;34m\u001b[0m\u001b[0m\n\u001b[1;32m     79\u001b[0m         \u001b[0mmax_memory\u001b[0m \u001b[0;34m=\u001b[0m \u001b[0mks\u001b[0m\u001b[0;34m.\u001b[0m\u001b[0mmax_memory\u001b[0m \u001b[0;34m-\u001b[0m \u001b[0mlib\u001b[0m\u001b[0;34m.\u001b[0m\u001b[0mcurrent_memory\u001b[0m\u001b[0;34m(\u001b[0m\u001b[0;34m)\u001b[0m\u001b[0;34m[\u001b[0m\u001b[0;36m0\u001b[0m\u001b[0;34m]\u001b[0m\u001b[0;34m\u001b[0m\u001b[0;34m\u001b[0m\u001b[0m\n\u001b[0;32m---> 80\u001b[0;31m         \u001b[0mn\u001b[0m\u001b[0;34m,\u001b[0m \u001b[0mexc\u001b[0m\u001b[0;34m,\u001b[0m \u001b[0mvxc\u001b[0m \u001b[0;34m=\u001b[0m \u001b[0mni\u001b[0m\u001b[0;34m.\u001b[0m\u001b[0mnr_rks\u001b[0m\u001b[0;34m(\u001b[0m\u001b[0mmol\u001b[0m\u001b[0;34m,\u001b[0m \u001b[0mks\u001b[0m\u001b[0;34m.\u001b[0m\u001b[0mgrids\u001b[0m\u001b[0;34m,\u001b[0m \u001b[0mks\u001b[0m\u001b[0;34m.\u001b[0m\u001b[0mxc\u001b[0m\u001b[0;34m,\u001b[0m \u001b[0mdm\u001b[0m\u001b[0;34m,\u001b[0m \u001b[0mmax_memory\u001b[0m\u001b[0;34m=\u001b[0m\u001b[0mmax_memory\u001b[0m\u001b[0;34m)\u001b[0m\u001b[0;34m\u001b[0m\u001b[0;34m\u001b[0m\u001b[0m\n\u001b[0m\u001b[1;32m     81\u001b[0m         \u001b[0;32mif\u001b[0m \u001b[0mks\u001b[0m\u001b[0;34m.\u001b[0m\u001b[0mnlc\u001b[0m\u001b[0;34m:\u001b[0m\u001b[0;34m\u001b[0m\u001b[0;34m\u001b[0m\u001b[0m\n\u001b[1;32m     82\u001b[0m             \u001b[0;32massert\u001b[0m \u001b[0;34m'VV10'\u001b[0m \u001b[0;32min\u001b[0m \u001b[0mks\u001b[0m\u001b[0;34m.\u001b[0m\u001b[0mnlc\u001b[0m\u001b[0;34m.\u001b[0m\u001b[0mupper\u001b[0m\u001b[0;34m(\u001b[0m\u001b[0;34m)\u001b[0m\u001b[0;34m\u001b[0m\u001b[0;34m\u001b[0m\u001b[0m\n",
      "\u001b[0;32m~/anaconda3/lib/python3.8/site-packages/pyscf/dft/numint.py\u001b[0m in \u001b[0;36mnr_rks\u001b[0;34m(ni, mol, grids, xc_code, dms, relativity, hermi, max_memory, verbose)\u001b[0m\n\u001b[1;32m   1171\u001b[0m             \u001b[0mwv\u001b[0m\u001b[0;34m[\u001b[0m\u001b[0;36m0\u001b[0m\u001b[0;34m]\u001b[0m \u001b[0;34m*=\u001b[0m \u001b[0;36m.5\u001b[0m  \u001b[0;31m# *.5 because vmat + vmat.T at the end\u001b[0m\u001b[0;34m\u001b[0m\u001b[0;34m\u001b[0m\u001b[0m\n\u001b[1;32m   1172\u001b[0m             \u001b[0maow\u001b[0m \u001b[0;34m=\u001b[0m \u001b[0m_scale_ao_sparse\u001b[0m\u001b[0;34m(\u001b[0m\u001b[0mao\u001b[0m\u001b[0;34m[\u001b[0m\u001b[0;34m:\u001b[0m\u001b[0;36m4\u001b[0m\u001b[0;34m]\u001b[0m\u001b[0;34m,\u001b[0m \u001b[0mwv\u001b[0m\u001b[0;34m[\u001b[0m\u001b[0;34m:\u001b[0m\u001b[0;36m4\u001b[0m\u001b[0;34m]\u001b[0m\u001b[0;34m,\u001b[0m \u001b[0mmask\u001b[0m\u001b[0;34m,\u001b[0m \u001b[0mao_loc\u001b[0m\u001b[0;34m,\u001b[0m \u001b[0mout\u001b[0m\u001b[0;34m=\u001b[0m\u001b[0maow\u001b[0m\u001b[0;34m)\u001b[0m\u001b[0;34m\u001b[0m\u001b[0;34m\u001b[0m\u001b[0m\n\u001b[0;32m-> 1173\u001b[0;31m             _dot_ao_ao_sparse(ao[0], aow, None, nbins, mask, pair_mask, ao_loc,\n\u001b[0m\u001b[1;32m   1174\u001b[0m                               hermi=0, out=vmat[i])\n\u001b[1;32m   1175\u001b[0m         \u001b[0mvmat\u001b[0m \u001b[0;34m=\u001b[0m \u001b[0mlib\u001b[0m\u001b[0;34m.\u001b[0m\u001b[0mhermi_sum\u001b[0m\u001b[0;34m(\u001b[0m\u001b[0mvmat\u001b[0m\u001b[0;34m,\u001b[0m \u001b[0maxes\u001b[0m\u001b[0;34m=\u001b[0m\u001b[0;34m(\u001b[0m\u001b[0;36m0\u001b[0m\u001b[0;34m,\u001b[0m\u001b[0;36m2\u001b[0m\u001b[0;34m,\u001b[0m\u001b[0;36m1\u001b[0m\u001b[0;34m)\u001b[0m\u001b[0;34m)\u001b[0m\u001b[0;34m\u001b[0m\u001b[0;34m\u001b[0m\u001b[0m\n",
      "\u001b[0;32m~/anaconda3/lib/python3.8/site-packages/pyscf/dft/numint.py\u001b[0m in \u001b[0;36m_dot_ao_ao_sparse\u001b[0;34m(ao1, ao2, wv, nbins, screen_index, pair_mask, ao_loc, hermi, out)\u001b[0m\n\u001b[1;32m    869\u001b[0m \u001b[0;34m\u001b[0m\u001b[0m\n\u001b[1;32m    870\u001b[0m     \u001b[0;32mif\u001b[0m \u001b[0mwv\u001b[0m \u001b[0;32mis\u001b[0m \u001b[0;32mNone\u001b[0m\u001b[0;34m:\u001b[0m\u001b[0;34m\u001b[0m\u001b[0;34m\u001b[0m\u001b[0m\n\u001b[0;32m--> 871\u001b[0;31m         libdft.VXCdot_ao_ao_sparse(\n\u001b[0m\u001b[1;32m    872\u001b[0m             \u001b[0mout\u001b[0m\u001b[0;34m.\u001b[0m\u001b[0mctypes\u001b[0m\u001b[0;34m.\u001b[0m\u001b[0mdata_as\u001b[0m\u001b[0;34m(\u001b[0m\u001b[0mctypes\u001b[0m\u001b[0;34m.\u001b[0m\u001b[0mc_void_p\u001b[0m\u001b[0;34m)\u001b[0m\u001b[0;34m,\u001b[0m\u001b[0;34m\u001b[0m\u001b[0;34m\u001b[0m\u001b[0m\n\u001b[1;32m    873\u001b[0m             \u001b[0mao1\u001b[0m\u001b[0;34m.\u001b[0m\u001b[0mctypes\u001b[0m\u001b[0;34m.\u001b[0m\u001b[0mdata_as\u001b[0m\u001b[0;34m(\u001b[0m\u001b[0mctypes\u001b[0m\u001b[0;34m.\u001b[0m\u001b[0mc_void_p\u001b[0m\u001b[0;34m)\u001b[0m\u001b[0;34m,\u001b[0m\u001b[0;34m\u001b[0m\u001b[0;34m\u001b[0m\u001b[0m\n",
      "\u001b[0;31mKeyboardInterrupt\u001b[0m: "
     ]
    }
   ],
   "source": [
    "optimize(mf1,trustradius=1e-10)"
   ]
  },
  {
   "cell_type": "code",
   "execution_count": 333,
   "id": "c824e324",
   "metadata": {},
   "outputs": [
    {
     "name": "stdout",
     "output_type": "stream",
     "text": [
      "converged SCF energy = -120.958557203731\n"
     ]
    },
    {
     "data": {
      "text/plain": [
       "-120.95855720373132"
      ]
     },
     "execution_count": 333,
     "metadata": {},
     "output_type": "execute_result"
    }
   ],
   "source": [
    "mf1.scf(dm0=P1)"
   ]
  },
  {
   "cell_type": "code",
   "execution_count": null,
   "id": "c69a8eaf",
   "metadata": {},
   "outputs": [],
   "source": []
  }
 ],
 "metadata": {
  "kernelspec": {
   "display_name": "Python 3 (ipykernel)",
   "language": "python",
   "name": "python3"
  },
  "language_info": {
   "codemirror_mode": {
    "name": "ipython",
    "version": 3
   },
   "file_extension": ".py",
   "mimetype": "text/x-python",
   "name": "python",
   "nbconvert_exporter": "python",
   "pygments_lexer": "ipython3",
   "version": "3.8.13"
  }
 },
 "nbformat": 4,
 "nbformat_minor": 5
}
