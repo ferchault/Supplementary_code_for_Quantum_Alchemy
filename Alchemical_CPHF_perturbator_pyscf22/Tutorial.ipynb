{
 "cells": [
  {
   "cell_type": "markdown",
   "metadata": {},
   "source": [
    "This is the tutorial for the evaluation of CPHF alchemical derivatives using PySCF (version 2.2)"
   ]
  },
  {
   "cell_type": "code",
   "execution_count": 1,
   "metadata": {},
   "outputs": [
    {
     "data": {
      "text/plain": [
       "'2.2.0'"
      ]
     },
     "execution_count": 1,
     "metadata": {},
     "output_type": "execute_result"
    }
   ],
   "source": [
    "from pyscf import gto,scf\n",
    "import numpy as np\n",
    "import pyscf\n",
    "import matplotlib.pyplot as plt\n",
    "import basis_set_exchange as bse\n",
    "\n",
    "pyscf.__version__"
   ]
  },
  {
   "cell_type": "markdown",
   "metadata": {},
   "source": [
    "## Fractional charge molecules"
   ]
  },
  {
   "cell_type": "code",
   "execution_count": 2,
   "metadata": {},
   "outputs": [],
   "source": [
    "from FcMole import FcM, FcM_like"
   ]
  },
  {
   "cell_type": "code",
   "execution_count": 3,
   "metadata": {},
   "outputs": [],
   "source": [
    "mol_NN=gto.M(atom= \"N 0 0 0; N 0 0 2.1\",unit=\"Bohr\", basis=\"sto-3g\") "
   ]
  },
  {
   "cell_type": "markdown",
   "metadata": {},
   "source": [
    "The FcM_like function creates a copy of a givem PySCF molecule object with modified nuclear cherges "
   ]
  },
  {
   "cell_type": "code",
   "execution_count": 4,
   "metadata": {},
   "outputs": [],
   "source": [
    "fmol1=FcM_like(mol_NN,fcs=[.1,-.1])"
   ]
  },
  {
   "cell_type": "markdown",
   "metadata": {},
   "source": [
    "Only nuclear charges are modified, the number of electrons stays the same"
   ]
  },
  {
   "cell_type": "code",
   "execution_count": 5,
   "metadata": {},
   "outputs": [
    {
     "data": {
      "text/plain": [
       "(array([7.1, 6.9]), (7, 7))"
      ]
     },
     "execution_count": 5,
     "metadata": {},
     "output_type": "execute_result"
    }
   ],
   "source": [
    "fmol1.atom_charges(),fmol1.nelec"
   ]
  },
  {
   "cell_type": "markdown",
   "metadata": {},
   "source": [
    "The same result can be achieved using the FcM constructor"
   ]
  },
  {
   "cell_type": "code",
   "execution_count": 6,
   "metadata": {},
   "outputs": [],
   "source": [
    "fmol2=FcM(fcs=[.2,-.2],atom= \"N 0 0 0; N 0 0 2.1\",unit=\"Bohr\", basis=\"sto-3g\")"
   ]
  },
  {
   "cell_type": "markdown",
   "metadata": {},
   "source": [
    "The number of electron matches the atom string"
   ]
  },
  {
   "cell_type": "code",
   "execution_count": 7,
   "metadata": {},
   "outputs": [
    {
     "data": {
      "text/plain": [
       "(array([7.2, 6.8]), (7, 7))"
      ]
     },
     "execution_count": 7,
     "metadata": {},
     "output_type": "execute_result"
    }
   ],
   "source": [
    "fmol2.atom_charges(),fmol2.nelec"
   ]
  },
  {
   "cell_type": "markdown",
   "metadata": {},
   "source": [
    "If only some atoms have modified nuclear charges is possible to pass as a fcs parameter a double list [[idxs],[fcs]]"
   ]
  },
  {
   "cell_type": "code",
   "execution_count": 8,
   "metadata": {},
   "outputs": [],
   "source": [
    "fmol3=FcM(fcs=[[0,1],[.3,-.3]],atom= \"N 0 0 0; N 0 0 2.1\",unit=\"Bohr\", basis=\"sto-3g\")"
   ]
  },
  {
   "cell_type": "code",
   "execution_count": 9,
   "metadata": {},
   "outputs": [
    {
     "data": {
      "text/plain": [
       "(array([7.3, 6.7]), (7, 7))"
      ]
     },
     "execution_count": 9,
     "metadata": {},
     "output_type": "execute_result"
    }
   ],
   "source": [
    "fmol3.atom_charges(),fmol3.nelec"
   ]
  },
  {
   "cell_type": "markdown",
   "metadata": {},
   "source": [
    "For scf calculations using fractional charges molecules the initial density matrix guess needs to be evaluated from the eigenfunction of the monoelectronic Hamiltonian (there is no single atom density \"SAD\" matrix guess for atoms with fractional charge)"
   ]
  },
  {
   "cell_type": "code",
   "execution_count": 10,
   "metadata": {},
   "outputs": [],
   "source": [
    "mf=scf.RHF(mol_NN)\n",
    "mf1=scf.RHF(fmol1)\n",
    "mf2=scf.RHF(fmol2)\n",
    "mf3=scf.RHF(fmol3)"
   ]
  },
  {
   "cell_type": "code",
   "execution_count": 11,
   "metadata": {},
   "outputs": [
    {
     "name": "stdout",
     "output_type": "stream",
     "text": [
      "converged SCF energy = -106.786312173968\n",
      "converged SCF energy = -106.801217627227\n",
      "converged SCF energy = -106.846028831322\n",
      "converged SCF energy = -106.921050773896\n"
     ]
    },
    {
     "name": "stderr",
     "output_type": "stream",
     "text": [
      "/home/giorgio/anaconda3/lib/python3.8/site-packages/pyscf/gto/mole.py:1209: UserWarning: Function mol.dumps drops attribute with_rinv_at_nucleus because it is not JSON-serializable\n",
      "  warnings.warn(msg)\n"
     ]
    }
   ],
   "source": [
    "e=mf.scf(dm0=mf.init_guess_by_1e())\n",
    "e1=mf1.scf(dm0=mf1.init_guess_by_1e())\n",
    "e2=mf2.scf(dm0=mf2.init_guess_by_1e())\n",
    "e3=mf3.scf(dm0=mf3.init_guess_by_1e())"
   ]
  },
  {
   "cell_type": "markdown",
   "metadata": {},
   "source": [
    "for small basis sets the scf does not converge to the true minimum -> using initial guess from previous step enforces it \n"
   ]
  },
  {
   "cell_type": "code",
   "execution_count": 12,
   "metadata": {},
   "outputs": [
    {
     "name": "stdout",
     "output_type": "stream",
     "text": [
      "converged SCF energy = -106.80121762985\n",
      "converged SCF energy = -106.846028831319\n",
      "converged SCF energy = -106.921050773896\n"
     ]
    },
    {
     "data": {
      "text/plain": [
       "-106.92105077389597"
      ]
     },
     "execution_count": 12,
     "metadata": {},
     "output_type": "execute_result"
    }
   ],
   "source": [
    "mf1.scf(dm0=mf.make_rdm1())\n",
    "mf2.scf(dm0=mf1.make_rdm1())\n",
    "mf3.scf(dm0=mf2.make_rdm1())"
   ]
  },
  {
   "cell_type": "code",
   "execution_count": 13,
   "metadata": {},
   "outputs": [
    {
     "data": {
      "text/plain": [
       "[<matplotlib.lines.Line2D at 0x7f889dd84dc0>]"
      ]
     },
     "execution_count": 13,
     "metadata": {},
     "output_type": "execute_result"
    },
    {
     "data": {
      "image/png": "[encoded data removed]",
      "text/plain": [
       "<Figure size 640x480 with 1 Axes>"
      ]
     },
     "metadata": {},
     "output_type": "display_data"
    }
   ],
   "source": [
    "plt.plot([e,e1,e2,e3]) # the potential "
   ]
  },
  {
   "cell_type": "markdown",
   "metadata": {},
   "source": [
    "## Using the Alchemical Perturbator (AP) class\n",
    "We created an Alchemical perturbator object to access easily all the CPHF methods for alchemical derivative and alchemical forces derivatives, this allow us to save the derivatives and also to exploit the symmetry of the system"
   ]
  },
  {
   "cell_type": "code",
   "execution_count": 14,
   "metadata": {},
   "outputs": [],
   "source": [
    "%load_ext autoreload\n",
    "%autoreload 2\n",
    "from AP_class import APDFT_perturbator as AP"
   ]
  },
  {
   "cell_type": "code",
   "execution_count": 15,
   "metadata": {},
   "outputs": [],
   "source": [
    "mol_NN_pcX2=gto.M(atom= \"N 0 0 0; N 0 0 2.1\",unit=\"Bohr\",basis=bse.get_basis('pcX-2',fmt=\"nwchem\",elements=[6,7,8]))"
   ]
  },
  {
   "cell_type": "markdown",
   "metadata": {},
   "source": [
    "The alchemical perturbator is instantiated from a converged RHF object, and for some given perturbation sites."
   ]
  },
  {
   "cell_type": "code",
   "execution_count": 16,
   "metadata": {},
   "outputs": [
    {
     "name": "stdout",
     "output_type": "stream",
     "text": [
      "converged SCF energy = -108.982443290901\n"
     ]
    }
   ],
   "source": [
    "mf_nn=scf.RHF(mol_NN_pcX2)\n",
    "mf_nn.scf()\n",
    "ap_nn=AP(mf_nn,sites=[0,1])"
   ]
  },
  {
   "cell_type": "markdown",
   "metadata": {},
   "source": [
    "Alchemical gradient $ \\partial E/\\partial Z_i $, hessian $\\partial^2E/\\partial Z_i\\partial Z_j$ and cubic hessian $\\partial^3E/\\partial Z_i\\partial Z_j\\partial Z_k$can be obtained from their buid functions \n"
   ]
  },
  {
   "cell_type": "code",
   "execution_count": 17,
   "metadata": {},
   "outputs": [
    {
     "data": {
      "text/plain": [
       "array([-18.26852542, -18.26852542])"
      ]
     },
     "execution_count": 17,
     "metadata": {},
     "output_type": "execute_result"
    }
   ],
   "source": [
    "#build the alchemical gradient dE/dZ_i\n",
    "ap_nn.build_gradient()"
   ]
  },
  {
   "cell_type": "code",
   "execution_count": 18,
   "metadata": {},
   "outputs": [
    {
     "data": {
      "text/plain": [
       "array([[-3.30790482,  0.49616476],\n",
       "       [ 0.49616476, -3.30790482]])"
      ]
     },
     "execution_count": 18,
     "metadata": {},
     "output_type": "execute_result"
    }
   ],
   "source": [
    "#build the alchemical hessian d**2E/dZ_i/dZ_j\n",
    "ap_nn.build_hessian()"
   ]
  },
  {
   "cell_type": "code",
   "execution_count": 19,
   "metadata": {},
   "outputs": [
    {
     "data": {
      "text/plain": [
       "array([[[-0.26999069,  0.12075961],\n",
       "        [ 0.12075961,  0.12075961]],\n",
       "\n",
       "       [[ 0.12075961,  0.12075961],\n",
       "        [ 0.12075961, -0.26999069]]])"
      ]
     },
     "execution_count": 19,
     "metadata": {},
     "output_type": "execute_result"
    }
   ],
   "source": [
    "ap_nn.build_cubic_hessian()"
   ]
  },
  {
   "cell_type": "markdown",
   "metadata": {},
   "source": [
    "Are saved inside the class and can be accessed in a later moment"
   ]
  },
  {
   "cell_type": "code",
   "execution_count": 20,
   "metadata": {},
   "outputs": [
    {
     "data": {
      "text/plain": [
       "(array([-18.26852542, -18.26852542]),\n",
       " array([[-3.30790482,  0.49616476],\n",
       "        [ 0.49616476, -3.30790482]]),\n",
       " array([[[-0.26999069,  0.12075961],\n",
       "         [ 0.12075961,  0.12075961]],\n",
       " \n",
       "        [[ 0.12075961,  0.12075961],\n",
       "         [ 0.12075961, -0.26999069]]]))"
      ]
     },
     "execution_count": 20,
     "metadata": {},
     "output_type": "execute_result"
    }
   ],
   "source": [
    "ap_nn.gradient,ap_nn.hessian,ap_nn.cubic_hessian"
   ]
  },
  {
   "cell_type": "markdown",
   "metadata": {},
   "source": [
    "Alchemical perturbations for isolelectronic transmutations can be calculated from the derivatives up to order 3"
   ]
  },
  {
   "cell_type": "code",
   "execution_count": 21,
   "metadata": {},
   "outputs": [
    {
     "data": {
      "text/plain": [
       "-90.71391786926834"
      ]
     },
     "execution_count": 21,
     "metadata": {},
     "output_type": "execute_result"
    }
   ],
   "source": [
    "ap_nn.APDFT1(np.asarray([-1,0])) # to CN-"
   ]
  },
  {
   "cell_type": "code",
   "execution_count": 22,
   "metadata": {},
   "outputs": [
    {
     "data": {
      "text/plain": [
       "-112.78651287823459"
      ]
     },
     "execution_count": 22,
     "metadata": {},
     "output_type": "execute_result"
    }
   ],
   "source": [
    "ap_nn.APDFT2(np.asarray([-1,1])) # to CO"
   ]
  },
  {
   "cell_type": "code",
   "execution_count": 23,
   "metadata": {},
   "outputs": [
    {
     "data": {
      "text/plain": [
       "-128.9499195733697"
      ]
     },
     "execution_count": 23,
     "metadata": {},
     "output_type": "execute_result"
    }
   ],
   "source": [
    "ap_nn.APDFT3(np.asarray([0,1]))  # to NO+"
   ]
  },
  {
   "cell_type": "code",
   "execution_count": 24,
   "metadata": {},
   "outputs": [
    {
     "data": {
      "text/plain": [
       "-148.30047148493995"
      ]
     },
     "execution_count": 24,
     "metadata": {},
     "output_type": "execute_result"
    }
   ],
   "source": [
    "ap_nn.APDFT3(np.asarray([1,1])) # to OO++"
   ]
  },
  {
   "cell_type": "markdown",
   "metadata": {},
   "source": [
    "## Alchemical forces\n",
    "Alchemical forces are calculated resusing the density matrix derivatives already evaluated. The function af(I) gives the alchemical force of the atom $I$ : $\\partial \\mathbf{g}/ \\partial Z_I$ [2]\n"
   ]
  },
  {
   "cell_type": "code",
   "execution_count": 25,
   "metadata": {},
   "outputs": [
    {
     "data": {
      "text/plain": [
       "(array([[-6.76360348e-14, -5.47441960e-14, -2.15590754e-01],\n",
       "        [ 6.76360348e-14,  5.47441960e-14,  2.15590754e-01]]),\n",
       " array([[-2.63911236e-15, -6.68298947e-14, -2.15590754e-01],\n",
       "        [ 2.63911236e-15,  6.68298947e-14,  2.15590754e-01]]))"
      ]
     },
     "execution_count": 25,
     "metadata": {},
     "output_type": "execute_result"
    }
   ],
   "source": [
    "ap_nn.af(0),ap_nn.af(1)"
   ]
  },
  {
   "cell_type": "markdown",
   "metadata": {},
   "source": [
    "## Basis set effects \n",
    "The class also include methods to calculate the energy of the target molecules, with its basis set and with the basis set of the reference,"
   ]
  },
  {
   "cell_type": "code",
   "execution_count": 31,
   "metadata": {},
   "outputs": [
    {
     "name": "stdout",
     "output_type": "stream",
     "text": [
      "converged SCF energy = -128.950505504676\n",
      "converged SCF energy = -128.950528571069\n"
     ]
    },
    {
     "data": {
      "text/plain": [
       "(-128.95050550467604, -128.9505285710693)"
      ]
     },
     "execution_count": 31,
     "metadata": {},
     "output_type": "execute_result"
    }
   ],
   "source": [
    "ap_nn.target_energy([0,-1]),ap_nn.target_energy_ref_bs([0,-1])"
   ]
  },
  {
   "cell_type": "markdown",
   "metadata": {},
   "source": [
    "To double check for CN- "
   ]
  },
  {
   "cell_type": "code",
   "execution_count": 33,
   "metadata": {},
   "outputs": [
    {
     "name": "stdout",
     "output_type": "stream",
     "text": [
      "converged SCF energy = -128.950505504676\n"
     ]
    },
    {
     "data": {
      "text/plain": [
       "-128.95050550467627"
      ]
     },
     "execution_count": 33,
     "metadata": {},
     "output_type": "execute_result"
    }
   ],
   "source": [
    "scf.RHF(gto.M(atom= \"N 0 0 0; C 0 0 2.1\",unit=\"Bohr\",\n",
    "       basis=bse.get_basis('pcX-2',fmt=\"nwchem\",elements=[6,7,8]),charge=-1)).scf()"
   ]
  },
  {
   "cell_type": "markdown",
   "metadata": {},
   "source": [
    "The APDFT3 predictions approximate the energy of the molecule with the reference basis set "
   ]
  },
  {
   "cell_type": "code",
   "execution_count": 28,
   "metadata": {},
   "outputs": [
    {
     "data": {
      "text/plain": [
       "-92.32287183327608"
      ]
     },
     "execution_count": 28,
     "metadata": {},
     "output_type": "execute_result"
    }
   ],
   "source": [
    "ap_nn.APDFT3([0,-1])"
   ]
  },
  {
   "cell_type": "markdown",
   "metadata": {},
   "source": [
    "But we can correct it using the single atom basis set correction [1]"
   ]
  },
  {
   "cell_type": "code",
   "execution_count": 29,
   "metadata": {},
   "outputs": [
    {
     "data": {
      "text/plain": [
       "-92.32700488049362"
      ]
     },
     "execution_count": 29,
     "metadata": {},
     "output_type": "execute_result"
    }
   ],
   "source": [
    "ap_nn.APDFT3([0,-1])+ap_nn.ap_bsec([0,-1])"
   ]
  },
  {
   "cell_type": "code",
   "execution_count": null,
   "metadata": {},
   "outputs": [],
   "source": []
  },
  {
   "cell_type": "markdown",
   "metadata": {},
   "source": [
    "## References \n",
    "\n",
    "[1] Giorgio Domenichini, Guido Falk von Rudorff, and O. Anatole von Lilienfeld : \"Effects of perturbation order and basis set on alchemical predictions\", J. Chem. Phys. 153, 144118 (2020)\n",
    "\n",
    "[2] Giorgio Domenichini, and O. Anatole von Lilienfeld: \"Alchemical predictions of relaxed geometries throughout chemical space\", under review (2021) "
   ]
  },
  {
   "cell_type": "code",
   "execution_count": null,
   "metadata": {},
   "outputs": [],
   "source": []
  }
 ],
 "metadata": {
  "kernelspec": {
   "display_name": "Python 3 (ipykernel)",
   "language": "python",
   "name": "python3"
  },
  "language_info": {
   "codemirror_mode": {
    "name": "ipython",
    "version": 3
   },
   "file_extension": ".py",
   "mimetype": "text/x-python",
   "name": "python",
   "nbconvert_exporter": "python",
   "pygments_lexer": "ipython3",
   "version": "3.8.13"
  }
 },
 "nbformat": 4,
 "nbformat_minor": 4
}
