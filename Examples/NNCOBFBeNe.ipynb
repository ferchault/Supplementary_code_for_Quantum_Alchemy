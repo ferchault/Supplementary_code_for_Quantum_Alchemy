{
 "cells": [
  {
   "cell_type": "code",
   "execution_count": 1,
   "id": "bc372f36",
   "metadata": {},
   "outputs": [
    {
     "name": "stderr",
     "output_type": "stream",
     "text": [
      "/home/giorgio/anaconda3/lib/python3.8/site-packages/scipy/__init__.py:146: UserWarning: A NumPy version >=1.16.5 and <1.23.0 is required for this version of SciPy (detected version 1.23.4\n",
      "  warnings.warn(f\"A NumPy version >={np_minversion} and <{np_maxversion}\"\n"
     ]
    }
   ],
   "source": [
    "from pyscf import scf,gto\n",
    "import basis_set_exchange as bse\n",
    "import numpy as np\n",
    "import pandas as pd\n",
    "import matplotlib.pyplot as plt\n",
    "import sys\n",
    "from pyscf.geomopt import optimize\n"
   ]
  },
  {
   "cell_type": "code",
   "execution_count": 2,
   "id": "df4a2965",
   "metadata": {},
   "outputs": [],
   "source": [
    "%load_ext autoreload\n",
    "%autoreload 2\n",
    "sys.path.append(\"../Alchemical_CPHF_perturbator_pyscf22\")\n",
    "from FcMole import *\n",
    "from AP_class import APDFT_perturbator as AP\n",
    "from AP_utils import DeltaV\n",
    "import copy\n",
    "from AP_class import charge2symbol\n",
    "\n",
    "def target_mol(mol,sites,pvec):\n",
    "    splitted=(mol.atom.split())\n",
    "    refchgs=copy.deepcopy(mol.atom_charges())\n",
    "    for idx in range(len(pvec)):\n",
    "        refchgs[sites[idx]]+=int(pvec[idx])\n",
    "    for idx in range(len(pvec)):\n",
    "        splitted[sites[idx]*4]=charge2symbol[refchgs[sites[idx]]]\n",
    "    for i in range(3,len(splitted),4): \n",
    "        splitted[i]+=\";\"\n",
    "    atomstr=\" \".join(splitted)\n",
    "    tmol=gto.M(atom=atomstr,unit=mol.unit,basis=mol.basis,charge=0,verbose=0)#mol.charge+sum(pvec))\n",
    "    return tmol"
   ]
  },
  {
   "cell_type": "code",
   "execution_count": 3,
   "id": "f604941d",
   "metadata": {},
   "outputs": [],
   "source": [
    "basis_pcx2={\"H\":\"pc-2\",'B':bse.get_basis(\"pcX-2\",fmt=\"nwchem\",elements=[5])\\\n",
    "            ,'C':bse.get_basis(\"pcX-2\",fmt=\"nwchem\",elements=[6])\\\n",
    "           ,'N':bse.get_basis(\"pcX-2\",fmt=\"nwchem\",elements=[7])\\\n",
    "           ,'O':bse.get_basis(\"pcX-2\",fmt=\"nwchem\",elements=[8])\\\n",
    "           ,'F':bse.get_basis(\"pcX-2\",fmt=\"nwchem\",elements=[9])}"
   ]
  },
  {
   "cell_type": "code",
   "execution_count": 4,
   "id": "566ebc55",
   "metadata": {},
   "outputs": [],
   "source": [
    "# n2- co,bf\n",
    "# CO- N2,BF"
   ]
  },
  {
   "cell_type": "code",
   "execution_count": 5,
   "id": "8cb81921",
   "metadata": {},
   "outputs": [],
   "source": [
    "#NN_nonopt=gto.M(atom=\"N 0 0 0; N 0 0 2.\",basis=basis_pcx2,unit=\"au\")\n",
    "#NN_nonopt=gto.M(atom=\"NNopt_pcx2.xyz\",basis=basis_pcx2)\n",
    "#mf=scf.RKS(NN_nonopt)\n",
    "#mf.xc=\"PBE0\"\n",
    "#NN=optimize(mf) #246435117496\n",
    "#NN.tofile(\"NNopt_pcx2.xyz\")\n"
   ]
  },
  {
   "cell_type": "code",
   "execution_count": 6,
   "id": "75227e19",
   "metadata": {},
   "outputs": [],
   "source": [
    "NN=gto.M(atom=\"NNopt_pcx2.xyz\",basis=basis_pcx2)\n"
   ]
  },
  {
   "cell_type": "code",
   "execution_count": 7,
   "id": "7cf6c5a9",
   "metadata": {},
   "outputs": [],
   "source": [
    "#CO_nonopt=gto.M(atom=\"C 0 0 0; O 0 0 2.\",basis=basis_pcx2,unit=\"au\")\n",
    "#mf=scf.RKS(CO_nonopt)\n",
    "#mf.xc=\"PBE0\"\n",
    "#CO=optimize(mf)\n",
    "#CO.tofile(\"COopt_pcx2.xyz\")"
   ]
  },
  {
   "cell_type": "code",
   "execution_count": 8,
   "id": "b3fb1e86",
   "metadata": {},
   "outputs": [],
   "source": [
    "CO=gto.M(atom=\"COopt_pcx2.xyz\",basis=basis_pcx2)\n"
   ]
  },
  {
   "cell_type": "code",
   "execution_count": 9,
   "id": "90199940",
   "metadata": {},
   "outputs": [],
   "source": [
    "#BF_nonopt=gto.M(atom=\"B 0 0 0; F 0 0 2.1\",basis=basis_pcx2,unit=\"au\")\n",
    "#mf=scf.RKS(BF_nonopt)\n",
    "#mf.xc=\"PBE0\"\n",
    "#BF=optimize(mf)\n",
    "#BF.tofile(\"BFopt_pcx2.xyz\")"
   ]
  },
  {
   "cell_type": "code",
   "execution_count": 10,
   "id": "b6780cb0",
   "metadata": {},
   "outputs": [],
   "source": [
    "BF=gto.M(atom=\"BFopt_pcx2.xyz\",basis=basis_pcx2)\n"
   ]
  },
  {
   "cell_type": "code",
   "execution_count": 11,
   "id": "66a31c64",
   "metadata": {},
   "outputs": [
    {
     "name": "stdout",
     "output_type": "stream",
     "text": [
      "converged SCF energy = -109.445602751954\n"
     ]
    }
   ],
   "source": [
    "mf_NN=scf.RKS(NN)\n",
    "mf_NN.xc=\"PBE0\"\n",
    "mf_NN.scf()\n",
    "ap_nn=AP(mf_NN,sites=[0,1])\n",
    "ap_nn.build_all()\n",
    "P_nn=mf_NN.make_rdm1()"
   ]
  },
  {
   "cell_type": "code",
   "execution_count": 12,
   "id": "c08fc1e8",
   "metadata": {},
   "outputs": [
    {
     "name": "stdout",
     "output_type": "stream",
     "text": [
      "converged SCF energy = -113.232052500924\n"
     ]
    }
   ],
   "source": [
    "mf_CO=scf.RKS(CO)\n",
    "mf_CO.xc=\"PBE0\"\n",
    "mf_CO.scf()\n",
    "ap_co=AP(mf_CO,sites=[0,1])\n",
    "ap_co.build_all()\n",
    "P_co=mf_CO.make_rdm1()"
   ]
  },
  {
   "cell_type": "code",
   "execution_count": 13,
   "id": "28634998",
   "metadata": {},
   "outputs": [
    {
     "name": "stdout",
     "output_type": "stream",
     "text": [
      "converged SCF energy = -124.581813880113\n"
     ]
    }
   ],
   "source": [
    "mf_BF=scf.RKS(BF)\n",
    "mf_BF.xc=\"PBE0\"\n",
    "mf_BF.scf()\n",
    "ap_bf=AP(mf_BF,sites=[0,1])\n",
    "ap_bf.build_all()\n",
    "P_bf=mf_BF.make_rdm1()"
   ]
  },
  {
   "cell_type": "code",
   "execution_count": 14,
   "id": "0fecc2f6",
   "metadata": {},
   "outputs": [
    {
     "name": "stderr",
     "output_type": "stream",
     "text": [
      "/home/giorgio/anaconda3/lib/python3.8/site-packages/pyscf/gto/mole.py:1209: UserWarning: Function mol.dumps drops attribute charge because it is not JSON-serializable\n",
      "  warnings.warn(msg)\n",
      "/home/giorgio/anaconda3/lib/python3.8/site-packages/pyscf/gto/mole.py:1209: UserWarning: Function mol.dumps drops attribute with_rinv_at_nucleus because it is not JSON-serializable\n",
      "  warnings.warn(msg)\n"
     ]
    },
    {
     "name": "stdout",
     "output_type": "stream",
     "text": [
      "converged SCF energy = -113.223015640727\n",
      "converged SCF energy = -110.390567218457\n",
      "converged SCF energy = -124.512367313606\n",
      "converged SCF energy = -113.223015640727\n"
     ]
    }
   ],
   "source": [
    "APDFT1={}\n",
    "APDFT2={}\n",
    "APDFT3={}\n",
    "half_appr={}\n",
    "Levy_appr={}\n",
    "\n",
    "target_energies={}\n",
    "\n",
    "mf=mf_NN\n",
    "mol=NN\n",
    "ap=ap_nn\n",
    "\n",
    "E0=mf.e_tot\n",
    "E0_nuc=mf.energy_nuc()\n",
    "\n",
    "t=np.array([1,-1])\n",
    "label=\"NN->CO\"\n",
    "\n",
    "dV=DeltaV(mol,[[0,1],t])\n",
    "APDFT1[label]=ap.APDFT1(t)\n",
    "APDFT2[label]=ap.APDFT2(t)\n",
    "APDFT3[label]=ap.APDFT3(t)\n",
    "tm=FcM_like(mol,fcs=[[0,1],t])\n",
    "t_scf=scf.RKS(tm)\n",
    "t_scf.xc=\"PBE0\"\n",
    "target_energies[label]=t_scf.scf(dm0=ap.dP_pred(t))\n",
    "enuc_t=tm.energy_nuc()\n",
    "hm=FcM_like(mol,fcs=[[0,1],t/2])\n",
    "hm_scf=scf.RKS(hm)\n",
    "hm_scf.xc=\"PBE0\"\n",
    "hm_scf.scf(dm0=ap.dP_pred(t/2))\n",
    "half_appr[label]=E0+np.einsum(\"ij,ij\",hm_scf.make_rdm1(),dV)-E0_nuc+enuc_t\n",
    "Levy_appr[label]=E0 +np.einsum(\"ij,ij\",(mf.make_rdm1()+ t_scf.make_rdm1())/2,dV)-E0_nuc+enuc_t\n",
    "\n",
    "t=np.array([2,-2])\n",
    "label=\"NN->BF\"\n",
    "\n",
    "dV=DeltaV(mol,[[0,1],t])\n",
    "APDFT1[label]=ap.APDFT1(t)\n",
    "APDFT2[label]=ap.APDFT2(t)\n",
    "APDFT3[label]=ap.APDFT3(t)\n",
    "tm=FcM_like(mol,fcs=[[0,1],t])\n",
    "t_scf=scf.RKS(tm )\n",
    "t_scf.xc=\"PBE0\"\n",
    "target_energies[label]=t_scf.scf(dm0=ap.dP_pred(t))\n",
    "enuc_t=tm.energy_nuc()\n",
    "hm=FcM_like(mol,fcs=[[0,1],t/2])\n",
    "hm_scf=scf.RKS(hm)\n",
    "hm_scf.xc=\"PBE0\"\n",
    "hm_scf.scf(dm0=ap.dP_pred(t/2))\n",
    "half_appr[label]=E0+np.einsum(\"ij,ij\",hm_scf.make_rdm1(),dV)-E0_nuc+enuc_t\n",
    "Levy_appr[label]=E0 +np.einsum(\"ij,ij\",(mf.make_rdm1()+ t_scf.make_rdm1())/2,dV)-E0_nuc+enuc_t\n"
   ]
  },
  {
   "cell_type": "code",
   "execution_count": 15,
   "id": "30f61150",
   "metadata": {},
   "outputs": [
    {
     "name": "stdout",
     "output_type": "stream",
     "text": [
      "converged SCF energy = -109.442588800006\n",
      "converged SCF energy = -110.391631681503\n",
      "converged SCF energy = -124.550872407919\n",
      "converged SCF energy = -117.956330627089\n"
     ]
    }
   ],
   "source": [
    "mf=mf_CO\n",
    "mol=CO\n",
    "ap=ap_co\n",
    "\n",
    "E0=mf.e_tot\n",
    "E0_nuc=mf.energy_nuc()\n",
    "\n",
    "\n",
    "t=np.array([1,-1])\n",
    "label=\"CO->NN\"\n",
    "\n",
    "dV=DeltaV(mol,[[0,1],t])\n",
    "APDFT1[label]=ap.APDFT1(t)\n",
    "APDFT2[label]=ap.APDFT2(t)\n",
    "APDFT3[label]=ap.APDFT3(t)\n",
    "tm=FcM_like(mol,fcs=[[0,1],t])\n",
    "t_scf=scf.RKS(tm )\n",
    "t_scf.xc=\"PBE0\"\n",
    "target_energies[label]=t_scf.scf(dm0=ap.dP_pred(t))\n",
    "enuc_t=tm.energy_nuc()\n",
    "hm=FcM_like(mol,fcs=[[0,1],t/2])\n",
    "hm_scf=scf.RKS(hm)\n",
    "hm_scf.xc=\"PBE0\"\n",
    "hm_scf.scf(dm0=ap.dP_pred(t/2))\n",
    "half_appr[label]=E0+np.einsum(\"ij,ij\",hm_scf.make_rdm1(),dV)-E0_nuc+enuc_t\n",
    "Levy_appr[label]=E0 +np.einsum(\"ij,ij\",(mf.make_rdm1()+ t_scf.make_rdm1())/2,dV)-E0_nuc+enuc_t\n",
    "\n",
    "\n",
    "t=np.array([-1,1])\n",
    "label=\"CO->BF\"\n",
    "\n",
    "dV=DeltaV(mol,[[0,1],t])\n",
    "APDFT1[label]=ap.APDFT1(t)\n",
    "APDFT2[label]=ap.APDFT2(t)\n",
    "APDFT3[label]=ap.APDFT3(t)\n",
    "tm=FcM_like(mol,fcs=[[0,1],t])\n",
    "t_scf=scf.RKS(tm )\n",
    "t_scf.xc=\"PBE0\"\n",
    "target_energies[label]=t_scf.scf(dm0=ap.dP_pred(t))\n",
    "enuc_t=tm.energy_nuc()\n",
    "hm=FcM_like(mol,fcs=[[0,1],t/2])\n",
    "hm_scf=scf.RKS(hm)\n",
    "hm_scf.xc=\"PBE0\"\n",
    "hm_scf.scf(dm0=ap.dP_pred(t/2))\n",
    "half_appr[label]=E0+np.einsum(\"ij,ij\",hm_scf.make_rdm1(),dV)-E0_nuc+enuc_t\n",
    "Levy_appr[label]=E0 +np.einsum(\"ij,ij\",(mf.make_rdm1()+ t_scf.make_rdm1())/2,dV)-E0_nuc+enuc_t\n"
   ]
  },
  {
   "cell_type": "code",
   "execution_count": 16,
   "id": "b06b0134",
   "metadata": {},
   "outputs": [
    {
     "name": "stdout",
     "output_type": "stream",
     "text": [
      "converged SCF energy = -113.198590764638\n",
      "converged SCF energy = -117.951842432886\n",
      "converged SCF energy = -109.381530208655\n",
      "converged SCF energy = -113.198590764638\n"
     ]
    }
   ],
   "source": [
    "mf=mf_BF\n",
    "mol=BF\n",
    "ap=ap_bf\n",
    "\n",
    "E0=mf.e_tot\n",
    "E0_nuc=mf.energy_nuc()\n",
    "\n",
    "\n",
    "t=np.array([1,-1])\n",
    "label=\"BF->CO\"\n",
    "\n",
    "dV=DeltaV(mol,[[0,1],t])\n",
    "APDFT1[label]=ap.APDFT1(t)\n",
    "APDFT2[label]=ap.APDFT2(t)\n",
    "APDFT3[label]=ap.APDFT3(t)\n",
    "tm=FcM_like(mol,fcs=[[0,1],t])\n",
    "t_scf=scf.RKS(tm )\n",
    "t_scf.xc=\"PBE0\"\n",
    "target_energies[label]=t_scf.scf(dm0=ap.dP_pred(t))\n",
    "enuc_t=tm.energy_nuc()\n",
    "hm=FcM_like(mol,fcs=[[0,1],t/2])\n",
    "hm_scf=scf.RKS(hm)\n",
    "hm_scf.xc=\"PBE0\"\n",
    "hm_scf.scf(dm0=ap.dP_pred(t/2))\n",
    "half_appr[label]=E0+np.einsum(\"ij,ij\",hm_scf.make_rdm1(),dV)-E0_nuc+enuc_t\n",
    "Levy_appr[label]=E0 +np.einsum(\"ij,ij\",(mf.make_rdm1()+ t_scf.make_rdm1())/2,dV)-E0_nuc+enuc_t\n",
    "\n",
    "\n",
    "t=np.array([2,-2])\n",
    "label=\"BF->NN\"\n",
    "\n",
    "dV=DeltaV(mol,[[0,1],t])\n",
    "APDFT1[label]=ap.APDFT1(t)\n",
    "APDFT2[label]=ap.APDFT2(t)\n",
    "APDFT3[label]=ap.APDFT3(t)\n",
    "tm=FcM_like(mol,fcs=[[0,1],t])\n",
    "t_scf=scf.RKS(tm )\n",
    "t_scf.xc=\"PBE0\"\n",
    "target_energies[label]=t_scf.scf(dm0=ap.dP_pred(t))\n",
    "enuc_t=tm.energy_nuc()\n",
    "hm=FcM_like(mol,fcs=[[0,1],t/2])\n",
    "hm_scf=scf.RKS(hm)\n",
    "hm_scf.xc=\"PBE0\"\n",
    "hm_scf.scf(dm0=ap.dP_pred(t/2))\n",
    "half_appr[label]=E0+np.einsum(\"ij,ij\",hm_scf.make_rdm1(),dV)-E0_nuc+enuc_t\n",
    "Levy_appr[label]=E0 +np.einsum(\"ij,ij\",(mf.make_rdm1()+ t_scf.make_rdm1())/2,dV)-E0_nuc+enuc_t\n"
   ]
  },
  {
   "cell_type": "code",
   "execution_count": 17,
   "id": "ad7150ef",
   "metadata": {},
   "outputs": [
    {
     "data": {
      "text/html": [
       "<div>\n",
       "<style scoped>\n",
       "    .dataframe tbody tr th:only-of-type {\n",
       "        vertical-align: middle;\n",
       "    }\n",
       "\n",
       "    .dataframe tbody tr th {\n",
       "        vertical-align: top;\n",
       "    }\n",
       "\n",
       "    .dataframe thead th {\n",
       "        text-align: right;\n",
       "    }\n",
       "</style>\n",
       "<table border=\"1\" class=\"dataframe\">\n",
       "  <thead>\n",
       "    <tr style=\"text-align: right;\">\n",
       "      <th></th>\n",
       "      <th>APDFT1</th>\n",
       "      <th>APDFT2</th>\n",
       "      <th>APDFT3</th>\n",
       "      <th>Target</th>\n",
       "      <th>Half aprrox</th>\n",
       "      <th>Levy aprrox</th>\n",
       "    </tr>\n",
       "  </thead>\n",
       "  <tbody>\n",
       "    <tr>\n",
       "      <th>NN-&gt;CO</th>\n",
       "      <td>-109.445603</td>\n",
       "      <td>-113.226247</td>\n",
       "      <td>-113.226247</td>\n",
       "      <td>-113.223016</td>\n",
       "      <td>-113.224667</td>\n",
       "      <td>-113.219676</td>\n",
       "    </tr>\n",
       "    <tr>\n",
       "      <th>NN-&gt;BF</th>\n",
       "      <td>-109.445603</td>\n",
       "      <td>-124.568180</td>\n",
       "      <td>-124.568180</td>\n",
       "      <td>-124.512367</td>\n",
       "      <td>-124.541894</td>\n",
       "      <td>-124.452724</td>\n",
       "    </tr>\n",
       "    <tr>\n",
       "      <th>CO-&gt;NN</th>\n",
       "      <td>-105.663887</td>\n",
       "      <td>-109.432638</td>\n",
       "      <td>-109.448297</td>\n",
       "      <td>-109.442589</td>\n",
       "      <td>-109.441003</td>\n",
       "      <td>-109.445789</td>\n",
       "    </tr>\n",
       "    <tr>\n",
       "      <th>CO-&gt;BF</th>\n",
       "      <td>-120.800218</td>\n",
       "      <td>-124.568970</td>\n",
       "      <td>-124.553312</td>\n",
       "      <td>-124.550872</td>\n",
       "      <td>-124.556466</td>\n",
       "      <td>-124.539740</td>\n",
       "    </tr>\n",
       "    <tr>\n",
       "      <th>BF-&gt;CO</th>\n",
       "      <td>-109.459918</td>\n",
       "      <td>-113.167302</td>\n",
       "      <td>-113.205196</td>\n",
       "      <td>-113.198591</td>\n",
       "      <td>-113.191731</td>\n",
       "      <td>-113.212197</td>\n",
       "    </tr>\n",
       "    <tr>\n",
       "      <th>BF-&gt;NN</th>\n",
       "      <td>-94.338022</td>\n",
       "      <td>-109.167560</td>\n",
       "      <td>-109.470708</td>\n",
       "      <td>-109.381530</td>\n",
       "      <td>-109.347137</td>\n",
       "      <td>-109.450868</td>\n",
       "    </tr>\n",
       "  </tbody>\n",
       "</table>\n",
       "</div>"
      ],
      "text/plain": [
       "            APDFT1      APDFT2      APDFT3      Target  Half aprrox  \\\n",
       "NN->CO -109.445603 -113.226247 -113.226247 -113.223016  -113.224667   \n",
       "NN->BF -109.445603 -124.568180 -124.568180 -124.512367  -124.541894   \n",
       "CO->NN -105.663887 -109.432638 -109.448297 -109.442589  -109.441003   \n",
       "CO->BF -120.800218 -124.568970 -124.553312 -124.550872  -124.556466   \n",
       "BF->CO -109.459918 -113.167302 -113.205196 -113.198591  -113.191731   \n",
       "BF->NN  -94.338022 -109.167560 -109.470708 -109.381530  -109.347137   \n",
       "\n",
       "        Levy aprrox  \n",
       "NN->CO  -113.219676  \n",
       "NN->BF  -124.452724  \n",
       "CO->NN  -109.445789  \n",
       "CO->BF  -124.539740  \n",
       "BF->CO  -113.212197  \n",
       "BF->NN  -109.450868  "
      ]
     },
     "execution_count": 17,
     "metadata": {},
     "output_type": "execute_result"
    }
   ],
   "source": [
    "df=pd.DataFrame()\n",
    "df[\"APDFT1\"]=pd.Series(APDFT1)\n",
    "df[\"APDFT2\"]=pd.Series(APDFT2)\n",
    "df[\"APDFT3\"]=pd.Series(APDFT3)\n",
    "df[\"Target\"]=pd.Series(target_energies)\n",
    "df[\"Half aprrox\"]=pd.Series(half_appr)\n",
    "df[\"Levy aprrox\"]=pd.Series(Levy_appr)\n",
    "\n",
    "df"
   ]
  },
  {
   "cell_type": "code",
   "execution_count": 18,
   "id": "eefcd0bf",
   "metadata": {},
   "outputs": [
    {
     "data": {
      "text/html": [
       "<div>\n",
       "<style scoped>\n",
       "    .dataframe tbody tr th:only-of-type {\n",
       "        vertical-align: middle;\n",
       "    }\n",
       "\n",
       "    .dataframe tbody tr th {\n",
       "        vertical-align: top;\n",
       "    }\n",
       "\n",
       "    .dataframe thead th {\n",
       "        text-align: right;\n",
       "    }\n",
       "</style>\n",
       "<table border=\"1\" class=\"dataframe\">\n",
       "  <thead>\n",
       "    <tr style=\"text-align: right;\">\n",
       "      <th></th>\n",
       "      <th>APDFT1</th>\n",
       "      <th>APDFT2</th>\n",
       "      <th>APDFT3</th>\n",
       "      <th>Half aprrox</th>\n",
       "      <th>Levy aprrox</th>\n",
       "    </tr>\n",
       "  </thead>\n",
       "  <tbody>\n",
       "    <tr>\n",
       "      <th>NN-&gt;CO</th>\n",
       "      <td>3777.412889</td>\n",
       "      <td>-3.231490</td>\n",
       "      <td>-3.231490</td>\n",
       "      <td>-1.651713</td>\n",
       "      <td>3.340082</td>\n",
       "    </tr>\n",
       "    <tr>\n",
       "      <th>NN-&gt;BF</th>\n",
       "      <td>15066.764562</td>\n",
       "      <td>-55.812955</td>\n",
       "      <td>-55.812955</td>\n",
       "      <td>-29.526667</td>\n",
       "      <td>59.643445</td>\n",
       "    </tr>\n",
       "    <tr>\n",
       "      <th>CO-&gt;NN</th>\n",
       "      <td>3778.702231</td>\n",
       "      <td>9.950378</td>\n",
       "      <td>-5.708354</td>\n",
       "      <td>1.585541</td>\n",
       "      <td>-3.199817</td>\n",
       "    </tr>\n",
       "    <tr>\n",
       "      <th>CO-&gt;BF</th>\n",
       "      <td>3750.653975</td>\n",
       "      <td>-18.097879</td>\n",
       "      <td>-2.439147</td>\n",
       "      <td>-5.593871</td>\n",
       "      <td>11.132066</td>\n",
       "    </tr>\n",
       "    <tr>\n",
       "      <th>BF-&gt;CO</th>\n",
       "      <td>3738.672917</td>\n",
       "      <td>31.288269</td>\n",
       "      <td>-6.605177</td>\n",
       "      <td>6.860233</td>\n",
       "      <td>-13.605874</td>\n",
       "    </tr>\n",
       "    <tr>\n",
       "      <th>BF-&gt;NN</th>\n",
       "      <td>15043.508393</td>\n",
       "      <td>213.969804</td>\n",
       "      <td>-89.177764</td>\n",
       "      <td>34.393229</td>\n",
       "      <td>-69.338043</td>\n",
       "    </tr>\n",
       "  </tbody>\n",
       "</table>\n",
       "</div>"
      ],
      "text/plain": [
       "              APDFT1      APDFT2     APDFT3  Half aprrox  Levy aprrox\n",
       "NN->CO   3777.412889   -3.231490  -3.231490    -1.651713     3.340082\n",
       "NN->BF  15066.764562  -55.812955 -55.812955   -29.526667    59.643445\n",
       "CO->NN   3778.702231    9.950378  -5.708354     1.585541    -3.199817\n",
       "CO->BF   3750.653975  -18.097879  -2.439147    -5.593871    11.132066\n",
       "BF->CO   3738.672917   31.288269  -6.605177     6.860233   -13.605874\n",
       "BF->NN  15043.508393  213.969804 -89.177764    34.393229   -69.338043"
      ]
     },
     "execution_count": 18,
     "metadata": {},
     "output_type": "execute_result"
    }
   ],
   "source": [
    "error=pd.DataFrame()\n",
    "error[\"APDFT1\"] =(df[\"APDFT1\"]-df.Target)*1000\n",
    "error[\"APDFT2\"] =(df[\"APDFT2\"]-df.Target)*1000\n",
    "error[\"APDFT3\"] =(df[\"APDFT3\"]-df.Target)*1000\n",
    "error[\"Half aprrox\"] =(df[\"Half aprrox\"]-df.Target)*1000\n",
    "error[\"Levy aprrox\"] =(df[\"Levy aprrox\"]-df.Target)*1000\n",
    "\n",
    "\n",
    "\n",
    "error"
   ]
  },
  {
   "cell_type": "code",
   "execution_count": 19,
   "id": "4228ccc7",
   "metadata": {},
   "outputs": [],
   "source": [
    "df.to_pickle(\"NNCOBF.pkl\")\n",
    "error.to_pickle(\"NNCOBF_error.pkl\")"
   ]
  },
  {
   "cell_type": "code",
   "execution_count": 20,
   "id": "0fd94b4b",
   "metadata": {},
   "outputs": [],
   "source": [
    "df.to_csv(\"NNCOBF.csv\")\n",
    "error.to_csv(\"NNCOBF_error.csv\")"
   ]
  },
  {
   "cell_type": "code",
   "execution_count": 23,
   "id": "7679adbd",
   "metadata": {},
   "outputs": [
    {
     "name": "stdout",
     "output_type": "stream",
     "text": [
      "\\begin{tabular}{lrrrrr}\n",
      "\\toprule\n",
      "{} &   APDFT1 &  APDFT2 &  APDFT3 &  Half aprrox &  Levy aprrox \\\\\n",
      "\\midrule\n",
      "NN->CO &  3777.41 &   -3.23 &   -3.23 &        -1.65 &         3.34 \\\\\n",
      "NN->BF & 15066.76 &  -55.81 &  -55.81 &       -29.53 &        59.64 \\\\\n",
      "CO->NN &  3778.70 &    9.95 &   -5.71 &         1.59 &        -3.20 \\\\\n",
      "CO->BF &  3750.65 &  -18.10 &   -2.44 &        -5.59 &        11.13 \\\\\n",
      "BF->CO &  3738.67 &   31.29 &   -6.61 &         6.86 &       -13.61 \\\\\n",
      "BF->NN & 15043.51 &  213.97 &  -89.18 &        34.39 &       -69.34 \\\\\n",
      "\\bottomrule\n",
      "\\end{tabular}\n",
      "\n"
     ]
    },
    {
     "name": "stderr",
     "output_type": "stream",
     "text": [
      "/tmp/ipykernel_15256/3657086161.py:1: FutureWarning: In future versions `DataFrame.to_latex` is expected to utilise the base implementation of `Styler.to_latex` for formatting and rendering. The arguments signature may therefore change. It is recommended instead to use `DataFrame.style.to_latex` which also contains additional functionality.\n",
      "  print(error.to_latex(float_format=\"{:0.2f}\".format))\n"
     ]
    }
   ],
   "source": [
    "print(error.to_latex(float_format=\"{:0.2f}\".format))"
   ]
  },
  {
   "cell_type": "code",
   "execution_count": null,
   "id": "68ede8d2",
   "metadata": {},
   "outputs": [],
   "source": []
  }
 ],
 "metadata": {
  "kernelspec": {
   "display_name": "Python 3 (ipykernel)",
   "language": "python",
   "name": "python3"
  },
  "language_info": {
   "codemirror_mode": {
    "name": "ipython",
    "version": 3
   },
   "file_extension": ".py",
   "mimetype": "text/x-python",
   "name": "python",
   "nbconvert_exporter": "python",
   "pygments_lexer": "ipython3",
   "version": "3.8.13"
  }
 },
 "nbformat": 4,
 "nbformat_minor": 5
}
