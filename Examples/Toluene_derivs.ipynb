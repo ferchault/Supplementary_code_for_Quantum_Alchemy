{
 "cells": [
  {
   "cell_type": "markdown",
   "id": "b0fd56a8",
   "metadata": {},
   "source": [
    "In this notebook we show the alchemical perturbations from Toluene, to aniline, to phenol. <br>\n",
    "\n",
    "Using the pcX-2 (H pc-2)/PBE0 level of theory. We start from the optimized geometry of toluene. \n",
    "\n",
    "We created as target reference the aniline and the phenol molecules, placing artificial charges at the nuclei of C and H. <br> \n",
    "The choice of the basis set ensure a small basis set error: <br>\n",
    "\n",
    "For aniline is   0.027 mHa   (-287.361445 true basis set, - 287.361472 toluene basis set)\n",
    "\n",
    "For phenol is slightly higher  2.6 mHa, because of the larger perturbation (-307.21005 true basis set, -307.20742 toluene basis set)\n",
    "\n",
    "In any case we will compare our results fixing the basis set and geometry to the toluene's ones. <br>\n",
    "\n",
    "\n"
   ]
  },
  {
   "cell_type": "markdown",
   "id": "8d100435",
   "metadata": {},
   "source": [
    "The goal is to comare the goodness of Levy's formula ( was him? ) to the \"local\" alchemical perturbations up to order 3. <br>\n",
    "To do so I created two fractional charge molecules whose nuclear charges are half way between the reference (toluene) and the two targets (aniline and phenol). The nuclear charges of the carbon and the two hydrogen atoms are (6.5,.5) and (7,.5,.5)  <br>\n",
    "The electron density of these intermediate molecules $P$ were calculated at the same DFT level as the reference. Than conracted with the $\\Delta V_{ne}$ operator to get the alchemical first order Helmann-Feynman derivatives   "
   ]
  },
  {
   "cell_type": "markdown",
   "id": "bdf7b33c",
   "metadata": {},
   "source": [
    "# Results \n",
    "\n",
    "\n",
    "| Target | APDFT1  |APDFT2  |APDFT3  |Levy | True |\n",
    "| :--- | --- | --- | --- |--- | -- | \n",
    "| Aniline | -284.9958  | -287.4710 | -287.3423  | -287.38576 | -287.36147 |\n",
    "| Phenol  | -298.6528 | -307.1101 | -307.2181 | -307.18447 | -307.20742 |\n",
    "\n",
    "For both molecules the accuracy is better than APDFT2 and comparable to the APDFT3 perturbation, but the error has opposite sign \n"
   ]
  },
  {
   "cell_type": "code",
   "execution_count": 1,
   "id": "e2093e8f",
   "metadata": {},
   "outputs": [
    {
     "data": {
      "text/plain": [
       "(-287.36403, -307.201285)"
      ]
     },
     "execution_count": 1,
     "metadata": {},
     "output_type": "execute_result"
    }
   ],
   "source": [
    "# averaging Levy and APDT3 ?\n",
    "(-287.3423  -287.38576)/2,(-307.2181  -307.18447 )/2 "
   ]
  },
  {
   "cell_type": "code",
   "execution_count": null,
   "id": "9a3a6fa4",
   "metadata": {},
   "outputs": [],
   "source": []
  },
  {
   "cell_type": "code",
   "execution_count": 4,
   "id": "da6a392e",
   "metadata": {},
   "outputs": [],
   "source": [
    "from pyscf import scf,gto\n",
    "import basis_set_exchange as bse\n",
    "import numpy as np\n",
    "import matplotlib.pyplot as plt\n",
    "import sys\n",
    "a2c={1:\"y\",6:\"k\",7:\"b\",8:\"r\"}"
   ]
  },
  {
   "cell_type": "code",
   "execution_count": 5,
   "id": "fb786487",
   "metadata": {},
   "outputs": [],
   "source": [
    "sys.path.append(\"../Alchemical_CPKS_perturbator\")\n",
    "from FcMole import *\n",
    "from AP_class import APDFT_perturbator as AP"
   ]
  },
  {
   "cell_type": "code",
   "execution_count": 6,
   "id": "3278bacd",
   "metadata": {},
   "outputs": [],
   "source": [
    "basis_pcx2={\"H\":\"pc-2\",'C':bse.get_basis(\"pcX-2\",fmt=\"nwchem\",elements=[6])\\\n",
    "           ,'N':bse.get_basis(\"pcX-2\",fmt=\"nwchem\",elements=[7])\\\n",
    "           ,'O':bse.get_basis(\"pcX-2\",fmt=\"nwchem\",elements=[8])}"
   ]
  },
  {
   "cell_type": "code",
   "execution_count": 10,
   "id": "0638105a",
   "metadata": {},
   "outputs": [],
   "source": [
    "tol_atoms=gto.fromfile(\"tol_opt.xyz\")\n",
    "pcx2_tol=gto.M(atom=tol_atoms,basis=basis_pcx2)"
   ]
  },
  {
   "cell_type": "code",
   "execution_count": 11,
   "id": "4fcfa695",
   "metadata": {},
   "outputs": [
    {
     "name": "stdout",
     "output_type": "stream",
     "text": [
      "converged SCF energy = -271.33657051295\n"
     ]
    },
    {
     "data": {
      "text/plain": [
       "-271.33657051294955"
      ]
     },
     "execution_count": 11,
     "metadata": {},
     "output_type": "execute_result"
    }
   ],
   "source": [
    "mf_tol=scf.RKS(pcx2_tol)\n",
    "mf_tol.xc=\"PBE0\"\n",
    "mf_tol.scf()"
   ]
  },
  {
   "cell_type": "code",
   "execution_count": 12,
   "id": "65ca4f59",
   "metadata": {},
   "outputs": [],
   "source": [
    "an_at_tol=FcM_like(pcx2_tol,fcs=[[0,3 ],[-1,1] ])\n",
    "fen_at_tol=FcM_like(pcx2_tol,fcs=[[0,1,3 ],[-1,-1,2 ] ])"
   ]
  },
  {
   "cell_type": "code",
   "execution_count": 13,
   "id": "d02c9eb6",
   "metadata": {},
   "outputs": [],
   "source": [
    "mf_an_tol=scf.RKS(an_at_tol)\n",
    "mf_fen_tol=scf.RKS(fen_at_tol)\n",
    "mf_an_tol.xc=\"PBE0\"\n",
    "mf_fen_tol.xc=\"PBE0\""
   ]
  },
  {
   "cell_type": "code",
   "execution_count": 14,
   "id": "4ca48790",
   "metadata": {},
   "outputs": [
    {
     "name": "stderr",
     "output_type": "stream",
     "text": [
      "/home/giorgio/anaconda3/lib/python3.8/site-packages/pyscf/gto/mole.py:1209: UserWarning: Function mol.dumps drops attribute with_rinv_at_nucleus because it is not JSON-serializable\n",
      "  warnings.warn(msg)\n"
     ]
    },
    {
     "name": "stdout",
     "output_type": "stream",
     "text": [
      "converged SCF energy = -287.361472480971\n",
      "converged SCF energy = -307.207424364003\n"
     ]
    }
   ],
   "source": [
    "e_an=mf_an_tol.scf()\n",
    "e_fen=mf_fen_tol.scf()"
   ]
  },
  {
   "cell_type": "code",
   "execution_count": 15,
   "id": "284c2b00",
   "metadata": {},
   "outputs": [],
   "source": [
    "#e_an=mf_an_tol.scf()#nverged SCF energy = -287.36144546195 # with proper basis set\n",
    "\n",
    "#e_fen=mf_fen_tol.scf()#converged SCF energy = -307.210051602572 \n"
   ]
  },
  {
   "cell_type": "code",
   "execution_count": 16,
   "id": "954d973d",
   "metadata": {},
   "outputs": [
    {
     "data": {
      "text/plain": [
       "(2.7019020023999474e-05, -0.0026272385690049305)"
      ]
     },
     "execution_count": 16,
     "metadata": {},
     "output_type": "execute_result"
    }
   ],
   "source": [
    "#ABSEs\n",
    "-287.36144546195+287.36147248097,  -307.210051602572 +307.207424364003"
   ]
  },
  {
   "cell_type": "code",
   "execution_count": 17,
   "id": "f1fcfd1c",
   "metadata": {},
   "outputs": [],
   "source": [
    "e_tol=mf_tol.e_tot"
   ]
  },
  {
   "cell_type": "code",
   "execution_count": 18,
   "id": "c0337d0f",
   "metadata": {},
   "outputs": [],
   "source": [
    "#ap_an=AP(mf_an_tol,sites=[0,2])\n",
    "ap_tol=AP(mf_tol,sites=[0,1,3])"
   ]
  },
  {
   "cell_type": "code",
   "execution_count": 19,
   "id": "8d3dba20",
   "metadata": {},
   "outputs": [
    {
     "data": {
      "text/plain": [
       "(-284.99588818927543,\n",
       " -287.4710810516354,\n",
       " -287.34238312295787,\n",
       " -287.36147248097086)"
      ]
     },
     "execution_count": 19,
     "metadata": {},
     "output_type": "execute_result"
    }
   ],
   "source": [
    "ap_tol.build_all()\n",
    "ap_tol.APDFT1(np.array([-1,0,1])),ap_tol.APDFT2(np.array([-1,0,1])),ap_tol.APDFT3(np.array([-1,0,1])),e_an"
   ]
  },
  {
   "cell_type": "code",
   "execution_count": 20,
   "id": "a958f175",
   "metadata": {},
   "outputs": [
    {
     "data": {
      "text/plain": [
       "(-298.65284086385833,\n",
       " -307.1101952371722,\n",
       " -307.21817433247406,\n",
       " -307.2074243640035)"
      ]
     },
     "execution_count": 20,
     "metadata": {},
     "output_type": "execute_result"
    }
   ],
   "source": [
    "ap_tol.APDFT1(np.array([-1,-1,2])),ap_tol.APDFT2(np.array([-1,-1,2])),ap_tol.APDFT3(np.array([-1,-1,2])),e_fen"
   ]
  },
  {
   "cell_type": "code",
   "execution_count": 21,
   "id": "a075edd9",
   "metadata": {},
   "outputs": [],
   "source": [
    "from AP_utils import DeltaV"
   ]
  },
  {
   "cell_type": "code",
   "execution_count": 22,
   "id": "1fa97f3d",
   "metadata": {},
   "outputs": [],
   "source": [
    "fc_tf=FcM_like(pcx2_tol,fcs=[[0,1,3 ],[-.5,-.5,1 ]])"
   ]
  },
  {
   "cell_type": "code",
   "execution_count": 23,
   "id": "457f962a",
   "metadata": {},
   "outputs": [
    {
     "name": "stdout",
     "output_type": "stream",
     "text": [
      "converged SCF energy = -287.121974882745\n"
     ]
    },
    {
     "data": {
      "text/plain": [
       "-287.12197488274546"
      ]
     },
     "execution_count": 23,
     "metadata": {},
     "output_type": "execute_result"
    }
   ],
   "source": [
    "mf_fc_tf=scf.RKS(fc_tf)\n",
    "mf_fc_tf.xc=\"PBE0\"\n",
    "mf_fc_tf.scf(dm0=(mf_fen_tol.make_rdm1()+mf_tol.make_rdm1())/2)"
   ]
  },
  {
   "cell_type": "code",
   "execution_count": 24,
   "id": "dabba632",
   "metadata": {},
   "outputs": [],
   "source": [
    "dV= DeltaV(pcx2_tol,dL=[[0,1,3 ],[-1,-1,2 ] ])"
   ]
  },
  {
   "cell_type": "code",
   "execution_count": 25,
   "id": "4a444944",
   "metadata": {},
   "outputs": [],
   "source": [
    "p0=mf_fen_tol.make_rdm1()\n",
    "p1=mf_fc_tf.make_rdm1()"
   ]
  },
  {
   "cell_type": "code",
   "execution_count": 26,
   "id": "62950513",
   "metadata": {},
   "outputs": [
    {
     "data": {
      "text/plain": [
       "(-307.18447221045847, -307.2074243640035)"
      ]
     },
     "execution_count": 26,
     "metadata": {},
     "output_type": "execute_result"
    }
   ],
   "source": [
    "#Levy's formula vs True values\n",
    "\n",
    "np.einsum(\"ij,ij\",p1,dV)+mf_tol.e_tot -mf_tol.energy_nuc()+mf_fen_tol.energy_nuc(),e_fen"
   ]
  },
  {
   "cell_type": "code",
   "execution_count": 27,
   "id": "14da42a5",
   "metadata": {},
   "outputs": [
    {
     "data": {
      "text/plain": [
       "(-298.65284086385833,\n",
       " -307.1101952371722,\n",
       " -307.21817433247406,\n",
       " -307.2074243640035)"
      ]
     },
     "execution_count": 27,
     "metadata": {},
     "output_type": "execute_result"
    }
   ],
   "source": [
    "ap_tol.APDFT1(np.array([-1,-1,2])),ap_tol.APDFT2(np.array([-1,-1,2])),ap_tol.APDFT3(np.array([-1,-1,2])),e_fen"
   ]
  },
  {
   "cell_type": "markdown",
   "id": "04c75395",
   "metadata": {},
   "source": [
    "Accuracy better than APDFT2"
   ]
  },
  {
   "cell_type": "markdown",
   "id": "e43b9411",
   "metadata": {},
   "source": [
    "# To aniline "
   ]
  },
  {
   "cell_type": "code",
   "execution_count": 28,
   "id": "50c23472",
   "metadata": {},
   "outputs": [],
   "source": [
    "dV1= DeltaV(pcx2_tol,dL=[[0,3 ],[-1,1] ])"
   ]
  },
  {
   "cell_type": "code",
   "execution_count": 29,
   "id": "a07c7b43",
   "metadata": {},
   "outputs": [
    {
     "name": "stdout",
     "output_type": "stream",
     "text": [
      "converged SCF energy = -278.770769457381\n"
     ]
    },
    {
     "data": {
      "text/plain": [
       "-278.77076945738133"
      ]
     },
     "execution_count": 29,
     "metadata": {},
     "output_type": "execute_result"
    }
   ],
   "source": [
    "fc_tf1=FcM_like(pcx2_tol,fcs=[[0,3 ],[-.5,.5 ]])\n",
    "mf_fc_tf1=scf.RKS(fc_tf1)\n",
    "mf_fc_tf1.xc=\"PBE0\"\n",
    "mf_fc_tf1.scf(dm0=(mf_an_tol.make_rdm1()+mf_tol.make_rdm1())/2)"
   ]
  },
  {
   "cell_type": "code",
   "execution_count": 30,
   "id": "2675d40b",
   "metadata": {},
   "outputs": [],
   "source": [
    "p2=mf_fc_tf1.make_rdm1()"
   ]
  },
  {
   "cell_type": "code",
   "execution_count": 31,
   "id": "c203b778",
   "metadata": {},
   "outputs": [
    {
     "data": {
      "text/plain": [
       "(-287.38576443088675, -287.36147248097086)"
      ]
     },
     "execution_count": 31,
     "metadata": {},
     "output_type": "execute_result"
    }
   ],
   "source": [
    "#Levy's formula vs True values\n",
    "np.einsum(\"ij,ij\",p2,dV1)+mf_tol.e_tot -mf_tol.energy_nuc()+mf_an_tol.energy_nuc(),e_an"
   ]
  },
  {
   "cell_type": "code",
   "execution_count": 32,
   "id": "b3d31c25",
   "metadata": {},
   "outputs": [
    {
     "data": {
      "text/plain": [
       "(-284.99588818927543,\n",
       " -287.4710810516354,\n",
       " -287.34238312295787,\n",
       " -287.36147248097086)"
      ]
     },
     "execution_count": 32,
     "metadata": {},
     "output_type": "execute_result"
    }
   ],
   "source": [
    "ap_tol.APDFT1(np.array([-1,0,1])),ap_tol.APDFT2(np.array([-1,0,1])),ap_tol.APDFT3(np.array([-1,0,1])),e_an"
   ]
  },
  {
   "cell_type": "markdown",
   "id": "cd0024ee",
   "metadata": {},
   "source": [
    "ACCURACY is better than APDFT2, APPROXIMATELY apdft3"
   ]
  },
  {
   "cell_type": "code",
   "execution_count": null,
   "id": "d780057d",
   "metadata": {},
   "outputs": [],
   "source": []
  }
 ],
 "metadata": {
  "kernelspec": {
   "display_name": "Python 3 (ipykernel)",
   "language": "python",
   "name": "python3"
  },
  "language_info": {
   "codemirror_mode": {
    "name": "ipython",
    "version": 3
   },
   "file_extension": ".py",
   "mimetype": "text/x-python",
   "name": "python",
   "nbconvert_exporter": "python",
   "pygments_lexer": "ipython3",
   "version": "3.8.13"
  }
 },
 "nbformat": 4,
 "nbformat_minor": 5
}
