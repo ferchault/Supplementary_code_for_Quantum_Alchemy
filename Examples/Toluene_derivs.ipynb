{
 "cells": [
  {
   "cell_type": "markdown",
   "id": "b0fd56a8",
   "metadata": {},
   "source": [
    "In this notebook we show the alchemical perturbations from Toluene, to aniline, to phenol. <br>\n",
    "\n",
    "Using the pcX-2 (H pc-2)/PBE0 level of theory. We start from the optimized geometry of toluene. \n",
    "\n",
    "We created as target reference the aniline and the phenol molecules, placing artificial charges at the nuclei of C and H. <br> \n",
    "The choice of the basis set ensure a small basis set error: <br>\n",
    "\n",
    "For aniline is   0.027 mHa   (-287.361445 true basis set, - 287.361472 toluene basis set)\n",
    "\n",
    "For phenol is slightly higher  2.6 mHa, because of the larger perturbation (-307.21005 true basis set, -307.20742 toluene basis set)\n",
    "\n",
    "In any case we will compare our results fixing the basis set and geometry to the toluene's ones. <br>\n",
    "\n",
    "\n"
   ]
  },
  {
   "cell_type": "markdown",
   "id": "8d100435",
   "metadata": {},
   "source": [
    "The goal is to comare the goodness of Levy's formula ( was him? ) to the \"local\" alchemical perturbations up to order 3. <br>\n",
    "To do so I created two fractional charge molecules whose nuclear charges are half way between the reference (toluene) and the two targets (aniline and phenol). The nuclear charges of the carbon and the two hydrogen atoms are (6.5,.5) and (7,.5,.5)  <br>\n",
    "The electron density of these intermediate molecules $P$ were calculated at the same DFT level as the reference. Than conracted with the $\\Delta V_{ne}$ operator to get the alchemical first order Helmann-Feynman derivatives   "
   ]
  },
  {
   "cell_type": "markdown",
   "id": "bdf7b33c",
   "metadata": {},
   "source": [
    "# Results \n",
    "\n",
    "\n",
    "| Target | APDFT1  |APDFT2  |APDFT3  |Levy | True |\n",
    "| :--- | --- | --- | --- |--- | -- | \n",
    "| Aniline | -284.9958  | -287.4710 | -287.3423  | -287.38576 | -287.36147 |\n",
    "| Phenol  | -298.6528 | -307.1101 | -307.2181 | -307.18447 | -307.20742 |\n",
    "\n",
    "For both molecules the accuracy is better than APDFT2 and comparable to the APDFT3 perturbation, but the error has opposite sign \n"
   ]
  },
  {
   "cell_type": "code",
   "execution_count": 1,
   "id": "e2093e8f",
   "metadata": {},
   "outputs": [
    {
     "data": {
      "text/plain": [
       "(-287.36403, -307.201285)"
      ]
     },
     "execution_count": 1,
     "metadata": {},
     "output_type": "execute_result"
    }
   ],
   "source": [
    "# averaging Levy and APDT3 ?\n",
    "(-287.3423  -287.38576)/2,(-307.2181  -307.18447 )/2 "
   ]
  },
  {
   "cell_type": "code",
   "execution_count": 1,
   "id": "da6a392e",
   "metadata": {},
   "outputs": [
    {
     "name": "stderr",
     "output_type": "stream",
     "text": [
      "/home/giorgio/anaconda3/lib/python3.8/site-packages/scipy/__init__.py:146: UserWarning: A NumPy version >=1.16.5 and <1.23.0 is required for this version of SciPy (detected version 1.23.4\n",
      "  warnings.warn(f\"A NumPy version >={np_minversion} and <{np_maxversion}\"\n"
     ]
    }
   ],
   "source": [
    "from pyscf import scf,gto\n",
    "import basis_set_exchange as bse\n",
    "import numpy as np\n",
    "import matplotlib.pyplot as plt\n",
    "import sys\n",
    "a2c={1:\"y\",6:\"k\",7:\"b\",8:\"r\"}"
   ]
  },
  {
   "cell_type": "code",
   "execution_count": 2,
   "id": "fb786487",
   "metadata": {},
   "outputs": [],
   "source": [
    "sys.path.append(\"../Alchemical_CPHF_perturbator_pyscf22\")\n",
    "from FcMole import *\n",
    "from AP_class import APDFT_perturbator as AP"
   ]
  },
  {
   "cell_type": "code",
   "execution_count": 4,
   "id": "3278bacd",
   "metadata": {},
   "outputs": [],
   "source": [
    "basis_pcx2={\"H\":\"pc-2\",'C':bse.get_basis(\"pcX-2\",fmt=\"nwchem\",elements=[6])\\\n",
    "           ,'N':bse.get_basis(\"pcX-2\",fmt=\"nwchem\",elements=[7])\\\n",
    "           ,'O':bse.get_basis(\"pcX-2\",fmt=\"nwchem\",elements=[8])}"
   ]
  },
  {
   "cell_type": "code",
   "execution_count": 5,
   "id": "0638105a",
   "metadata": {},
   "outputs": [],
   "source": [
    "tol_atoms=gto.fromfile(\"tol_opt.xyz\")\n",
    "pcx2_tol=gto.M(atom=tol_atoms,basis=basis_pcx2)"
   ]
  },
  {
   "cell_type": "code",
   "execution_count": 6,
   "id": "4fcfa695",
   "metadata": {},
   "outputs": [
    {
     "name": "stdout",
     "output_type": "stream",
     "text": [
      "converged SCF energy = -271.336570512949\n"
     ]
    },
    {
     "data": {
      "text/plain": [
       "-271.3365705129493"
      ]
     },
     "execution_count": 6,
     "metadata": {},
     "output_type": "execute_result"
    }
   ],
   "source": [
    "mf_tol=scf.RKS(pcx2_tol)\n",
    "mf_tol.xc=\"PBE0\"\n",
    "mf_tol.scf()"
   ]
  },
  {
   "cell_type": "code",
   "execution_count": 7,
   "id": "65ca4f59",
   "metadata": {},
   "outputs": [],
   "source": [
    "an_at_tol=FcM_like(pcx2_tol,fcs=[[0,3 ],[-1,1] ])\n",
    "fen_at_tol=FcM_like(pcx2_tol,fcs=[[0,1,3 ],[-1,-1,2 ] ])"
   ]
  },
  {
   "cell_type": "code",
   "execution_count": 9,
   "id": "d02c9eb6",
   "metadata": {},
   "outputs": [],
   "source": [
    "mf_an_tol=scf.RKS(an_at_tol)\n",
    "mf_fen_tol=scf.RKS(fen_at_tol)\n",
    "mf_an_tol.xc=\"PBE0\"\n",
    "mf_fen_tol.xc=\"PBE0\""
   ]
  },
  {
   "cell_type": "code",
   "execution_count": 10,
   "id": "4ca48790",
   "metadata": {},
   "outputs": [
    {
     "name": "stderr",
     "output_type": "stream",
     "text": [
      "/home/giorgio/anaconda3/lib/python3.8/site-packages/pyscf/gto/mole.py:1209: UserWarning: Function mol.dumps drops attribute with_rinv_at_nucleus because it is not JSON-serializable\n",
      "  warnings.warn(msg)\n"
     ]
    },
    {
     "name": "stdout",
     "output_type": "stream",
     "text": [
      "converged SCF energy = -287.361472480971\n",
      "converged SCF energy = -307.207424364003\n"
     ]
    }
   ],
   "source": [
    "e_an=mf_an_tol.scf()\n",
    "e_fen=mf_fen_tol.scf()"
   ]
  },
  {
   "cell_type": "code",
   "execution_count": 11,
   "id": "284c2b00",
   "metadata": {},
   "outputs": [],
   "source": [
    "#e_an=mf_an_tol.scf()#nverged SCF energy = -287.36144546195 # with proper basis set\n",
    "\n",
    "#e_fen=mf_fen_tol.scf()#converged SCF energy = -307.210051602572 \n"
   ]
  },
  {
   "cell_type": "code",
   "execution_count": 12,
   "id": "954d973d",
   "metadata": {},
   "outputs": [
    {
     "data": {
      "text/plain": [
       "(2.7019020023999474e-05, -0.0026272385690049305)"
      ]
     },
     "execution_count": 12,
     "metadata": {},
     "output_type": "execute_result"
    }
   ],
   "source": [
    "#ABSEs\n",
    "-287.36144546195+287.36147248097,  -307.210051602572 +307.207424364003"
   ]
  },
  {
   "cell_type": "code",
   "execution_count": 13,
   "id": "f1fcfd1c",
   "metadata": {},
   "outputs": [],
   "source": [
    "e_tol=mf_tol.e_tot"
   ]
  },
  {
   "cell_type": "code",
   "execution_count": 14,
   "id": "c0337d0f",
   "metadata": {},
   "outputs": [
    {
     "ename": "KeyboardInterrupt",
     "evalue": "",
     "output_type": "error",
     "traceback": [
      "\u001b[0;31m---------------------------------------------------------------------------\u001b[0m",
      "\u001b[0;31mKeyboardInterrupt\u001b[0m                         Traceback (most recent call last)",
      "\u001b[0;32m/tmp/ipykernel_9765/602744003.py\u001b[0m in \u001b[0;36m<cell line: 2>\u001b[0;34m()\u001b[0m\n\u001b[1;32m      1\u001b[0m \u001b[0;31m#ap_an=AP(mf_an_tol,sites=[0,2])\u001b[0m\u001b[0;34m\u001b[0m\u001b[0;34m\u001b[0m\u001b[0;34m\u001b[0m\u001b[0m\n\u001b[0;32m----> 2\u001b[0;31m \u001b[0map_tol\u001b[0m\u001b[0;34m=\u001b[0m\u001b[0mAP\u001b[0m\u001b[0;34m(\u001b[0m\u001b[0mmf_tol\u001b[0m\u001b[0;34m,\u001b[0m\u001b[0msites\u001b[0m\u001b[0;34m=\u001b[0m\u001b[0;34m[\u001b[0m\u001b[0;36m0\u001b[0m\u001b[0;34m,\u001b[0m\u001b[0;36m1\u001b[0m\u001b[0;34m,\u001b[0m\u001b[0;36m3\u001b[0m\u001b[0;34m]\u001b[0m\u001b[0;34m)\u001b[0m\u001b[0;34m\u001b[0m\u001b[0;34m\u001b[0m\u001b[0m\n\u001b[0m",
      "\u001b[0;32m~/Supplementary_code_for_Quantum_Alchemy/Examples/../Alchemical_CPHF_perturbator_pyscf22/AP_utils.py\u001b[0m in \u001b[0;36mwrapper\u001b[0;34m(*args, **kwargs)\u001b[0m\n\u001b[1;32m     15\u001b[0m                 \u001b[0mkwargs\u001b[0m\u001b[0;34m[\u001b[0m\u001b[0mparam_name\u001b[0m\u001b[0;34m]\u001b[0m \u001b[0;34m=\u001b[0m \u001b[0malias_param_value\u001b[0m\u001b[0;34m\u001b[0m\u001b[0;34m\u001b[0m\u001b[0m\n\u001b[1;32m     16\u001b[0m                 \u001b[0;32mdel\u001b[0m \u001b[0mkwargs\u001b[0m\u001b[0;34m[\u001b[0m\u001b[0mparam_alias\u001b[0m\u001b[0;34m]\u001b[0m\u001b[0;34m\u001b[0m\u001b[0;34m\u001b[0m\u001b[0m\n\u001b[0;32m---> 17\u001b[0;31m             \u001b[0mresult\u001b[0m \u001b[0;34m=\u001b[0m \u001b[0mfunc\u001b[0m\u001b[0;34m(\u001b[0m\u001b[0;34m*\u001b[0m\u001b[0margs\u001b[0m\u001b[0;34m,\u001b[0m \u001b[0;34m**\u001b[0m\u001b[0mkwargs\u001b[0m\u001b[0;34m)\u001b[0m\u001b[0;34m\u001b[0m\u001b[0;34m\u001b[0m\u001b[0m\n\u001b[0m\u001b[1;32m     18\u001b[0m             \u001b[0;32mreturn\u001b[0m \u001b[0mresult\u001b[0m\u001b[0;34m\u001b[0m\u001b[0;34m\u001b[0m\u001b[0m\n\u001b[1;32m     19\u001b[0m         \u001b[0;32mreturn\u001b[0m \u001b[0mwrapper\u001b[0m\u001b[0;34m\u001b[0m\u001b[0;34m\u001b[0m\u001b[0m\n",
      "\u001b[0;32m~/Supplementary_code_for_Quantum_Alchemy/Examples/../Alchemical_CPHF_perturbator_pyscf22/AP_class.py\u001b[0m in \u001b[0;36m__init__\u001b[0;34m(self, mf, symmetry, sites)\u001b[0m\n\u001b[1;32m     34\u001b[0m         \u001b[0mself\u001b[0m\u001b[0;34m.\u001b[0m\u001b[0mdPs\u001b[0m\u001b[0;34m=\u001b[0m\u001b[0;34m{\u001b[0m\u001b[0;34m}\u001b[0m\u001b[0;34m\u001b[0m\u001b[0;34m\u001b[0m\u001b[0m\n\u001b[1;32m     35\u001b[0m         \u001b[0mself\u001b[0m\u001b[0;34m.\u001b[0m\u001b[0mafs\u001b[0m\u001b[0;34m=\u001b[0m\u001b[0;34m{\u001b[0m\u001b[0;34m}\u001b[0m\u001b[0;34m\u001b[0m\u001b[0;34m\u001b[0m\u001b[0m\n\u001b[0;32m---> 36\u001b[0;31m         \u001b[0mself\u001b[0m\u001b[0;34m.\u001b[0m\u001b[0mperturb\u001b[0m\u001b[0;34m(\u001b[0m\u001b[0;34m)\u001b[0m\u001b[0;34m\u001b[0m\u001b[0;34m\u001b[0m\u001b[0m\n\u001b[0m\u001b[1;32m     37\u001b[0m         \u001b[0mself\u001b[0m\u001b[0;34m.\u001b[0m\u001b[0mcubic_hessian\u001b[0m\u001b[0;34m=\u001b[0m\u001b[0;32mNone\u001b[0m\u001b[0;34m\u001b[0m\u001b[0;34m\u001b[0m\u001b[0m\n\u001b[1;32m     38\u001b[0m         \u001b[0mself\u001b[0m\u001b[0;34m.\u001b[0m\u001b[0mhessian\u001b[0m\u001b[0;34m=\u001b[0m\u001b[0;32mNone\u001b[0m\u001b[0;34m\u001b[0m\u001b[0;34m\u001b[0m\u001b[0m\n",
      "\u001b[0;32m~/Supplementary_code_for_Quantum_Alchemy/Examples/../Alchemical_CPHF_perturbator_pyscf22/AP_class.py\u001b[0m in \u001b[0;36mperturb\u001b[0;34m(self)\u001b[0m\n\u001b[1;32m     74\u001b[0m             \u001b[0;32melse\u001b[0m\u001b[0;34m:\u001b[0m\u001b[0;34m\u001b[0m\u001b[0;34m\u001b[0m\u001b[0m\n\u001b[1;32m     75\u001b[0m                 \u001b[0mself\u001b[0m\u001b[0;34m.\u001b[0m\u001b[0mdVs\u001b[0m\u001b[0;34m[\u001b[0m\u001b[0msite\u001b[0m\u001b[0;34m]\u001b[0m\u001b[0;34m=\u001b[0m\u001b[0mDeltaV\u001b[0m\u001b[0;34m(\u001b[0m\u001b[0mself\u001b[0m\u001b[0;34m.\u001b[0m\u001b[0mmol\u001b[0m\u001b[0;34m,\u001b[0m\u001b[0;34m[\u001b[0m\u001b[0;34m[\u001b[0m\u001b[0msite\u001b[0m\u001b[0;34m]\u001b[0m\u001b[0;34m,\u001b[0m\u001b[0;34m[\u001b[0m\u001b[0;36m1\u001b[0m\u001b[0;34m]\u001b[0m\u001b[0;34m]\u001b[0m\u001b[0;34m)\u001b[0m\u001b[0;34m\u001b[0m\u001b[0;34m\u001b[0m\u001b[0m\n\u001b[0;32m---> 76\u001b[0;31m                 \u001b[0mself\u001b[0m\u001b[0;34m.\u001b[0m\u001b[0mmo1s\u001b[0m\u001b[0;34m[\u001b[0m\u001b[0msite\u001b[0m\u001b[0;34m]\u001b[0m\u001b[0;34m,\u001b[0m\u001b[0mself\u001b[0m\u001b[0;34m.\u001b[0m\u001b[0me1s\u001b[0m\u001b[0;34m[\u001b[0m\u001b[0msite\u001b[0m\u001b[0;34m]\u001b[0m\u001b[0;34m=\u001b[0m\u001b[0malchemy_cphf_deriv\u001b[0m\u001b[0;34m(\u001b[0m\u001b[0mself\u001b[0m\u001b[0;34m.\u001b[0m\u001b[0mmf\u001b[0m\u001b[0;34m,\u001b[0m\u001b[0mself\u001b[0m\u001b[0;34m.\u001b[0m\u001b[0mdVs\u001b[0m\u001b[0;34m[\u001b[0m\u001b[0msite\u001b[0m\u001b[0;34m]\u001b[0m\u001b[0;34m)\u001b[0m\u001b[0;34m\u001b[0m\u001b[0;34m\u001b[0m\u001b[0m\n\u001b[0m\u001b[1;32m     77\u001b[0m     \u001b[0;32mdef\u001b[0m \u001b[0mmo1\u001b[0m\u001b[0;34m(\u001b[0m\u001b[0mself\u001b[0m\u001b[0;34m,\u001b[0m\u001b[0matm_idx\u001b[0m\u001b[0;34m)\u001b[0m\u001b[0;34m:\u001b[0m\u001b[0;34m\u001b[0m\u001b[0;34m\u001b[0m\u001b[0m\n\u001b[1;32m     78\u001b[0m         \u001b[0;32mif\u001b[0m \u001b[0matm_idx\u001b[0m \u001b[0;32mnot\u001b[0m \u001b[0;32min\u001b[0m \u001b[0mself\u001b[0m\u001b[0;34m.\u001b[0m\u001b[0mmo1s\u001b[0m\u001b[0;34m:\u001b[0m\u001b[0;34m\u001b[0m\u001b[0;34m\u001b[0m\u001b[0m\n",
      "\u001b[0;32m~/Supplementary_code_for_Quantum_Alchemy/Examples/../Alchemical_CPHF_perturbator_pyscf22/alch_deriv.py\u001b[0m in \u001b[0;36malchemy_cphf_deriv\u001b[0;34m(mf, int_r, with_cphf)\u001b[0m\n\u001b[1;32m     32\u001b[0m     \u001b[0mvind\u001b[0m \u001b[0;34m=\u001b[0m \u001b[0mgen_vind\u001b[0m\u001b[0;34m(\u001b[0m\u001b[0mmf\u001b[0m\u001b[0;34m,\u001b[0m \u001b[0mmo_coeff\u001b[0m\u001b[0;34m,\u001b[0m \u001b[0mmo_occ\u001b[0m\u001b[0;34m)\u001b[0m\u001b[0;34m\u001b[0m\u001b[0;34m\u001b[0m\u001b[0m\n\u001b[1;32m     33\u001b[0m     \u001b[0;32mif\u001b[0m \u001b[0mwith_cphf\u001b[0m\u001b[0;34m:\u001b[0m\u001b[0;34m\u001b[0m\u001b[0;34m\u001b[0m\u001b[0m\n\u001b[0;32m---> 34\u001b[0;31m         \u001b[0mmo1\u001b[0m\u001b[0;34m,\u001b[0m\u001b[0me1\u001b[0m \u001b[0;34m=\u001b[0m \u001b[0mcphf\u001b[0m\u001b[0;34m.\u001b[0m\u001b[0msolve\u001b[0m\u001b[0;34m(\u001b[0m\u001b[0mvind\u001b[0m\u001b[0;34m,\u001b[0m \u001b[0mmo_energy\u001b[0m\u001b[0;34m,\u001b[0m \u001b[0mmo_occ\u001b[0m\u001b[0;34m,\u001b[0m \u001b[0mh1\u001b[0m\u001b[0;34m,\u001b[0m \u001b[0ms1\u001b[0m\u001b[0;34m,\u001b[0m\u001b[0mmax_cycle_cphf\u001b[0m\u001b[0;34m,\u001b[0m \u001b[0mconv_tol_cphf\u001b[0m\u001b[0;34m)\u001b[0m\u001b[0;34m\u001b[0m\u001b[0;34m\u001b[0m\u001b[0m\n\u001b[0m\u001b[1;32m     35\u001b[0m     \u001b[0;31m#else:\u001b[0m\u001b[0;34m\u001b[0m\u001b[0;34m\u001b[0m\u001b[0;34m\u001b[0m\u001b[0m\n\u001b[1;32m     36\u001b[0m     \u001b[0;31m#    mo1 = rhf_nmr._solve_mo1_uncoupled(mo_energy, mo_occ, h1, s1)[0]\u001b[0m\u001b[0;34m\u001b[0m\u001b[0;34m\u001b[0m\u001b[0;34m\u001b[0m\u001b[0m\n",
      "\u001b[0;32m~/anaconda3/lib/python3.8/site-packages/pyscf/scf/cphf.py\u001b[0m in \u001b[0;36msolve\u001b[0;34m(fvind, mo_energy, mo_occ, h1, s1, max_cycle, tol, hermi, verbose)\u001b[0m\n\u001b[1;32m     42\u001b[0m                           max_cycle, tol, hermi, verbose)\n\u001b[1;32m     43\u001b[0m     \u001b[0;32melse\u001b[0m\u001b[0;34m:\u001b[0m\u001b[0;34m\u001b[0m\u001b[0;34m\u001b[0m\u001b[0m\n\u001b[0;32m---> 44\u001b[0;31m         return solve_withs1(fvind, mo_energy, mo_occ, h1, s1,\n\u001b[0m\u001b[1;32m     45\u001b[0m                             max_cycle, tol, hermi, verbose)\n\u001b[1;32m     46\u001b[0m \u001b[0mkernel\u001b[0m \u001b[0;34m=\u001b[0m \u001b[0msolve\u001b[0m\u001b[0;34m\u001b[0m\u001b[0;34m\u001b[0m\u001b[0m\n",
      "\u001b[0;32m~/anaconda3/lib/python3.8/site-packages/pyscf/scf/cphf.py\u001b[0m in \u001b[0;36msolve_withs1\u001b[0;34m(fvind, mo_energy, mo_occ, h1, s1, max_cycle, tol, hermi, verbose)\u001b[0m\n\u001b[1;32m    106\u001b[0m         \u001b[0mv\u001b[0m\u001b[0;34m[\u001b[0m\u001b[0;34m:\u001b[0m\u001b[0;34m,\u001b[0m\u001b[0moccidx\u001b[0m\u001b[0;34m,\u001b[0m\u001b[0;34m:\u001b[0m\u001b[0;34m]\u001b[0m \u001b[0;34m=\u001b[0m \u001b[0;36m0\u001b[0m\u001b[0;34m\u001b[0m\u001b[0;34m\u001b[0m\u001b[0m\n\u001b[1;32m    107\u001b[0m         \u001b[0;32mreturn\u001b[0m \u001b[0mv\u001b[0m\u001b[0;34m.\u001b[0m\u001b[0mravel\u001b[0m\u001b[0;34m(\u001b[0m\u001b[0;34m)\u001b[0m\u001b[0;34m\u001b[0m\u001b[0;34m\u001b[0m\u001b[0m\n\u001b[0;32m--> 108\u001b[0;31m     mo1 = lib.krylov(vind_vo, mo1base.ravel(),\n\u001b[0m\u001b[1;32m    109\u001b[0m                      tol=tol, max_cycle=max_cycle, hermi=hermi, verbose=log)\n\u001b[1;32m    110\u001b[0m     \u001b[0mmo1\u001b[0m \u001b[0;34m=\u001b[0m \u001b[0mmo1\u001b[0m\u001b[0;34m.\u001b[0m\u001b[0mreshape\u001b[0m\u001b[0;34m(\u001b[0m\u001b[0mmo1base\u001b[0m\u001b[0;34m.\u001b[0m\u001b[0mshape\u001b[0m\u001b[0;34m)\u001b[0m\u001b[0;34m\u001b[0m\u001b[0;34m\u001b[0m\u001b[0m\n",
      "\u001b[0;32m~/anaconda3/lib/python3.8/site-packages/pyscf/lib/linalg_helper.py\u001b[0m in \u001b[0;36mkrylov\u001b[0;34m(aop, b, x0, tol, max_cycle, dot, lindep, callback, hermi, max_memory, verbose)\u001b[0m\n\u001b[1;32m   1381\u001b[0m     \u001b[0mmax_cycle\u001b[0m \u001b[0;34m=\u001b[0m \u001b[0mmin\u001b[0m\u001b[0;34m(\u001b[0m\u001b[0mmax_cycle\u001b[0m\u001b[0;34m,\u001b[0m \u001b[0mndim\u001b[0m\u001b[0;34m)\u001b[0m\u001b[0;34m\u001b[0m\u001b[0;34m\u001b[0m\u001b[0m\n\u001b[1;32m   1382\u001b[0m     \u001b[0;32mfor\u001b[0m \u001b[0mcycle\u001b[0m \u001b[0;32min\u001b[0m \u001b[0mrange\u001b[0m\u001b[0;34m(\u001b[0m\u001b[0mmax_cycle\u001b[0m\u001b[0;34m)\u001b[0m\u001b[0;34m:\u001b[0m\u001b[0;34m\u001b[0m\u001b[0;34m\u001b[0m\u001b[0m\n\u001b[0;32m-> 1383\u001b[0;31m         \u001b[0maxt\u001b[0m \u001b[0;34m=\u001b[0m \u001b[0maop\u001b[0m\u001b[0;34m(\u001b[0m\u001b[0mx1\u001b[0m\u001b[0;34m)\u001b[0m\u001b[0;34m\u001b[0m\u001b[0;34m\u001b[0m\u001b[0m\n\u001b[0m\u001b[1;32m   1384\u001b[0m         \u001b[0;32mif\u001b[0m \u001b[0maxt\u001b[0m\u001b[0;34m.\u001b[0m\u001b[0mndim\u001b[0m \u001b[0;34m==\u001b[0m \u001b[0;36m1\u001b[0m\u001b[0;34m:\u001b[0m\u001b[0;34m\u001b[0m\u001b[0;34m\u001b[0m\u001b[0m\n\u001b[1;32m   1385\u001b[0m             \u001b[0maxt\u001b[0m \u001b[0;34m=\u001b[0m \u001b[0maxt\u001b[0m\u001b[0;34m.\u001b[0m\u001b[0mreshape\u001b[0m\u001b[0;34m(\u001b[0m\u001b[0;36m1\u001b[0m\u001b[0;34m,\u001b[0m\u001b[0mndim\u001b[0m\u001b[0;34m)\u001b[0m\u001b[0;34m\u001b[0m\u001b[0;34m\u001b[0m\u001b[0m\n",
      "\u001b[0;32m~/anaconda3/lib/python3.8/site-packages/pyscf/scf/cphf.py\u001b[0m in \u001b[0;36mvind_vo\u001b[0;34m(mo1)\u001b[0m\n\u001b[1;32m    102\u001b[0m \u001b[0;34m\u001b[0m\u001b[0m\n\u001b[1;32m    103\u001b[0m     \u001b[0;32mdef\u001b[0m \u001b[0mvind_vo\u001b[0m\u001b[0;34m(\u001b[0m\u001b[0mmo1\u001b[0m\u001b[0;34m)\u001b[0m\u001b[0;34m:\u001b[0m\u001b[0;34m\u001b[0m\u001b[0;34m\u001b[0m\u001b[0m\n\u001b[0;32m--> 104\u001b[0;31m         \u001b[0mv\u001b[0m \u001b[0;34m=\u001b[0m \u001b[0mfvind\u001b[0m\u001b[0;34m(\u001b[0m\u001b[0mmo1\u001b[0m\u001b[0;34m.\u001b[0m\u001b[0mreshape\u001b[0m\u001b[0;34m(\u001b[0m\u001b[0mh1\u001b[0m\u001b[0;34m.\u001b[0m\u001b[0mshape\u001b[0m\u001b[0;34m)\u001b[0m\u001b[0;34m)\u001b[0m\u001b[0;34m.\u001b[0m\u001b[0mreshape\u001b[0m\u001b[0;34m(\u001b[0m\u001b[0;34m-\u001b[0m\u001b[0;36m1\u001b[0m\u001b[0;34m,\u001b[0m\u001b[0mnmo\u001b[0m\u001b[0;34m,\u001b[0m\u001b[0mnocc\u001b[0m\u001b[0;34m)\u001b[0m\u001b[0;34m\u001b[0m\u001b[0;34m\u001b[0m\u001b[0m\n\u001b[0m\u001b[1;32m    105\u001b[0m         \u001b[0mv\u001b[0m\u001b[0;34m[\u001b[0m\u001b[0;34m:\u001b[0m\u001b[0;34m,\u001b[0m\u001b[0mviridx\u001b[0m\u001b[0;34m,\u001b[0m\u001b[0;34m:\u001b[0m\u001b[0;34m]\u001b[0m \u001b[0;34m*=\u001b[0m \u001b[0me_ai\u001b[0m\u001b[0;34m\u001b[0m\u001b[0;34m\u001b[0m\u001b[0m\n\u001b[1;32m    106\u001b[0m         \u001b[0mv\u001b[0m\u001b[0;34m[\u001b[0m\u001b[0;34m:\u001b[0m\u001b[0;34m,\u001b[0m\u001b[0moccidx\u001b[0m\u001b[0;34m,\u001b[0m\u001b[0;34m:\u001b[0m\u001b[0;34m]\u001b[0m \u001b[0;34m=\u001b[0m \u001b[0;36m0\u001b[0m\u001b[0;34m\u001b[0m\u001b[0;34m\u001b[0m\u001b[0m\n",
      "\u001b[0;32m~/anaconda3/lib/python3.8/site-packages/pyscf/hessian/rhf.py\u001b[0m in \u001b[0;36mfx\u001b[0;34m(mo1)\u001b[0m\n\u001b[1;32m    372\u001b[0m             \u001b[0mdm\u001b[0m \u001b[0;34m=\u001b[0m \u001b[0mreduce\u001b[0m\u001b[0;34m(\u001b[0m\u001b[0mnumpy\u001b[0m\u001b[0;34m.\u001b[0m\u001b[0mdot\u001b[0m\u001b[0;34m,\u001b[0m \u001b[0;34m(\u001b[0m\u001b[0mmo_coeff\u001b[0m\u001b[0;34m,\u001b[0m \u001b[0mx\u001b[0m\u001b[0;34m*\u001b[0m\u001b[0;36m2\u001b[0m\u001b[0;34m,\u001b[0m \u001b[0mmocc\u001b[0m\u001b[0;34m.\u001b[0m\u001b[0mT\u001b[0m\u001b[0;34m)\u001b[0m\u001b[0;34m)\u001b[0m \u001b[0;31m# *2 for double occupancy\u001b[0m\u001b[0;34m\u001b[0m\u001b[0;34m\u001b[0m\u001b[0m\n\u001b[1;32m    373\u001b[0m             \u001b[0mdm1\u001b[0m\u001b[0;34m[\u001b[0m\u001b[0mi\u001b[0m\u001b[0;34m]\u001b[0m \u001b[0;34m=\u001b[0m \u001b[0mdm\u001b[0m \u001b[0;34m+\u001b[0m \u001b[0mdm\u001b[0m\u001b[0;34m.\u001b[0m\u001b[0mT\u001b[0m\u001b[0;34m\u001b[0m\u001b[0;34m\u001b[0m\u001b[0m\n\u001b[0;32m--> 374\u001b[0;31m         \u001b[0mv1\u001b[0m \u001b[0;34m=\u001b[0m \u001b[0mvresp\u001b[0m\u001b[0;34m(\u001b[0m\u001b[0mdm1\u001b[0m\u001b[0;34m)\u001b[0m\u001b[0;34m\u001b[0m\u001b[0;34m\u001b[0m\u001b[0m\n\u001b[0m\u001b[1;32m    375\u001b[0m         \u001b[0mv1vo\u001b[0m \u001b[0;34m=\u001b[0m \u001b[0mnumpy\u001b[0m\u001b[0;34m.\u001b[0m\u001b[0mempty_like\u001b[0m\u001b[0;34m(\u001b[0m\u001b[0mmo1\u001b[0m\u001b[0;34m)\u001b[0m\u001b[0;34m\u001b[0m\u001b[0;34m\u001b[0m\u001b[0m\n\u001b[1;32m    376\u001b[0m         \u001b[0;32mfor\u001b[0m \u001b[0mi\u001b[0m\u001b[0;34m,\u001b[0m \u001b[0mx\u001b[0m \u001b[0;32min\u001b[0m \u001b[0menumerate\u001b[0m\u001b[0;34m(\u001b[0m\u001b[0mv1\u001b[0m\u001b[0;34m)\u001b[0m\u001b[0;34m:\u001b[0m\u001b[0;34m\u001b[0m\u001b[0;34m\u001b[0m\u001b[0m\n",
      "\u001b[0;32m~/anaconda3/lib/python3.8/site-packages/pyscf/scf/_response_functions.py\u001b[0m in \u001b[0;36mvind\u001b[0;34m(dm1)\u001b[0m\n\u001b[1;32m     84\u001b[0m                 \u001b[0;32mif\u001b[0m \u001b[0mhybrid\u001b[0m\u001b[0;34m:\u001b[0m\u001b[0;34m\u001b[0m\u001b[0;34m\u001b[0m\u001b[0m\n\u001b[1;32m     85\u001b[0m                     \u001b[0;32mif\u001b[0m \u001b[0mhermi\u001b[0m \u001b[0;34m!=\u001b[0m \u001b[0;36m2\u001b[0m\u001b[0;34m:\u001b[0m\u001b[0;34m\u001b[0m\u001b[0;34m\u001b[0m\u001b[0m\n\u001b[0;32m---> 86\u001b[0;31m                         \u001b[0mvj\u001b[0m\u001b[0;34m,\u001b[0m \u001b[0mvk\u001b[0m \u001b[0;34m=\u001b[0m \u001b[0mmf\u001b[0m\u001b[0;34m.\u001b[0m\u001b[0mget_jk\u001b[0m\u001b[0;34m(\u001b[0m\u001b[0mmol\u001b[0m\u001b[0;34m,\u001b[0m \u001b[0mdm1\u001b[0m\u001b[0;34m,\u001b[0m \u001b[0mhermi\u001b[0m\u001b[0;34m=\u001b[0m\u001b[0mhermi\u001b[0m\u001b[0;34m)\u001b[0m\u001b[0;34m\u001b[0m\u001b[0;34m\u001b[0m\u001b[0m\n\u001b[0m\u001b[1;32m     87\u001b[0m                         \u001b[0mvk\u001b[0m \u001b[0;34m*=\u001b[0m \u001b[0mhyb\u001b[0m\u001b[0;34m\u001b[0m\u001b[0;34m\u001b[0m\u001b[0m\n\u001b[1;32m     88\u001b[0m                         \u001b[0;32mif\u001b[0m \u001b[0momega\u001b[0m \u001b[0;34m>\u001b[0m \u001b[0;36m1e-10\u001b[0m\u001b[0;34m:\u001b[0m  \u001b[0;31m# For range separated Coulomb\u001b[0m\u001b[0;34m\u001b[0m\u001b[0;34m\u001b[0m\u001b[0m\n",
      "\u001b[0;32m~/anaconda3/lib/python3.8/site-packages/pyscf/scf/hf.py\u001b[0m in \u001b[0;36mget_jk\u001b[0;34m(self, mol, dm, hermi, with_j, with_k, omega)\u001b[0m\n\u001b[1;32m   2053\u001b[0m             \u001b[0mvj\u001b[0m\u001b[0;34m,\u001b[0m \u001b[0mvk\u001b[0m \u001b[0;34m=\u001b[0m \u001b[0mdot_eri_dm\u001b[0m\u001b[0;34m(\u001b[0m\u001b[0mself\u001b[0m\u001b[0;34m.\u001b[0m\u001b[0m_eri\u001b[0m\u001b[0;34m,\u001b[0m \u001b[0mdm\u001b[0m\u001b[0;34m,\u001b[0m \u001b[0mhermi\u001b[0m\u001b[0;34m,\u001b[0m \u001b[0mwith_j\u001b[0m\u001b[0;34m,\u001b[0m \u001b[0mwith_k\u001b[0m\u001b[0;34m)\u001b[0m\u001b[0;34m\u001b[0m\u001b[0;34m\u001b[0m\u001b[0m\n\u001b[1;32m   2054\u001b[0m         \u001b[0;32melse\u001b[0m\u001b[0;34m:\u001b[0m\u001b[0;34m\u001b[0m\u001b[0;34m\u001b[0m\u001b[0m\n\u001b[0;32m-> 2055\u001b[0;31m             \u001b[0mvj\u001b[0m\u001b[0;34m,\u001b[0m \u001b[0mvk\u001b[0m \u001b[0;34m=\u001b[0m \u001b[0mSCF\u001b[0m\u001b[0;34m.\u001b[0m\u001b[0mget_jk\u001b[0m\u001b[0;34m(\u001b[0m\u001b[0mself\u001b[0m\u001b[0;34m,\u001b[0m \u001b[0mmol\u001b[0m\u001b[0;34m,\u001b[0m \u001b[0mdm\u001b[0m\u001b[0;34m,\u001b[0m \u001b[0mhermi\u001b[0m\u001b[0;34m,\u001b[0m \u001b[0mwith_j\u001b[0m\u001b[0;34m,\u001b[0m \u001b[0mwith_k\u001b[0m\u001b[0;34m,\u001b[0m \u001b[0momega\u001b[0m\u001b[0;34m)\u001b[0m\u001b[0;34m\u001b[0m\u001b[0;34m\u001b[0m\u001b[0m\n\u001b[0m\u001b[1;32m   2056\u001b[0m         \u001b[0;32mreturn\u001b[0m \u001b[0mvj\u001b[0m\u001b[0;34m,\u001b[0m \u001b[0mvk\u001b[0m\u001b[0;34m\u001b[0m\u001b[0;34m\u001b[0m\u001b[0m\n\u001b[1;32m   2057\u001b[0m \u001b[0;34m\u001b[0m\u001b[0m\n",
      "\u001b[0;32m~/anaconda3/lib/python3.8/site-packages/pyscf/scf/hf.py\u001b[0m in \u001b[0;36mget_jk\u001b[0;34m(self, mol, dm, hermi, with_j, with_k, omega)\u001b[0m\n\u001b[1;32m   1741\u001b[0m \u001b[0;34m\u001b[0m\u001b[0m\n\u001b[1;32m   1742\u001b[0m         \u001b[0;32mif\u001b[0m \u001b[0mwith_j\u001b[0m \u001b[0;32mand\u001b[0m \u001b[0mwith_k\u001b[0m\u001b[0;34m:\u001b[0m\u001b[0;34m\u001b[0m\u001b[0;34m\u001b[0m\u001b[0m\n\u001b[0;32m-> 1743\u001b[0;31m             \u001b[0mvj\u001b[0m\u001b[0;34m,\u001b[0m \u001b[0mvk\u001b[0m \u001b[0;34m=\u001b[0m \u001b[0mget_jk\u001b[0m\u001b[0;34m(\u001b[0m\u001b[0mmol\u001b[0m\u001b[0;34m,\u001b[0m \u001b[0mdm\u001b[0m\u001b[0;34m,\u001b[0m \u001b[0mhermi\u001b[0m\u001b[0;34m,\u001b[0m \u001b[0mself\u001b[0m\u001b[0;34m.\u001b[0m\u001b[0mopt\u001b[0m\u001b[0;34m,\u001b[0m \u001b[0mwith_j\u001b[0m\u001b[0;34m,\u001b[0m \u001b[0mwith_k\u001b[0m\u001b[0;34m,\u001b[0m \u001b[0momega\u001b[0m\u001b[0;34m)\u001b[0m\u001b[0;34m\u001b[0m\u001b[0;34m\u001b[0m\u001b[0m\n\u001b[0m\u001b[1;32m   1744\u001b[0m         \u001b[0;32melse\u001b[0m\u001b[0;34m:\u001b[0m\u001b[0;34m\u001b[0m\u001b[0;34m\u001b[0m\u001b[0m\n\u001b[1;32m   1745\u001b[0m             \u001b[0;32mif\u001b[0m \u001b[0mwith_j\u001b[0m\u001b[0;34m:\u001b[0m\u001b[0;34m\u001b[0m\u001b[0;34m\u001b[0m\u001b[0m\n",
      "\u001b[0;32m~/anaconda3/lib/python3.8/site-packages/pyscf/scf/hf.py\u001b[0m in \u001b[0;36mget_jk\u001b[0;34m(mol, dm, hermi, vhfopt, with_j, with_k, omega)\u001b[0m\n\u001b[1;32m    826\u001b[0m \u001b[0;34m\u001b[0m\u001b[0m\n\u001b[1;32m    827\u001b[0m     \u001b[0;32mif\u001b[0m \u001b[0momega\u001b[0m \u001b[0;32mis\u001b[0m \u001b[0;32mNone\u001b[0m\u001b[0;34m:\u001b[0m\u001b[0;34m\u001b[0m\u001b[0;34m\u001b[0m\u001b[0m\n\u001b[0;32m--> 828\u001b[0;31m         vj, vk = _vhf.direct(dm, mol._atm, mol._bas, mol._env,\n\u001b[0m\u001b[1;32m    829\u001b[0m                              vhfopt, hermi, mol.cart, with_j, with_k)\n\u001b[1;32m    830\u001b[0m     \u001b[0;32melse\u001b[0m\u001b[0;34m:\u001b[0m\u001b[0;34m\u001b[0m\u001b[0;34m\u001b[0m\u001b[0m\n",
      "\u001b[0;32m~/anaconda3/lib/python3.8/site-packages/pyscf/scf/_vhf.py\u001b[0m in \u001b[0;36mdirect\u001b[0;34m(dms, atm, bas, env, vhfopt, hermi, cart, with_j, with_k)\u001b[0m\n\u001b[1;32m    360\u001b[0m     \u001b[0mn_ops\u001b[0m \u001b[0;34m=\u001b[0m \u001b[0mlen\u001b[0m\u001b[0;34m(\u001b[0m\u001b[0mdmsptr\u001b[0m\u001b[0;34m)\u001b[0m\u001b[0;34m\u001b[0m\u001b[0;34m\u001b[0m\u001b[0m\n\u001b[1;32m    361\u001b[0m     \u001b[0mcomp\u001b[0m \u001b[0;34m=\u001b[0m \u001b[0;36m1\u001b[0m\u001b[0;34m\u001b[0m\u001b[0;34m\u001b[0m\u001b[0m\n\u001b[0;32m--> 362\u001b[0;31m     fdrv(cintor, fdot, (ctypes.c_void_p*n_ops)(*fjk),\n\u001b[0m\u001b[1;32m    363\u001b[0m          \u001b[0;34m(\u001b[0m\u001b[0mctypes\u001b[0m\u001b[0;34m.\u001b[0m\u001b[0mc_void_p\u001b[0m\u001b[0;34m*\u001b[0m\u001b[0mn_ops\u001b[0m\u001b[0;34m)\u001b[0m\u001b[0;34m(\u001b[0m\u001b[0;34m*\u001b[0m\u001b[0mdmsptr\u001b[0m\u001b[0;34m)\u001b[0m\u001b[0;34m,\u001b[0m \u001b[0;34m(\u001b[0m\u001b[0mctypes\u001b[0m\u001b[0;34m.\u001b[0m\u001b[0mc_void_p\u001b[0m\u001b[0;34m*\u001b[0m\u001b[0mn_ops\u001b[0m\u001b[0;34m)\u001b[0m\u001b[0;34m(\u001b[0m\u001b[0;34m*\u001b[0m\u001b[0mvjkptr\u001b[0m\u001b[0;34m)\u001b[0m\u001b[0;34m,\u001b[0m\u001b[0;34m\u001b[0m\u001b[0;34m\u001b[0m\u001b[0m\n\u001b[1;32m    364\u001b[0m          \u001b[0mctypes\u001b[0m\u001b[0;34m.\u001b[0m\u001b[0mc_int\u001b[0m\u001b[0;34m(\u001b[0m\u001b[0mn_ops\u001b[0m\u001b[0;34m)\u001b[0m\u001b[0;34m,\u001b[0m \u001b[0mctypes\u001b[0m\u001b[0;34m.\u001b[0m\u001b[0mc_int\u001b[0m\u001b[0;34m(\u001b[0m\u001b[0mcomp\u001b[0m\u001b[0;34m)\u001b[0m\u001b[0;34m,\u001b[0m\u001b[0;34m\u001b[0m\u001b[0;34m\u001b[0m\u001b[0m\n",
      "\u001b[0;31mKeyboardInterrupt\u001b[0m: "
     ]
    }
   ],
   "source": [
    "#ap_an=AP(mf_an_tol,sites=[0,2])\n",
    "ap_tol=AP(mf_tol,sites=[0,1,3])"
   ]
  },
  {
   "cell_type": "code",
   "execution_count": null,
   "id": "8d3dba20",
   "metadata": {},
   "outputs": [],
   "source": [
    "ap_tol.build_all()\n",
    "ap_tol.APDFT1(np.array([-1,0,1])),ap_tol.APDFT2(np.array([-1,0,1])),ap_tol.APDFT3(np.array([-1,0,1])),e_an"
   ]
  },
  {
   "cell_type": "code",
   "execution_count": null,
   "id": "a958f175",
   "metadata": {},
   "outputs": [],
   "source": [
    "ap_tol.APDFT1(np.array([-1,-1,2])),ap_tol.APDFT2(np.array([-1,-1,2])),ap_tol.APDFT3(np.array([-1,-1,2])),e_fen"
   ]
  },
  {
   "cell_type": "code",
   "execution_count": null,
   "id": "a075edd9",
   "metadata": {},
   "outputs": [],
   "source": [
    "from AP_utils import DeltaV"
   ]
  },
  {
   "cell_type": "code",
   "execution_count": null,
   "id": "1fa97f3d",
   "metadata": {},
   "outputs": [],
   "source": [
    "fc_tf=FcM_like(pcx2_tol,fcs=[[0,1,3 ],[-.5,-.5,1 ]])"
   ]
  },
  {
   "cell_type": "code",
   "execution_count": null,
   "id": "457f962a",
   "metadata": {},
   "outputs": [],
   "source": [
    "mf_fc_tf=scf.RKS(fc_tf)\n",
    "mf_fc_tf.xc=\"PBE0\"\n",
    "mf_fc_tf.scf(dm0=(mf_fen_tol.make_rdm1()+mf_tol.make_rdm1())/2)"
   ]
  },
  {
   "cell_type": "code",
   "execution_count": null,
   "id": "dabba632",
   "metadata": {},
   "outputs": [],
   "source": [
    "dV= DeltaV(pcx2_tol,dL=[[0,1,3 ],[-1,-1,2 ] ])"
   ]
  },
  {
   "cell_type": "code",
   "execution_count": null,
   "id": "4a444944",
   "metadata": {},
   "outputs": [],
   "source": [
    "p0=mf_fen_tol.make_rdm1()\n",
    "p1=mf_fc_tf.make_rdm1()"
   ]
  },
  {
   "cell_type": "code",
   "execution_count": null,
   "id": "62950513",
   "metadata": {},
   "outputs": [],
   "source": [
    "#Levy's formula vs True values\n",
    "\n",
    "np.einsum(\"ij,ij\",p1,dV)+mf_tol.e_tot -mf_tol.energy_nuc()+mf_fen_tol.energy_nuc(),e_fen"
   ]
  },
  {
   "cell_type": "code",
   "execution_count": null,
   "id": "14da42a5",
   "metadata": {},
   "outputs": [],
   "source": [
    "ap_tol.APDFT1(np.array([-1,-1,2])),ap_tol.APDFT2(np.array([-1,-1,2])),ap_tol.APDFT3(np.array([-1,-1,2])),e_fen"
   ]
  },
  {
   "cell_type": "markdown",
   "id": "04c75395",
   "metadata": {},
   "source": [
    "Accuracy better than APDFT2"
   ]
  },
  {
   "cell_type": "markdown",
   "id": "e43b9411",
   "metadata": {},
   "source": [
    "# To aniline "
   ]
  },
  {
   "cell_type": "code",
   "execution_count": 28,
   "id": "50c23472",
   "metadata": {},
   "outputs": [],
   "source": [
    "dV1= DeltaV(pcx2_tol,dL=[[0,3 ],[-1,1] ])"
   ]
  },
  {
   "cell_type": "code",
   "execution_count": 29,
   "id": "a07c7b43",
   "metadata": {},
   "outputs": [
    {
     "name": "stdout",
     "output_type": "stream",
     "text": [
      "converged SCF energy = -278.770769457381\n"
     ]
    },
    {
     "data": {
      "text/plain": [
       "-278.77076945738133"
      ]
     },
     "execution_count": 29,
     "metadata": {},
     "output_type": "execute_result"
    }
   ],
   "source": [
    "fc_tf1=FcM_like(pcx2_tol,fcs=[[0,3 ],[-.5,.5 ]])\n",
    "mf_fc_tf1=scf.RKS(fc_tf1)\n",
    "mf_fc_tf1.xc=\"PBE0\"\n",
    "mf_fc_tf1.scf(dm0=(mf_an_tol.make_rdm1()+mf_tol.make_rdm1())/2)"
   ]
  },
  {
   "cell_type": "code",
   "execution_count": 30,
   "id": "2675d40b",
   "metadata": {},
   "outputs": [],
   "source": [
    "p2=mf_fc_tf1.make_rdm1()"
   ]
  },
  {
   "cell_type": "code",
   "execution_count": 31,
   "id": "c203b778",
   "metadata": {},
   "outputs": [
    {
     "data": {
      "text/plain": [
       "(-287.38576443088675, -287.36147248097086)"
      ]
     },
     "execution_count": 31,
     "metadata": {},
     "output_type": "execute_result"
    }
   ],
   "source": [
    "#Levy's formula vs True values\n",
    "np.einsum(\"ij,ij\",p2,dV1)+mf_tol.e_tot -mf_tol.energy_nuc()+mf_an_tol.energy_nuc(),e_an"
   ]
  },
  {
   "cell_type": "code",
   "execution_count": 32,
   "id": "b3d31c25",
   "metadata": {},
   "outputs": [
    {
     "data": {
      "text/plain": [
       "(-284.99588818927543,\n",
       " -287.4710810516354,\n",
       " -287.34238312295787,\n",
       " -287.36147248097086)"
      ]
     },
     "execution_count": 32,
     "metadata": {},
     "output_type": "execute_result"
    }
   ],
   "source": [
    "ap_tol.APDFT1(np.array([-1,0,1])),ap_tol.APDFT2(np.array([-1,0,1])),ap_tol.APDFT3(np.array([-1,0,1])),e_an"
   ]
  },
  {
   "cell_type": "markdown",
   "id": "cd0024ee",
   "metadata": {},
   "source": [
    "ACCURACY is better than APDFT2, APPROXIMATELY apdft3"
   ]
  },
  {
   "cell_type": "code",
   "execution_count": null,
   "id": "d780057d",
   "metadata": {},
   "outputs": [],
   "source": []
  }
 ],
 "metadata": {
  "kernelspec": {
   "display_name": "Python 3 (ipykernel)",
   "language": "python",
   "name": "python3"
  },
  "language_info": {
   "codemirror_mode": {
    "name": "ipython",
    "version": 3
   },
   "file_extension": ".py",
   "mimetype": "text/x-python",
   "name": "python",
   "nbconvert_exporter": "python",
   "pygments_lexer": "ipython3",
   "version": "3.8.13"
  }
 },
 "nbformat": 4,
 "nbformat_minor": 5
}
